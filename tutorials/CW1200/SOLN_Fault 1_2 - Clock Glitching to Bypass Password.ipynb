{
 "cells": [
  {
   "cell_type": "markdown",
   "metadata": {},
   "source": [
    "# Part 1, Topic 2: Clock Glitching to Bypass Password"
   ]
  },
  {
   "cell_type": "markdown",
   "metadata": {},
   "source": [
    "---\n",
    "NOTE: This lab references some (commercial) training material on [ChipWhisperer.io](https://www.ChipWhisperer.io). You can freely execute and use the lab per the open-source license (including using it in your own courses if you distribute similarly), but you must maintain notice about this source location. Consider joining our training course to enjoy the full experience.\n",
    "\n",
    "---"
   ]
  },
  {
   "cell_type": "markdown",
   "metadata": {},
   "source": [
    "**SUMMARY:** *In the previous lab, we learned how clock glitching can be used to cause a target to behave unexpectedly. In this lab, we'll look at a slightly more realistic example - glitching past a password check*\n",
    "\n",
    "**LEARNING OUTCOMES:**\n",
    "\n",
    "* Applying previous glitch settings to new firmware\n",
    "* Checking for success and failure when glitching"
   ]
  },
  {
   "cell_type": "markdown",
   "metadata": {},
   "source": [
    "## Firmware\n",
    "\n",
    "We've already seen how we can insert clock gliches to mess up a calculation that a target is trying to make. While this has many applications, some which will be covered in Fault_201, let's take a look at something a little closer to our original example of glitch vulnerable code: a password check. No need to change out firmware here, we're still using the simpleserial-glitch project (though we'll go through all the build stuff again).\n",
    "\n",
    "The code is as follows for the password check:\n",
    "\n",
    "```C\n",
    "uint8_t password(uint8_t* pw)\n",
    "{\n",
    "    char passwd[] = \"touch\";\n",
    "    char passok = 1;\n",
    "    int cnt;\n",
    "\n",
    "    trigger_high();\n",
    "\n",
    "    //Simple test - doesn't check for too-long password!\n",
    "    for(cnt = 0; cnt < 5; cnt++){\n",
    "        if (pw[cnt] != passwd[cnt]){\n",
    "            passok = 0;\n",
    "        }\n",
    "    }\n",
    "    \n",
    "    trigger_low();\n",
    "    \n",
    "    simpleserial_put('r', 1, (uint8_t*)&passok);\n",
    "    return passok;\n",
    "}\n",
    "```\n",
    "\n",
    "There's really nothing out of the ordinary here - it's just a simple password check. We can communicate with it using the `'p'` command."
   ]
  },
  {
   "cell_type": "code",
   "execution_count": 1,
   "metadata": {
    "execution": {
     "iopub.execute_input": "2025-03-15T00:33:22.606631Z",
     "iopub.status.busy": "2025-03-15T00:33:22.606289Z",
     "iopub.status.idle": "2025-03-15T00:33:22.617653Z",
     "shell.execute_reply": "2025-03-15T00:33:22.616553Z"
    }
   },
   "outputs": [],
   "source": [
    "SCOPETYPE = 'OPENADC'\n",
    "PLATFORM = 'CW308_STM32F4'\n",
    "SS_VER = 'SS_VER_2_1'\n",
    "\n",
    "CRYPTO_TARGET = 'TINYAES128C'\n",
    "allowable_exceptions = None\n",
    "VERSION = 'HARDWARE'\n"
   ]
  },
  {
   "cell_type": "code",
   "execution_count": 2,
   "metadata": {
    "execution": {
     "iopub.execute_input": "2025-03-15T00:33:22.621826Z",
     "iopub.status.busy": "2025-03-15T00:33:22.621154Z",
     "iopub.status.idle": "2025-03-15T00:33:24.643481Z",
     "shell.execute_reply": "2025-03-15T00:33:24.642050Z"
    }
   },
   "outputs": [
    {
     "name": "stdout",
     "output_type": "stream",
     "text": [
      "INFO: Found ChipWhisperer😍\n"
     ]
    },
    {
     "name": "stdout",
     "output_type": "stream",
     "text": [
      "scope.gain.mode                          changed from low                       to high                     \n",
      "scope.gain.gain                          changed from 0                         to 30                       \n",
      "scope.gain.db                            changed from 5.5                       to 24.8359375               \n",
      "scope.adc.basic_mode                     changed from low                       to rising_edge              \n",
      "scope.adc.samples                        changed from 98134                     to 5000                     \n",
      "scope.adc.trig_count                     changed from 11302815                  to 22537378                 \n",
      "scope.clock.adc_src                      changed from clkgen_x1                 to clkgen_x4                \n",
      "scope.clock.adc_freq                     changed from 27596328                  to 29538459                 \n",
      "scope.clock.adc_rate                     changed from 27596328.0                to 29538459.0               \n",
      "scope.clock.clkgen_div                   changed from 1                         to 26                       \n",
      "scope.clock.clkgen_freq                  changed from 192000000.0               to 7384615.384615385        \n",
      "scope.io.tio1                            changed from serial_tx                 to serial_rx                \n",
      "scope.io.tio2                            changed from serial_rx                 to serial_tx                \n",
      "scope.io.hs2                             changed from None                      to clkgen                   \n",
      "scope.glitch.mmcm_locked                 changed from True                      to False                    \n"
     ]
    }
   ],
   "source": [
    "\n",
    "#!/usr/bin/env python\n",
    "# coding: utf-8\n",
    "\n",
    "# In[ ]:\n",
    "\n",
    "\n",
    "import chipwhisperer as cw\n",
    "\n",
    "try:\n",
    "    if not scope.connectStatus:\n",
    "        scope.con()\n",
    "except NameError:\n",
    "    scope = cw.scope(hw_location=(5, 7))\n",
    "\n",
    "try:\n",
    "    if SS_VER == \"SS_VER_2_1\":\n",
    "        target_type = cw.targets.SimpleSerial2\n",
    "    elif SS_VER == \"SS_VER_2_0\":\n",
    "        raise OSError(\"SS_VER_2_0 is deprecated. Use SS_VER_2_1\")\n",
    "    else:\n",
    "        target_type = cw.targets.SimpleSerial\n",
    "except:\n",
    "    SS_VER=\"SS_VER_1_1\"\n",
    "    target_type = cw.targets.SimpleSerial\n",
    "\n",
    "try:\n",
    "    target = cw.target(scope, target_type)\n",
    "except:\n",
    "    print(\"INFO: Caught exception on reconnecting to target - attempting to reconnect to scope first.\")\n",
    "    print(\"INFO: This is a work-around when USB has died without Python knowing. Ignore errors above this line.\")\n",
    "    scope = cw.scope(hw_location=(5, 7))\n",
    "    target = cw.target(scope, target_type)\n",
    "\n",
    "\n",
    "print(\"INFO: Found ChipWhisperer😍\")\n",
    "\n",
    "\n",
    "# In[ ]:\n",
    "\n",
    "\n",
    "if \"STM\" in PLATFORM or PLATFORM == \"CWLITEARM\" or PLATFORM == \"CWNANO\":\n",
    "    prog = cw.programmers.STM32FProgrammer\n",
    "elif PLATFORM == \"CW303\" or PLATFORM == \"CWLITEXMEGA\":\n",
    "    prog = cw.programmers.XMEGAProgrammer\n",
    "elif \"neorv32\" in PLATFORM.lower():\n",
    "    prog = cw.programmers.NEORV32Programmer\n",
    "elif PLATFORM == \"CW308_SAM4S\" or PLATFORM == \"CWHUSKY\":\n",
    "    prog = cw.programmers.SAM4SProgrammer\n",
    "else:\n",
    "    prog = None\n",
    "\n",
    "\n",
    "# In[ ]:\n",
    "\n",
    "\n",
    "import time\n",
    "time.sleep(0.05)\n",
    "scope.default_setup()\n",
    "\n",
    "def reset_target(scope):\n",
    "    if PLATFORM == \"CW303\" or PLATFORM == \"CWLITEXMEGA\":\n",
    "        scope.io.pdic = 'low'\n",
    "        time.sleep(0.1)\n",
    "        scope.io.pdic = 'high_z' #XMEGA doesn't like pdic driven high\n",
    "        time.sleep(0.1) #xmega needs more startup time\n",
    "    elif \"neorv32\" in PLATFORM.lower():\n",
    "        raise IOError(\"Default iCE40 neorv32 build does not have external reset - reprogram device to reset\")\n",
    "    elif PLATFORM == \"CW308_SAM4S\" or PLATFORM == \"CWHUSKY\":\n",
    "        scope.io.nrst = 'low'\n",
    "        time.sleep(0.25)\n",
    "        scope.io.nrst = 'high_z'\n",
    "        time.sleep(0.25)\n",
    "    else:  \n",
    "        scope.io.nrst = 'low'\n",
    "        time.sleep(0.05)\n",
    "        scope.io.nrst = 'high_z'\n",
    "        time.sleep(0.05)\n",
    "\n",
    "\n"
   ]
  },
  {
   "cell_type": "code",
   "execution_count": 3,
   "metadata": {
    "execution": {
     "iopub.execute_input": "2025-03-15T00:33:24.648048Z",
     "iopub.status.busy": "2025-03-15T00:33:24.647058Z",
     "iopub.status.idle": "2025-03-15T00:33:25.630986Z",
     "shell.execute_reply": "2025-03-15T00:33:25.629821Z"
    }
   },
   "outputs": [
    {
     "name": "stdout",
     "output_type": "stream",
     "text": [
      "SS_VER set to SS_VER_2_1"
     ]
    },
    {
     "name": "stdout",
     "output_type": "stream",
     "text": [
      "\n",
      "SS_VER set to SS_VER_2_1\n"
     ]
    },
    {
     "name": "stdout",
     "output_type": "stream",
     "text": [
      "arm-none-eabi-gcc (15:9-2019-q4-0ubuntu1) 9.2.1 20191025 (release) [ARM/arm-9-branch revision 277599"
     ]
    },
    {
     "name": "stdout",
     "output_type": "stream",
     "text": [
      "]\n",
      "Copyright (C) 2019 Free Software Foundation, Inc.\n",
      "This is free software; see the source for copyin"
     ]
    },
    {
     "name": "stdout",
     "output_type": "stream",
     "text": [
      "g conditions.  There is NO\n",
      "warranty; not even for MERCHANTABILITY or FITNESS FOR A PARTICULAR PURPOS"
     ]
    },
    {
     "name": "stdout",
     "output_type": "stream",
     "text": [
      "E.\n",
      "\n"
     ]
    },
    {
     "name": "stdout",
     "output_type": "stream",
     "text": [
      "mkdir -p objdir-CW308_STM32F4 \n"
     ]
    },
    {
     "name": "stdout",
     "output_type": "stream",
     "text": [
      ".\n"
     ]
    },
    {
     "name": "stdout",
     "output_type": "stream",
     "text": [
      "Welcome to another exciting ChipWhisperer target build!!\n"
     ]
    },
    {
     "name": "stdout",
     "output_type": "stream",
     "text": [
      ".\n"
     ]
    },
    {
     "name": "stdout",
     "output_type": "stream",
     "text": [
      ".\n"
     ]
    },
    {
     "name": "stdout",
     "output_type": "stream",
     "text": [
      "Compiling:\n"
     ]
    },
    {
     "name": "stdout",
     "output_type": "stream",
     "text": [
      ".\n"
     ]
    },
    {
     "name": "stdout",
     "output_type": "stream",
     "text": [
      "Compiling:\n"
     ]
    },
    {
     "name": "stdout",
     "output_type": "stream",
     "text": [
      "-en     simpleserial-glitch.c ...\n"
     ]
    },
    {
     "name": "stdout",
     "output_type": "stream",
     "text": [
      "Compiling:\n"
     ]
    },
    {
     "name": "stdout",
     "output_type": "stream",
     "text": [
      "-en     .././simpleserial/simpleserial.c ...\n"
     ]
    },
    {
     "name": "stdout",
     "output_type": "stream",
     "text": [
      "-en     .././hal/chipwhisperer-fw-extra/stm32f4/stm32f4_hal.c ...\n"
     ]
    },
    {
     "name": "stdout",
     "output_type": "stream",
     "text": [
      ".\n"
     ]
    },
    {
     "name": "stdout",
     "output_type": "stream",
     "text": [
      ".\n"
     ]
    },
    {
     "name": "stdout",
     "output_type": "stream",
     "text": [
      "Compiling:\n"
     ]
    },
    {
     "name": "stdout",
     "output_type": "stream",
     "text": [
      "Compiling:\n"
     ]
    },
    {
     "name": "stdout",
     "output_type": "stream",
     "text": [
      "-en     .././hal/chipwhisperer-fw-extra/stm32f4/stm32f4_hal_lowlevel.c ...\n"
     ]
    },
    {
     "name": "stdout",
     "output_type": "stream",
     "text": [
      "-en     .././hal/chipwhisperer-fw-extra/stm32f4/stm32f4_sysmem.c ...\n"
     ]
    },
    {
     "name": "stderr",
     "output_type": "stream",
     "text": [
      "In file included from .././hal/chipwhisperer-fw-extra/stm32f4/stm32f4_hal_lowlevel.c:39:\n",
      ".././hal/ch"
     ]
    },
    {
     "name": "stderr",
     "output_type": "stream",
     "text": [
      "ipwhisperer-fw-extra/stm32f4/stm32f4_hal_lowlevel.h:108: warning: \"STM32F415xx\" redefined\n",
      "  108 | #d"
     ]
    },
    {
     "name": "stderr",
     "output_type": "stream",
     "text": [
      "efine STM32F415xx\n",
      "      | \n",
      "In file included from .././hal/chipwhisperer-fw-extra/stm32f4/stm32f4_hal"
     ]
    },
    {
     "name": "stderr",
     "output_type": "stream",
     "text": [
      ".c:3:\n",
      ".././hal/chipwhisperer-fw-extra/stm32f4/stm32f4_hal_lowlevel.h:108: warning: \"STM32F415xx\" red"
     ]
    },
    {
     "name": "stderr",
     "output_type": "stream",
     "text": [
      "efined\n",
      "  108 | #define STM32F415xx\n",
      "      | \n",
      "<command-line>: note: this is the location of the previo"
     ]
    },
    {
     "name": "stderr",
     "output_type": "stream",
     "text": [
      "us definition\n"
     ]
    },
    {
     "name": "stderr",
     "output_type": "stream",
     "text": [
      "<command-line>: note: this is the location of the previous definition\n"
     ]
    },
    {
     "name": "stdout",
     "output_type": "stream",
     "text": [
      ".\n"
     ]
    },
    {
     "name": "stdout",
     "output_type": "stream",
     "text": [
      ".\n"
     ]
    },
    {
     "name": "stdout",
     "output_type": "stream",
     "text": [
      "Compiling:\n"
     ]
    },
    {
     "name": "stdout",
     "output_type": "stream",
     "text": [
      "Assembling: .././hal/chipwhisperer-fw-extra/stm32f4/stm32f4_startup.S\n"
     ]
    },
    {
     "name": "stdout",
     "output_type": "stream",
     "text": [
      "arm-none-eabi-gcc -c -mcpu=cortex-m4 -I. -x assembler-with-cpp -mthumb -mfloat-abi=soft -fmessage-le"
     ]
    },
    {
     "name": "stdout",
     "output_type": "stream",
     "text": [
      "ngth=0 -ffunction-sections -DF_CPU=7372800 -Wa,-gstabs,-adhlns=objdir-CW308_STM32F4/stm32f4_startup."
     ]
    },
    {
     "name": "stdout",
     "output_type": "stream",
     "text": [
      "lst -I.././simpleserial/ -I.././hal/chipwhisperer-fw-extra -I.././hal/ -I.././hal/chipwhisperer-fw-e"
     ]
    },
    {
     "name": "stdout",
     "output_type": "stream",
     "text": [
      "xtra/stm32f4 -I.././hal/chipwhisperer-fw-extra/stm32f4/CMSIS -I.././hal/chipwhisperer-fw-extra/stm32"
     ]
    },
    {
     "name": "stdout",
     "output_type": "stream",
     "text": [
      "f4/CMSIS/core -I.././hal/chipwhisperer-fw-extra/stm32f4/CMSIS/device -I.././hal/chipwhisperer-fw-ext"
     ]
    },
    {
     "name": "stdout",
     "output_type": "stream",
     "text": [
      "ra/stm32f4/Legacy -I.././simpleserial/ -I.././crypto/ .././hal/chipwhisperer-fw-extra/stm32f4/stm32f"
     ]
    },
    {
     "name": "stdout",
     "output_type": "stream",
     "text": [
      "4_startup.S -o objdir-CW308_STM32F4/stm32f4_startup.o\n"
     ]
    },
    {
     "name": "stdout",
     "output_type": "stream",
     "text": [
      "-en     .././hal/chipwhisperer-fw-extra/stm32f4/stm32f4xx_hal_rng.c ...\n"
     ]
    },
    {
     "name": "stdout",
     "output_type": "stream",
     "text": [
      "-e Done!\n"
     ]
    },
    {
     "name": "stdout",
     "output_type": "stream",
     "text": [
      "-e Done!\n"
     ]
    },
    {
     "name": "stdout",
     "output_type": "stream",
     "text": [
      "-e Done!\n"
     ]
    },
    {
     "name": "stdout",
     "output_type": "stream",
     "text": [
      "-e Done!\n"
     ]
    },
    {
     "name": "stdout",
     "output_type": "stream",
     "text": [
      "-e Done!\n"
     ]
    },
    {
     "name": "stdout",
     "output_type": "stream",
     "text": [
      "-e Done!\n"
     ]
    },
    {
     "name": "stdout",
     "output_type": "stream",
     "text": [
      ".\n"
     ]
    },
    {
     "name": "stdout",
     "output_type": "stream",
     "text": [
      "LINKING:\n"
     ]
    },
    {
     "name": "stdout",
     "output_type": "stream",
     "text": [
      "-en     simpleserial-glitch-CW308_STM32F4.elf ...\n"
     ]
    },
    {
     "name": "stdout",
     "output_type": "stream",
     "text": [
      "-e Done!\n"
     ]
    },
    {
     "name": "stdout",
     "output_type": "stream",
     "text": [
      ".\n",
      ".\n",
      ".\n"
     ]
    },
    {
     "name": "stdout",
     "output_type": "stream",
     "text": [
      "Creating load file for Flash: simpleserial-glitch-CW308_STM32F4.hex\n"
     ]
    },
    {
     "name": "stdout",
     "output_type": "stream",
     "text": [
      "Creating load file for Flash: simpleserial-glitch-CW308_STM32F4.bin\n"
     ]
    },
    {
     "name": "stdout",
     "output_type": "stream",
     "text": [
      "arm-none-eabi-objcopy -O ihex -R .eeprom -R .fuse -R .lock -R .signature simpleserial-glitch-CW308_S"
     ]
    },
    {
     "name": "stdout",
     "output_type": "stream",
     "text": [
      "TM32F4.elf simpleserial-glitch-CW308_STM32F4.hex\n",
      "Creating load file for EEPROM: simpleserial-glitch-"
     ]
    },
    {
     "name": "stdout",
     "output_type": "stream",
     "text": [
      "CW308_STM32F4.eep\n",
      "arm-none-eabi-objcopy -j .eeprom --set-section-flags=.eeprom=\"alloc,load\" \\\n",
      "--chan"
     ]
    },
    {
     "name": "stdout",
     "output_type": "stream",
     "text": [
      "ge-section-lma .eeprom=0 --no-change-warnings -O ihex simpleserial-glitch-CW308_STM32F4.elf simplese"
     ]
    },
    {
     "name": "stdout",
     "output_type": "stream",
     "text": [
      "rial-glitch-CW308_STM32F4.eep || exit 0\n"
     ]
    },
    {
     "name": "stdout",
     "output_type": "stream",
     "text": [
      ".\n"
     ]
    },
    {
     "name": "stdout",
     "output_type": "stream",
     "text": [
      "arm-none-eabi-objcopy -O binary -R .eeprom -R .fuse -R .lock -R .signature simpleserial-glitch-CW308"
     ]
    },
    {
     "name": "stdout",
     "output_type": "stream",
     "text": [
      "_STM32F4.elf simpleserial-glitch-CW308_STM32F4.bin\n",
      ".\n"
     ]
    },
    {
     "name": "stdout",
     "output_type": "stream",
     "text": [
      "Creating Extended Listing: simpleserial-glitch-CW308_STM32F4.lss\n"
     ]
    },
    {
     "name": "stdout",
     "output_type": "stream",
     "text": [
      "arm-none-eabi-objdump -h -S -z simpleserial-glitch-CW308_STM32F4.elf > simpleserial-glitch-CW308_STM"
     ]
    },
    {
     "name": "stdout",
     "output_type": "stream",
     "text": [
      "32F4.lss\n"
     ]
    },
    {
     "name": "stdout",
     "output_type": "stream",
     "text": [
      "Creating Symbol Table: simpleserial-glitch-CW308_STM32F4.sym\n",
      "arm-none-eabi-nm -n simpleserial-glitch"
     ]
    },
    {
     "name": "stdout",
     "output_type": "stream",
     "text": [
      "-CW308_STM32F4.elf > simpleserial-glitch-CW308_STM32F4.sym\n"
     ]
    },
    {
     "name": "stdout",
     "output_type": "stream",
     "text": [
      "Size after:\n"
     ]
    },
    {
     "name": "stdout",
     "output_type": "stream",
     "text": [
      "   text\t   data\t    bss\t    dec\t    hex\tfilename\n",
      "   4708\t   1084\t   1344\t   7136\t   1be0\tsimpleseria"
     ]
    },
    {
     "name": "stdout",
     "output_type": "stream",
     "text": [
      "l-glitch-CW308_STM32F4.elf\n"
     ]
    },
    {
     "name": "stdout",
     "output_type": "stream",
     "text": [
      "+--------------------------------------------------------\n"
     ]
    },
    {
     "name": "stdout",
     "output_type": "stream",
     "text": [
      "+ Default target does full rebuild each time.\n",
      "+ Specify buildtarget == allquick == to avoid full reb"
     ]
    },
    {
     "name": "stdout",
     "output_type": "stream",
     "text": [
      "uild\n"
     ]
    },
    {
     "name": "stdout",
     "output_type": "stream",
     "text": [
      "+--------------------------------------------------------\n",
      "+-----------------------------------------"
     ]
    },
    {
     "name": "stdout",
     "output_type": "stream",
     "text": [
      "---------------\n"
     ]
    },
    {
     "name": "stdout",
     "output_type": "stream",
     "text": [
      "+ Built for platform CW308T: STM32F4 Target with:\n"
     ]
    },
    {
     "name": "stdout",
     "output_type": "stream",
     "text": [
      "+ CRYPTO_TARGET = NONE\n",
      "+ CRYPTO_OPTIONS = \n"
     ]
    },
    {
     "name": "stdout",
     "output_type": "stream",
     "text": [
      "+--------------------------------------------------------\n"
     ]
    }
   ],
   "source": [
    "%%bash -s \"$PLATFORM\" \"$SS_VER\"\n",
    "cd ../../../firmware/mcu/simpleserial-glitch\n",
    "make PLATFORM=$1 CRYPTO_TARGET=NONE SS_VER=$2 -j"
   ]
  },
  {
   "cell_type": "code",
   "execution_count": 4,
   "metadata": {
    "execution": {
     "iopub.execute_input": "2025-03-15T00:33:25.634701Z",
     "iopub.status.busy": "2025-03-15T00:33:25.634347Z",
     "iopub.status.idle": "2025-03-15T00:33:45.855945Z",
     "shell.execute_reply": "2025-03-15T00:33:45.853670Z"
    }
   },
   "outputs": [
    {
     "name": "stdout",
     "output_type": "stream",
     "text": [
      "Detected known STMF32: STM32F40xxx/41xxx\n",
      "Extended erase (0x44), this can take ten seconds or more\n"
     ]
    },
    {
     "name": "stdout",
     "output_type": "stream",
     "text": [
      "Attempting to program 5791 bytes at 0x8000000\n",
      "STM32F Programming flash...\n"
     ]
    },
    {
     "name": "stdout",
     "output_type": "stream",
     "text": [
      "STM32F Reading flash...\n"
     ]
    },
    {
     "name": "stdout",
     "output_type": "stream",
     "text": [
      "Verified flash OK, 5791 bytes\n"
     ]
    }
   ],
   "source": [
    "fw_path = \"../../../firmware/mcu/simpleserial-glitch/simpleserial-glitch-{}.hex\".format(PLATFORM)\n",
    "cw.program_target(scope, prog, fw_path)\n",
    "if SS_VER == 'SS_VER_2_1':\n",
    "    target.reset_comms()"
   ]
  },
  {
   "cell_type": "code",
   "execution_count": 5,
   "metadata": {
    "execution": {
     "iopub.execute_input": "2025-03-15T00:33:45.864302Z",
     "iopub.status.busy": "2025-03-15T00:33:45.862849Z",
     "iopub.status.idle": "2025-03-15T00:33:45.873039Z",
     "shell.execute_reply": "2025-03-15T00:33:45.870899Z"
    }
   },
   "outputs": [],
   "source": [
    "def reboot_flush():\n",
    "    reset_target(scope)\n",
    "    #Flush garbage too\n",
    "    target.flush()"
   ]
  },
  {
   "cell_type": "markdown",
   "metadata": {},
   "source": [
    "If we send a wrong password:"
   ]
  },
  {
   "cell_type": "code",
   "execution_count": 6,
   "metadata": {
    "execution": {
     "iopub.execute_input": "2025-03-15T00:33:45.880141Z",
     "iopub.status.busy": "2025-03-15T00:33:45.878638Z",
     "iopub.status.idle": "2025-03-15T00:33:45.898751Z",
     "shell.execute_reply": "2025-03-15T00:33:45.896478Z"
    }
   },
   "outputs": [
    {
     "name": "stdout",
     "output_type": "stream",
     "text": [
      "{'valid': True, 'payload': CWbytearray(b'00'), 'full_response': CWbytearray(b'00 72 01 00 99 00'), 'rv': bytearray(b'\\x00')}\n"
     ]
    }
   ],
   "source": [
    "#Do glitch loop\n",
    "pw = bytearray([0x00]*5)\n",
    "target.simpleserial_write('p', pw)\n",
    "\n",
    "val = target.simpleserial_read_witherrors('r', 1, glitch_timeout=10)#For loop check\n",
    "valid = val['valid']\n",
    "if valid:\n",
    "    response = val['payload']\n",
    "    raw_serial = val['full_response']\n",
    "    error_code = val['rv']\n",
    "\n",
    "print(val)\n",
    "#print(bytearray(val['full_response'].encode('latin-1')))"
   ]
  },
  {
   "cell_type": "markdown",
   "metadata": {},
   "source": [
    "We get a response of zero. But if we send the correct password:"
   ]
  },
  {
   "cell_type": "code",
   "execution_count": 7,
   "metadata": {
    "execution": {
     "iopub.execute_input": "2025-03-15T00:33:45.906363Z",
     "iopub.status.busy": "2025-03-15T00:33:45.904546Z",
     "iopub.status.idle": "2025-03-15T00:33:45.924531Z",
     "shell.execute_reply": "2025-03-15T00:33:45.922354Z"
    }
   },
   "outputs": [
    {
     "name": "stdout",
     "output_type": "stream",
     "text": [
      "{'valid': True, 'payload': CWbytearray(b'01'), 'full_response': CWbytearray(b'00 72 01 01 d4 00'), 'rv': bytearray(b'\\x00')}\n"
     ]
    }
   ],
   "source": [
    "#Do glitch loop\n",
    "pw = bytearray([0x74, 0x6F, 0x75, 0x63, 0x68]) # correct password ASCII representation\n",
    "target.simpleserial_write('p', pw)\n",
    "\n",
    "val = target.simpleserial_read_witherrors('r', 1, glitch_timeout=10)#For loop check\n",
    "valid = val['valid']\n",
    "if valid:\n",
    "    response = val['payload']\n",
    "    raw_serial = val['full_response']\n",
    "    error_code = val['rv']\n",
    "\n",
    "print(val)"
   ]
  },
  {
   "cell_type": "markdown",
   "metadata": {},
   "source": [
    "We get a 1 back. Set the glitch up as in the previous part:"
   ]
  },
  {
   "cell_type": "code",
   "execution_count": 8,
   "metadata": {
    "execution": {
     "iopub.execute_input": "2025-03-15T00:33:45.932481Z",
     "iopub.status.busy": "2025-03-15T00:33:45.930473Z",
     "iopub.status.idle": "2025-03-15T00:33:46.415069Z",
     "shell.execute_reply": "2025-03-15T00:33:46.412883Z"
    }
   },
   "outputs": [],
   "source": [
    "scope.cglitch_setup()"
   ]
  },
  {
   "cell_type": "markdown",
   "metadata": {},
   "source": [
    "Update the code below to also add an ext offset parameter:"
   ]
  },
  {
   "cell_type": "code",
   "execution_count": 9,
   "metadata": {
    "execution": {
     "iopub.execute_input": "2025-03-15T00:33:46.422197Z",
     "iopub.status.busy": "2025-03-15T00:33:46.421100Z",
     "iopub.status.idle": "2025-03-15T00:33:46.498470Z",
     "shell.execute_reply": "2025-03-15T00:33:46.493030Z"
    }
   },
   "outputs": [
    {
     "data": {
      "application/vnd.jupyter.widget-view+json": {
       "model_id": "83d04ad4956c492ba383d483114aca30",
       "version_major": 2,
       "version_minor": 0
      },
      "text/plain": [
       "IntText(value=0, description='success count:', disabled=True)"
      ]
     },
     "metadata": {},
     "output_type": "display_data"
    },
    {
     "data": {
      "application/vnd.jupyter.widget-view+json": {
       "model_id": "db66657a098247c6b261317eb4fc539c",
       "version_major": 2,
       "version_minor": 0
      },
      "text/plain": [
       "IntText(value=0, description='reset count:', disabled=True)"
      ]
     },
     "metadata": {},
     "output_type": "display_data"
    },
    {
     "data": {
      "application/vnd.jupyter.widget-view+json": {
       "model_id": "68919f597b944186baedddc5b74dd524",
       "version_major": 2,
       "version_minor": 0
      },
      "text/plain": [
       "IntText(value=0, description='normal count:', disabled=True)"
      ]
     },
     "metadata": {},
     "output_type": "display_data"
    },
    {
     "data": {
      "application/vnd.jupyter.widget-view+json": {
       "model_id": "f096ea4a220c4c61bbafb6a1e2894752",
       "version_major": 2,
       "version_minor": 0
      },
      "text/plain": [
       "FloatSlider(value=0.0, continuous_update=False, description='width setting:', disabled=True, max=10.0, readout…"
      ]
     },
     "metadata": {},
     "output_type": "display_data"
    },
    {
     "data": {
      "application/vnd.jupyter.widget-view+json": {
       "model_id": "1b15a6d644e74bbb8a6184bf49a832d0",
       "version_major": 2,
       "version_minor": 0
      },
      "text/plain": [
       "FloatSlider(value=0.0, continuous_update=False, description='offset setting:', disabled=True, max=10.0, readou…"
      ]
     },
     "metadata": {},
     "output_type": "display_data"
    },
    {
     "data": {
      "application/vnd.jupyter.widget-view+json": {
       "model_id": "33032123c9934fcdbde8e787dc2f2f2a",
       "version_major": 2,
       "version_minor": 0
      },
      "text/plain": [
       "FloatSlider(value=0.0, continuous_update=False, description='ext_offset setting:', disabled=True, max=10.0, re…"
      ]
     },
     "metadata": {},
     "output_type": "display_data"
    }
   ],
   "source": [
    "gc = cw.GlitchController(groups=[\"success\", \"reset\", \"normal\"], parameters=[\"width\", \"offset\", \"ext_offset\"])\n",
    "gc.display_stats()"
   ]
  },
  {
   "cell_type": "markdown",
   "metadata": {},
   "source": [
    "Like before, we'll plot our settings. The plot is 2D, so you'll need to make a decision about what to plot. In this case, we'll plot offset and ext_offset, but pick whichever you like:"
   ]
  },
  {
   "cell_type": "code",
   "execution_count": 10,
   "metadata": {
    "execution": {
     "iopub.execute_input": "2025-03-15T00:33:46.505223Z",
     "iopub.status.busy": "2025-03-15T00:33:46.504117Z",
     "iopub.status.idle": "2025-03-15T00:33:50.110654Z",
     "shell.execute_reply": "2025-03-15T00:33:50.109476Z"
    }
   },
   "outputs": [
    {
     "data": {
      "text/html": [
       "<script type=\"esms-options\">{\"shimMode\": true}</script><style>*[data-root-id],\n",
       "*[data-root-id] > * {\n",
       "  box-sizing: border-box;\n",
       "  font-family: var(--jp-ui-font-family);\n",
       "  font-size: var(--jp-ui-font-size1);\n",
       "  color: var(--vscode-editor-foreground, var(--jp-ui-font-color1));\n",
       "}\n",
       "\n",
       "/* Override VSCode background color */\n",
       ".cell-output-ipywidget-background:has(\n",
       "    > .cell-output-ipywidget-background > .lm-Widget > *[data-root-id]\n",
       "  ),\n",
       ".cell-output-ipywidget-background:has(> .lm-Widget > *[data-root-id]) {\n",
       "  background-color: transparent !important;\n",
       "}\n",
       "</style>"
      ]
     },
     "metadata": {},
     "output_type": "display_data"
    },
    {
     "data": {
      "application/javascript": [
       "(function(root) {\n",
       "  function now() {\n",
       "    return new Date();\n",
       "  }\n",
       "\n",
       "  const force = true;\n",
       "  const py_version = '3.6.3'.replace('rc', '-rc.').replace('.dev', '-dev.');\n",
       "  const reloading = false;\n",
       "  const Bokeh = root.Bokeh;\n",
       "\n",
       "  // Set a timeout for this load but only if we are not already initializing\n",
       "  if (typeof (root._bokeh_timeout) === \"undefined\" || (force || !root._bokeh_is_initializing)) {\n",
       "    root._bokeh_timeout = Date.now() + 5000;\n",
       "    root._bokeh_failed_load = false;\n",
       "  }\n",
       "\n",
       "  function run_callbacks() {\n",
       "    try {\n",
       "      root._bokeh_onload_callbacks.forEach(function(callback) {\n",
       "        if (callback != null)\n",
       "          callback();\n",
       "      });\n",
       "    } finally {\n",
       "      delete root._bokeh_onload_callbacks;\n",
       "    }\n",
       "    console.debug(\"Bokeh: all callbacks have finished\");\n",
       "  }\n",
       "\n",
       "  function load_libs(css_urls, js_urls, js_modules, js_exports, callback) {\n",
       "    if (css_urls == null) css_urls = [];\n",
       "    if (js_urls == null) js_urls = [];\n",
       "    if (js_modules == null) js_modules = [];\n",
       "    if (js_exports == null) js_exports = {};\n",
       "\n",
       "    root._bokeh_onload_callbacks.push(callback);\n",
       "\n",
       "    if (root._bokeh_is_loading > 0) {\n",
       "      // Don't load bokeh if it is still initializing\n",
       "      console.debug(\"Bokeh: BokehJS is being loaded, scheduling callback at\", now());\n",
       "      return null;\n",
       "    } else if (js_urls.length === 0 && js_modules.length === 0 && Object.keys(js_exports).length === 0) {\n",
       "      // There is nothing to load\n",
       "      run_callbacks();\n",
       "      return null;\n",
       "    }\n",
       "\n",
       "    function on_load() {\n",
       "      root._bokeh_is_loading--;\n",
       "      if (root._bokeh_is_loading === 0) {\n",
       "        console.debug(\"Bokeh: all BokehJS libraries/stylesheets loaded\");\n",
       "        run_callbacks()\n",
       "      }\n",
       "    }\n",
       "    window._bokeh_on_load = on_load\n",
       "\n",
       "    function on_error(e) {\n",
       "      const src_el = e.srcElement\n",
       "      console.error(\"failed to load \" + (src_el.href || src_el.src));\n",
       "    }\n",
       "\n",
       "    const skip = [];\n",
       "    if (window.requirejs) {\n",
       "      window.requirejs.config({'packages': {}, 'paths': {}, 'shim': {}});\n",
       "      root._bokeh_is_loading = css_urls.length + 0;\n",
       "    } else {\n",
       "      root._bokeh_is_loading = css_urls.length + js_urls.length + js_modules.length + Object.keys(js_exports).length;\n",
       "    }\n",
       "\n",
       "    const existing_stylesheets = []\n",
       "    const links = document.getElementsByTagName('link')\n",
       "    for (let i = 0; i < links.length; i++) {\n",
       "      const link = links[i]\n",
       "      if (link.href != null) {\n",
       "        existing_stylesheets.push(link.href)\n",
       "      }\n",
       "    }\n",
       "    for (let i = 0; i < css_urls.length; i++) {\n",
       "      const url = css_urls[i];\n",
       "      const escaped = encodeURI(url)\n",
       "      if (existing_stylesheets.indexOf(escaped) !== -1) {\n",
       "        on_load()\n",
       "        continue;\n",
       "      }\n",
       "      const element = document.createElement(\"link\");\n",
       "      element.onload = on_load;\n",
       "      element.onerror = on_error;\n",
       "      element.rel = \"stylesheet\";\n",
       "      element.type = \"text/css\";\n",
       "      element.href = url;\n",
       "      console.debug(\"Bokeh: injecting link tag for BokehJS stylesheet: \", url);\n",
       "      document.body.appendChild(element);\n",
       "    }    var existing_scripts = []\n",
       "    const scripts = document.getElementsByTagName('script')\n",
       "    for (let i = 0; i < scripts.length; i++) {\n",
       "      var script = scripts[i]\n",
       "      if (script.src != null) {\n",
       "        existing_scripts.push(script.src)\n",
       "      }\n",
       "    }\n",
       "    for (let i = 0; i < js_urls.length; i++) {\n",
       "      const url = js_urls[i];\n",
       "      const escaped = encodeURI(url)\n",
       "      if (skip.indexOf(escaped) !== -1 || existing_scripts.indexOf(escaped) !== -1) {\n",
       "        if (!window.requirejs) {\n",
       "          on_load();\n",
       "        }\n",
       "        continue;\n",
       "      }\n",
       "      const element = document.createElement('script');\n",
       "      element.onload = on_load;\n",
       "      element.onerror = on_error;\n",
       "      element.async = false;\n",
       "      element.src = url;\n",
       "      console.debug(\"Bokeh: injecting script tag for BokehJS library: \", url);\n",
       "      document.head.appendChild(element);\n",
       "    }\n",
       "    for (let i = 0; i < js_modules.length; i++) {\n",
       "      const url = js_modules[i];\n",
       "      const escaped = encodeURI(url)\n",
       "      if (skip.indexOf(escaped) !== -1 || existing_scripts.indexOf(escaped) !== -1) {\n",
       "        if (!window.requirejs) {\n",
       "          on_load();\n",
       "        }\n",
       "        continue;\n",
       "      }\n",
       "      var element = document.createElement('script');\n",
       "      element.onload = on_load;\n",
       "      element.onerror = on_error;\n",
       "      element.async = false;\n",
       "      element.src = url;\n",
       "      element.type = \"module\";\n",
       "      console.debug(\"Bokeh: injecting script tag for BokehJS library: \", url);\n",
       "      document.head.appendChild(element);\n",
       "    }\n",
       "    for (const name in js_exports) {\n",
       "      const url = js_exports[name];\n",
       "      const escaped = encodeURI(url)\n",
       "      if (skip.indexOf(escaped) >= 0 || root[name] != null) {\n",
       "        if (!window.requirejs) {\n",
       "          on_load();\n",
       "        }\n",
       "        continue;\n",
       "      }\n",
       "      var element = document.createElement('script');\n",
       "      element.onerror = on_error;\n",
       "      element.async = false;\n",
       "      element.type = \"module\";\n",
       "      console.debug(\"Bokeh: injecting script tag for BokehJS library: \", url);\n",
       "      element.textContent = `\n",
       "      import ${name} from \"${url}\"\n",
       "      window.${name} = ${name}\n",
       "      window._bokeh_on_load()\n",
       "      `\n",
       "      document.head.appendChild(element);\n",
       "    }\n",
       "    if (!js_urls.length && !js_modules.length) {\n",
       "      on_load()\n",
       "    }\n",
       "  };\n",
       "\n",
       "  function inject_raw_css(css) {\n",
       "    const element = document.createElement(\"style\");\n",
       "    element.appendChild(document.createTextNode(css));\n",
       "    document.body.appendChild(element);\n",
       "  }\n",
       "\n",
       "  const js_urls = [\"https://cdn.holoviz.org/panel/1.6.1/dist/bundled/reactiveesm/es-module-shims@^1.10.0/dist/es-module-shims.min.js\", \"https://cdn.bokeh.org/bokeh/release/bokeh-3.6.3.min.js\", \"https://cdn.bokeh.org/bokeh/release/bokeh-gl-3.6.3.min.js\", \"https://cdn.bokeh.org/bokeh/release/bokeh-widgets-3.6.3.min.js\", \"https://cdn.bokeh.org/bokeh/release/bokeh-tables-3.6.3.min.js\", \"https://cdn.holoviz.org/panel/1.6.1/dist/panel.min.js\"];\n",
       "  const js_modules = [];\n",
       "  const js_exports = {};\n",
       "  const css_urls = [];\n",
       "  const inline_js = [    function(Bokeh) {\n",
       "      Bokeh.set_log_level(\"info\");\n",
       "    },\n",
       "function(Bokeh) {} // ensure no trailing comma for IE\n",
       "  ];\n",
       "\n",
       "  function run_inline_js() {\n",
       "    if ((root.Bokeh !== undefined) || (force === true)) {\n",
       "      for (let i = 0; i < inline_js.length; i++) {\n",
       "        try {\n",
       "          inline_js[i].call(root, root.Bokeh);\n",
       "        } catch(e) {\n",
       "          if (!reloading) {\n",
       "            throw e;\n",
       "          }\n",
       "        }\n",
       "      }\n",
       "      // Cache old bokeh versions\n",
       "      if (Bokeh != undefined && !reloading) {\n",
       "        var NewBokeh = root.Bokeh;\n",
       "        if (Bokeh.versions === undefined) {\n",
       "          Bokeh.versions = new Map();\n",
       "        }\n",
       "        if (NewBokeh.version !== Bokeh.version) {\n",
       "          Bokeh.versions.set(NewBokeh.version, NewBokeh)\n",
       "        }\n",
       "        root.Bokeh = Bokeh;\n",
       "      }\n",
       "    } else if (Date.now() < root._bokeh_timeout) {\n",
       "      setTimeout(run_inline_js, 100);\n",
       "    } else if (!root._bokeh_failed_load) {\n",
       "      console.log(\"Bokeh: BokehJS failed to load within specified timeout.\");\n",
       "      root._bokeh_failed_load = true;\n",
       "    }\n",
       "    root._bokeh_is_initializing = false\n",
       "  }\n",
       "\n",
       "  function load_or_wait() {\n",
       "    // Implement a backoff loop that tries to ensure we do not load multiple\n",
       "    // versions of Bokeh and its dependencies at the same time.\n",
       "    // In recent versions we use the root._bokeh_is_initializing flag\n",
       "    // to determine whether there is an ongoing attempt to initialize\n",
       "    // bokeh, however for backward compatibility we also try to ensure\n",
       "    // that we do not start loading a newer (Panel>=1.0 and Bokeh>3) version\n",
       "    // before older versions are fully initialized.\n",
       "    if (root._bokeh_is_initializing && Date.now() > root._bokeh_timeout) {\n",
       "      // If the timeout and bokeh was not successfully loaded we reset\n",
       "      // everything and try loading again\n",
       "      root._bokeh_timeout = Date.now() + 5000;\n",
       "      root._bokeh_is_initializing = false;\n",
       "      root._bokeh_onload_callbacks = undefined;\n",
       "      root._bokeh_is_loading = 0\n",
       "      console.log(\"Bokeh: BokehJS was loaded multiple times but one version failed to initialize.\");\n",
       "      load_or_wait();\n",
       "    } else if (root._bokeh_is_initializing || (typeof root._bokeh_is_initializing === \"undefined\" && root._bokeh_onload_callbacks !== undefined)) {\n",
       "      setTimeout(load_or_wait, 100);\n",
       "    } else {\n",
       "      root._bokeh_is_initializing = true\n",
       "      root._bokeh_onload_callbacks = []\n",
       "      const bokeh_loaded = root.Bokeh != null && (root.Bokeh.version === py_version || (root.Bokeh.versions !== undefined && root.Bokeh.versions.has(py_version)));\n",
       "      if (!reloading && !bokeh_loaded) {\n",
       "        if (root.Bokeh) {\n",
       "          root.Bokeh = undefined;\n",
       "        }\n",
       "        console.debug(\"Bokeh: BokehJS not loaded, scheduling load and callback at\", now());\n",
       "      }\n",
       "      load_libs(css_urls, js_urls, js_modules, js_exports, function() {\n",
       "        console.debug(\"Bokeh: BokehJS plotting callback run at\", now());\n",
       "        run_inline_js();\n",
       "      });\n",
       "    }\n",
       "  }\n",
       "  // Give older versions of the autoload script a head-start to ensure\n",
       "  // they initialize before we start loading newer version.\n",
       "  setTimeout(load_or_wait, 100)\n",
       "}(window));"
      ],
      "application/vnd.holoviews_load.v0+json": "(function(root) {\n  function now() {\n    return new Date();\n  }\n\n  const force = true;\n  const py_version = '3.6.3'.replace('rc', '-rc.').replace('.dev', '-dev.');\n  const reloading = false;\n  const Bokeh = root.Bokeh;\n\n  // Set a timeout for this load but only if we are not already initializing\n  if (typeof (root._bokeh_timeout) === \"undefined\" || (force || !root._bokeh_is_initializing)) {\n    root._bokeh_timeout = Date.now() + 5000;\n    root._bokeh_failed_load = false;\n  }\n\n  function run_callbacks() {\n    try {\n      root._bokeh_onload_callbacks.forEach(function(callback) {\n        if (callback != null)\n          callback();\n      });\n    } finally {\n      delete root._bokeh_onload_callbacks;\n    }\n    console.debug(\"Bokeh: all callbacks have finished\");\n  }\n\n  function load_libs(css_urls, js_urls, js_modules, js_exports, callback) {\n    if (css_urls == null) css_urls = [];\n    if (js_urls == null) js_urls = [];\n    if (js_modules == null) js_modules = [];\n    if (js_exports == null) js_exports = {};\n\n    root._bokeh_onload_callbacks.push(callback);\n\n    if (root._bokeh_is_loading > 0) {\n      // Don't load bokeh if it is still initializing\n      console.debug(\"Bokeh: BokehJS is being loaded, scheduling callback at\", now());\n      return null;\n    } else if (js_urls.length === 0 && js_modules.length === 0 && Object.keys(js_exports).length === 0) {\n      // There is nothing to load\n      run_callbacks();\n      return null;\n    }\n\n    function on_load() {\n      root._bokeh_is_loading--;\n      if (root._bokeh_is_loading === 0) {\n        console.debug(\"Bokeh: all BokehJS libraries/stylesheets loaded\");\n        run_callbacks()\n      }\n    }\n    window._bokeh_on_load = on_load\n\n    function on_error(e) {\n      const src_el = e.srcElement\n      console.error(\"failed to load \" + (src_el.href || src_el.src));\n    }\n\n    const skip = [];\n    if (window.requirejs) {\n      window.requirejs.config({'packages': {}, 'paths': {}, 'shim': {}});\n      root._bokeh_is_loading = css_urls.length + 0;\n    } else {\n      root._bokeh_is_loading = css_urls.length + js_urls.length + js_modules.length + Object.keys(js_exports).length;\n    }\n\n    const existing_stylesheets = []\n    const links = document.getElementsByTagName('link')\n    for (let i = 0; i < links.length; i++) {\n      const link = links[i]\n      if (link.href != null) {\n        existing_stylesheets.push(link.href)\n      }\n    }\n    for (let i = 0; i < css_urls.length; i++) {\n      const url = css_urls[i];\n      const escaped = encodeURI(url)\n      if (existing_stylesheets.indexOf(escaped) !== -1) {\n        on_load()\n        continue;\n      }\n      const element = document.createElement(\"link\");\n      element.onload = on_load;\n      element.onerror = on_error;\n      element.rel = \"stylesheet\";\n      element.type = \"text/css\";\n      element.href = url;\n      console.debug(\"Bokeh: injecting link tag for BokehJS stylesheet: \", url);\n      document.body.appendChild(element);\n    }    var existing_scripts = []\n    const scripts = document.getElementsByTagName('script')\n    for (let i = 0; i < scripts.length; i++) {\n      var script = scripts[i]\n      if (script.src != null) {\n        existing_scripts.push(script.src)\n      }\n    }\n    for (let i = 0; i < js_urls.length; i++) {\n      const url = js_urls[i];\n      const escaped = encodeURI(url)\n      if (skip.indexOf(escaped) !== -1 || existing_scripts.indexOf(escaped) !== -1) {\n        if (!window.requirejs) {\n          on_load();\n        }\n        continue;\n      }\n      const element = document.createElement('script');\n      element.onload = on_load;\n      element.onerror = on_error;\n      element.async = false;\n      element.src = url;\n      console.debug(\"Bokeh: injecting script tag for BokehJS library: \", url);\n      document.head.appendChild(element);\n    }\n    for (let i = 0; i < js_modules.length; i++) {\n      const url = js_modules[i];\n      const escaped = encodeURI(url)\n      if (skip.indexOf(escaped) !== -1 || existing_scripts.indexOf(escaped) !== -1) {\n        if (!window.requirejs) {\n          on_load();\n        }\n        continue;\n      }\n      var element = document.createElement('script');\n      element.onload = on_load;\n      element.onerror = on_error;\n      element.async = false;\n      element.src = url;\n      element.type = \"module\";\n      console.debug(\"Bokeh: injecting script tag for BokehJS library: \", url);\n      document.head.appendChild(element);\n    }\n    for (const name in js_exports) {\n      const url = js_exports[name];\n      const escaped = encodeURI(url)\n      if (skip.indexOf(escaped) >= 0 || root[name] != null) {\n        if (!window.requirejs) {\n          on_load();\n        }\n        continue;\n      }\n      var element = document.createElement('script');\n      element.onerror = on_error;\n      element.async = false;\n      element.type = \"module\";\n      console.debug(\"Bokeh: injecting script tag for BokehJS library: \", url);\n      element.textContent = `\n      import ${name} from \"${url}\"\n      window.${name} = ${name}\n      window._bokeh_on_load()\n      `\n      document.head.appendChild(element);\n    }\n    if (!js_urls.length && !js_modules.length) {\n      on_load()\n    }\n  };\n\n  function inject_raw_css(css) {\n    const element = document.createElement(\"style\");\n    element.appendChild(document.createTextNode(css));\n    document.body.appendChild(element);\n  }\n\n  const js_urls = [\"https://cdn.holoviz.org/panel/1.6.1/dist/bundled/reactiveesm/es-module-shims@^1.10.0/dist/es-module-shims.min.js\", \"https://cdn.bokeh.org/bokeh/release/bokeh-3.6.3.min.js\", \"https://cdn.bokeh.org/bokeh/release/bokeh-gl-3.6.3.min.js\", \"https://cdn.bokeh.org/bokeh/release/bokeh-widgets-3.6.3.min.js\", \"https://cdn.bokeh.org/bokeh/release/bokeh-tables-3.6.3.min.js\", \"https://cdn.holoviz.org/panel/1.6.1/dist/panel.min.js\"];\n  const js_modules = [];\n  const js_exports = {};\n  const css_urls = [];\n  const inline_js = [    function(Bokeh) {\n      Bokeh.set_log_level(\"info\");\n    },\nfunction(Bokeh) {} // ensure no trailing comma for IE\n  ];\n\n  function run_inline_js() {\n    if ((root.Bokeh !== undefined) || (force === true)) {\n      for (let i = 0; i < inline_js.length; i++) {\n        try {\n          inline_js[i].call(root, root.Bokeh);\n        } catch(e) {\n          if (!reloading) {\n            throw e;\n          }\n        }\n      }\n      // Cache old bokeh versions\n      if (Bokeh != undefined && !reloading) {\n        var NewBokeh = root.Bokeh;\n        if (Bokeh.versions === undefined) {\n          Bokeh.versions = new Map();\n        }\n        if (NewBokeh.version !== Bokeh.version) {\n          Bokeh.versions.set(NewBokeh.version, NewBokeh)\n        }\n        root.Bokeh = Bokeh;\n      }\n    } else if (Date.now() < root._bokeh_timeout) {\n      setTimeout(run_inline_js, 100);\n    } else if (!root._bokeh_failed_load) {\n      console.log(\"Bokeh: BokehJS failed to load within specified timeout.\");\n      root._bokeh_failed_load = true;\n    }\n    root._bokeh_is_initializing = false\n  }\n\n  function load_or_wait() {\n    // Implement a backoff loop that tries to ensure we do not load multiple\n    // versions of Bokeh and its dependencies at the same time.\n    // In recent versions we use the root._bokeh_is_initializing flag\n    // to determine whether there is an ongoing attempt to initialize\n    // bokeh, however for backward compatibility we also try to ensure\n    // that we do not start loading a newer (Panel>=1.0 and Bokeh>3) version\n    // before older versions are fully initialized.\n    if (root._bokeh_is_initializing && Date.now() > root._bokeh_timeout) {\n      // If the timeout and bokeh was not successfully loaded we reset\n      // everything and try loading again\n      root._bokeh_timeout = Date.now() + 5000;\n      root._bokeh_is_initializing = false;\n      root._bokeh_onload_callbacks = undefined;\n      root._bokeh_is_loading = 0\n      console.log(\"Bokeh: BokehJS was loaded multiple times but one version failed to initialize.\");\n      load_or_wait();\n    } else if (root._bokeh_is_initializing || (typeof root._bokeh_is_initializing === \"undefined\" && root._bokeh_onload_callbacks !== undefined)) {\n      setTimeout(load_or_wait, 100);\n    } else {\n      root._bokeh_is_initializing = true\n      root._bokeh_onload_callbacks = []\n      const bokeh_loaded = root.Bokeh != null && (root.Bokeh.version === py_version || (root.Bokeh.versions !== undefined && root.Bokeh.versions.has(py_version)));\n      if (!reloading && !bokeh_loaded) {\n        if (root.Bokeh) {\n          root.Bokeh = undefined;\n        }\n        console.debug(\"Bokeh: BokehJS not loaded, scheduling load and callback at\", now());\n      }\n      load_libs(css_urls, js_urls, js_modules, js_exports, function() {\n        console.debug(\"Bokeh: BokehJS plotting callback run at\", now());\n        run_inline_js();\n      });\n    }\n  }\n  // Give older versions of the autoload script a head-start to ensure\n  // they initialize before we start loading newer version.\n  setTimeout(load_or_wait, 100)\n}(window));"
     },
     "metadata": {},
     "output_type": "display_data"
    },
    {
     "data": {
      "application/javascript": [
       "\n",
       "if ((window.PyViz === undefined) || (window.PyViz instanceof HTMLElement)) {\n",
       "  window.PyViz = {comms: {}, comm_status:{}, kernels:{}, receivers: {}, plot_index: []}\n",
       "}\n",
       "\n",
       "\n",
       "    function JupyterCommManager() {\n",
       "    }\n",
       "\n",
       "    JupyterCommManager.prototype.register_target = function(plot_id, comm_id, msg_handler) {\n",
       "      if (window.comm_manager || ((window.Jupyter !== undefined) && (Jupyter.notebook.kernel != null))) {\n",
       "        var comm_manager = window.comm_manager || Jupyter.notebook.kernel.comm_manager;\n",
       "        comm_manager.register_target(comm_id, function(comm) {\n",
       "          comm.on_msg(msg_handler);\n",
       "        });\n",
       "      } else if ((plot_id in window.PyViz.kernels) && (window.PyViz.kernels[plot_id])) {\n",
       "        window.PyViz.kernels[plot_id].registerCommTarget(comm_id, function(comm) {\n",
       "          comm.onMsg = msg_handler;\n",
       "        });\n",
       "      } else if (typeof google != 'undefined' && google.colab.kernel != null) {\n",
       "        google.colab.kernel.comms.registerTarget(comm_id, (comm) => {\n",
       "          var messages = comm.messages[Symbol.asyncIterator]();\n",
       "          function processIteratorResult(result) {\n",
       "            var message = result.value;\n",
       "            console.log(message)\n",
       "            var content = {data: message.data, comm_id};\n",
       "            var buffers = []\n",
       "            for (var buffer of message.buffers || []) {\n",
       "              buffers.push(new DataView(buffer))\n",
       "            }\n",
       "            var metadata = message.metadata || {};\n",
       "            var msg = {content, buffers, metadata}\n",
       "            msg_handler(msg);\n",
       "            return messages.next().then(processIteratorResult);\n",
       "          }\n",
       "          return messages.next().then(processIteratorResult);\n",
       "        })\n",
       "      }\n",
       "    }\n",
       "\n",
       "    JupyterCommManager.prototype.get_client_comm = function(plot_id, comm_id, msg_handler) {\n",
       "      if (comm_id in window.PyViz.comms) {\n",
       "        return window.PyViz.comms[comm_id];\n",
       "      } else if (window.comm_manager || ((window.Jupyter !== undefined) && (Jupyter.notebook.kernel != null))) {\n",
       "        var comm_manager = window.comm_manager || Jupyter.notebook.kernel.comm_manager;\n",
       "        var comm = comm_manager.new_comm(comm_id, {}, {}, {}, comm_id);\n",
       "        if (msg_handler) {\n",
       "          comm.on_msg(msg_handler);\n",
       "        }\n",
       "      } else if ((plot_id in window.PyViz.kernels) && (window.PyViz.kernels[plot_id])) {\n",
       "        var comm = window.PyViz.kernels[plot_id].connectToComm(comm_id);\n",
       "        comm.open();\n",
       "        if (msg_handler) {\n",
       "          comm.onMsg = msg_handler;\n",
       "        }\n",
       "      } else if (typeof google != 'undefined' && google.colab.kernel != null) {\n",
       "        var comm_promise = google.colab.kernel.comms.open(comm_id)\n",
       "        comm_promise.then((comm) => {\n",
       "          window.PyViz.comms[comm_id] = comm;\n",
       "          if (msg_handler) {\n",
       "            var messages = comm.messages[Symbol.asyncIterator]();\n",
       "            function processIteratorResult(result) {\n",
       "              var message = result.value;\n",
       "              var content = {data: message.data};\n",
       "              var metadata = message.metadata || {comm_id};\n",
       "              var msg = {content, metadata}\n",
       "              msg_handler(msg);\n",
       "              return messages.next().then(processIteratorResult);\n",
       "            }\n",
       "            return messages.next().then(processIteratorResult);\n",
       "          }\n",
       "        })\n",
       "        var sendClosure = (data, metadata, buffers, disposeOnDone) => {\n",
       "          return comm_promise.then((comm) => {\n",
       "            comm.send(data, metadata, buffers, disposeOnDone);\n",
       "          });\n",
       "        };\n",
       "        var comm = {\n",
       "          send: sendClosure\n",
       "        };\n",
       "      }\n",
       "      window.PyViz.comms[comm_id] = comm;\n",
       "      return comm;\n",
       "    }\n",
       "    window.PyViz.comm_manager = new JupyterCommManager();\n",
       "    \n",
       "\n",
       "\n",
       "var JS_MIME_TYPE = 'application/javascript';\n",
       "var HTML_MIME_TYPE = 'text/html';\n",
       "var EXEC_MIME_TYPE = 'application/vnd.holoviews_exec.v0+json';\n",
       "var CLASS_NAME = 'output';\n",
       "\n",
       "/**\n",
       " * Render data to the DOM node\n",
       " */\n",
       "function render(props, node) {\n",
       "  var div = document.createElement(\"div\");\n",
       "  var script = document.createElement(\"script\");\n",
       "  node.appendChild(div);\n",
       "  node.appendChild(script);\n",
       "}\n",
       "\n",
       "/**\n",
       " * Handle when a new output is added\n",
       " */\n",
       "function handle_add_output(event, handle) {\n",
       "  var output_area = handle.output_area;\n",
       "  var output = handle.output;\n",
       "  if ((output.data == undefined) || (!output.data.hasOwnProperty(EXEC_MIME_TYPE))) {\n",
       "    return\n",
       "  }\n",
       "  var id = output.metadata[EXEC_MIME_TYPE][\"id\"];\n",
       "  var toinsert = output_area.element.find(\".\" + CLASS_NAME.split(' ')[0]);\n",
       "  if (id !== undefined) {\n",
       "    var nchildren = toinsert.length;\n",
       "    var html_node = toinsert[nchildren-1].children[0];\n",
       "    html_node.innerHTML = output.data[HTML_MIME_TYPE];\n",
       "    var scripts = [];\n",
       "    var nodelist = html_node.querySelectorAll(\"script\");\n",
       "    for (var i in nodelist) {\n",
       "      if (nodelist.hasOwnProperty(i)) {\n",
       "        scripts.push(nodelist[i])\n",
       "      }\n",
       "    }\n",
       "\n",
       "    scripts.forEach( function (oldScript) {\n",
       "      var newScript = document.createElement(\"script\");\n",
       "      var attrs = [];\n",
       "      var nodemap = oldScript.attributes;\n",
       "      for (var j in nodemap) {\n",
       "        if (nodemap.hasOwnProperty(j)) {\n",
       "          attrs.push(nodemap[j])\n",
       "        }\n",
       "      }\n",
       "      attrs.forEach(function(attr) { newScript.setAttribute(attr.name, attr.value) });\n",
       "      newScript.appendChild(document.createTextNode(oldScript.innerHTML));\n",
       "      oldScript.parentNode.replaceChild(newScript, oldScript);\n",
       "    });\n",
       "    if (JS_MIME_TYPE in output.data) {\n",
       "      toinsert[nchildren-1].children[1].textContent = output.data[JS_MIME_TYPE];\n",
       "    }\n",
       "    output_area._hv_plot_id = id;\n",
       "    if ((window.Bokeh !== undefined) && (id in Bokeh.index)) {\n",
       "      window.PyViz.plot_index[id] = Bokeh.index[id];\n",
       "    } else {\n",
       "      window.PyViz.plot_index[id] = null;\n",
       "    }\n",
       "  } else if (output.metadata[EXEC_MIME_TYPE][\"server_id\"] !== undefined) {\n",
       "    var bk_div = document.createElement(\"div\");\n",
       "    bk_div.innerHTML = output.data[HTML_MIME_TYPE];\n",
       "    var script_attrs = bk_div.children[0].attributes;\n",
       "    for (var i = 0; i < script_attrs.length; i++) {\n",
       "      toinsert[toinsert.length - 1].childNodes[1].setAttribute(script_attrs[i].name, script_attrs[i].value);\n",
       "    }\n",
       "    // store reference to server id on output_area\n",
       "    output_area._bokeh_server_id = output.metadata[EXEC_MIME_TYPE][\"server_id\"];\n",
       "  }\n",
       "}\n",
       "\n",
       "/**\n",
       " * Handle when an output is cleared or removed\n",
       " */\n",
       "function handle_clear_output(event, handle) {\n",
       "  var id = handle.cell.output_area._hv_plot_id;\n",
       "  var server_id = handle.cell.output_area._bokeh_server_id;\n",
       "  if (((id === undefined) || !(id in PyViz.plot_index)) && (server_id !== undefined)) { return; }\n",
       "  var comm = window.PyViz.comm_manager.get_client_comm(\"hv-extension-comm\", \"hv-extension-comm\", function () {});\n",
       "  if (server_id !== null) {\n",
       "    comm.send({event_type: 'server_delete', 'id': server_id});\n",
       "    return;\n",
       "  } else if (comm !== null) {\n",
       "    comm.send({event_type: 'delete', 'id': id});\n",
       "  }\n",
       "  delete PyViz.plot_index[id];\n",
       "  if ((window.Bokeh !== undefined) & (id in window.Bokeh.index)) {\n",
       "    var doc = window.Bokeh.index[id].model.document\n",
       "    doc.clear();\n",
       "    const i = window.Bokeh.documents.indexOf(doc);\n",
       "    if (i > -1) {\n",
       "      window.Bokeh.documents.splice(i, 1);\n",
       "    }\n",
       "  }\n",
       "}\n",
       "\n",
       "/**\n",
       " * Handle kernel restart event\n",
       " */\n",
       "function handle_kernel_cleanup(event, handle) {\n",
       "  delete PyViz.comms[\"hv-extension-comm\"];\n",
       "  window.PyViz.plot_index = {}\n",
       "}\n",
       "\n",
       "/**\n",
       " * Handle update_display_data messages\n",
       " */\n",
       "function handle_update_output(event, handle) {\n",
       "  handle_clear_output(event, {cell: {output_area: handle.output_area}})\n",
       "  handle_add_output(event, handle)\n",
       "}\n",
       "\n",
       "function register_renderer(events, OutputArea) {\n",
       "  function append_mime(data, metadata, element) {\n",
       "    // create a DOM node to render to\n",
       "    var toinsert = this.create_output_subarea(\n",
       "    metadata,\n",
       "    CLASS_NAME,\n",
       "    EXEC_MIME_TYPE\n",
       "    );\n",
       "    this.keyboard_manager.register_events(toinsert);\n",
       "    // Render to node\n",
       "    var props = {data: data, metadata: metadata[EXEC_MIME_TYPE]};\n",
       "    render(props, toinsert[0]);\n",
       "    element.append(toinsert);\n",
       "    return toinsert\n",
       "  }\n",
       "\n",
       "  events.on('output_added.OutputArea', handle_add_output);\n",
       "  events.on('output_updated.OutputArea', handle_update_output);\n",
       "  events.on('clear_output.CodeCell', handle_clear_output);\n",
       "  events.on('delete.Cell', handle_clear_output);\n",
       "  events.on('kernel_ready.Kernel', handle_kernel_cleanup);\n",
       "\n",
       "  OutputArea.prototype.register_mime_type(EXEC_MIME_TYPE, append_mime, {\n",
       "    safe: true,\n",
       "    index: 0\n",
       "  });\n",
       "}\n",
       "\n",
       "if (window.Jupyter !== undefined) {\n",
       "  try {\n",
       "    var events = require('base/js/events');\n",
       "    var OutputArea = require('notebook/js/outputarea').OutputArea;\n",
       "    if (OutputArea.prototype.mime_types().indexOf(EXEC_MIME_TYPE) == -1) {\n",
       "      register_renderer(events, OutputArea);\n",
       "    }\n",
       "  } catch(err) {\n",
       "  }\n",
       "}\n"
      ],
      "application/vnd.holoviews_load.v0+json": "\nif ((window.PyViz === undefined) || (window.PyViz instanceof HTMLElement)) {\n  window.PyViz = {comms: {}, comm_status:{}, kernels:{}, receivers: {}, plot_index: []}\n}\n\n\n    function JupyterCommManager() {\n    }\n\n    JupyterCommManager.prototype.register_target = function(plot_id, comm_id, msg_handler) {\n      if (window.comm_manager || ((window.Jupyter !== undefined) && (Jupyter.notebook.kernel != null))) {\n        var comm_manager = window.comm_manager || Jupyter.notebook.kernel.comm_manager;\n        comm_manager.register_target(comm_id, function(comm) {\n          comm.on_msg(msg_handler);\n        });\n      } else if ((plot_id in window.PyViz.kernels) && (window.PyViz.kernels[plot_id])) {\n        window.PyViz.kernels[plot_id].registerCommTarget(comm_id, function(comm) {\n          comm.onMsg = msg_handler;\n        });\n      } else if (typeof google != 'undefined' && google.colab.kernel != null) {\n        google.colab.kernel.comms.registerTarget(comm_id, (comm) => {\n          var messages = comm.messages[Symbol.asyncIterator]();\n          function processIteratorResult(result) {\n            var message = result.value;\n            console.log(message)\n            var content = {data: message.data, comm_id};\n            var buffers = []\n            for (var buffer of message.buffers || []) {\n              buffers.push(new DataView(buffer))\n            }\n            var metadata = message.metadata || {};\n            var msg = {content, buffers, metadata}\n            msg_handler(msg);\n            return messages.next().then(processIteratorResult);\n          }\n          return messages.next().then(processIteratorResult);\n        })\n      }\n    }\n\n    JupyterCommManager.prototype.get_client_comm = function(plot_id, comm_id, msg_handler) {\n      if (comm_id in window.PyViz.comms) {\n        return window.PyViz.comms[comm_id];\n      } else if (window.comm_manager || ((window.Jupyter !== undefined) && (Jupyter.notebook.kernel != null))) {\n        var comm_manager = window.comm_manager || Jupyter.notebook.kernel.comm_manager;\n        var comm = comm_manager.new_comm(comm_id, {}, {}, {}, comm_id);\n        if (msg_handler) {\n          comm.on_msg(msg_handler);\n        }\n      } else if ((plot_id in window.PyViz.kernels) && (window.PyViz.kernels[plot_id])) {\n        var comm = window.PyViz.kernels[plot_id].connectToComm(comm_id);\n        comm.open();\n        if (msg_handler) {\n          comm.onMsg = msg_handler;\n        }\n      } else if (typeof google != 'undefined' && google.colab.kernel != null) {\n        var comm_promise = google.colab.kernel.comms.open(comm_id)\n        comm_promise.then((comm) => {\n          window.PyViz.comms[comm_id] = comm;\n          if (msg_handler) {\n            var messages = comm.messages[Symbol.asyncIterator]();\n            function processIteratorResult(result) {\n              var message = result.value;\n              var content = {data: message.data};\n              var metadata = message.metadata || {comm_id};\n              var msg = {content, metadata}\n              msg_handler(msg);\n              return messages.next().then(processIteratorResult);\n            }\n            return messages.next().then(processIteratorResult);\n          }\n        })\n        var sendClosure = (data, metadata, buffers, disposeOnDone) => {\n          return comm_promise.then((comm) => {\n            comm.send(data, metadata, buffers, disposeOnDone);\n          });\n        };\n        var comm = {\n          send: sendClosure\n        };\n      }\n      window.PyViz.comms[comm_id] = comm;\n      return comm;\n    }\n    window.PyViz.comm_manager = new JupyterCommManager();\n    \n\n\nvar JS_MIME_TYPE = 'application/javascript';\nvar HTML_MIME_TYPE = 'text/html';\nvar EXEC_MIME_TYPE = 'application/vnd.holoviews_exec.v0+json';\nvar CLASS_NAME = 'output';\n\n/**\n * Render data to the DOM node\n */\nfunction render(props, node) {\n  var div = document.createElement(\"div\");\n  var script = document.createElement(\"script\");\n  node.appendChild(div);\n  node.appendChild(script);\n}\n\n/**\n * Handle when a new output is added\n */\nfunction handle_add_output(event, handle) {\n  var output_area = handle.output_area;\n  var output = handle.output;\n  if ((output.data == undefined) || (!output.data.hasOwnProperty(EXEC_MIME_TYPE))) {\n    return\n  }\n  var id = output.metadata[EXEC_MIME_TYPE][\"id\"];\n  var toinsert = output_area.element.find(\".\" + CLASS_NAME.split(' ')[0]);\n  if (id !== undefined) {\n    var nchildren = toinsert.length;\n    var html_node = toinsert[nchildren-1].children[0];\n    html_node.innerHTML = output.data[HTML_MIME_TYPE];\n    var scripts = [];\n    var nodelist = html_node.querySelectorAll(\"script\");\n    for (var i in nodelist) {\n      if (nodelist.hasOwnProperty(i)) {\n        scripts.push(nodelist[i])\n      }\n    }\n\n    scripts.forEach( function (oldScript) {\n      var newScript = document.createElement(\"script\");\n      var attrs = [];\n      var nodemap = oldScript.attributes;\n      for (var j in nodemap) {\n        if (nodemap.hasOwnProperty(j)) {\n          attrs.push(nodemap[j])\n        }\n      }\n      attrs.forEach(function(attr) { newScript.setAttribute(attr.name, attr.value) });\n      newScript.appendChild(document.createTextNode(oldScript.innerHTML));\n      oldScript.parentNode.replaceChild(newScript, oldScript);\n    });\n    if (JS_MIME_TYPE in output.data) {\n      toinsert[nchildren-1].children[1].textContent = output.data[JS_MIME_TYPE];\n    }\n    output_area._hv_plot_id = id;\n    if ((window.Bokeh !== undefined) && (id in Bokeh.index)) {\n      window.PyViz.plot_index[id] = Bokeh.index[id];\n    } else {\n      window.PyViz.plot_index[id] = null;\n    }\n  } else if (output.metadata[EXEC_MIME_TYPE][\"server_id\"] !== undefined) {\n    var bk_div = document.createElement(\"div\");\n    bk_div.innerHTML = output.data[HTML_MIME_TYPE];\n    var script_attrs = bk_div.children[0].attributes;\n    for (var i = 0; i < script_attrs.length; i++) {\n      toinsert[toinsert.length - 1].childNodes[1].setAttribute(script_attrs[i].name, script_attrs[i].value);\n    }\n    // store reference to server id on output_area\n    output_area._bokeh_server_id = output.metadata[EXEC_MIME_TYPE][\"server_id\"];\n  }\n}\n\n/**\n * Handle when an output is cleared or removed\n */\nfunction handle_clear_output(event, handle) {\n  var id = handle.cell.output_area._hv_plot_id;\n  var server_id = handle.cell.output_area._bokeh_server_id;\n  if (((id === undefined) || !(id in PyViz.plot_index)) && (server_id !== undefined)) { return; }\n  var comm = window.PyViz.comm_manager.get_client_comm(\"hv-extension-comm\", \"hv-extension-comm\", function () {});\n  if (server_id !== null) {\n    comm.send({event_type: 'server_delete', 'id': server_id});\n    return;\n  } else if (comm !== null) {\n    comm.send({event_type: 'delete', 'id': id});\n  }\n  delete PyViz.plot_index[id];\n  if ((window.Bokeh !== undefined) & (id in window.Bokeh.index)) {\n    var doc = window.Bokeh.index[id].model.document\n    doc.clear();\n    const i = window.Bokeh.documents.indexOf(doc);\n    if (i > -1) {\n      window.Bokeh.documents.splice(i, 1);\n    }\n  }\n}\n\n/**\n * Handle kernel restart event\n */\nfunction handle_kernel_cleanup(event, handle) {\n  delete PyViz.comms[\"hv-extension-comm\"];\n  window.PyViz.plot_index = {}\n}\n\n/**\n * Handle update_display_data messages\n */\nfunction handle_update_output(event, handle) {\n  handle_clear_output(event, {cell: {output_area: handle.output_area}})\n  handle_add_output(event, handle)\n}\n\nfunction register_renderer(events, OutputArea) {\n  function append_mime(data, metadata, element) {\n    // create a DOM node to render to\n    var toinsert = this.create_output_subarea(\n    metadata,\n    CLASS_NAME,\n    EXEC_MIME_TYPE\n    );\n    this.keyboard_manager.register_events(toinsert);\n    // Render to node\n    var props = {data: data, metadata: metadata[EXEC_MIME_TYPE]};\n    render(props, toinsert[0]);\n    element.append(toinsert);\n    return toinsert\n  }\n\n  events.on('output_added.OutputArea', handle_add_output);\n  events.on('output_updated.OutputArea', handle_update_output);\n  events.on('clear_output.CodeCell', handle_clear_output);\n  events.on('delete.Cell', handle_clear_output);\n  events.on('kernel_ready.Kernel', handle_kernel_cleanup);\n\n  OutputArea.prototype.register_mime_type(EXEC_MIME_TYPE, append_mime, {\n    safe: true,\n    index: 0\n  });\n}\n\nif (window.Jupyter !== undefined) {\n  try {\n    var events = require('base/js/events');\n    var OutputArea = require('notebook/js/outputarea').OutputArea;\n    if (OutputArea.prototype.mime_types().indexOf(EXEC_MIME_TYPE) == -1) {\n      register_renderer(events, OutputArea);\n    }\n  } catch(err) {\n  }\n}\n"
     },
     "metadata": {},
     "output_type": "display_data"
    },
    {
     "data": {
      "application/vnd.holoviews_exec.v0+json": "",
      "text/html": [
       "<div id='c76e8285-9877-48fb-9253-a8449de30cb9'>\n",
       "  <div id=\"a970f5a7-f52c-49e6-b1f8-78e95b866889\" data-root-id=\"c76e8285-9877-48fb-9253-a8449de30cb9\" style=\"display: contents;\"></div>\n",
       "</div>\n",
       "<script type=\"application/javascript\">(function(root) {\n",
       "  var docs_json = {\"bc102579-75b2-4d01-8a74-0cb9b6ac2f51\":{\"version\":\"3.6.3\",\"title\":\"Bokeh Application\",\"roots\":[{\"type\":\"object\",\"name\":\"panel.models.browser.BrowserInfo\",\"id\":\"c76e8285-9877-48fb-9253-a8449de30cb9\"},{\"type\":\"object\",\"name\":\"panel.models.comm_manager.CommManager\",\"id\":\"5989c298-2a2a-4be7-b18c-b2aebfdd4489\",\"attributes\":{\"plot_id\":\"c76e8285-9877-48fb-9253-a8449de30cb9\",\"comm_id\":\"f19e114221aa42db938d5f5608dc7185\",\"client_comm_id\":\"cc59b0142be64f0f90b18eb52513a36d\"}}],\"defs\":[{\"type\":\"model\",\"name\":\"ReactiveHTML1\"},{\"type\":\"model\",\"name\":\"FlexBox1\",\"properties\":[{\"name\":\"align_content\",\"kind\":\"Any\",\"default\":\"flex-start\"},{\"name\":\"align_items\",\"kind\":\"Any\",\"default\":\"flex-start\"},{\"name\":\"flex_direction\",\"kind\":\"Any\",\"default\":\"row\"},{\"name\":\"flex_wrap\",\"kind\":\"Any\",\"default\":\"wrap\"},{\"name\":\"gap\",\"kind\":\"Any\",\"default\":\"\"},{\"name\":\"justify_content\",\"kind\":\"Any\",\"default\":\"flex-start\"}]},{\"type\":\"model\",\"name\":\"FloatPanel1\",\"properties\":[{\"name\":\"config\",\"kind\":\"Any\",\"default\":{\"type\":\"map\"}},{\"name\":\"contained\",\"kind\":\"Any\",\"default\":true},{\"name\":\"position\",\"kind\":\"Any\",\"default\":\"right-top\"},{\"name\":\"offsetx\",\"kind\":\"Any\",\"default\":null},{\"name\":\"offsety\",\"kind\":\"Any\",\"default\":null},{\"name\":\"theme\",\"kind\":\"Any\",\"default\":\"primary\"},{\"name\":\"status\",\"kind\":\"Any\",\"default\":\"normalized\"}]},{\"type\":\"model\",\"name\":\"GridStack1\",\"properties\":[{\"name\":\"mode\",\"kind\":\"Any\",\"default\":\"warn\"},{\"name\":\"ncols\",\"kind\":\"Any\",\"default\":null},{\"name\":\"nrows\",\"kind\":\"Any\",\"default\":null},{\"name\":\"allow_resize\",\"kind\":\"Any\",\"default\":true},{\"name\":\"allow_drag\",\"kind\":\"Any\",\"default\":true},{\"name\":\"state\",\"kind\":\"Any\",\"default\":[]}]},{\"type\":\"model\",\"name\":\"drag1\",\"properties\":[{\"name\":\"slider_width\",\"kind\":\"Any\",\"default\":5},{\"name\":\"slider_color\",\"kind\":\"Any\",\"default\":\"black\"},{\"name\":\"value\",\"kind\":\"Any\",\"default\":50}]},{\"type\":\"model\",\"name\":\"click1\",\"properties\":[{\"name\":\"terminal_output\",\"kind\":\"Any\",\"default\":\"\"},{\"name\":\"debug_name\",\"kind\":\"Any\",\"default\":\"\"},{\"name\":\"clears\",\"kind\":\"Any\",\"default\":0}]},{\"type\":\"model\",\"name\":\"FastWrapper1\",\"properties\":[{\"name\":\"object\",\"kind\":\"Any\",\"default\":null},{\"name\":\"style\",\"kind\":\"Any\",\"default\":null}]},{\"type\":\"model\",\"name\":\"NotificationAreaBase1\",\"properties\":[{\"name\":\"js_events\",\"kind\":\"Any\",\"default\":{\"type\":\"map\"}},{\"name\":\"position\",\"kind\":\"Any\",\"default\":\"bottom-right\"},{\"name\":\"_clear\",\"kind\":\"Any\",\"default\":0}]},{\"type\":\"model\",\"name\":\"NotificationArea1\",\"properties\":[{\"name\":\"js_events\",\"kind\":\"Any\",\"default\":{\"type\":\"map\"}},{\"name\":\"notifications\",\"kind\":\"Any\",\"default\":[]},{\"name\":\"position\",\"kind\":\"Any\",\"default\":\"bottom-right\"},{\"name\":\"_clear\",\"kind\":\"Any\",\"default\":0},{\"name\":\"types\",\"kind\":\"Any\",\"default\":[{\"type\":\"map\",\"entries\":[[\"type\",\"warning\"],[\"background\",\"#ffc107\"],[\"icon\",{\"type\":\"map\",\"entries\":[[\"className\",\"fas fa-exclamation-triangle\"],[\"tagName\",\"i\"],[\"color\",\"white\"]]}]]},{\"type\":\"map\",\"entries\":[[\"type\",\"info\"],[\"background\",\"#007bff\"],[\"icon\",{\"type\":\"map\",\"entries\":[[\"className\",\"fas fa-info-circle\"],[\"tagName\",\"i\"],[\"color\",\"white\"]]}]]}]}]},{\"type\":\"model\",\"name\":\"Notification\",\"properties\":[{\"name\":\"background\",\"kind\":\"Any\",\"default\":null},{\"name\":\"duration\",\"kind\":\"Any\",\"default\":3000},{\"name\":\"icon\",\"kind\":\"Any\",\"default\":null},{\"name\":\"message\",\"kind\":\"Any\",\"default\":\"\"},{\"name\":\"notification_type\",\"kind\":\"Any\",\"default\":null},{\"name\":\"_rendered\",\"kind\":\"Any\",\"default\":false},{\"name\":\"_destroyed\",\"kind\":\"Any\",\"default\":false}]},{\"type\":\"model\",\"name\":\"TemplateActions1\",\"properties\":[{\"name\":\"open_modal\",\"kind\":\"Any\",\"default\":0},{\"name\":\"close_modal\",\"kind\":\"Any\",\"default\":0}]},{\"type\":\"model\",\"name\":\"BootstrapTemplateActions1\",\"properties\":[{\"name\":\"open_modal\",\"kind\":\"Any\",\"default\":0},{\"name\":\"close_modal\",\"kind\":\"Any\",\"default\":0}]},{\"type\":\"model\",\"name\":\"TemplateEditor1\",\"properties\":[{\"name\":\"layout\",\"kind\":\"Any\",\"default\":[]}]},{\"type\":\"model\",\"name\":\"MaterialTemplateActions1\",\"properties\":[{\"name\":\"open_modal\",\"kind\":\"Any\",\"default\":0},{\"name\":\"close_modal\",\"kind\":\"Any\",\"default\":0}]},{\"type\":\"model\",\"name\":\"ReactiveESM1\",\"properties\":[{\"name\":\"esm_constants\",\"kind\":\"Any\",\"default\":{\"type\":\"map\"}}]},{\"type\":\"model\",\"name\":\"JSComponent1\",\"properties\":[{\"name\":\"esm_constants\",\"kind\":\"Any\",\"default\":{\"type\":\"map\"}}]},{\"type\":\"model\",\"name\":\"ReactComponent1\",\"properties\":[{\"name\":\"esm_constants\",\"kind\":\"Any\",\"default\":{\"type\":\"map\"}}]},{\"type\":\"model\",\"name\":\"AnyWidgetComponent1\",\"properties\":[{\"name\":\"esm_constants\",\"kind\":\"Any\",\"default\":{\"type\":\"map\"}}]},{\"type\":\"model\",\"name\":\"request_value1\",\"properties\":[{\"name\":\"fill\",\"kind\":\"Any\",\"default\":\"none\"},{\"name\":\"_synced\",\"kind\":\"Any\",\"default\":null},{\"name\":\"_request_sync\",\"kind\":\"Any\",\"default\":0}]}]}};\n",
       "  var render_items = [{\"docid\":\"bc102579-75b2-4d01-8a74-0cb9b6ac2f51\",\"roots\":{\"c76e8285-9877-48fb-9253-a8449de30cb9\":\"a970f5a7-f52c-49e6-b1f8-78e95b866889\"},\"root_ids\":[\"c76e8285-9877-48fb-9253-a8449de30cb9\"]}];\n",
       "  var docs = Object.values(docs_json)\n",
       "  if (!docs) {\n",
       "    return\n",
       "  }\n",
       "  const py_version = docs[0].version.replace('rc', '-rc.').replace('.dev', '-dev.')\n",
       "  async function embed_document(root) {\n",
       "    var Bokeh = get_bokeh(root)\n",
       "    await Bokeh.embed.embed_items_notebook(docs_json, render_items);\n",
       "    for (const render_item of render_items) {\n",
       "      for (const root_id of render_item.root_ids) {\n",
       "\tconst id_el = document.getElementById(root_id)\n",
       "\tif (id_el.children.length && id_el.children[0].hasAttribute('data-root-id')) {\n",
       "\t  const root_el = id_el.children[0]\n",
       "\t  root_el.id = root_el.id + '-rendered'\n",
       "\t  for (const child of root_el.children) {\n",
       "            // Ensure JupyterLab does not capture keyboard shortcuts\n",
       "            // see: https://jupyterlab.readthedocs.io/en/4.1.x/extension/notebook.html#keyboard-interaction-model\n",
       "\t    child.setAttribute('data-lm-suppress-shortcuts', 'true')\n",
       "\t  }\n",
       "\t}\n",
       "      }\n",
       "    }\n",
       "  }\n",
       "  function get_bokeh(root) {\n",
       "    if (root.Bokeh === undefined) {\n",
       "      return null\n",
       "    } else if (root.Bokeh.version !== py_version) {\n",
       "      if (root.Bokeh.versions === undefined || !root.Bokeh.versions.has(py_version)) {\n",
       "\treturn null\n",
       "      }\n",
       "      return root.Bokeh.versions.get(py_version);\n",
       "    } else if (root.Bokeh.version === py_version) {\n",
       "      return root.Bokeh\n",
       "    }\n",
       "    return null\n",
       "  }\n",
       "  function is_loaded(root) {\n",
       "    var Bokeh = get_bokeh(root)\n",
       "    return (Bokeh != null && Bokeh.Panel !== undefined)\n",
       "  }\n",
       "  if (is_loaded(root)) {\n",
       "    embed_document(root);\n",
       "  } else {\n",
       "    var attempts = 0;\n",
       "    var timer = setInterval(function(root) {\n",
       "      if (is_loaded(root)) {\n",
       "        clearInterval(timer);\n",
       "        embed_document(root);\n",
       "      } else if (document.readyState == \"complete\") {\n",
       "        attempts++;\n",
       "        if (attempts > 200) {\n",
       "          clearInterval(timer);\n",
       "\t  var Bokeh = get_bokeh(root)\n",
       "\t  if (Bokeh == null || Bokeh.Panel == null) {\n",
       "            console.warn(\"Panel: ERROR: Unable to run Panel code because Bokeh or Panel library is missing\");\n",
       "\t  } else {\n",
       "\t    console.warn(\"Panel: WARNING: Attempting to render but not all required libraries could be resolved.\")\n",
       "\t    embed_document(root)\n",
       "\t  }\n",
       "        }\n",
       "      }\n",
       "    }, 25, root)\n",
       "  }\n",
       "})(window);</script>"
      ]
     },
     "metadata": {
      "application/vnd.holoviews_exec.v0+json": {
       "id": "c76e8285-9877-48fb-9253-a8449de30cb9"
      }
     },
     "output_type": "display_data"
    },
    {
     "data": {},
     "metadata": {},
     "output_type": "display_data"
    },
    {
     "data": {
      "application/vnd.holoviews_exec.v0+json": "",
      "text/html": [
       "<div id='078ef9eb-c087-4a53-936e-5319d3442f1b'>\n",
       "  <div id=\"e9e9d9b4-b338-419b-9763-87f5af0f28f2\" data-root-id=\"078ef9eb-c087-4a53-936e-5319d3442f1b\" style=\"display: contents;\"></div>\n",
       "</div>\n",
       "<script type=\"application/javascript\">(function(root) {\n",
       "  var docs_json = {\"4bc398b5-7cef-4281-b142-37490980cf6e\":{\"version\":\"3.6.3\",\"title\":\"Bokeh Application\",\"roots\":[{\"type\":\"object\",\"name\":\"Row\",\"id\":\"078ef9eb-c087-4a53-936e-5319d3442f1b\",\"attributes\":{\"name\":\"Row00289\",\"stylesheets\":[\"\\n:host(.pn-loading):before, .pn-loading:before {\\n  background-color: #c3c3c3;\\n  mask-size: auto calc(min(50%, 400px));\\n  -webkit-mask-size: auto calc(min(50%, 400px));\\n}\",{\"type\":\"object\",\"name\":\"ImportedStyleSheet\",\"id\":\"093236b9-493a-4868-968d-d35c6de7fb49\",\"attributes\":{\"url\":\"https://cdn.holoviz.org/panel/1.6.1/dist/css/loading.css\"}},{\"type\":\"object\",\"name\":\"ImportedStyleSheet\",\"id\":\"e2e7ea6f-ca4d-49d2-ad57-afa6acd6973c\",\"attributes\":{\"url\":\"https://cdn.holoviz.org/panel/1.6.1/dist/css/listpanel.css\"}},{\"type\":\"object\",\"name\":\"ImportedStyleSheet\",\"id\":\"d79978fc-9aa7-4df7-b43d-b7e16f26082d\",\"attributes\":{\"url\":\"https://cdn.holoviz.org/panel/1.6.1/dist/bundled/theme/default.css\"}},{\"type\":\"object\",\"name\":\"ImportedStyleSheet\",\"id\":\"bfd24547-3247-45f6-9f36-5461897ade3a\",\"attributes\":{\"url\":\"https://cdn.holoviz.org/panel/1.6.1/dist/bundled/theme/native.css\"}}],\"min_width\":800,\"margin\":0,\"sizing_mode\":\"stretch_width\",\"align\":\"start\",\"children\":[{\"type\":\"object\",\"name\":\"Spacer\",\"id\":\"fc488a79-d563-47ce-acc6-d1bafdb2d5b7\",\"attributes\":{\"name\":\"HSpacer00293\",\"stylesheets\":[\"\\n:host(.pn-loading):before, .pn-loading:before {\\n  background-color: #c3c3c3;\\n  mask-size: auto calc(min(50%, 400px));\\n  -webkit-mask-size: auto calc(min(50%, 400px));\\n}\",{\"id\":\"093236b9-493a-4868-968d-d35c6de7fb49\"},{\"id\":\"d79978fc-9aa7-4df7-b43d-b7e16f26082d\"},{\"id\":\"bfd24547-3247-45f6-9f36-5461897ade3a\"}],\"margin\":0,\"sizing_mode\":\"stretch_width\",\"align\":\"start\"}},{\"type\":\"object\",\"name\":\"Figure\",\"id\":\"d561bab8-0ebc-4d6c-abc1-c7a8d7008fb0\",\"attributes\":{\"js_event_callbacks\":{\"type\":\"map\",\"entries\":[[\"reset\",[{\"type\":\"object\",\"name\":\"CustomJS\",\"id\":\"99f3bda4-c48e-4037-9fa9-be84ba2a22e6\",\"attributes\":{\"code\":\"export default (_, cb_obj) => { cb_obj.origin.hold_render = false }\"}}]]]},\"subscribed_events\":{\"type\":\"set\",\"entries\":[\"reset\",\"rangesupdate\"]},\"width\":800,\"margin\":[5,10],\"sizing_mode\":\"fixed\",\"align\":\"start\",\"x_range\":{\"type\":\"object\",\"name\":\"Range1d\",\"id\":\"5435ca02-74a3-4ba9-886e-ccda211eb465\",\"attributes\":{\"name\":\"ext_offset\",\"tags\":[[[\"ext_offset\",null]],[]]}},\"y_range\":{\"type\":\"object\",\"name\":\"Range1d\",\"id\":\"fa49ea99-e8aa-4f50-98c6-dd3aa6d53e7c\",\"attributes\":{\"name\":\"offset\",\"tags\":[[[\"offset\",null]],{\"type\":\"map\",\"entries\":[[\"invert_yaxis\",false],[\"autorange\",false]]}]}},\"x_scale\":{\"type\":\"object\",\"name\":\"LinearScale\",\"id\":\"e82f386b-7a94-464c-8636-66abb204ab5a\"},\"y_scale\":{\"type\":\"object\",\"name\":\"LinearScale\",\"id\":\"476b2c2e-2960-42b9-90ae-86c9251da341\"},\"title\":{\"type\":\"object\",\"name\":\"Title\",\"id\":\"aa66e1fb-b300-4354-acc9-ec2a4d2fd860\",\"attributes\":{\"text_color\":\"black\",\"text_font_size\":\"12pt\"}},\"renderers\":[{\"type\":\"object\",\"name\":\"GlyphRenderer\",\"id\":\"3cc4a39a-35da-46f2-91b2-47b99a55bd7b\",\"attributes\":{\"data_source\":{\"type\":\"object\",\"name\":\"ColumnDataSource\",\"id\":\"355f1244-c052-47c0-b273-34dea39b2ad6\",\"attributes\":{\"selected\":{\"type\":\"object\",\"name\":\"Selection\",\"id\":\"dc73b790-8913-422d-a00f-4c4de71aa0df\",\"attributes\":{\"indices\":[],\"line_indices\":[]}},\"selection_policy\":{\"type\":\"object\",\"name\":\"UnionRenderers\",\"id\":\"d4ed4f46-2d1f-4e26-989e-f02330439cbc\"},\"data\":{\"type\":\"map\",\"entries\":[[\"ext_offset\",{\"type\":\"ndarray\",\"array\":{\"type\":\"bytes\",\"data\":\"\"},\"shape\":[0],\"dtype\":\"float64\",\"order\":\"little\"}],[\"offset\",{\"type\":\"ndarray\",\"array\":{\"type\":\"bytes\",\"data\":\"\"},\"shape\":[0],\"dtype\":\"float64\",\"order\":\"little\"}]]}}},\"view\":{\"type\":\"object\",\"name\":\"CDSView\",\"id\":\"34adf353-aa9a-449e-88ee-d1dee47d512e\",\"attributes\":{\"filter\":{\"type\":\"object\",\"name\":\"AllIndices\",\"id\":\"de2371d3-2267-4fb7-9c03-fccc6716285e\"}}},\"glyph\":{\"type\":\"object\",\"name\":\"Scatter\",\"id\":\"25029c78-dde2-47ad-9b28-56df97fcc70b\",\"attributes\":{\"tags\":[\"apply_ranges\"],\"x\":{\"type\":\"field\",\"field\":\"ext_offset\"},\"y\":{\"type\":\"field\",\"field\":\"offset\"},\"size\":{\"type\":\"value\",\"value\":10},\"line_color\":{\"type\":\"value\",\"value\":\"#007f00\"},\"fill_color\":{\"type\":\"value\",\"value\":\"#007f00\"},\"hatch_color\":{\"type\":\"value\",\"value\":\"#007f00\"},\"marker\":{\"type\":\"value\",\"value\":\"cross\"}}},\"selection_glyph\":{\"type\":\"object\",\"name\":\"Scatter\",\"id\":\"7b733e17-c6f1-4fcb-a351-b06ef50a3d54\",\"attributes\":{\"tags\":[\"apply_ranges\"],\"x\":{\"type\":\"field\",\"field\":\"ext_offset\"},\"y\":{\"type\":\"field\",\"field\":\"offset\"},\"size\":{\"type\":\"value\",\"value\":10},\"angle\":{\"type\":\"value\",\"value\":0.0},\"line_color\":{\"type\":\"value\",\"value\":\"#007f00\"},\"line_alpha\":{\"type\":\"value\",\"value\":1.0},\"line_width\":{\"type\":\"value\",\"value\":1},\"line_join\":{\"type\":\"value\",\"value\":\"bevel\"},\"line_cap\":{\"type\":\"value\",\"value\":\"butt\"},\"line_dash\":{\"type\":\"value\",\"value\":[]},\"line_dash_offset\":{\"type\":\"value\",\"value\":0},\"fill_color\":{\"type\":\"value\",\"value\":\"#007f00\"},\"fill_alpha\":{\"type\":\"value\",\"value\":1.0},\"hatch_color\":{\"type\":\"value\",\"value\":\"#007f00\"},\"hatch_alpha\":{\"type\":\"value\",\"value\":1.0},\"hatch_scale\":{\"type\":\"value\",\"value\":12.0},\"hatch_pattern\":{\"type\":\"value\",\"value\":null},\"hatch_weight\":{\"type\":\"value\",\"value\":1.0},\"marker\":{\"type\":\"value\",\"value\":\"cross\"}}},\"nonselection_glyph\":{\"type\":\"object\",\"name\":\"Scatter\",\"id\":\"949aeaf8-143a-461d-8908-aa3b92f60174\",\"attributes\":{\"tags\":[\"apply_ranges\"],\"x\":{\"type\":\"field\",\"field\":\"ext_offset\"},\"y\":{\"type\":\"field\",\"field\":\"offset\"},\"size\":{\"type\":\"value\",\"value\":10},\"line_color\":{\"type\":\"value\",\"value\":\"#007f00\"},\"line_alpha\":{\"type\":\"value\",\"value\":0.1},\"fill_color\":{\"type\":\"value\",\"value\":\"#007f00\"},\"fill_alpha\":{\"type\":\"value\",\"value\":0.1},\"hatch_color\":{\"type\":\"value\",\"value\":\"#007f00\"},\"hatch_alpha\":{\"type\":\"value\",\"value\":0.1},\"marker\":{\"type\":\"value\",\"value\":\"cross\"}}},\"muted_glyph\":{\"type\":\"object\",\"name\":\"Scatter\",\"id\":\"e868eb1d-8dbd-4f4e-a327-9343c1ca89c0\",\"attributes\":{\"tags\":[\"apply_ranges\"],\"x\":{\"type\":\"field\",\"field\":\"ext_offset\"},\"y\":{\"type\":\"field\",\"field\":\"offset\"},\"size\":{\"type\":\"value\",\"value\":10},\"line_color\":{\"type\":\"value\",\"value\":\"#007f00\"},\"line_alpha\":{\"type\":\"value\",\"value\":0.2},\"fill_color\":{\"type\":\"value\",\"value\":\"#007f00\"},\"fill_alpha\":{\"type\":\"value\",\"value\":0.2},\"hatch_color\":{\"type\":\"value\",\"value\":\"#007f00\"},\"hatch_alpha\":{\"type\":\"value\",\"value\":0.2},\"marker\":{\"type\":\"value\",\"value\":\"cross\"}}}}},{\"type\":\"object\",\"name\":\"GlyphRenderer\",\"id\":\"8f238b85-fbb5-4fe3-9afa-c2cf5c338e0b\",\"attributes\":{\"data_source\":{\"type\":\"object\",\"name\":\"ColumnDataSource\",\"id\":\"0ab2097e-a258-455c-9af0-0e3017322b0d\",\"attributes\":{\"selected\":{\"type\":\"object\",\"name\":\"Selection\",\"id\":\"896908c9-6685-48ea-84bc-07cdea583732\",\"attributes\":{\"indices\":[],\"line_indices\":[]}},\"selection_policy\":{\"type\":\"object\",\"name\":\"UnionRenderers\",\"id\":\"ce9135cc-20b3-4e2c-a787-199374255af0\"},\"data\":{\"type\":\"map\",\"entries\":[[\"ext_offset\",{\"type\":\"ndarray\",\"array\":{\"type\":\"bytes\",\"data\":\"\"},\"shape\":[0],\"dtype\":\"float64\",\"order\":\"little\"}],[\"offset\",{\"type\":\"ndarray\",\"array\":{\"type\":\"bytes\",\"data\":\"\"},\"shape\":[0],\"dtype\":\"float64\",\"order\":\"little\"}]]}}},\"view\":{\"type\":\"object\",\"name\":\"CDSView\",\"id\":\"549ce8c9-9408-473f-a7f3-4b48d484c000\",\"attributes\":{\"filter\":{\"type\":\"object\",\"name\":\"AllIndices\",\"id\":\"8f1bc7d1-45f3-4d21-8d1d-39261fc04217\"}}},\"glyph\":{\"type\":\"object\",\"name\":\"Scatter\",\"id\":\"b8128fe8-fde5-4c41-9012-398b413804f2\",\"attributes\":{\"tags\":[\"apply_ranges\"],\"x\":{\"type\":\"field\",\"field\":\"ext_offset\"},\"y\":{\"type\":\"field\",\"field\":\"offset\"},\"size\":{\"type\":\"value\",\"value\":10},\"angle\":{\"type\":\"value\",\"value\":0.7853981633974483},\"line_color\":{\"type\":\"value\",\"value\":\"#ff0000\"},\"fill_color\":{\"type\":\"value\",\"value\":\"#ff0000\"},\"hatch_color\":{\"type\":\"value\",\"value\":\"#ff0000\"},\"marker\":{\"type\":\"value\",\"value\":\"cross\"}}},\"selection_glyph\":{\"type\":\"object\",\"name\":\"Scatter\",\"id\":\"92b654f9-e42c-4235-944e-efb1701f7a1f\",\"attributes\":{\"tags\":[\"apply_ranges\"],\"x\":{\"type\":\"field\",\"field\":\"ext_offset\"},\"y\":{\"type\":\"field\",\"field\":\"offset\"},\"size\":{\"type\":\"value\",\"value\":10},\"angle\":{\"type\":\"value\",\"value\":0.7853981633974483},\"line_color\":{\"type\":\"value\",\"value\":\"#ff0000\"},\"line_alpha\":{\"type\":\"value\",\"value\":1.0},\"line_width\":{\"type\":\"value\",\"value\":1},\"line_join\":{\"type\":\"value\",\"value\":\"bevel\"},\"line_cap\":{\"type\":\"value\",\"value\":\"butt\"},\"line_dash\":{\"type\":\"value\",\"value\":[]},\"line_dash_offset\":{\"type\":\"value\",\"value\":0},\"fill_color\":{\"type\":\"value\",\"value\":\"#ff0000\"},\"fill_alpha\":{\"type\":\"value\",\"value\":1.0},\"hatch_color\":{\"type\":\"value\",\"value\":\"#ff0000\"},\"hatch_alpha\":{\"type\":\"value\",\"value\":1.0},\"hatch_scale\":{\"type\":\"value\",\"value\":12.0},\"hatch_pattern\":{\"type\":\"value\",\"value\":null},\"hatch_weight\":{\"type\":\"value\",\"value\":1.0},\"marker\":{\"type\":\"value\",\"value\":\"cross\"}}},\"nonselection_glyph\":{\"type\":\"object\",\"name\":\"Scatter\",\"id\":\"9ecf71b5-486e-4872-8d90-7948452bf638\",\"attributes\":{\"tags\":[\"apply_ranges\"],\"x\":{\"type\":\"field\",\"field\":\"ext_offset\"},\"y\":{\"type\":\"field\",\"field\":\"offset\"},\"size\":{\"type\":\"value\",\"value\":10},\"angle\":{\"type\":\"value\",\"value\":0.7853981633974483},\"line_color\":{\"type\":\"value\",\"value\":\"#ff0000\"},\"line_alpha\":{\"type\":\"value\",\"value\":0.1},\"fill_color\":{\"type\":\"value\",\"value\":\"#ff0000\"},\"fill_alpha\":{\"type\":\"value\",\"value\":0.1},\"hatch_color\":{\"type\":\"value\",\"value\":\"#ff0000\"},\"hatch_alpha\":{\"type\":\"value\",\"value\":0.1},\"marker\":{\"type\":\"value\",\"value\":\"cross\"}}},\"muted_glyph\":{\"type\":\"object\",\"name\":\"Scatter\",\"id\":\"bc8a3bdd-feec-4b62-b245-dcf753de0c3e\",\"attributes\":{\"tags\":[\"apply_ranges\"],\"x\":{\"type\":\"field\",\"field\":\"ext_offset\"},\"y\":{\"type\":\"field\",\"field\":\"offset\"},\"size\":{\"type\":\"value\",\"value\":10},\"angle\":{\"type\":\"value\",\"value\":0.7853981633974483},\"line_color\":{\"type\":\"value\",\"value\":\"#ff0000\"},\"line_alpha\":{\"type\":\"value\",\"value\":0.2},\"fill_color\":{\"type\":\"value\",\"value\":\"#ff0000\"},\"fill_alpha\":{\"type\":\"value\",\"value\":0.2},\"hatch_color\":{\"type\":\"value\",\"value\":\"#ff0000\"},\"hatch_alpha\":{\"type\":\"value\",\"value\":0.2},\"marker\":{\"type\":\"value\",\"value\":\"cross\"}}}}}],\"toolbar\":{\"type\":\"object\",\"name\":\"Toolbar\",\"id\":\"c5f179e4-cbe8-4642-bc20-57f5eed29973\",\"attributes\":{\"tools\":[{\"type\":\"object\",\"name\":\"WheelZoomTool\",\"id\":\"ee8bf4b0-cc61-423d-84d3-b3d24c008d2b\",\"attributes\":{\"tags\":[\"hv_created\"],\"renderers\":\"auto\",\"zoom_together\":\"none\"}},{\"type\":\"object\",\"name\":\"HoverTool\",\"id\":\"0971b541-6690-4313-8f6e-5369f9e7005b\",\"attributes\":{\"tags\":[\"hv_created\"],\"renderers\":[{\"id\":\"3cc4a39a-35da-46f2-91b2-47b99a55bd7b\"},{\"id\":\"8f238b85-fbb5-4fe3-9afa-c2cf5c338e0b\"}],\"tooltips\":[[\"ext_offset\",\"@{ext_offset}\"],[\"offset\",\"@{offset}\"]]}},{\"type\":\"object\",\"name\":\"SaveTool\",\"id\":\"60368eac-0b5c-41c1-a82d-a86633afd521\"},{\"type\":\"object\",\"name\":\"PanTool\",\"id\":\"e34f944a-796f-4da9-9ad8-06921a3ab79d\"},{\"type\":\"object\",\"name\":\"BoxZoomTool\",\"id\":\"fd4ae1ee-f1ba-488e-b30a-6fcd2235c535\",\"attributes\":{\"overlay\":{\"type\":\"object\",\"name\":\"BoxAnnotation\",\"id\":\"b32e48fe-417c-4e54-94ef-c95134264e5d\",\"attributes\":{\"syncable\":false,\"line_color\":\"black\",\"line_alpha\":1.0,\"line_width\":2,\"line_dash\":[4,4],\"fill_color\":\"lightgrey\",\"fill_alpha\":0.5,\"level\":\"overlay\",\"visible\":false,\"left\":{\"type\":\"number\",\"value\":\"nan\"},\"right\":{\"type\":\"number\",\"value\":\"nan\"},\"top\":{\"type\":\"number\",\"value\":\"nan\"},\"bottom\":{\"type\":\"number\",\"value\":\"nan\"},\"left_units\":\"canvas\",\"right_units\":\"canvas\",\"top_units\":\"canvas\",\"bottom_units\":\"canvas\",\"handles\":{\"type\":\"object\",\"name\":\"BoxInteractionHandles\",\"id\":\"d5bf735f-a567-467c-bf1b-298b11ff607a\",\"attributes\":{\"all\":{\"type\":\"object\",\"name\":\"AreaVisuals\",\"id\":\"2b8d142c-d98f-4352-953f-072c9cc3d151\",\"attributes\":{\"fill_color\":\"white\",\"hover_fill_color\":\"lightgray\"}}}}}}}},{\"type\":\"object\",\"name\":\"ResetTool\",\"id\":\"a8b23bb8-0f99-4bd1-a1e8-64d1cf3a90fa\"}],\"active_drag\":{\"id\":\"e34f944a-796f-4da9-9ad8-06921a3ab79d\"},\"active_scroll\":{\"id\":\"ee8bf4b0-cc61-423d-84d3-b3d24c008d2b\"}}},\"left\":[{\"type\":\"object\",\"name\":\"LinearAxis\",\"id\":\"71a54528-f816-411b-b1f8-86aaf9b521ec\",\"attributes\":{\"ticker\":{\"type\":\"object\",\"name\":\"BasicTicker\",\"id\":\"86d7d488-8d9d-4e22-b594-51182b8afdd3\",\"attributes\":{\"mantissas\":[1,2,5]}},\"formatter\":{\"type\":\"object\",\"name\":\"BasicTickFormatter\",\"id\":\"2daf161e-1fac-45b7-bd5d-d4274d6102bd\"},\"axis_label\":\"offset\",\"major_label_policy\":{\"type\":\"object\",\"name\":\"AllLabels\",\"id\":\"0db349f5-41ea-421b-96f7-d9d49c37ff00\"}}}],\"below\":[{\"type\":\"object\",\"name\":\"LinearAxis\",\"id\":\"b4e5e8a1-3cd9-4bf7-8e26-7d1f99da0bf5\",\"attributes\":{\"ticker\":{\"type\":\"object\",\"name\":\"BasicTicker\",\"id\":\"1b8a8979-0a2b-4fe2-8916-21cd2353a1c9\",\"attributes\":{\"mantissas\":[1,2,5]}},\"formatter\":{\"type\":\"object\",\"name\":\"BasicTickFormatter\",\"id\":\"465739d2-737d-48e7-aac5-5052651d5a2d\"},\"axis_label\":\"ext_offset\",\"major_label_policy\":{\"type\":\"object\",\"name\":\"AllLabels\",\"id\":\"5a8c538c-281e-49e4-a977-bca5efa455e3\"}}}],\"center\":[{\"type\":\"object\",\"name\":\"Grid\",\"id\":\"88dfd599-604c-4009-bb51-e3287e2a1e21\",\"attributes\":{\"axis\":{\"id\":\"b4e5e8a1-3cd9-4bf7-8e26-7d1f99da0bf5\"},\"grid_line_color\":null}},{\"type\":\"object\",\"name\":\"Grid\",\"id\":\"d0da2fe9-c40a-4c9f-aca6-f37fefea3008\",\"attributes\":{\"dimension\":1,\"axis\":{\"id\":\"71a54528-f816-411b-b1f8-86aaf9b521ec\"},\"grid_line_color\":null}}],\"min_border_top\":10,\"min_border_bottom\":10,\"min_border_left\":10,\"min_border_right\":10,\"output_backend\":\"webgl\"}},{\"type\":\"object\",\"name\":\"Spacer\",\"id\":\"5565698f-df48-40da-87e0-4a5c17531cc7\",\"attributes\":{\"name\":\"HSpacer00294\",\"stylesheets\":[\"\\n:host(.pn-loading):before, .pn-loading:before {\\n  background-color: #c3c3c3;\\n  mask-size: auto calc(min(50%, 400px));\\n  -webkit-mask-size: auto calc(min(50%, 400px));\\n}\",{\"id\":\"093236b9-493a-4868-968d-d35c6de7fb49\"},{\"id\":\"d79978fc-9aa7-4df7-b43d-b7e16f26082d\"},{\"id\":\"bfd24547-3247-45f6-9f36-5461897ade3a\"}],\"margin\":0,\"sizing_mode\":\"stretch_width\",\"align\":\"start\"}}]}},{\"type\":\"object\",\"name\":\"panel.models.comm_manager.CommManager\",\"id\":\"ceda2b45-2eee-4375-8ebb-00d6dc76ecb4\",\"attributes\":{\"plot_id\":\"078ef9eb-c087-4a53-936e-5319d3442f1b\",\"comm_id\":\"dd8c2e0bb2fd48fe9ef36209b0669ded\",\"client_comm_id\":\"266449a2dc87466da0a6306fc906bbe7\"}}],\"defs\":[{\"type\":\"model\",\"name\":\"ReactiveHTML1\"},{\"type\":\"model\",\"name\":\"FlexBox1\",\"properties\":[{\"name\":\"align_content\",\"kind\":\"Any\",\"default\":\"flex-start\"},{\"name\":\"align_items\",\"kind\":\"Any\",\"default\":\"flex-start\"},{\"name\":\"flex_direction\",\"kind\":\"Any\",\"default\":\"row\"},{\"name\":\"flex_wrap\",\"kind\":\"Any\",\"default\":\"wrap\"},{\"name\":\"gap\",\"kind\":\"Any\",\"default\":\"\"},{\"name\":\"justify_content\",\"kind\":\"Any\",\"default\":\"flex-start\"}]},{\"type\":\"model\",\"name\":\"FloatPanel1\",\"properties\":[{\"name\":\"config\",\"kind\":\"Any\",\"default\":{\"type\":\"map\"}},{\"name\":\"contained\",\"kind\":\"Any\",\"default\":true},{\"name\":\"position\",\"kind\":\"Any\",\"default\":\"right-top\"},{\"name\":\"offsetx\",\"kind\":\"Any\",\"default\":null},{\"name\":\"offsety\",\"kind\":\"Any\",\"default\":null},{\"name\":\"theme\",\"kind\":\"Any\",\"default\":\"primary\"},{\"name\":\"status\",\"kind\":\"Any\",\"default\":\"normalized\"}]},{\"type\":\"model\",\"name\":\"GridStack1\",\"properties\":[{\"name\":\"mode\",\"kind\":\"Any\",\"default\":\"warn\"},{\"name\":\"ncols\",\"kind\":\"Any\",\"default\":null},{\"name\":\"nrows\",\"kind\":\"Any\",\"default\":null},{\"name\":\"allow_resize\",\"kind\":\"Any\",\"default\":true},{\"name\":\"allow_drag\",\"kind\":\"Any\",\"default\":true},{\"name\":\"state\",\"kind\":\"Any\",\"default\":[]}]},{\"type\":\"model\",\"name\":\"drag1\",\"properties\":[{\"name\":\"slider_width\",\"kind\":\"Any\",\"default\":5},{\"name\":\"slider_color\",\"kind\":\"Any\",\"default\":\"black\"},{\"name\":\"value\",\"kind\":\"Any\",\"default\":50}]},{\"type\":\"model\",\"name\":\"click1\",\"properties\":[{\"name\":\"terminal_output\",\"kind\":\"Any\",\"default\":\"\"},{\"name\":\"debug_name\",\"kind\":\"Any\",\"default\":\"\"},{\"name\":\"clears\",\"kind\":\"Any\",\"default\":0}]},{\"type\":\"model\",\"name\":\"FastWrapper1\",\"properties\":[{\"name\":\"object\",\"kind\":\"Any\",\"default\":null},{\"name\":\"style\",\"kind\":\"Any\",\"default\":null}]},{\"type\":\"model\",\"name\":\"NotificationAreaBase1\",\"properties\":[{\"name\":\"js_events\",\"kind\":\"Any\",\"default\":{\"type\":\"map\"}},{\"name\":\"position\",\"kind\":\"Any\",\"default\":\"bottom-right\"},{\"name\":\"_clear\",\"kind\":\"Any\",\"default\":0}]},{\"type\":\"model\",\"name\":\"NotificationArea1\",\"properties\":[{\"name\":\"js_events\",\"kind\":\"Any\",\"default\":{\"type\":\"map\"}},{\"name\":\"notifications\",\"kind\":\"Any\",\"default\":[]},{\"name\":\"position\",\"kind\":\"Any\",\"default\":\"bottom-right\"},{\"name\":\"_clear\",\"kind\":\"Any\",\"default\":0},{\"name\":\"types\",\"kind\":\"Any\",\"default\":[{\"type\":\"map\",\"entries\":[[\"type\",\"warning\"],[\"background\",\"#ffc107\"],[\"icon\",{\"type\":\"map\",\"entries\":[[\"className\",\"fas fa-exclamation-triangle\"],[\"tagName\",\"i\"],[\"color\",\"white\"]]}]]},{\"type\":\"map\",\"entries\":[[\"type\",\"info\"],[\"background\",\"#007bff\"],[\"icon\",{\"type\":\"map\",\"entries\":[[\"className\",\"fas fa-info-circle\"],[\"tagName\",\"i\"],[\"color\",\"white\"]]}]]}]}]},{\"type\":\"model\",\"name\":\"Notification\",\"properties\":[{\"name\":\"background\",\"kind\":\"Any\",\"default\":null},{\"name\":\"duration\",\"kind\":\"Any\",\"default\":3000},{\"name\":\"icon\",\"kind\":\"Any\",\"default\":null},{\"name\":\"message\",\"kind\":\"Any\",\"default\":\"\"},{\"name\":\"notification_type\",\"kind\":\"Any\",\"default\":null},{\"name\":\"_rendered\",\"kind\":\"Any\",\"default\":false},{\"name\":\"_destroyed\",\"kind\":\"Any\",\"default\":false}]},{\"type\":\"model\",\"name\":\"TemplateActions1\",\"properties\":[{\"name\":\"open_modal\",\"kind\":\"Any\",\"default\":0},{\"name\":\"close_modal\",\"kind\":\"Any\",\"default\":0}]},{\"type\":\"model\",\"name\":\"BootstrapTemplateActions1\",\"properties\":[{\"name\":\"open_modal\",\"kind\":\"Any\",\"default\":0},{\"name\":\"close_modal\",\"kind\":\"Any\",\"default\":0}]},{\"type\":\"model\",\"name\":\"TemplateEditor1\",\"properties\":[{\"name\":\"layout\",\"kind\":\"Any\",\"default\":[]}]},{\"type\":\"model\",\"name\":\"MaterialTemplateActions1\",\"properties\":[{\"name\":\"open_modal\",\"kind\":\"Any\",\"default\":0},{\"name\":\"close_modal\",\"kind\":\"Any\",\"default\":0}]},{\"type\":\"model\",\"name\":\"ReactiveESM1\",\"properties\":[{\"name\":\"esm_constants\",\"kind\":\"Any\",\"default\":{\"type\":\"map\"}}]},{\"type\":\"model\",\"name\":\"JSComponent1\",\"properties\":[{\"name\":\"esm_constants\",\"kind\":\"Any\",\"default\":{\"type\":\"map\"}}]},{\"type\":\"model\",\"name\":\"ReactComponent1\",\"properties\":[{\"name\":\"esm_constants\",\"kind\":\"Any\",\"default\":{\"type\":\"map\"}}]},{\"type\":\"model\",\"name\":\"AnyWidgetComponent1\",\"properties\":[{\"name\":\"esm_constants\",\"kind\":\"Any\",\"default\":{\"type\":\"map\"}}]},{\"type\":\"model\",\"name\":\"request_value1\",\"properties\":[{\"name\":\"fill\",\"kind\":\"Any\",\"default\":\"none\"},{\"name\":\"_synced\",\"kind\":\"Any\",\"default\":null},{\"name\":\"_request_sync\",\"kind\":\"Any\",\"default\":0}]}]}};\n",
       "  var render_items = [{\"docid\":\"4bc398b5-7cef-4281-b142-37490980cf6e\",\"roots\":{\"078ef9eb-c087-4a53-936e-5319d3442f1b\":\"e9e9d9b4-b338-419b-9763-87f5af0f28f2\"},\"root_ids\":[\"078ef9eb-c087-4a53-936e-5319d3442f1b\"]}];\n",
       "  var docs = Object.values(docs_json)\n",
       "  if (!docs) {\n",
       "    return\n",
       "  }\n",
       "  const py_version = docs[0].version.replace('rc', '-rc.').replace('.dev', '-dev.')\n",
       "  async function embed_document(root) {\n",
       "    var Bokeh = get_bokeh(root)\n",
       "    await Bokeh.embed.embed_items_notebook(docs_json, render_items);\n",
       "    for (const render_item of render_items) {\n",
       "      for (const root_id of render_item.root_ids) {\n",
       "\tconst id_el = document.getElementById(root_id)\n",
       "\tif (id_el.children.length && id_el.children[0].hasAttribute('data-root-id')) {\n",
       "\t  const root_el = id_el.children[0]\n",
       "\t  root_el.id = root_el.id + '-rendered'\n",
       "\t  for (const child of root_el.children) {\n",
       "            // Ensure JupyterLab does not capture keyboard shortcuts\n",
       "            // see: https://jupyterlab.readthedocs.io/en/4.1.x/extension/notebook.html#keyboard-interaction-model\n",
       "\t    child.setAttribute('data-lm-suppress-shortcuts', 'true')\n",
       "\t  }\n",
       "\t}\n",
       "      }\n",
       "    }\n",
       "  }\n",
       "  function get_bokeh(root) {\n",
       "    if (root.Bokeh === undefined) {\n",
       "      return null\n",
       "    } else if (root.Bokeh.version !== py_version) {\n",
       "      if (root.Bokeh.versions === undefined || !root.Bokeh.versions.has(py_version)) {\n",
       "\treturn null\n",
       "      }\n",
       "      return root.Bokeh.versions.get(py_version);\n",
       "    } else if (root.Bokeh.version === py_version) {\n",
       "      return root.Bokeh\n",
       "    }\n",
       "    return null\n",
       "  }\n",
       "  function is_loaded(root) {\n",
       "    var Bokeh = get_bokeh(root)\n",
       "    return (Bokeh != null && Bokeh.Panel !== undefined)\n",
       "  }\n",
       "  if (is_loaded(root)) {\n",
       "    embed_document(root);\n",
       "  } else {\n",
       "    var attempts = 0;\n",
       "    var timer = setInterval(function(root) {\n",
       "      if (is_loaded(root)) {\n",
       "        clearInterval(timer);\n",
       "        embed_document(root);\n",
       "      } else if (document.readyState == \"complete\") {\n",
       "        attempts++;\n",
       "        if (attempts > 200) {\n",
       "          clearInterval(timer);\n",
       "\t  var Bokeh = get_bokeh(root)\n",
       "\t  if (Bokeh == null || Bokeh.Panel == null) {\n",
       "            console.warn(\"Panel: ERROR: Unable to run Panel code because Bokeh or Panel library is missing\");\n",
       "\t  } else {\n",
       "\t    console.warn(\"Panel: WARNING: Attempting to render but not all required libraries could be resolved.\")\n",
       "\t    embed_document(root)\n",
       "\t  }\n",
       "        }\n",
       "      }\n",
       "    }, 25, root)\n",
       "  }\n",
       "})(window);</script>"
      ],
      "text/plain": [
       ":DynamicMap   []\n",
       "   :Overlay\n",
       "      .Points.I  :Points   [ext_offset,offset]\n",
       "      .Points.II :Points   [ext_offset,offset]"
      ]
     },
     "execution_count": 10,
     "metadata": {
      "application/vnd.holoviews_exec.v0+json": {
       "id": "078ef9eb-c087-4a53-936e-5319d3442f1b"
      }
     },
     "output_type": "execute_result"
    }
   ],
   "source": [
    "gc.glitch_plot(plotdots={\"success\":\"+g\", \"reset\":\"xr\", \"normal\":None}, x_index=\"ext_offset\", y_index=\"offset\")"
   ]
  },
  {
   "cell_type": "markdown",
   "metadata": {},
   "source": [
    "And make a glitch loop. Make sure you use some successful settings that you found in the previous lab, since it will make this one much shorter!\n",
    "\n",
    "One change you probably want to make is to add a scan for ext_offset. The number of places we can insert a successful glitch has gone way down. Doing this will also be very important for future labs."
   ]
  },
  {
   "cell_type": "code",
   "execution_count": 11,
   "metadata": {
    "execution": {
     "iopub.execute_input": "2025-03-15T00:33:50.114842Z",
     "iopub.status.busy": "2025-03-15T00:33:50.114038Z",
     "iopub.status.idle": "2025-03-15T00:34:15.854660Z",
     "shell.execute_reply": "2025-03-15T00:34:15.848703Z"
    }
   },
   "outputs": [],
   "source": [
    "from tqdm.notebook import tqdm\n",
    "import re\n",
    "import struct\n",
    "sample_size = 1\n",
    "\n",
    "if scope._is_husky:\n",
    "    gc.set_range(\"width\", 3500, 4500)\n",
    "    gc.set_range(\"offset\", 1300, 3200)\n",
    "    gc.set_global_step([400, 200, 100])\n",
    "    gc.set_range(\"ext_offset\", 60, 100)\n",
    "    gc.set_step(\"ext_offset\", 1)\n",
    "else:\n",
    "    gc.set_global_step(1)\n",
    "    if PLATFORM == \"CWLITEXMEGA\":\n",
    "        gc.set_range(\"width\", 45, 49.8)\n",
    "        gc.set_range(\"offset\", -46, -49.8)\n",
    "        gc.set_range(\"ext_offset\", 4, 70)\n",
    "        sample_size = 10\n",
    "    elif PLATFORM == \"CW308_STM32F4\":\n",
    "        gc.set_range(\"width\", 0.4, 10)\n",
    "        gc.set_range(\"offset\", 40, 49.8)\n",
    "    elif PLATFORM == \"CWLITEARM\":\n",
    "        gc.set_range(\"width\", 0.8, 3.6)\n",
    "        gc.set_range(\"offset\", -4, -2)\n",
    "        gc.set_range(\"ext_offset\", 0, 100)\n",
    "        gc.set_global_step(0.4)\n",
    "\n",
    "gc.set_step(\"ext_offset\", 1)\n",
    "scope.glitch.repeat = 1\n",
    "reboot_flush()\n",
    "broken = False\n",
    "scope.adc.timeout = 0.5\n",
    "\n",
    "for glitch_settings in gc.glitch_values():\n",
    "    scope.glitch.offset = glitch_settings[1]\n",
    "    scope.glitch.width = glitch_settings[0]\n",
    "    scope.glitch.ext_offset = glitch_settings[2]\n",
    "    for i in range(sample_size):\n",
    "        if scope.adc.state:\n",
    "            # can detect crash here (fast) before timing out (slow)\n",
    "            print(\"Trigger still high!\")\n",
    "            gc.add(\"reset\")\n",
    "            \n",
    "            #Device is slow to boot?\n",
    "            reboot_flush()\n",
    "\n",
    "        scope.arm()\n",
    "        target.simpleserial_write('p', bytearray([0]*5))\n",
    "\n",
    "        ret = scope.capture()\n",
    "\n",
    "        if ret:\n",
    "            print('Timeout - no trigger')\n",
    "            gc.add(\"reset\")\n",
    "\n",
    "            #Device is slow to boot?\n",
    "            reboot_flush()\n",
    "\n",
    "        else:\n",
    "            val = target.simpleserial_read_witherrors('r', 1, glitch_timeout=10, timeout=50)#For loop check\n",
    "            if val['valid'] is False:\n",
    "                gc.add(\"reset\")\n",
    "            else:\n",
    "\n",
    "                if val['payload'] == bytearray([1]): #for loop check\n",
    "                    #broken = True\n",
    "                    gc.add(\"success\")\n",
    "                    print(val['payload'])\n",
    "                    print(scope.glitch.width, scope.glitch.offset, scope.glitch.ext_offset)\n",
    "                    print(\"🐙\", end=\"\")\n",
    "                    #break\n",
    "                else:\n",
    "                    gc.add(\"normal\")\n",
    "    if broken:\n",
    "        break"
   ]
  },
  {
   "cell_type": "markdown",
   "metadata": {},
   "source": [
    "For this lab, you may want two copies of your results; one for finding effective ext_offsets:"
   ]
  },
  {
   "cell_type": "code",
   "execution_count": 12,
   "metadata": {
    "execution": {
     "iopub.execute_input": "2025-03-15T00:34:15.864970Z",
     "iopub.status.busy": "2025-03-15T00:34:15.863411Z",
     "iopub.status.idle": "2025-03-15T00:34:15.895806Z",
     "shell.execute_reply": "2025-03-15T00:34:15.893626Z"
    }
   },
   "outputs": [
    {
     "data": {
      "text/plain": [
       "[((10.0,),\n",
       "  {'total': 100,\n",
       "   'success': 0,\n",
       "   'success_rate': 0.0,\n",
       "   'reset': 0,\n",
       "   'reset_rate': 0.0,\n",
       "   'normal': 100,\n",
       "   'normal_rate': 1.0}),\n",
       " ((9.0,),\n",
       "  {'total': 100,\n",
       "   'success': 0,\n",
       "   'success_rate': 0.0,\n",
       "   'reset': 0,\n",
       "   'reset_rate': 0.0,\n",
       "   'normal': 100,\n",
       "   'normal_rate': 1.0}),\n",
       " ((8.0,),\n",
       "  {'total': 100,\n",
       "   'success': 0,\n",
       "   'success_rate': 0.0,\n",
       "   'reset': 0,\n",
       "   'reset_rate': 0.0,\n",
       "   'normal': 100,\n",
       "   'normal_rate': 1.0}),\n",
       " ((7.0,),\n",
       "  {'total': 100,\n",
       "   'success': 0,\n",
       "   'success_rate': 0.0,\n",
       "   'reset': 0,\n",
       "   'reset_rate': 0.0,\n",
       "   'normal': 100,\n",
       "   'normal_rate': 1.0}),\n",
       " ((6.0,),\n",
       "  {'total': 100,\n",
       "   'success': 0,\n",
       "   'success_rate': 0.0,\n",
       "   'reset': 0,\n",
       "   'reset_rate': 0.0,\n",
       "   'normal': 100,\n",
       "   'normal_rate': 1.0}),\n",
       " ((5.0,),\n",
       "  {'total': 100,\n",
       "   'success': 0,\n",
       "   'success_rate': 0.0,\n",
       "   'reset': 0,\n",
       "   'reset_rate': 0.0,\n",
       "   'normal': 100,\n",
       "   'normal_rate': 1.0}),\n",
       " ((4.0,),\n",
       "  {'total': 100,\n",
       "   'success': 0,\n",
       "   'success_rate': 0.0,\n",
       "   'reset': 0,\n",
       "   'reset_rate': 0.0,\n",
       "   'normal': 100,\n",
       "   'normal_rate': 1.0}),\n",
       " ((3.0,),\n",
       "  {'total': 100,\n",
       "   'success': 0,\n",
       "   'success_rate': 0.0,\n",
       "   'reset': 0,\n",
       "   'reset_rate': 0.0,\n",
       "   'normal': 100,\n",
       "   'normal_rate': 1.0}),\n",
       " ((2.0,),\n",
       "  {'total': 100,\n",
       "   'success': 0,\n",
       "   'success_rate': 0.0,\n",
       "   'reset': 0,\n",
       "   'reset_rate': 0.0,\n",
       "   'normal': 100,\n",
       "   'normal_rate': 1.0}),\n",
       " ((1.0,),\n",
       "  {'total': 100,\n",
       "   'success': 0,\n",
       "   'success_rate': 0.0,\n",
       "   'reset': 0,\n",
       "   'reset_rate': 0.0,\n",
       "   'normal': 100,\n",
       "   'normal_rate': 1.0}),\n",
       " ((0.0,),\n",
       "  {'total': 100,\n",
       "   'success': 0,\n",
       "   'success_rate': 0.0,\n",
       "   'reset': 0,\n",
       "   'reset_rate': 0.0,\n",
       "   'normal': 100,\n",
       "   'normal_rate': 1.0})]"
      ]
     },
     "execution_count": 12,
     "metadata": {},
     "output_type": "execute_result"
    }
   ],
   "source": [
    "results = gc.calc(ignore_params=[\"width\", \"offset\"], sort=\"success_rate\")\n",
    "results"
   ]
  },
  {
   "cell_type": "markdown",
   "metadata": {},
   "source": [
    "And one for your width/offset settings:"
   ]
  },
  {
   "cell_type": "code",
   "execution_count": 13,
   "metadata": {
    "execution": {
     "iopub.execute_input": "2025-03-15T00:34:15.903556Z",
     "iopub.status.busy": "2025-03-15T00:34:15.902336Z",
     "iopub.status.idle": "2025-03-15T00:34:16.014686Z",
     "shell.execute_reply": "2025-03-15T00:34:16.012536Z"
    }
   },
   "outputs": [
    {
     "data": {
      "text/plain": [
       "[((9.4, 49),\n",
       "  {'total': 11,\n",
       "   'success': 0,\n",
       "   'success_rate': 0.0,\n",
       "   'reset': 0,\n",
       "   'reset_rate': 0.0,\n",
       "   'normal': 11,\n",
       "   'normal_rate': 1.0}),\n",
       " ((9.4, 48),\n",
       "  {'total': 11,\n",
       "   'success': 0,\n",
       "   'success_rate': 0.0,\n",
       "   'reset': 0,\n",
       "   'reset_rate': 0.0,\n",
       "   'normal': 11,\n",
       "   'normal_rate': 1.0}),\n",
       " ((9.4, 47),\n",
       "  {'total': 11,\n",
       "   'success': 0,\n",
       "   'success_rate': 0.0,\n",
       "   'reset': 0,\n",
       "   'reset_rate': 0.0,\n",
       "   'normal': 11,\n",
       "   'normal_rate': 1.0}),\n",
       " ((9.4, 46),\n",
       "  {'total': 11,\n",
       "   'success': 0,\n",
       "   'success_rate': 0.0,\n",
       "   'reset': 0,\n",
       "   'reset_rate': 0.0,\n",
       "   'normal': 11,\n",
       "   'normal_rate': 1.0}),\n",
       " ((9.4, 45),\n",
       "  {'total': 11,\n",
       "   'success': 0,\n",
       "   'success_rate': 0.0,\n",
       "   'reset': 0,\n",
       "   'reset_rate': 0.0,\n",
       "   'normal': 11,\n",
       "   'normal_rate': 1.0}),\n",
       " ((9.4, 44),\n",
       "  {'total': 11,\n",
       "   'success': 0,\n",
       "   'success_rate': 0.0,\n",
       "   'reset': 0,\n",
       "   'reset_rate': 0.0,\n",
       "   'normal': 11,\n",
       "   'normal_rate': 1.0}),\n",
       " ((9.4, 43),\n",
       "  {'total': 11,\n",
       "   'success': 0,\n",
       "   'success_rate': 0.0,\n",
       "   'reset': 0,\n",
       "   'reset_rate': 0.0,\n",
       "   'normal': 11,\n",
       "   'normal_rate': 1.0}),\n",
       " ((9.4, 42),\n",
       "  {'total': 11,\n",
       "   'success': 0,\n",
       "   'success_rate': 0.0,\n",
       "   'reset': 0,\n",
       "   'reset_rate': 0.0,\n",
       "   'normal': 11,\n",
       "   'normal_rate': 1.0}),\n",
       " ((9.4, 41),\n",
       "  {'total': 11,\n",
       "   'success': 0,\n",
       "   'success_rate': 0.0,\n",
       "   'reset': 0,\n",
       "   'reset_rate': 0.0,\n",
       "   'normal': 11,\n",
       "   'normal_rate': 1.0}),\n",
       " ((9.4, 40),\n",
       "  {'total': 11,\n",
       "   'success': 0,\n",
       "   'success_rate': 0.0,\n",
       "   'reset': 0,\n",
       "   'reset_rate': 0.0,\n",
       "   'normal': 11,\n",
       "   'normal_rate': 1.0}),\n",
       " ((8.4, 49),\n",
       "  {'total': 11,\n",
       "   'success': 0,\n",
       "   'success_rate': 0.0,\n",
       "   'reset': 0,\n",
       "   'reset_rate': 0.0,\n",
       "   'normal': 11,\n",
       "   'normal_rate': 1.0}),\n",
       " ((8.4, 48),\n",
       "  {'total': 11,\n",
       "   'success': 0,\n",
       "   'success_rate': 0.0,\n",
       "   'reset': 0,\n",
       "   'reset_rate': 0.0,\n",
       "   'normal': 11,\n",
       "   'normal_rate': 1.0}),\n",
       " ((8.4, 47),\n",
       "  {'total': 11,\n",
       "   'success': 0,\n",
       "   'success_rate': 0.0,\n",
       "   'reset': 0,\n",
       "   'reset_rate': 0.0,\n",
       "   'normal': 11,\n",
       "   'normal_rate': 1.0}),\n",
       " ((8.4, 46),\n",
       "  {'total': 11,\n",
       "   'success': 0,\n",
       "   'success_rate': 0.0,\n",
       "   'reset': 0,\n",
       "   'reset_rate': 0.0,\n",
       "   'normal': 11,\n",
       "   'normal_rate': 1.0}),\n",
       " ((8.4, 45),\n",
       "  {'total': 11,\n",
       "   'success': 0,\n",
       "   'success_rate': 0.0,\n",
       "   'reset': 0,\n",
       "   'reset_rate': 0.0,\n",
       "   'normal': 11,\n",
       "   'normal_rate': 1.0}),\n",
       " ((8.4, 44),\n",
       "  {'total': 11,\n",
       "   'success': 0,\n",
       "   'success_rate': 0.0,\n",
       "   'reset': 0,\n",
       "   'reset_rate': 0.0,\n",
       "   'normal': 11,\n",
       "   'normal_rate': 1.0}),\n",
       " ((8.4, 43),\n",
       "  {'total': 11,\n",
       "   'success': 0,\n",
       "   'success_rate': 0.0,\n",
       "   'reset': 0,\n",
       "   'reset_rate': 0.0,\n",
       "   'normal': 11,\n",
       "   'normal_rate': 1.0}),\n",
       " ((8.4, 42),\n",
       "  {'total': 11,\n",
       "   'success': 0,\n",
       "   'success_rate': 0.0,\n",
       "   'reset': 0,\n",
       "   'reset_rate': 0.0,\n",
       "   'normal': 11,\n",
       "   'normal_rate': 1.0}),\n",
       " ((8.4, 41),\n",
       "  {'total': 11,\n",
       "   'success': 0,\n",
       "   'success_rate': 0.0,\n",
       "   'reset': 0,\n",
       "   'reset_rate': 0.0,\n",
       "   'normal': 11,\n",
       "   'normal_rate': 1.0}),\n",
       " ((8.4, 40),\n",
       "  {'total': 11,\n",
       "   'success': 0,\n",
       "   'success_rate': 0.0,\n",
       "   'reset': 0,\n",
       "   'reset_rate': 0.0,\n",
       "   'normal': 11,\n",
       "   'normal_rate': 1.0}),\n",
       " ((7.4, 49),\n",
       "  {'total': 11,\n",
       "   'success': 0,\n",
       "   'success_rate': 0.0,\n",
       "   'reset': 0,\n",
       "   'reset_rate': 0.0,\n",
       "   'normal': 11,\n",
       "   'normal_rate': 1.0}),\n",
       " ((7.4, 48),\n",
       "  {'total': 11,\n",
       "   'success': 0,\n",
       "   'success_rate': 0.0,\n",
       "   'reset': 0,\n",
       "   'reset_rate': 0.0,\n",
       "   'normal': 11,\n",
       "   'normal_rate': 1.0}),\n",
       " ((7.4, 47),\n",
       "  {'total': 11,\n",
       "   'success': 0,\n",
       "   'success_rate': 0.0,\n",
       "   'reset': 0,\n",
       "   'reset_rate': 0.0,\n",
       "   'normal': 11,\n",
       "   'normal_rate': 1.0}),\n",
       " ((7.4, 46),\n",
       "  {'total': 11,\n",
       "   'success': 0,\n",
       "   'success_rate': 0.0,\n",
       "   'reset': 0,\n",
       "   'reset_rate': 0.0,\n",
       "   'normal': 11,\n",
       "   'normal_rate': 1.0}),\n",
       " ((7.4, 45),\n",
       "  {'total': 11,\n",
       "   'success': 0,\n",
       "   'success_rate': 0.0,\n",
       "   'reset': 0,\n",
       "   'reset_rate': 0.0,\n",
       "   'normal': 11,\n",
       "   'normal_rate': 1.0}),\n",
       " ((7.4, 44),\n",
       "  {'total': 11,\n",
       "   'success': 0,\n",
       "   'success_rate': 0.0,\n",
       "   'reset': 0,\n",
       "   'reset_rate': 0.0,\n",
       "   'normal': 11,\n",
       "   'normal_rate': 1.0}),\n",
       " ((7.4, 43),\n",
       "  {'total': 11,\n",
       "   'success': 0,\n",
       "   'success_rate': 0.0,\n",
       "   'reset': 0,\n",
       "   'reset_rate': 0.0,\n",
       "   'normal': 11,\n",
       "   'normal_rate': 1.0}),\n",
       " ((7.4, 42),\n",
       "  {'total': 11,\n",
       "   'success': 0,\n",
       "   'success_rate': 0.0,\n",
       "   'reset': 0,\n",
       "   'reset_rate': 0.0,\n",
       "   'normal': 11,\n",
       "   'normal_rate': 1.0}),\n",
       " ((7.4, 41),\n",
       "  {'total': 11,\n",
       "   'success': 0,\n",
       "   'success_rate': 0.0,\n",
       "   'reset': 0,\n",
       "   'reset_rate': 0.0,\n",
       "   'normal': 11,\n",
       "   'normal_rate': 1.0}),\n",
       " ((7.4, 40),\n",
       "  {'total': 11,\n",
       "   'success': 0,\n",
       "   'success_rate': 0.0,\n",
       "   'reset': 0,\n",
       "   'reset_rate': 0.0,\n",
       "   'normal': 11,\n",
       "   'normal_rate': 1.0}),\n",
       " ((6.4, 49),\n",
       "  {'total': 11,\n",
       "   'success': 0,\n",
       "   'success_rate': 0.0,\n",
       "   'reset': 0,\n",
       "   'reset_rate': 0.0,\n",
       "   'normal': 11,\n",
       "   'normal_rate': 1.0}),\n",
       " ((6.4, 48),\n",
       "  {'total': 11,\n",
       "   'success': 0,\n",
       "   'success_rate': 0.0,\n",
       "   'reset': 0,\n",
       "   'reset_rate': 0.0,\n",
       "   'normal': 11,\n",
       "   'normal_rate': 1.0}),\n",
       " ((6.4, 47),\n",
       "  {'total': 11,\n",
       "   'success': 0,\n",
       "   'success_rate': 0.0,\n",
       "   'reset': 0,\n",
       "   'reset_rate': 0.0,\n",
       "   'normal': 11,\n",
       "   'normal_rate': 1.0}),\n",
       " ((6.4, 46),\n",
       "  {'total': 11,\n",
       "   'success': 0,\n",
       "   'success_rate': 0.0,\n",
       "   'reset': 0,\n",
       "   'reset_rate': 0.0,\n",
       "   'normal': 11,\n",
       "   'normal_rate': 1.0}),\n",
       " ((6.4, 45),\n",
       "  {'total': 11,\n",
       "   'success': 0,\n",
       "   'success_rate': 0.0,\n",
       "   'reset': 0,\n",
       "   'reset_rate': 0.0,\n",
       "   'normal': 11,\n",
       "   'normal_rate': 1.0}),\n",
       " ((6.4, 44),\n",
       "  {'total': 11,\n",
       "   'success': 0,\n",
       "   'success_rate': 0.0,\n",
       "   'reset': 0,\n",
       "   'reset_rate': 0.0,\n",
       "   'normal': 11,\n",
       "   'normal_rate': 1.0}),\n",
       " ((6.4, 43),\n",
       "  {'total': 11,\n",
       "   'success': 0,\n",
       "   'success_rate': 0.0,\n",
       "   'reset': 0,\n",
       "   'reset_rate': 0.0,\n",
       "   'normal': 11,\n",
       "   'normal_rate': 1.0}),\n",
       " ((6.4, 42),\n",
       "  {'total': 11,\n",
       "   'success': 0,\n",
       "   'success_rate': 0.0,\n",
       "   'reset': 0,\n",
       "   'reset_rate': 0.0,\n",
       "   'normal': 11,\n",
       "   'normal_rate': 1.0}),\n",
       " ((6.4, 41),\n",
       "  {'total': 11,\n",
       "   'success': 0,\n",
       "   'success_rate': 0.0,\n",
       "   'reset': 0,\n",
       "   'reset_rate': 0.0,\n",
       "   'normal': 11,\n",
       "   'normal_rate': 1.0}),\n",
       " ((6.4, 40),\n",
       "  {'total': 11,\n",
       "   'success': 0,\n",
       "   'success_rate': 0.0,\n",
       "   'reset': 0,\n",
       "   'reset_rate': 0.0,\n",
       "   'normal': 11,\n",
       "   'normal_rate': 1.0}),\n",
       " ((5.4, 49),\n",
       "  {'total': 11,\n",
       "   'success': 0,\n",
       "   'success_rate': 0.0,\n",
       "   'reset': 0,\n",
       "   'reset_rate': 0.0,\n",
       "   'normal': 11,\n",
       "   'normal_rate': 1.0}),\n",
       " ((5.4, 48),\n",
       "  {'total': 11,\n",
       "   'success': 0,\n",
       "   'success_rate': 0.0,\n",
       "   'reset': 0,\n",
       "   'reset_rate': 0.0,\n",
       "   'normal': 11,\n",
       "   'normal_rate': 1.0}),\n",
       " ((5.4, 47),\n",
       "  {'total': 11,\n",
       "   'success': 0,\n",
       "   'success_rate': 0.0,\n",
       "   'reset': 0,\n",
       "   'reset_rate': 0.0,\n",
       "   'normal': 11,\n",
       "   'normal_rate': 1.0}),\n",
       " ((5.4, 46),\n",
       "  {'total': 11,\n",
       "   'success': 0,\n",
       "   'success_rate': 0.0,\n",
       "   'reset': 0,\n",
       "   'reset_rate': 0.0,\n",
       "   'normal': 11,\n",
       "   'normal_rate': 1.0}),\n",
       " ((5.4, 45),\n",
       "  {'total': 11,\n",
       "   'success': 0,\n",
       "   'success_rate': 0.0,\n",
       "   'reset': 0,\n",
       "   'reset_rate': 0.0,\n",
       "   'normal': 11,\n",
       "   'normal_rate': 1.0}),\n",
       " ((5.4, 44),\n",
       "  {'total': 11,\n",
       "   'success': 0,\n",
       "   'success_rate': 0.0,\n",
       "   'reset': 0,\n",
       "   'reset_rate': 0.0,\n",
       "   'normal': 11,\n",
       "   'normal_rate': 1.0}),\n",
       " ((5.4, 43),\n",
       "  {'total': 11,\n",
       "   'success': 0,\n",
       "   'success_rate': 0.0,\n",
       "   'reset': 0,\n",
       "   'reset_rate': 0.0,\n",
       "   'normal': 11,\n",
       "   'normal_rate': 1.0}),\n",
       " ((5.4, 42),\n",
       "  {'total': 11,\n",
       "   'success': 0,\n",
       "   'success_rate': 0.0,\n",
       "   'reset': 0,\n",
       "   'reset_rate': 0.0,\n",
       "   'normal': 11,\n",
       "   'normal_rate': 1.0}),\n",
       " ((5.4, 41),\n",
       "  {'total': 11,\n",
       "   'success': 0,\n",
       "   'success_rate': 0.0,\n",
       "   'reset': 0,\n",
       "   'reset_rate': 0.0,\n",
       "   'normal': 11,\n",
       "   'normal_rate': 1.0}),\n",
       " ((5.4, 40),\n",
       "  {'total': 11,\n",
       "   'success': 0,\n",
       "   'success_rate': 0.0,\n",
       "   'reset': 0,\n",
       "   'reset_rate': 0.0,\n",
       "   'normal': 11,\n",
       "   'normal_rate': 1.0}),\n",
       " ((4.4, 49),\n",
       "  {'total': 11,\n",
       "   'success': 0,\n",
       "   'success_rate': 0.0,\n",
       "   'reset': 0,\n",
       "   'reset_rate': 0.0,\n",
       "   'normal': 11,\n",
       "   'normal_rate': 1.0}),\n",
       " ((4.4, 48),\n",
       "  {'total': 11,\n",
       "   'success': 0,\n",
       "   'success_rate': 0.0,\n",
       "   'reset': 0,\n",
       "   'reset_rate': 0.0,\n",
       "   'normal': 11,\n",
       "   'normal_rate': 1.0}),\n",
       " ((4.4, 47),\n",
       "  {'total': 11,\n",
       "   'success': 0,\n",
       "   'success_rate': 0.0,\n",
       "   'reset': 0,\n",
       "   'reset_rate': 0.0,\n",
       "   'normal': 11,\n",
       "   'normal_rate': 1.0}),\n",
       " ((4.4, 46),\n",
       "  {'total': 11,\n",
       "   'success': 0,\n",
       "   'success_rate': 0.0,\n",
       "   'reset': 0,\n",
       "   'reset_rate': 0.0,\n",
       "   'normal': 11,\n",
       "   'normal_rate': 1.0}),\n",
       " ((4.4, 45),\n",
       "  {'total': 11,\n",
       "   'success': 0,\n",
       "   'success_rate': 0.0,\n",
       "   'reset': 0,\n",
       "   'reset_rate': 0.0,\n",
       "   'normal': 11,\n",
       "   'normal_rate': 1.0}),\n",
       " ((4.4, 44),\n",
       "  {'total': 11,\n",
       "   'success': 0,\n",
       "   'success_rate': 0.0,\n",
       "   'reset': 0,\n",
       "   'reset_rate': 0.0,\n",
       "   'normal': 11,\n",
       "   'normal_rate': 1.0}),\n",
       " ((4.4, 43),\n",
       "  {'total': 11,\n",
       "   'success': 0,\n",
       "   'success_rate': 0.0,\n",
       "   'reset': 0,\n",
       "   'reset_rate': 0.0,\n",
       "   'normal': 11,\n",
       "   'normal_rate': 1.0}),\n",
       " ((4.4, 42),\n",
       "  {'total': 11,\n",
       "   'success': 0,\n",
       "   'success_rate': 0.0,\n",
       "   'reset': 0,\n",
       "   'reset_rate': 0.0,\n",
       "   'normal': 11,\n",
       "   'normal_rate': 1.0}),\n",
       " ((4.4, 41),\n",
       "  {'total': 11,\n",
       "   'success': 0,\n",
       "   'success_rate': 0.0,\n",
       "   'reset': 0,\n",
       "   'reset_rate': 0.0,\n",
       "   'normal': 11,\n",
       "   'normal_rate': 1.0}),\n",
       " ((4.4, 40),\n",
       "  {'total': 11,\n",
       "   'success': 0,\n",
       "   'success_rate': 0.0,\n",
       "   'reset': 0,\n",
       "   'reset_rate': 0.0,\n",
       "   'normal': 11,\n",
       "   'normal_rate': 1.0}),\n",
       " ((3.4, 49),\n",
       "  {'total': 11,\n",
       "   'success': 0,\n",
       "   'success_rate': 0.0,\n",
       "   'reset': 0,\n",
       "   'reset_rate': 0.0,\n",
       "   'normal': 11,\n",
       "   'normal_rate': 1.0}),\n",
       " ((3.4, 48),\n",
       "  {'total': 11,\n",
       "   'success': 0,\n",
       "   'success_rate': 0.0,\n",
       "   'reset': 0,\n",
       "   'reset_rate': 0.0,\n",
       "   'normal': 11,\n",
       "   'normal_rate': 1.0}),\n",
       " ((3.4, 47),\n",
       "  {'total': 11,\n",
       "   'success': 0,\n",
       "   'success_rate': 0.0,\n",
       "   'reset': 0,\n",
       "   'reset_rate': 0.0,\n",
       "   'normal': 11,\n",
       "   'normal_rate': 1.0}),\n",
       " ((3.4, 46),\n",
       "  {'total': 11,\n",
       "   'success': 0,\n",
       "   'success_rate': 0.0,\n",
       "   'reset': 0,\n",
       "   'reset_rate': 0.0,\n",
       "   'normal': 11,\n",
       "   'normal_rate': 1.0}),\n",
       " ((3.4, 45),\n",
       "  {'total': 11,\n",
       "   'success': 0,\n",
       "   'success_rate': 0.0,\n",
       "   'reset': 0,\n",
       "   'reset_rate': 0.0,\n",
       "   'normal': 11,\n",
       "   'normal_rate': 1.0}),\n",
       " ((3.4, 44),\n",
       "  {'total': 11,\n",
       "   'success': 0,\n",
       "   'success_rate': 0.0,\n",
       "   'reset': 0,\n",
       "   'reset_rate': 0.0,\n",
       "   'normal': 11,\n",
       "   'normal_rate': 1.0}),\n",
       " ((3.4, 43),\n",
       "  {'total': 11,\n",
       "   'success': 0,\n",
       "   'success_rate': 0.0,\n",
       "   'reset': 0,\n",
       "   'reset_rate': 0.0,\n",
       "   'normal': 11,\n",
       "   'normal_rate': 1.0}),\n",
       " ((3.4, 42),\n",
       "  {'total': 11,\n",
       "   'success': 0,\n",
       "   'success_rate': 0.0,\n",
       "   'reset': 0,\n",
       "   'reset_rate': 0.0,\n",
       "   'normal': 11,\n",
       "   'normal_rate': 1.0}),\n",
       " ((3.4, 41),\n",
       "  {'total': 11,\n",
       "   'success': 0,\n",
       "   'success_rate': 0.0,\n",
       "   'reset': 0,\n",
       "   'reset_rate': 0.0,\n",
       "   'normal': 11,\n",
       "   'normal_rate': 1.0}),\n",
       " ((3.4, 40),\n",
       "  {'total': 11,\n",
       "   'success': 0,\n",
       "   'success_rate': 0.0,\n",
       "   'reset': 0,\n",
       "   'reset_rate': 0.0,\n",
       "   'normal': 11,\n",
       "   'normal_rate': 1.0}),\n",
       " ((2.4, 49),\n",
       "  {'total': 11,\n",
       "   'success': 0,\n",
       "   'success_rate': 0.0,\n",
       "   'reset': 0,\n",
       "   'reset_rate': 0.0,\n",
       "   'normal': 11,\n",
       "   'normal_rate': 1.0}),\n",
       " ((2.4, 48),\n",
       "  {'total': 11,\n",
       "   'success': 0,\n",
       "   'success_rate': 0.0,\n",
       "   'reset': 0,\n",
       "   'reset_rate': 0.0,\n",
       "   'normal': 11,\n",
       "   'normal_rate': 1.0}),\n",
       " ((2.4, 47),\n",
       "  {'total': 11,\n",
       "   'success': 0,\n",
       "   'success_rate': 0.0,\n",
       "   'reset': 0,\n",
       "   'reset_rate': 0.0,\n",
       "   'normal': 11,\n",
       "   'normal_rate': 1.0}),\n",
       " ((2.4, 46),\n",
       "  {'total': 11,\n",
       "   'success': 0,\n",
       "   'success_rate': 0.0,\n",
       "   'reset': 0,\n",
       "   'reset_rate': 0.0,\n",
       "   'normal': 11,\n",
       "   'normal_rate': 1.0}),\n",
       " ((2.4, 45),\n",
       "  {'total': 11,\n",
       "   'success': 0,\n",
       "   'success_rate': 0.0,\n",
       "   'reset': 0,\n",
       "   'reset_rate': 0.0,\n",
       "   'normal': 11,\n",
       "   'normal_rate': 1.0}),\n",
       " ((2.4, 44),\n",
       "  {'total': 11,\n",
       "   'success': 0,\n",
       "   'success_rate': 0.0,\n",
       "   'reset': 0,\n",
       "   'reset_rate': 0.0,\n",
       "   'normal': 11,\n",
       "   'normal_rate': 1.0}),\n",
       " ((2.4, 43),\n",
       "  {'total': 11,\n",
       "   'success': 0,\n",
       "   'success_rate': 0.0,\n",
       "   'reset': 0,\n",
       "   'reset_rate': 0.0,\n",
       "   'normal': 11,\n",
       "   'normal_rate': 1.0}),\n",
       " ((2.4, 42),\n",
       "  {'total': 11,\n",
       "   'success': 0,\n",
       "   'success_rate': 0.0,\n",
       "   'reset': 0,\n",
       "   'reset_rate': 0.0,\n",
       "   'normal': 11,\n",
       "   'normal_rate': 1.0}),\n",
       " ((2.4, 41),\n",
       "  {'total': 11,\n",
       "   'success': 0,\n",
       "   'success_rate': 0.0,\n",
       "   'reset': 0,\n",
       "   'reset_rate': 0.0,\n",
       "   'normal': 11,\n",
       "   'normal_rate': 1.0}),\n",
       " ((2.4, 40),\n",
       "  {'total': 11,\n",
       "   'success': 0,\n",
       "   'success_rate': 0.0,\n",
       "   'reset': 0,\n",
       "   'reset_rate': 0.0,\n",
       "   'normal': 11,\n",
       "   'normal_rate': 1.0}),\n",
       " ((1.4, 49),\n",
       "  {'total': 11,\n",
       "   'success': 0,\n",
       "   'success_rate': 0.0,\n",
       "   'reset': 0,\n",
       "   'reset_rate': 0.0,\n",
       "   'normal': 11,\n",
       "   'normal_rate': 1.0}),\n",
       " ((1.4, 48),\n",
       "  {'total': 11,\n",
       "   'success': 0,\n",
       "   'success_rate': 0.0,\n",
       "   'reset': 0,\n",
       "   'reset_rate': 0.0,\n",
       "   'normal': 11,\n",
       "   'normal_rate': 1.0}),\n",
       " ((1.4, 47),\n",
       "  {'total': 11,\n",
       "   'success': 0,\n",
       "   'success_rate': 0.0,\n",
       "   'reset': 0,\n",
       "   'reset_rate': 0.0,\n",
       "   'normal': 11,\n",
       "   'normal_rate': 1.0}),\n",
       " ((1.4, 46),\n",
       "  {'total': 11,\n",
       "   'success': 0,\n",
       "   'success_rate': 0.0,\n",
       "   'reset': 0,\n",
       "   'reset_rate': 0.0,\n",
       "   'normal': 11,\n",
       "   'normal_rate': 1.0}),\n",
       " ((1.4, 45),\n",
       "  {'total': 11,\n",
       "   'success': 0,\n",
       "   'success_rate': 0.0,\n",
       "   'reset': 0,\n",
       "   'reset_rate': 0.0,\n",
       "   'normal': 11,\n",
       "   'normal_rate': 1.0}),\n",
       " ((1.4, 44),\n",
       "  {'total': 11,\n",
       "   'success': 0,\n",
       "   'success_rate': 0.0,\n",
       "   'reset': 0,\n",
       "   'reset_rate': 0.0,\n",
       "   'normal': 11,\n",
       "   'normal_rate': 1.0}),\n",
       " ((1.4, 43),\n",
       "  {'total': 11,\n",
       "   'success': 0,\n",
       "   'success_rate': 0.0,\n",
       "   'reset': 0,\n",
       "   'reset_rate': 0.0,\n",
       "   'normal': 11,\n",
       "   'normal_rate': 1.0}),\n",
       " ((1.4, 42),\n",
       "  {'total': 11,\n",
       "   'success': 0,\n",
       "   'success_rate': 0.0,\n",
       "   'reset': 0,\n",
       "   'reset_rate': 0.0,\n",
       "   'normal': 11,\n",
       "   'normal_rate': 1.0}),\n",
       " ((1.4, 41),\n",
       "  {'total': 11,\n",
       "   'success': 0,\n",
       "   'success_rate': 0.0,\n",
       "   'reset': 0,\n",
       "   'reset_rate': 0.0,\n",
       "   'normal': 11,\n",
       "   'normal_rate': 1.0}),\n",
       " ((1.4, 40),\n",
       "  {'total': 11,\n",
       "   'success': 0,\n",
       "   'success_rate': 0.0,\n",
       "   'reset': 0,\n",
       "   'reset_rate': 0.0,\n",
       "   'normal': 11,\n",
       "   'normal_rate': 1.0}),\n",
       " ((0.4, 49),\n",
       "  {'total': 11,\n",
       "   'success': 0,\n",
       "   'success_rate': 0.0,\n",
       "   'reset': 0,\n",
       "   'reset_rate': 0.0,\n",
       "   'normal': 11,\n",
       "   'normal_rate': 1.0}),\n",
       " ((0.4, 48),\n",
       "  {'total': 11,\n",
       "   'success': 0,\n",
       "   'success_rate': 0.0,\n",
       "   'reset': 0,\n",
       "   'reset_rate': 0.0,\n",
       "   'normal': 11,\n",
       "   'normal_rate': 1.0}),\n",
       " ((0.4, 47),\n",
       "  {'total': 11,\n",
       "   'success': 0,\n",
       "   'success_rate': 0.0,\n",
       "   'reset': 0,\n",
       "   'reset_rate': 0.0,\n",
       "   'normal': 11,\n",
       "   'normal_rate': 1.0}),\n",
       " ((0.4, 46),\n",
       "  {'total': 11,\n",
       "   'success': 0,\n",
       "   'success_rate': 0.0,\n",
       "   'reset': 0,\n",
       "   'reset_rate': 0.0,\n",
       "   'normal': 11,\n",
       "   'normal_rate': 1.0}),\n",
       " ((0.4, 45),\n",
       "  {'total': 11,\n",
       "   'success': 0,\n",
       "   'success_rate': 0.0,\n",
       "   'reset': 0,\n",
       "   'reset_rate': 0.0,\n",
       "   'normal': 11,\n",
       "   'normal_rate': 1.0}),\n",
       " ((0.4, 44),\n",
       "  {'total': 11,\n",
       "   'success': 0,\n",
       "   'success_rate': 0.0,\n",
       "   'reset': 0,\n",
       "   'reset_rate': 0.0,\n",
       "   'normal': 11,\n",
       "   'normal_rate': 1.0}),\n",
       " ((0.4, 43),\n",
       "  {'total': 11,\n",
       "   'success': 0,\n",
       "   'success_rate': 0.0,\n",
       "   'reset': 0,\n",
       "   'reset_rate': 0.0,\n",
       "   'normal': 11,\n",
       "   'normal_rate': 1.0}),\n",
       " ((0.4, 42),\n",
       "  {'total': 11,\n",
       "   'success': 0,\n",
       "   'success_rate': 0.0,\n",
       "   'reset': 0,\n",
       "   'reset_rate': 0.0,\n",
       "   'normal': 11,\n",
       "   'normal_rate': 1.0}),\n",
       " ((0.4, 41),\n",
       "  {'total': 11,\n",
       "   'success': 0,\n",
       "   'success_rate': 0.0,\n",
       "   'reset': 0,\n",
       "   'reset_rate': 0.0,\n",
       "   'normal': 11,\n",
       "   'normal_rate': 1.0}),\n",
       " ((0.4, 40),\n",
       "  {'total': 11,\n",
       "   'success': 0,\n",
       "   'success_rate': 0.0,\n",
       "   'reset': 0,\n",
       "   'reset_rate': 0.0,\n",
       "   'normal': 11,\n",
       "   'normal_rate': 1.0})]"
      ]
     },
     "execution_count": 13,
     "metadata": {},
     "output_type": "execute_result"
    }
   ],
   "source": [
    "results = gc.calc(ignore_params=[\"ext_offset\"], sort=\"success_rate\")\n",
    "results"
   ]
  },
  {
   "cell_type": "code",
   "execution_count": 14,
   "metadata": {
    "execution": {
     "iopub.execute_input": "2025-03-15T00:34:16.024875Z",
     "iopub.status.busy": "2025-03-15T00:34:16.023421Z",
     "iopub.status.idle": "2025-03-15T00:34:16.035827Z",
     "shell.execute_reply": "2025-03-15T00:34:16.033528Z"
    }
   },
   "outputs": [],
   "source": [
    "scope.dis()\n",
    "target.dis()"
   ]
  },
  {
   "cell_type": "code",
   "execution_count": 15,
   "metadata": {
    "execution": {
     "iopub.execute_input": "2025-03-15T00:34:16.043871Z",
     "iopub.status.busy": "2025-03-15T00:34:16.042717Z",
     "iopub.status.idle": "2025-03-15T00:34:17.430664Z",
     "shell.execute_reply": "2025-03-15T00:34:17.429313Z"
    }
   },
   "outputs": [
    {
     "ename": "AssertionError",
     "evalue": "",
     "output_type": "error",
     "traceback": [
      "---------------------------------------------------------------------------",
      "AssertionError                            Traceback (most recent call last)",
      "Cell In[15], line 1\n----> 1 assert broken is True\n",
      "AssertionError: "
     ]
    }
   ],
   "source": [
    "assert broken is True"
   ]
  }
 ],
 "metadata": {
  "kernelspec": {
   "display_name": "Python 3 (ipykernel)",
   "language": "python",
   "name": "python3"
  },
  "language_info": {
   "codemirror_mode": {
    "name": "ipython",
    "version": 3
   },
   "file_extension": ".py",
   "mimetype": "text/x-python",
   "name": "python",
   "nbconvert_exporter": "python",
   "pygments_lexer": "ipython3",
   "version": "3.10.2"
  },
  "widgets": {
   "application/vnd.jupyter.widget-state+json": {
    "state": {
     "0cb1baf262a44c16b85db3522d29f157": {
      "model_module": "@jupyter-widgets/base",
      "model_module_version": "2.0.0",
      "model_name": "LayoutModel",
      "state": {
       "_model_module": "@jupyter-widgets/base",
       "_model_module_version": "2.0.0",
       "_model_name": "LayoutModel",
       "_view_count": null,
       "_view_module": "@jupyter-widgets/base",
       "_view_module_version": "2.0.0",
       "_view_name": "LayoutView",
       "align_content": null,
       "align_items": null,
       "align_self": null,
       "border_bottom": null,
       "border_left": null,
       "border_right": null,
       "border_top": null,
       "bottom": null,
       "display": null,
       "flex": null,
       "flex_flow": null,
       "grid_area": null,
       "grid_auto_columns": null,
       "grid_auto_flow": null,
       "grid_auto_rows": null,
       "grid_column": null,
       "grid_gap": null,
       "grid_row": null,
       "grid_template_areas": null,
       "grid_template_columns": null,
       "grid_template_rows": null,
       "height": null,
       "justify_content": null,
       "justify_items": null,
       "left": null,
       "margin": null,
       "max_height": null,
       "max_width": null,
       "min_height": null,
       "min_width": null,
       "object_fit": null,
       "object_position": null,
       "order": null,
       "overflow": null,
       "padding": null,
       "right": null,
       "top": null,
       "visibility": null,
       "width": null
      }
     },
     "10b8b70737be429eb975749ce0f39499": {
      "model_module": "@jupyter-widgets/controls",
      "model_module_version": "2.0.0",
      "model_name": "SliderStyleModel",
      "state": {
       "_model_module": "@jupyter-widgets/controls",
       "_model_module_version": "2.0.0",
       "_model_name": "SliderStyleModel",
       "_view_count": null,
       "_view_module": "@jupyter-widgets/base",
       "_view_module_version": "2.0.0",
       "_view_name": "StyleView",
       "description_width": "",
       "handle_color": null
      }
     },
     "182711f22ed5446fa80f318f9ab0c990": {
      "model_module": "@jupyter-widgets/controls",
      "model_module_version": "2.0.0",
      "model_name": "DescriptionStyleModel",
      "state": {
       "_model_module": "@jupyter-widgets/controls",
       "_model_module_version": "2.0.0",
       "_model_name": "DescriptionStyleModel",
       "_view_count": null,
       "_view_module": "@jupyter-widgets/base",
       "_view_module_version": "2.0.0",
       "_view_name": "StyleView",
       "description_width": ""
      }
     },
     "1b15a6d644e74bbb8a6184bf49a832d0": {
      "model_module": "@jupyter-widgets/controls",
      "model_module_version": "2.0.0",
      "model_name": "FloatSliderModel",
      "state": {
       "_dom_classes": [],
       "_model_module": "@jupyter-widgets/controls",
       "_model_module_version": "2.0.0",
       "_model_name": "FloatSliderModel",
       "_view_count": null,
       "_view_module": "@jupyter-widgets/controls",
       "_view_module_version": "2.0.0",
       "_view_name": "FloatSliderView",
       "behavior": "drag-tap",
       "continuous_update": false,
       "description": "offset setting:",
       "description_allow_html": false,
       "disabled": true,
       "layout": "IPY_MODEL_bc604c933b774ec3a268adba9c876e54",
       "max": 49.8,
       "min": 40.0,
       "orientation": "horizontal",
       "readout": true,
       "readout_format": ".01f",
       "step": 0.01,
       "style": "IPY_MODEL_10b8b70737be429eb975749ce0f39499",
       "tabbable": null,
       "tooltip": null,
       "value": 40.0
      }
     },
     "33032123c9934fcdbde8e787dc2f2f2a": {
      "model_module": "@jupyter-widgets/controls",
      "model_module_version": "2.0.0",
      "model_name": "FloatSliderModel",
      "state": {
       "_dom_classes": [],
       "_model_module": "@jupyter-widgets/controls",
       "_model_module_version": "2.0.0",
       "_model_name": "FloatSliderModel",
       "_view_count": null,
       "_view_module": "@jupyter-widgets/controls",
       "_view_module_version": "2.0.0",
       "_view_name": "FloatSliderView",
       "behavior": "drag-tap",
       "continuous_update": false,
       "description": "ext_offset setting:",
       "description_allow_html": false,
       "disabled": true,
       "layout": "IPY_MODEL_ee246bec81384877a66b58692801b832",
       "max": 10.0,
       "min": 0.0,
       "orientation": "horizontal",
       "readout": true,
       "readout_format": ".01f",
       "step": 0.01,
       "style": "IPY_MODEL_64bd967f44764f02a15513cd78b6e4cb",
       "tabbable": null,
       "tooltip": null,
       "value": 0.0
      }
     },
     "33c1c92ec9384f35b72d45fa86a8402e": {
      "model_module": "@jupyter-widgets/base",
      "model_module_version": "2.0.0",
      "model_name": "LayoutModel",
      "state": {
       "_model_module": "@jupyter-widgets/base",
       "_model_module_version": "2.0.0",
       "_model_name": "LayoutModel",
       "_view_count": null,
       "_view_module": "@jupyter-widgets/base",
       "_view_module_version": "2.0.0",
       "_view_name": "LayoutView",
       "align_content": null,
       "align_items": null,
       "align_self": null,
       "border_bottom": null,
       "border_left": null,
       "border_right": null,
       "border_top": null,
       "bottom": null,
       "display": null,
       "flex": null,
       "flex_flow": null,
       "grid_area": null,
       "grid_auto_columns": null,
       "grid_auto_flow": null,
       "grid_auto_rows": null,
       "grid_column": null,
       "grid_gap": null,
       "grid_row": null,
       "grid_template_areas": null,
       "grid_template_columns": null,
       "grid_template_rows": null,
       "height": null,
       "justify_content": null,
       "justify_items": null,
       "left": null,
       "margin": null,
       "max_height": null,
       "max_width": null,
       "min_height": null,
       "min_width": null,
       "object_fit": null,
       "object_position": null,
       "order": null,
       "overflow": null,
       "padding": null,
       "right": null,
       "top": null,
       "visibility": null,
       "width": null
      }
     },
     "61adae0177f54ef68685358e87c4954a": {
      "model_module": "@jupyter-widgets/controls",
      "model_module_version": "2.0.0",
      "model_name": "DescriptionStyleModel",
      "state": {
       "_model_module": "@jupyter-widgets/controls",
       "_model_module_version": "2.0.0",
       "_model_name": "DescriptionStyleModel",
       "_view_count": null,
       "_view_module": "@jupyter-widgets/base",
       "_view_module_version": "2.0.0",
       "_view_name": "StyleView",
       "description_width": ""
      }
     },
     "64bd967f44764f02a15513cd78b6e4cb": {
      "model_module": "@jupyter-widgets/controls",
      "model_module_version": "2.0.0",
      "model_name": "SliderStyleModel",
      "state": {
       "_model_module": "@jupyter-widgets/controls",
       "_model_module_version": "2.0.0",
       "_model_name": "SliderStyleModel",
       "_view_count": null,
       "_view_module": "@jupyter-widgets/base",
       "_view_module_version": "2.0.0",
       "_view_name": "StyleView",
       "description_width": "",
       "handle_color": null
      }
     },
     "68919f597b944186baedddc5b74dd524": {
      "model_module": "@jupyter-widgets/controls",
      "model_module_version": "2.0.0",
      "model_name": "IntTextModel",
      "state": {
       "_dom_classes": [],
       "_model_module": "@jupyter-widgets/controls",
       "_model_module_version": "2.0.0",
       "_model_name": "IntTextModel",
       "_view_count": null,
       "_view_module": "@jupyter-widgets/controls",
       "_view_module_version": "2.0.0",
       "_view_name": "IntTextView",
       "continuous_update": false,
       "description": "normal count:",
       "description_allow_html": false,
       "disabled": true,
       "layout": "IPY_MODEL_33c1c92ec9384f35b72d45fa86a8402e",
       "step": 1,
       "style": "IPY_MODEL_182711f22ed5446fa80f318f9ab0c990",
       "tabbable": null,
       "tooltip": null,
       "value": 1100
      }
     },
     "78e075484624428b9d3fad4772b05b7c": {
      "model_module": "@jupyter-widgets/controls",
      "model_module_version": "2.0.0",
      "model_name": "SliderStyleModel",
      "state": {
       "_model_module": "@jupyter-widgets/controls",
       "_model_module_version": "2.0.0",
       "_model_name": "SliderStyleModel",
       "_view_count": null,
       "_view_module": "@jupyter-widgets/base",
       "_view_module_version": "2.0.0",
       "_view_name": "StyleView",
       "description_width": "",
       "handle_color": null
      }
     },
     "83d04ad4956c492ba383d483114aca30": {
      "model_module": "@jupyter-widgets/controls",
      "model_module_version": "2.0.0",
      "model_name": "IntTextModel",
      "state": {
       "_dom_classes": [],
       "_model_module": "@jupyter-widgets/controls",
       "_model_module_version": "2.0.0",
       "_model_name": "IntTextModel",
       "_view_count": null,
       "_view_module": "@jupyter-widgets/controls",
       "_view_module_version": "2.0.0",
       "_view_name": "IntTextView",
       "continuous_update": false,
       "description": "success count:",
       "description_allow_html": false,
       "disabled": true,
       "layout": "IPY_MODEL_0cb1baf262a44c16b85db3522d29f157",
       "step": 1,
       "style": "IPY_MODEL_de7aa45977514c458dbbf607652313ba",
       "tabbable": null,
       "tooltip": null,
       "value": 0
      }
     },
     "ae0a5c6374a14a5d9fd8dae51b850484": {
      "model_module": "@jupyter-widgets/base",
      "model_module_version": "2.0.0",
      "model_name": "LayoutModel",
      "state": {
       "_model_module": "@jupyter-widgets/base",
       "_model_module_version": "2.0.0",
       "_model_name": "LayoutModel",
       "_view_count": null,
       "_view_module": "@jupyter-widgets/base",
       "_view_module_version": "2.0.0",
       "_view_name": "LayoutView",
       "align_content": null,
       "align_items": null,
       "align_self": null,
       "border_bottom": null,
       "border_left": null,
       "border_right": null,
       "border_top": null,
       "bottom": null,
       "display": null,
       "flex": null,
       "flex_flow": null,
       "grid_area": null,
       "grid_auto_columns": null,
       "grid_auto_flow": null,
       "grid_auto_rows": null,
       "grid_column": null,
       "grid_gap": null,
       "grid_row": null,
       "grid_template_areas": null,
       "grid_template_columns": null,
       "grid_template_rows": null,
       "height": null,
       "justify_content": null,
       "justify_items": null,
       "left": null,
       "margin": null,
       "max_height": null,
       "max_width": null,
       "min_height": null,
       "min_width": null,
       "object_fit": null,
       "object_position": null,
       "order": null,
       "overflow": null,
       "padding": null,
       "right": null,
       "top": null,
       "visibility": null,
       "width": null
      }
     },
     "b2caffc9a7e84f42b586d92b066b9e03": {
      "model_module": "@jupyter-widgets/base",
      "model_module_version": "2.0.0",
      "model_name": "LayoutModel",
      "state": {
       "_model_module": "@jupyter-widgets/base",
       "_model_module_version": "2.0.0",
       "_model_name": "LayoutModel",
       "_view_count": null,
       "_view_module": "@jupyter-widgets/base",
       "_view_module_version": "2.0.0",
       "_view_name": "LayoutView",
       "align_content": null,
       "align_items": null,
       "align_self": null,
       "border_bottom": null,
       "border_left": null,
       "border_right": null,
       "border_top": null,
       "bottom": null,
       "display": null,
       "flex": null,
       "flex_flow": null,
       "grid_area": null,
       "grid_auto_columns": null,
       "grid_auto_flow": null,
       "grid_auto_rows": null,
       "grid_column": null,
       "grid_gap": null,
       "grid_row": null,
       "grid_template_areas": null,
       "grid_template_columns": null,
       "grid_template_rows": null,
       "height": null,
       "justify_content": null,
       "justify_items": null,
       "left": null,
       "margin": null,
       "max_height": null,
       "max_width": null,
       "min_height": null,
       "min_width": null,
       "object_fit": null,
       "object_position": null,
       "order": null,
       "overflow": null,
       "padding": null,
       "right": null,
       "top": null,
       "visibility": null,
       "width": null
      }
     },
     "bc604c933b774ec3a268adba9c876e54": {
      "model_module": "@jupyter-widgets/base",
      "model_module_version": "2.0.0",
      "model_name": "LayoutModel",
      "state": {
       "_model_module": "@jupyter-widgets/base",
       "_model_module_version": "2.0.0",
       "_model_name": "LayoutModel",
       "_view_count": null,
       "_view_module": "@jupyter-widgets/base",
       "_view_module_version": "2.0.0",
       "_view_name": "LayoutView",
       "align_content": null,
       "align_items": null,
       "align_self": null,
       "border_bottom": null,
       "border_left": null,
       "border_right": null,
       "border_top": null,
       "bottom": null,
       "display": null,
       "flex": null,
       "flex_flow": null,
       "grid_area": null,
       "grid_auto_columns": null,
       "grid_auto_flow": null,
       "grid_auto_rows": null,
       "grid_column": null,
       "grid_gap": null,
       "grid_row": null,
       "grid_template_areas": null,
       "grid_template_columns": null,
       "grid_template_rows": null,
       "height": null,
       "justify_content": null,
       "justify_items": null,
       "left": null,
       "margin": null,
       "max_height": null,
       "max_width": null,
       "min_height": null,
       "min_width": null,
       "object_fit": null,
       "object_position": null,
       "order": null,
       "overflow": null,
       "padding": null,
       "right": null,
       "top": null,
       "visibility": null,
       "width": null
      }
     },
     "db66657a098247c6b261317eb4fc539c": {
      "model_module": "@jupyter-widgets/controls",
      "model_module_version": "2.0.0",
      "model_name": "IntTextModel",
      "state": {
       "_dom_classes": [],
       "_model_module": "@jupyter-widgets/controls",
       "_model_module_version": "2.0.0",
       "_model_name": "IntTextModel",
       "_view_count": null,
       "_view_module": "@jupyter-widgets/controls",
       "_view_module_version": "2.0.0",
       "_view_name": "IntTextView",
       "continuous_update": false,
       "description": "reset count:",
       "description_allow_html": false,
       "disabled": true,
       "layout": "IPY_MODEL_b2caffc9a7e84f42b586d92b066b9e03",
       "step": 1,
       "style": "IPY_MODEL_61adae0177f54ef68685358e87c4954a",
       "tabbable": null,
       "tooltip": null,
       "value": 0
      }
     },
     "de7aa45977514c458dbbf607652313ba": {
      "model_module": "@jupyter-widgets/controls",
      "model_module_version": "2.0.0",
      "model_name": "DescriptionStyleModel",
      "state": {
       "_model_module": "@jupyter-widgets/controls",
       "_model_module_version": "2.0.0",
       "_model_name": "DescriptionStyleModel",
       "_view_count": null,
       "_view_module": "@jupyter-widgets/base",
       "_view_module_version": "2.0.0",
       "_view_name": "StyleView",
       "description_width": ""
      }
     },
     "ee246bec81384877a66b58692801b832": {
      "model_module": "@jupyter-widgets/base",
      "model_module_version": "2.0.0",
      "model_name": "LayoutModel",
      "state": {
       "_model_module": "@jupyter-widgets/base",
       "_model_module_version": "2.0.0",
       "_model_name": "LayoutModel",
       "_view_count": null,
       "_view_module": "@jupyter-widgets/base",
       "_view_module_version": "2.0.0",
       "_view_name": "LayoutView",
       "align_content": null,
       "align_items": null,
       "align_self": null,
       "border_bottom": null,
       "border_left": null,
       "border_right": null,
       "border_top": null,
       "bottom": null,
       "display": null,
       "flex": null,
       "flex_flow": null,
       "grid_area": null,
       "grid_auto_columns": null,
       "grid_auto_flow": null,
       "grid_auto_rows": null,
       "grid_column": null,
       "grid_gap": null,
       "grid_row": null,
       "grid_template_areas": null,
       "grid_template_columns": null,
       "grid_template_rows": null,
       "height": null,
       "justify_content": null,
       "justify_items": null,
       "left": null,
       "margin": null,
       "max_height": null,
       "max_width": null,
       "min_height": null,
       "min_width": null,
       "object_fit": null,
       "object_position": null,
       "order": null,
       "overflow": null,
       "padding": null,
       "right": null,
       "top": null,
       "visibility": null,
       "width": null
      }
     },
     "f096ea4a220c4c61bbafb6a1e2894752": {
      "model_module": "@jupyter-widgets/controls",
      "model_module_version": "2.0.0",
      "model_name": "FloatSliderModel",
      "state": {
       "_dom_classes": [],
       "_model_module": "@jupyter-widgets/controls",
       "_model_module_version": "2.0.0",
       "_model_name": "FloatSliderModel",
       "_view_count": null,
       "_view_module": "@jupyter-widgets/controls",
       "_view_module_version": "2.0.0",
       "_view_name": "FloatSliderView",
       "behavior": "drag-tap",
       "continuous_update": false,
       "description": "width setting:",
       "description_allow_html": false,
       "disabled": true,
       "layout": "IPY_MODEL_ae0a5c6374a14a5d9fd8dae51b850484",
       "max": 10.0,
       "min": 0.4,
       "orientation": "horizontal",
       "readout": true,
       "readout_format": ".01f",
       "step": 0.01,
       "style": "IPY_MODEL_78e075484624428b9d3fad4772b05b7c",
       "tabbable": null,
       "tooltip": null,
       "value": 0.4
      }
     }
    },
    "version_major": 2,
    "version_minor": 0
   }
  }
 },
 "nbformat": 4,
 "nbformat_minor": 4
}
