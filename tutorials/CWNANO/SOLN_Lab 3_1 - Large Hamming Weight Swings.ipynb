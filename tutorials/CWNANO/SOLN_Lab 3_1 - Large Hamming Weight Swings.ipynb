{
 "cells": [
  {
   "cell_type": "markdown",
   "metadata": {},
   "source": [
    "# Part 3, Topic 1: Large Hamming Weight Swings (MAIN)"
   ]
  },
  {
   "cell_type": "markdown",
   "metadata": {},
   "source": [
    "---\n",
    "NOTE: This lab references some (commercial) training material on [ChipWhisperer.io](https://www.ChipWhisperer.io). You can freely execute and use the lab per the open-source license (including using it in your own courses if you distribute similarly), but you must maintain notice about this source location. Consider joining our training course to enjoy the full experience.\n",
    "\n",
    "---"
   ]
  },
  {
   "cell_type": "markdown",
   "metadata": {},
   "source": [
    "**SUMMARY:** *In the previous part of the course, you saw that a microcontroller's power consumption changes based on what it's doing. In the case of a simple password check, this allowed us to see how many characters of the password we had correct, eventually resulting in the password being broken.*\n",
    "\n",
    "*That attack was based on different code execution paths showing up differently in power traces. In this next set of labs, we'll posit that, not only does different instructions affect power consumption, the data being manipulated in the microcontroller also affects power consumption.*\n",
    "\n",
    "\n",
    "**LEARNING OUTCOMES:**\n",
    "\n",
    "* Using a power measurement to 'validate' a possible device model.\n",
    "* Detecting the value of a single bit using power measurement.\n",
    "* Breaking AES using the classic DPA attack."
   ]
  },
  {
   "cell_type": "markdown",
   "metadata": {},
   "source": [
    "## Prerequisites\n",
    "\n",
    "Hold up! Before you continue, check you've done the following tutorials:\n",
    "\n",
    "* ☑ Jupyter Notebook Intro (you should be OK with plotting & running blocks).\n",
    "* ☑ SCA101 Intro (you should have an idea of how to get hardware-specific versions running).\n",
    "* ☑ SCA101 Part 2 (you should understand how power consupmtion changes based on what code is being run)"
   ]
  },
  {
   "cell_type": "markdown",
   "metadata": {},
   "source": [
    "## Power Trace Gathering\n",
    "\n",
    "At this point you've got to insert code to perform the power trace capture. There are two options here:\n",
    "* Capture from physical device.\n",
    "* Read from a file.\n",
    "\n",
    "You get to choose your adventure - see the two notebooks with the same name of this, but called `(SIMULATED)` or `(HARDWARE)` to continue. Inside those notebooks you should get some code to copy into the following section, which will define the capture function.\n",
    "\n",
    "Be sure you get the `\"✔️ OK to continue!\"` print once you run the next cell, otherwise things will fail later on!\n"
   ]
  },
  {
   "cell_type": "code",
   "execution_count": 1,
   "metadata": {
    "execution": {
     "iopub.execute_input": "2025-03-15T00:20:50.885096Z",
     "iopub.status.busy": "2025-03-15T00:20:50.884345Z",
     "iopub.status.idle": "2025-03-15T00:20:50.897510Z",
     "shell.execute_reply": "2025-03-15T00:20:50.896335Z"
    }
   },
   "outputs": [],
   "source": [
    "SCOPETYPE = 'CWNANO'\n",
    "PLATFORM = 'CWNANO'\n",
    "CRYPTO_TARGET = 'TINYAES128C'\n",
    "VERSION = 'HARDWARE'\n",
    "\n",
    "allowable_exceptions = None\n",
    "SS_VER = 'SS_VER_2_1'\n"
   ]
  },
  {
   "cell_type": "code",
   "execution_count": 2,
   "metadata": {
    "execution": {
     "iopub.execute_input": "2025-03-15T00:20:50.901505Z",
     "iopub.status.busy": "2025-03-15T00:20:50.900993Z",
     "iopub.status.idle": "2025-03-15T00:20:59.128452Z",
     "shell.execute_reply": "2025-03-15T00:20:59.127300Z"
    }
   },
   "outputs": [
    {
     "name": "stdout",
     "output_type": "stream",
     "text": [
      "INFO: Found ChipWhisperer😍\n",
      "Building for platform CWNANO with CRYPTO_TARGET=TINYAES128C"
     ]
    },
    {
     "name": "stdout",
     "output_type": "stream",
     "text": [
      "\n",
      "SS_VER set to SS_VER_2_1\n",
      "SS_VER set to SS_VER_2_1\n",
      "Blank crypto options, building for AES128\n"
     ]
    },
    {
     "name": "stdout",
     "output_type": "stream",
     "text": [
      "arm-none-eabi-gcc (15:9-2019-q4-0ubuntu1) 9.2.1 20191025 (release) [ARM/arm-9-branch revision 277599"
     ]
    },
    {
     "name": "stdout",
     "output_type": "stream",
     "text": [
      "]\n",
      "Copyright (C) 2019 Free Software Foundation, Inc.\n",
      "This is free software; see the source for copyin"
     ]
    },
    {
     "name": "stdout",
     "output_type": "stream",
     "text": [
      "g conditions.  There is NO\n",
      "warranty; not even for MERCHANTABILITY or FITNESS FOR A PARTICULAR PURPOS"
     ]
    },
    {
     "name": "stdout",
     "output_type": "stream",
     "text": [
      "E.\n",
      "\n"
     ]
    },
    {
     "name": "stdout",
     "output_type": "stream",
     "text": [
      "mkdir -p objdir-CWNANO \n"
     ]
    },
    {
     "name": "stdout",
     "output_type": "stream",
     "text": [
      ".\n",
      "Welcome to another exciting ChipWhisperer target build!!\n"
     ]
    },
    {
     "name": "stdout",
     "output_type": "stream",
     "text": [
      ".\n"
     ]
    },
    {
     "name": "stdout",
     "output_type": "stream",
     "text": [
      ".\n",
      ".\n",
      "Compiling:\n",
      "Compiling:\n"
     ]
    },
    {
     "name": "stdout",
     "output_type": "stream",
     "text": [
      "-en     .././simpleserial/simpleserial.c ...\n"
     ]
    },
    {
     "name": "stdout",
     "output_type": "stream",
     "text": [
      "-en     .././hal//stm32f0_nano/stm32f0_hal_nano.c ...\n"
     ]
    },
    {
     "name": "stdout",
     "output_type": "stream",
     "text": [
      ".\n"
     ]
    },
    {
     "name": "stdout",
     "output_type": "stream",
     "text": [
      "Compiling:\n"
     ]
    },
    {
     "name": "stdout",
     "output_type": "stream",
     "text": [
      "Compiling:\n"
     ]
    },
    {
     "name": "stdout",
     "output_type": "stream",
     "text": [
      "-en     simpleserial-aes.c ...\n"
     ]
    },
    {
     "name": "stdout",
     "output_type": "stream",
     "text": [
      "-en     .././hal//stm32f0/stm32f0_hal_lowlevel.c ...\n"
     ]
    },
    {
     "name": "stdout",
     "output_type": "stream",
     "text": [
      ".\n"
     ]
    },
    {
     "name": "stdout",
     "output_type": "stream",
     "text": [
      ".\n"
     ]
    },
    {
     "name": "stdout",
     "output_type": "stream",
     "text": [
      "Compiling:\n"
     ]
    },
    {
     "name": "stdout",
     "output_type": "stream",
     "text": [
      "Compiling:\n"
     ]
    },
    {
     "name": "stdout",
     "output_type": "stream",
     "text": [
      "-en     .././crypto/tiny-AES128-C/aes.c ...\n"
     ]
    },
    {
     "name": "stdout",
     "output_type": "stream",
     "text": [
      "-en     .././crypto/aes-independant.c ...\n"
     ]
    },
    {
     "name": "stdout",
     "output_type": "stream",
     "text": [
      "-e Done!\n"
     ]
    },
    {
     "name": "stdout",
     "output_type": "stream",
     "text": [
      ".\n"
     ]
    },
    {
     "name": "stdout",
     "output_type": "stream",
     "text": [
      "Assembling: .././hal//stm32f0/stm32f0_startup.S\n"
     ]
    },
    {
     "name": "stdout",
     "output_type": "stream",
     "text": [
      "arm-none-eabi-gcc -c -mcpu=cortex-m0 -I. -x assembler-with-cpp -mthumb -mfloat-abi=soft -ffunction-s"
     ]
    },
    {
     "name": "stdout",
     "output_type": "stream",
     "text": [
      "ections -DF_CPU=7372800 -Wa,-gstabs,-adhlns=objdir-CWNANO/stm32f0_startup.lst -I.././simpleserial/ -"
     ]
    },
    {
     "name": "stdout",
     "output_type": "stream",
     "text": [
      "I.././hal/ -I.././hal/ -I.././hal//stm32f0 -I.././hal//stm32f0/CMSIS -I.././hal//stm32f0/CMSIS/core "
     ]
    },
    {
     "name": "stdout",
     "output_type": "stream",
     "text": [
      "-I.././hal//stm32f0/CMSIS/device -I.././hal//stm32f0/Legacy -I.././simpleserial/ -I.././crypto/ -I.."
     ]
    },
    {
     "name": "stdout",
     "output_type": "stream",
     "text": [
      "/./crypto/tiny-AES128-C .././hal//stm32f0/stm32f0_startup.S -o objdir-CWNANO/stm32f0_startup.o\n"
     ]
    },
    {
     "name": "stdout",
     "output_type": "stream",
     "text": [
      "-e Done!\n"
     ]
    },
    {
     "name": "stdout",
     "output_type": "stream",
     "text": [
      "-e Done!\n"
     ]
    },
    {
     "name": "stdout",
     "output_type": "stream",
     "text": [
      "-e Done!\n"
     ]
    },
    {
     "name": "stdout",
     "output_type": "stream",
     "text": [
      "-e Done!\n"
     ]
    },
    {
     "name": "stdout",
     "output_type": "stream",
     "text": [
      "-e Done!\n"
     ]
    },
    {
     "name": "stdout",
     "output_type": "stream",
     "text": [
      ".\n"
     ]
    },
    {
     "name": "stdout",
     "output_type": "stream",
     "text": [
      "LINKING:\n"
     ]
    },
    {
     "name": "stdout",
     "output_type": "stream",
     "text": [
      "-en     simpleserial-aes-CWNANO.elf ...\n"
     ]
    },
    {
     "name": "stdout",
     "output_type": "stream",
     "text": [
      "-e Done!\n"
     ]
    },
    {
     "name": "stdout",
     "output_type": "stream",
     "text": [
      ".\n"
     ]
    },
    {
     "name": "stdout",
     "output_type": "stream",
     "text": [
      ".\n"
     ]
    },
    {
     "name": "stdout",
     "output_type": "stream",
     "text": [
      ".\n"
     ]
    },
    {
     "name": "stdout",
     "output_type": "stream",
     "text": [
      "Creating load file for Flash: simpleserial-aes-CWNANO.hex\n"
     ]
    },
    {
     "name": "stdout",
     "output_type": "stream",
     "text": [
      "Creating load file for Flash: simpleserial-aes-CWNANO.bin\n"
     ]
    },
    {
     "name": "stdout",
     "output_type": "stream",
     "text": [
      "Creating load file for EEPROM: simpleserial-aes-CWNANO.eep\n",
      "arm-none-eabi-objcopy -O ihex -R .eeprom "
     ]
    },
    {
     "name": "stdout",
     "output_type": "stream",
     "text": [
      "-R .fuse -R .lock -R .signature simpleserial-aes-CWNANO.elf simpleserial-aes-CWNANO.hex\n"
     ]
    },
    {
     "name": "stdout",
     "output_type": "stream",
     "text": [
      "arm-none-eabi-objcopy -O binary -R .eeprom -R .fuse -R .lock -R .signature simpleserial-aes-CWNANO.e"
     ]
    },
    {
     "name": "stdout",
     "output_type": "stream",
     "text": [
      "lf simpleserial-aes-CWNANO.bin\n",
      "arm-none-eabi-objcopy -j .eeprom --set-section-flags=.eeprom=\"alloc,l"
     ]
    },
    {
     "name": "stdout",
     "output_type": "stream",
     "text": [
      "oad\" \\\n",
      "--change-section-lma .eeprom=0 --no-change-warnings -O ihex simpleserial-aes-CWNANO.elf simpl"
     ]
    },
    {
     "name": "stdout",
     "output_type": "stream",
     "text": [
      "eserial-aes-CWNANO.eep || exit 0\n"
     ]
    },
    {
     "name": "stdout",
     "output_type": "stream",
     "text": [
      ".\n"
     ]
    },
    {
     "name": "stdout",
     "output_type": "stream",
     "text": [
      ".\n"
     ]
    },
    {
     "name": "stdout",
     "output_type": "stream",
     "text": [
      "Creating Extended Listing: simpleserial-aes-CWNANO.lss\n"
     ]
    },
    {
     "name": "stdout",
     "output_type": "stream",
     "text": [
      "arm-none-eabi-objdump -h -S -z simpleserial-aes-CWNANO.elf > simpleserial-aes-CWNANO.lss\n"
     ]
    },
    {
     "name": "stdout",
     "output_type": "stream",
     "text": [
      "Creating Symbol Table: simpleserial-aes-CWNANO.sym\n"
     ]
    },
    {
     "name": "stdout",
     "output_type": "stream",
     "text": [
      "arm-none-eabi-nm -n simpleserial-aes-CWNANO.elf > simpleserial-aes-CWNANO.sym\n"
     ]
    },
    {
     "name": "stdout",
     "output_type": "stream",
     "text": [
      "Size after:\n"
     ]
    },
    {
     "name": "stdout",
     "output_type": "stream",
     "text": [
      "   text\t   data\t    bss\t    dec\t    hex\tfilename\n",
      "   5568\t    536\t   1568\t   7672\t   1df8\tsimpleseria"
     ]
    },
    {
     "name": "stdout",
     "output_type": "stream",
     "text": [
      "l-aes-CWNANO.elf\n"
     ]
    },
    {
     "name": "stdout",
     "output_type": "stream",
     "text": [
      "+--------------------------------------------------------\n"
     ]
    },
    {
     "name": "stdout",
     "output_type": "stream",
     "text": [
      "+ Default target does full rebuild each time.\n"
     ]
    },
    {
     "name": "stdout",
     "output_type": "stream",
     "text": [
      "+ Specify buildtarget == allquick == to avoid full rebuild\n"
     ]
    },
    {
     "name": "stdout",
     "output_type": "stream",
     "text": [
      "+--------------------------------------------------------\n"
     ]
    },
    {
     "name": "stdout",
     "output_type": "stream",
     "text": [
      "+--------------------------------------------------------\n"
     ]
    },
    {
     "name": "stdout",
     "output_type": "stream",
     "text": [
      "+ Built for platform CWNANO Built-in Target (STM32F030) with:\n"
     ]
    },
    {
     "name": "stdout",
     "output_type": "stream",
     "text": [
      "+ CRYPTO_TARGET = TINYAES128C\n"
     ]
    },
    {
     "name": "stdout",
     "output_type": "stream",
     "text": [
      "+ CRYPTO_OPTIONS = AES128C\n"
     ]
    },
    {
     "name": "stdout",
     "output_type": "stream",
     "text": [
      "+--------------------------------------------------------\n"
     ]
    },
    {
     "name": "stdout",
     "output_type": "stream",
     "text": [
      "Detected known STMF32: STM32F04xxx\n",
      "Extended erase (0x44), this can take ten seconds or more\n",
      "Attempting to program 6103 bytes at 0x8000000\n",
      "STM32F Programming flash...\n"
     ]
    },
    {
     "name": "stdout",
     "output_type": "stream",
     "text": [
      "STM32F Reading flash...\n"
     ]
    },
    {
     "name": "stdout",
     "output_type": "stream",
     "text": [
      "Verified flash OK, 6103 bytes\n"
     ]
    },
    {
     "data": {
      "application/vnd.jupyter.widget-view+json": {
       "model_id": "cf806cb7821e4ef39e9158a6951811de",
       "version_major": 2,
       "version_minor": 0
      },
      "text/plain": [
       "Capturing traces:   0%|          | 0/100 [00:00<?, ?it/s]"
      ]
     },
     "metadata": {},
     "output_type": "display_data"
    }
   ],
   "source": [
    "if VERSION == 'HARDWARE':\n",
    "    \n",
    "    #!/usr/bin/env python\n",
    "    # coding: utf-8\n",
    "    \n",
    "    # # Part 3, Topic 1: Large Hamming Weight Swings (HARDWARE)\n",
    "    \n",
    "    # ---\n",
    "    # **THIS IS NOT THE COMPLETE TUTORIAL - see file with `(MAIN)` in the name.**\n",
    "    # \n",
    "    # ---\n",
    "    \n",
    "    # First you'll need to select which hardware setup you have. You'll need to select a `SCOPETYPE`, a `PLATFORM`, and a `CRYPTO_TARGET`. `SCOPETYPE` can either be `'OPENADC'` for the CWLite/CW1200 or `'CWNANO'` for the CWNano. `PLATFORM` is the target device, with `'CWLITEARM'`/`'CW308_STM32F3'` being the best supported option, followed by `'CWLITEXMEGA'`/`'CW308_XMEGA'`, then by `'CWNANO'`. `CRYPTO_TARGET` selects the crypto implementation, with `'TINYAES128C'` working on all platforms. An alternative for `'CWLITEXMEGA'` targets is `'AVRCRYPTOLIB'`. For example:\n",
    "    # \n",
    "    # ```python\n",
    "    # SCOPETYPE = 'OPENADC'\n",
    "    # PLATFORM = 'CWLITEARM'\n",
    "    # CRYPTO_TARGET='TINYAES128C'\n",
    "    # SS_VER='SS_VER_2_1'\n",
    "    # ```\n",
    "    \n",
    "    # In[ ]:\n",
    "    \n",
    "    \n",
    "    \n",
    "    \n",
    "    \n",
    "    # The following code will build the firmware for the target.\n",
    "    \n",
    "    # In[ ]:\n",
    "    \n",
    "    \n",
    "    \n",
    "    #!/usr/bin/env python\n",
    "    # coding: utf-8\n",
    "    \n",
    "    # In[ ]:\n",
    "    \n",
    "    \n",
    "    import chipwhisperer as cw\n",
    "    \n",
    "    try:\n",
    "        if not scope.connectStatus:\n",
    "            scope.con()\n",
    "    except NameError:\n",
    "        scope = cw.scope(hw_location=(5, 6))\n",
    "    \n",
    "    try:\n",
    "        if SS_VER == \"SS_VER_2_1\":\n",
    "            target_type = cw.targets.SimpleSerial2\n",
    "        elif SS_VER == \"SS_VER_2_0\":\n",
    "            raise OSError(\"SS_VER_2_0 is deprecated. Use SS_VER_2_1\")\n",
    "        else:\n",
    "            target_type = cw.targets.SimpleSerial\n",
    "    except:\n",
    "        SS_VER=\"SS_VER_1_1\"\n",
    "        target_type = cw.targets.SimpleSerial\n",
    "    \n",
    "    try:\n",
    "        target = cw.target(scope, target_type)\n",
    "    except:\n",
    "        print(\"INFO: Caught exception on reconnecting to target - attempting to reconnect to scope first.\")\n",
    "        print(\"INFO: This is a work-around when USB has died without Python knowing. Ignore errors above this line.\")\n",
    "        scope = cw.scope(hw_location=(5, 6))\n",
    "        target = cw.target(scope, target_type)\n",
    "    \n",
    "    \n",
    "    print(\"INFO: Found ChipWhisperer😍\")\n",
    "    \n",
    "    \n",
    "    # In[ ]:\n",
    "    \n",
    "    \n",
    "    if \"STM\" in PLATFORM or PLATFORM == \"CWLITEARM\" or PLATFORM == \"CWNANO\":\n",
    "        prog = cw.programmers.STM32FProgrammer\n",
    "    elif PLATFORM == \"CW303\" or PLATFORM == \"CWLITEXMEGA\":\n",
    "        prog = cw.programmers.XMEGAProgrammer\n",
    "    elif \"neorv32\" in PLATFORM.lower():\n",
    "        prog = cw.programmers.NEORV32Programmer\n",
    "    elif PLATFORM == \"CW308_SAM4S\" or PLATFORM == \"CWHUSKY\":\n",
    "        prog = cw.programmers.SAM4SProgrammer\n",
    "    else:\n",
    "        prog = None\n",
    "    \n",
    "    \n",
    "    # In[ ]:\n",
    "    \n",
    "    \n",
    "    import time\n",
    "    time.sleep(0.05)\n",
    "    scope.default_setup()\n",
    "    \n",
    "    def reset_target(scope):\n",
    "        if PLATFORM == \"CW303\" or PLATFORM == \"CWLITEXMEGA\":\n",
    "            scope.io.pdic = 'low'\n",
    "            time.sleep(0.1)\n",
    "            scope.io.pdic = 'high_z' #XMEGA doesn't like pdic driven high\n",
    "            time.sleep(0.1) #xmega needs more startup time\n",
    "        elif \"neorv32\" in PLATFORM.lower():\n",
    "            raise IOError(\"Default iCE40 neorv32 build does not have external reset - reprogram device to reset\")\n",
    "        elif PLATFORM == \"CW308_SAM4S\" or PLATFORM == \"CWHUSKY\":\n",
    "            scope.io.nrst = 'low'\n",
    "            time.sleep(0.25)\n",
    "            scope.io.nrst = 'high_z'\n",
    "            time.sleep(0.25)\n",
    "        else:  \n",
    "            scope.io.nrst = 'low'\n",
    "            time.sleep(0.05)\n",
    "            scope.io.nrst = 'high_z'\n",
    "            time.sleep(0.05)\n",
    "    \n",
    "    \n",
    "\n",
    "    \n",
    "    \n",
    "    # In[ ]:\n",
    "    \n",
    "    \n",
    "    try:\n",
    "        get_ipython().run_cell_magic('bash', '-s \"$PLATFORM\" \"$CRYPTO_TARGET\" \"$SS_VER\"', 'cd ../../../firmware/mcu/simpleserial-aes\\nmake PLATFORM=$1 CRYPTO_TARGET=$2 SS_VER=$3 -j\\n &> /tmp/tmp.txt')\n",
    "    except:\n",
    "        x=open(\"/tmp/tmp.txt\").read(); print(x); raise OSError(x)\n",
    "\n",
    "    \n",
    "    \n",
    "    # In[ ]:\n",
    "    \n",
    "    \n",
    "    cw.program_target(scope, prog, \"../../../firmware/mcu/simpleserial-aes/simpleserial-aes-{}.hex\".format(PLATFORM))\n",
    "    \n",
    "    \n",
    "    # The thing we want to test here is how hamming weight affects the power trace. To get as big a swing as possible, we'll convert all of the first bytes we send to be either `0x00` (HW of 0) or `0xFF` (HW of 8). 100 traces should be enough to see a difference:\n",
    "    \n",
    "    # In[ ]:\n",
    "    \n",
    "    \n",
    "    from tqdm.notebook import trange\n",
    "    import numpy as np\n",
    "    import time\n",
    "    \n",
    "    ktp = cw.ktp.Basic()\n",
    "    trace_array = []\n",
    "    textin_array = []\n",
    "    \n",
    "    key, text = ktp.next()\n",
    "    \n",
    "    target.set_key(key)\n",
    "    \n",
    "    N = 100\n",
    "    for i in trange(N, desc='Capturing traces'):\n",
    "        scope.arm()\n",
    "        if text[0] & 0x01:\n",
    "            text[0] = 0xFF\n",
    "        else:\n",
    "            text[0] = 0x00\n",
    "        target.simpleserial_write('p', text)\n",
    "        \n",
    "        ret = scope.capture()\n",
    "        if ret:\n",
    "            print(\"Target timed out!\")\n",
    "            continue\n",
    "        \n",
    "        response = target.simpleserial_read('r', 16)\n",
    "        \n",
    "        trace_array.append(scope.get_last_trace())\n",
    "        textin_array.append(text)\n",
    "        \n",
    "        key, text = ktp.next() \n",
    "    \n",
    "    \n",
    "\n",
    "elif VERSION == 'SIMULATED':\n",
    "    \n",
    "    #!/usr/bin/env python\n",
    "    # coding: utf-8\n",
    "    \n",
    "    # # Part 3, Topic 1: Large Hamming Weight Swings (SIMULATED)\n",
    "    \n",
    "    # ---\n",
    "    # **THIS IS NOT THE COMPLETE TUTORIAL - see file with `(MAIN)` in the name.**\n",
    "    # \n",
    "    # ---\n",
    "    \n",
    "    # Instead of performing a capture - just copy this data into the referenced code block. It is a copy of the previously recorded data.\n",
    "    \n",
    "    # In[ ]:\n",
    "    \n",
    "    \n",
    "    from cwtraces import sca101_lab_data\n",
    "    import numpy as np\n",
    "    import chipwhisperer as cw\n",
    "    \n",
    "    data = sca101_lab_data[\"lab3_1\"]()\n",
    "    trace_array =  data[\"trace_array\"]\n",
    "    textin_array = data[\"textin_array\"]\n",
    "    \n",
    "    \n"
   ]
  },
  {
   "cell_type": "code",
   "execution_count": 3,
   "metadata": {
    "execution": {
     "iopub.execute_input": "2025-03-15T00:20:59.132497Z",
     "iopub.status.busy": "2025-03-15T00:20:59.131779Z",
     "iopub.status.idle": "2025-03-15T00:20:59.137239Z",
     "shell.execute_reply": "2025-03-15T00:20:59.136170Z"
    }
   },
   "outputs": [
    {
     "name": "stdout",
     "output_type": "stream",
     "text": [
      "100\n"
     ]
    }
   ],
   "source": [
    "print(len(trace_array))"
   ]
  },
  {
   "cell_type": "code",
   "execution_count": 4,
   "metadata": {
    "execution": {
     "iopub.execute_input": "2025-03-15T00:20:59.141009Z",
     "iopub.status.busy": "2025-03-15T00:20:59.140396Z",
     "iopub.status.idle": "2025-03-15T00:20:59.145707Z",
     "shell.execute_reply": "2025-03-15T00:20:59.144653Z"
    }
   },
   "outputs": [
    {
     "name": "stdout",
     "output_type": "stream",
     "text": [
      "✔️ OK to continue!\n"
     ]
    }
   ],
   "source": [
    "assert len(trace_array) == 100\n",
    "print(\"✔️ OK to continue!\")"
   ]
  },
  {
   "cell_type": "markdown",
   "metadata": {},
   "source": [
    "## Grouping Traces\n",
    "\n",
    "As we've seen in the slides, we've made an assumption that setting bits on the data lines consumes a measurable amount of power. Now, we're going test that theory by getting our target to manipulate data with a very high Hamming weight (0xFF) and a very low Hamming weight (0x00). For this purpose, the target is currently running AES, and it encrypted the text we sent it. If we're correct in our assumption, we should see a measurable difference between power traces with a high Hamming weight and a low one.\n",
    "\n",
    "Currently, these traces are all mixed up. Separate them into two groups: `one_list` and `zero_list`:"
   ]
  },
  {
   "cell_type": "code",
   "execution_count": 5,
   "metadata": {
    "execution": {
     "iopub.execute_input": "2025-03-15T00:20:59.150031Z",
     "iopub.status.busy": "2025-03-15T00:20:59.148851Z",
     "iopub.status.idle": "2025-03-15T00:20:59.157379Z",
     "shell.execute_reply": "2025-03-15T00:20:59.156292Z"
    }
   },
   "outputs": [],
   "source": [
    "# ###################\n",
    "# Add your code here\n",
    "# ###################\n",
    "#raise NotImplementedError(\"Add Your Code Here\")\n",
    "\n",
    "# ###################\n",
    "# START SOLUTION\n",
    "# ###################\n",
    "one_list = []\n",
    "zero_list = []\n",
    "\n",
    "for i in range(len(trace_array)):\n",
    "    if textin_array[i][0] == 0x00:\n",
    "        zero_list.append(trace_array[i])\n",
    "    else:\n",
    "        one_list.append(trace_array[i])\n",
    "# ###################\n",
    "# END SOLUTION\n",
    "# ###################\n",
    "\n",
    "assert len(one_list) > len(zero_list)/2\n",
    "assert len(zero_list) > len(one_list)/2"
   ]
  },
  {
   "cell_type": "markdown",
   "metadata": {},
   "source": [
    "We should have two different lists. Whether we sent 0xFF or 0x00 was random, so these lists likely won't be evenly dispersed. Next, we'll want to take an average of each group (make sure you take an average of each trace at each point! We don't want an average of the traces in time), which will help smooth out any outliers and also fix our issue of having a different number of traces for each group:"
   ]
  },
  {
   "cell_type": "code",
   "execution_count": 6,
   "metadata": {
    "execution": {
     "iopub.execute_input": "2025-03-15T00:20:59.161328Z",
     "iopub.status.busy": "2025-03-15T00:20:59.160712Z",
     "iopub.status.idle": "2025-03-15T00:20:59.169451Z",
     "shell.execute_reply": "2025-03-15T00:20:59.168372Z"
    }
   },
   "outputs": [],
   "source": [
    "# ###################\n",
    "# Add your code here\n",
    "# ###################\n",
    "#raise NotImplementedError(\"Add Your Code Here\")\n",
    "\n",
    "# ###################\n",
    "# START SOLUTION\n",
    "# ###################\n",
    "import numpy as np\n",
    "one_avg = np.mean(one_list, axis=0)\n",
    "zero_avg = np.mean(zero_list, axis=0)\n",
    "# ###################\n",
    "# END SOLUTION\n",
    "# ###################"
   ]
  },
  {
   "cell_type": "markdown",
   "metadata": {},
   "source": [
    "Finally, subtract the two averages and plot the resulting data:"
   ]
  },
  {
   "cell_type": "code",
   "execution_count": 7,
   "metadata": {
    "execution": {
     "iopub.execute_input": "2025-03-15T00:20:59.173405Z",
     "iopub.status.busy": "2025-03-15T00:20:59.172752Z",
     "iopub.status.idle": "2025-03-15T00:20:59.801383Z",
     "shell.execute_reply": "2025-03-15T00:20:59.800245Z"
    }
   },
   "outputs": [
    {
     "ename": "NameError",
     "evalue": "name 'diff' is not defined",
     "output_type": "error",
     "traceback": [
      "---------------------------------------------------------------------------",
      "NameError                                 Traceback (most recent call last)",
      "Cell In[7], line 9\n      1 # ###################\n      2 # Add your code here\n      3 # ###################\n   (...)\n      7 # START SOLUTION\n      8 # ###################\n----> 9 cw.plot(diff)\n     10 # ###################\n     11 # END SOLUTION\n     12 # ###################\n",
      "NameError: name 'diff' is not defined"
     ]
    }
   ],
   "source": [
    "# ###################\n",
    "# Add your code here\n",
    "# ###################\n",
    "#raise NotImplementedError(\"Add Your Code Here\")\n",
    "\n",
    "# ###################\n",
    "# START SOLUTION\n",
    "# ###################\n",
    "cw.plot(diff)\n",
    "# ###################\n",
    "# END SOLUTION\n",
    "# ###################"
   ]
  },
  {
   "cell_type": "markdown",
   "metadata": {},
   "source": [
    "You should see a very distinct trace near the beginning of the plot, meaning that the data being manipulated in the target device is visible in its power trace! Again, there's a lot of room to explore here:\n",
    "\n",
    "* Try setting multiple bytes to 0x00 and 0xFF.\n",
    "* Try using smaller hamming weight differences. Is the spike still distinct? What about if you capture more traces?\n",
    "* We focused on the first byte here. Try putting the difference plots for multiple different bytes on the same plot.\n",
    "* The target is running AES here. Can you get the spikes to appear in different places if you set a byte in a later round of AES (say round 5) to 0x00 or 0xFF?\n",
    "\n",
    "One other note that might trip you out: rememeber you are measuring the voltage at the input to ChipWhisperer, which is measured across a shunt resistor. The end result of this is that a lower voltage actually means more power. So you might see the spikes flipped from the \"expected\" direction based on a 1 taking more power than a 0."
   ]
  },
  {
   "cell_type": "markdown",
   "metadata": {},
   "source": [
    "---\n",
    "<small>NO-FUN DISCLAIMER: This material is Copyright (C) NewAE Technology Inc., 2015-2020. ChipWhisperer is a trademark of NewAE Technology Inc., claimed in all jurisdictions, and registered in at least the United States of America, European Union, and Peoples Republic of China.\n",
    "\n",
    "Tutorials derived from our open-source work must be released under the associated open-source license, and notice of the source must be *clearly displayed*. Only original copyright holders may license or authorize other distribution - while NewAE Technology Inc. holds the copyright for many tutorials, the github repository includes community contributions which we cannot license under special terms and **must** be maintained as an open-source release. Please contact us for special permissions (where possible).\n",
    "\n",
    "THE SOFTWARE IS PROVIDED \"AS IS\", WITHOUT WARRANTY OF ANY KIND, EXPRESS OR IMPLIED, INCLUDING BUT NOT LIMITED TO THE WARRANTIES OF MERCHANTABILITY, FITNESS FOR A PARTICULAR PURPOSE AND NONINFRINGEMENT. IN NO EVENT SHALL THE AUTHORS OR COPYRIGHT HOLDERS BE LIABLE FOR ANY CLAIM, DAMAGES OR OTHER LIABILITY, WHETHER IN AN ACTION OF CONTRACT, TORT OR OTHERWISE, ARISING FROM, OUT OF OR IN CONNECTION WITH THE SOFTWARE OR THE USE OR OTHER DEALINGS IN THE SOFTWARE.</small>"
   ]
  }
 ],
 "metadata": {
  "kernelspec": {
   "display_name": "Python 3 (ipykernel)",
   "language": "python",
   "name": "python3"
  },
  "language_info": {
   "codemirror_mode": {
    "name": "ipython",
    "version": 3
   },
   "file_extension": ".py",
   "mimetype": "text/x-python",
   "name": "python",
   "nbconvert_exporter": "python",
   "pygments_lexer": "ipython3",
   "version": "3.10.2"
  },
  "widgets": {
   "application/vnd.jupyter.widget-state+json": {
    "state": {
     "03d79a44da08438a8143ec7430e3536e": {
      "model_module": "@jupyter-widgets/base",
      "model_module_version": "2.0.0",
      "model_name": "LayoutModel",
      "state": {
       "_model_module": "@jupyter-widgets/base",
       "_model_module_version": "2.0.0",
       "_model_name": "LayoutModel",
       "_view_count": null,
       "_view_module": "@jupyter-widgets/base",
       "_view_module_version": "2.0.0",
       "_view_name": "LayoutView",
       "align_content": null,
       "align_items": null,
       "align_self": null,
       "border_bottom": null,
       "border_left": null,
       "border_right": null,
       "border_top": null,
       "bottom": null,
       "display": null,
       "flex": null,
       "flex_flow": null,
       "grid_area": null,
       "grid_auto_columns": null,
       "grid_auto_flow": null,
       "grid_auto_rows": null,
       "grid_column": null,
       "grid_gap": null,
       "grid_row": null,
       "grid_template_areas": null,
       "grid_template_columns": null,
       "grid_template_rows": null,
       "height": null,
       "justify_content": null,
       "justify_items": null,
       "left": null,
       "margin": null,
       "max_height": null,
       "max_width": null,
       "min_height": null,
       "min_width": null,
       "object_fit": null,
       "object_position": null,
       "order": null,
       "overflow": null,
       "padding": null,
       "right": null,
       "top": null,
       "visibility": null,
       "width": null
      }
     },
     "1fa4bc688d5a4b71bb799e844d6ba475": {
      "model_module": "@jupyter-widgets/controls",
      "model_module_version": "2.0.0",
      "model_name": "HTMLModel",
      "state": {
       "_dom_classes": [],
       "_model_module": "@jupyter-widgets/controls",
       "_model_module_version": "2.0.0",
       "_model_name": "HTMLModel",
       "_view_count": null,
       "_view_module": "@jupyter-widgets/controls",
       "_view_module_version": "2.0.0",
       "_view_name": "HTMLView",
       "description": "",
       "description_allow_html": false,
       "layout": "IPY_MODEL_03d79a44da08438a8143ec7430e3536e",
       "placeholder": "​",
       "style": "IPY_MODEL_c7157f46e7a24c6aab69beb01770f704",
       "tabbable": null,
       "tooltip": null,
       "value": " 100/100 [00:01&lt;00:00, 67.16it/s]"
      }
     },
     "2e0c3a0f068844bebcd46a0dfca92f89": {
      "model_module": "@jupyter-widgets/controls",
      "model_module_version": "2.0.0",
      "model_name": "ProgressStyleModel",
      "state": {
       "_model_module": "@jupyter-widgets/controls",
       "_model_module_version": "2.0.0",
       "_model_name": "ProgressStyleModel",
       "_view_count": null,
       "_view_module": "@jupyter-widgets/base",
       "_view_module_version": "2.0.0",
       "_view_name": "StyleView",
       "bar_color": null,
       "description_width": ""
      }
     },
     "35e031d6492f4a0d9be5a6fbcd79189c": {
      "model_module": "@jupyter-widgets/controls",
      "model_module_version": "2.0.0",
      "model_name": "HTMLModel",
      "state": {
       "_dom_classes": [],
       "_model_module": "@jupyter-widgets/controls",
       "_model_module_version": "2.0.0",
       "_model_name": "HTMLModel",
       "_view_count": null,
       "_view_module": "@jupyter-widgets/controls",
       "_view_module_version": "2.0.0",
       "_view_name": "HTMLView",
       "description": "",
       "description_allow_html": false,
       "layout": "IPY_MODEL_f2efa94e53cd42a1af7a98f2516a6103",
       "placeholder": "​",
       "style": "IPY_MODEL_ae590e07d8664961928c517d45f46a3f",
       "tabbable": null,
       "tooltip": null,
       "value": "Capturing traces: 100%"
      }
     },
     "5fb393fe2d8740359335e72524e0d59c": {
      "model_module": "@jupyter-widgets/base",
      "model_module_version": "2.0.0",
      "model_name": "LayoutModel",
      "state": {
       "_model_module": "@jupyter-widgets/base",
       "_model_module_version": "2.0.0",
       "_model_name": "LayoutModel",
       "_view_count": null,
       "_view_module": "@jupyter-widgets/base",
       "_view_module_version": "2.0.0",
       "_view_name": "LayoutView",
       "align_content": null,
       "align_items": null,
       "align_self": null,
       "border_bottom": null,
       "border_left": null,
       "border_right": null,
       "border_top": null,
       "bottom": null,
       "display": null,
       "flex": null,
       "flex_flow": null,
       "grid_area": null,
       "grid_auto_columns": null,
       "grid_auto_flow": null,
       "grid_auto_rows": null,
       "grid_column": null,
       "grid_gap": null,
       "grid_row": null,
       "grid_template_areas": null,
       "grid_template_columns": null,
       "grid_template_rows": null,
       "height": null,
       "justify_content": null,
       "justify_items": null,
       "left": null,
       "margin": null,
       "max_height": null,
       "max_width": null,
       "min_height": null,
       "min_width": null,
       "object_fit": null,
       "object_position": null,
       "order": null,
       "overflow": null,
       "padding": null,
       "right": null,
       "top": null,
       "visibility": null,
       "width": null
      }
     },
     "74ab4959017b4a9b8cd5f1c1af4163d3": {
      "model_module": "@jupyter-widgets/base",
      "model_module_version": "2.0.0",
      "model_name": "LayoutModel",
      "state": {
       "_model_module": "@jupyter-widgets/base",
       "_model_module_version": "2.0.0",
       "_model_name": "LayoutModel",
       "_view_count": null,
       "_view_module": "@jupyter-widgets/base",
       "_view_module_version": "2.0.0",
       "_view_name": "LayoutView",
       "align_content": null,
       "align_items": null,
       "align_self": null,
       "border_bottom": null,
       "border_left": null,
       "border_right": null,
       "border_top": null,
       "bottom": null,
       "display": null,
       "flex": null,
       "flex_flow": null,
       "grid_area": null,
       "grid_auto_columns": null,
       "grid_auto_flow": null,
       "grid_auto_rows": null,
       "grid_column": null,
       "grid_gap": null,
       "grid_row": null,
       "grid_template_areas": null,
       "grid_template_columns": null,
       "grid_template_rows": null,
       "height": null,
       "justify_content": null,
       "justify_items": null,
       "left": null,
       "margin": null,
       "max_height": null,
       "max_width": null,
       "min_height": null,
       "min_width": null,
       "object_fit": null,
       "object_position": null,
       "order": null,
       "overflow": null,
       "padding": null,
       "right": null,
       "top": null,
       "visibility": null,
       "width": null
      }
     },
     "74c18010fba44be19965c3782a900671": {
      "model_module": "@jupyter-widgets/controls",
      "model_module_version": "2.0.0",
      "model_name": "FloatProgressModel",
      "state": {
       "_dom_classes": [],
       "_model_module": "@jupyter-widgets/controls",
       "_model_module_version": "2.0.0",
       "_model_name": "FloatProgressModel",
       "_view_count": null,
       "_view_module": "@jupyter-widgets/controls",
       "_view_module_version": "2.0.0",
       "_view_name": "ProgressView",
       "bar_style": "success",
       "description": "",
       "description_allow_html": false,
       "layout": "IPY_MODEL_5fb393fe2d8740359335e72524e0d59c",
       "max": 100.0,
       "min": 0.0,
       "orientation": "horizontal",
       "style": "IPY_MODEL_2e0c3a0f068844bebcd46a0dfca92f89",
       "tabbable": null,
       "tooltip": null,
       "value": 100.0
      }
     },
     "ae590e07d8664961928c517d45f46a3f": {
      "model_module": "@jupyter-widgets/controls",
      "model_module_version": "2.0.0",
      "model_name": "HTMLStyleModel",
      "state": {
       "_model_module": "@jupyter-widgets/controls",
       "_model_module_version": "2.0.0",
       "_model_name": "HTMLStyleModel",
       "_view_count": null,
       "_view_module": "@jupyter-widgets/base",
       "_view_module_version": "2.0.0",
       "_view_name": "StyleView",
       "background": null,
       "description_width": "",
       "font_size": null,
       "text_color": null
      }
     },
     "c7157f46e7a24c6aab69beb01770f704": {
      "model_module": "@jupyter-widgets/controls",
      "model_module_version": "2.0.0",
      "model_name": "HTMLStyleModel",
      "state": {
       "_model_module": "@jupyter-widgets/controls",
       "_model_module_version": "2.0.0",
       "_model_name": "HTMLStyleModel",
       "_view_count": null,
       "_view_module": "@jupyter-widgets/base",
       "_view_module_version": "2.0.0",
       "_view_name": "StyleView",
       "background": null,
       "description_width": "",
       "font_size": null,
       "text_color": null
      }
     },
     "cf806cb7821e4ef39e9158a6951811de": {
      "model_module": "@jupyter-widgets/controls",
      "model_module_version": "2.0.0",
      "model_name": "HBoxModel",
      "state": {
       "_dom_classes": [],
       "_model_module": "@jupyter-widgets/controls",
       "_model_module_version": "2.0.0",
       "_model_name": "HBoxModel",
       "_view_count": null,
       "_view_module": "@jupyter-widgets/controls",
       "_view_module_version": "2.0.0",
       "_view_name": "HBoxView",
       "box_style": "",
       "children": [
        "IPY_MODEL_35e031d6492f4a0d9be5a6fbcd79189c",
        "IPY_MODEL_74c18010fba44be19965c3782a900671",
        "IPY_MODEL_1fa4bc688d5a4b71bb799e844d6ba475"
       ],
       "layout": "IPY_MODEL_74ab4959017b4a9b8cd5f1c1af4163d3",
       "tabbable": null,
       "tooltip": null
      }
     },
     "f2efa94e53cd42a1af7a98f2516a6103": {
      "model_module": "@jupyter-widgets/base",
      "model_module_version": "2.0.0",
      "model_name": "LayoutModel",
      "state": {
       "_model_module": "@jupyter-widgets/base",
       "_model_module_version": "2.0.0",
       "_model_name": "LayoutModel",
       "_view_count": null,
       "_view_module": "@jupyter-widgets/base",
       "_view_module_version": "2.0.0",
       "_view_name": "LayoutView",
       "align_content": null,
       "align_items": null,
       "align_self": null,
       "border_bottom": null,
       "border_left": null,
       "border_right": null,
       "border_top": null,
       "bottom": null,
       "display": null,
       "flex": null,
       "flex_flow": null,
       "grid_area": null,
       "grid_auto_columns": null,
       "grid_auto_flow": null,
       "grid_auto_rows": null,
       "grid_column": null,
       "grid_gap": null,
       "grid_row": null,
       "grid_template_areas": null,
       "grid_template_columns": null,
       "grid_template_rows": null,
       "height": null,
       "justify_content": null,
       "justify_items": null,
       "left": null,
       "margin": null,
       "max_height": null,
       "max_width": null,
       "min_height": null,
       "min_width": null,
       "object_fit": null,
       "object_position": null,
       "order": null,
       "overflow": null,
       "padding": null,
       "right": null,
       "top": null,
       "visibility": null,
       "width": null
      }
     }
    },
    "version_major": 2,
    "version_minor": 0
   }
  }
 },
 "nbformat": 4,
 "nbformat_minor": 4
}
