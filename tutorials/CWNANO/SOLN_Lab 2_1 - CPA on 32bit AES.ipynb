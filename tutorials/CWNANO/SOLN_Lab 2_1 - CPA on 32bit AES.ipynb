{
 "cells": [
  {
   "cell_type": "markdown",
   "metadata": {},
   "source": [
    "# Part 2, Topic 1: CPA Attack on 32bit AES (MAIN)"
   ]
  },
  {
   "cell_type": "markdown",
   "metadata": {},
   "source": [
    "---\n",
    "NOTE: This lab references some (commercial) training material on [ChipWhisperer.io](https://www.ChipWhisperer.io). You can freely execute and use the lab per the open-source license (including using it in your own courses if you distribute similarly), but you must maintain notice about this source location. Consider joining our training course to enjoy the full experience.\n",
    "\n",
    "---"
   ]
  },
  {
   "cell_type": "markdown",
   "metadata": {},
   "source": [
    "**SUMMARY:** *So far, we've been focusing on a single implementation of AES, TINYAES128C (or AVRCRYPTOLIB, if you're on XMEGA). TINYAES128C, which is designed to run on a variety of microcontrollers, doesn't make any implementation specific optimizations. In this lab, we'll look at how we can break a 32-bit optimized version of AES using a CPA attack.*\n",
    "\n",
    "**LEARNING OUTCOMES:**\n",
    "\n",
    "* Understanding how AES can be optimized on 32-bit platforms.\n",
    "* Attacking an optimized version of AES using CPA"
   ]
  },
  {
   "cell_type": "markdown",
   "metadata": {},
   "source": [
    "## Optimizing AES\n",
    "\n",
    "A 32-bit machine can operate on 32-bit words, so it seems wasteful to use the same 8-bit operations. For example, if we look at the SBox operation:\n",
    "\n",
    "$\n",
    "b = sbox(state) = sbox(\\left[ \\begin{array}\n",
    "& S0 & S4 & S8 & S12 \\\\\n",
    "S1 & S5 & S9 & S13 \\\\\n",
    "S2 & S6 & S10 & S14 \\\\\n",
    "S3 & S7 & S11 & S15\n",
    "\\end{array} \\right]) = \\left[ \\begin{array}\n",
    "& S0 & S4 & S8 & S12 \\\\\n",
    "S5 & S9 & S13 & S1 \\\\\n",
    "S10 & S14 & S2 & S6 \\\\\n",
    "S15 & S3 & S7 & S11\n",
    "\\end{array} \\right]\n",
    "$\n",
    "\n",
    "we could consider each row as a 32-bit number and do three bitwise rotates instead of moving a bunch of stuff around in memory. Even better, we can speed up AES considerably by generating 32-bit lookup tables, called T-Tables, as was described in the book [The Design of Rijndael](http://www.springer.com/gp/book/9783540425809) which was published by the authors of AES.\n",
    "\n",
    "In order to take full advantage of our 32 bit machine, we can examine a typical round of AES. With the exception of the final round, each round looks like:\n",
    "\n",
    "$\\text{a = Round Input}$\n",
    "\n",
    "$\\text{b = SubBytes(a)}$\n",
    "\n",
    "$\\text{c = ShiftRows(b)}$\n",
    "\n",
    "$\\text{d = MixColumns(c)}$\n",
    "\n",
    "$\\text{a' = AddRoundKey(d) = Round Output}$\n",
    "\n",
    "We'll leave AddRoundKey the way it is. The other operations are:\n",
    "\n",
    "$b_{i,j} = \\text{sbox}[a_{i,j}]$\n",
    "\n",
    "$\\left[ \\begin{array} { c } { c _ { 0 , j } } \\\\ { c _ { 1 , j } } \\\\ { c _ { 2 , j } } \\\\ { c _ { 3 , j } } \\end{array} \\right] = \\left[ \\begin{array} { l } { b _ { 0 , j + 0 } } \\\\ { b _ { 1 , j + 1 } } \\\\ { b _ { 2 , j + 2 } } \\\\ { b _ { 3 , j + 3 } } \\end{array} \\right]$\n",
    "\n",
    "$\\left[ \\begin{array} { l } { d _ { 0 , j } } \\\\ { d _ { 1 , j } } \\\\ { d _ { 2 , j } } \\\\ { d _ { 3 , j } } \\end{array} \\right] = \\left[ \\begin{array} { l l l l } { 02 } & { 03 } & { 01 } & { 01 } \\\\ { 01 } & { 02 } & { 03 } & { 01 } \\\\ { 01 } & { 01 } & { 02 } & { 03 } \\\\ { 03 } & { 01 } & { 01 } & { 02 } \\end{array} \\right] \\times \\left[ \\begin{array} { c } { c _ { 0 , j } } \\\\ { c _ { 1 , j } } \\\\ { c _ { 2 , j } } \\\\ { c _ { 3 , j } } \\end{array} \\right]$\n",
    "\n",
    "Note that the ShiftRows operation $b_{i, j+c}$ is a cyclic shift and the matrix multiplcation in MixColumns denotes the xtime operation in GF($2^8$).\n",
    "\n",
    "It's possible to combine all three of these operations into a single line. We can write 4 bytes of $d$ as the linear combination of four different 4 byte vectors:\n",
    "\n",
    "$\\left[ \\begin{array} { l } { d _ { 0 , j } } \\\\ { d _ { 1 , j } } \\\\ { d _ { 2 , j } } \\\\ { d _ { 3 , j } } \\end{array} \\right] = \\left[ \\begin{array} { l } { 02 } \\\\ { 01 } \\\\ { 01 } \\\\ { 03 } \\end{array} \\right] \\operatorname { sbox } \\left[ a _ { 0 , j + 0 } \\right] \\oplus \\left[ \\begin{array} { l } { 03 } \\\\ { 02 } \\\\ { 01 } \\\\ { 01 } \\end{array} \\right] \\operatorname { sbox } \\left[ a _ { 1 , j + 1 } \\right] \\oplus \\left[ \\begin{array} { c } { 01 } \\\\ { 03 } \\\\ { 02 } \\\\ { 01 } \\end{array} \\right] \\operatorname { sbox } \\left[ a _ { 2 , j + 2 } \\right] \\oplus \\left[ \\begin{array} { c } { 01 } \\\\ { 01 } \\\\ { 03 } \\\\ { 02 } \\end{array} \\right] \\operatorname { sbox } \\left[ a _ { 3 , j + 3 } \\right]$\n",
    "\n",
    "Now, for each of these four components, we can tabulate the outputs for every possible 8-bit input:\n",
    "\n",
    "$T _ { 0 } [ a ] = \\left[ \\begin{array} { l l } { 02 \\times \\operatorname { sbox } [ a ] } \\\\ { 01 \\times \\operatorname { sbox } [ a ] } \\\\ { 01 \\times \\operatorname { sbox } [ a ] } \\\\ { 03 \\times \\operatorname { sbox } [ a ] } \\end{array} \\right]$\n",
    "\n",
    "$T _ { 1 } [ a ] = \\left[ \\begin{array} { l } { 03 \\times \\operatorname { sbox } [ a ] } \\\\ { 02 \\times \\operatorname { sbox } [ a ] } \\\\ { 01 \\times \\operatorname { sbox } [ a ] } \\\\ { 01 \\times \\operatorname { sbox } [ a ] } \\end{array} \\right]$\n",
    "\n",
    "$T _ { 2 } [ a ] = \\left[ \\begin{array} { l l } { 01 \\times \\operatorname { sbox } [ a ] } \\\\ { 03 \\times \\operatorname { sbox } [ a ] } \\\\ { 02 \\times \\operatorname { sbox } [ a ] } \\\\ { 01 \\times \\operatorname { sbox } [ a ] } \\end{array} \\right]$\n",
    "\n",
    "$T _ { 3 } [ a ] = \\left[ \\begin{array} { l l } { 01 \\times \\operatorname { sbox } [ a ] } \\\\ { 01 \\times \\operatorname { sbox } [ a ] } \\\\ { 03 \\times \\operatorname { sbox } [ a ] } \\\\ { 02 \\times \\operatorname { sbox } [ a ] } \\end{array} \\right]$\n",
    "\n",
    "These tables have 2^8 different 32-bit entries, so together the tables take up 4 kB. Finally, we can quickly compute one round of AES by calculating\n",
    "\n",
    "$\\left[ \\begin{array} { l } { d _ { 0 , j } } \\\\ { d _ { 1 , j } } \\\\ { d _ { 2 , j } } \\\\ { d _ { 3 , j } } \\end{array} \\right] = T _ { 0 } \\left[ a _ { 0 } , j + 0 \\right] \\oplus T _ { 1 } \\left[ a _ { 1 } , j + 1 \\right] \\oplus T _ { 2 } \\left[ a _ { 2 } , j + 2 \\right] \\oplus T _ { 3 } \\left[ a _ { 3 } , j + 3 \\right]$\n",
    "\n",
    "All together, with AddRoundKey at the end, a single round now takes 16 table lookups and 16 32-bit XOR operations. This arrangement is much more efficient than the traditional 8-bit implementation. There are a few more tradeoffs that can be made: for instance, the tables only differ by 8-bit shifts, so it's also possible to store only 1 kB of lookup tables at the expense of a few rotate operations.\n",
    "\n",
    "While the TINYAES128C library we've been using doesn't make this optimization, another library included with ChipWhisperer called MBEDTLS does."
   ]
  },
  {
   "cell_type": "code",
   "execution_count": 1,
   "metadata": {
    "execution": {
     "iopub.execute_input": "2025-03-15T00:21:13.134445Z",
     "iopub.status.busy": "2025-03-15T00:21:13.133527Z",
     "iopub.status.idle": "2025-03-15T00:21:13.145021Z",
     "shell.execute_reply": "2025-03-15T00:21:13.143917Z"
    }
   },
   "outputs": [],
   "source": [
    "SCOPETYPE = 'CWNANO'\n",
    "PLATFORM = 'CWNANO'\n",
    "VERSION = 'HARDWARE'\n",
    "SS_VER = 'SS_VER_2_1'\n",
    "\n",
    "CRYPTO_TARGET = 'TINYAES128C'\n",
    "allowable_exceptions = None\n"
   ]
  },
  {
   "cell_type": "code",
   "execution_count": 2,
   "metadata": {
    "execution": {
     "iopub.execute_input": "2025-03-15T00:21:13.148389Z",
     "iopub.status.busy": "2025-03-15T00:21:13.147838Z",
     "iopub.status.idle": "2025-03-15T00:21:13.152421Z",
     "shell.execute_reply": "2025-03-15T00:21:13.151322Z"
    }
   },
   "outputs": [],
   "source": [
    "CRYPTO_TARGET = 'MBEDTLS' # overwrite auto inserted CRYPTO_TARGET"
   ]
  },
  {
   "cell_type": "code",
   "execution_count": 3,
   "metadata": {
    "execution": {
     "iopub.execute_input": "2025-03-15T00:21:13.155919Z",
     "iopub.status.busy": "2025-03-15T00:21:13.155537Z",
     "iopub.status.idle": "2025-03-15T00:21:26.438046Z",
     "shell.execute_reply": "2025-03-15T00:21:26.435822Z"
    }
   },
   "outputs": [
    {
     "name": "stdout",
     "output_type": "stream",
     "text": [
      "INFO: Found ChipWhisperer😍\n",
      "Building for platform CWNANO with CRYPTO_TARGET=MBEDTLS\n",
      "SS_VER set to SS_VER_2_1\n"
     ]
    },
    {
     "name": "stdout",
     "output_type": "stream",
     "text": [
      "SS_VER set to SS_VER_2_1\n",
      "Blank crypto options, building for AES128\n"
     ]
    },
    {
     "name": "stdout",
     "output_type": "stream",
     "text": [
      ".\n"
     ]
    },
    {
     "name": "stdout",
     "output_type": "stream",
     "text": [
      "Welcome to another exciting ChipWhisperer target build!!\n"
     ]
    },
    {
     "name": "stdout",
     "output_type": "stream",
     "text": [
      "arm-none-eabi-gcc (15:9-2019-q4-0ubuntu1) 9.2.1 20191025 (release) [ARM/arm-9-branch revision 277599"
     ]
    },
    {
     "name": "stdout",
     "output_type": "stream",
     "text": [
      "]\n",
      "Copyright (C) 2019 Free Software Foundation, Inc.\n",
      "This is free software; see the source for copyin"
     ]
    },
    {
     "name": "stdout",
     "output_type": "stream",
     "text": [
      "g conditions.  There is NO\n",
      "warranty; not even for MERCHANTABILITY or FITNESS FOR A PARTICULAR PURPOS"
     ]
    },
    {
     "name": "stdout",
     "output_type": "stream",
     "text": [
      "E.\n",
      "\n",
      "mkdir -p objdir-CWNANO \n"
     ]
    },
    {
     "name": "stdout",
     "output_type": "stream",
     "text": [
      ".\n",
      "Compiling:\n"
     ]
    },
    {
     "name": "stdout",
     "output_type": "stream",
     "text": [
      "-en     simpleserial-aes.c ...\n"
     ]
    },
    {
     "name": "stdout",
     "output_type": "stream",
     "text": [
      "-e Done!\n"
     ]
    },
    {
     "name": "stdout",
     "output_type": "stream",
     "text": [
      ".\n"
     ]
    },
    {
     "name": "stdout",
     "output_type": "stream",
     "text": [
      "Compiling:\n"
     ]
    },
    {
     "name": "stdout",
     "output_type": "stream",
     "text": [
      "-en     .././simpleserial/simpleserial.c ...\n"
     ]
    },
    {
     "name": "stdout",
     "output_type": "stream",
     "text": [
      "-e Done!\n"
     ]
    },
    {
     "name": "stdout",
     "output_type": "stream",
     "text": [
      ".\n",
      "Compiling:\n"
     ]
    },
    {
     "name": "stdout",
     "output_type": "stream",
     "text": [
      "-en     .././hal//stm32f0_nano/stm32f0_hal_nano.c ...\n"
     ]
    },
    {
     "name": "stdout",
     "output_type": "stream",
     "text": [
      "-e Done!\n"
     ]
    },
    {
     "name": "stdout",
     "output_type": "stream",
     "text": [
      ".\n"
     ]
    },
    {
     "name": "stdout",
     "output_type": "stream",
     "text": [
      "Compiling:\n"
     ]
    },
    {
     "name": "stdout",
     "output_type": "stream",
     "text": [
      "-en     .././hal//stm32f0/stm32f0_hal_lowlevel.c ...\n"
     ]
    },
    {
     "name": "stdout",
     "output_type": "stream",
     "text": [
      "-e Done!\n"
     ]
    },
    {
     "name": "stdout",
     "output_type": "stream",
     "text": [
      ".\n"
     ]
    },
    {
     "name": "stdout",
     "output_type": "stream",
     "text": [
      "Compiling:\n"
     ]
    },
    {
     "name": "stdout",
     "output_type": "stream",
     "text": [
      "-en     .././crypto/aes-independant.c ...\n"
     ]
    },
    {
     "name": "stdout",
     "output_type": "stream",
     "text": [
      "-e Done!\n"
     ]
    },
    {
     "name": "stdout",
     "output_type": "stream",
     "text": [
      ".\n"
     ]
    },
    {
     "name": "stdout",
     "output_type": "stream",
     "text": [
      "Compiling:\n"
     ]
    },
    {
     "name": "stdout",
     "output_type": "stream",
     "text": [
      "-en     .././crypto/mbedtls//library/aes.c ...\n"
     ]
    },
    {
     "name": "stdout",
     "output_type": "stream",
     "text": [
      "-e Done!\n"
     ]
    },
    {
     "name": "stdout",
     "output_type": "stream",
     "text": [
      ".\n",
      "Assembling: .././hal//stm32f0/stm32f0_startup.S\n",
      "arm-none-eabi-gcc -c -mcpu=cortex-m0 -I. -x assemb"
     ]
    },
    {
     "name": "stdout",
     "output_type": "stream",
     "text": [
      "ler-with-cpp -mthumb -mfloat-abi=soft -ffunction-sections -DF_CPU=7372800 -Wa,-gstabs,-adhlns=objdir"
     ]
    },
    {
     "name": "stdout",
     "output_type": "stream",
     "text": [
      "-CWNANO/stm32f0_startup.lst -I.././simpleserial/ -I.././hal/ -I.././hal/ -I.././hal//stm32f0 -I.././"
     ]
    },
    {
     "name": "stdout",
     "output_type": "stream",
     "text": [
      "hal//stm32f0/CMSIS -I.././hal//stm32f0/CMSIS/core -I.././hal//stm32f0/CMSIS/device -I.././hal//stm32"
     ]
    },
    {
     "name": "stdout",
     "output_type": "stream",
     "text": [
      "f0/Legacy -I.././simpleserial/ -I.././crypto/ -I.././crypto/mbedtls//include .././hal//stm32f0/stm32"
     ]
    },
    {
     "name": "stdout",
     "output_type": "stream",
     "text": [
      "f0_startup.S -o objdir-CWNANO/stm32f0_startup.o\n"
     ]
    },
    {
     "name": "stdout",
     "output_type": "stream",
     "text": [
      ".\n"
     ]
    },
    {
     "name": "stdout",
     "output_type": "stream",
     "text": [
      "LINKING:\n"
     ]
    },
    {
     "name": "stdout",
     "output_type": "stream",
     "text": [
      "-en     simpleserial-aes-CWNANO.elf ...\n"
     ]
    },
    {
     "name": "stdout",
     "output_type": "stream",
     "text": [
      "-e Done!\n"
     ]
    },
    {
     "name": "stdout",
     "output_type": "stream",
     "text": [
      ".\n"
     ]
    },
    {
     "name": "stdout",
     "output_type": "stream",
     "text": [
      "Creating load file for Flash: simpleserial-aes-CWNANO.hex\n",
      "arm-none-eabi-objcopy -O ihex -R .eeprom -"
     ]
    },
    {
     "name": "stdout",
     "output_type": "stream",
     "text": [
      "R .fuse -R .lock -R .signature simpleserial-aes-CWNANO.elf simpleserial-aes-CWNANO.hex\n"
     ]
    },
    {
     "name": "stdout",
     "output_type": "stream",
     "text": [
      ".\n"
     ]
    },
    {
     "name": "stdout",
     "output_type": "stream",
     "text": [
      "Creating load file for Flash: simpleserial-aes-CWNANO.bin\n"
     ]
    },
    {
     "name": "stdout",
     "output_type": "stream",
     "text": [
      "arm-none-eabi-objcopy -O binary -R .eeprom -R .fuse -R .lock -R .signature simpleserial-aes-CWNANO.e"
     ]
    },
    {
     "name": "stdout",
     "output_type": "stream",
     "text": [
      "lf simpleserial-aes-CWNANO.bin\n"
     ]
    },
    {
     "name": "stdout",
     "output_type": "stream",
     "text": [
      ".\n"
     ]
    },
    {
     "name": "stdout",
     "output_type": "stream",
     "text": [
      "Creating load file for EEPROM: simpleserial-aes-CWNANO.eep\n"
     ]
    },
    {
     "name": "stdout",
     "output_type": "stream",
     "text": [
      "arm-none-eabi-objcopy -j .eeprom --set-section-flags=.eeprom=\"alloc,load\" \\\n",
      "--change-section-lma .ee"
     ]
    },
    {
     "name": "stdout",
     "output_type": "stream",
     "text": [
      "prom=0 --no-change-warnings -O ihex simpleserial-aes-CWNANO.elf simpleserial-aes-CWNANO.eep || exit "
     ]
    },
    {
     "name": "stdout",
     "output_type": "stream",
     "text": [
      "0\n"
     ]
    },
    {
     "name": "stdout",
     "output_type": "stream",
     "text": [
      ".\n"
     ]
    },
    {
     "name": "stdout",
     "output_type": "stream",
     "text": [
      "Creating Extended Listing: simpleserial-aes-CWNANO.lss\n"
     ]
    },
    {
     "name": "stdout",
     "output_type": "stream",
     "text": [
      "arm-none-eabi-objdump -h -S -z simpleserial-aes-CWNANO.elf > simpleserial-aes-CWNANO.lss\n"
     ]
    },
    {
     "name": "stdout",
     "output_type": "stream",
     "text": [
      ".\n"
     ]
    },
    {
     "name": "stdout",
     "output_type": "stream",
     "text": [
      "Creating Symbol Table: simpleserial-aes-CWNANO.sym\n",
      "arm-none-eabi-nm -n simpleserial-aes-CWNANO.elf >"
     ]
    },
    {
     "name": "stdout",
     "output_type": "stream",
     "text": [
      " simpleserial-aes-CWNANO.sym\n"
     ]
    },
    {
     "name": "stdout",
     "output_type": "stream",
     "text": [
      "Size after:\n"
     ]
    },
    {
     "name": "stdout",
     "output_type": "stream",
     "text": [
      "   text\t   data\t    bss\t    dec\t    hex\tfilename\n",
      "  16140\t     12\t   1644\t  17796\t   4584\tsimpleseria"
     ]
    },
    {
     "name": "stdout",
     "output_type": "stream",
     "text": [
      "l-aes-CWNANO.elf\n"
     ]
    },
    {
     "name": "stdout",
     "output_type": "stream",
     "text": [
      "+--------------------------------------------------------\n"
     ]
    },
    {
     "name": "stdout",
     "output_type": "stream",
     "text": [
      "+ Default target does full rebuild each time.\n"
     ]
    },
    {
     "name": "stdout",
     "output_type": "stream",
     "text": [
      "+ Specify buildtarget == allquick == to avoid full rebuild\n",
      "+----------------------------------------"
     ]
    },
    {
     "name": "stdout",
     "output_type": "stream",
     "text": [
      "----------------\n"
     ]
    },
    {
     "name": "stdout",
     "output_type": "stream",
     "text": [
      "+--------------------------------------------------------\n",
      "+ Built for platform CWNANO Built-in Targe"
     ]
    },
    {
     "name": "stdout",
     "output_type": "stream",
     "text": [
      "t (STM32F030) with:\n"
     ]
    },
    {
     "name": "stdout",
     "output_type": "stream",
     "text": [
      "+ CRYPTO_TARGET = MBEDTLS\n",
      "+ CRYPTO_OPTIONS = AES128C\n"
     ]
    },
    {
     "name": "stdout",
     "output_type": "stream",
     "text": [
      "+--------------------------------------------------------\n"
     ]
    },
    {
     "name": "stdout",
     "output_type": "stream",
     "text": [
      "Detected known STMF32: STM32F04xxx\n",
      "Extended erase (0x44), this can take ten seconds or more\n",
      "Attempting to program 16151 bytes at 0x8000000\n",
      "STM32F Programming flash...\n"
     ]
    },
    {
     "name": "stdout",
     "output_type": "stream",
     "text": [
      "STM32F Reading flash...\n"
     ]
    },
    {
     "name": "stdout",
     "output_type": "stream",
     "text": [
      "Verified flash OK, 16151 bytes\n"
     ]
    },
    {
     "data": {
      "application/vnd.jupyter.widget-view+json": {
       "model_id": "bcdfb25464844dd7870bfc50a4fc4c19",
       "version_major": 2,
       "version_minor": 0
      },
      "text/plain": [
       "Capturing traces:   0%|          | 0/100 [00:00<?, ?it/s]"
      ]
     },
     "metadata": {},
     "output_type": "display_data"
    }
   ],
   "source": [
    "if VERSION == 'HARDWARE':\n",
    "    \n",
    "    #!/usr/bin/env python\n",
    "    # coding: utf-8\n",
    "    \n",
    "    # # Part 2, Topic 1: CPA Attack on 32bit AES (HARDWARE)\n",
    "    \n",
    "    # ---\n",
    "    # NOTE: This lab references some (commercial) training material on [ChipWhisperer.io](https://www.ChipWhisperer.io). You can freely execute and use the lab per the open-source license (including using it in your own courses if you distribute similarly), but you must maintain notice about this source location. Consider joining our training course to enjoy the full experience.\n",
    "    # \n",
    "    # ---\n",
    "    \n",
    "    # Usual capture, just using MBEDTLS instead of TINYAES128\n",
    "    \n",
    "    # In[ ]:\n",
    "    \n",
    "    \n",
    "    \n",
    "    \n",
    "    \n",
    "    # In[ ]:\n",
    "    \n",
    "    \n",
    "    \n",
    "    #!/usr/bin/env python\n",
    "    # coding: utf-8\n",
    "    \n",
    "    # In[ ]:\n",
    "    \n",
    "    \n",
    "    import chipwhisperer as cw\n",
    "    \n",
    "    try:\n",
    "        if not scope.connectStatus:\n",
    "            scope.con()\n",
    "    except NameError:\n",
    "        scope = cw.scope(hw_location=(5, 6))\n",
    "    \n",
    "    try:\n",
    "        if SS_VER == \"SS_VER_2_1\":\n",
    "            target_type = cw.targets.SimpleSerial2\n",
    "        elif SS_VER == \"SS_VER_2_0\":\n",
    "            raise OSError(\"SS_VER_2_0 is deprecated. Use SS_VER_2_1\")\n",
    "        else:\n",
    "            target_type = cw.targets.SimpleSerial\n",
    "    except:\n",
    "        SS_VER=\"SS_VER_1_1\"\n",
    "        target_type = cw.targets.SimpleSerial\n",
    "    \n",
    "    try:\n",
    "        target = cw.target(scope, target_type)\n",
    "    except:\n",
    "        print(\"INFO: Caught exception on reconnecting to target - attempting to reconnect to scope first.\")\n",
    "        print(\"INFO: This is a work-around when USB has died without Python knowing. Ignore errors above this line.\")\n",
    "        scope = cw.scope(hw_location=(5, 6))\n",
    "        target = cw.target(scope, target_type)\n",
    "    \n",
    "    \n",
    "    print(\"INFO: Found ChipWhisperer😍\")\n",
    "    \n",
    "    \n",
    "    # In[ ]:\n",
    "    \n",
    "    \n",
    "    if \"STM\" in PLATFORM or PLATFORM == \"CWLITEARM\" or PLATFORM == \"CWNANO\":\n",
    "        prog = cw.programmers.STM32FProgrammer\n",
    "    elif PLATFORM == \"CW303\" or PLATFORM == \"CWLITEXMEGA\":\n",
    "        prog = cw.programmers.XMEGAProgrammer\n",
    "    elif \"neorv32\" in PLATFORM.lower():\n",
    "        prog = cw.programmers.NEORV32Programmer\n",
    "    elif PLATFORM == \"CW308_SAM4S\" or PLATFORM == \"CWHUSKY\":\n",
    "        prog = cw.programmers.SAM4SProgrammer\n",
    "    else:\n",
    "        prog = None\n",
    "    \n",
    "    \n",
    "    # In[ ]:\n",
    "    \n",
    "    \n",
    "    import time\n",
    "    time.sleep(0.05)\n",
    "    scope.default_setup()\n",
    "    \n",
    "    def reset_target(scope):\n",
    "        if PLATFORM == \"CW303\" or PLATFORM == \"CWLITEXMEGA\":\n",
    "            scope.io.pdic = 'low'\n",
    "            time.sleep(0.1)\n",
    "            scope.io.pdic = 'high_z' #XMEGA doesn't like pdic driven high\n",
    "            time.sleep(0.1) #xmega needs more startup time\n",
    "        elif \"neorv32\" in PLATFORM.lower():\n",
    "            raise IOError(\"Default iCE40 neorv32 build does not have external reset - reprogram device to reset\")\n",
    "        elif PLATFORM == \"CW308_SAM4S\" or PLATFORM == \"CWHUSKY\":\n",
    "            scope.io.nrst = 'low'\n",
    "            time.sleep(0.25)\n",
    "            scope.io.nrst = 'high_z'\n",
    "            time.sleep(0.25)\n",
    "        else:  \n",
    "            scope.io.nrst = 'low'\n",
    "            time.sleep(0.05)\n",
    "            scope.io.nrst = 'high_z'\n",
    "            time.sleep(0.05)\n",
    "    \n",
    "    \n",
    "\n",
    "    \n",
    "    \n",
    "    # In[ ]:\n",
    "    \n",
    "    \n",
    "    try:\n",
    "        get_ipython().run_cell_magic('bash', '-s \"$PLATFORM\" \"$CRYPTO_TARGET\" \"$SS_VER\"', 'cd ../../../firmware/mcu/simpleserial-aes\\nmake PLATFORM=$1 CRYPTO_TARGET=$2 SS_VER=$3\\n &> /tmp/tmp.txt')\n",
    "    except:\n",
    "        x=open(\"/tmp/tmp.txt\").read(); print(x); raise OSError(x)\n",
    "\n",
    "    \n",
    "    \n",
    "    # In[ ]:\n",
    "    \n",
    "    \n",
    "    fw_path = '../../../firmware/mcu/simpleserial-aes/simpleserial-aes-{}.hex'.format(PLATFORM)\n",
    "    cw.program_target(scope, prog, fw_path)\n",
    "    \n",
    "    \n",
    "    # In[ ]:\n",
    "    \n",
    "    \n",
    "    #Capture Traces\n",
    "    from tqdm.notebook import trange, trange\n",
    "    import numpy as np\n",
    "    import time\n",
    "    \n",
    "    ktp = cw.ktp.Basic()\n",
    "    \n",
    "    traces = []\n",
    "    N = 100  # Number of traces\n",
    "    project = cw.create_project(\"traces/32bit_AES.cwp\", overwrite=True)\n",
    "    \n",
    "    for i in trange(N, desc='Capturing traces'):\n",
    "        key, text = ktp.next()  # manual creation of a key, text pair can be substituted here\n",
    "    \n",
    "        trace = cw.capture_trace(scope, target, text, key)\n",
    "        if trace is None:\n",
    "            continue\n",
    "        project.traces.append(trace)\n",
    "    \n",
    "    try:\n",
    "        print(scope.adc.trig_count) # print if this exists\n",
    "    except:\n",
    "        pass\n",
    "    project.save()\n",
    "    \n",
    "    \n",
    "    # In[ ]:\n",
    "    \n",
    "    \n",
    "    scope.dis()\n",
    "    target.dis()\n",
    "    \n",
    "    \n",
    "\n",
    "elif VERSION == 'SIMULATED':\n",
    "    \n",
    "    #!/usr/bin/env python\n",
    "    # coding: utf-8\n",
    "    \n",
    "    # # Part 2, Topic 1: CPA Attack on 32bit AES (SIMULATED)\n",
    "    \n",
    "    # ---\n",
    "    # NOTE: This lab references some (commercial) training material on [ChipWhisperer.io](https://www.ChipWhisperer.io). You can freely execute and use the lab per the open-source license (including using it in your own courses if you distribute similarly), but you must maintain notice about this source location. Consider joining our training course to enjoy the full experience.\n",
    "    # \n",
    "    # ---\n",
    "    \n",
    "    # In[ ]:\n",
    "    \n",
    "    \n",
    "    import chipwhisperer as cw\n",
    "    project = cw.open_project(\"traces/32bit_AES.cwp\")\n",
    "    \n",
    "    \n"
   ]
  },
  {
   "cell_type": "markdown",
   "metadata": {},
   "source": [
    "If we plot the AES power trace:"
   ]
  },
  {
   "cell_type": "code",
   "execution_count": 4,
   "metadata": {
    "execution": {
     "iopub.execute_input": "2025-03-15T00:21:26.445668Z",
     "iopub.status.busy": "2025-03-15T00:21:26.444325Z",
     "iopub.status.idle": "2025-03-15T00:21:30.031156Z",
     "shell.execute_reply": "2025-03-15T00:21:30.029819Z"
    }
   },
   "outputs": [
    {
     "data": {
      "text/html": [
       "<script type=\"esms-options\">{\"shimMode\": true}</script><style>*[data-root-id],\n",
       "*[data-root-id] > * {\n",
       "  box-sizing: border-box;\n",
       "  font-family: var(--jp-ui-font-family);\n",
       "  font-size: var(--jp-ui-font-size1);\n",
       "  color: var(--vscode-editor-foreground, var(--jp-ui-font-color1));\n",
       "}\n",
       "\n",
       "/* Override VSCode background color */\n",
       ".cell-output-ipywidget-background:has(\n",
       "    > .cell-output-ipywidget-background > .lm-Widget > *[data-root-id]\n",
       "  ),\n",
       ".cell-output-ipywidget-background:has(> .lm-Widget > *[data-root-id]) {\n",
       "  background-color: transparent !important;\n",
       "}\n",
       "</style>"
      ]
     },
     "metadata": {},
     "output_type": "display_data"
    },
    {
     "data": {
      "application/javascript": [
       "(function(root) {\n",
       "  function now() {\n",
       "    return new Date();\n",
       "  }\n",
       "\n",
       "  const force = true;\n",
       "  const py_version = '3.6.3'.replace('rc', '-rc.').replace('.dev', '-dev.');\n",
       "  const reloading = false;\n",
       "  const Bokeh = root.Bokeh;\n",
       "\n",
       "  // Set a timeout for this load but only if we are not already initializing\n",
       "  if (typeof (root._bokeh_timeout) === \"undefined\" || (force || !root._bokeh_is_initializing)) {\n",
       "    root._bokeh_timeout = Date.now() + 5000;\n",
       "    root._bokeh_failed_load = false;\n",
       "  }\n",
       "\n",
       "  function run_callbacks() {\n",
       "    try {\n",
       "      root._bokeh_onload_callbacks.forEach(function(callback) {\n",
       "        if (callback != null)\n",
       "          callback();\n",
       "      });\n",
       "    } finally {\n",
       "      delete root._bokeh_onload_callbacks;\n",
       "    }\n",
       "    console.debug(\"Bokeh: all callbacks have finished\");\n",
       "  }\n",
       "\n",
       "  function load_libs(css_urls, js_urls, js_modules, js_exports, callback) {\n",
       "    if (css_urls == null) css_urls = [];\n",
       "    if (js_urls == null) js_urls = [];\n",
       "    if (js_modules == null) js_modules = [];\n",
       "    if (js_exports == null) js_exports = {};\n",
       "\n",
       "    root._bokeh_onload_callbacks.push(callback);\n",
       "\n",
       "    if (root._bokeh_is_loading > 0) {\n",
       "      // Don't load bokeh if it is still initializing\n",
       "      console.debug(\"Bokeh: BokehJS is being loaded, scheduling callback at\", now());\n",
       "      return null;\n",
       "    } else if (js_urls.length === 0 && js_modules.length === 0 && Object.keys(js_exports).length === 0) {\n",
       "      // There is nothing to load\n",
       "      run_callbacks();\n",
       "      return null;\n",
       "    }\n",
       "\n",
       "    function on_load() {\n",
       "      root._bokeh_is_loading--;\n",
       "      if (root._bokeh_is_loading === 0) {\n",
       "        console.debug(\"Bokeh: all BokehJS libraries/stylesheets loaded\");\n",
       "        run_callbacks()\n",
       "      }\n",
       "    }\n",
       "    window._bokeh_on_load = on_load\n",
       "\n",
       "    function on_error(e) {\n",
       "      const src_el = e.srcElement\n",
       "      console.error(\"failed to load \" + (src_el.href || src_el.src));\n",
       "    }\n",
       "\n",
       "    const skip = [];\n",
       "    if (window.requirejs) {\n",
       "      window.requirejs.config({'packages': {}, 'paths': {}, 'shim': {}});\n",
       "      root._bokeh_is_loading = css_urls.length + 0;\n",
       "    } else {\n",
       "      root._bokeh_is_loading = css_urls.length + js_urls.length + js_modules.length + Object.keys(js_exports).length;\n",
       "    }\n",
       "\n",
       "    const existing_stylesheets = []\n",
       "    const links = document.getElementsByTagName('link')\n",
       "    for (let i = 0; i < links.length; i++) {\n",
       "      const link = links[i]\n",
       "      if (link.href != null) {\n",
       "        existing_stylesheets.push(link.href)\n",
       "      }\n",
       "    }\n",
       "    for (let i = 0; i < css_urls.length; i++) {\n",
       "      const url = css_urls[i];\n",
       "      const escaped = encodeURI(url)\n",
       "      if (existing_stylesheets.indexOf(escaped) !== -1) {\n",
       "        on_load()\n",
       "        continue;\n",
       "      }\n",
       "      const element = document.createElement(\"link\");\n",
       "      element.onload = on_load;\n",
       "      element.onerror = on_error;\n",
       "      element.rel = \"stylesheet\";\n",
       "      element.type = \"text/css\";\n",
       "      element.href = url;\n",
       "      console.debug(\"Bokeh: injecting link tag for BokehJS stylesheet: \", url);\n",
       "      document.body.appendChild(element);\n",
       "    }    var existing_scripts = []\n",
       "    const scripts = document.getElementsByTagName('script')\n",
       "    for (let i = 0; i < scripts.length; i++) {\n",
       "      var script = scripts[i]\n",
       "      if (script.src != null) {\n",
       "        existing_scripts.push(script.src)\n",
       "      }\n",
       "    }\n",
       "    for (let i = 0; i < js_urls.length; i++) {\n",
       "      const url = js_urls[i];\n",
       "      const escaped = encodeURI(url)\n",
       "      if (skip.indexOf(escaped) !== -1 || existing_scripts.indexOf(escaped) !== -1) {\n",
       "        if (!window.requirejs) {\n",
       "          on_load();\n",
       "        }\n",
       "        continue;\n",
       "      }\n",
       "      const element = document.createElement('script');\n",
       "      element.onload = on_load;\n",
       "      element.onerror = on_error;\n",
       "      element.async = false;\n",
       "      element.src = url;\n",
       "      console.debug(\"Bokeh: injecting script tag for BokehJS library: \", url);\n",
       "      document.head.appendChild(element);\n",
       "    }\n",
       "    for (let i = 0; i < js_modules.length; i++) {\n",
       "      const url = js_modules[i];\n",
       "      const escaped = encodeURI(url)\n",
       "      if (skip.indexOf(escaped) !== -1 || existing_scripts.indexOf(escaped) !== -1) {\n",
       "        if (!window.requirejs) {\n",
       "          on_load();\n",
       "        }\n",
       "        continue;\n",
       "      }\n",
       "      var element = document.createElement('script');\n",
       "      element.onload = on_load;\n",
       "      element.onerror = on_error;\n",
       "      element.async = false;\n",
       "      element.src = url;\n",
       "      element.type = \"module\";\n",
       "      console.debug(\"Bokeh: injecting script tag for BokehJS library: \", url);\n",
       "      document.head.appendChild(element);\n",
       "    }\n",
       "    for (const name in js_exports) {\n",
       "      const url = js_exports[name];\n",
       "      const escaped = encodeURI(url)\n",
       "      if (skip.indexOf(escaped) >= 0 || root[name] != null) {\n",
       "        if (!window.requirejs) {\n",
       "          on_load();\n",
       "        }\n",
       "        continue;\n",
       "      }\n",
       "      var element = document.createElement('script');\n",
       "      element.onerror = on_error;\n",
       "      element.async = false;\n",
       "      element.type = \"module\";\n",
       "      console.debug(\"Bokeh: injecting script tag for BokehJS library: \", url);\n",
       "      element.textContent = `\n",
       "      import ${name} from \"${url}\"\n",
       "      window.${name} = ${name}\n",
       "      window._bokeh_on_load()\n",
       "      `\n",
       "      document.head.appendChild(element);\n",
       "    }\n",
       "    if (!js_urls.length && !js_modules.length) {\n",
       "      on_load()\n",
       "    }\n",
       "  };\n",
       "\n",
       "  function inject_raw_css(css) {\n",
       "    const element = document.createElement(\"style\");\n",
       "    element.appendChild(document.createTextNode(css));\n",
       "    document.body.appendChild(element);\n",
       "  }\n",
       "\n",
       "  const js_urls = [\"https://cdn.holoviz.org/panel/1.6.1/dist/bundled/reactiveesm/es-module-shims@^1.10.0/dist/es-module-shims.min.js\", \"https://cdn.bokeh.org/bokeh/release/bokeh-3.6.3.min.js\", \"https://cdn.bokeh.org/bokeh/release/bokeh-gl-3.6.3.min.js\", \"https://cdn.bokeh.org/bokeh/release/bokeh-widgets-3.6.3.min.js\", \"https://cdn.bokeh.org/bokeh/release/bokeh-tables-3.6.3.min.js\", \"https://cdn.holoviz.org/panel/1.6.1/dist/panel.min.js\"];\n",
       "  const js_modules = [];\n",
       "  const js_exports = {};\n",
       "  const css_urls = [];\n",
       "  const inline_js = [    function(Bokeh) {\n",
       "      Bokeh.set_log_level(\"info\");\n",
       "    },\n",
       "function(Bokeh) {} // ensure no trailing comma for IE\n",
       "  ];\n",
       "\n",
       "  function run_inline_js() {\n",
       "    if ((root.Bokeh !== undefined) || (force === true)) {\n",
       "      for (let i = 0; i < inline_js.length; i++) {\n",
       "        try {\n",
       "          inline_js[i].call(root, root.Bokeh);\n",
       "        } catch(e) {\n",
       "          if (!reloading) {\n",
       "            throw e;\n",
       "          }\n",
       "        }\n",
       "      }\n",
       "      // Cache old bokeh versions\n",
       "      if (Bokeh != undefined && !reloading) {\n",
       "        var NewBokeh = root.Bokeh;\n",
       "        if (Bokeh.versions === undefined) {\n",
       "          Bokeh.versions = new Map();\n",
       "        }\n",
       "        if (NewBokeh.version !== Bokeh.version) {\n",
       "          Bokeh.versions.set(NewBokeh.version, NewBokeh)\n",
       "        }\n",
       "        root.Bokeh = Bokeh;\n",
       "      }\n",
       "    } else if (Date.now() < root._bokeh_timeout) {\n",
       "      setTimeout(run_inline_js, 100);\n",
       "    } else if (!root._bokeh_failed_load) {\n",
       "      console.log(\"Bokeh: BokehJS failed to load within specified timeout.\");\n",
       "      root._bokeh_failed_load = true;\n",
       "    }\n",
       "    root._bokeh_is_initializing = false\n",
       "  }\n",
       "\n",
       "  function load_or_wait() {\n",
       "    // Implement a backoff loop that tries to ensure we do not load multiple\n",
       "    // versions of Bokeh and its dependencies at the same time.\n",
       "    // In recent versions we use the root._bokeh_is_initializing flag\n",
       "    // to determine whether there is an ongoing attempt to initialize\n",
       "    // bokeh, however for backward compatibility we also try to ensure\n",
       "    // that we do not start loading a newer (Panel>=1.0 and Bokeh>3) version\n",
       "    // before older versions are fully initialized.\n",
       "    if (root._bokeh_is_initializing && Date.now() > root._bokeh_timeout) {\n",
       "      // If the timeout and bokeh was not successfully loaded we reset\n",
       "      // everything and try loading again\n",
       "      root._bokeh_timeout = Date.now() + 5000;\n",
       "      root._bokeh_is_initializing = false;\n",
       "      root._bokeh_onload_callbacks = undefined;\n",
       "      root._bokeh_is_loading = 0\n",
       "      console.log(\"Bokeh: BokehJS was loaded multiple times but one version failed to initialize.\");\n",
       "      load_or_wait();\n",
       "    } else if (root._bokeh_is_initializing || (typeof root._bokeh_is_initializing === \"undefined\" && root._bokeh_onload_callbacks !== undefined)) {\n",
       "      setTimeout(load_or_wait, 100);\n",
       "    } else {\n",
       "      root._bokeh_is_initializing = true\n",
       "      root._bokeh_onload_callbacks = []\n",
       "      const bokeh_loaded = root.Bokeh != null && (root.Bokeh.version === py_version || (root.Bokeh.versions !== undefined && root.Bokeh.versions.has(py_version)));\n",
       "      if (!reloading && !bokeh_loaded) {\n",
       "        if (root.Bokeh) {\n",
       "          root.Bokeh = undefined;\n",
       "        }\n",
       "        console.debug(\"Bokeh: BokehJS not loaded, scheduling load and callback at\", now());\n",
       "      }\n",
       "      load_libs(css_urls, js_urls, js_modules, js_exports, function() {\n",
       "        console.debug(\"Bokeh: BokehJS plotting callback run at\", now());\n",
       "        run_inline_js();\n",
       "      });\n",
       "    }\n",
       "  }\n",
       "  // Give older versions of the autoload script a head-start to ensure\n",
       "  // they initialize before we start loading newer version.\n",
       "  setTimeout(load_or_wait, 100)\n",
       "}(window));"
      ],
      "application/vnd.holoviews_load.v0+json": "(function(root) {\n  function now() {\n    return new Date();\n  }\n\n  const force = true;\n  const py_version = '3.6.3'.replace('rc', '-rc.').replace('.dev', '-dev.');\n  const reloading = false;\n  const Bokeh = root.Bokeh;\n\n  // Set a timeout for this load but only if we are not already initializing\n  if (typeof (root._bokeh_timeout) === \"undefined\" || (force || !root._bokeh_is_initializing)) {\n    root._bokeh_timeout = Date.now() + 5000;\n    root._bokeh_failed_load = false;\n  }\n\n  function run_callbacks() {\n    try {\n      root._bokeh_onload_callbacks.forEach(function(callback) {\n        if (callback != null)\n          callback();\n      });\n    } finally {\n      delete root._bokeh_onload_callbacks;\n    }\n    console.debug(\"Bokeh: all callbacks have finished\");\n  }\n\n  function load_libs(css_urls, js_urls, js_modules, js_exports, callback) {\n    if (css_urls == null) css_urls = [];\n    if (js_urls == null) js_urls = [];\n    if (js_modules == null) js_modules = [];\n    if (js_exports == null) js_exports = {};\n\n    root._bokeh_onload_callbacks.push(callback);\n\n    if (root._bokeh_is_loading > 0) {\n      // Don't load bokeh if it is still initializing\n      console.debug(\"Bokeh: BokehJS is being loaded, scheduling callback at\", now());\n      return null;\n    } else if (js_urls.length === 0 && js_modules.length === 0 && Object.keys(js_exports).length === 0) {\n      // There is nothing to load\n      run_callbacks();\n      return null;\n    }\n\n    function on_load() {\n      root._bokeh_is_loading--;\n      if (root._bokeh_is_loading === 0) {\n        console.debug(\"Bokeh: all BokehJS libraries/stylesheets loaded\");\n        run_callbacks()\n      }\n    }\n    window._bokeh_on_load = on_load\n\n    function on_error(e) {\n      const src_el = e.srcElement\n      console.error(\"failed to load \" + (src_el.href || src_el.src));\n    }\n\n    const skip = [];\n    if (window.requirejs) {\n      window.requirejs.config({'packages': {}, 'paths': {}, 'shim': {}});\n      root._bokeh_is_loading = css_urls.length + 0;\n    } else {\n      root._bokeh_is_loading = css_urls.length + js_urls.length + js_modules.length + Object.keys(js_exports).length;\n    }\n\n    const existing_stylesheets = []\n    const links = document.getElementsByTagName('link')\n    for (let i = 0; i < links.length; i++) {\n      const link = links[i]\n      if (link.href != null) {\n        existing_stylesheets.push(link.href)\n      }\n    }\n    for (let i = 0; i < css_urls.length; i++) {\n      const url = css_urls[i];\n      const escaped = encodeURI(url)\n      if (existing_stylesheets.indexOf(escaped) !== -1) {\n        on_load()\n        continue;\n      }\n      const element = document.createElement(\"link\");\n      element.onload = on_load;\n      element.onerror = on_error;\n      element.rel = \"stylesheet\";\n      element.type = \"text/css\";\n      element.href = url;\n      console.debug(\"Bokeh: injecting link tag for BokehJS stylesheet: \", url);\n      document.body.appendChild(element);\n    }    var existing_scripts = []\n    const scripts = document.getElementsByTagName('script')\n    for (let i = 0; i < scripts.length; i++) {\n      var script = scripts[i]\n      if (script.src != null) {\n        existing_scripts.push(script.src)\n      }\n    }\n    for (let i = 0; i < js_urls.length; i++) {\n      const url = js_urls[i];\n      const escaped = encodeURI(url)\n      if (skip.indexOf(escaped) !== -1 || existing_scripts.indexOf(escaped) !== -1) {\n        if (!window.requirejs) {\n          on_load();\n        }\n        continue;\n      }\n      const element = document.createElement('script');\n      element.onload = on_load;\n      element.onerror = on_error;\n      element.async = false;\n      element.src = url;\n      console.debug(\"Bokeh: injecting script tag for BokehJS library: \", url);\n      document.head.appendChild(element);\n    }\n    for (let i = 0; i < js_modules.length; i++) {\n      const url = js_modules[i];\n      const escaped = encodeURI(url)\n      if (skip.indexOf(escaped) !== -1 || existing_scripts.indexOf(escaped) !== -1) {\n        if (!window.requirejs) {\n          on_load();\n        }\n        continue;\n      }\n      var element = document.createElement('script');\n      element.onload = on_load;\n      element.onerror = on_error;\n      element.async = false;\n      element.src = url;\n      element.type = \"module\";\n      console.debug(\"Bokeh: injecting script tag for BokehJS library: \", url);\n      document.head.appendChild(element);\n    }\n    for (const name in js_exports) {\n      const url = js_exports[name];\n      const escaped = encodeURI(url)\n      if (skip.indexOf(escaped) >= 0 || root[name] != null) {\n        if (!window.requirejs) {\n          on_load();\n        }\n        continue;\n      }\n      var element = document.createElement('script');\n      element.onerror = on_error;\n      element.async = false;\n      element.type = \"module\";\n      console.debug(\"Bokeh: injecting script tag for BokehJS library: \", url);\n      element.textContent = `\n      import ${name} from \"${url}\"\n      window.${name} = ${name}\n      window._bokeh_on_load()\n      `\n      document.head.appendChild(element);\n    }\n    if (!js_urls.length && !js_modules.length) {\n      on_load()\n    }\n  };\n\n  function inject_raw_css(css) {\n    const element = document.createElement(\"style\");\n    element.appendChild(document.createTextNode(css));\n    document.body.appendChild(element);\n  }\n\n  const js_urls = [\"https://cdn.holoviz.org/panel/1.6.1/dist/bundled/reactiveesm/es-module-shims@^1.10.0/dist/es-module-shims.min.js\", \"https://cdn.bokeh.org/bokeh/release/bokeh-3.6.3.min.js\", \"https://cdn.bokeh.org/bokeh/release/bokeh-gl-3.6.3.min.js\", \"https://cdn.bokeh.org/bokeh/release/bokeh-widgets-3.6.3.min.js\", \"https://cdn.bokeh.org/bokeh/release/bokeh-tables-3.6.3.min.js\", \"https://cdn.holoviz.org/panel/1.6.1/dist/panel.min.js\"];\n  const js_modules = [];\n  const js_exports = {};\n  const css_urls = [];\n  const inline_js = [    function(Bokeh) {\n      Bokeh.set_log_level(\"info\");\n    },\nfunction(Bokeh) {} // ensure no trailing comma for IE\n  ];\n\n  function run_inline_js() {\n    if ((root.Bokeh !== undefined) || (force === true)) {\n      for (let i = 0; i < inline_js.length; i++) {\n        try {\n          inline_js[i].call(root, root.Bokeh);\n        } catch(e) {\n          if (!reloading) {\n            throw e;\n          }\n        }\n      }\n      // Cache old bokeh versions\n      if (Bokeh != undefined && !reloading) {\n        var NewBokeh = root.Bokeh;\n        if (Bokeh.versions === undefined) {\n          Bokeh.versions = new Map();\n        }\n        if (NewBokeh.version !== Bokeh.version) {\n          Bokeh.versions.set(NewBokeh.version, NewBokeh)\n        }\n        root.Bokeh = Bokeh;\n      }\n    } else if (Date.now() < root._bokeh_timeout) {\n      setTimeout(run_inline_js, 100);\n    } else if (!root._bokeh_failed_load) {\n      console.log(\"Bokeh: BokehJS failed to load within specified timeout.\");\n      root._bokeh_failed_load = true;\n    }\n    root._bokeh_is_initializing = false\n  }\n\n  function load_or_wait() {\n    // Implement a backoff loop that tries to ensure we do not load multiple\n    // versions of Bokeh and its dependencies at the same time.\n    // In recent versions we use the root._bokeh_is_initializing flag\n    // to determine whether there is an ongoing attempt to initialize\n    // bokeh, however for backward compatibility we also try to ensure\n    // that we do not start loading a newer (Panel>=1.0 and Bokeh>3) version\n    // before older versions are fully initialized.\n    if (root._bokeh_is_initializing && Date.now() > root._bokeh_timeout) {\n      // If the timeout and bokeh was not successfully loaded we reset\n      // everything and try loading again\n      root._bokeh_timeout = Date.now() + 5000;\n      root._bokeh_is_initializing = false;\n      root._bokeh_onload_callbacks = undefined;\n      root._bokeh_is_loading = 0\n      console.log(\"Bokeh: BokehJS was loaded multiple times but one version failed to initialize.\");\n      load_or_wait();\n    } else if (root._bokeh_is_initializing || (typeof root._bokeh_is_initializing === \"undefined\" && root._bokeh_onload_callbacks !== undefined)) {\n      setTimeout(load_or_wait, 100);\n    } else {\n      root._bokeh_is_initializing = true\n      root._bokeh_onload_callbacks = []\n      const bokeh_loaded = root.Bokeh != null && (root.Bokeh.version === py_version || (root.Bokeh.versions !== undefined && root.Bokeh.versions.has(py_version)));\n      if (!reloading && !bokeh_loaded) {\n        if (root.Bokeh) {\n          root.Bokeh = undefined;\n        }\n        console.debug(\"Bokeh: BokehJS not loaded, scheduling load and callback at\", now());\n      }\n      load_libs(css_urls, js_urls, js_modules, js_exports, function() {\n        console.debug(\"Bokeh: BokehJS plotting callback run at\", now());\n        run_inline_js();\n      });\n    }\n  }\n  // Give older versions of the autoload script a head-start to ensure\n  // they initialize before we start loading newer version.\n  setTimeout(load_or_wait, 100)\n}(window));"
     },
     "metadata": {},
     "output_type": "display_data"
    },
    {
     "data": {
      "application/javascript": [
       "\n",
       "if ((window.PyViz === undefined) || (window.PyViz instanceof HTMLElement)) {\n",
       "  window.PyViz = {comms: {}, comm_status:{}, kernels:{}, receivers: {}, plot_index: []}\n",
       "}\n",
       "\n",
       "\n",
       "    function JupyterCommManager() {\n",
       "    }\n",
       "\n",
       "    JupyterCommManager.prototype.register_target = function(plot_id, comm_id, msg_handler) {\n",
       "      if (window.comm_manager || ((window.Jupyter !== undefined) && (Jupyter.notebook.kernel != null))) {\n",
       "        var comm_manager = window.comm_manager || Jupyter.notebook.kernel.comm_manager;\n",
       "        comm_manager.register_target(comm_id, function(comm) {\n",
       "          comm.on_msg(msg_handler);\n",
       "        });\n",
       "      } else if ((plot_id in window.PyViz.kernels) && (window.PyViz.kernels[plot_id])) {\n",
       "        window.PyViz.kernels[plot_id].registerCommTarget(comm_id, function(comm) {\n",
       "          comm.onMsg = msg_handler;\n",
       "        });\n",
       "      } else if (typeof google != 'undefined' && google.colab.kernel != null) {\n",
       "        google.colab.kernel.comms.registerTarget(comm_id, (comm) => {\n",
       "          var messages = comm.messages[Symbol.asyncIterator]();\n",
       "          function processIteratorResult(result) {\n",
       "            var message = result.value;\n",
       "            console.log(message)\n",
       "            var content = {data: message.data, comm_id};\n",
       "            var buffers = []\n",
       "            for (var buffer of message.buffers || []) {\n",
       "              buffers.push(new DataView(buffer))\n",
       "            }\n",
       "            var metadata = message.metadata || {};\n",
       "            var msg = {content, buffers, metadata}\n",
       "            msg_handler(msg);\n",
       "            return messages.next().then(processIteratorResult);\n",
       "          }\n",
       "          return messages.next().then(processIteratorResult);\n",
       "        })\n",
       "      }\n",
       "    }\n",
       "\n",
       "    JupyterCommManager.prototype.get_client_comm = function(plot_id, comm_id, msg_handler) {\n",
       "      if (comm_id in window.PyViz.comms) {\n",
       "        return window.PyViz.comms[comm_id];\n",
       "      } else if (window.comm_manager || ((window.Jupyter !== undefined) && (Jupyter.notebook.kernel != null))) {\n",
       "        var comm_manager = window.comm_manager || Jupyter.notebook.kernel.comm_manager;\n",
       "        var comm = comm_manager.new_comm(comm_id, {}, {}, {}, comm_id);\n",
       "        if (msg_handler) {\n",
       "          comm.on_msg(msg_handler);\n",
       "        }\n",
       "      } else if ((plot_id in window.PyViz.kernels) && (window.PyViz.kernels[plot_id])) {\n",
       "        var comm = window.PyViz.kernels[plot_id].connectToComm(comm_id);\n",
       "        comm.open();\n",
       "        if (msg_handler) {\n",
       "          comm.onMsg = msg_handler;\n",
       "        }\n",
       "      } else if (typeof google != 'undefined' && google.colab.kernel != null) {\n",
       "        var comm_promise = google.colab.kernel.comms.open(comm_id)\n",
       "        comm_promise.then((comm) => {\n",
       "          window.PyViz.comms[comm_id] = comm;\n",
       "          if (msg_handler) {\n",
       "            var messages = comm.messages[Symbol.asyncIterator]();\n",
       "            function processIteratorResult(result) {\n",
       "              var message = result.value;\n",
       "              var content = {data: message.data};\n",
       "              var metadata = message.metadata || {comm_id};\n",
       "              var msg = {content, metadata}\n",
       "              msg_handler(msg);\n",
       "              return messages.next().then(processIteratorResult);\n",
       "            }\n",
       "            return messages.next().then(processIteratorResult);\n",
       "          }\n",
       "        })\n",
       "        var sendClosure = (data, metadata, buffers, disposeOnDone) => {\n",
       "          return comm_promise.then((comm) => {\n",
       "            comm.send(data, metadata, buffers, disposeOnDone);\n",
       "          });\n",
       "        };\n",
       "        var comm = {\n",
       "          send: sendClosure\n",
       "        };\n",
       "      }\n",
       "      window.PyViz.comms[comm_id] = comm;\n",
       "      return comm;\n",
       "    }\n",
       "    window.PyViz.comm_manager = new JupyterCommManager();\n",
       "    \n",
       "\n",
       "\n",
       "var JS_MIME_TYPE = 'application/javascript';\n",
       "var HTML_MIME_TYPE = 'text/html';\n",
       "var EXEC_MIME_TYPE = 'application/vnd.holoviews_exec.v0+json';\n",
       "var CLASS_NAME = 'output';\n",
       "\n",
       "/**\n",
       " * Render data to the DOM node\n",
       " */\n",
       "function render(props, node) {\n",
       "  var div = document.createElement(\"div\");\n",
       "  var script = document.createElement(\"script\");\n",
       "  node.appendChild(div);\n",
       "  node.appendChild(script);\n",
       "}\n",
       "\n",
       "/**\n",
       " * Handle when a new output is added\n",
       " */\n",
       "function handle_add_output(event, handle) {\n",
       "  var output_area = handle.output_area;\n",
       "  var output = handle.output;\n",
       "  if ((output.data == undefined) || (!output.data.hasOwnProperty(EXEC_MIME_TYPE))) {\n",
       "    return\n",
       "  }\n",
       "  var id = output.metadata[EXEC_MIME_TYPE][\"id\"];\n",
       "  var toinsert = output_area.element.find(\".\" + CLASS_NAME.split(' ')[0]);\n",
       "  if (id !== undefined) {\n",
       "    var nchildren = toinsert.length;\n",
       "    var html_node = toinsert[nchildren-1].children[0];\n",
       "    html_node.innerHTML = output.data[HTML_MIME_TYPE];\n",
       "    var scripts = [];\n",
       "    var nodelist = html_node.querySelectorAll(\"script\");\n",
       "    for (var i in nodelist) {\n",
       "      if (nodelist.hasOwnProperty(i)) {\n",
       "        scripts.push(nodelist[i])\n",
       "      }\n",
       "    }\n",
       "\n",
       "    scripts.forEach( function (oldScript) {\n",
       "      var newScript = document.createElement(\"script\");\n",
       "      var attrs = [];\n",
       "      var nodemap = oldScript.attributes;\n",
       "      for (var j in nodemap) {\n",
       "        if (nodemap.hasOwnProperty(j)) {\n",
       "          attrs.push(nodemap[j])\n",
       "        }\n",
       "      }\n",
       "      attrs.forEach(function(attr) { newScript.setAttribute(attr.name, attr.value) });\n",
       "      newScript.appendChild(document.createTextNode(oldScript.innerHTML));\n",
       "      oldScript.parentNode.replaceChild(newScript, oldScript);\n",
       "    });\n",
       "    if (JS_MIME_TYPE in output.data) {\n",
       "      toinsert[nchildren-1].children[1].textContent = output.data[JS_MIME_TYPE];\n",
       "    }\n",
       "    output_area._hv_plot_id = id;\n",
       "    if ((window.Bokeh !== undefined) && (id in Bokeh.index)) {\n",
       "      window.PyViz.plot_index[id] = Bokeh.index[id];\n",
       "    } else {\n",
       "      window.PyViz.plot_index[id] = null;\n",
       "    }\n",
       "  } else if (output.metadata[EXEC_MIME_TYPE][\"server_id\"] !== undefined) {\n",
       "    var bk_div = document.createElement(\"div\");\n",
       "    bk_div.innerHTML = output.data[HTML_MIME_TYPE];\n",
       "    var script_attrs = bk_div.children[0].attributes;\n",
       "    for (var i = 0; i < script_attrs.length; i++) {\n",
       "      toinsert[toinsert.length - 1].childNodes[1].setAttribute(script_attrs[i].name, script_attrs[i].value);\n",
       "    }\n",
       "    // store reference to server id on output_area\n",
       "    output_area._bokeh_server_id = output.metadata[EXEC_MIME_TYPE][\"server_id\"];\n",
       "  }\n",
       "}\n",
       "\n",
       "/**\n",
       " * Handle when an output is cleared or removed\n",
       " */\n",
       "function handle_clear_output(event, handle) {\n",
       "  var id = handle.cell.output_area._hv_plot_id;\n",
       "  var server_id = handle.cell.output_area._bokeh_server_id;\n",
       "  if (((id === undefined) || !(id in PyViz.plot_index)) && (server_id !== undefined)) { return; }\n",
       "  var comm = window.PyViz.comm_manager.get_client_comm(\"hv-extension-comm\", \"hv-extension-comm\", function () {});\n",
       "  if (server_id !== null) {\n",
       "    comm.send({event_type: 'server_delete', 'id': server_id});\n",
       "    return;\n",
       "  } else if (comm !== null) {\n",
       "    comm.send({event_type: 'delete', 'id': id});\n",
       "  }\n",
       "  delete PyViz.plot_index[id];\n",
       "  if ((window.Bokeh !== undefined) & (id in window.Bokeh.index)) {\n",
       "    var doc = window.Bokeh.index[id].model.document\n",
       "    doc.clear();\n",
       "    const i = window.Bokeh.documents.indexOf(doc);\n",
       "    if (i > -1) {\n",
       "      window.Bokeh.documents.splice(i, 1);\n",
       "    }\n",
       "  }\n",
       "}\n",
       "\n",
       "/**\n",
       " * Handle kernel restart event\n",
       " */\n",
       "function handle_kernel_cleanup(event, handle) {\n",
       "  delete PyViz.comms[\"hv-extension-comm\"];\n",
       "  window.PyViz.plot_index = {}\n",
       "}\n",
       "\n",
       "/**\n",
       " * Handle update_display_data messages\n",
       " */\n",
       "function handle_update_output(event, handle) {\n",
       "  handle_clear_output(event, {cell: {output_area: handle.output_area}})\n",
       "  handle_add_output(event, handle)\n",
       "}\n",
       "\n",
       "function register_renderer(events, OutputArea) {\n",
       "  function append_mime(data, metadata, element) {\n",
       "    // create a DOM node to render to\n",
       "    var toinsert = this.create_output_subarea(\n",
       "    metadata,\n",
       "    CLASS_NAME,\n",
       "    EXEC_MIME_TYPE\n",
       "    );\n",
       "    this.keyboard_manager.register_events(toinsert);\n",
       "    // Render to node\n",
       "    var props = {data: data, metadata: metadata[EXEC_MIME_TYPE]};\n",
       "    render(props, toinsert[0]);\n",
       "    element.append(toinsert);\n",
       "    return toinsert\n",
       "  }\n",
       "\n",
       "  events.on('output_added.OutputArea', handle_add_output);\n",
       "  events.on('output_updated.OutputArea', handle_update_output);\n",
       "  events.on('clear_output.CodeCell', handle_clear_output);\n",
       "  events.on('delete.Cell', handle_clear_output);\n",
       "  events.on('kernel_ready.Kernel', handle_kernel_cleanup);\n",
       "\n",
       "  OutputArea.prototype.register_mime_type(EXEC_MIME_TYPE, append_mime, {\n",
       "    safe: true,\n",
       "    index: 0\n",
       "  });\n",
       "}\n",
       "\n",
       "if (window.Jupyter !== undefined) {\n",
       "  try {\n",
       "    var events = require('base/js/events');\n",
       "    var OutputArea = require('notebook/js/outputarea').OutputArea;\n",
       "    if (OutputArea.prototype.mime_types().indexOf(EXEC_MIME_TYPE) == -1) {\n",
       "      register_renderer(events, OutputArea);\n",
       "    }\n",
       "  } catch(err) {\n",
       "  }\n",
       "}\n"
      ],
      "application/vnd.holoviews_load.v0+json": "\nif ((window.PyViz === undefined) || (window.PyViz instanceof HTMLElement)) {\n  window.PyViz = {comms: {}, comm_status:{}, kernels:{}, receivers: {}, plot_index: []}\n}\n\n\n    function JupyterCommManager() {\n    }\n\n    JupyterCommManager.prototype.register_target = function(plot_id, comm_id, msg_handler) {\n      if (window.comm_manager || ((window.Jupyter !== undefined) && (Jupyter.notebook.kernel != null))) {\n        var comm_manager = window.comm_manager || Jupyter.notebook.kernel.comm_manager;\n        comm_manager.register_target(comm_id, function(comm) {\n          comm.on_msg(msg_handler);\n        });\n      } else if ((plot_id in window.PyViz.kernels) && (window.PyViz.kernels[plot_id])) {\n        window.PyViz.kernels[plot_id].registerCommTarget(comm_id, function(comm) {\n          comm.onMsg = msg_handler;\n        });\n      } else if (typeof google != 'undefined' && google.colab.kernel != null) {\n        google.colab.kernel.comms.registerTarget(comm_id, (comm) => {\n          var messages = comm.messages[Symbol.asyncIterator]();\n          function processIteratorResult(result) {\n            var message = result.value;\n            console.log(message)\n            var content = {data: message.data, comm_id};\n            var buffers = []\n            for (var buffer of message.buffers || []) {\n              buffers.push(new DataView(buffer))\n            }\n            var metadata = message.metadata || {};\n            var msg = {content, buffers, metadata}\n            msg_handler(msg);\n            return messages.next().then(processIteratorResult);\n          }\n          return messages.next().then(processIteratorResult);\n        })\n      }\n    }\n\n    JupyterCommManager.prototype.get_client_comm = function(plot_id, comm_id, msg_handler) {\n      if (comm_id in window.PyViz.comms) {\n        return window.PyViz.comms[comm_id];\n      } else if (window.comm_manager || ((window.Jupyter !== undefined) && (Jupyter.notebook.kernel != null))) {\n        var comm_manager = window.comm_manager || Jupyter.notebook.kernel.comm_manager;\n        var comm = comm_manager.new_comm(comm_id, {}, {}, {}, comm_id);\n        if (msg_handler) {\n          comm.on_msg(msg_handler);\n        }\n      } else if ((plot_id in window.PyViz.kernels) && (window.PyViz.kernels[plot_id])) {\n        var comm = window.PyViz.kernels[plot_id].connectToComm(comm_id);\n        comm.open();\n        if (msg_handler) {\n          comm.onMsg = msg_handler;\n        }\n      } else if (typeof google != 'undefined' && google.colab.kernel != null) {\n        var comm_promise = google.colab.kernel.comms.open(comm_id)\n        comm_promise.then((comm) => {\n          window.PyViz.comms[comm_id] = comm;\n          if (msg_handler) {\n            var messages = comm.messages[Symbol.asyncIterator]();\n            function processIteratorResult(result) {\n              var message = result.value;\n              var content = {data: message.data};\n              var metadata = message.metadata || {comm_id};\n              var msg = {content, metadata}\n              msg_handler(msg);\n              return messages.next().then(processIteratorResult);\n            }\n            return messages.next().then(processIteratorResult);\n          }\n        })\n        var sendClosure = (data, metadata, buffers, disposeOnDone) => {\n          return comm_promise.then((comm) => {\n            comm.send(data, metadata, buffers, disposeOnDone);\n          });\n        };\n        var comm = {\n          send: sendClosure\n        };\n      }\n      window.PyViz.comms[comm_id] = comm;\n      return comm;\n    }\n    window.PyViz.comm_manager = new JupyterCommManager();\n    \n\n\nvar JS_MIME_TYPE = 'application/javascript';\nvar HTML_MIME_TYPE = 'text/html';\nvar EXEC_MIME_TYPE = 'application/vnd.holoviews_exec.v0+json';\nvar CLASS_NAME = 'output';\n\n/**\n * Render data to the DOM node\n */\nfunction render(props, node) {\n  var div = document.createElement(\"div\");\n  var script = document.createElement(\"script\");\n  node.appendChild(div);\n  node.appendChild(script);\n}\n\n/**\n * Handle when a new output is added\n */\nfunction handle_add_output(event, handle) {\n  var output_area = handle.output_area;\n  var output = handle.output;\n  if ((output.data == undefined) || (!output.data.hasOwnProperty(EXEC_MIME_TYPE))) {\n    return\n  }\n  var id = output.metadata[EXEC_MIME_TYPE][\"id\"];\n  var toinsert = output_area.element.find(\".\" + CLASS_NAME.split(' ')[0]);\n  if (id !== undefined) {\n    var nchildren = toinsert.length;\n    var html_node = toinsert[nchildren-1].children[0];\n    html_node.innerHTML = output.data[HTML_MIME_TYPE];\n    var scripts = [];\n    var nodelist = html_node.querySelectorAll(\"script\");\n    for (var i in nodelist) {\n      if (nodelist.hasOwnProperty(i)) {\n        scripts.push(nodelist[i])\n      }\n    }\n\n    scripts.forEach( function (oldScript) {\n      var newScript = document.createElement(\"script\");\n      var attrs = [];\n      var nodemap = oldScript.attributes;\n      for (var j in nodemap) {\n        if (nodemap.hasOwnProperty(j)) {\n          attrs.push(nodemap[j])\n        }\n      }\n      attrs.forEach(function(attr) { newScript.setAttribute(attr.name, attr.value) });\n      newScript.appendChild(document.createTextNode(oldScript.innerHTML));\n      oldScript.parentNode.replaceChild(newScript, oldScript);\n    });\n    if (JS_MIME_TYPE in output.data) {\n      toinsert[nchildren-1].children[1].textContent = output.data[JS_MIME_TYPE];\n    }\n    output_area._hv_plot_id = id;\n    if ((window.Bokeh !== undefined) && (id in Bokeh.index)) {\n      window.PyViz.plot_index[id] = Bokeh.index[id];\n    } else {\n      window.PyViz.plot_index[id] = null;\n    }\n  } else if (output.metadata[EXEC_MIME_TYPE][\"server_id\"] !== undefined) {\n    var bk_div = document.createElement(\"div\");\n    bk_div.innerHTML = output.data[HTML_MIME_TYPE];\n    var script_attrs = bk_div.children[0].attributes;\n    for (var i = 0; i < script_attrs.length; i++) {\n      toinsert[toinsert.length - 1].childNodes[1].setAttribute(script_attrs[i].name, script_attrs[i].value);\n    }\n    // store reference to server id on output_area\n    output_area._bokeh_server_id = output.metadata[EXEC_MIME_TYPE][\"server_id\"];\n  }\n}\n\n/**\n * Handle when an output is cleared or removed\n */\nfunction handle_clear_output(event, handle) {\n  var id = handle.cell.output_area._hv_plot_id;\n  var server_id = handle.cell.output_area._bokeh_server_id;\n  if (((id === undefined) || !(id in PyViz.plot_index)) && (server_id !== undefined)) { return; }\n  var comm = window.PyViz.comm_manager.get_client_comm(\"hv-extension-comm\", \"hv-extension-comm\", function () {});\n  if (server_id !== null) {\n    comm.send({event_type: 'server_delete', 'id': server_id});\n    return;\n  } else if (comm !== null) {\n    comm.send({event_type: 'delete', 'id': id});\n  }\n  delete PyViz.plot_index[id];\n  if ((window.Bokeh !== undefined) & (id in window.Bokeh.index)) {\n    var doc = window.Bokeh.index[id].model.document\n    doc.clear();\n    const i = window.Bokeh.documents.indexOf(doc);\n    if (i > -1) {\n      window.Bokeh.documents.splice(i, 1);\n    }\n  }\n}\n\n/**\n * Handle kernel restart event\n */\nfunction handle_kernel_cleanup(event, handle) {\n  delete PyViz.comms[\"hv-extension-comm\"];\n  window.PyViz.plot_index = {}\n}\n\n/**\n * Handle update_display_data messages\n */\nfunction handle_update_output(event, handle) {\n  handle_clear_output(event, {cell: {output_area: handle.output_area}})\n  handle_add_output(event, handle)\n}\n\nfunction register_renderer(events, OutputArea) {\n  function append_mime(data, metadata, element) {\n    // create a DOM node to render to\n    var toinsert = this.create_output_subarea(\n    metadata,\n    CLASS_NAME,\n    EXEC_MIME_TYPE\n    );\n    this.keyboard_manager.register_events(toinsert);\n    // Render to node\n    var props = {data: data, metadata: metadata[EXEC_MIME_TYPE]};\n    render(props, toinsert[0]);\n    element.append(toinsert);\n    return toinsert\n  }\n\n  events.on('output_added.OutputArea', handle_add_output);\n  events.on('output_updated.OutputArea', handle_update_output);\n  events.on('clear_output.CodeCell', handle_clear_output);\n  events.on('delete.Cell', handle_clear_output);\n  events.on('kernel_ready.Kernel', handle_kernel_cleanup);\n\n  OutputArea.prototype.register_mime_type(EXEC_MIME_TYPE, append_mime, {\n    safe: true,\n    index: 0\n  });\n}\n\nif (window.Jupyter !== undefined) {\n  try {\n    var events = require('base/js/events');\n    var OutputArea = require('notebook/js/outputarea').OutputArea;\n    if (OutputArea.prototype.mime_types().indexOf(EXEC_MIME_TYPE) == -1) {\n      register_renderer(events, OutputArea);\n    }\n  } catch(err) {\n  }\n}\n"
     },
     "metadata": {},
     "output_type": "display_data"
    },
    {
     "data": {
      "application/vnd.holoviews_exec.v0+json": "",
      "text/html": [
       "<div id='72cd4a48-71a1-485e-af81-85027f977f68'>\n",
       "  <div id=\"bd93514f-fbc3-4250-aeb7-91b1fb26be0e\" data-root-id=\"72cd4a48-71a1-485e-af81-85027f977f68\" style=\"display: contents;\"></div>\n",
       "</div>\n",
       "<script type=\"application/javascript\">(function(root) {\n",
       "  var docs_json = {\"e7e8023b-ef7f-425b-9fab-90208f8e94e6\":{\"version\":\"3.6.3\",\"title\":\"Bokeh Application\",\"roots\":[{\"type\":\"object\",\"name\":\"panel.models.browser.BrowserInfo\",\"id\":\"72cd4a48-71a1-485e-af81-85027f977f68\"},{\"type\":\"object\",\"name\":\"panel.models.comm_manager.CommManager\",\"id\":\"775d31a8-f394-4f1d-a8a6-64ef8737ebc7\",\"attributes\":{\"plot_id\":\"72cd4a48-71a1-485e-af81-85027f977f68\",\"comm_id\":\"6522a754e9e7466187fb73275785793c\",\"client_comm_id\":\"ae5747487c9a46cab02d827178aba1c2\"}}],\"defs\":[{\"type\":\"model\",\"name\":\"ReactiveHTML1\"},{\"type\":\"model\",\"name\":\"FlexBox1\",\"properties\":[{\"name\":\"align_content\",\"kind\":\"Any\",\"default\":\"flex-start\"},{\"name\":\"align_items\",\"kind\":\"Any\",\"default\":\"flex-start\"},{\"name\":\"flex_direction\",\"kind\":\"Any\",\"default\":\"row\"},{\"name\":\"flex_wrap\",\"kind\":\"Any\",\"default\":\"wrap\"},{\"name\":\"gap\",\"kind\":\"Any\",\"default\":\"\"},{\"name\":\"justify_content\",\"kind\":\"Any\",\"default\":\"flex-start\"}]},{\"type\":\"model\",\"name\":\"FloatPanel1\",\"properties\":[{\"name\":\"config\",\"kind\":\"Any\",\"default\":{\"type\":\"map\"}},{\"name\":\"contained\",\"kind\":\"Any\",\"default\":true},{\"name\":\"position\",\"kind\":\"Any\",\"default\":\"right-top\"},{\"name\":\"offsetx\",\"kind\":\"Any\",\"default\":null},{\"name\":\"offsety\",\"kind\":\"Any\",\"default\":null},{\"name\":\"theme\",\"kind\":\"Any\",\"default\":\"primary\"},{\"name\":\"status\",\"kind\":\"Any\",\"default\":\"normalized\"}]},{\"type\":\"model\",\"name\":\"GridStack1\",\"properties\":[{\"name\":\"mode\",\"kind\":\"Any\",\"default\":\"warn\"},{\"name\":\"ncols\",\"kind\":\"Any\",\"default\":null},{\"name\":\"nrows\",\"kind\":\"Any\",\"default\":null},{\"name\":\"allow_resize\",\"kind\":\"Any\",\"default\":true},{\"name\":\"allow_drag\",\"kind\":\"Any\",\"default\":true},{\"name\":\"state\",\"kind\":\"Any\",\"default\":[]}]},{\"type\":\"model\",\"name\":\"drag1\",\"properties\":[{\"name\":\"slider_width\",\"kind\":\"Any\",\"default\":5},{\"name\":\"slider_color\",\"kind\":\"Any\",\"default\":\"black\"},{\"name\":\"value\",\"kind\":\"Any\",\"default\":50}]},{\"type\":\"model\",\"name\":\"click1\",\"properties\":[{\"name\":\"terminal_output\",\"kind\":\"Any\",\"default\":\"\"},{\"name\":\"debug_name\",\"kind\":\"Any\",\"default\":\"\"},{\"name\":\"clears\",\"kind\":\"Any\",\"default\":0}]},{\"type\":\"model\",\"name\":\"FastWrapper1\",\"properties\":[{\"name\":\"object\",\"kind\":\"Any\",\"default\":null},{\"name\":\"style\",\"kind\":\"Any\",\"default\":null}]},{\"type\":\"model\",\"name\":\"NotificationAreaBase1\",\"properties\":[{\"name\":\"js_events\",\"kind\":\"Any\",\"default\":{\"type\":\"map\"}},{\"name\":\"position\",\"kind\":\"Any\",\"default\":\"bottom-right\"},{\"name\":\"_clear\",\"kind\":\"Any\",\"default\":0}]},{\"type\":\"model\",\"name\":\"NotificationArea1\",\"properties\":[{\"name\":\"js_events\",\"kind\":\"Any\",\"default\":{\"type\":\"map\"}},{\"name\":\"notifications\",\"kind\":\"Any\",\"default\":[]},{\"name\":\"position\",\"kind\":\"Any\",\"default\":\"bottom-right\"},{\"name\":\"_clear\",\"kind\":\"Any\",\"default\":0},{\"name\":\"types\",\"kind\":\"Any\",\"default\":[{\"type\":\"map\",\"entries\":[[\"type\",\"warning\"],[\"background\",\"#ffc107\"],[\"icon\",{\"type\":\"map\",\"entries\":[[\"className\",\"fas fa-exclamation-triangle\"],[\"tagName\",\"i\"],[\"color\",\"white\"]]}]]},{\"type\":\"map\",\"entries\":[[\"type\",\"info\"],[\"background\",\"#007bff\"],[\"icon\",{\"type\":\"map\",\"entries\":[[\"className\",\"fas fa-info-circle\"],[\"tagName\",\"i\"],[\"color\",\"white\"]]}]]}]}]},{\"type\":\"model\",\"name\":\"Notification\",\"properties\":[{\"name\":\"background\",\"kind\":\"Any\",\"default\":null},{\"name\":\"duration\",\"kind\":\"Any\",\"default\":3000},{\"name\":\"icon\",\"kind\":\"Any\",\"default\":null},{\"name\":\"message\",\"kind\":\"Any\",\"default\":\"\"},{\"name\":\"notification_type\",\"kind\":\"Any\",\"default\":null},{\"name\":\"_rendered\",\"kind\":\"Any\",\"default\":false},{\"name\":\"_destroyed\",\"kind\":\"Any\",\"default\":false}]},{\"type\":\"model\",\"name\":\"TemplateActions1\",\"properties\":[{\"name\":\"open_modal\",\"kind\":\"Any\",\"default\":0},{\"name\":\"close_modal\",\"kind\":\"Any\",\"default\":0}]},{\"type\":\"model\",\"name\":\"BootstrapTemplateActions1\",\"properties\":[{\"name\":\"open_modal\",\"kind\":\"Any\",\"default\":0},{\"name\":\"close_modal\",\"kind\":\"Any\",\"default\":0}]},{\"type\":\"model\",\"name\":\"TemplateEditor1\",\"properties\":[{\"name\":\"layout\",\"kind\":\"Any\",\"default\":[]}]},{\"type\":\"model\",\"name\":\"MaterialTemplateActions1\",\"properties\":[{\"name\":\"open_modal\",\"kind\":\"Any\",\"default\":0},{\"name\":\"close_modal\",\"kind\":\"Any\",\"default\":0}]},{\"type\":\"model\",\"name\":\"ReactiveESM1\",\"properties\":[{\"name\":\"esm_constants\",\"kind\":\"Any\",\"default\":{\"type\":\"map\"}}]},{\"type\":\"model\",\"name\":\"JSComponent1\",\"properties\":[{\"name\":\"esm_constants\",\"kind\":\"Any\",\"default\":{\"type\":\"map\"}}]},{\"type\":\"model\",\"name\":\"ReactComponent1\",\"properties\":[{\"name\":\"esm_constants\",\"kind\":\"Any\",\"default\":{\"type\":\"map\"}}]},{\"type\":\"model\",\"name\":\"AnyWidgetComponent1\",\"properties\":[{\"name\":\"esm_constants\",\"kind\":\"Any\",\"default\":{\"type\":\"map\"}}]},{\"type\":\"model\",\"name\":\"request_value1\",\"properties\":[{\"name\":\"fill\",\"kind\":\"Any\",\"default\":\"none\"},{\"name\":\"_synced\",\"kind\":\"Any\",\"default\":null},{\"name\":\"_request_sync\",\"kind\":\"Any\",\"default\":0}]}]}};\n",
       "  var render_items = [{\"docid\":\"e7e8023b-ef7f-425b-9fab-90208f8e94e6\",\"roots\":{\"72cd4a48-71a1-485e-af81-85027f977f68\":\"bd93514f-fbc3-4250-aeb7-91b1fb26be0e\"},\"root_ids\":[\"72cd4a48-71a1-485e-af81-85027f977f68\"]}];\n",
       "  var docs = Object.values(docs_json)\n",
       "  if (!docs) {\n",
       "    return\n",
       "  }\n",
       "  const py_version = docs[0].version.replace('rc', '-rc.').replace('.dev', '-dev.')\n",
       "  async function embed_document(root) {\n",
       "    var Bokeh = get_bokeh(root)\n",
       "    await Bokeh.embed.embed_items_notebook(docs_json, render_items);\n",
       "    for (const render_item of render_items) {\n",
       "      for (const root_id of render_item.root_ids) {\n",
       "\tconst id_el = document.getElementById(root_id)\n",
       "\tif (id_el.children.length && id_el.children[0].hasAttribute('data-root-id')) {\n",
       "\t  const root_el = id_el.children[0]\n",
       "\t  root_el.id = root_el.id + '-rendered'\n",
       "\t  for (const child of root_el.children) {\n",
       "            // Ensure JupyterLab does not capture keyboard shortcuts\n",
       "            // see: https://jupyterlab.readthedocs.io/en/4.1.x/extension/notebook.html#keyboard-interaction-model\n",
       "\t    child.setAttribute('data-lm-suppress-shortcuts', 'true')\n",
       "\t  }\n",
       "\t}\n",
       "      }\n",
       "    }\n",
       "  }\n",
       "  function get_bokeh(root) {\n",
       "    if (root.Bokeh === undefined) {\n",
       "      return null\n",
       "    } else if (root.Bokeh.version !== py_version) {\n",
       "      if (root.Bokeh.versions === undefined || !root.Bokeh.versions.has(py_version)) {\n",
       "\treturn null\n",
       "      }\n",
       "      return root.Bokeh.versions.get(py_version);\n",
       "    } else if (root.Bokeh.version === py_version) {\n",
       "      return root.Bokeh\n",
       "    }\n",
       "    return null\n",
       "  }\n",
       "  function is_loaded(root) {\n",
       "    var Bokeh = get_bokeh(root)\n",
       "    return (Bokeh != null && Bokeh.Panel !== undefined)\n",
       "  }\n",
       "  if (is_loaded(root)) {\n",
       "    embed_document(root);\n",
       "  } else {\n",
       "    var attempts = 0;\n",
       "    var timer = setInterval(function(root) {\n",
       "      if (is_loaded(root)) {\n",
       "        clearInterval(timer);\n",
       "        embed_document(root);\n",
       "      } else if (document.readyState == \"complete\") {\n",
       "        attempts++;\n",
       "        if (attempts > 200) {\n",
       "          clearInterval(timer);\n",
       "\t  var Bokeh = get_bokeh(root)\n",
       "\t  if (Bokeh == null || Bokeh.Panel == null) {\n",
       "            console.warn(\"Panel: ERROR: Unable to run Panel code because Bokeh or Panel library is missing\");\n",
       "\t  } else {\n",
       "\t    console.warn(\"Panel: WARNING: Attempting to render but not all required libraries could be resolved.\")\n",
       "\t    embed_document(root)\n",
       "\t  }\n",
       "        }\n",
       "      }\n",
       "    }, 25, root)\n",
       "  }\n",
       "})(window);</script>"
      ]
     },
     "metadata": {
      "application/vnd.holoviews_exec.v0+json": {
       "id": "72cd4a48-71a1-485e-af81-85027f977f68"
      }
     },
     "output_type": "display_data"
    },
    {
     "data": {},
     "metadata": {},
     "output_type": "display_data"
    },
    {
     "data": {
      "application/vnd.holoviews_exec.v0+json": "",
      "text/html": [
       "<div id='b21f599b-14be-4d5a-9d52-58b603b22d39'>\n",
       "  <div id=\"c447d4e8-2ffc-4c22-9713-4f450c30afd1\" data-root-id=\"b21f599b-14be-4d5a-9d52-58b603b22d39\" style=\"display: contents;\"></div>\n",
       "</div>\n",
       "<script type=\"application/javascript\">(function(root) {\n",
       "  var docs_json = {\"a86b4116-36ac-44f8-918d-7654727c25e3\":{\"version\":\"3.6.3\",\"title\":\"Bokeh Application\",\"roots\":[{\"type\":\"object\",\"name\":\"Row\",\"id\":\"b21f599b-14be-4d5a-9d52-58b603b22d39\",\"attributes\":{\"name\":\"Row00266\",\"tags\":[\"embedded\"],\"stylesheets\":[\"\\n:host(.pn-loading):before, .pn-loading:before {\\n  background-color: #c3c3c3;\\n  mask-size: auto calc(min(50%, 400px));\\n  -webkit-mask-size: auto calc(min(50%, 400px));\\n}\",{\"type\":\"object\",\"name\":\"ImportedStyleSheet\",\"id\":\"dcfff6fc-790b-4ed5-8fc1-0b5f675d5c27\",\"attributes\":{\"url\":\"https://cdn.holoviz.org/panel/1.6.1/dist/css/loading.css\"}},{\"type\":\"object\",\"name\":\"ImportedStyleSheet\",\"id\":\"d9aed755-3d26-4c2b-9bfd-f7f18fa0fa0a\",\"attributes\":{\"url\":\"https://cdn.holoviz.org/panel/1.6.1/dist/css/listpanel.css\"}},{\"type\":\"object\",\"name\":\"ImportedStyleSheet\",\"id\":\"f9602fc6-1cd6-414f-81ac-3d1a1c307435\",\"attributes\":{\"url\":\"https://cdn.holoviz.org/panel/1.6.1/dist/bundled/theme/default.css\"}},{\"type\":\"object\",\"name\":\"ImportedStyleSheet\",\"id\":\"1d2694f3-1437-40ce-93a6-2ac3facbc60e\",\"attributes\":{\"url\":\"https://cdn.holoviz.org/panel/1.6.1/dist/bundled/theme/native.css\"}}],\"min_width\":800,\"margin\":0,\"sizing_mode\":\"stretch_width\",\"align\":\"start\",\"children\":[{\"type\":\"object\",\"name\":\"Spacer\",\"id\":\"3c6fa4cd-e7ea-4ad9-ad06-843d3ef018b9\",\"attributes\":{\"name\":\"HSpacer00270\",\"stylesheets\":[\"\\n:host(.pn-loading):before, .pn-loading:before {\\n  background-color: #c3c3c3;\\n  mask-size: auto calc(min(50%, 400px));\\n  -webkit-mask-size: auto calc(min(50%, 400px));\\n}\",{\"id\":\"dcfff6fc-790b-4ed5-8fc1-0b5f675d5c27\"},{\"id\":\"f9602fc6-1cd6-414f-81ac-3d1a1c307435\"},{\"id\":\"1d2694f3-1437-40ce-93a6-2ac3facbc60e\"}],\"margin\":0,\"sizing_mode\":\"stretch_width\",\"align\":\"start\"}},{\"type\":\"object\",\"name\":\"Figure\",\"id\":\"5f00700e-0c30-47e4-8a0b-dcf7c4218ea9\",\"attributes\":{\"width\":800,\"margin\":[5,10],\"sizing_mode\":\"fixed\",\"align\":\"start\",\"x_range\":{\"type\":\"object\",\"name\":\"Range1d\",\"id\":\"0faeba1b-e842-4d38-b596-ff923c1f0d9e\",\"attributes\":{\"name\":\"x\",\"tags\":[[[\"x\",null]],[]],\"end\":4999.0,\"reset_start\":0.0,\"reset_end\":4999.0}},\"y_range\":{\"type\":\"object\",\"name\":\"Range1d\",\"id\":\"9ba94585-cc26-4b9d-b6be-e44bb16d6b7a\",\"attributes\":{\"name\":\"y\",\"tags\":[[[\"y\",null]],{\"type\":\"map\",\"entries\":[[\"invert_yaxis\",false],[\"autorange\",false]]}],\"start\":-0.4875,\"end\":0.1125,\"reset_start\":-0.4875,\"reset_end\":0.1125}},\"x_scale\":{\"type\":\"object\",\"name\":\"LinearScale\",\"id\":\"9f98cca3-2def-41c4-9351-f0dc642f006d\"},\"y_scale\":{\"type\":\"object\",\"name\":\"LinearScale\",\"id\":\"462cd5c8-6113-4644-a6be-16620ec95d96\"},\"title\":{\"type\":\"object\",\"name\":\"Title\",\"id\":\"089b4e1a-98d1-4cc8-9800-646fe238b2bc\",\"attributes\":{\"text_color\":\"black\",\"text_font_size\":\"12pt\"}},\"renderers\":[{\"type\":\"object\",\"name\":\"GlyphRenderer\",\"id\":\"ce900cf4-b29e-4965-b143-be8129f0c173\",\"attributes\":{\"data_source\":{\"type\":\"object\",\"name\":\"ColumnDataSource\",\"id\":\"7d98eae8-00fe-4e18-8917-7e919c4c6e9a\",\"attributes\":{\"selected\":{\"type\":\"object\",\"name\":\"Selection\",\"id\":\"eb9672e1-ec7d-427e-a42a-ce47ec278964\",\"attributes\":{\"indices\":[],\"line_indices\":[]}},\"selection_policy\":{\"type\":\"object\",\"name\":\"UnionRenderers\",\"id\":\"a98eae35-aaff-412b-ace1-803e7e48dc35\"},\"data\":{\"type\":\"map\",\"entries\":[[\"x\",{\"type\":\"ndarray\",\"array\":{\"type\":\"bytes\",\"data\":\"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\"},\"shape\":[5000],\"dtype\":\"float64\",\"order\":\"little\"}],[\"y\",{\"type\":\"ndarray\",\"array\":{\"type\":\"bytes\",\"data\":\"AAAAAAAAx78AAAAAAADCvwAAAAAAAM2/AAAAAACA178AAAAAAADCvwAAAAAAgMC/AAAAAACAzr8AAAAAAEDXvwAAAAAAwNW/AAAAAADA1r8AAAAAAADJvwAAAAAAgM6/AAAAAAAAxL8AAAAAAIDLvwAAAAAAQNa/AAAAAACAx78AAAAAAADLvwAAAAAAAMW/AAAAAACAx78AAAAAAEDUvwAAAAAAANS/AAAAAAAAub8AAAAAAADNvwAAAAAAAL2/AAAAAAAAvL8AAAAAAADKvwAAAAAAANe/AAAAAAAAyL8AAAAAAADNvwAAAAAAgMS/AAAAAACAyL8AAAAAAADUvwAAAAAAgNS/AAAAAAAAvL8AAAAAAIDMvwAAAAAAAL+/AAAAAACAyb8AAAAAAAC8vwAAAAAAAM2/AAAAAAAAwL8AAAAAAIDMvwAAAAAAgMK/AAAAAACAy78AAAAAAADVvwAAAAAAwNa/AAAAAACA1b8AAAAAAIDVvwAAAAAAQNW/AAAAAAAAur8AAAAAAADFvwAAAAAAQNS/AAAAAAAA178AAAAAAAC8vwAAAAAAgMi/AAAAAACA1L8AAAAAAIDEvwAAAAAAAMq/AAAAAABA1r8AAAAAAAC7vwAAAAAAAMm/AAAAAAAAwb8AAAAAAIDKvwAAAAAAgNa/AAAAAAAAwL8AAAAAAADKvwAAAAAAANW/AAAAAAAAwb8AAAAAAIDMvwAAAAAAgNa/AAAAAAAAvb8AAAAAAADKvwAAAAAAQNW/AAAAAACAwr8AAAAAAIDKvwAAAAAAwNa/AAAAAABA1b8AAAAAAIDAvwAAAAAAgMq/AAAAAADA1b8AAAAAAIDGvwAAAAAAAM2/AAAAAACA178AAAAAAADBvwAAAAAAgM2/AAAAAACAxb8AAAAAAIDNvwAAAAAAANe/AAAAAAAAwb8AAAAAAADNvwAAAAAAgMS/AAAAAAAAzr8AAAAAAMDXvwAAAAAAAMC/AAAAAACAzb8AAAAAAIDCvwAAAAAAgMy/AAAAAADA1r8AAAAAAIDWvwAAAAAAAMK/AAAAAAAAzb8AAAAAAADXvwAAAAAAAMi/AAAAAACAz78AAAAAAMDYvwAAAAAAAMO/AAAAAACAzr8AAAAAAIDHvwAAAAAAgM6/AAAAAAAA2L8AAAAAAADFvwAAAAAAgM+/AAAAAACAxb8AAAAAAIDOvwAAAAAAwNa/AAAAAAAAxb8AAAAAAADPvwAAAAAAQNe/AAAAAAAAx78AAAAAAIDQvwAAAAAAANm/AAAAAACAxb8AAAAAAADPvwAAAAAAgNa/AAAAAACAyb8AAAAAAIDQvwAAAAAAAMi/AAAAAACAzb8AAAAAAEDXvwAAAAAAgMi/AAAAAACAz78AAAAAAADZvwAAAAAAAMi/AAAAAACAzL8AAAAAAEDYvwAAAAAAgMK/AAAAAAAAqr8AAAAAAEDQvwAAAAAAANm/AAAAAACAxr8AAAAAAADMvwAAAAAAANe/AAAAAAAAyL8AAAAAAEDQvwAAAAAAgMa/AAAAAAAAor8AAAAAAIDQvwAAAAAAgMa/AAAAAAAAsb8AAAAAAEDRvwAAAAAAgMe/AAAAAAAAtb8AAAAAAACwvwAAAAAAANG/AAAAAACAxr8AAAAAAIDQvwAAAAAAQNi/AAAAAACAyr8AAAAAAIDRvwAAAAAAQNi/AAAAAACAx78AAAAAAIDRvwAAAAAAAMm/AAAAAAAAsb8AAAAAAEDRvwAAAAAAAMm/AAAAAACA0b8AAAAAAIDIvwAAAAAAALi/AAAAAADA0b8AAAAAAIDMvwAAAAAAALG/AAAAAABA0r8AAAAAAIDavwAAAAAAgMm/AAAAAAAA0b8AAAAAAIDavwAAAAAAAMm/AAAAAAAAz78AAAAAAEDbvwAAAAAAAMy/AAAAAABA0L8AAAAAAMDYvwAAAAAAAMu/AAAAAADA0b8AAAAAAIDKvwAAAAAAALe/AAAAAACA0r8AAAAAAADGvwAAAAAAALO/AAAAAAAAtr8AAAAAAMDRvwAAAAAAgMy/AAAAAAAAtL8AAAAAAEDTvwAAAAAAgNq/AAAAAACAx78AAAAAAADRvwAAAAAAgMi/AAAAAADA0b8AAAAAAIDJvwAAAAAAALq/AAAAAADA0r8AAAAAAIDNvwAAAAAAAL+/AAAAAADA0r8AAAAAAADMvwAAAAAAAL6/AAAAAADA0r8AAAAAAADKvwAAAAAAwNK/AAAAAACAy78AAAAAAAC3vwAAAAAAwNK/AAAAAAAA278AAAAAAIDHvwAAAAAAQNK/AAAAAAAAy78AAAAAAADSvwAAAAAAQNu/AAAAAACAy78AAAAAAIDPvwAAAAAAAMu/AAAAAADA0r8AAAAAAADKvwAAAAAAQNO/AAAAAACAyr8AAAAAAACzvwAAAAAAANK/AAAAAACAxb8AAAAAAAC4vwAAAAAAgNG/AAAAAACA278AAAAAAIDIvwAAAAAAAKy/AAAAAACA0r8AAAAAAADLvwAAAAAAALW/AAAAAAAA078AAAAAAADbvwAAAAAAgMa/AAAAAADA0b8AAAAAAIDJvwAAAAAAQNG/AAAAAACA2b8AAAAAAADMvwAAAAAAANK/AAAAAAAAyb8AAAAAAIDSvwAAAAAAAMq/AAAAAAAA0r8AAAAAAIDavwAAAAAAAMS/AAAAAAAAur8AAAAAAMDSvwAAAAAAgMm/AAAAAAAAtL8AAAAAAMDRvwAAAAAAwNq/AAAAAAAAyb8AAAAAAADSvwAAAAAAgMm/AAAAAAAA0b8AAAAAAADZvwAAAAAAgNu/AAAAAAAAy78AAAAAAIDOvwAAAAAAAMi/AAAAAAAAt78AAAAAAMDRvwAAAAAAAMq/AAAAAAAAt78AAAAAAADSvwAAAAAAANu/AAAAAACAx78AAAAAAADRvwAAAAAAAMi/AAAAAADA0b8AAAAAAEDbvwAAAAAAAMq/AAAAAAAAs78AAAAAAMDSvwAAAAAAgMm/AAAAAAAAtr8AAAAAAAC6vwAAAAAAgNK/AAAAAAAAyr8AAAAAAAC4vwAAAAAAALu/AAAAAAAA078AAAAAAADMvwAAAAAAgNG/AAAAAADA2b8AAAAAAADNvwAAAAAAQNK/AAAAAADA2b8AAAAAAADOvwAAAAAAANO/AAAAAACAzL8AAAAAAACzvwAAAAAAwNK/AAAAAACAyr8AAAAAAAC9vwAAAAAAwNK/AAAAAAAA278AAAAAAADIvwAAAAAAQNK/AAAAAAAAyr8AAAAAAMDSvwAAAAAAAMi/AAAAAAAAvr8AAAAAAMDRvwAAAAAAQNm/AAAAAACAyr8AAAAAAEDRvwAAAAAAgNm/AAAAAACAxr8AAAAAAIDRvwAAAAAAQNu/AAAAAACAy78AAAAAAADQvwAAAAAAgMe/AAAAAABA0r8AAAAAAEDavwAAAAAAgMa/AAAAAADA0b8AAAAAAIDbvwAAAAAAAMq/AAAAAACAzr8AAAAAAEDYvwAAAAAAgMm/AAAAAADA0r8AAAAAAMDYvwAAAAAAAMq/AAAAAACAzb8AAAAAAMDYvwAAAAAAwNq/AAAAAAAAyr8AAAAAAIDOvwAAAAAAgMi/AAAAAACA0b8AAAAAAMDZvwAAAAAAgMO/AAAAAAAA0b8AAAAAAADKvwAAAAAAQNG/AAAAAABA2r8AAAAAAMDYvwAAAAAAgMS/AAAAAABA0L8AAAAAAADZvwAAAAAAANi/AAAAAACAxL8AAAAAAIDQvwAAAAAAgMi/AAAAAADA0L8AAAAAAADIvwAAAAAAQNG/AAAAAAAAyL8AAAAAAADOvwAAAAAAgNm/AAAAAAAA2L8AAAAAAIDKvwAAAAAAgMy/AAAAAADA178AAAAAAADKvwAAAAAAANC/AAAAAADA2L8AAAAAAADKvwAAAAAAgNG/AAAAAACA2b8AAAAAAEDXvwAAAAAAAMW/AAAAAACAy78AAAAAAIDFvwAAAAAAALS/AAAAAACA078AAAAAAIDNvwAAAAAAQNK/AAAAAACA2L8AAAAAAADMvwAAAAAAALq/AAAAAADA0b8AAAAAAADIvwAAAAAAALW/AAAAAAAAtb8AAAAAAADRvwAAAAAAAMq/AAAAAAAAsr8AAAAAAIDRvwAAAAAAgMi/AAAAAAAAt78AAAAAAMDRvwAAAAAAwNm/AAAAAACAxr8AAAAAAMDRvwAAAAAAAMm/AAAAAACA0b8AAAAAAADZvwAAAAAAAM2/AAAAAADA0r8AAAAAAADGvwAAAAAAALi/AAAAAAAAtL8AAAAAAIDRvwAAAAAAAMm/AAAAAABA0b8AAAAAAADZvwAAAAAAgMy/AAAAAAAAs78AAAAAAIDRvwAAAAAAANq/AAAAAAAAyr8AAAAAAADRvwAAAAAAANq/AAAAAAAAyL8AAAAAAEDRvwAAAAAAQNm/AAAAAACAxL8AAAAAAAC3vwAAAAAAANK/AAAAAAAAyL8AAAAAAAC0vwAAAAAAALa/AAAAAABA0b8AAAAAAADLvwAAAAAAALa/AAAAAADA0b8AAAAAAIDJvwAAAAAAAL2/AAAAAABA0r8AAAAAAEDavwAAAAAAAMi/AAAAAACA0b8AAAAAAEDavwAAAAAAgMi/AAAAAACA0r8AAAAAAADFvwAAAAAAALa/AAAAAAAAub8AAAAAAMDRvwAAAAAAAMq/AAAAAACA0b8AAAAAAIDZvwAAAAAAgM2/AAAAAAAAtb8AAAAAAEDRvwAAAAAAAMi/AAAAAABA0b8AAAAAAEDZvwAAAAAAgNu/AAAAAACAyr8AAAAAAIDBvwAAAAAAQNK/AAAAAAAAy78AAAAAAMDRvwAAAAAAwNi/AAAAAACAyr8AAAAAAAC6vwAAAAAAAMS/AAAAAADA0b8AAAAAAIDKvwAAAAAAALe/AAAAAADA0b8AAAAAAIDJvwAAAAAAAMa/AAAAAAAA0r8AAAAAAMDZvwAAAAAAAMe/AAAAAACAw78AAAAAAEDSvwAAAAAAAMq/AAAAAABA0b8AAAAAAADZvwAAAAAAAMy/AAAAAAAArr8AAAAAAEDQvwAAAAAAgMm/AAAAAACAx78AAAAAAIDSvwAAAAAAAMm/AAAAAADA0b8AAAAAAIDHvwAAAAAAALS/AAAAAACAxL8AAAAAAEDSvwAAAAAAgMm/AAAAAADA0b8AAAAAAEDZvwAAAAAAAMu/AAAAAAAAtb8AAAAAAADRvwAAAAAAAMm/AAAAAACAxb8AAAAAAACyvwAAAAAAgNC/AAAAAAAAyb8AAAAAAEDRvwAAAAAAANm/AAAAAAAAyr8AAAAAAMDRvwAAAAAAQNm/AAAAAACAzb8AAAAAAAC1vwAAAAAAwNG/AAAAAAAAyr8AAAAAAADJvwAAAAAAgNK/AAAAAADA2r8AAAAAAADKvwAAAAAAANK/AAAAAAAAxr8AAAAAAAC5vwAAAAAAgNG/AAAAAACA2r8AAAAAAIDIvwAAAAAAQNG/AAAAAACA2r8AAAAAAIDMvwAAAAAAAJS/AAAAAAAAxr8AAAAAAADTvwAAAAAAwNq/AAAAAAAAyL8AAAAAAAC0vwAAAAAAwNG/AAAAAADA2r8AAAAAAIDLvwAAAAAAgM+/AAAAAACA2L8AAAAAAIDKvwAAAAAAwNG/AAAAAAAAx78AAAAAAAC5vwAAAAAAQNG/AAAAAACAyb8AAAAAAAC3vwAAAAAAwNG/AAAAAAAAx78AAAAAAAC1vwAAAAAAALS/AAAAAADA0b8AAAAAAADJvwAAAAAAgNG/AAAAAACA2b8AAAAAAIDMvwAAAAAAQNK/AAAAAADA2L8AAAAAAIDJvwAAAAAAwNG/AAAAAACAyr8AAAAAAAC0vwAAAAAAANK/AAAAAAAAyb8AAAAAAMDRvwAAAAAAAMq/AAAAAAAAur8AAAAAAMDSvwAAAAAAAM2/AAAAAAAAuL8AAAAAAMDSvwAAAAAAANu/AAAAAACAyL8AAAAAAEDRvwAAAAAAwNq/AAAAAACAyr8AAAAAAADPvwAAAAAAgNu/AAAAAACAy78AAAAAAADQvwAAAAAAQNm/AAAAAACAy78AAAAAAADSvwAAAAAAgMq/AAAAAAAAub8AAAAAAIDSvwAAAAAAgMe/AAAAAAAAsL8AAAAAAAC4vwAAAAAAgNG/AAAAAACAzL8AAAAAAAC7vwAAAAAAANK/AAAAAAAA2r8AAAAAAIDHvwAAAAAAQNG/AAAAAAAAyb8AAAAAAADSvwAAAAAAAMm/AAAAAAAAu78AAAAAAMDSvwAAAAAAAM2/AAAAAAAAuL8AAAAAAADSvwAAAAAAAMu/AAAAAAAAu78AAAAAAADTvwAAAAAAAMq/AAAAAACA0r8AAAAAAADMvwAAAAAAALq/AAAAAAAA078AAAAAAIDbvwAAAAAAAMm/AAAAAACA0r8AAAAAAIDKvwAAAAAAANK/AAAAAACA278AAAAAAIDMvwAAAAAAQNC/AAAAAACAy78AAAAAAIDSvwAAAAAAAMm/AAAAAADA0r8AAAAAAIDKvwAAAAAAALW/AAAAAABA0r8AAAAAAIDIvwAAAAAAALa/AAAAAACA0r8AAAAAAIDbvwAAAAAAgMm/AAAAAAAAsL8AAAAAAIDSvwAAAAAAgMq/AAAAAAAAtL8AAAAAAMDSvwAAAAAAQNu/AAAAAAAAyL8AAAAAAIDSvwAAAAAAgMq/AAAAAACA0b8AAAAAAEDZvwAAAAAAgMu/AAAAAADA0b8AAAAAAIDHvwAAAAAAQNK/AAAAAAAAyr8AAAAAAEDSvwAAAAAAANq/AAAAAAAAxL8AAAAAAAC2vwAAAAAAANK/AAAAAACAyL8AAAAAAAC7vwAAAAAAQNG/AAAAAADA2r8AAAAAAADJvwAAAAAAANK/AAAAAAAAyb8AAAAAAADRvwAAAAAAgNi/AAAAAADA2r8AAAAAAIDKvwAAAAAAAM6/AAAAAAAAx78AAAAAAAC1vwAAAAAAwNG/AAAAAAAAyr8AAAAAAAC2vwAAAAAAQNK/AAAAAAAA278AAAAAAADJvwAAAAAAQNG/AAAAAAAAx78AAAAAAEDRvwAAAAAAQNu/AAAAAAAAyr8AAAAAAAC0vwAAAAAAQNK/AAAAAAAAyL8AAAAAAAC2vwAAAAAAALu/AAAAAADA0r8AAAAAAADKvwAAAAAAALu/AAAAAAAAvb8AAAAAAMDSvwAAAAAAAMu/AAAAAABA0b8AAAAAAEDZvwAAAAAAAM2/AAAAAABA0r8AAAAAAIDZvwAAAAAAAM2/AAAAAACA0r8AAAAAAADMvwAAAAAAALS/AAAAAAAA0r8AAAAAAADLvwAAAAAAgMC/AAAAAADA0r8AAAAAAEDbvwAAAAAAAMe/AAAAAACA0r8AAAAAAADKvwAAAAAAQNO/AAAAAACAyr8AAAAAAAC7vwAAAAAAwNG/AAAAAAAA2b8AAAAAAADLvwAAAAAAQNK/AAAAAADA2b8AAAAAAADHvwAAAAAAwNG/AAAAAABA278AAAAAAIDKvwAAAAAAgM6/AAAAAAAAx78AAAAAAADSvwAAAAAAQNq/AAAAAAAAxr8AAAAAAIDRvwAAAAAAQNu/AAAAAAAAyr8AAAAAAIDOvwAAAAAAwNi/AAAAAAAAy78AAAAAAMDSvwAAAAAAgNm/AAAAAAAAyr8AAAAAAIDMvwAAAAAAANi/AAAAAACA2r8AAAAAAADJvwAAAAAAgM2/AAAAAACAx78AAAAAAADRvwAAAAAAgNm/AAAAAAAAw78AAAAAAADRvwAAAAAAAMq/AAAAAACA0b8AAAAAAADavwAAAAAAgNi/AAAAAACAxL8AAAAAAEDQvwAAAAAAwNi/AAAAAAAA2L8AAAAAAADFvwAAAAAAwNC/AAAAAACAx78AAAAAAEDQvwAAAAAAgMe/AAAAAAAA0b8AAAAAAADHvwAAAAAAgM2/AAAAAABA2b8AAAAAAMDXvwAAAAAAAMq/AAAAAACAyr8AAAAAAIDXvwAAAAAAAMq/AAAAAACAzr8AAAAAAEDYvwAAAAAAgMm/AAAAAADA0L8AAAAAAADZvwAAAAAAwNa/AAAAAACAxb8AAAAAAADLvwAAAAAAAMW/AAAAAAAAsb8AAAAAAEDTvwAAAAAAgMy/AAAAAAAA0b8AAAAAAEDYvwAAAAAAgMq/AAAAAAAAt78AAAAAAADRvwAAAAAAAMa/AAAAAAAAtL8AAAAAAACyvwAAAAAAgNC/AAAAAAAAyr8AAAAAAACyvwAAAAAAwNG/AAAAAACAyL8AAAAAAAC5vwAAAAAAgNG/AAAAAACA2b8AAAAAAIDGvwAAAAAAgNG/AAAAAACAyL8AAAAAAEDRvwAAAAAAANm/AAAAAACAyr8AAAAAAADSvwAAAAAAgMW/AAAAAAAAub8AAAAAAAC1vwAAAAAAQNG/AAAAAACAyb8AAAAAAADRvwAAAAAAwNi/AAAAAAAAy78AAAAAAACwvwAAAAAAwNG/AAAAAADA2b8AAAAAAADJvwAAAAAAANG/AAAAAACA2b8AAAAAAADHvwAAAAAAANG/AAAAAAAA2b8AAAAAAIDEvwAAAAAAALm/AAAAAAAA0r8AAAAAAADFvwAAAAAAALS/AAAAAAAAtL8AAAAAAADRvwAAAAAAAMu/AAAAAAAAtb8AAAAAAMDRvwAAAAAAAMi/AAAAAAAAur8AAAAAAEDSvwAAAAAAQNq/AAAAAACAyL8AAAAAAIDRvwAAAAAAQNq/AAAAAAAAyL8AAAAAAADSvwAAAAAAgMa/AAAAAAAAs78AAAAAAAC5vwAAAAAAwNG/AAAAAACAyr8AAAAAAADSvwAAAAAAgNm/AAAAAAAAzr8AAAAAAACxvwAAAAAAwNG/AAAAAACAyL8AAAAAAADRvwAAAAAAgNm/AAAAAABA278AAAAAAADKvwAAAAAAAMG/AAAAAABA0r8AAAAAAADMvwAAAAAAgNG/AAAAAAAA2b8AAAAAAADKvwAAAAAAALq/AAAAAAAAxL8AAAAAAADSvwAAAAAAgMq/AAAAAAAAtb8AAAAAAEDSvwAAAAAAAMm/AAAAAAAAxb8AAAAAAMDRvwAAAAAAgNm/AAAAAAAAx78AAAAAAIDDvwAAAAAAANK/AAAAAAAAyr8AAAAAAADRvwAAAAAAwNi/AAAAAAAAzL8AAAAAAAC0vwAAAAAAANK/AAAAAAAAyr8AAAAAAIDIvwAAAAAAANK/AAAAAACAyb8AAAAAAMDRvwAAAAAAAMe/AAAAAAAAtb8AAAAAAADEvwAAAAAAwNG/AAAAAACAyL8AAAAAAADRvwAAAAAAANm/AAAAAAAAzb8AAAAAAACxvwAAAAAAgNG/AAAAAACAyb8AAAAAAIDEvwAAAAAAALO/AAAAAACA0L8AAAAAAIDIvwAAAAAAANG/AAAAAAAA2b8AAAAAAADKvwAAAAAAANK/AAAAAABA2b8AAAAAAIDMvwAAAAAAALG/AAAAAAAA0b8AAAAAAADKvwAAAAAAAMm/AAAAAACA0r8AAAAAAMDavwAAAAAAAMq/AAAAAABA0r8AAAAAAADGvwAAAAAAALS/AAAAAAAA0b8AAAAAAADavwAAAAAAAMi/AAAAAACA0L8AAAAAAADavwAAAAAAgMy/AAAAAAAAmL8AAAAAAIDFvwAAAAAAANO/AAAAAADA2r8AAAAAAADGvwAAAAAAALK/AAAAAABA0b8AAAAAAIDavwAAAAAAgMu/AAAAAACAz78AAAAAAMDYvwAAAAAAgMm/AAAAAABA0b8AAAAAAADHvwAAAAAAALK/AAAAAAAA0b8AAAAAAADKvwAAAAAAALi/AAAAAABA0r8AAAAAAADIvwAAAAAAALe/AAAAAAAAtL8AAAAAAMDRvwAAAAAAgMm/AAAAAAAA0b8AAAAAAIDZvwAAAAAAAMy/AAAAAACA0r8AAAAAAADZvwAAAAAAgMq/AAAAAACA0r8AAAAAAADMvwAAAAAAALe/AAAAAABA0r8AAAAAAIDIvwAAAAAAQNG/AAAAAAAAyr8AAAAAAAC5vwAAAAAAgNK/AAAAAACAzb8AAAAAAAC3vwAAAAAAwNG/AAAAAADA2r8AAAAAAIDIvwAAAAAAANG/AAAAAADA2r8AAAAAAIDKvwAAAAAAANC/AAAAAABA278AAAAAAADLvwAAAAAAgM+/AAAAAAAA2b8AAAAAAIDLvwAAAAAAQNK/AAAAAAAAy78AAAAAAAC2vwAAAAAAANK/AAAAAACAxb8AAAAAAACyvwAAAAAAALm/AAAAAABA0r8AAAAAAIDNvwAAAAAAALe/AAAAAABA0r8AAAAAAEDavwAAAAAAAMi/AAAAAACA0b8AAAAAAADJvwAAAAAAQNK/AAAAAAAAyr8AAAAAAAC6vwAAAAAAwNK/AAAAAACAzb8AAAAAAAC6vwAAAAAAQNK/AAAAAACAy78AAAAAAAC6vwAAAAAAwNK/AAAAAAAAyb8AAAAAAMDSvwAAAAAAAM2/AAAAAAAAuL8AAAAAAIDSvwAAAAAAwNu/AAAAAAAAyb8AAAAAAEDSvwAAAAAAAMu/AAAAAABA0r8AAAAAAIDbvwAAAAAAgM2/AAAAAAAA0b8AAAAAAADMvwAAAAAAgNK/AAAAAAAAyb8AAAAAAADTvwAAAAAAgMq/AAAAAAAAtL8AAAAAAEDSvwAAAAAAgMm/AAAAAAAAuL8AAAAAAMDRvwAAAAAAgNu/AAAAAAAAyr8AAAAAAACxvwAAAAAAwNK/AAAAAAAAy78AAAAAAACwvwAAAAAAQNO/AAAAAACA2r8AAAAAAIDHvwAAAAAAwNK/AAAAAAAAy78AAAAAAEDRvwAAAAAAQNm/AAAAAACAyr8AAAAAAEDRvwAAAAAAgMi/AAAAAACA0r8AAAAAAADKvwAAAAAAQNK/AAAAAABA2r8AAAAAAADDvwAAAAAAALW/AAAAAABA0r8AAAAAAADJvwAAAAAAALW/AAAAAABA0r8AAAAAAEDbvwAAAAAAgMi/AAAAAABA0b8AAAAAAIDIvwAAAAAAANG/AAAAAACA2L8AAAAAAEDbvwAAAAAAgMq/AAAAAACAzr8AAAAAAADHvwAAAAAAALW/AAAAAADA0b8AAAAAAADJvwAAAAAAALW/AAAAAABA0r8AAAAAAADbvwAAAAAAgMe/AAAAAABA0b8AAAAAAIDHvwAAAAAAgNG/AAAAAABA278AAAAAAIDKvwAAAAAAALS/AAAAAABA0r8AAAAAAADIvwAAAAAAALa/AAAAAAAAur8AAAAAAIDSvwAAAAAAAMq/AAAAAAAAur8AAAAAAAC6vwAAAAAAwNK/AAAAAACAyr8AAAAAAADRvwAAAAAAANq/AAAAAAAAzb8AAAAAAEDSvwAAAAAAgNm/AAAAAACAy78AAAAAAMDSvwAAAAAAAMy/AAAAAAAAub8AAAAAAEDSvwAAAAAAAMu/AAAAAAAAvb8AAAAAAIDSvwAAAAAAwNq/AAAAAAAAyL8AAAAAAMDSvwAAAAAAAMu/AAAAAADA0r8AAAAAAIDIvwAAAAAAALq/AAAAAABA0b8AAAAAAADZvwAAAAAAgMq/AAAAAAAA0r8AAAAAAMDZvwAAAAAAAMe/AAAAAAAA0r8AAAAAAEDbvwAAAAAAgMq/AAAAAAAA0L8AAAAAAIDHvwAAAAAAgNK/AAAAAADA2r8AAAAAAIDGvwAAAAAAgNG/AAAAAABA278AAAAAAADKvwAAAAAAgM+/AAAAAABA2L8AAAAAAADLvwAAAAAAwNK/AAAAAAAA2b8AAAAAAIDJvwAAAAAAgM2/AAAAAABA2L8AAAAAAMDavwAAAAAAAMq/AAAAAAAAz78AAAAAAIDIvwAAAAAAANG/AAAAAACA2b8AAAAAAIDDvwAAAAAAQNG/AAAAAAAAyr8AAAAAAMDRvwAAAAAAQNq/AAAAAACA2L8AAAAAAADEvwAAAAAAANC/AAAAAADA2L8AAAAAAADYvwAAAAAAAMW/AAAAAACA0L8AAAAAAIDHvwAAAAAAgNC/AAAAAACAxr8AAAAAAADRvwAAAAAAgMi/AAAAAAAAzr8AAAAAAMDZvwAAAAAAANi/AAAAAAAAyr8AAAAAAIDLvwAAAAAAwNe/AAAAAAAAyr8AAAAAAADQvwAAAAAAgNi/AAAAAAAAyr8AAAAAAADRvwAAAAAAwNi/AAAAAABA178AAAAAAADFvwAAAAAAAMy/AAAAAACAxb8AAAAAAACyvwAAAAAAQNO/AAAAAACAzL8AAAAAAIDRvwAAAAAAgNi/AAAAAACAy78AAAAAAAC5vwAAAAAAgNG/AAAAAAAAxb8AAAAAAACwvwAAAAAAALO/AAAAAAAA0b8AAAAAAADKvwAAAAAAAKy/AAAAAAAA0b8AAAAAAADIvwAAAAAAALW/AAAAAACA0b8AAAAAAEDZvwAAAAAAgMa/AAAAAAAA0r8AAAAAAADKvwAAAAAAwNG/AAAAAAAA2b8AAAAAAIDLvwAAAAAAgNK/AAAAAAAAyL8AAAAAAAC1vwAAAAAAALi/AAAAAACA0b8AAAAAAIDJvwAAAAAAANG/AAAAAADA2L8AAAAAAADMvwAAAAAAALG/AAAAAABA0b8AAAAAAMDZvwAAAAAAAMq/AAAAAAAA0b8AAAAAAIDZvwAAAAAAAMe/AAAAAAAA0b8AAAAAAEDZvwAAAAAAgMW/AAAAAAAAuL8AAAAAAADSvwAAAAAAAMe/AAAAAAAAtL8AAAAAAAC2vwAAAAAAQNG/AAAAAACAyr8AAAAAAAC2vwAAAAAAgNK/AAAAAACAyL8AAAAAAAC7vwAAAAAAANK/AAAAAABA2r8AAAAAAIDIvwAAAAAAQNG/AAAAAABA2r8AAAAAAIDGvwAAAAAAgNG/AAAAAACAxb8AAAAAAAC0vwAAAAAAALq/AAAAAAAA0r8AAAAAAIDKvwAAAAAAQNG/AAAAAABA2b8AAAAAAIDOvwAAAAAAALK/AAAAAABA0b8AAAAAAIDIvwAAAAAAQNG/AAAAAACA2b8AAAAAAMDbvwAAAAAAAMq/AAAAAAAAwb8AAAAAAEDSvwAAAAAAAMy/AAAAAADA0b8AAAAAAADZvwAAAAAAgMi/AAAAAAAAtL8AAAAAAADFvwAAAAAAANK/AAAAAAAAy78AAAAAAACxvwAAAAAAgNG/AAAAAAAAyL8AAAAAAIDEvwAAAAAAgNG/AAAAAADA2b8AAAAAAIDHvwAAAAAAgMS/AAAAAACA0r8AAAAAAADKvwAAAAAAQNG/AAAAAAAA2b8AAAAAAIDLvwAAAAAAALW/AAAAAAAA0r8AAAAAAADKvwAAAAAAAMq/AAAAAABA0r8AAAAAAADKvwAAAAAAQNK/AAAAAACAy78AAAAAAAC4vwAAAAAAAMW/AAAAAADA0b8AAAAAAIDIvwAAAAAAQNG/AAAAAAAA2b8AAAAAAIDLvwAAAAAAAK6/AAAAAACA0b8AAAAAAIDIvwAAAAAAgMS/AAAAAAAAqL8AAAAAAADRvwAAAAAAgMi/AAAAAABA0b8AAAAAAADZvwAAAAAAAMq/AAAAAACA0b8AAAAAAADZvwAAAAAAgMy/AAAAAAAAu78AAAAAAADSvwAAAAAAgMq/AAAAAAAAyr8AAAAAAEDSvwAAAAAAANq/AAAAAACAyL8AAAAAAIDRvwAAAAAAgMW/AAAAAAAAuL8AAAAAAADRvwAAAAAAQNq/AAAAAAAAx78AAAAAAEDQvwAAAAAAgNm/AAAAAAAAy78AAAAAAACUvwAAAAAAgMW/AAAAAABA078AAAAAAIDavwAAAAAAAMa/AAAAAAAAsb8AAAAAAIDRvwAAAAAAgNq/AAAAAAAAzL8AAAAAAADPvwAAAAAAQNi/AAAAAAAAyb8AAAAAAEDRvwAAAAAAAMe/AAAAAAAAs78AAAAAAIDRvwAAAAAAAMm/AAAAAAAAtb8AAAAAAMDRvwAAAAAAAMe/AAAAAAAAur8AAAAAAAC0vwAAAAAAwNG/AAAAAAAAyr8AAAAAAEDRvwAAAAAAANm/AAAAAACAy78AAAAAAADSvwAAAAAAANm/AAAAAAAAyb8AAAAAAEDSvwAAAAAAAMu/AAAAAAAAsr8AAAAAAIDSvwAAAAAAAMm/AAAAAADA0b8AAAAAAIDJvwAAAAAAALu/AAAAAAAA078AAAAAAIDNvwAAAAAAALW/AAAAAABA0r8AAAAAAMDavwAAAAAAgMi/AAAAAAAA0b8AAAAAAEDbvwAAAAAAgMq/AAAAAACAz78AAAAAAIDbvwAAAAAAgMy/AAAAAACA0L8AAAAAAADZvwAAAAAAAMy/AAAAAABA0r8AAAAAAIDLvwAAAAAAALe/AAAAAACA0r8AAAAAAIDFvwAAAAAAALK/AAAAAAAAuL8AAAAAAIDSvwAAAAAAgM2/AAAAAAAAt78AAAAAAEDSvwAAAAAAQNq/AAAAAAAAyL8AAAAAAIDRvwAAAAAAgMm/AAAAAABA0r8AAAAAAIDJvwAAAAAAALq/AAAAAADA0r8AAAAAAADNvwAAAAAAALa/AAAAAAAA0b8AAAAAAADLvwAAAAAAALa/AAAAAADA0r8AAAAAAADKvwAAAAAAQNO/AAAAAACAzb8AAAAAAAC2vwAAAAAAwNK/AAAAAACA278AAAAAAADIvwAAAAAAwNG/AAAAAAAAy78AAAAAAEDSvwAAAAAAANy/AAAAAACAzL8AAAAAAIDQvwAAAAAAAMu/AAAAAACA0r8AAAAAAADJvwAAAAAAgNO/AAAAAACAy78AAAAAAAC2vwAAAAAAwNK/AAAAAAAAyb8AAAAAAAC5vwAAAAAAwNG/AAAAAABA278AAAAAAADJvwAAAAAAALG/AAAAAADA0r8AAAAAAIDKvwAAAAAAALC/AAAAAABA0r8AAAAAAIDavwAAAAAAgMe/AAAAAADA0r8AAAAAAADLvwAAAAAAgNG/AAAAAACA2b8AAAAAAADLvwAAAAAAANK/AAAAAACAyb8AAAAAAMDSvwAAAAAAgMq/AAAAAADA0r8AAAAAAIDavwAAAAAAAMO/AAAAAAAAtr8AAAAAAIDSvwAAAAAAAMq/AAAAAAAAtL8AAAAAAIDSvwAAAAAAwNq/AAAAAACAyL8AAAAAAIDRvwAAAAAAgMm/AAAAAAAA0b8AAAAAAMDYvwAAAAAAwNu/AAAAAACAyr8AAAAAAADPvwAAAAAAgMe/AAAAAAAAtb8AAAAAAEDSvwAAAAAAAMq/AAAAAAAAt78AAAAAAEDSvwAAAAAAwNq/AAAAAACAx78AAAAAAEDRvwAAAAAAgMe/AAAAAACA0b8AAAAAAEDbvwAAAAAAAMu/AAAAAAAAtL8AAAAAAIDSvwAAAAAAAMi/AAAAAAAAub8AAAAAAAC7vwAAAAAAANO/AAAAAACAyr8AAAAAAAC7vwAAAAAAALu/AAAAAADA0r8AAAAAAIDKvwAAAAAAgNG/AAAAAAAA2r8AAAAAAADNvwAAAAAAQNK/AAAAAABA2b8AAAAAAIDMvwAAAAAAwNK/AAAAAACAzL8AAAAAAAC7vwAAAAAAwNK/AAAAAACAzL8AAAAAAIDBvwAAAAAAgNK/AAAAAAAA278AAAAAAIDHvwAAAAAAgNK/AAAAAACAyr8AAAAAAMDSvwAAAAAAAMm/AAAAAAAAub8AAAAAAIDRvwAAAAAAANm/AAAAAACAy78AAAAAAEDSvwAAAAAAQNq/AAAAAAAAyL8AAAAAAMDRvwAAAAAAQNu/AAAAAACAyr8AAAAAAIDPvwAAAAAAgMe/AAAAAABA0r8AAAAAAMDavwAAAAAAAMa/AAAAAAAA0b8AAAAAAEDbvwAAAAAAAMq/AAAAAAAA0L8AAAAAAADZvwAAAAAAAMy/AAAAAADA0r8AAAAAAIDZvwAAAAAAgMm/AAAAAAAAzb8AAAAAAEDYvwAAAAAAwNq/AAAAAAAAyr8AAAAAAIDOvwAAAAAAAMi/AAAAAAAA0b8AAAAAAIDZvwAAAAAAgMO/AAAAAAAA0b8AAAAAAADKvwAAAAAAwNG/AAAAAAAA2r8AAAAAAMDYvwAAAAAAAMS/AAAAAABA0L8AAAAAAADZvwAAAAAAQNi/AAAAAACAxb8AAAAAAIDQvwAAAAAAgMe/AAAAAACA0L8AAAAAAADIvwAAAAAAQNG/AAAAAACAyL8AAAAAAIDPvwAAAAAAANq/AAAAAADA178AAAAAAIDJvwAAAAAAAMu/AAAAAACA178AAAAAAADKvwAAAAAAANC/AAAAAABA2L8AAAAAAADJvwAAAAAAANG/AAAAAAAA2b8AAAAAAEDXvwAAAAAAAMW/AAAAAACAzL8AAAAAAADFvwAAAAAAALK/AAAAAABA078AAAAAAIDMvwAAAAAAQNG/AAAAAACA2L8AAAAAAIDMvwAAAAAAALi/AAAAAABA0b8AAAAAAADHvwAAAAAAALG/AAAAAAAAtL8AAAAAAMDQvwAAAAAAAMq/AAAAAAAAsr8AAAAAAADRvwAAAAAAAMi/AAAAAAAAtr8AAAAAAEDRvwAAAAAAwNm/AAAAAACAxr8AAAAAAIDRvwAAAAAAAMm/AAAAAAAA0b8AAAAAAADZvwAAAAAAAMu/AAAAAABA0r8AAAAAAADLvwAAAAAAALm/AAAAAAAAub8AAAAAAMDRvwAAAAAAAMm/AAAAAADA0L8AAAAAAIDYvwAAAAAAgMy/AAAAAAAAsr8AAAAAAIDRvwAAAAAAwNm/AAAAAACAyb8AAAAAAIDQvwAAAAAAgNm/AAAAAAAAx78AAAAAAEDRvwAAAAAAQNm/AAAAAACAxb8AAAAAAAC3vwAAAAAAQNG/AAAAAAAAxr8AAAAAAACxvwAAAAAAALa/AAAAAAAA0b8AAAAAAIDKvwAAAAAAALK/AAAAAAAA0b8AAAAAAADHvwAAAAAAALq/AAAAAACA0r8AAAAAAEDavwAAAAAAgMi/AAAAAADA0b8AAAAAAEDavwAAAAAAgMe/AAAAAAAA0r8AAAAAAIDIvwAAAAAAALi/AAAAAAAAur8AAAAAAADSvwAAAAAAgMm/AAAAAACA0b8AAAAAAIDZvwAAAAAAgM6/AAAAAAAAtr8AAAAAAEDSvwAAAAAAAMm/AAAAAABA0b8AAAAAAADZvwAAAAAAgNu/AAAAAAAAyr8AAAAAAIDAvwAAAAAAgNK/AAAAAAAAzL8AAAAAAMDRvwAAAAAAgNi/AAAAAAAAyb8AAAAAAAC1vwAAAAAAAMW/AAAAAAAA0r8AAAAAAIDLvwAAAAAAALG/AAAAAAAA0b8AAAAAAADIvwAAAAAAgMS/AAAAAADA0b8AAAAAAMDZvwAAAAAAAMi/AAAAAACAw78AAAAAAEDSvwAAAAAAgMm/AAAAAABA0b8AAAAAAMDYvwAAAAAAgMu/AAAAAAAAsb8AAAAAAADSvwAAAAAAAMm/AAAAAAAAx78AAAAAAMDRvwAAAAAAgMi/AAAAAADA0b8AAAAAAIDGvwAAAAAAALq/AAAAAACAxb8AAAAAAEDSvwAAAAAAAMm/AAAAAACA0b8AAAAAAIDZvwAAAAAAgM2/AAAAAACAwL8AAAAAAIDSvwAAAAAAAMq/AAAAAACAxr8AAAAAAAC5vwAAAAAAgNG/AAAAAACAyr8AAAAAAIDRvwAAAAAAwNi/AAAAAACAyb8AAAAAAADRvwAAAAAAgNi/AAAAAAAAzL8AAAAAAACwvwAAAAAAgNG/AAAAAAAAyr8AAAAAAIDJvwAAAAAAwNG/AAAAAAAA2r8AAAAAAADIvwAAAAAAQNG/AAAAAACAx78AAAAAAAC8vwAAAAAAANG/AAAAAAAA2r8AAAAAAIDHvwAAAAAAQNC/AAAAAADA2b8AAAAAAADMvwAAAAAAAJi/AAAAAACAxb8AAAAAAADTvwAAAAAAgNq/AAAAAAAAxr8AAAAAAACxvwAAAAAAQNG/AAAAAABA2r8AAAAAAIDLvwAAAAAAgM+/AAAAAABA2L8AAAAAAADJvwAAAAAAANG/AAAAAACAx78AAAAAAAC2vwAAAAAAQNG/AAAAAAAAyr8AAAAAAAC3vwAAAAAAgNG/AAAAAACAxr8AAAAAAAC1vwAAAAAAALK/AAAAAACA0b8AAAAAAADJvwAAAAAAANG/AAAAAAAA2b8AAAAAAADLvwAAAAAAANK/AAAAAAAA2b8AAAAAAADKvwAAAAAAQNK/AAAAAAAAy78AAAAAAACxvwAAAAAAgNG/AAAAAACAyL8AAAAAAEDRvwAAAAAAgMm/AAAAAAAAu78AAAAAAIDSvwAAAAAAgMy/AAAAAAAAtL8AAAAAAIDRvwAAAAAAwNq/AAAAAACAyb8AAAAAAIDRvwAAAAAAwNq/AAAAAAAAyr8AAAAAAIDOvwAAAAAAANu/AAAAAAAAzL8AAAAAAEDQvwAAAAAAANm/AAAAAAAAzL8AAAAAAADSvwAAAAAAAMq/AAAAAAAAtr8AAAAAAIDSvwAAAAAAAMe/AAAAAAAAtL8AAAAAAAC5vwAAAAAAgNK/AAAAAACAzL8AAAAAAAC1vwAAAAAAwNK/AAAAAACA2r8AAAAAAADIvwAAAAAAgNG/AAAAAAAAyb8AAAAAAMDRvwAAAAAAAMi/AAAAAAAAur8AAAAAAMDSvwAAAAAAgM2/AAAAAAAAu78AAAAAAIDSvwAAAAAAAMy/AAAAAAAAub8AAAAAAEDSvwAAAAAAgMi/AAAAAACA0r8AAAAAAIDMvwAAAAAAALi/AAAAAABA078AAAAAAEDbvwAAAAAAAMi/AAAAAAAA0r8AAAAAAIDLvwAAAAAAANK/AAAAAAAA3L8AAAAAAADNvwAAAAAAQNC/AAAAAACAy78AAAAAAIDSvwAAAAAAgMm/AAAAAADA0r8AAAAAAADLvwAAAAAAALS/AAAAAABA0r8AAAAAAADGvwAAAAAAALO/AAAAAABA0r8AAAAAAADcvwAAAAAAgMm/AAAAAAAAsL8AAAAAAMDSvwAAAAAAAMq/AAAAAAAAs78AAAAAAEDSvwAAAAAAgNq/AAAAAACAxr8AAAAAAIDSvwAAAAAAgMq/AAAAAAAA0b8AAAAAAEDZvwAAAAAAAMu/AAAAAAAA0r8AAAAAAIDJvwAAAAAAwNK/AAAAAACAyr8AAAAAAEDSvwAAAAAAQNq/AAAAAAAAw78AAAAAAAC1vwAAAAAAQNK/AAAAAAAAyr8AAAAAAAC1vwAAAAAAANK/AAAAAADA2r8AAAAAAIDIvwAAAAAAgNG/AAAAAAAAyb8AAAAAAIDRvwAAAAAAwNi/AAAAAABA278AAAAAAADLvwAAAAAAgM2/AAAAAAAAyL8AAAAAAAC0vwAAAAAAwNG/AAAAAAAAyr8AAAAAAAC1vwAAAAAAgNK/AAAAAADA2r8AAAAAAADHvwAAAAAAQNG/AAAAAAAAyL8AAAAAAMDRvwAAAAAAQNu/AAAAAACAyr8AAAAAAACyvwAAAAAAwNG/AAAAAACAxb8AAAAAAAC0vwAAAAAAALq/AAAAAADA0r8AAAAAAADLvwAAAAAAALe/AAAAAAAAu78AAAAAAMDSvwAAAAAAAMu/AAAAAACA0b8AAAAAAADavwAAAAAAAM6/AAAAAABA0r8AAAAAAIDZvwAAAAAAgMy/AAAAAACA0r8AAAAAAADMvwAAAAAAALq/AAAAAADA0r8AAAAAAIDLvwAAAAAAAL+/AAAAAACA0r8AAAAAAMDavwAAAAAAgMe/AAAAAADA0r8AAAAAAADKvwAAAAAAwNK/AAAAAAAAx78AAAAAAAC5vwAAAAAAQNG/AAAAAAAA2b8AAAAAAADLvwAAAAAAQNK/AAAAAAAA2r8AAAAAAADHvwAAAAAAgNG/AAAAAABA278AAAAAAADLvwAAAAAAANC/AAAAAACAyL8AAAAAAIDSvwAAAAAAwNq/AAAAAACAxb8AAAAAAADRvwAAAAAAQNu/AAAAAACAyr8AAAAAAADQvwAAAAAAwNi/AAAAAACAyr8AAAAAAMDSvwAAAAAAwNi/AAAAAAAAyr8AAAAAAADNvwAAAAAAgNi/AAAAAADA2r8AAAAAAADKvwAAAAAAgM6/AAAAAACAxr8AAAAAAMDQvwAAAAAAgNm/AAAAAACAw78AAAAAAEDRvwAAAAAAgMq/AAAAAABA0b8AAAAAAMDZvwAAAAAAANi/AAAAAAAAxb8AAAAAAIDQvwAAAAAAANm/AAAAAAAA2L8AAAAAAIDFvwAAAAAAgNC/AAAAAACAxr8AAAAAAADQvwAAAAAAgMe/AAAAAAAA0b8AAAAAAADIvwAAAAAAAM6/AAAAAABA2b8AAAAAAIDXvwAAAAAAAMm/AAAAAACAy78AAAAAAMDXvwAAAAAAAMq/AAAAAAAAz78AAAAAAIDYvwAAAAAAgMi/AAAAAACA0L8AAAAAAMDYvwAAAAAAANe/AAAAAACAxb8AAAAAAIDLvwAAAAAAgMW/AAAAAADA0L8AAAAAAADHvwAAAAAAALC/AAAAAAAA0b8AAAAAAIDYvwAAAAAAANu/AAAAAACAxb8AAAAAAACovwAAAAAAgNC/AAAAAABA2b8AAAAAAIDGvwAAAAAAQNC/AAAAAAAAxL8AAAAAAAC7vwAAAAAAQNC/AAAAAABA2L8AAAAAAADKvwAAAAAAwNC/AAAAAACA2L8AAAAAAADKvwAAAAAAALG/AAAAAABA0b8AAAAAAIDFvwAAAAAAALq/AAAAAAAA0b8AAAAAAADIvwAAAAAAQNG/AAAAAACAyL8AAAAAAIDRvwAAAAAAANm/AAAAAACA278AAAAAAIDJvwAAAAAAwNC/AAAAAAAA2L8AAAAAAIDHvwAAAAAAALi/AAAAAAAAqL8AAAAAAMDQvwAAAAAAAMi/AAAAAABA0b8AAAAAAADJvwAAAAAAANG/AAAAAAAA2b8AAAAAAEDbvwAAAAAAgMe/AAAAAAAArL8AAAAAAIDQvwAAAAAAgMa/AAAAAAAAt78AAAAAAADRvwAAAAAAgMi/AAAAAACA0L8AAAAAAADZvwAAAAAAAMy/AAAAAAAArr8AAAAAAEDRvwAAAAAAQNq/AAAAAACAxr8AAAAAAADRvwAAAAAAAMq/AAAAAACA0L8AAAAAAADZvwAAAAAAgMm/AAAAAAAAuL8AAAAAAIDRvwAAAAAAgMq/AAAAAACA0b8AAAAAAADJvwAAAAAAALS/AAAAAAAA0b8AAAAAAADKvwAAAAAAANG/AAAAAABA2b8AAAAAAIDKvwAAAAAAALa/AAAAAAAA0b8AAAAAAADJvwAAAAAAwNC/AAAAAABA2b8AAAAAAADKvwAAAAAAALO/AAAAAACA0L8AAAAAAMDZvwAAAAAAAMe/AAAAAAAAs78AAAAAAEDSvwAAAAAAgMm/AAAAAAAA0b8AAAAAAIDavwAAAAAAAMi/AAAAAAAAsr8AAAAAAADSvwAAAAAAQNq/AAAAAAAAyb8AAAAAAIDOvwAAAAAAAMi/AAAAAAAAsL8AAAAAAADSvwAAAAAAAMq/AAAAAAAA0r8AAAAAAMDZvwAAAAAAAM2/AAAAAAAAzr8AAAAAAIDZvwAAAAAAAMu/AAAAAAAA0L8AAAAAAIDIvwAAAAAAQNC/AAAAAACA2r8AAAAAAADFvwAAAAAAgM6/AAAAAAAA2r8AAAAAAIDGvwAAAAAAwNK/AAAAAACA2r8AAAAAAIDMvwAAAAAAgM+/AAAAAAAAyL8AAAAAAIDRvwAAAAAAwNm/AAAAAAAAxb8AAAAAAMDQvwAAAAAAgNq/AAAAAACAxr8AAAAAAIDQvwAAAAAAgNm/AAAAAACA2L8AAAAAAIDHvwAAAAAAAM6/AAAAAACAyr8AAAAAAIDQvwAAAAAAQNm/AAAAAACA2L8AAAAAAIDIvwAAAAAAAM+/AAAAAACAyL8AAAAAAADRvwAAAAAAQNm/AAAAAACA2L8AAAAAAIDGvwAAAAAAgM2/AAAAAAAA2b8AAAAAAIDYvwAAAAAAAMq/AAAAAACAz78AAAAAAEDavwAAAAAAANm/AAAAAABA2b8AAAAAAEDZvwAAAAAAANm/AAAAAABA2L8AAAAAAIDIvwAAAAAAgNC/AAAAAAAAwr8AAAAAAADNvwAAAAAAgNW/AAAAAADA1r8AAAAAAIDFvwAAAAAAgMO/AAAAAACAz78AAAAAAEDXvwAAAAAAwNW/AAAAAABA1r8AAAAAAIDGvwAAAAAAgMG/AAAAAAAAzr8AAAAAAEDXvwAAAAAAAMi/AAAAAAAAy78AAAAAAIDEvwAAAAAAAMu/AAAAAABA1L8AAAAAAIDVvwAAAAAAALu/AAAAAAAAxb8AAAAAAIDAvwAAAAAAAMq/AAAAAABA1r8AAAAAAIDIvwAAAAAAgM2/AAAAAACAxL8AAAAAAIDKvwAAAAAAAL2/AAAAAACAzb8AAAAAAADDvwAAAAAAgMq/AAAAAAAA1r8AAAAAAIDAvwAAAAAAALa/AAAAAACAzr8AAAAAAAC9vwAAAAAAAJC/AAAAAAAAzb8AAAAAAEDWvwAAAAAAANW/AAAAAAAA1r8AAAAAAIDFvwAAAAAAALu/AAAAAAAAy78AAAAAAADEvwAAAAAAgMi/AAAAAAAAwr8AAAAAAIDBvwAAAAAAgM2/AAAAAACAwb8AAAAAAADLvwAAAAAAAMW/AAAAAACAzb8AAAAAAADCvwAAAAAAAM2/AAAAAACA1r8AAAAAAADHvwAAAAAAgMq/AAAAAAAAxL8AAAAAAIDHvwAAAAAAANW/AAAAAAAA1b8AAAAAAMDUvwAAAAAAgNO/AAAAAAAAsr8AAAAAAADIvwAAAAAAAMG/AAAAAAAAyr8AAAAAAAC9vwAAAAAAgMu/AAAAAADA1r8AAAAAAADCvwAAAAAAgMW/AAAAAADA1b8AAAAAAADVvwAAAAAAgMS/AAAAAACAxb8AAAAAAAC/vwAAAAAAAMC/AAAAAAAAzr8AAAAAAIDEvwAAAAAAgMm/AAAAAAAA1L8AAAAAAADBvwAAAAAAAMu/AAAAAAAA1r8AAAAAAAC6vwAAAAAAALW/AAAAAAAAz78AAAAAAADFvwAAAAAAgMy/AAAAAACAwr8AAAAAAIDCvwAAAAAAQNC/AAAAAACAxb8AAAAAAADLvwAAAAAAQNW/AAAAAAAAwr8AAAAAAIDNvwAAAAAAwNa/AAAAAAAAvr8AAAAAAAC5vwAAAAAAgM+/AAAAAAAAxr8AAAAAAIDOvwAAAAAAAMO/AAAAAAAAxL8AAAAAAADRvwAAAAAAAMe/AAAAAACAzL8AAAAAAIDVvwAAAAAAgMK/AAAAAAAAzr8AAAAAAADXvwAAAAAAAMG/AAAAAAAAu78AAAAAAEDQvwAAAAAAgMe/AAAAAACAzr8AAAAAAIDEvwAAAAAAgMS/AAAAAACA0b8AAAAAAADIvwAAAAAAgMy/AAAAAAAA1r8AAAAAAIDDvwAAAAAAgM6/AAAAAABA178AAAAAAIDAvwAAAAAAAL2/AAAAAADA0L8AAAAAAADHvwAAAAAAgM6/AAAAAACAxL8AAAAAAIDEvwAAAAAAgNG/AAAAAAAAyb8AAAAAAADNvwAAAAAAQNa/AAAAAACAw78AAAAAAADOvwAAAAAAANi/AAAAAACAwb8AAAAAAAC+vwAAAAAAANG/AAAAAAAAyL8AAAAAAIDOvwAAAAAAAMS/AAAAAACAxL8AAAAAAIDRvwAAAAAAAMm/AAAAAAAAzb8AAAAAAADWvwAAAAAAgMO/AAAAAACAzr8AAAAAAMDXvwAAAAAAAMK/AAAAAAAAvb8AAAAAAEDRvwAAAAAAgMi/AAAAAACAzr8AAAAAAIDEvwAAAAAAAMW/AAAAAADA0b8AAAAAAIDIvwAAAAAAAM6/AAAAAABA1r8AAAAAAIDEvwAAAAAAAM+/AAAAAADA178AAAAAAIDBvwAAAAAAAL6/AAAAAABA0b8AAAAAAADIvwAAAAAAgM6/AAAAAACAxL8AAAAAAADEvwAAAAAAgNG/AAAAAACAyL8AAAAAAADOvwAAAAAAQNa/AAAAAACAw78AAAAAAADOvwAAAAAAwNe/AAAAAACAwL8AAAAAAAC+vwAAAAAAANG/AAAAAAAAyb8AAAAAAIDPvwAAAAAAgMS/AAAAAACAxL8AAAAAAIDRvwAAAAAAAMm/AAAAAACAzb8AAAAAAIDWvwAAAAAAgMS/AAAAAACAzr8AAAAAAIDXvwAAAAAAAMG/AAAAAAAAv78AAAAAAEDRvwAAAAAAgMi/AAAAAAAA0L8AAAAAAADFvwAAAAAAAMW/AAAAAADA0b8AAAAAAIDIvwAAAAAAAM6/AAAAAABA1r8AAAAAAADEvwAAAAAAgM6/AAAAAACA178AAAAAAIDAvwAAAAAAAL6/AAAAAABA0b8AAAAAAADJvwAAAAAAQNC/AAAAAACAxb8AAAAAAIDEvwAAAAAAgNG/AAAAAACAyL8AAAAAAADOvwAAAAAAgNa/AAAAAAAAxb8AAAAAAADPvwAAAAAAwNe/AAAAAAAAwb8AAAAAAAC9vwAAAAAAQNG/AAAAAAAAyb8AAAAAAADQvwAAAAAAAMa/AAAAAACAxb8AAAAAAMDRvwAAAAAAAMi/AAAAAACAzb8AAAAAAMDWvwAAAAAAAMW/AAAAAACAz78AAAAAAEDYvwAAAAAAAMK/AAAAAAAAvb8AAAAAAADRvwAAAAAAgMi/AAAAAABA0L8AAAAAAADGvwAAAAAAgMW/AAAAAADA0b8AAAAAAIDIvwAAAAAAgM2/AAAAAAAA1r8AAAAAAADFvwAAAAAAAM+/AAAAAAAA2L8AAAAAAADBvwAAAAAAAL2/AAAAAAAA0b8AAAAAAIDIvwAAAAAAANC/AAAAAACAxb8AAAAAAADGvwAAAAAAANK/AAAAAACAyL8AAAAAAADNvwAAAAAAANa/AAAAAACAxL8AAAAAAADPvwAAAAAAwNe/AAAAAAAAwr8AAAAAAAC+vwAAAAAAQNG/AAAAAACAyL8AAAAAAADQvwAAAAAAgMW/AAAAAACAxb8AAAAAAEDSvwAAAAAAAMm/AAAAAACAzb8AAAAAAEDWvwAAAAAAgMS/AAAAAACAzr8AAAAAAADYvwAAAAAAgMG/AAAAAAAAvb8AAAAAAADRvwAAAAAAAMi/AAAAAACAz78AAAAAAADFvwAAAAAAgMW/AAAAAADA0b8AAAAAAADJvwAAAAAAgM2/AAAAAABA1r8AAAAAAIDDvwAAAAAAgM6/AAAAAABA2L8AAAAAAADCvwAAAAAAAL6/AAAAAAAA0b8AAAAAAIDHvwAAAAAAgM6/AAAAAACAxr8AAAAAAIDOvwAAAAAAAMS/AAAAAABA0L8AAAAAAADGvwAAAAAAAM+/AAAAAAAAxb8AAAAAAIDQvwAAAAAAgMe/AAAAAABA0L8AAAAAAEDXvwAAAAAAQNm/AAAAAABA178AAAAAAIDWvwAAAAAAAMC/AAAAAACAyL8AAAAAAIDEvwAAAAAAANC/AAAAAACAw78AAAAAAIDQvwAAAAAAwNG/AAAAAACAx78AAAAAAADQvwAAAAAAgNe/AAAAAACAwL8AAAAAAADNvwAAAAAAAMW/AAAAAACAzb8AAAAAAIDDvwAAAAAAAMy/AAAAAAAAxb8AAAAAAADPvwAAAAAAAMa/AAAAAACAzb8AAAAAAADFvwAAAAAAALu/AAAAAAAAwr8AAAAAAADRvwAAAAAAgMW/AAAAAACAzr8AAAAAAIDEvwAAAAAAgMy/AAAAAAAAxL8AAAAAAADNvwAAAAAAgMW/AAAAAACAzr8AAAAAAADHvwAAAAAAAMC/AAAAAAAAxL8AAAAAAEDRvwAAAAAAgMa/AAAAAACAzr8AAAAAAADFvwAAAAAAAM2/AAAAAAAAxr8AAAAAAIDOvwAAAAAAAMa/AAAAAACAzr8AAAAAAIDHvwAAAAAAAL6/AAAAAAAAxb8AAAAAAADSvwAAAAAAAMm/AAAAAABA0L8AAAAAAIDFvwAAAAAAgM2/AAAAAAAAxr8AAAAAAEDQvwAAAAAAgMe/AAAAAACAz78AAAAAAIDGvwAAAAAAAL2/AAAAAAAAxL8AAAAAAEDRvwAAAAAAAMe/AAAAAAAA0L8AAAAAAADGvwAAAAAAgM6/AAAAAACAxb8AAAAAAIDOvwAAAAAAgMa/AAAAAACAzr8AAAAAAADIvwAAAAAAAL+/AAAAAAAAxb8AAAAAAIDRvwAAAAAAAMm/AAAAAABA0L8AAAAAAADGvwAAAAAAgM6/AAAAAACAx78AAAAAAADRvwAAAAAAAMi/AAAAAAAAz78AAAAAAIDGvwAAAAAAAL2/AAAAAAAAxL8AAAAAAIDRvwAAAAAAAMe/AAAAAACAz78AAAAAAIDFvwAAAAAAgM2/AAAAAACAxb8AAAAAAIDOvwAAAAAAAMe/AAAAAAAAz78AAAAAAIDIvwAAAAAAAL+/AAAAAAAAxb8AAAAAAMDRvwAAAAAAgMi/AAAAAABA0L8AAAAAAIDGvwAAAAAAgM6/AAAAAACAxr8AAAAAAADQvwAAAAAAgMe/AAAAAAAAz78AAAAAAIDGvwAAAAAAAM+/AAAAAAAAxb8AAAAAAAC/vwAAAAAAgMK/AAAAAADA0L8AAAAAAADFvwAAAAAAQNG/AAAAAADA0r8AAAAAAADKvwAAAAAAANG/AAAAAABA2L8AAAAAAADCvwAAAAAAAM6/AAAAAAAAxr8AAAAAAIDPvwAAAAAAgMW/AAAAAAAAzr8AAAAAAADFvwAAAAAAAM+/AAAAAACAxb8AAAAAAIDNvwAAAAAAgMW/AAAAAAAAu78AAAAAAIDDvwAAAAAAANG/AAAAAACAx78AAAAAAADPvwAAAAAAgMW/AAAAAAAAzb8AAAAAAIDFvwAAAAAAQNC/AAAAAACAxr8AAAAAAIDNvwAAAAAAgMW/AAAAAAAAu78AAAAAAADDvwAAAAAAANG/AAAAAACAx78AAAAAAEDQvwAAAAAAAMW/AAAAAACAzL8AAAAAAADFvwAAAAAAANC/AAAAAACAxr8AAAAAAADOvwAAAAAAgMa/AAAAAAAAvL8AAAAAAADDvwAAAAAAANG/AAAAAACAx78AAAAAAIDPvwAAAAAAgMW/AAAAAACAzb8AAAAAAIDFvwAAAAAAANC/AAAAAACAxr8AAAAAAADOvwAAAAAAgMa/AAAAAAAAvb8AAAAAAIDDvwAAAAAAQNG/AAAAAACAx78AAAAAAIDOvwAAAAAAAMW/AAAAAACAzb8AAAAAAIDFvwAAAAAAANC/AAAAAAAAx78AAAAAAIDOvwAAAAAAAMa/AAAAAAAAu78AAAAAAIDDvwAAAAAAQNG/AAAAAAAAyL8AAAAAAIDQvwAAAAAAgMW/AAAAAACAzL8AAAAAAIDFvwAAAAAAANC/AAAAAAAAx78AAAAAAIDOvwAAAAAAgMa/AAAAAAAAvb8AAAAAAIDDvwAAAAAAANG/AAAAAACAxb8AAAAAAIDOvwAAAAAAgMW/AAAAAACAzb8AAAAAAADGvwAAAAAAgM2/AAAAAAAAxb8AAAAAAIDNvwAAAAAAAMa/AAAAAAAAvb8AAAAAAIDEvwAAAAAAANK/AAAAAACAyL8AAAAAAADPvwAAAAAAgMW/AAAAAACAzb8AAAAAAADGvwAAAAAAgNC/AAAAAAAAyL8AAAAAAIDPvwAAAAAAgMa/AAAAAAAAzr8AAAAAAIDDvwAAAAAAAL2/AAAAAACAwr8AAAAAAADRvwAAAAAAAMW/AAAAAABA0b8AAAAAAIDSvwAAAAAAgMm/AAAAAAAA0b8AAAAAAADYvwAAAAAAgMK/AAAAAACAzr8AAAAAAIDFvwAAAAAAAM+/AAAAAACAxL8AAAAAAADNvwAAAAAAAMW/AAAAAABA0L8AAAAAAADHvwAAAAAAgM6/AAAAAACAxb8AAAAAAAC7vwAAAAAAAMS/AAAAAABA0b8AAAAAAADIvwAAAAAAQNC/AAAAAAAAxb8AAAAAAADNvwAAAAAAgMS/AAAAAACAz78AAAAAAIDGvwAAAAAAgM6/AAAAAAAAxr8AAAAAAAC9vwAAAAAAgMO/AAAAAAAA0b8AAAAAAADGvwAAAAAAgM6/AAAAAAAAxb8AAAAAAADNvwAAAAAAAMa/AAAAAAAAzr8AAAAAAIDFvwAAAAAAgM2/AAAAAACAxr8AAAAAAAC+vwAAAAAAgMS/AAAAAABA0r8AAAAAAIDIvwAAAAAAANC/AAAAAACAxb8AAAAAAIDNvwAAAAAAAMa/AAAAAADA0L8AAAAAAIDHvwAAAAAAANC/AAAAAAAAx78AAAAAAAC9vwAAAAAAgMO/AAAAAABA0b8AAAAAAADHvwAAAAAAgM+/AAAAAAAAxr8AAAAAAIDNvwAAAAAAgMW/AAAAAACAzr8AAAAAAADGvwAAAAAAAM+/AAAAAACAx78AAAAAAADAvwAAAAAAgMW/AAAAAAAA0r8AAAAAAIDGvwAAAAAAgM+/AAAAAACAxb8AAAAAAIDOvwAAAAAAAMa/AAAAAAAAz78AAAAAAIDGvwAAAAAAAM+/AAAAAAAAyL8AAAAAAADAvwAAAAAAAMW/AAAAAAAA0r8AAAAAAADIvwAAAAAAgNC/AAAAAACAxb8AAAAAAIDNvwAAAAAAAMa/AAAAAAAAz78AAAAAAIDHvwAAAAAAANC/AAAAAAAAyL8AAAAAAAC/vwAAAAAAgMW/AAAAAABA0r8AAAAAAIDIvwAAAAAAQNC/AAAAAAAAx78AAAAAAADPvwAAAAAAgMa/AAAAAAAAz78AAAAAAADHvwAAAAAAgM+/AAAAAAAAyL8AAAAAAEDQvwAAAAAAgMW/AAAAAAAAwb8AAAAAAIDDvwAAAAAAgNG/AAAAAACAxb8AAAAAAADSvwAAAAAAQNO/AAAAAAAAzL8AAAAAAEDRvwAAAAAAwNi/AAAAAAAAwr8AAAAAAIDNvwAAAAAAAMe/AAAAAAAA0L8AAAAAAADGvwAAAAAAgM2/AAAAAACAxb8AAAAAAEDQvwAAAAAAgMe/AAAAAAAAz78AAAAAAADHvwAAAAAAAL+/AAAAAAAAxb8AAAAAAEDRvwAAAAAAgMe/AAAAAAAA0L8AAAAAAADFvwAAAAAAgM2/AAAAAAAAxr8AAAAAAMDQvwAAAAAAgMe/AAAAAACAzr8AAAAAAADGvwAAAAAAAL2/AAAAAAAAxL8AAAAAAEDRvwAAAAAAgMe/AAAAAACAz78AAAAAAADFvwAAAAAAAM2/AAAAAAAAxb8AAAAAAIDNvwAAAAAAAMa/AAAAAACAzr8AAAAAAADIvwAAAAAAAL6/AAAAAAAAxb8AAAAAAIDRvwAAAAAAAMe/AAAAAAAA0L8AAAAAAIDGvwAAAAAAgM6/AAAAAACAxr8AAAAAAIDOvwAAAAAAgMa/AAAAAAAAz78AAAAAAADIvwAAAAAAAMC/AAAAAACAxb8AAAAAAADSvwAAAAAAgMe/AAAAAABA0L8AAAAAAIDFvwAAAAAAgM6/AAAAAACAxr8AAAAAAIDPvwAAAAAAAMi/AAAAAACAz78AAAAAAIDHvwAAAAAAAMC/AAAAAACAxb8AAAAAAADSvwAAAAAAAMm/AAAAAADA0L8AAAAAAIDGvwAAAAAAAM6/AAAAAACAxr8AAAAAAADRvwAAAAAAgMi/AAAAAABA0L8AAAAAAIDIvwAAAAAAAMC/AAAAAACAxL8AAAAAAIDRvwAAAAAAAMe/AAAAAACAz78AAAAAAADGvwAAAAAAgM6/AAAAAAAAxr8AAAAAAIDOvwAAAAAAgMa/AAAAAACAz78AAAAAAIDHvwAAAAAAAMC/AAAAAACAxb8AAAAAAEDSvwAAAAAAAMi/AAAAAAAA0L8AAAAAAADGvwAAAAAAgM2/AAAAAACAxr8AAAAAAIDPvwAAAAAAAMe/AAAAAAAAz78AAAAAAADIvwAAAAAAANC/AAAAAACAxb8AAAAAAIDAvwAAAAAAAMS/AAAAAABA0b8AAAAAAADGvwAAAAAAANK/AAAAAADA0r8AAAAAAADKvwAAAAAAQNG/AAAAAADA2L8AAAAAAIDCvwAAAAAAAM6/AAAAAACAxb8AAAAAAIDOvwAAAAAAgMW/AAAAAACAzb8AAAAAAIDFvwAAAAAAgM6/AAAAAAAAx78AAAAAAADPvwAAAAAAAMe/AAAAAAAAv78AAAAAAADFvwAAAAAAANK/AAAAAAAAx78AAAAAAADQvwAAAAAAAMa/AAAAAACAzr8AAAAAAIDFvwAAAAAAAM+/AAAAAACAxr8AAAAAAIDPvwAAAAAAAMm/AAAAAACAwL8AAAAAAIDFvwAAAAAAwNG/AAAAAACAx78AAAAAAEDQvwAAAAAAgMa/AAAAAACAzr8AAAAAAIDGvwAAAAAAgM6/AAAAAACAxr8AAAAAAADQvwAAAAAAgMe/AAAAAAAAwL8AAAAAAIDFvwAAAAAAgNK/AAAAAACAyb8AAAAAAIDQvwAAAAAAAMa/AAAAAACAzr8AAAAAAADHvwAAAAAAANG/AAAAAAAAyb8AAAAAAEDQvwAAAAAAAMi/AAAAAAAAv78AAAAAAIDEvwAAAAAAANK/AAAAAAAAyL8AAAAAAADQvwAAAAAAAMa/AAAAAACAzb8AAAAAAIDFvwAAAAAAgM6/AAAAAACAxr8AAAAAAADPvwAAAAAAgMi/AAAAAAAAwL8AAAAAAIDFvwAAAAAAQNK/AAAAAACAx78AAAAAAADQvwAAAAAAgMa/AAAAAACAzr8AAAAAAADHvwAAAAAAANC/AAAAAAAAx78AAAAAAADPvwAAAAAAgMe/AAAAAAAAv78AAAAAAIDFvwAAAAAAQNK/AAAAAAAAyb8AAAAAAADQvwAAAAAAgMa/AAAAAACAzb8AAAAAAIDGvwAAAAAAAM+/AAAAAACAx78AAAAAAEDQvwAAAAAAgMi/AAAAAAAAwL8AAAAAAADFvwAAAAAAQNK/AAAAAAAAyb8AAAAAAMDQvwAAAAAAAMe/AAAAAAAAz78AAAAAAADHvwAAAAAAANG/AAAAAAAAyL8AAAAAAEDQvwAAAAAAgMe/AAAAAAAA0L8AAAAAAADFvwAAAAAAAMC/AAAAAACAwr8AAAAAAADRvwAAAAAAAMW/AAAAAADA0b8AAAAAAEDTvwAAAAAAAMu/AAAAAABA0b8AAAAAAEDYvwAAAAAAAMK/AAAAAACAzb8AAAAAAIDGvwAAAAAAgM+/AAAAAACAxb8AAAAAAIDNvwAAAAAAAMW/AAAAAABA0L8AAAAAAIDGvwAAAAAAAM+/AAAAAAAAxr8AAAAAAAC+vwAAAAAAgMS/AAAAAABA0b8AAAAAAADHvwAAAAAAgM+/AAAAAACAxb8AAAAAAIDNvwAAAAAAAMa/AAAAAABA0L8AAAAAAIDHvwAAAAAAgM6/AAAAAACAxr8AAAAAAAC7vwAAAAAAAMS/AAAAAABA0b8AAAAAAIDHvwAAAAAAANC/AAAAAAAAxb8AAAAAAIDNvwAAAAAAAMa/AAAAAABA0L8AAAAAAIDHvwAAAAAAAM+/AAAAAACAx78AAAAAAAC7vwAAAAAAgMO/AAAAAABA0b8AAAAAAIDGvwAAAAAAgM6/AAAAAACAxb8AAAAAAIDNvwAAAAAAgMW/AAAAAACAzb8AAAAAAIDFvwAAAAAAAM+/AAAAAAAAyL8AAAAAAADAvwAAAAAAAMW/AAAAAAAA0r8AAAAAAADHvwAAAAAAgM+/AAAAAACAxb8AAAAAAADOvwAAAAAAgMa/AAAAAACAzr8AAAAAAIDHvwAAAAAAAM+/AAAAAAAAyL8AAAAAAAC+vwAAAAAAgMW/AAAAAABA0r8AAAAAAADJvwAAAAAAwNC/AAAAAACAxr8AAAAAAIDOvwAAAAAAAMa/AAAAAAAA0b8AAAAAAIDIvwAAAAAAQNC/AAAAAACAx78AAAAAAADAvwAAAAAAgMS/AAAAAAAA0r8AAAAAAADHvwAAAAAAANC/AAAAAAAAxr8AAAAAAIDOvwAAAAAAAMa/AAAAAACAzr8AAAAAAIDGvwAAAAAAgM6/AAAAAAAAyL8AAAAAAADAvwAAAAAAgMW/AAAAAABA0r8AAAAAAADIvwAAAAAAANC/AAAAAAAAx78AAAAAAADOvwAAAAAAgMa/AAAAAAAAz78AAAAAAIDHvwAAAAAAgM+/AAAAAAAAyL8AAAAAAADQvwAAAAAAAMW/AAAAAACAwL8AAAAAAADEvwAAAAAAgNG/AAAAAAAAxr8AAAAAAMDRvwAAAAAAQNO/AAAAAAAAy78AAAAAAEDRvwAAAAAAANm/AAAAAAAAw78AAAAAAADPvwAAAAAAgMW/AAAAAACAzr8AAAAAAADFvwAAAAAAgM2/AAAAAACAxb8AAAAAAADOvwAAAAAAAMe/AAAAAACAzr8AAAAAAADHvwAAAAAAAL+/AAAAAACAxb8AAAAAAEDSvwAAAAAAgMi/AAAAAABA0L8AAAAAAIDGvwAAAAAAgM2/AAAAAAAAxr8AAAAAAADPvwAAAAAAAMe/AAAAAACAz78AAAAAAIDIvwAAAAAAAMG/AAAAAACAxb8AAAAAAEDSvwAAAAAAAMm/AAAAAADA0L8AAAAAAADHvwAAAAAAgM+/AAAAAAAAyL8AAAAAAMDQvwAAAAAAAMi/AAAAAAAAz78AAAAAAIDHvwAAAAAAAL+/AAAAAAAAxb8AAAAAAADSvwAAAAAAAMm/AAAAAAAA0L8AAAAAAIDGvwAAAAAAgM2/AAAAAAAAx78AAAAAAMDQvwAAAAAAAMi/AAAAAACAz78AAAAAAADHvwAAAAAAAL2/AAAAAACAxL8AAAAAAEDRvwAAAAAAAMi/AAAAAACA0L8AAAAAAADGvwAAAAAAgM2/AAAAAAAAxr8AAAAAAEDQvwAAAAAAgMe/AAAAAAAAz78AAAAAAADHvwAAAAAAAMC/AAAAAACAxL8AAAAAAEDRvwAAAAAAgMa/AAAAAAAAz78AAAAAAIDFvwAAAAAAgM2/AAAAAACAxb8AAAAAAIDOvwAAAAAAAMa/AAAAAACAzr8AAAAAAADHvwAAAAAAAL6/AAAAAACAxb8AAAAAAADSvwAAAAAAgMi/AAAAAAAA0L8AAAAAAIDFvwAAAAAAgM2/AAAAAAAAxr8AAAAAAMDQvwAAAAAAgMi/AAAAAACAz78AAAAAAADHvwAAAAAAAL2/AAAAAACAw78AAAAAAIDRvwAAAAAAgMa/AAAAAACAz78AAAAAAIDFvwAAAAAAgM2/AAAAAACAxb8AAAAAAIDNvwAAAAAAAMa/AAAAAACAzr8AAAAAAIDHvwAAAAAAANC/AAAAAAAAxb8AAAAAAADAvwAAAAAAAMO/AAAAAAAA0b8AAAAAAIDFvwAAAAAAwNG/AAAAAABA078AAAAAAADLvwAAAAAAANG/AAAAAABA2L8AAAAAAADCvwAAAAAAgM2/AAAAAACAxr8AAAAAAADQvwAAAAAAgMW/AAAAAACAzb8AAAAAAIDFvwAAAAAAQNC/AAAAAAAAx78AAAAAAADPvwAAAAAAgMa/AAAAAAAAvr8AAAAAAADFvwAAAAAAANG/AAAAAACAxr8AAAAAAIDPvwAAAAAAAMW/AAAAAACAzb8AAAAAAIDFvwAAAAAAQNC/AAAAAAAAx78AAAAAAIDOvwAAAAAAgMW/AAAAAAAAu78AAAAAAADEvwAAAAAAgNG/AAAAAACAyL8AAAAAAADQvwAAAAAAAMW/AAAAAAAAzb8AAAAAAADFvwAAAAAAANC/AAAAAACAx78AAAAAAADPvwAAAAAAgMa/AAAAAAAAvb8AAAAAAADDvwAAAAAAQNG/AAAAAACAx78AAAAAAIDPvwAAAAAAgMW/AAAAAACAzb8AAAAAAIDFvwAAAAAAgM+/AAAAAACAxr8AAAAAAIDNvwAAAAAAAMa/AAAAAAAAvL8AAAAAAIDEvwAAAAAAQNG/AAAAAAAAx78AAAAAAADPvwAAAAAAAMW/AAAAAAAAzb8AAAAAAADGvwAAAAAAQNC/AAAAAAAAx78AAAAAAADOvwAAAAAAgMW/AAAAAAAAu78AAAAAAIDDvwAAAAAAQNG/AAAAAAAAx78AAAAAAADPvwAAAAAAgMS/AAAAAAAAzb8AAAAAAADFvwAAAAAAgM2/AAAAAAAAxr8AAAAAAIDOvwAAAAAAgMe/AAAAAAAAvr8AAAAAAIDEvwAAAAAAQNG/AAAAAAAAyL8AAAAAAIDPvwAAAAAAAMa/AAAAAAAAzr8AAAAAAIDGvwAAAAAAQNC/AAAAAACAx78AAAAAAIDOvwAAAAAAAMe/AAAAAAAAvb8AAAAAAADFvwAAAAAAANK/AAAAAAAAyL8AAAAAAADPvwAAAAAAgMW/AAAAAACAzb8AAAAAAIDFvwAAAAAAQNC/AAAAAACAx78AAAAAAIDOvwAAAAAAgMW/AAAAAACAzr8AAAAAAIDDvwAAAAAAAL+/AAAAAAAAw78AAAAAAADRvwAAAAAAAMW/AAAAAABA0b8AAAAAAIDSvwAAAAAAAMm/AAAAAADA0L8AAAAAAEDYvwAAAAAAAMK/AAAAAACAzb8AAAAAAADFvwAAAAAAgM2/AAAAAACAxL8AAAAAAADNvwAAAAAAgMW/AAAAAACAzr8AAAAAAIDGvwAAAAAAgM6/AAAAAAAAxr8AAAAAAAC9vwAAAAAAAMS/AAAAAACA0b8AAAAAAIDIvwAAAAAAgNC/AAAAAACAxb8AAAAAAIDNvwAAAAAAgMa/AAAAAABA0L8AAAAAAADIvwAAAAAAgM+/AAAAAACAx78AAAAAAAC+vwAAAAAAAMS/AAAAAAAA0b8AAAAAAIDHvwAAAAAAANC/AAAAAACAxb8AAAAAAIDNvwAAAAAAgMa/AAAAAAAA0L8AAAAAAADHvwAAAAAAgM6/AAAAAACAxr8AAAAAAAC9vwAAAAAAgMS/AAAAAACA0b8AAAAAAADIvwAAAAAAAM+/AAAAAAAAxb8AAAAAAIDNvwAAAAAAgMW/AAAAAABA0L8AAAAAAADIvwAAAAAAgM6/AAAAAACAxr8AAAAAAAC9vwAAAAAAAMS/AAAAAABA0b8AAAAAAIDGvwAAAAAAAM+/AAAAAACAxb8AAAAAAIDNvwAAAAAAAMW/AAAAAACAzb8AAAAAAADGvwAAAAAAgM6/AAAAAACAx78AAAAAAAC/vwAAAAAAAMW/AAAAAABA0b8AAAAAAADIvwAAAAAAgM+/AAAAAAAAxr8AAAAAAADOvwAAAAAAgMe/AAAAAABA0L8AAAAAAIDHvwAAAAAAgM6/AAAAAACAxr8AAAAAAAC9vwAAAAAAAMS/AAAAAACA0b8AAAAAAIDIvwAAAAAAgM+/AAAAAAAAxb8AAAAAAIDNvwAAAAAAAMa/AAAAAABA0L8AAAAAAIDIvwAAAAAAANC/AAAAAAAAx78AAAAAAAC9vwAAAAAAgMO/AAAAAABA0b8AAAAAAIDGvwAAAAAAAM+/AAAAAAAAxr8AAAAAAIDNvwAAAAAAgMW/AAAAAACAzr8AAAAAAIDGvwAAAAAAAM+/AAAAAACAyL8AAAAAAADQvwAAAAAAAMW/AAAAAAAAwL8AAAAAAADCvwAAAAAAANG/AAAAAACAxb8AAAAAAADSvwAAAAAAwNK/AAAAAACAyr8AAAAAAADRvwAAAAAAQNi/AAAAAAAAwr8AAAAAAADOvwAAAAAAgMa/AAAAAAAA0L8AAAAAAADGvwAAAAAAgM2/AAAAAACAxb8AAAAAAEDQvwAAAAAAAMe/AAAAAACAzr8AAAAAAIDGvwAAAAAAAL2/AAAAAAAAxL8AAAAAAADRvwAAAAAAAMi/AAAAAAAA0L8AAAAAAADFvwAAAAAAgM2/AAAAAAAAxr8AAAAAAIDQvwAAAAAAgMa/AAAAAAAAzr8AAAAAAIDFvwAAAAAAALu/AAAAAAAAxL8AAAAAAEDRvwAAAAAAAMi/AAAAAABA0L8AAAAAAADFvwAAAAAAgM2/AAAAAACAxb8AAAAAAADQvwAAAAAAgMe/AAAAAAAAz78AAAAAAIDGvwAAAAAAALu/AAAAAACAw78AAAAAAADRvwAAAAAAAMi/AAAAAACAz78AAAAAAADFvwAAAAAAgM2/AAAAAACAxb8AAAAAAADQvwAAAAAAAMe/AAAAAACAzr8AAAAAAIDGvwAAAAAAAL6/AAAAAACAxL8AAAAAAEDRvwAAAAAAgMW/AAAAAAAAz78AAAAAAADFvwAAAAAAgM2/AAAAAACAxb8AAAAAAIDNvwAAAAAAAMa/AAAAAACAzr8AAAAAAIDGvwAAAAAAAL+/AAAAAAAAxb8AAAAAAMDRvwAAAAAAgMi/AAAAAACA0L8AAAAAAIDFvwAAAAAAgM2/AAAAAACAxb8AAAAAAIDQvwAAAAAAAMi/AAAAAAAAz78AAAAAAADIvwAAAAAAAL2/AAAAAAAAxL8AAAAAAEDRvwAAAAAAgMi/AAAAAABA0L8AAAAAAADGvwAAAAAAgM6/AAAAAAAAxr8AAAAAAEDQvwAAAAAAAMe/AAAAAACAzr8AAAAAAADGvwAAAAAAAL6/AAAAAACAxL8AAAAAAIDRvwAAAAAAgMi/AAAAAACAz78AAAAAAIDFvwAAAAAAgM2/AAAAAACAxb8AAAAAAEDQvwAAAAAAAMi/AAAAAAAAz78AAAAAAIDGvwAAAAAAgM6/AAAAAACAw78AAAAAAAC9vwAAAAAAAMO/AAAAAAAA0b8AAAAAAADFvwAAAAAAgNG/AAAAAACA0r8AAAAAAIDJvwAAAAAAwNC/AAAAAABA2L8AAAAAAADCvwAAAAAAgM2/AAAAAACAxL8AAAAAAADOvwAAAAAAgMS/AAAAAAAAzb8AAAAAAADFvwAAAAAAgM2/AAAAAAAAxr8AAAAAAADOvwAAAAAAAMe/AAAAAAAAvr8AAAAAAIDEvwAAAAAAwNG/AAAAAAAAyb8AAAAAAIDQvwAAAAAAgMW/AAAAAACAzb8AAAAAAADGvwAAAAAAANC/AAAAAAAAyL8AAAAAAADPvwAAAAAAgMe/AAAAAAAAvr8AAAAAAIDDvwAAAAAAQNG/AAAAAAAAx78AAAAAAIDPvwAAAAAAAMa/AAAAAACAzb8AAAAAAADGvwAAAAAAgM6/AAAAAACAxb8AAAAAAIDOvwAAAAAAgMa/AAAAAAAAv78AAAAAAADFvwAAAAAAQNK/AAAAAAAAx78AAAAAAIDPvwAAAAAAgMW/AAAAAACAzb8AAAAAAADGvwAAAAAAgM+/AAAAAACAx78AAAAAAADQvwAAAAAAAMi/AAAAAAAAvb8AAAAAAADFvwAAAAAAANK/AAAAAAAAyL8AAAAAAEDQvwAAAAAAgMa/AAAAAACAzr8AAAAAAIDFvwAAAAAAAM+/AAAAAAAAx78AAAAAAIDPvwAAAAAAAMm/AAAAAACAwL8AAAAAAIDFvwAAAAAAANK/AAAAAAAAyL8AAAAAAEDQvwAAAAAAgMa/AAAAAAAAz78AAAAAAIDHvwAAAAAAANG/AAAAAACAyL8AAAAAAADQvwAAAAAAgMe/AAAAAAAAv78AAAAAAADFvwAAAAAAANK/AAAAAAAAyL8AAAAAAADQvwAAAAAAgMW/AAAAAACAzb8AAAAAAIDFvwAAAAAAAM+/AAAAAAAAyL8AAAAAAIDPvwAAAAAAAMi/AAAAAAAAv78AAAAAAIDFvwAAAAAAANK/AAAAAAAAyb8AAAAAAEDQvwAAAAAAAMe/AAAAAACAzr8AAAAAAIDGvwAAAAAAgM6/AAAAAACAxr8AAAAAAIDPvwAAAAAAgMi/AAAAAABA0L8AAAAAAIDFvwAAAAAAAMC/AAAAAACAw78AAAAAAEDRvwAAAAAAAMa/AAAAAAAA0r8AAAAAAEDTvwAAAAAAgMu/AAAAAAAA0b8AAAAAAMDYvwAAAAAAgMK/AAAAAACAzb8AAAAAAADHvwAAAAAAANC/AAAAAACAxr8AAAAAAIDNvwAAAAAAgMW/AAAAAABA0L8AAAAAAADIvwAAAAAAAM+/AAAAAAAAx78AAAAAAAC+vwAAAAAAgMS/AAAAAABA0b8AAAAAAIDGvwAAAAAAANC/AAAAAACAxb8AAAAAAIDNvwAAAAAAAMa/AAAAAACA0L8AAAAAAADHvwAAAAAAAM+/AAAAAACAxr8AAAAAAAC9vwAAAAAAgMS/AAAAAADA0b8AAAAAAIDIvwAAAAAAANC/AAAAAAAAxb8AAAAAAADNvwAAAAAAgMW/AAAAAAAA0L8AAAAAAIDHvwAAAAAAAM+/AAAAAAAAxr8AAAAAAAC7vwAAAAAAgMO/AAAAAAAA0b8AAAAAAADHvwAAAAAAAM+/AAAAAACAxb8AAAAAAIDNvwAAAAAAAMW/AAAAAAAAzb8AAAAAAIDFvwAAAAAAgM6/AAAAAAAAxr8AAAAAAAC+vwAAAAAAAMW/AAAAAACA0b8AAAAAAADIvwAAAAAAANC/AAAAAACAxb8AAAAAAADOvwAAAAAAgMa/AAAAAACA0L8AAAAAAIDHvwAAAAAAgM6/AAAAAAAAxr8AAAAAAAC9vwAAAAAAgMO/AAAAAACA0b8AAAAAAIDIvwAAAAAAQNC/AAAAAACAxb8AAAAAAIDNvwAAAAAAgMW/AAAAAABA0L8AAAAAAIDHvwAAAAAAgM6/AAAAAACAx78AAAAAAAC8vwAAAAAAAMO/AAAAAABA0b8AAAAAAADHvwAAAAAAANC/AAAAAACAxb8AAAAAAIDNvwAAAAAAAMW/AAAAAABA0L8AAAAAAIDGvwAAAAAAgM6/AAAAAACAxr8AAAAAAAC+vwAAAAAAAMW/AAAAAABA0b8AAAAAAIDHvwAAAAAAAM+/AAAAAACAxb8AAAAAAIDNvwAAAAAAAMa/AAAAAABA0L8AAAAAAIDHvwAAAAAAgM6/AAAAAAAAxr8AAAAAAIDOvwAAAAAAgMO/AAAAAAAAvr8AAAAAAIDCvwAAAAAAANG/AAAAAACAxL8AAAAAAADRvwAAAAAAwNG/AAAAAACAyb8AAAAAAMDQvwAAAAAAANi/AAAAAAAAwr8AAAAAAIDNvwAAAAAAAMW/AAAAAACAzr8AAAAAAIDEvwAAAAAAgM2/AAAAAACAxb8AAAAAAEDQvwAAAAAAAMe/AAAAAAAAzr8AAAAAAADGvwAAAAAAALu/AAAAAACAw78AAAAAAADRvwAAAAAAAMe/AAAAAAAA0L8AAAAAAADFvwAAAAAAgM2/AAAAAACAxb8AAAAAAADQvwAAAAAAgMe/AAAAAACAzr8AAAAAAIDGvwAAAAAAAL2/AAAAAAAAw78AAAAAAADRvwAAAAAAgMW/AAAAAACAzr8AAAAAAIDFvwAAAAAAgM2/AAAAAACAxb8AAAAAAIDNvwAAAAAAgMW/AAAAAACAzr8AAAAAAIDHvwAAAAAAAL+/AAAAAAAAxb8AAAAAAADSvwAAAAAAgMa/AAAAAAAAz78AAAAAAIDFvwAAAAAAgM2/AAAAAACAxb8AAAAAAADOvwAAAAAAgMa/AAAAAAAAz78AAAAAAADIvwAAAAAAAL+/AAAAAAAAxb8AAAAAAADSvwAAAAAAAMm/AAAAAACA0L8AAAAAAADHvwAAAAAAAM6/AAAAAAAAxr8AAAAAAMDQvwAAAAAAAMi/AAAAAAAA0L8AAAAAAIDHvwAAAAAAAL+/AAAAAACAxL8AAAAAAIDRvwAAAAAAAMi/AAAAAAAA0L8AAAAAAADGvwAAAAAAgM6/AAAAAACAx78AAAAAAMDQvwAAAAAAAMe/AAAAAACAzr8AAAAAAADHvwAAAAAAAL2/AAAAAAAAxb8AAAAAAIDRvwAAAAAAgMa/AAAAAAAAz78AAAAAAADFvwAAAAAAgM2/AAAAAAAAxr8AAAAAAADPvwAAAAAAgMa/AAAAAACAz78AAAAAAIDHvwAAAAAAAL6/AAAAAACAxL8AAAAAAMDRvwAAAAAAgMe/AAAAAABA0L8AAAAAAIDFvwAAAAAAAM6/AAAAAACAxb8AAAAAAIDOvwAAAAAAAMe/AAAAAAAA0L8AAAAAAIDIvwAAAAAAQNC/AAAAAACAxb8AAAAAAADAvwAAAAAAgMO/AAAAAABA0b8AAAAAAIDFvwAAAAAAANK/AAAAAABA078AAAAAAIDLvwAAAAAAQNG/AAAAAACA2L8AAAAAAADDvwAAAAAAAM6/AAAAAACAxb8AAAAAAIDPvwAAAAAAgMW/AAAAAACAzb8AAAAAAIDFvwAAAAAAgM2/AAAAAAAAxr8AAAAAAIDOvwAAAAAAgMe/AAAAAAAAwL8AAAAAAADFvwAAAAAAwNG/AAAAAACAxr8AAAAAAADQvwAAAAAAAMa/AAAAAACAzr8AAAAAAIDGvwAAAAAAAM+/AAAAAAAAx78AAAAAAIDOvwAAAAAAgMe/AAAAAAAAwL8AAAAAAIDFvwAAAAAAQNK/AAAAAACAx78AAAAAAIDPvwAAAAAAAMa/AAAAAACAzr8AAAAAAIDGvwAAAAAAAM+/AAAAAACAyL8AAAAAAADQvwAAAAAAAMi/AAAAAAAAvr8AAAAAAADFvwAAAAAAANK/AAAAAACAyL8AAAAAAEDQvwAAAAAAAMe/AAAAAACAzr8AAAAAAADGvwAAAAAAAM+/AAAAAAAAyL8AAAAAAADQvwAAAAAAAMi/AAAAAACAwb8AAAAAAADGvwAAAAAAgNK/AAAAAACAyL8AAAAAAEDQvwAAAAAAgMa/AAAAAAAAz78AAAAAAIDIvwAAAAAAANG/AAAAAACAyL8AAAAAAIDPvwAAAAAAAMe/AAAAAAAAv78AAAAAAIDFvwAAAAAAANK/AAAAAACAyb8AAAAAAADQvwAAAAAAgMW/AAAAAACAzb8AAAAAAADGvwAAAAAAgNC/AAAAAACAyL8AAAAAAADQvwAAAAAAgMe/AAAAAAAAvr8AAAAAAADEvwAAAAAAwNG/AAAAAAAAx78AAAAAAADQvwAAAAAAAMa/AAAAAACAzr8AAAAAAADGvwAAAAAAAM6/AAAAAACAxr8AAAAAAIDOvwAAAAAAAMi/AAAAAAAAwL8AAAAAAIDFvwAAAAAAANK/AAAAAACAx78AAAAAAADQvwAAAAAAAMa/AAAAAACAzr8AAAAAAIDGvwAAAAAAAM+/AAAAAACAx78AAAAAAADPvwAAAAAAgMe/AAAAAAAA0L8AAAAAAIDFvwAAAAAAAMG/AAAAAAAAxL8AAAAAAIDRvwAAAAAAAMa/AAAAAABA0r8AAAAAAEDTvwAAAAAAgMq/AAAAAABA0b8AAAAAAMDYvwAAAAAAAMO/AAAAAACAzb8AAAAAAIDFvwAAAAAAgM6/AAAAAACAxb8AAAAAAIDNvwAAAAAAAMa/AAAAAACAzr8AAAAAAIDGvwAAAAAAgM6/AAAAAACAx78AAAAAAAC+vwAAAAAAgMW/AAAAAABA0r8AAAAAAIDJvwAAAAAAgNC/AAAAAACAxb8AAAAAAADOvwAAAAAAAMa/AAAAAADA0L8AAAAAAIDIvwAAAAAAANC/AAAAAACAx78AAAAAAAC+vwAAAAAAgMS/AAAAAACA0b8AAAAAAADHvwAAAAAAgM+/AAAAAACAxr8AAAAAAADOvwAAAAAAgMW/AAAAAACAzr8AAAAAAIDGvwAAAAAAgM6/AAAAAACAx78AAAAAAADAvwAAAAAAgMW/AAAAAADA0b8AAAAAAIDIvwAAAAAAQNC/AAAAAACAxr8AAAAAAIDOvwAAAAAAAMe/AAAAAAAA0b8AAAAAAADJvwAAAAAAAM+/AAAAAACAxr8AAAAAAAC9vwAAAAAAAMS/AAAAAACA0b8AAAAAAADJvwAAAAAAgNC/AAAAAAAAxr8AAAAAAADNvwAAAAAAgMW/AAAAAABA0L8AAAAAAIDHvwAAAAAAgM+/AAAAAAAAx78AAAAAAAC+vwAAAAAAgMO/AAAAAABA0b8AAAAAAIDGvwAAAAAAAM+/AAAAAACAxb8AAAAAAIDNvwAAAAAAgMW/AAAAAACAzr8AAAAAAADGvwAAAAAAAM+/AAAAAACAx78AAAAAAADAvwAAAAAAAMW/AAAAAAAA0r8AAAAAAIDIvwAAAAAAQNC/AAAAAACAxb8AAAAAAADOvwAAAAAAAMa/AAAAAABA0L8AAAAAAIDIvwAAAAAAgM+/AAAAAACAxr8AAAAAAAC9vwAAAAAAgMS/AAAAAACA0b8AAAAAAIDHvwAAAAAAQNC/AAAAAAAAxr8AAAAAAIDNvwAAAAAAgMW/AAAAAACAzr8AAAAAAIDGvwAAAAAAgM6/AAAAAACAyL8AAAAAAADQvwAAAAAAgMS/AAAAAAAAv78AAAAAAADDvwAAAAAAANG/AAAAAACAxb8AAAAAAADSvwAAAAAAANO/AAAAAACAyr8AAAAAAADRvwAAAAAAQNi/AAAAAACAwr8AAAAAAADPvwAAAAAAgMa/AAAAAACAz78AAAAAAIDFvwAAAAAAAM2/AAAAAACAxb8AAAAAAEDQvwAAAAAAgMe/AAAAAACAz78AAAAAAIDGvwAAAAAAAL6/AAAAAACAw78AAAAAAADRvwAAAAAAgMW/AAAAAAAAz78AAAAAAADFvwAAAAAAAM6/AAAAAACAxb8AAAAAAIDNvwAAAAAAgMa/AAAAAACAzr8AAAAAAIDHvwAAAAAAAL+/AAAAAACAxb8AAAAAAADSvwAAAAAAAMe/AAAAAACAz78AAAAAAIDFvwAAAAAAgM2/AAAAAAAAxr8AAAAAAADPvwAAAAAAgMe/AAAAAACAz78AAAAAAIDHvwAAAAAAAL6/AAAAAACAxL8AAAAAAEDSvwAAAAAAAMm/AAAAAACA0L8AAAAAAIDGvwAAAAAAgM2/AAAAAACAxr8AAAAAAMDQvwAAAAAAgMi/AAAAAAAAz78AAAAAAIDHvwAAAAAAAL+/AAAAAACAxL8AAAAAAIDRvwAAAAAAgMa/AAAAAACAz78AAAAAAADGvwAAAAAAgM6/AAAAAACAxr8AAAAAAADPvwAAAAAAAMa/AAAAAACAzr8AAAAAAADHvwAAAAAAAL+/AAAAAAAAxb8AAAAAAEDSvwAAAAAAAMm/AAAAAACA0L8AAAAAAADGvwAAAAAAAM6/AAAAAAAAxr8AAAAAAADRvwAAAAAAgMi/AAAAAAAA0L8AAAAAAIDHvwAAAAAAAL2/AAAAAACAxL8AAAAAAMDRvwAAAAAAgMe/AAAAAACAz78AAAAAAIDGvwAAAAAAgM2/AAAAAACAxb8AAAAAAIDOvwAAAAAAAMe/AAAAAACAzr8AAAAAAADIvwAAAAAAgMC/AAAAAACAxb8AAAAAAADSvwAAAAAAAMi/AAAAAACA0L8AAAAAAADGvwAAAAAAgM6/AAAAAACAxr8AAAAAAADRvwAAAAAAgMe/AAAAAAAAz78AAAAAAIDGvwAAAAAAgM6/AAAAAACAxL8AAAAAAAC/vwAAAAAAgMO/AAAAAAAA0b8AAAAAAIDEvwAAAAAAANG/AAAAAACA0r8AAAAAAADKvwAAAAAAANG/AAAAAACA2L8AAAAAAADDvwAAAAAAgM6/AAAAAAAAxb8AAAAAAIDNvwAAAAAAAMW/AAAAAACAzb8AAAAAAIDFvwAAAAAAgM6/AAAAAAAAxr8AAAAAAIDNvwAAAAAAgMa/AAAAAAAAvb8AAAAAAIDEvwAAAAAAgNG/AAAAAACAyL8AAAAAAADQvwAAAAAAgMW/AAAAAACAzb8AAAAAAADGvwAAAAAAgNC/AAAAAACAyL8AAAAAAIDPvwAAAAAAgMe/AAAAAAAAvb8AAAAAAIDDvwAAAAAAQNG/AAAAAAAAx78AAAAAAADPvwAAAAAAAMW/AAAAAAAAzr8AAAAAAADGvwAAAAAAQNC/AAAAAACAx78AAAAAAADPvwAAAAAAAMe/AAAAAAAAv78AAAAAAADFvwAAAAAAQNG/AAAAAACAxr8AAAAAAADPvwAAAAAAgMS/AAAAAACAzb8AAAAAAADFvwAAAAAAgM6/AAAAAAAAxr8AAAAAAIDOvwAAAAAAgMe/AAAAAAAAv78AAAAAAADFvwAAAAAAANK/AAAAAAAAyL8AAAAAAEDQvwAAAAAAgMW/AAAAAACAzb8AAAAAAIDFvwAAAAAAgM6/AAAAAACAx78AAAAAAADPvwAAAAAAgMi/AAAAAAAAvr8AAAAAAADFvwAAAAAAgNG/AAAAAAAAyb8AAAAAAIDQvwAAAAAAgMe/AAAAAACAzr8AAAAAAADHvwAAAAAAgNC/AAAAAACAx78AAAAAAIDPvwAAAAAAgMe/AAAAAAAAv78AAAAAAADFvwAAAAAAANK/AAAAAACAyL8AAAAAAADQvwAAAAAAAMa/AAAAAACAzb8AAAAAAADGvwAAAAAAgNC/AAAAAACAyL8AAAAAAADPvwAAAAAAgMa/AAAAAAAAvb8AAAAAAIDDvwAAAAAAgNG/AAAAAACAyL8AAAAAAEDQvwAAAAAAAMa/AAAAAACAzb8AAAAAAIDFvwAAAAAAQNC/AAAAAACAx78AAAAAAIDOvwAAAAAAAMe/AAAAAAAAz78AAAAAAIDDvwAAAAAAAL2/AAAAAAAAwr8AAAAAAMDQvwAAAAAAgMS/AAAAAADA0b8AAAAAAMDSvwAAAAAAAMq/AAAAAACA0L8AAAAAAADYvwAAAAAAgMK/AAAAAACAzb8AAAAAAIDGvwAAAAAAAM+/AAAAAAAAxb8AAAAAAIDMvwAAAAAAgMS/AAAAAACAz78AAAAAAADHvwAAAAAAgM6/AAAAAAAAxr8AAAAAAAC7vwAAAAAAAMO/AAAAAAAA0b8AAAAAAIDHvwAAAAAAAM+/AAAAAAAAxb8AAAAAAIDNvwAAAAAAAMa/AAAAAAAA0L8AAAAAAIDGvwAAAAAAgM6/AAAAAACAxb8AAAAAAAC7vwAAAAAAAMS/AAAAAACA0b8AAAAAAADGvwAAAAAAgM6/AAAAAAAAxb8AAAAAAIDNvwAAAAAAgMW/AAAAAACAzb8AAAAAAIDGvwAAAAAAAM+/AAAAAAAAx78AAAAAAAC9vwAAAAAAAMW/AAAAAACA0b8AAAAAAIDHvwAAAAAAQNC/AAAAAACAxr8AAAAAAIDNvwAAAAAAgMW/AAAAAACAzr8AAAAAAADHvwAAAAAAAM+/AAAAAAAAyL8AAAAAAIDAvwAAAAAAAMW/AAAAAAAA0r8AAAAAAIDIvwAAAAAAANC/AAAAAACAxb8AAAAAAIDOvwAAAAAAgMa/AAAAAAAA0b8AAAAAAADIvwAAAAAAANC/AAAAAACAx78AAAAAAAC+vwAAAAAAAMW/AAAAAAAA0r8AAAAAAIDIvwAAAAAAANC/AAAAAACAxb8AAAAAAIDNvwAAAAAAAMa/AAAAAACAzr8AAAAAAIDHvwAAAAAAAM+/AAAAAAAAyL8AAAAAAADAvwAAAAAAgMW/AAAAAAAA0r8AAAAAAIDHvwAAAAAAQNC/AAAAAAAAyL8AAAAAAIDOvwAAAAAAgMW/AAAAAACAzr8AAAAAAIDGvwAAAAAAAM+/AAAAAAAAyL8AAAAAAIDAvwAAAAAAgMW/AAAAAABA0r8AAAAAAADJvwAAAAAAQNC/AAAAAACAxr8AAAAAAADPvwAAAAAAAMi/AAAAAACA0b8AAAAAAIDIvwAAAAAAAM+/AAAAAACAx78AAAAAAIDPvwAAAAAAgMS/AAAAAAAAwL8AAAAAAIDDvwAAAAAAQNG/AAAAAAAAxb8AAAAAAEDQvwAAAAAAgNi/AAAAAABA2L8AAAAAAADZvwAAAAAAwNi/AAAAAAAA2L8AAAAAAADKvwAAAAAAQNC/AAAAAACAxb8AAAAAAADOvwAAAAAAgMK/AAAAAACAzL8AAAAAAEDWvwAAAAAAAL2/AAAAAAAAzL8AAAAAAADCvwAAAAAAgM2/AAAAAAAAwL8AAAAAAADNvwAAAAAAANe/AAAAAACAw78AAAAAAIDJvwAAAAAAAMK/AAAAAACAwL8AAAAAAADQvwAAAAAAAMa/AAAAAACAz78AAAAAAMDVvwAAAAAAQNi/AAAAAABA1r8AAAAAAAC9vwAAAAAAAMe/AAAAAACAwb8AAAAAAIDPvwAAAAAAgMe/AAAAAACAz78AAAAAAEDXvwAAAAAAAL+/AAAAAAAAyr8AAAAAAADDvwAAAAAAgMG/AAAAAABA0L8AAAAAAIDEvwAAAAAAgM2/AAAAAACAxr8AAAAAAACcvwAAAAAAgMO/AAAAAAAA0L8AAAAAAIDEvwAAAAAAgNC/AAAAAACAx78AAAAAAEDQvwAAAAAAgNe/AAAAAAAAwb8AAAAAAIDKvwAAAAAAgMO/AAAAAAAAw78AAAAAAIDQvwAAAAAAAMW/AAAAAACAzb8AAAAAAIDHvwAAAAAAAKK/AAAAAACAxL8AAAAAAIDQvwAAAAAAgMS/AAAAAABA0L8AAAAAAIDHvwAAAAAAgNC/AAAAAADA178AAAAAAADCvwAAAAAAAMy/AAAAAAAAw78AAAAAAADCvwAAAAAAQNC/AAAAAAAAxb8AAAAAAIDOvwAAAAAAgMe/AAAAAAAApr8AAAAAAIDEvwAAAAAAQNC/AAAAAAAAxL8AAAAAAIDQvwAAAAAAgMi/AAAAAACA0L8AAAAAAEDYvwAAAAAAAMK/AAAAAAAAy78AAAAAAADDvwAAAAAAAMO/AAAAAACA0L8AAAAAAADFvwAAAAAAAM+/AAAAAACAx78AAAAAAACkvwAAAAAAAMS/AAAAAAAA0L8AAAAAAIDEvwAAAAAAQNC/AAAAAAAAyb8AAAAAAIDQvwAAAAAAgNi/AAAAAACAwb8AAAAAAADLvwAAAAAAgMO/AAAAAACAw78AAAAAAIDQvwAAAAAAAMa/AAAAAACAz78AAAAAAADIvwAAAAAAAKK/AAAAAAAAxL8AAAAAAEDQvwAAAAAAgMW/AAAAAADA0L8AAAAAAADJvwAAAAAAANG/AAAAAABA2L8AAAAAAADCvwAAAAAAgMu/AAAAAAAAw78AAAAAAADEvwAAAAAAwNC/AAAAAAAAxr8AAAAAAIDOvwAAAAAAAMe/AAAAAAAAor8AAAAAAIDEvwAAAAAAQNC/AAAAAACAxb8AAAAAAMDQvwAAAAAAgMm/AAAAAAAA0b8AAAAAAADYvwAAAAAAgMG/AAAAAAAAzL8AAAAAAIDDvwAAAAAAAMW/AAAAAADA0L8AAAAAAIDFvwAAAAAAgM6/AAAAAACAx78AAAAAAACkvwAAAAAAgMS/AAAAAACA0L8AAAAAAIDFvwAAAAAAwNC/AAAAAACAyL8AAAAAAMDQvwAAAAAAANi/AAAAAAAAwr8AAAAAAIDMvwAAAAAAAMS/AAAAAAAAxL8AAAAAAIDQvwAAAAAAgMW/AAAAAAAAz78AAAAAAADIvwAAAAAAAKa/AAAAAACAxb8AAAAAAMDQvwAAAAAAgMW/AAAAAACA0L8AAAAAAIDJvwAAAAAAwNC/AAAAAABA2L8AAAAAAADCvwAAAAAAgMy/AAAAAAAAxL8AAAAAAADDvwAAAAAAgNC/AAAAAACAxb8AAAAAAADPvwAAAAAAAMi/AAAAAAAAqL8AAAAAAADFvwAAAAAAgNC/AAAAAAAAxb8AAAAAAADRvwAAAAAAgMm/AAAAAAAA0b8AAAAAAEDYvwAAAAAAAMK/AAAAAACAy78AAAAAAIDDvwAAAAAAAMS/AAAAAADA0L8AAAAAAIDGvwAAAAAAAM+/AAAAAACAyL8AAAAAAACkvwAAAAAAgMS/AAAAAADA0L8AAAAAAIDFvwAAAAAAANG/AAAAAAAAyr8AAAAAAADRvwAAAAAAANi/AAAAAACAwb8AAAAAAADMvwAAAAAAgMO/AAAAAAAAxL8AAAAAAADRvwAAAAAAgMW/AAAAAACAz78AAAAAAIDHvwAAAAAAAKS/AAAAAACAxL8AAAAAAADRvwAAAAAAgMW/AAAAAAAA0b8AAAAAAADKvwAAAAAAANG/AAAAAABA2L8AAAAAAIDBvwAAAAAAAMy/AAAAAAAAxL8AAAAAAIDEvwAAAAAAANG/AAAAAACAxb8AAAAAAIDOvwAAAAAAAMi/AAAAAAAApL8AAAAAAIDFvwAAAAAAwNC/AAAAAAAAxr8AAAAAAMDQvwAAAAAAAMm/AAAAAADA0L8AAAAAAADYvwAAAAAAgMK/AAAAAAAAzL8AAAAAAADEvwAAAAAAAMS/AAAAAADA0L8AAAAAAIDFvwAAAAAAgM+/AAAAAAAAyL8AAAAAAACmvwAAAAAAgMW/AAAAAADA0L8AAAAAAIDFvwAAAAAAwNC/AAAAAACAyb8AAAAAAADRvwAAAAAAQNi/AAAAAACAwr8AAAAAAADNvwAAAAAAAMW/AAAAAACAw78AAAAAAMDQvwAAAAAAAMa/AAAAAAAAz78AAAAAAIDIvwAAAAAAAKq/AAAAAACAxb8AAAAAAIDQvwAAAAAAAMW/AAAAAACA0L8AAAAAAIDIvwAAAAAAANG/AAAAAABA2L8AAAAAAIDCvwAAAAAAAMy/AAAAAACAw78AAAAAAIDDvwAAAAAAwNC/AAAAAACAxr8AAAAAAEDQvwAAAAAAAMi/AAAAAAAApr8AAAAAAADFvwAAAAAAgNC/AAAAAACAxb8AAAAAAADRvwAAAAAAAMq/AAAAAAAA0b8AAAAAAEDYvwAAAAAAAMK/AAAAAAAAzL8AAAAAAIDEvwAAAAAAAMS/AAAAAAAA0b8AAAAAAIDGvwAAAAAAgM+/AAAAAAAAyL8AAAAAAACkvwAAAAAAAMS/AAAAAACA0L8AAAAAAIDFvwAAAAAAANG/AAAAAAAAyb8AAAAAAADRvwAAAAAAANi/AAAAAAAAwr8AAAAAAADMvwAAAAAAgMS/AAAAAAAAxL8AAAAAAADRvwAAAAAAgMW/AAAAAACAzr8AAAAAAIDHvwAAAAAAAKS/AAAAAACAxL8AAAAAAIDQvwAAAAAAgMW/AAAAAAAA0b8AAAAAAADJvwAAAAAAwNC/AAAAAAAA2L8AAAAAAIDCvwAAAAAAAMy/AAAAAAAAxb8AAAAAAADEvwAAAAAAwNC/AAAAAACAxb8AAAAAAIDOvwAAAAAAAMe/AAAAAAAApr8AAAAAAIDEvwAAAAAAgNC/AAAAAACAxL8AAAAAAIDQvwAAAAAAgMi/AAAAAAAA0b8AAAAAAADYvwAAAAAAAMK/AAAAAACAzL8AAAAAAIDDvwAAAAAAAMO/AAAAAACA0L8AAAAAAIDFvwAAAAAAgM+/AAAAAAAAyL8AAAAAAACmvwAAAAAAAMW/AAAAAABA0L8AAAAAAADFvwAAAAAAANG/AAAAAACAyb8AAAAAAADRvwAAAAAAwNi/AAAAAACAw78AAAAAAADNvwAAAAAAAMW/AAAAAAAAzb8AAAAAAADYvwAAAAAAAMe/AAAAAACAyr8AAAAAAIDFvwAAAAAAgM6/AAAAAAAAx78AAAAAAACkvwAAAAAAgMS/AAAAAACA0L8AAAAAAIDEvwAAAAAAANC/AAAAAAAAxb8AAAAAAIDNvwAAAAAAQNa/AAAAAABA2L8AAAAAAADYvwAAAAAAgMm/AAAAAABA0L8AAAAAAIDHvwAAAAAAgM2/AAAAAABA178AAAAAAAC9vwAAAAAAAM2/AAAAAAAA2L8AAAAAAIDIvwAAAAAAAM+/AAAAAACAxL8AAAAAAIDIvwAAAAAAgNa/AAAAAABA1r8AAAAAAADWvwAAAAAAANW/AAAAAAAAu78AAAAAAADMvwAAAAAAgMO/AAAAAAAAy78AAAAAAADWvwAAAAAAAMC/AAAAAAAAvL8AAAAAAADBvwAAAAAAgMu/AAAAAABA178AAAAAAADHvwAAAAAAgM2/AAAAAACAxL8AAAAAAADJvwAAAAAAQNa/AAAAAABA1r8AAAAAAMDVvwAAAAAAQNW/AAAAAADA078AAAAAAAC0vwAAAAAAgMm/AAAAAACA1b8AAAAAAAC8vwAAAAAAAMy/AAAAAADA1b8AAAAAAADEvwAAAAAAAMW/AAAAAAAA1b8AAAAAAIDGvwAAAAAAgM2/AAAAAAAAxb8AAAAAAADMvwAAAAAAAMG/AAAAAAAAy78AAAAAAADCvwAAAAAAgMy/AAAAAACAw78AAAAAAADNvwAAAAAAAMK/AAAAAAAAzL8AAAAAAIDWvwAAAAAAAMK/AAAAAACAzb8AAAAAAADDvwAAAAAAALu/AAAAAAAA0L8AAAAAAADHvwAAAAAAgM6/AAAAAAAAxb8AAAAAAADNvwAAAAAAwNW/AAAAAAAAyL8AAAAAAADNvwAAAAAAgMG/AAAAAACAy78AAAAAAEDXvwAAAAAAgMO/AAAAAACAyb8AAAAAAIDWvwAAAAAAALu/AAAAAAAAy78AAAAAAEDWvwAAAAAAALy/AAAAAACAy78AAAAAAEDXvwAAAAAAwNa/AAAAAAAAxr8AAAAAAIDMvwAAAAAAAMW/AAAAAAAAwb8AAAAAAADMvwAAAAAAANa/AAAAAAAAwL8AAAAAAADMvwAAAAAAgNa/AAAAAAAAxL8AAAAAAACcPwAAAAAAAMC/AAAAAAAAz78AAAAAAADHvwAAAAAAAM6/AAAAAABA178AAAAAAADDvwAAAAAAAMe/AAAAAADA1r8AAAAAAADCvwAAAAAAgM+/AAAAAACAxL8AAAAAAADOvwAAAAAAAMS/AAAAAAAAzb8AAAAAAIDVvwAAAAAAAMe/AAAAAACAy78AAAAAAADCvwAAAAAAgMO/AAAAAAAA0L8AAAAAAMDWvwAAAAAAAMG/AAAAAACAzL8AAAAAAADCvwAAAAAAgMy/AAAAAADA1r8AAAAAAADIvwAAAAAAAMa/AAAAAABA1b8AAAAAAADCvwAAAAAAAMy/AAAAAACA1r8AAAAAAADBvwAAAAAAAM2/AAAAAADA1r8AAAAAAADFvwAAAAAAgM2/AAAAAAAAxr8AAAAAAIDKvwAAAAAAgNa/AAAAAAAA1r8AAAAAAMDVvwAAAAAAQNW/AAAAAAAA1b8AAAAAAADUvwAAAAAAALu/AAAAAACAzr8AAAAAAIDEvwAAAAAAAM2/AAAAAABA1b8AAAAAAAC7vwAAAAAAAMq/AAAAAAAA1r8AAAAAAMDZvwAAAAAAwNm/AAAAAACAw78AAAAAAADJvwAAAAAAgMK/AAAAAACAyb8AAAAAAAC+vwAAAAAAgMq/AAAAAAAAu78AAAAAAACqvwAAAAAAgMy/AAAAAAAAwb8AAAAAAIDJvwAAAAAAANS/AAAAAABA1b8AAAAAAADWvwAAAAAAQNW/AAAAAAAA1b8AAAAAAIDUvwAAAAAAgMS/AAAAAAAAvL8AAAAAAADLvwAAAAAAALq/AAAAAAAAtb8AAAAAAADLvwAAAAAAAMK/AAAAAAAAyL8AAAAAAIDTvwAAAAAAgNW/AAAAAAAAvb8AAAAAAIDHvwAAAAAAALm/AAAAAAAAvL8AAAAAAIDMvwAAAAAAQNW/AAAAAAAAvr8AAAAAAADKvwAAAAAAQNW/AAAAAACAxL8AAAAAAACAPwAAAAAAgMy/AAAAAAAAwr8AAAAAAIDNvwAAAAAAgMK/AAAAAACAyr8AAAAAAIDUvwAAAAAAALy/AAAAAACAxL8AAAAAAAC9vwAAAAAAAMS/AAAAAAAA0r8AAAAAAAC6vwAAAAAAgMW/AAAAAADA078AAAAAAAC0vwAAAAAAAMW/AAAAAACA078AAAAAAAC/vwAAAAAAgMi/AAAAAACAwL8AAAAAAADFvwAAAAAAANS/AAAAAADA0r8AAAAAAADTvwAAAAAAQNO/AAAAAABA0r8AAAAAAEDRvwAAAAAAALG/AAAAAAAAyb8AAAAAAAC8vwAAAAAAAMe/AAAAAADA0r8AAAAAAACwvwAAAAAAgMS/AAAAAABA078AAAAAAEDXvwAAAAAAQNe/AAAAAAAAu78AAAAAAADFvwAAAAAAALW/AAAAAAAAw78AAAAAAAC0vwAAAAAAgMi/AAAAAAAAub8AAAAAAIDHvwAAAAAAANO/AAAAAAAAs78AAAAAAADGvwAAAAAAALm/AAAAAAAAxb8AAAAAAMDRvwAAAAAAALu/AAAAAAAAkL8AAAAAAAC0vwAAAAAAAMm/AAAAAABA1b8AAAAAAADBvwAAAAAAAMe/AAAAAAAAvr8AAAAAAAC2vwAAAAAAAMe/AAAAAABA078AAAAAAAC1vwAAAAAAgMa/AAAAAABA1L8AAAAAAAC+vwAAAAAAALA/AAAAAAAAtr8AAAAAAADKvwAAAAAAQNS/AAAAAAAAt78AAAAAAADIvwAAAAAAALS/AAAAAAAAgD8AAAAAAAC1vwAAAAAAgMy/AAAAAADA1b8AAAAAAAC9vwAAAAAAAMq/AAAAAAAA1r8AAAAAAADZvwAAAAAAANm/AAAAAAAAwr8AAAAAAADIvwAAAAAAALu/AAAAAACAxb8AAAAAAAC5vwAAAAAAgMq/AAAAAAAAvb8AAAAAAADKvwAAAAAAANS/AAAAAAAAuL8AAAAAAIDIvwAAAAAAALy/AAAAAACAxb8AAAAAAMDSvwAAAAAAAL+/AAAAAAAAor8AAAAAAAC2vwAAAAAAAMq/AAAAAACA1b8AAAAAAADCvwAAAAAAAM2/AAAAAAAAx78AAAAAAIDDvwAAAAAAAM+/AAAAAABA178AAAAAAADDvwAAAAAAgM2/AAAAAACA178AAAAAAADHvwAAAAAAAIg/AAAAAAAAwr8AAAAAAIDQvwAAAAAAANi/AAAAAACAwr8AAAAAAIDNvwAAAAAAAL2/AAAAAAAApr8AAAAAAIDAvwAAAAAAQNG/AAAAAADA2L8AAAAAAIDDvwAAAAAAAM+/AAAAAACA2L8AAAAAAADcvwAAAAAAwNu/AAAAAACAx78AAAAAAIDNvwAAAAAAgMK/AAAAAACAyr8AAAAAAIDBvwAAAAAAgM+/AAAAAACAxL8AAAAAAIDIvwAAAAAAQNO/AAAAAAAAtr8AAAAAAADHvwAAAAAAALm/AAAAAACAxb8AAAAAAIDSvwAAAAAAAL6/AAAAAAAAnL8AAAAAAAC2vw==\"},\"shape\":[5000],\"dtype\":\"float64\",\"order\":\"little\"}]]}}},\"view\":{\"type\":\"object\",\"name\":\"CDSView\",\"id\":\"02a828a6-4f73-4737-983b-c8fe073fc135\",\"attributes\":{\"filter\":{\"type\":\"object\",\"name\":\"AllIndices\",\"id\":\"4a75901c-40f8-4e7a-8bbf-ba779022f00b\"}}},\"glyph\":{\"type\":\"object\",\"name\":\"Line\",\"id\":\"97471d1e-151f-48ea-b45f-4af114e4fa81\",\"attributes\":{\"tags\":[\"apply_ranges\"],\"x\":{\"type\":\"field\",\"field\":\"x\"},\"y\":{\"type\":\"field\",\"field\":\"y\"},\"line_color\":\"#30a2da\",\"line_width\":2}},\"selection_glyph\":{\"type\":\"object\",\"name\":\"Line\",\"id\":\"91a6ea33-0de1-418b-9170-c79cb91a14be\",\"attributes\":{\"tags\":[\"apply_ranges\"],\"x\":{\"type\":\"field\",\"field\":\"x\"},\"y\":{\"type\":\"field\",\"field\":\"y\"},\"line_color\":\"#30a2da\",\"line_width\":2}},\"nonselection_glyph\":{\"type\":\"object\",\"name\":\"Line\",\"id\":\"738ed2f8-4329-4f93-9272-73cf34dcb5cc\",\"attributes\":{\"tags\":[\"apply_ranges\"],\"x\":{\"type\":\"field\",\"field\":\"x\"},\"y\":{\"type\":\"field\",\"field\":\"y\"},\"line_color\":\"#30a2da\",\"line_alpha\":0.1,\"line_width\":2}},\"muted_glyph\":{\"type\":\"object\",\"name\":\"Line\",\"id\":\"ef279c6b-c1f2-4c19-bde2-e31415147c3c\",\"attributes\":{\"tags\":[\"apply_ranges\"],\"x\":{\"type\":\"field\",\"field\":\"x\"},\"y\":{\"type\":\"field\",\"field\":\"y\"},\"line_color\":\"#30a2da\",\"line_alpha\":0.2,\"line_width\":2}}}}],\"toolbar\":{\"type\":\"object\",\"name\":\"Toolbar\",\"id\":\"84fc2e96-94c1-488d-9958-6fb35fc9f462\",\"attributes\":{\"tools\":[{\"type\":\"object\",\"name\":\"WheelZoomTool\",\"id\":\"8bccd93b-7093-4e98-bf1e-ddb7d89ed3e8\",\"attributes\":{\"tags\":[\"hv_created\"],\"renderers\":\"auto\",\"zoom_together\":\"none\"}},{\"type\":\"object\",\"name\":\"HoverTool\",\"id\":\"2ad96a1c-274d-4164-9f3c-0e85233c2eee\",\"attributes\":{\"tags\":[\"hv_created\"],\"renderers\":[{\"id\":\"ce900cf4-b29e-4965-b143-be8129f0c173\"}],\"tooltips\":[[\"x\",\"@{x}\"],[\"y\",\"@{y}\"]]}},{\"type\":\"object\",\"name\":\"SaveTool\",\"id\":\"79ab8ea7-a072-469e-9d30-a4f880731710\"},{\"type\":\"object\",\"name\":\"PanTool\",\"id\":\"f82e7c79-7696-4e49-af7b-4a5402d94f47\"},{\"type\":\"object\",\"name\":\"BoxZoomTool\",\"id\":\"d6fb26b7-dd09-4d48-a4a9-482dba8a6d3f\",\"attributes\":{\"overlay\":{\"type\":\"object\",\"name\":\"BoxAnnotation\",\"id\":\"b61f7d44-cf66-4ba4-bb28-a5a302b4be14\",\"attributes\":{\"syncable\":false,\"line_color\":\"black\",\"line_alpha\":1.0,\"line_width\":2,\"line_dash\":[4,4],\"fill_color\":\"lightgrey\",\"fill_alpha\":0.5,\"level\":\"overlay\",\"visible\":false,\"left\":{\"type\":\"number\",\"value\":\"nan\"},\"right\":{\"type\":\"number\",\"value\":\"nan\"},\"top\":{\"type\":\"number\",\"value\":\"nan\"},\"bottom\":{\"type\":\"number\",\"value\":\"nan\"},\"left_units\":\"canvas\",\"right_units\":\"canvas\",\"top_units\":\"canvas\",\"bottom_units\":\"canvas\",\"handles\":{\"type\":\"object\",\"name\":\"BoxInteractionHandles\",\"id\":\"49d18506-c9c7-40a4-a982-2cc7008da5cf\",\"attributes\":{\"all\":{\"type\":\"object\",\"name\":\"AreaVisuals\",\"id\":\"c3cc92d4-a626-4144-9e57-367e0d0bf749\",\"attributes\":{\"fill_color\":\"white\",\"hover_fill_color\":\"lightgray\"}}}}}}}},{\"type\":\"object\",\"name\":\"ResetTool\",\"id\":\"d0e85daf-052a-4fe0-aacb-0eb948b1cdcb\"}],\"active_drag\":{\"id\":\"d6fb26b7-dd09-4d48-a4a9-482dba8a6d3f\"}}},\"left\":[{\"type\":\"object\",\"name\":\"LinearAxis\",\"id\":\"5a70c354-6f0e-4701-ab74-1082bd26cfbd\",\"attributes\":{\"ticker\":{\"type\":\"object\",\"name\":\"BasicTicker\",\"id\":\"065ae5cc-f6db-419f-b921-547629f56b26\",\"attributes\":{\"mantissas\":[1,2,5]}},\"formatter\":{\"type\":\"object\",\"name\":\"BasicTickFormatter\",\"id\":\"575874b1-0e29-4592-b11f-1a906462b6f0\"},\"axis_label\":\"y\",\"major_label_policy\":{\"type\":\"object\",\"name\":\"AllLabels\",\"id\":\"e0f36a11-6ad1-40aa-8f61-0af012aea340\"}}}],\"below\":[{\"type\":\"object\",\"name\":\"LinearAxis\",\"id\":\"4e2a1f07-c331-4d6a-8ed6-b07adb80e716\",\"attributes\":{\"ticker\":{\"type\":\"object\",\"name\":\"BasicTicker\",\"id\":\"0e8f9a66-633f-4365-ac2e-90dbace367a6\",\"attributes\":{\"mantissas\":[1,2,5]}},\"formatter\":{\"type\":\"object\",\"name\":\"BasicTickFormatter\",\"id\":\"6d079c55-03f9-4dad-9bdb-a90f97e3d8ec\"},\"axis_label\":\"x\",\"major_label_policy\":{\"type\":\"object\",\"name\":\"AllLabels\",\"id\":\"4e4256df-52eb-4976-be78-9200308f7d84\"}}}],\"center\":[{\"type\":\"object\",\"name\":\"Grid\",\"id\":\"b140bf85-1ea3-4e7b-a010-37d082b7f118\",\"attributes\":{\"axis\":{\"id\":\"4e2a1f07-c331-4d6a-8ed6-b07adb80e716\"},\"grid_line_color\":null}},{\"type\":\"object\",\"name\":\"Grid\",\"id\":\"e4637cd3-2807-493b-b026-5033a6b6df77\",\"attributes\":{\"dimension\":1,\"axis\":{\"id\":\"5a70c354-6f0e-4701-ab74-1082bd26cfbd\"},\"grid_line_color\":null}}],\"min_border_top\":10,\"min_border_bottom\":10,\"min_border_left\":10,\"min_border_right\":10,\"output_backend\":\"webgl\"}},{\"type\":\"object\",\"name\":\"Spacer\",\"id\":\"fa97dc27-412a-459e-935a-6004c0d61e2f\",\"attributes\":{\"name\":\"HSpacer00271\",\"stylesheets\":[\"\\n:host(.pn-loading):before, .pn-loading:before {\\n  background-color: #c3c3c3;\\n  mask-size: auto calc(min(50%, 400px));\\n  -webkit-mask-size: auto calc(min(50%, 400px));\\n}\",{\"id\":\"dcfff6fc-790b-4ed5-8fc1-0b5f675d5c27\"},{\"id\":\"f9602fc6-1cd6-414f-81ac-3d1a1c307435\"},{\"id\":\"1d2694f3-1437-40ce-93a6-2ac3facbc60e\"}],\"margin\":0,\"sizing_mode\":\"stretch_width\",\"align\":\"start\"}}]}}],\"defs\":[{\"type\":\"model\",\"name\":\"ReactiveHTML1\"},{\"type\":\"model\",\"name\":\"FlexBox1\",\"properties\":[{\"name\":\"align_content\",\"kind\":\"Any\",\"default\":\"flex-start\"},{\"name\":\"align_items\",\"kind\":\"Any\",\"default\":\"flex-start\"},{\"name\":\"flex_direction\",\"kind\":\"Any\",\"default\":\"row\"},{\"name\":\"flex_wrap\",\"kind\":\"Any\",\"default\":\"wrap\"},{\"name\":\"gap\",\"kind\":\"Any\",\"default\":\"\"},{\"name\":\"justify_content\",\"kind\":\"Any\",\"default\":\"flex-start\"}]},{\"type\":\"model\",\"name\":\"FloatPanel1\",\"properties\":[{\"name\":\"config\",\"kind\":\"Any\",\"default\":{\"type\":\"map\"}},{\"name\":\"contained\",\"kind\":\"Any\",\"default\":true},{\"name\":\"position\",\"kind\":\"Any\",\"default\":\"right-top\"},{\"name\":\"offsetx\",\"kind\":\"Any\",\"default\":null},{\"name\":\"offsety\",\"kind\":\"Any\",\"default\":null},{\"name\":\"theme\",\"kind\":\"Any\",\"default\":\"primary\"},{\"name\":\"status\",\"kind\":\"Any\",\"default\":\"normalized\"}]},{\"type\":\"model\",\"name\":\"GridStack1\",\"properties\":[{\"name\":\"mode\",\"kind\":\"Any\",\"default\":\"warn\"},{\"name\":\"ncols\",\"kind\":\"Any\",\"default\":null},{\"name\":\"nrows\",\"kind\":\"Any\",\"default\":null},{\"name\":\"allow_resize\",\"kind\":\"Any\",\"default\":true},{\"name\":\"allow_drag\",\"kind\":\"Any\",\"default\":true},{\"name\":\"state\",\"kind\":\"Any\",\"default\":[]}]},{\"type\":\"model\",\"name\":\"drag1\",\"properties\":[{\"name\":\"slider_width\",\"kind\":\"Any\",\"default\":5},{\"name\":\"slider_color\",\"kind\":\"Any\",\"default\":\"black\"},{\"name\":\"value\",\"kind\":\"Any\",\"default\":50}]},{\"type\":\"model\",\"name\":\"click1\",\"properties\":[{\"name\":\"terminal_output\",\"kind\":\"Any\",\"default\":\"\"},{\"name\":\"debug_name\",\"kind\":\"Any\",\"default\":\"\"},{\"name\":\"clears\",\"kind\":\"Any\",\"default\":0}]},{\"type\":\"model\",\"name\":\"FastWrapper1\",\"properties\":[{\"name\":\"object\",\"kind\":\"Any\",\"default\":null},{\"name\":\"style\",\"kind\":\"Any\",\"default\":null}]},{\"type\":\"model\",\"name\":\"NotificationAreaBase1\",\"properties\":[{\"name\":\"js_events\",\"kind\":\"Any\",\"default\":{\"type\":\"map\"}},{\"name\":\"position\",\"kind\":\"Any\",\"default\":\"bottom-right\"},{\"name\":\"_clear\",\"kind\":\"Any\",\"default\":0}]},{\"type\":\"model\",\"name\":\"NotificationArea1\",\"properties\":[{\"name\":\"js_events\",\"kind\":\"Any\",\"default\":{\"type\":\"map\"}},{\"name\":\"notifications\",\"kind\":\"Any\",\"default\":[]},{\"name\":\"position\",\"kind\":\"Any\",\"default\":\"bottom-right\"},{\"name\":\"_clear\",\"kind\":\"Any\",\"default\":0},{\"name\":\"types\",\"kind\":\"Any\",\"default\":[{\"type\":\"map\",\"entries\":[[\"type\",\"warning\"],[\"background\",\"#ffc107\"],[\"icon\",{\"type\":\"map\",\"entries\":[[\"className\",\"fas fa-exclamation-triangle\"],[\"tagName\",\"i\"],[\"color\",\"white\"]]}]]},{\"type\":\"map\",\"entries\":[[\"type\",\"info\"],[\"background\",\"#007bff\"],[\"icon\",{\"type\":\"map\",\"entries\":[[\"className\",\"fas fa-info-circle\"],[\"tagName\",\"i\"],[\"color\",\"white\"]]}]]}]}]},{\"type\":\"model\",\"name\":\"Notification\",\"properties\":[{\"name\":\"background\",\"kind\":\"Any\",\"default\":null},{\"name\":\"duration\",\"kind\":\"Any\",\"default\":3000},{\"name\":\"icon\",\"kind\":\"Any\",\"default\":null},{\"name\":\"message\",\"kind\":\"Any\",\"default\":\"\"},{\"name\":\"notification_type\",\"kind\":\"Any\",\"default\":null},{\"name\":\"_rendered\",\"kind\":\"Any\",\"default\":false},{\"name\":\"_destroyed\",\"kind\":\"Any\",\"default\":false}]},{\"type\":\"model\",\"name\":\"TemplateActions1\",\"properties\":[{\"name\":\"open_modal\",\"kind\":\"Any\",\"default\":0},{\"name\":\"close_modal\",\"kind\":\"Any\",\"default\":0}]},{\"type\":\"model\",\"name\":\"BootstrapTemplateActions1\",\"properties\":[{\"name\":\"open_modal\",\"kind\":\"Any\",\"default\":0},{\"name\":\"close_modal\",\"kind\":\"Any\",\"default\":0}]},{\"type\":\"model\",\"name\":\"TemplateEditor1\",\"properties\":[{\"name\":\"layout\",\"kind\":\"Any\",\"default\":[]}]},{\"type\":\"model\",\"name\":\"MaterialTemplateActions1\",\"properties\":[{\"name\":\"open_modal\",\"kind\":\"Any\",\"default\":0},{\"name\":\"close_modal\",\"kind\":\"Any\",\"default\":0}]},{\"type\":\"model\",\"name\":\"ReactiveESM1\",\"properties\":[{\"name\":\"esm_constants\",\"kind\":\"Any\",\"default\":{\"type\":\"map\"}}]},{\"type\":\"model\",\"name\":\"JSComponent1\",\"properties\":[{\"name\":\"esm_constants\",\"kind\":\"Any\",\"default\":{\"type\":\"map\"}}]},{\"type\":\"model\",\"name\":\"ReactComponent1\",\"properties\":[{\"name\":\"esm_constants\",\"kind\":\"Any\",\"default\":{\"type\":\"map\"}}]},{\"type\":\"model\",\"name\":\"AnyWidgetComponent1\",\"properties\":[{\"name\":\"esm_constants\",\"kind\":\"Any\",\"default\":{\"type\":\"map\"}}]},{\"type\":\"model\",\"name\":\"request_value1\",\"properties\":[{\"name\":\"fill\",\"kind\":\"Any\",\"default\":\"none\"},{\"name\":\"_synced\",\"kind\":\"Any\",\"default\":null},{\"name\":\"_request_sync\",\"kind\":\"Any\",\"default\":0}]}]}};\n",
       "  var render_items = [{\"docid\":\"a86b4116-36ac-44f8-918d-7654727c25e3\",\"roots\":{\"b21f599b-14be-4d5a-9d52-58b603b22d39\":\"c447d4e8-2ffc-4c22-9713-4f450c30afd1\"},\"root_ids\":[\"b21f599b-14be-4d5a-9d52-58b603b22d39\"]}];\n",
       "  var docs = Object.values(docs_json)\n",
       "  if (!docs) {\n",
       "    return\n",
       "  }\n",
       "  const py_version = docs[0].version.replace('rc', '-rc.').replace('.dev', '-dev.')\n",
       "  async function embed_document(root) {\n",
       "    var Bokeh = get_bokeh(root)\n",
       "    await Bokeh.embed.embed_items_notebook(docs_json, render_items);\n",
       "    for (const render_item of render_items) {\n",
       "      for (const root_id of render_item.root_ids) {\n",
       "\tconst id_el = document.getElementById(root_id)\n",
       "\tif (id_el.children.length && id_el.children[0].hasAttribute('data-root-id')) {\n",
       "\t  const root_el = id_el.children[0]\n",
       "\t  root_el.id = root_el.id + '-rendered'\n",
       "\t  for (const child of root_el.children) {\n",
       "            // Ensure JupyterLab does not capture keyboard shortcuts\n",
       "            // see: https://jupyterlab.readthedocs.io/en/4.1.x/extension/notebook.html#keyboard-interaction-model\n",
       "\t    child.setAttribute('data-lm-suppress-shortcuts', 'true')\n",
       "\t  }\n",
       "\t}\n",
       "      }\n",
       "    }\n",
       "  }\n",
       "  function get_bokeh(root) {\n",
       "    if (root.Bokeh === undefined) {\n",
       "      return null\n",
       "    } else if (root.Bokeh.version !== py_version) {\n",
       "      if (root.Bokeh.versions === undefined || !root.Bokeh.versions.has(py_version)) {\n",
       "\treturn null\n",
       "      }\n",
       "      return root.Bokeh.versions.get(py_version);\n",
       "    } else if (root.Bokeh.version === py_version) {\n",
       "      return root.Bokeh\n",
       "    }\n",
       "    return null\n",
       "  }\n",
       "  function is_loaded(root) {\n",
       "    var Bokeh = get_bokeh(root)\n",
       "    return (Bokeh != null && Bokeh.Panel !== undefined)\n",
       "  }\n",
       "  if (is_loaded(root)) {\n",
       "    embed_document(root);\n",
       "  } else {\n",
       "    var attempts = 0;\n",
       "    var timer = setInterval(function(root) {\n",
       "      if (is_loaded(root)) {\n",
       "        clearInterval(timer);\n",
       "        embed_document(root);\n",
       "      } else if (document.readyState == \"complete\") {\n",
       "        attempts++;\n",
       "        if (attempts > 200) {\n",
       "          clearInterval(timer);\n",
       "\t  var Bokeh = get_bokeh(root)\n",
       "\t  if (Bokeh == null || Bokeh.Panel == null) {\n",
       "            console.warn(\"Panel: ERROR: Unable to run Panel code because Bokeh or Panel library is missing\");\n",
       "\t  } else {\n",
       "\t    console.warn(\"Panel: WARNING: Attempting to render but not all required libraries could be resolved.\")\n",
       "\t    embed_document(root)\n",
       "\t  }\n",
       "        }\n",
       "      }\n",
       "    }, 25, root)\n",
       "  }\n",
       "})(window);</script>"
      ],
      "text/plain": [
       ":Curve   [x]   (y)"
      ]
     },
     "execution_count": 4,
     "metadata": {
      "application/vnd.holoviews_exec.v0+json": {
       "id": "b21f599b-14be-4d5a-9d52-58b603b22d39"
      }
     },
     "output_type": "execute_result"
    }
   ],
   "source": [
    "cw.plot(project.waves[0])"
   ]
  },
  {
   "cell_type": "markdown",
   "metadata": {},
   "source": [
    "You probably can't even pick out the different AES rounds anymore (whereas it was pretty obvious on TINYAES128C). MBED is also way faster - we only got part way into round 2 with 5000 samples of TINYAES, but with MBED we can finish the entire encryption in less than 5000 samples! Two questions we need to answer now are:\n",
    "\n",
    "1. Is it possible for us to break this AES implementation?\n",
    "1. If so, what sort of leakage model do we need?\n",
    "\n",
    "As it turns out, the answers are:\n",
    "\n",
    "1. Yes!\n",
    "1. We can continue to use the same leakage model - the SBox output\n",
    "\n",
    "This might come as a surprise, but it's true! Two of the t_table lookups are just the sbox[key^plaintext] that we used before. Try the analysis for yourself now and verify that this is correct:"
   ]
  },
  {
   "cell_type": "code",
   "execution_count": 5,
   "metadata": {
    "execution": {
     "iopub.execute_input": "2025-03-15T00:21:30.034621Z",
     "iopub.status.busy": "2025-03-15T00:21:30.034175Z",
     "iopub.status.idle": "2025-03-15T00:21:58.780288Z",
     "shell.execute_reply": "2025-03-15T00:21:58.779043Z"
    }
   },
   "outputs": [
    {
     "data": {
      "text/html": [
       "<style type=\"text/css\">\n",
       "#T_e5371_row1_col0, #T_e5371_row1_col1, #T_e5371_row1_col2, #T_e5371_row1_col3, #T_e5371_row1_col4, #T_e5371_row1_col5, #T_e5371_row1_col6, #T_e5371_row1_col7, #T_e5371_row1_col8, #T_e5371_row1_col9, #T_e5371_row1_col10, #T_e5371_row1_col11, #T_e5371_row1_col12, #T_e5371_row1_col13, #T_e5371_row1_col14, #T_e5371_row1_col15 {\n",
       "  color: red;\n",
       "}\n",
       "</style>\n",
       "<table id=\"T_e5371\">\n",
       "  <caption>Finished traces 75 to 100</caption>\n",
       "  <thead>\n",
       "    <tr>\n",
       "      <th class=\"blank level0\" >&nbsp;</th>\n",
       "      <th id=\"T_e5371_level0_col0\" class=\"col_heading level0 col0\" >0</th>\n",
       "      <th id=\"T_e5371_level0_col1\" class=\"col_heading level0 col1\" >1</th>\n",
       "      <th id=\"T_e5371_level0_col2\" class=\"col_heading level0 col2\" >2</th>\n",
       "      <th id=\"T_e5371_level0_col3\" class=\"col_heading level0 col3\" >3</th>\n",
       "      <th id=\"T_e5371_level0_col4\" class=\"col_heading level0 col4\" >4</th>\n",
       "      <th id=\"T_e5371_level0_col5\" class=\"col_heading level0 col5\" >5</th>\n",
       "      <th id=\"T_e5371_level0_col6\" class=\"col_heading level0 col6\" >6</th>\n",
       "      <th id=\"T_e5371_level0_col7\" class=\"col_heading level0 col7\" >7</th>\n",
       "      <th id=\"T_e5371_level0_col8\" class=\"col_heading level0 col8\" >8</th>\n",
       "      <th id=\"T_e5371_level0_col9\" class=\"col_heading level0 col9\" >9</th>\n",
       "      <th id=\"T_e5371_level0_col10\" class=\"col_heading level0 col10\" >10</th>\n",
       "      <th id=\"T_e5371_level0_col11\" class=\"col_heading level0 col11\" >11</th>\n",
       "      <th id=\"T_e5371_level0_col12\" class=\"col_heading level0 col12\" >12</th>\n",
       "      <th id=\"T_e5371_level0_col13\" class=\"col_heading level0 col13\" >13</th>\n",
       "      <th id=\"T_e5371_level0_col14\" class=\"col_heading level0 col14\" >14</th>\n",
       "      <th id=\"T_e5371_level0_col15\" class=\"col_heading level0 col15\" >15</th>\n",
       "    </tr>\n",
       "  </thead>\n",
       "  <tbody>\n",
       "    <tr>\n",
       "      <th id=\"T_e5371_level0_row0\" class=\"row_heading level0 row0\" >PGE=</th>\n",
       "      <td id=\"T_e5371_row0_col0\" class=\"data row0 col0\" >0</td>\n",
       "      <td id=\"T_e5371_row0_col1\" class=\"data row0 col1\" >0</td>\n",
       "      <td id=\"T_e5371_row0_col2\" class=\"data row0 col2\" >0</td>\n",
       "      <td id=\"T_e5371_row0_col3\" class=\"data row0 col3\" >0</td>\n",
       "      <td id=\"T_e5371_row0_col4\" class=\"data row0 col4\" >0</td>\n",
       "      <td id=\"T_e5371_row0_col5\" class=\"data row0 col5\" >0</td>\n",
       "      <td id=\"T_e5371_row0_col6\" class=\"data row0 col6\" >0</td>\n",
       "      <td id=\"T_e5371_row0_col7\" class=\"data row0 col7\" >0</td>\n",
       "      <td id=\"T_e5371_row0_col8\" class=\"data row0 col8\" >0</td>\n",
       "      <td id=\"T_e5371_row0_col9\" class=\"data row0 col9\" >0</td>\n",
       "      <td id=\"T_e5371_row0_col10\" class=\"data row0 col10\" >0</td>\n",
       "      <td id=\"T_e5371_row0_col11\" class=\"data row0 col11\" >0</td>\n",
       "      <td id=\"T_e5371_row0_col12\" class=\"data row0 col12\" >0</td>\n",
       "      <td id=\"T_e5371_row0_col13\" class=\"data row0 col13\" >0</td>\n",
       "      <td id=\"T_e5371_row0_col14\" class=\"data row0 col14\" >0</td>\n",
       "      <td id=\"T_e5371_row0_col15\" class=\"data row0 col15\" >0</td>\n",
       "    </tr>\n",
       "    <tr>\n",
       "      <th id=\"T_e5371_level0_row1\" class=\"row_heading level0 row1\" >0</th>\n",
       "      <td id=\"T_e5371_row1_col0\" class=\"data row1 col0\" >2B<br>0.669</td>\n",
       "      <td id=\"T_e5371_row1_col1\" class=\"data row1 col1\" >7E<br>0.663</td>\n",
       "      <td id=\"T_e5371_row1_col2\" class=\"data row1 col2\" >15<br>0.670</td>\n",
       "      <td id=\"T_e5371_row1_col3\" class=\"data row1 col3\" >16<br>0.744</td>\n",
       "      <td id=\"T_e5371_row1_col4\" class=\"data row1 col4\" >28<br>0.816</td>\n",
       "      <td id=\"T_e5371_row1_col5\" class=\"data row1 col5\" >AE<br>0.514</td>\n",
       "      <td id=\"T_e5371_row1_col6\" class=\"data row1 col6\" >D2<br>0.768</td>\n",
       "      <td id=\"T_e5371_row1_col7\" class=\"data row1 col7\" >A6<br>0.601</td>\n",
       "      <td id=\"T_e5371_row1_col8\" class=\"data row1 col8\" >AB<br>0.701</td>\n",
       "      <td id=\"T_e5371_row1_col9\" class=\"data row1 col9\" >F7<br>0.680</td>\n",
       "      <td id=\"T_e5371_row1_col10\" class=\"data row1 col10\" >15<br>0.755</td>\n",
       "      <td id=\"T_e5371_row1_col11\" class=\"data row1 col11\" >88<br>0.775</td>\n",
       "      <td id=\"T_e5371_row1_col12\" class=\"data row1 col12\" >09<br>0.723</td>\n",
       "      <td id=\"T_e5371_row1_col13\" class=\"data row1 col13\" >CF<br>0.635</td>\n",
       "      <td id=\"T_e5371_row1_col14\" class=\"data row1 col14\" >4F<br>0.687</td>\n",
       "      <td id=\"T_e5371_row1_col15\" class=\"data row1 col15\" >3C<br>0.617</td>\n",
       "    </tr>\n",
       "    <tr>\n",
       "      <th id=\"T_e5371_level0_row2\" class=\"row_heading level0 row2\" >1</th>\n",
       "      <td id=\"T_e5371_row2_col0\" class=\"data row2 col0\" >35<br>0.515</td>\n",
       "      <td id=\"T_e5371_row2_col1\" class=\"data row2 col1\" >B9<br>0.472</td>\n",
       "      <td id=\"T_e5371_row2_col2\" class=\"data row2 col2\" >45<br>0.472</td>\n",
       "      <td id=\"T_e5371_row2_col3\" class=\"data row2 col3\" >55<br>0.458</td>\n",
       "      <td id=\"T_e5371_row2_col4\" class=\"data row2 col4\" >F3<br>0.465</td>\n",
       "      <td id=\"T_e5371_row2_col5\" class=\"data row2 col5\" >5F<br>0.455</td>\n",
       "      <td id=\"T_e5371_row2_col6\" class=\"data row2 col6\" >76<br>0.465</td>\n",
       "      <td id=\"T_e5371_row2_col7\" class=\"data row2 col7\" >A5<br>0.473</td>\n",
       "      <td id=\"T_e5371_row2_col8\" class=\"data row2 col8\" >2A<br>0.447</td>\n",
       "      <td id=\"T_e5371_row2_col9\" class=\"data row2 col9\" >09<br>0.484</td>\n",
       "      <td id=\"T_e5371_row2_col10\" class=\"data row2 col10\" >A1<br>0.524</td>\n",
       "      <td id=\"T_e5371_row2_col11\" class=\"data row2 col11\" >D4<br>0.497</td>\n",
       "      <td id=\"T_e5371_row2_col12\" class=\"data row2 col12\" >7E<br>0.473</td>\n",
       "      <td id=\"T_e5371_row2_col13\" class=\"data row2 col13\" >AA<br>0.453</td>\n",
       "      <td id=\"T_e5371_row2_col14\" class=\"data row2 col14\" >19<br>0.469</td>\n",
       "      <td id=\"T_e5371_row2_col15\" class=\"data row2 col15\" >6F<br>0.456</td>\n",
       "    </tr>\n",
       "    <tr>\n",
       "      <th id=\"T_e5371_level0_row3\" class=\"row_heading level0 row3\" >2</th>\n",
       "      <td id=\"T_e5371_row3_col0\" class=\"data row3 col0\" >3D<br>0.473</td>\n",
       "      <td id=\"T_e5371_row3_col1\" class=\"data row3 col1\" >40<br>0.452</td>\n",
       "      <td id=\"T_e5371_row3_col2\" class=\"data row3 col2\" >DF<br>0.467</td>\n",
       "      <td id=\"T_e5371_row3_col3\" class=\"data row3 col3\" >9E<br>0.453</td>\n",
       "      <td id=\"T_e5371_row3_col4\" class=\"data row3 col4\" >B3<br>0.458</td>\n",
       "      <td id=\"T_e5371_row3_col5\" class=\"data row3 col5\" >E6<br>0.451</td>\n",
       "      <td id=\"T_e5371_row3_col6\" class=\"data row3 col6\" >98<br>0.459</td>\n",
       "      <td id=\"T_e5371_row3_col7\" class=\"data row3 col7\" >02<br>0.470</td>\n",
       "      <td id=\"T_e5371_row3_col8\" class=\"data row3 col8\" >FC<br>0.444</td>\n",
       "      <td id=\"T_e5371_row3_col9\" class=\"data row3 col9\" >D4<br>0.471</td>\n",
       "      <td id=\"T_e5371_row3_col10\" class=\"data row3 col10\" >80<br>0.516</td>\n",
       "      <td id=\"T_e5371_row3_col11\" class=\"data row3 col11\" >09<br>0.459</td>\n",
       "      <td id=\"T_e5371_row3_col12\" class=\"data row3 col12\" >AE<br>0.465</td>\n",
       "      <td id=\"T_e5371_row3_col13\" class=\"data row3 col13\" >D9<br>0.427</td>\n",
       "      <td id=\"T_e5371_row3_col14\" class=\"data row3 col14\" >F0<br>0.460</td>\n",
       "      <td id=\"T_e5371_row3_col15\" class=\"data row3 col15\" >A4<br>0.441</td>\n",
       "    </tr>\n",
       "    <tr>\n",
       "      <th id=\"T_e5371_level0_row4\" class=\"row_heading level0 row4\" >3</th>\n",
       "      <td id=\"T_e5371_row4_col0\" class=\"data row4 col0\" >E9<br>0.467</td>\n",
       "      <td id=\"T_e5371_row4_col1\" class=\"data row4 col1\" >80<br>0.452</td>\n",
       "      <td id=\"T_e5371_row4_col2\" class=\"data row4 col2\" >C8<br>0.448</td>\n",
       "      <td id=\"T_e5371_row4_col3\" class=\"data row4 col3\" >79<br>0.443</td>\n",
       "      <td id=\"T_e5371_row4_col4\" class=\"data row4 col4\" >17<br>0.442</td>\n",
       "      <td id=\"T_e5371_row4_col5\" class=\"data row4 col5\" >A8<br>0.439</td>\n",
       "      <td id=\"T_e5371_row4_col6\" class=\"data row4 col6\" >75<br>0.447</td>\n",
       "      <td id=\"T_e5371_row4_col7\" class=\"data row4 col7\" >A8<br>0.470</td>\n",
       "      <td id=\"T_e5371_row4_col8\" class=\"data row4 col8\" >39<br>0.443</td>\n",
       "      <td id=\"T_e5371_row4_col9\" class=\"data row4 col9\" >EF<br>0.464</td>\n",
       "      <td id=\"T_e5371_row4_col10\" class=\"data row4 col10\" >4E<br>0.477</td>\n",
       "      <td id=\"T_e5371_row4_col11\" class=\"data row4 col11\" >2B<br>0.434</td>\n",
       "      <td id=\"T_e5371_row4_col12\" class=\"data row4 col12\" >FC<br>0.435</td>\n",
       "      <td id=\"T_e5371_row4_col13\" class=\"data row4 col13\" >32<br>0.425</td>\n",
       "      <td id=\"T_e5371_row4_col14\" class=\"data row4 col14\" >CB<br>0.456</td>\n",
       "      <td id=\"T_e5371_row4_col15\" class=\"data row4 col15\" >06<br>0.440</td>\n",
       "    </tr>\n",
       "    <tr>\n",
       "      <th id=\"T_e5371_level0_row5\" class=\"row_heading level0 row5\" >4</th>\n",
       "      <td id=\"T_e5371_row5_col0\" class=\"data row5 col0\" >96<br>0.461</td>\n",
       "      <td id=\"T_e5371_row5_col1\" class=\"data row5 col1\" >F1<br>0.435</td>\n",
       "      <td id=\"T_e5371_row5_col2\" class=\"data row5 col2\" >91<br>0.448</td>\n",
       "      <td id=\"T_e5371_row5_col3\" class=\"data row5 col3\" >BA<br>0.443</td>\n",
       "      <td id=\"T_e5371_row5_col4\" class=\"data row5 col4\" >1E<br>0.436</td>\n",
       "      <td id=\"T_e5371_row5_col5\" class=\"data row5 col5\" >A2<br>0.435</td>\n",
       "      <td id=\"T_e5371_row5_col6\" class=\"data row5 col6\" >5D<br>0.443</td>\n",
       "      <td id=\"T_e5371_row5_col7\" class=\"data row5 col7\" >2E<br>0.469</td>\n",
       "      <td id=\"T_e5371_row5_col8\" class=\"data row5 col8\" >90<br>0.439</td>\n",
       "      <td id=\"T_e5371_row5_col9\" class=\"data row5 col9\" >2D<br>0.450</td>\n",
       "      <td id=\"T_e5371_row5_col10\" class=\"data row5 col10\" >A9<br>0.454</td>\n",
       "      <td id=\"T_e5371_row5_col11\" class=\"data row5 col11\" >97<br>0.434</td>\n",
       "      <td id=\"T_e5371_row5_col12\" class=\"data row5 col12\" >BC<br>0.432</td>\n",
       "      <td id=\"T_e5371_row5_col13\" class=\"data row5 col13\" >B9<br>0.425</td>\n",
       "      <td id=\"T_e5371_row5_col14\" class=\"data row5 col14\" >8A<br>0.455</td>\n",
       "      <td id=\"T_e5371_row5_col15\" class=\"data row5 col15\" >ED<br>0.440</td>\n",
       "    </tr>\n",
       "  </tbody>\n",
       "</table>\n"
      ],
      "text/plain": [
       "<pandas.io.formats.style.Styler at 0x7fdca9b2c0a0>"
      ]
     },
     "metadata": {},
     "output_type": "display_data"
    }
   ],
   "source": [
    "import chipwhisperer.analyzer as cwa\n",
    "#pick right leakage model for your attack\n",
    "leak_model = cwa.leakage_models.sbox_output\n",
    "attack = cwa.cpa(project, leak_model)\n",
    "results = attack.run(cwa.get_jupyter_callback(attack))"
   ]
  },
  {
   "cell_type": "markdown",
   "metadata": {},
   "source": [
    "## Improving the Model\n",
    "\n",
    "While this model works alright for mbedtls, you probably wouldn't be surprised if it wasn't the best model to attack with. Instead, we can attack the full T-Tables. Returning again to the T-Tables:\n",
    "\n",
    "$T _ { 0 } [ a ] = \\left[ \\begin{array} { l l } { 02 \\times \\operatorname { sbox } [ a ] } \\\\ { 01 \\times \\operatorname { sbox } [ a ] } \\\\ { 01 \\times \\operatorname { sbox } [ a ] } \\\\ { 03 \\times \\operatorname { sbox } [ a ] } \\end{array} \\right]$\n",
    "\n",
    "$T _ { 1 } [ a ] = \\left[ \\begin{array} { l } { 03 \\times \\operatorname { sbox } [ a ] } \\\\ { 02 \\times \\operatorname { sbox } [ a ] } \\\\ { 01 \\times \\operatorname { sbox } [ a ] } \\\\ { 01 \\times \\operatorname { sbox } [ a ] } \\end{array} \\right]$\n",
    "\n",
    "$T _ { 2 } [ a ] = \\left[ \\begin{array} { l l } { 01 \\times \\operatorname { sbox } [ a ] } \\\\ { 03 \\times \\operatorname { sbox } [ a ] } \\\\ { 02 \\times \\operatorname { sbox } [ a ] } \\\\ { 01 \\times \\operatorname { sbox } [ a ] } \\end{array} \\right]$\n",
    "\n",
    "$T _ { 3 } [ a ] = \\left[ \\begin{array} { l l } { 01 \\times \\operatorname { sbox } [ a ] } \\\\ { 01 \\times \\operatorname { sbox } [ a ] } \\\\ { 03 \\times \\operatorname { sbox } [ a ] } \\\\ { 02 \\times \\operatorname { sbox } [ a ] } \\end{array} \\right]$\n",
    "\n",
    "we can see that for each T-Table lookup, the following is accessed:\n",
    "\n",
    "$\\operatorname {sbox}[a]$, $\\operatorname {sbox}[a]$, $2 \\times \\operatorname {sbox}[a]$, $3 \\times \\operatorname {sbox}[a]$\n",
    "\n",
    "so instead of just taking the Hamming weight of the SBox, we can instead take the Hamming weight of this whole access:\n",
    "\n",
    "$h = \\operatorname {hw}[\\operatorname {sbox}[a]] + \\operatorname {hw}[\\operatorname {sbox}[a]] + \\operatorname {hw}[2 \\times \\operatorname {sbox}[a]] + \\operatorname {hw}[3 \\times \\operatorname {sbox}[a]]$\n",
    "\n",
    "Again, ChipWhisperer already has this model built in, which you can access with `cwa.leakage_models.t_table`. Retry your CPA attack with this new leakage model:"
   ]
  },
  {
   "cell_type": "code",
   "execution_count": 6,
   "metadata": {
    "execution": {
     "iopub.execute_input": "2025-03-15T00:21:58.784788Z",
     "iopub.status.busy": "2025-03-15T00:21:58.784278Z",
     "iopub.status.idle": "2025-03-15T00:22:28.455935Z",
     "shell.execute_reply": "2025-03-15T00:22:28.454762Z"
    }
   },
   "outputs": [
    {
     "data": {
      "text/html": [
       "<style type=\"text/css\">\n",
       "#T_3e46e_row1_col0, #T_3e46e_row1_col1, #T_3e46e_row1_col2, #T_3e46e_row1_col3, #T_3e46e_row1_col4, #T_3e46e_row1_col5, #T_3e46e_row1_col6, #T_3e46e_row1_col7, #T_3e46e_row1_col8, #T_3e46e_row1_col9, #T_3e46e_row1_col10, #T_3e46e_row1_col11, #T_3e46e_row1_col12, #T_3e46e_row1_col13, #T_3e46e_row1_col14, #T_3e46e_row1_col15 {\n",
       "  color: red;\n",
       "}\n",
       "</style>\n",
       "<table id=\"T_3e46e\">\n",
       "  <caption>Finished traces 75 to 100</caption>\n",
       "  <thead>\n",
       "    <tr>\n",
       "      <th class=\"blank level0\" >&nbsp;</th>\n",
       "      <th id=\"T_3e46e_level0_col0\" class=\"col_heading level0 col0\" >0</th>\n",
       "      <th id=\"T_3e46e_level0_col1\" class=\"col_heading level0 col1\" >1</th>\n",
       "      <th id=\"T_3e46e_level0_col2\" class=\"col_heading level0 col2\" >2</th>\n",
       "      <th id=\"T_3e46e_level0_col3\" class=\"col_heading level0 col3\" >3</th>\n",
       "      <th id=\"T_3e46e_level0_col4\" class=\"col_heading level0 col4\" >4</th>\n",
       "      <th id=\"T_3e46e_level0_col5\" class=\"col_heading level0 col5\" >5</th>\n",
       "      <th id=\"T_3e46e_level0_col6\" class=\"col_heading level0 col6\" >6</th>\n",
       "      <th id=\"T_3e46e_level0_col7\" class=\"col_heading level0 col7\" >7</th>\n",
       "      <th id=\"T_3e46e_level0_col8\" class=\"col_heading level0 col8\" >8</th>\n",
       "      <th id=\"T_3e46e_level0_col9\" class=\"col_heading level0 col9\" >9</th>\n",
       "      <th id=\"T_3e46e_level0_col10\" class=\"col_heading level0 col10\" >10</th>\n",
       "      <th id=\"T_3e46e_level0_col11\" class=\"col_heading level0 col11\" >11</th>\n",
       "      <th id=\"T_3e46e_level0_col12\" class=\"col_heading level0 col12\" >12</th>\n",
       "      <th id=\"T_3e46e_level0_col13\" class=\"col_heading level0 col13\" >13</th>\n",
       "      <th id=\"T_3e46e_level0_col14\" class=\"col_heading level0 col14\" >14</th>\n",
       "      <th id=\"T_3e46e_level0_col15\" class=\"col_heading level0 col15\" >15</th>\n",
       "    </tr>\n",
       "  </thead>\n",
       "  <tbody>\n",
       "    <tr>\n",
       "      <th id=\"T_3e46e_level0_row0\" class=\"row_heading level0 row0\" >PGE=</th>\n",
       "      <td id=\"T_3e46e_row0_col0\" class=\"data row0 col0\" >0</td>\n",
       "      <td id=\"T_3e46e_row0_col1\" class=\"data row0 col1\" >0</td>\n",
       "      <td id=\"T_3e46e_row0_col2\" class=\"data row0 col2\" >0</td>\n",
       "      <td id=\"T_3e46e_row0_col3\" class=\"data row0 col3\" >0</td>\n",
       "      <td id=\"T_3e46e_row0_col4\" class=\"data row0 col4\" >0</td>\n",
       "      <td id=\"T_3e46e_row0_col5\" class=\"data row0 col5\" >0</td>\n",
       "      <td id=\"T_3e46e_row0_col6\" class=\"data row0 col6\" >0</td>\n",
       "      <td id=\"T_3e46e_row0_col7\" class=\"data row0 col7\" >0</td>\n",
       "      <td id=\"T_3e46e_row0_col8\" class=\"data row0 col8\" >0</td>\n",
       "      <td id=\"T_3e46e_row0_col9\" class=\"data row0 col9\" >0</td>\n",
       "      <td id=\"T_3e46e_row0_col10\" class=\"data row0 col10\" >0</td>\n",
       "      <td id=\"T_3e46e_row0_col11\" class=\"data row0 col11\" >0</td>\n",
       "      <td id=\"T_3e46e_row0_col12\" class=\"data row0 col12\" >0</td>\n",
       "      <td id=\"T_3e46e_row0_col13\" class=\"data row0 col13\" >0</td>\n",
       "      <td id=\"T_3e46e_row0_col14\" class=\"data row0 col14\" >0</td>\n",
       "      <td id=\"T_3e46e_row0_col15\" class=\"data row0 col15\" >0</td>\n",
       "    </tr>\n",
       "    <tr>\n",
       "      <th id=\"T_3e46e_level0_row1\" class=\"row_heading level0 row1\" >0</th>\n",
       "      <td id=\"T_3e46e_row1_col0\" class=\"data row1 col0\" >2B<br>0.731</td>\n",
       "      <td id=\"T_3e46e_row1_col1\" class=\"data row1 col1\" >7E<br>0.779</td>\n",
       "      <td id=\"T_3e46e_row1_col2\" class=\"data row1 col2\" >15<br>0.697</td>\n",
       "      <td id=\"T_3e46e_row1_col3\" class=\"data row1 col3\" >16<br>0.806</td>\n",
       "      <td id=\"T_3e46e_row1_col4\" class=\"data row1 col4\" >28<br>0.832</td>\n",
       "      <td id=\"T_3e46e_row1_col5\" class=\"data row1 col5\" >AE<br>0.559</td>\n",
       "      <td id=\"T_3e46e_row1_col6\" class=\"data row1 col6\" >D2<br>0.822</td>\n",
       "      <td id=\"T_3e46e_row1_col7\" class=\"data row1 col7\" >A6<br>0.689</td>\n",
       "      <td id=\"T_3e46e_row1_col8\" class=\"data row1 col8\" >AB<br>0.776</td>\n",
       "      <td id=\"T_3e46e_row1_col9\" class=\"data row1 col9\" >F7<br>0.705</td>\n",
       "      <td id=\"T_3e46e_row1_col10\" class=\"data row1 col10\" >15<br>0.782</td>\n",
       "      <td id=\"T_3e46e_row1_col11\" class=\"data row1 col11\" >88<br>0.846</td>\n",
       "      <td id=\"T_3e46e_row1_col12\" class=\"data row1 col12\" >09<br>0.777</td>\n",
       "      <td id=\"T_3e46e_row1_col13\" class=\"data row1 col13\" >CF<br>0.667</td>\n",
       "      <td id=\"T_3e46e_row1_col14\" class=\"data row1 col14\" >4F<br>0.758</td>\n",
       "      <td id=\"T_3e46e_row1_col15\" class=\"data row1 col15\" >3C<br>0.728</td>\n",
       "    </tr>\n",
       "    <tr>\n",
       "      <th id=\"T_3e46e_level0_row2\" class=\"row_heading level0 row2\" >1</th>\n",
       "      <td id=\"T_3e46e_row2_col0\" class=\"data row2 col0\" >35<br>0.488</td>\n",
       "      <td id=\"T_3e46e_row2_col1\" class=\"data row2 col1\" >A8<br>0.477</td>\n",
       "      <td id=\"T_3e46e_row2_col2\" class=\"data row2 col2\" >3D<br>0.451</td>\n",
       "      <td id=\"T_3e46e_row2_col3\" class=\"data row2 col3\" >8F<br>0.456</td>\n",
       "      <td id=\"T_3e46e_row2_col4\" class=\"data row2 col4\" >D3<br>0.449</td>\n",
       "      <td id=\"T_3e46e_row2_col5\" class=\"data row2 col5\" >76<br>0.466</td>\n",
       "      <td id=\"T_3e46e_row2_col6\" class=\"data row2 col6\" >14<br>0.481</td>\n",
       "      <td id=\"T_3e46e_row2_col7\" class=\"data row2 col7\" >67<br>0.477</td>\n",
       "      <td id=\"T_3e46e_row2_col8\" class=\"data row2 col8\" >1E<br>0.507</td>\n",
       "      <td id=\"T_3e46e_row2_col9\" class=\"data row2 col9\" >87<br>0.484</td>\n",
       "      <td id=\"T_3e46e_row2_col10\" class=\"data row2 col10\" >4E<br>0.525</td>\n",
       "      <td id=\"T_3e46e_row2_col11\" class=\"data row2 col11\" >04<br>0.450</td>\n",
       "      <td id=\"T_3e46e_row2_col12\" class=\"data row2 col12\" >84<br>0.461</td>\n",
       "      <td id=\"T_3e46e_row2_col13\" class=\"data row2 col13\" >C8<br>0.453</td>\n",
       "      <td id=\"T_3e46e_row2_col14\" class=\"data row2 col14\" >F0<br>0.462</td>\n",
       "      <td id=\"T_3e46e_row2_col15\" class=\"data row2 col15\" >12<br>0.459</td>\n",
       "    </tr>\n",
       "    <tr>\n",
       "      <th id=\"T_3e46e_level0_row3\" class=\"row_heading level0 row3\" >2</th>\n",
       "      <td id=\"T_3e46e_row3_col0\" class=\"data row3 col0\" >E1<br>0.478</td>\n",
       "      <td id=\"T_3e46e_row3_col1\" class=\"data row3 col1\" >36<br>0.467</td>\n",
       "      <td id=\"T_3e46e_row3_col2\" class=\"data row3 col2\" >59<br>0.447</td>\n",
       "      <td id=\"T_3e46e_row3_col3\" class=\"data row3 col3\" >02<br>0.455</td>\n",
       "      <td id=\"T_3e46e_row3_col4\" class=\"data row3 col4\" >F5<br>0.440</td>\n",
       "      <td id=\"T_3e46e_row3_col5\" class=\"data row3 col5\" >89<br>0.452</td>\n",
       "      <td id=\"T_3e46e_row3_col6\" class=\"data row3 col6\" >76<br>0.466</td>\n",
       "      <td id=\"T_3e46e_row3_col7\" class=\"data row3 col7\" >DC<br>0.461</td>\n",
       "      <td id=\"T_3e46e_row3_col8\" class=\"data row3 col8\" >78<br>0.482</td>\n",
       "      <td id=\"T_3e46e_row3_col9\" class=\"data row3 col9\" >D4<br>0.477</td>\n",
       "      <td id=\"T_3e46e_row3_col10\" class=\"data row3 col10\" >A1<br>0.485</td>\n",
       "      <td id=\"T_3e46e_row3_col11\" class=\"data row3 col11\" >5C<br>0.443</td>\n",
       "      <td id=\"T_3e46e_row3_col12\" class=\"data row3 col12\" >85<br>0.445</td>\n",
       "      <td id=\"T_3e46e_row3_col13\" class=\"data row3 col13\" >E2<br>0.443</td>\n",
       "      <td id=\"T_3e46e_row3_col14\" class=\"data row3 col14\" >10<br>0.460</td>\n",
       "      <td id=\"T_3e46e_row3_col15\" class=\"data row3 col15\" >88<br>0.454</td>\n",
       "    </tr>\n",
       "    <tr>\n",
       "      <th id=\"T_3e46e_level0_row4\" class=\"row_heading level0 row4\" >3</th>\n",
       "      <td id=\"T_3e46e_row4_col0\" class=\"data row4 col0\" >E9<br>0.475</td>\n",
       "      <td id=\"T_3e46e_row4_col1\" class=\"data row4 col1\" >CF<br>0.466</td>\n",
       "      <td id=\"T_3e46e_row4_col2\" class=\"data row4 col2\" >0E<br>0.443</td>\n",
       "      <td id=\"T_3e46e_row4_col3\" class=\"data row4 col3\" >28<br>0.451</td>\n",
       "      <td id=\"T_3e46e_row4_col4\" class=\"data row4 col4\" >86<br>0.439</td>\n",
       "      <td id=\"T_3e46e_row4_col5\" class=\"data row4 col5\" >4C<br>0.447</td>\n",
       "      <td id=\"T_3e46e_row4_col6\" class=\"data row4 col6\" >67<br>0.444</td>\n",
       "      <td id=\"T_3e46e_row4_col7\" class=\"data row4 col7\" >4F<br>0.449</td>\n",
       "      <td id=\"T_3e46e_row4_col8\" class=\"data row4 col8\" >2A<br>0.468</td>\n",
       "      <td id=\"T_3e46e_row4_col9\" class=\"data row4 col9\" >70<br>0.464</td>\n",
       "      <td id=\"T_3e46e_row4_col10\" class=\"data row4 col10\" >06<br>0.478</td>\n",
       "      <td id=\"T_3e46e_row4_col11\" class=\"data row4 col11\" >E9<br>0.441</td>\n",
       "      <td id=\"T_3e46e_row4_col12\" class=\"data row4 col12\" >AE<br>0.441</td>\n",
       "      <td id=\"T_3e46e_row4_col13\" class=\"data row4 col13\" >AF<br>0.438</td>\n",
       "      <td id=\"T_3e46e_row4_col14\" class=\"data row4 col14\" >15<br>0.449</td>\n",
       "      <td id=\"T_3e46e_row4_col15\" class=\"data row4 col15\" >ED<br>0.445</td>\n",
       "    </tr>\n",
       "    <tr>\n",
       "      <th id=\"T_3e46e_level0_row5\" class=\"row_heading level0 row5\" >4</th>\n",
       "      <td id=\"T_3e46e_row5_col0\" class=\"data row5 col0\" >73<br>0.472</td>\n",
       "      <td id=\"T_3e46e_row5_col1\" class=\"data row5 col1\" >B9<br>0.463</td>\n",
       "      <td id=\"T_3e46e_row5_col2\" class=\"data row5 col2\" >26<br>0.441</td>\n",
       "      <td id=\"T_3e46e_row5_col3\" class=\"data row5 col3\" >B9<br>0.451</td>\n",
       "      <td id=\"T_3e46e_row5_col4\" class=\"data row5 col4\" >BF<br>0.436</td>\n",
       "      <td id=\"T_3e46e_row5_col5\" class=\"data row5 col5\" >05<br>0.442</td>\n",
       "      <td id=\"T_3e46e_row5_col6\" class=\"data row5 col6\" >7A<br>0.442</td>\n",
       "      <td id=\"T_3e46e_row5_col7\" class=\"data row5 col7\" >A5<br>0.444</td>\n",
       "      <td id=\"T_3e46e_row5_col8\" class=\"data row5 col8\" >4A<br>0.441</td>\n",
       "      <td id=\"T_3e46e_row5_col9\" class=\"data row5 col9\" >8F<br>0.462</td>\n",
       "      <td id=\"T_3e46e_row5_col10\" class=\"data row5 col10\" >80<br>0.469</td>\n",
       "      <td id=\"T_3e46e_row5_col11\" class=\"data row5 col11\" >59<br>0.438</td>\n",
       "      <td id=\"T_3e46e_row5_col12\" class=\"data row5 col12\" >11<br>0.440</td>\n",
       "      <td id=\"T_3e46e_row5_col13\" class=\"data row5 col13\" >6E<br>0.430</td>\n",
       "      <td id=\"T_3e46e_row5_col14\" class=\"data row5 col14\" >90<br>0.446</td>\n",
       "      <td id=\"T_3e46e_row5_col15\" class=\"data row5 col15\" >C3<br>0.444</td>\n",
       "    </tr>\n",
       "  </tbody>\n",
       "</table>\n"
      ],
      "text/plain": [
       "<pandas.io.formats.style.Styler at 0x7fdca9b2c460>"
      ]
     },
     "metadata": {},
     "output_type": "display_data"
    }
   ],
   "source": [
    "import chipwhisperer.analyzer as cwa\n",
    "#pick right leakage model for your attack\n",
    "leak_model = cwa.leakage_models.t_table\n",
    "attack = cwa.cpa(project, leak_model)\n",
    "results = attack.run(cwa.get_jupyter_callback(attack))"
   ]
  },
  {
   "cell_type": "markdown",
   "metadata": {},
   "source": [
    "Did this attack work better than the previous one?\n",
    "\n",
    "## T-Tables for Decryption:\n",
    "\n",
    "Recall that the last round of AES is different than the rest of the rounds. Instead of it applying `subbytes`, `shiftrows`, `mixcolumns`, and `addroundkey`, it leaves out `mixcolumns`. You might expect that this means that decryption doesn't use a reverse T-Table in the first decryption round, but this isn't necessarily the case! Since `mixcolumns` is a linear operation, $\\operatorname{mixcolumns}( \\operatorname{key} + \\operatorname{state})$ is equal to  $\\operatorname{mixcolumns}(\\operatorname{key}) + \\operatorname{mixcolumns}(\\operatorname{state})$. Again, this is the approach that MBEDTLS takes, so we would be able to use the reverse T-Table to attack decryption."
   ]
  }
 ],
 "metadata": {
  "kernelspec": {
   "display_name": "Python 3 (ipykernel)",
   "language": "python",
   "name": "python3"
  },
  "language_info": {
   "codemirror_mode": {
    "name": "ipython",
    "version": 3
   },
   "file_extension": ".py",
   "mimetype": "text/x-python",
   "name": "python",
   "nbconvert_exporter": "python",
   "pygments_lexer": "ipython3",
   "version": "3.10.2"
  },
  "widgets": {
   "application/vnd.jupyter.widget-state+json": {
    "state": {
     "08c4fc12d61f47738fb42604cdd1df78": {
      "model_module": "@jupyter-widgets/base",
      "model_module_version": "2.0.0",
      "model_name": "LayoutModel",
      "state": {
       "_model_module": "@jupyter-widgets/base",
       "_model_module_version": "2.0.0",
       "_model_name": "LayoutModel",
       "_view_count": null,
       "_view_module": "@jupyter-widgets/base",
       "_view_module_version": "2.0.0",
       "_view_name": "LayoutView",
       "align_content": null,
       "align_items": null,
       "align_self": null,
       "border_bottom": null,
       "border_left": null,
       "border_right": null,
       "border_top": null,
       "bottom": null,
       "display": null,
       "flex": null,
       "flex_flow": null,
       "grid_area": null,
       "grid_auto_columns": null,
       "grid_auto_flow": null,
       "grid_auto_rows": null,
       "grid_column": null,
       "grid_gap": null,
       "grid_row": null,
       "grid_template_areas": null,
       "grid_template_columns": null,
       "grid_template_rows": null,
       "height": null,
       "justify_content": null,
       "justify_items": null,
       "left": null,
       "margin": null,
       "max_height": null,
       "max_width": null,
       "min_height": null,
       "min_width": null,
       "object_fit": null,
       "object_position": null,
       "order": null,
       "overflow": null,
       "padding": null,
       "right": null,
       "top": null,
       "visibility": null,
       "width": null
      }
     },
     "61f46f4ba8f240ea8c9174bcb682ff10": {
      "model_module": "@jupyter-widgets/controls",
      "model_module_version": "2.0.0",
      "model_name": "HTMLStyleModel",
      "state": {
       "_model_module": "@jupyter-widgets/controls",
       "_model_module_version": "2.0.0",
       "_model_name": "HTMLStyleModel",
       "_view_count": null,
       "_view_module": "@jupyter-widgets/base",
       "_view_module_version": "2.0.0",
       "_view_name": "StyleView",
       "background": null,
       "description_width": "",
       "font_size": null,
       "text_color": null
      }
     },
     "6b847d50d2b84e25b9b73df3ce8a89b5": {
      "model_module": "@jupyter-widgets/controls",
      "model_module_version": "2.0.0",
      "model_name": "HTMLStyleModel",
      "state": {
       "_model_module": "@jupyter-widgets/controls",
       "_model_module_version": "2.0.0",
       "_model_name": "HTMLStyleModel",
       "_view_count": null,
       "_view_module": "@jupyter-widgets/base",
       "_view_module_version": "2.0.0",
       "_view_name": "StyleView",
       "background": null,
       "description_width": "",
       "font_size": null,
       "text_color": null
      }
     },
     "6f7b163d2ec2468985744a1f605e1ecf": {
      "model_module": "@jupyter-widgets/base",
      "model_module_version": "2.0.0",
      "model_name": "LayoutModel",
      "state": {
       "_model_module": "@jupyter-widgets/base",
       "_model_module_version": "2.0.0",
       "_model_name": "LayoutModel",
       "_view_count": null,
       "_view_module": "@jupyter-widgets/base",
       "_view_module_version": "2.0.0",
       "_view_name": "LayoutView",
       "align_content": null,
       "align_items": null,
       "align_self": null,
       "border_bottom": null,
       "border_left": null,
       "border_right": null,
       "border_top": null,
       "bottom": null,
       "display": null,
       "flex": null,
       "flex_flow": null,
       "grid_area": null,
       "grid_auto_columns": null,
       "grid_auto_flow": null,
       "grid_auto_rows": null,
       "grid_column": null,
       "grid_gap": null,
       "grid_row": null,
       "grid_template_areas": null,
       "grid_template_columns": null,
       "grid_template_rows": null,
       "height": null,
       "justify_content": null,
       "justify_items": null,
       "left": null,
       "margin": null,
       "max_height": null,
       "max_width": null,
       "min_height": null,
       "min_width": null,
       "object_fit": null,
       "object_position": null,
       "order": null,
       "overflow": null,
       "padding": null,
       "right": null,
       "top": null,
       "visibility": null,
       "width": null
      }
     },
     "788643ccf0a4425e8ef190509de9df81": {
      "model_module": "@jupyter-widgets/controls",
      "model_module_version": "2.0.0",
      "model_name": "FloatProgressModel",
      "state": {
       "_dom_classes": [],
       "_model_module": "@jupyter-widgets/controls",
       "_model_module_version": "2.0.0",
       "_model_name": "FloatProgressModel",
       "_view_count": null,
       "_view_module": "@jupyter-widgets/controls",
       "_view_module_version": "2.0.0",
       "_view_name": "ProgressView",
       "bar_style": "success",
       "description": "",
       "description_allow_html": false,
       "layout": "IPY_MODEL_6f7b163d2ec2468985744a1f605e1ecf",
       "max": 100.0,
       "min": 0.0,
       "orientation": "horizontal",
       "style": "IPY_MODEL_83ae8ad42d7848bdb3f11de7d1e8a5fa",
       "tabbable": null,
       "tooltip": null,
       "value": 100.0
      }
     },
     "83ae8ad42d7848bdb3f11de7d1e8a5fa": {
      "model_module": "@jupyter-widgets/controls",
      "model_module_version": "2.0.0",
      "model_name": "ProgressStyleModel",
      "state": {
       "_model_module": "@jupyter-widgets/controls",
       "_model_module_version": "2.0.0",
       "_model_name": "ProgressStyleModel",
       "_view_count": null,
       "_view_module": "@jupyter-widgets/base",
       "_view_module_version": "2.0.0",
       "_view_name": "StyleView",
       "bar_color": null,
       "description_width": ""
      }
     },
     "83d4414379ab427d916c1e6130fe85e9": {
      "model_module": "@jupyter-widgets/base",
      "model_module_version": "2.0.0",
      "model_name": "LayoutModel",
      "state": {
       "_model_module": "@jupyter-widgets/base",
       "_model_module_version": "2.0.0",
       "_model_name": "LayoutModel",
       "_view_count": null,
       "_view_module": "@jupyter-widgets/base",
       "_view_module_version": "2.0.0",
       "_view_name": "LayoutView",
       "align_content": null,
       "align_items": null,
       "align_self": null,
       "border_bottom": null,
       "border_left": null,
       "border_right": null,
       "border_top": null,
       "bottom": null,
       "display": null,
       "flex": null,
       "flex_flow": null,
       "grid_area": null,
       "grid_auto_columns": null,
       "grid_auto_flow": null,
       "grid_auto_rows": null,
       "grid_column": null,
       "grid_gap": null,
       "grid_row": null,
       "grid_template_areas": null,
       "grid_template_columns": null,
       "grid_template_rows": null,
       "height": null,
       "justify_content": null,
       "justify_items": null,
       "left": null,
       "margin": null,
       "max_height": null,
       "max_width": null,
       "min_height": null,
       "min_width": null,
       "object_fit": null,
       "object_position": null,
       "order": null,
       "overflow": null,
       "padding": null,
       "right": null,
       "top": null,
       "visibility": null,
       "width": null
      }
     },
     "8f087f859df547b1b18b9f0181bc8132": {
      "model_module": "@jupyter-widgets/controls",
      "model_module_version": "2.0.0",
      "model_name": "HTMLModel",
      "state": {
       "_dom_classes": [],
       "_model_module": "@jupyter-widgets/controls",
       "_model_module_version": "2.0.0",
       "_model_name": "HTMLModel",
       "_view_count": null,
       "_view_module": "@jupyter-widgets/controls",
       "_view_module_version": "2.0.0",
       "_view_name": "HTMLView",
       "description": "",
       "description_allow_html": false,
       "layout": "IPY_MODEL_83d4414379ab427d916c1e6130fe85e9",
       "placeholder": "​",
       "style": "IPY_MODEL_61f46f4ba8f240ea8c9174bcb682ff10",
       "tabbable": null,
       "tooltip": null,
       "value": "Capturing traces: 100%"
      }
     },
     "bcdfb25464844dd7870bfc50a4fc4c19": {
      "model_module": "@jupyter-widgets/controls",
      "model_module_version": "2.0.0",
      "model_name": "HBoxModel",
      "state": {
       "_dom_classes": [],
       "_model_module": "@jupyter-widgets/controls",
       "_model_module_version": "2.0.0",
       "_model_name": "HBoxModel",
       "_view_count": null,
       "_view_module": "@jupyter-widgets/controls",
       "_view_module_version": "2.0.0",
       "_view_name": "HBoxView",
       "box_style": "",
       "children": [
        "IPY_MODEL_8f087f859df547b1b18b9f0181bc8132",
        "IPY_MODEL_788643ccf0a4425e8ef190509de9df81",
        "IPY_MODEL_d20232d3ef714f4288c3d9f8f87754fc"
       ],
       "layout": "IPY_MODEL_dafb85494b21439593da27fc7c685c77",
       "tabbable": null,
       "tooltip": null
      }
     },
     "d20232d3ef714f4288c3d9f8f87754fc": {
      "model_module": "@jupyter-widgets/controls",
      "model_module_version": "2.0.0",
      "model_name": "HTMLModel",
      "state": {
       "_dom_classes": [],
       "_model_module": "@jupyter-widgets/controls",
       "_model_module_version": "2.0.0",
       "_model_name": "HTMLModel",
       "_view_count": null,
       "_view_module": "@jupyter-widgets/controls",
       "_view_module_version": "2.0.0",
       "_view_name": "HTMLView",
       "description": "",
       "description_allow_html": false,
       "layout": "IPY_MODEL_08c4fc12d61f47738fb42604cdd1df78",
       "placeholder": "​",
       "style": "IPY_MODEL_6b847d50d2b84e25b9b73df3ce8a89b5",
       "tabbable": null,
       "tooltip": null,
       "value": " 100/100 [00:01&lt;00:00, 62.31it/s]"
      }
     },
     "dafb85494b21439593da27fc7c685c77": {
      "model_module": "@jupyter-widgets/base",
      "model_module_version": "2.0.0",
      "model_name": "LayoutModel",
      "state": {
       "_model_module": "@jupyter-widgets/base",
       "_model_module_version": "2.0.0",
       "_model_name": "LayoutModel",
       "_view_count": null,
       "_view_module": "@jupyter-widgets/base",
       "_view_module_version": "2.0.0",
       "_view_name": "LayoutView",
       "align_content": null,
       "align_items": null,
       "align_self": null,
       "border_bottom": null,
       "border_left": null,
       "border_right": null,
       "border_top": null,
       "bottom": null,
       "display": null,
       "flex": null,
       "flex_flow": null,
       "grid_area": null,
       "grid_auto_columns": null,
       "grid_auto_flow": null,
       "grid_auto_rows": null,
       "grid_column": null,
       "grid_gap": null,
       "grid_row": null,
       "grid_template_areas": null,
       "grid_template_columns": null,
       "grid_template_rows": null,
       "height": null,
       "justify_content": null,
       "justify_items": null,
       "left": null,
       "margin": null,
       "max_height": null,
       "max_width": null,
       "min_height": null,
       "min_width": null,
       "object_fit": null,
       "object_position": null,
       "order": null,
       "overflow": null,
       "padding": null,
       "right": null,
       "top": null,
       "visibility": null,
       "width": null
      }
     }
    },
    "version_major": 2,
    "version_minor": 0
   }
  }
 },
 "nbformat": 4,
 "nbformat_minor": 2
}
