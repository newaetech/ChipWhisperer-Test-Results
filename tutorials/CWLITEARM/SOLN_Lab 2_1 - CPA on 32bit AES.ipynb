{
 "cells": [
  {
   "cell_type": "markdown",
   "metadata": {},
   "source": [
    "# Part 2, Topic 1: CPA Attack on 32bit AES (MAIN)"
   ]
  },
  {
   "cell_type": "markdown",
   "metadata": {},
   "source": [
    "---\n",
    "NOTE: This lab references some (commercial) training material on [ChipWhisperer.io](https://www.ChipWhisperer.io). You can freely execute and use the lab per the open-source license (including using it in your own courses if you distribute similarly), but you must maintain notice about this source location. Consider joining our training course to enjoy the full experience.\n",
    "\n",
    "---"
   ]
  },
  {
   "cell_type": "markdown",
   "metadata": {},
   "source": [
    "**SUMMARY:** *So far, we've been focusing on a single implementation of AES, TINYAES128C (or AVRCRYPTOLIB, if you're on XMEGA). TINYAES128C, which is designed to run on a variety of microcontrollers, doesn't make any implementation specific optimizations. In this lab, we'll look at how we can break a 32-bit optimized version of AES using a CPA attack.*\n",
    "\n",
    "**LEARNING OUTCOMES:**\n",
    "\n",
    "* Understanding how AES can be optimized on 32-bit platforms.\n",
    "* Attacking an optimized version of AES using CPA"
   ]
  },
  {
   "cell_type": "markdown",
   "metadata": {},
   "source": [
    "## Optimizing AES\n",
    "\n",
    "A 32-bit machine can operate on 32-bit words, so it seems wasteful to use the same 8-bit operations. For example, if we look at the SBox operation:\n",
    "\n",
    "$\n",
    "b = sbox(state) = sbox(\\left[ \\begin{array}\n",
    "& S0 & S4 & S8 & S12 \\\\\n",
    "S1 & S5 & S9 & S13 \\\\\n",
    "S2 & S6 & S10 & S14 \\\\\n",
    "S3 & S7 & S11 & S15\n",
    "\\end{array} \\right]) = \\left[ \\begin{array}\n",
    "& S0 & S4 & S8 & S12 \\\\\n",
    "S5 & S9 & S13 & S1 \\\\\n",
    "S10 & S14 & S2 & S6 \\\\\n",
    "S15 & S3 & S7 & S11\n",
    "\\end{array} \\right]\n",
    "$\n",
    "\n",
    "we could consider each row as a 32-bit number and do three bitwise rotates instead of moving a bunch of stuff around in memory. Even better, we can speed up AES considerably by generating 32-bit lookup tables, called T-Tables, as was described in the book [The Design of Rijndael](http://www.springer.com/gp/book/9783540425809) which was published by the authors of AES.\n",
    "\n",
    "In order to take full advantage of our 32 bit machine, we can examine a typical round of AES. With the exception of the final round, each round looks like:\n",
    "\n",
    "$\\text{a = Round Input}$\n",
    "\n",
    "$\\text{b = SubBytes(a)}$\n",
    "\n",
    "$\\text{c = ShiftRows(b)}$\n",
    "\n",
    "$\\text{d = MixColumns(c)}$\n",
    "\n",
    "$\\text{a' = AddRoundKey(d) = Round Output}$\n",
    "\n",
    "We'll leave AddRoundKey the way it is. The other operations are:\n",
    "\n",
    "$b_{i,j} = \\text{sbox}[a_{i,j}]$\n",
    "\n",
    "$\\left[ \\begin{array} { c } { c _ { 0 , j } } \\\\ { c _ { 1 , j } } \\\\ { c _ { 2 , j } } \\\\ { c _ { 3 , j } } \\end{array} \\right] = \\left[ \\begin{array} { l } { b _ { 0 , j + 0 } } \\\\ { b _ { 1 , j + 1 } } \\\\ { b _ { 2 , j + 2 } } \\\\ { b _ { 3 , j + 3 } } \\end{array} \\right]$\n",
    "\n",
    "$\\left[ \\begin{array} { l } { d _ { 0 , j } } \\\\ { d _ { 1 , j } } \\\\ { d _ { 2 , j } } \\\\ { d _ { 3 , j } } \\end{array} \\right] = \\left[ \\begin{array} { l l l l } { 02 } & { 03 } & { 01 } & { 01 } \\\\ { 01 } & { 02 } & { 03 } & { 01 } \\\\ { 01 } & { 01 } & { 02 } & { 03 } \\\\ { 03 } & { 01 } & { 01 } & { 02 } \\end{array} \\right] \\times \\left[ \\begin{array} { c } { c _ { 0 , j } } \\\\ { c _ { 1 , j } } \\\\ { c _ { 2 , j } } \\\\ { c _ { 3 , j } } \\end{array} \\right]$\n",
    "\n",
    "Note that the ShiftRows operation $b_{i, j+c}$ is a cyclic shift and the matrix multiplcation in MixColumns denotes the xtime operation in GF($2^8$).\n",
    "\n",
    "It's possible to combine all three of these operations into a single line. We can write 4 bytes of $d$ as the linear combination of four different 4 byte vectors:\n",
    "\n",
    "$\\left[ \\begin{array} { l } { d _ { 0 , j } } \\\\ { d _ { 1 , j } } \\\\ { d _ { 2 , j } } \\\\ { d _ { 3 , j } } \\end{array} \\right] = \\left[ \\begin{array} { l } { 02 } \\\\ { 01 } \\\\ { 01 } \\\\ { 03 } \\end{array} \\right] \\operatorname { sbox } \\left[ a _ { 0 , j + 0 } \\right] \\oplus \\left[ \\begin{array} { l } { 03 } \\\\ { 02 } \\\\ { 01 } \\\\ { 01 } \\end{array} \\right] \\operatorname { sbox } \\left[ a _ { 1 , j + 1 } \\right] \\oplus \\left[ \\begin{array} { c } { 01 } \\\\ { 03 } \\\\ { 02 } \\\\ { 01 } \\end{array} \\right] \\operatorname { sbox } \\left[ a _ { 2 , j + 2 } \\right] \\oplus \\left[ \\begin{array} { c } { 01 } \\\\ { 01 } \\\\ { 03 } \\\\ { 02 } \\end{array} \\right] \\operatorname { sbox } \\left[ a _ { 3 , j + 3 } \\right]$\n",
    "\n",
    "Now, for each of these four components, we can tabulate the outputs for every possible 8-bit input:\n",
    "\n",
    "$T _ { 0 } [ a ] = \\left[ \\begin{array} { l l } { 02 \\times \\operatorname { sbox } [ a ] } \\\\ { 01 \\times \\operatorname { sbox } [ a ] } \\\\ { 01 \\times \\operatorname { sbox } [ a ] } \\\\ { 03 \\times \\operatorname { sbox } [ a ] } \\end{array} \\right]$\n",
    "\n",
    "$T _ { 1 } [ a ] = \\left[ \\begin{array} { l } { 03 \\times \\operatorname { sbox } [ a ] } \\\\ { 02 \\times \\operatorname { sbox } [ a ] } \\\\ { 01 \\times \\operatorname { sbox } [ a ] } \\\\ { 01 \\times \\operatorname { sbox } [ a ] } \\end{array} \\right]$\n",
    "\n",
    "$T _ { 2 } [ a ] = \\left[ \\begin{array} { l l } { 01 \\times \\operatorname { sbox } [ a ] } \\\\ { 03 \\times \\operatorname { sbox } [ a ] } \\\\ { 02 \\times \\operatorname { sbox } [ a ] } \\\\ { 01 \\times \\operatorname { sbox } [ a ] } \\end{array} \\right]$\n",
    "\n",
    "$T _ { 3 } [ a ] = \\left[ \\begin{array} { l l } { 01 \\times \\operatorname { sbox } [ a ] } \\\\ { 01 \\times \\operatorname { sbox } [ a ] } \\\\ { 03 \\times \\operatorname { sbox } [ a ] } \\\\ { 02 \\times \\operatorname { sbox } [ a ] } \\end{array} \\right]$\n",
    "\n",
    "These tables have 2^8 different 32-bit entries, so together the tables take up 4 kB. Finally, we can quickly compute one round of AES by calculating\n",
    "\n",
    "$\\left[ \\begin{array} { l } { d _ { 0 , j } } \\\\ { d _ { 1 , j } } \\\\ { d _ { 2 , j } } \\\\ { d _ { 3 , j } } \\end{array} \\right] = T _ { 0 } \\left[ a _ { 0 } , j + 0 \\right] \\oplus T _ { 1 } \\left[ a _ { 1 } , j + 1 \\right] \\oplus T _ { 2 } \\left[ a _ { 2 } , j + 2 \\right] \\oplus T _ { 3 } \\left[ a _ { 3 } , j + 3 \\right]$\n",
    "\n",
    "All together, with AddRoundKey at the end, a single round now takes 16 table lookups and 16 32-bit XOR operations. This arrangement is much more efficient than the traditional 8-bit implementation. There are a few more tradeoffs that can be made: for instance, the tables only differ by 8-bit shifts, so it's also possible to store only 1 kB of lookup tables at the expense of a few rotate operations.\n",
    "\n",
    "While the TINYAES128C library we've been using doesn't make this optimization, another library included with ChipWhisperer called MBEDTLS does."
   ]
  },
  {
   "cell_type": "code",
   "execution_count": 1,
   "metadata": {
    "execution": {
     "iopub.execute_input": "2025-03-15T00:22:13.551047Z",
     "iopub.status.busy": "2025-03-15T00:22:13.550414Z",
     "iopub.status.idle": "2025-03-15T00:22:13.562400Z",
     "shell.execute_reply": "2025-03-15T00:22:13.561338Z"
    }
   },
   "outputs": [],
   "source": [
    "SCOPETYPE = 'OPENADC'\n",
    "PLATFORM = 'CWLITEARM'\n",
    "VERSION = 'HARDWARE'\n",
    "SS_VER = 'SS_VER_2_1'\n",
    "\n",
    "CRYPTO_TARGET = 'TINYAES128C'\n",
    "allowable_exceptions = None\n"
   ]
  },
  {
   "cell_type": "code",
   "execution_count": 2,
   "metadata": {
    "execution": {
     "iopub.execute_input": "2025-03-15T00:22:13.566337Z",
     "iopub.status.busy": "2025-03-15T00:22:13.565629Z",
     "iopub.status.idle": "2025-03-15T00:22:13.570151Z",
     "shell.execute_reply": "2025-03-15T00:22:13.569127Z"
    }
   },
   "outputs": [],
   "source": [
    "CRYPTO_TARGET = 'MBEDTLS' # overwrite auto inserted CRYPTO_TARGET"
   ]
  },
  {
   "cell_type": "code",
   "execution_count": 3,
   "metadata": {
    "execution": {
     "iopub.execute_input": "2025-03-15T00:22:13.573942Z",
     "iopub.status.busy": "2025-03-15T00:22:13.573297Z",
     "iopub.status.idle": "2025-03-15T00:22:19.804264Z",
     "shell.execute_reply": "2025-03-15T00:22:19.802702Z"
    }
   },
   "outputs": [
    {
     "name": "stdout",
     "output_type": "stream",
     "text": [
      "INFO: Found ChipWhisperer😍\n"
     ]
    },
    {
     "name": "stdout",
     "output_type": "stream",
     "text": [
      "scope.gain.mode                          changed from low                       to high                     \n",
      "scope.gain.gain                          changed from 0                         to 30                       \n",
      "scope.gain.db                            changed from 5.5                       to 24.8359375               \n",
      "scope.adc.basic_mode                     changed from low                       to rising_edge              \n",
      "scope.adc.samples                        changed from 24400                     to 5000                     \n",
      "scope.adc.trig_count                     changed from 10770062                  to 21619454                 \n",
      "scope.clock.adc_src                      changed from clkgen_x1                 to clkgen_x4                \n",
      "scope.clock.adc_freq                     changed from 3291469                   to 29579246                 \n",
      "scope.clock.adc_rate                     changed from 3291469.0                 to 29579246.0               \n",
      "scope.clock.clkgen_div                   changed from 1                         to 26                       \n",
      "scope.clock.clkgen_freq                  changed from 192000000.0               to 7384615.384615385        \n",
      "scope.io.tio1                            changed from serial_tx                 to serial_rx                \n",
      "scope.io.tio2                            changed from serial_rx                 to serial_tx                \n",
      "scope.io.hs2                             changed from None                      to clkgen                   \n",
      "Building for platform CWLITEARM with CRYPTO_TARGET=MBEDTLS\n",
      "SS_VER set to SS_VER_2_1\n"
     ]
    },
    {
     "name": "stdout",
     "output_type": "stream",
     "text": [
      "SS_VER set to SS_VER_2_1\n",
      "Blank crypto options, building for AES128\n"
     ]
    },
    {
     "name": "stdout",
     "output_type": "stream",
     "text": [
      ".\n"
     ]
    },
    {
     "name": "stdout",
     "output_type": "stream",
     "text": [
      "Welcome to another exciting ChipWhisperer target build!!\n"
     ]
    },
    {
     "name": "stdout",
     "output_type": "stream",
     "text": [
      "arm-none-eabi-gcc (15:9-2019-q4-0ubuntu1) 9.2.1 20191025 (release) [ARM/arm-9-branch revision 277599"
     ]
    },
    {
     "name": "stdout",
     "output_type": "stream",
     "text": [
      "]\n",
      "Copyright (C) 2019 Free Software Foundation, Inc.\n",
      "This is free software; see the source for copyin"
     ]
    },
    {
     "name": "stdout",
     "output_type": "stream",
     "text": [
      "g conditions.  There is NO\n",
      "warranty; not even for MERCHANTABILITY or FITNESS FOR A PARTICULAR PURPOS"
     ]
    },
    {
     "name": "stdout",
     "output_type": "stream",
     "text": [
      "E.\n",
      "\n"
     ]
    },
    {
     "name": "stdout",
     "output_type": "stream",
     "text": [
      "mkdir -p objdir-CWLITEARM \n"
     ]
    },
    {
     "name": "stdout",
     "output_type": "stream",
     "text": [
      ".\n"
     ]
    },
    {
     "name": "stdout",
     "output_type": "stream",
     "text": [
      "Compiling:\n"
     ]
    },
    {
     "name": "stdout",
     "output_type": "stream",
     "text": [
      "-en     simpleserial-aes.c ...\n"
     ]
    },
    {
     "name": "stdout",
     "output_type": "stream",
     "text": [
      "-e Done!\n"
     ]
    },
    {
     "name": "stdout",
     "output_type": "stream",
     "text": [
      ".\n"
     ]
    },
    {
     "name": "stdout",
     "output_type": "stream",
     "text": [
      "Compiling:\n"
     ]
    },
    {
     "name": "stdout",
     "output_type": "stream",
     "text": [
      "-en     .././simpleserial/simpleserial.c ...\n"
     ]
    },
    {
     "name": "stdout",
     "output_type": "stream",
     "text": [
      "-e Done!\n"
     ]
    },
    {
     "name": "stdout",
     "output_type": "stream",
     "text": [
      ".\n"
     ]
    },
    {
     "name": "stdout",
     "output_type": "stream",
     "text": [
      "Compiling:\n"
     ]
    },
    {
     "name": "stdout",
     "output_type": "stream",
     "text": [
      "-en     .././hal//stm32f3/stm32f3_hal.c ...\n"
     ]
    },
    {
     "name": "stdout",
     "output_type": "stream",
     "text": [
      "-e Done!\n"
     ]
    },
    {
     "name": "stdout",
     "output_type": "stream",
     "text": [
      ".\n"
     ]
    },
    {
     "name": "stdout",
     "output_type": "stream",
     "text": [
      "Compiling:\n"
     ]
    },
    {
     "name": "stdout",
     "output_type": "stream",
     "text": [
      "-en     .././hal//stm32f3/stm32f3_hal_lowlevel.c ...\n"
     ]
    },
    {
     "name": "stdout",
     "output_type": "stream",
     "text": [
      "-e Done!\n"
     ]
    },
    {
     "name": "stdout",
     "output_type": "stream",
     "text": [
      ".\n"
     ]
    },
    {
     "name": "stdout",
     "output_type": "stream",
     "text": [
      "Compiling:\n"
     ]
    },
    {
     "name": "stdout",
     "output_type": "stream",
     "text": [
      "-en     .././hal//stm32f3/stm32f3_sysmem.c ...\n"
     ]
    },
    {
     "name": "stdout",
     "output_type": "stream",
     "text": [
      "-e Done!\n"
     ]
    },
    {
     "name": "stdout",
     "output_type": "stream",
     "text": [
      ".\n"
     ]
    },
    {
     "name": "stdout",
     "output_type": "stream",
     "text": [
      "Compiling:\n"
     ]
    },
    {
     "name": "stdout",
     "output_type": "stream",
     "text": [
      "-en     .././crypto/aes-independant.c ...\n"
     ]
    },
    {
     "name": "stdout",
     "output_type": "stream",
     "text": [
      "-e Done!\n"
     ]
    },
    {
     "name": "stdout",
     "output_type": "stream",
     "text": [
      ".\n"
     ]
    },
    {
     "name": "stdout",
     "output_type": "stream",
     "text": [
      "Compiling:\n"
     ]
    },
    {
     "name": "stdout",
     "output_type": "stream",
     "text": [
      "-en     .././crypto/mbedtls//library/aes.c ...\n"
     ]
    },
    {
     "name": "stdout",
     "output_type": "stream",
     "text": [
      "-e Done!\n"
     ]
    },
    {
     "name": "stdout",
     "output_type": "stream",
     "text": [
      ".\n"
     ]
    },
    {
     "name": "stdout",
     "output_type": "stream",
     "text": [
      "Assembling: .././hal//stm32f3/stm32f3_startup.S\n",
      "arm-none-eabi-gcc -c -mcpu=cortex-m4 -I. -x assemble"
     ]
    },
    {
     "name": "stdout",
     "output_type": "stream",
     "text": [
      "r-with-cpp -mthumb -mfloat-abi=soft -fmessage-length=0 -ffunction-sections -DF_CPU=7372800 -Wa,-gsta"
     ]
    },
    {
     "name": "stdout",
     "output_type": "stream",
     "text": [
      "bs,-adhlns=objdir-CWLITEARM/stm32f3_startup.lst -I.././simpleserial/ -I.././hal/ -I.././hal/ -I.././"
     ]
    },
    {
     "name": "stdout",
     "output_type": "stream",
     "text": [
      "hal//stm32f3 -I.././hal//stm32f3/CMSIS -I.././hal//stm32f3/CMSIS/core -I.././hal//stm32f3/CMSIS/devi"
     ]
    },
    {
     "name": "stdout",
     "output_type": "stream",
     "text": [
      "ce -I.././hal//stm32f4/Legacy -I.././simpleserial/ -I.././crypto/ -I.././crypto/mbedtls//include ../"
     ]
    },
    {
     "name": "stdout",
     "output_type": "stream",
     "text": [
      "./hal//stm32f3/stm32f3_startup.S -o objdir-CWLITEARM/stm32f3_startup.o\n"
     ]
    },
    {
     "name": "stdout",
     "output_type": "stream",
     "text": [
      ".\n"
     ]
    },
    {
     "name": "stdout",
     "output_type": "stream",
     "text": [
      "LINKING:\n"
     ]
    },
    {
     "name": "stdout",
     "output_type": "stream",
     "text": [
      "-en     simpleserial-aes-CWLITEARM.elf ...\n"
     ]
    },
    {
     "name": "stdout",
     "output_type": "stream",
     "text": [
      "-e Done!\n"
     ]
    },
    {
     "name": "stdout",
     "output_type": "stream",
     "text": [
      ".\n",
      "Creating load file for Flash: simpleserial-aes-CWLITEARM.hex\n",
      "arm-none-eabi-objcopy -O ihex -R .eep"
     ]
    },
    {
     "name": "stdout",
     "output_type": "stream",
     "text": [
      "rom -R .fuse -R .lock -R .signature simpleserial-aes-CWLITEARM.elf simpleserial-aes-CWLITEARM.hex\n"
     ]
    },
    {
     "name": "stdout",
     "output_type": "stream",
     "text": [
      ".\n"
     ]
    },
    {
     "name": "stdout",
     "output_type": "stream",
     "text": [
      "Creating load file for Flash: simpleserial-aes-CWLITEARM.bin\n",
      "arm-none-eabi-objcopy -O binary -R .eep"
     ]
    },
    {
     "name": "stdout",
     "output_type": "stream",
     "text": [
      "rom -R .fuse -R .lock -R .signature simpleserial-aes-CWLITEARM.elf simpleserial-aes-CWLITEARM.bin\n"
     ]
    },
    {
     "name": "stdout",
     "output_type": "stream",
     "text": [
      ".\n"
     ]
    },
    {
     "name": "stdout",
     "output_type": "stream",
     "text": [
      "Creating load file for EEPROM: simpleserial-aes-CWLITEARM.eep\n",
      "arm-none-eabi-objcopy -j .eeprom --set"
     ]
    },
    {
     "name": "stdout",
     "output_type": "stream",
     "text": [
      "-section-flags=.eeprom=\"alloc,load\" \\\n",
      "--change-section-lma .eeprom=0 --no-change-warnings -O ihex si"
     ]
    },
    {
     "name": "stdout",
     "output_type": "stream",
     "text": [
      "mpleserial-aes-CWLITEARM.elf simpleserial-aes-CWLITEARM.eep || exit 0\n"
     ]
    },
    {
     "name": "stdout",
     "output_type": "stream",
     "text": [
      ".\n",
      "Creating Extended Listing: simpleserial-aes-CWLITEARM.lss\n",
      "arm-none-eabi-objdump -h -S -z simpleser"
     ]
    },
    {
     "name": "stdout",
     "output_type": "stream",
     "text": [
      "ial-aes-CWLITEARM.elf > simpleserial-aes-CWLITEARM.lss\n"
     ]
    },
    {
     "name": "stdout",
     "output_type": "stream",
     "text": [
      ".\n"
     ]
    },
    {
     "name": "stdout",
     "output_type": "stream",
     "text": [
      "Creating Symbol Table: simpleserial-aes-CWLITEARM.sym\n"
     ]
    },
    {
     "name": "stdout",
     "output_type": "stream",
     "text": [
      "arm-none-eabi-nm -n simpleserial-aes-CWLITEARM.elf > simpleserial-aes-CWLITEARM.sym\n"
     ]
    },
    {
     "name": "stdout",
     "output_type": "stream",
     "text": [
      "Size after:\n"
     ]
    },
    {
     "name": "stdout",
     "output_type": "stream",
     "text": [
      "   text\t   data\t    bss\t    dec\t    hex\tfilename\n",
      "  16268\t      8\t   1648\t  17924\t   4604\tsimpleseria"
     ]
    },
    {
     "name": "stdout",
     "output_type": "stream",
     "text": [
      "l-aes-CWLITEARM.elf\n"
     ]
    },
    {
     "name": "stdout",
     "output_type": "stream",
     "text": [
      "+--------------------------------------------------------\n"
     ]
    },
    {
     "name": "stdout",
     "output_type": "stream",
     "text": [
      "+ Default target does full rebuild each time.\n",
      "+ Specify buildtarget == allquick == to avoid full reb"
     ]
    },
    {
     "name": "stdout",
     "output_type": "stream",
     "text": [
      "uild\n"
     ]
    },
    {
     "name": "stdout",
     "output_type": "stream",
     "text": [
      "+--------------------------------------------------------\n",
      "+-----------------------------------------"
     ]
    },
    {
     "name": "stdout",
     "output_type": "stream",
     "text": [
      "---------------\n",
      "+ Built for platform CW-Lite Arm \\(STM32F3\\) with:\n"
     ]
    },
    {
     "name": "stdout",
     "output_type": "stream",
     "text": [
      "+ CRYPTO_TARGET = MBEDTLS\n",
      "+ CRYPTO_OPTIONS = AES128C\n"
     ]
    },
    {
     "name": "stdout",
     "output_type": "stream",
     "text": [
      "+--------------------------------------------------------\n"
     ]
    },
    {
     "name": "stdout",
     "output_type": "stream",
     "text": [
      "Detected known STMF32: STM32F302xB(C)/303xB(C)\n",
      "Extended erase (0x44), this can take ten seconds or more\n"
     ]
    },
    {
     "ename": "FileNotFoundError",
     "evalue": "[Errno 2] No such file or directory: '../../../firmware/mcu/simpleserial-aes/simpleserial-aes-CWLITEARM.hex'",
     "output_type": "error",
     "traceback": [
      "---------------------------------------------------------------------------",
      "FileNotFoundError                         Traceback (most recent call last)",
      "Cell In[3], line 121\n    117 # In[ ]:\n    120 fw_path = '../../../firmware/mcu/simpleserial-aes/simpleserial-aes-{}.hex'.format(PLATFORM)\n--> 121 cw.program_target(scope, prog, fw_path)\n    124 # In[ ]:\n    125 \n    126 \n    127 #Capture Traces\n    128 from tqdm.notebook import trange, trange\n",
      "File ~/chipwhisperer/software/chipwhisperer/__init__.py:183, in program_target(scope, prog_type, fw_path, **kwargs)\n    181     prog.find()\n    182     prog.erase()\n--> 183     prog.program(fw_path, memtype=\"flash\", verify=True)\n    184     prog.close()\n    185 except:\n",
      "File ~/chipwhisperer/software/chipwhisperer/capture/api/programmers.py:129, in save_and_restore_pins.<locals>.func_wrapper(self, *args, **kwargs)\n    126 target_logger.debug('Changing {} pin configuration'.format(pin_setup))\n    128 try:\n--> 129     val = func(self, *args, **kwargs)\n    130 finally:\n    131     target_logger.debug('Restoring {} pin configuration'.format(pin_setup))\n",
      "File ~/chipwhisperer/software/chipwhisperer/capture/api/programmers.py:429, in STM32FProgrammer.program(self, filename, memtype, verify)\n    427 stm32f = self.stm32prog()\n    428 stm32f.scope = self.scope\n--> 429 stm32f.program(filename, memtype, verify)\n",
      "File ~/chipwhisperer/software/chipwhisperer/hardware/naeusb/programmer_stm32fserial.py:38, in close_on_fail.<locals>.func_wrapper(self, *args, **kwargs)\n     35 @wraps(func)\n     36 def func_wrapper(self, *args, **kwargs):\n     37     try:\n---> 38         return func(self, *args, **kwargs)\n     39     except:\n     40         self.close_port()\n",
      "File ~/chipwhisperer/software/chipwhisperer/hardware/naeusb/programmer_stm32fserial.py:198, in STM32FSerial.program(self, filename, memtype, verify, logfunc, waitfunc, send_chunk)\n    195 \"\"\"Programs memory type, dealing with opening filename as either .hex or .bin file\"\"\"\n    196 self.lastFlashedFile = filename\n--> 198 f = IntelHex(filename)\n    200 fsize = f.maxaddr() - f.minaddr()\n    201 fdata = f.tobinarray(start=f.minaddr())\n",
      "File ~/chipwhisperer/software/chipwhisperer/capture/utils/IntelHex.py:99, in IntelHex.__init__(self, source)\n     96 if source is not None:\n     97     if isinstance(source, StrType) or getattr(source, \"read\", None):\n     98         # load hex file\n---> 99         self.loadhex(source)\n    100     elif isinstance(source, dict):\n    101         self.fromdict(source)\n",
      "File ~/chipwhisperer/software/chipwhisperer/capture/utils/IntelHex.py:208, in IntelHex.loadhex(self, fobj)\n    201 \"\"\"Load hex file into internal buffer. This is not necessary\n    202 if object was initialized with source set. This will overwrite\n    203 addresses if object was already initialized.\n    204 \n    205 @param  fobj        file name or file-like object\n    206 \"\"\"\n    207 if getattr(fobj, \"read\", None) is None:\n--> 208     fobj = open(fobj, \"r\")\n    209     fclose = fobj.close\n    210 else:\n",
      "FileNotFoundError: [Errno 2] No such file or directory: '../../../firmware/mcu/simpleserial-aes/simpleserial-aes-CWLITEARM.hex'"
     ]
    }
   ],
   "source": [
    "if VERSION == 'HARDWARE':\n",
    "    \n",
    "    #!/usr/bin/env python\n",
    "    # coding: utf-8\n",
    "    \n",
    "    # # Part 2, Topic 1: CPA Attack on 32bit AES (HARDWARE)\n",
    "    \n",
    "    # ---\n",
    "    # NOTE: This lab references some (commercial) training material on [ChipWhisperer.io](https://www.ChipWhisperer.io). You can freely execute and use the lab per the open-source license (including using it in your own courses if you distribute similarly), but you must maintain notice about this source location. Consider joining our training course to enjoy the full experience.\n",
    "    # \n",
    "    # ---\n",
    "    \n",
    "    # Usual capture, just using MBEDTLS instead of TINYAES128\n",
    "    \n",
    "    # In[ ]:\n",
    "    \n",
    "    \n",
    "    \n",
    "    \n",
    "    \n",
    "    # In[ ]:\n",
    "    \n",
    "    \n",
    "    \n",
    "    #!/usr/bin/env python\n",
    "    # coding: utf-8\n",
    "    \n",
    "    # In[ ]:\n",
    "    \n",
    "    \n",
    "    import chipwhisperer as cw\n",
    "    \n",
    "    try:\n",
    "        if not scope.connectStatus:\n",
    "            scope.con()\n",
    "    except NameError:\n",
    "        scope = cw.scope(hw_location=(5, 3))\n",
    "    \n",
    "    try:\n",
    "        if SS_VER == \"SS_VER_2_1\":\n",
    "            target_type = cw.targets.SimpleSerial2\n",
    "        elif SS_VER == \"SS_VER_2_0\":\n",
    "            raise OSError(\"SS_VER_2_0 is deprecated. Use SS_VER_2_1\")\n",
    "        else:\n",
    "            target_type = cw.targets.SimpleSerial\n",
    "    except:\n",
    "        SS_VER=\"SS_VER_1_1\"\n",
    "        target_type = cw.targets.SimpleSerial\n",
    "    \n",
    "    try:\n",
    "        target = cw.target(scope, target_type)\n",
    "    except:\n",
    "        print(\"INFO: Caught exception on reconnecting to target - attempting to reconnect to scope first.\")\n",
    "        print(\"INFO: This is a work-around when USB has died without Python knowing. Ignore errors above this line.\")\n",
    "        scope = cw.scope(hw_location=(5, 3))\n",
    "        target = cw.target(scope, target_type)\n",
    "    \n",
    "    \n",
    "    print(\"INFO: Found ChipWhisperer😍\")\n",
    "    \n",
    "    \n",
    "    # In[ ]:\n",
    "    \n",
    "    \n",
    "    if \"STM\" in PLATFORM or PLATFORM == \"CWLITEARM\" or PLATFORM == \"CWNANO\":\n",
    "        prog = cw.programmers.STM32FProgrammer\n",
    "    elif PLATFORM == \"CW303\" or PLATFORM == \"CWLITEXMEGA\":\n",
    "        prog = cw.programmers.XMEGAProgrammer\n",
    "    elif \"neorv32\" in PLATFORM.lower():\n",
    "        prog = cw.programmers.NEORV32Programmer\n",
    "    elif PLATFORM == \"CW308_SAM4S\" or PLATFORM == \"CWHUSKY\":\n",
    "        prog = cw.programmers.SAM4SProgrammer\n",
    "    else:\n",
    "        prog = None\n",
    "    \n",
    "    \n",
    "    # In[ ]:\n",
    "    \n",
    "    \n",
    "    import time\n",
    "    time.sleep(0.05)\n",
    "    scope.default_setup()\n",
    "    \n",
    "    def reset_target(scope):\n",
    "        if PLATFORM == \"CW303\" or PLATFORM == \"CWLITEXMEGA\":\n",
    "            scope.io.pdic = 'low'\n",
    "            time.sleep(0.1)\n",
    "            scope.io.pdic = 'high_z' #XMEGA doesn't like pdic driven high\n",
    "            time.sleep(0.1) #xmega needs more startup time\n",
    "        elif \"neorv32\" in PLATFORM.lower():\n",
    "            raise IOError(\"Default iCE40 neorv32 build does not have external reset - reprogram device to reset\")\n",
    "        elif PLATFORM == \"CW308_SAM4S\" or PLATFORM == \"CWHUSKY\":\n",
    "            scope.io.nrst = 'low'\n",
    "            time.sleep(0.25)\n",
    "            scope.io.nrst = 'high_z'\n",
    "            time.sleep(0.25)\n",
    "        else:  \n",
    "            scope.io.nrst = 'low'\n",
    "            time.sleep(0.05)\n",
    "            scope.io.nrst = 'high_z'\n",
    "            time.sleep(0.05)\n",
    "    \n",
    "    \n",
    "\n",
    "    \n",
    "    \n",
    "    # In[ ]:\n",
    "    \n",
    "    \n",
    "    try:\n",
    "        get_ipython().run_cell_magic('bash', '-s \"$PLATFORM\" \"$CRYPTO_TARGET\" \"$SS_VER\"', 'cd ../../../firmware/mcu/simpleserial-aes\\nmake PLATFORM=$1 CRYPTO_TARGET=$2 SS_VER=$3\\n &> /tmp/tmp.txt')\n",
    "    except:\n",
    "        x=open(\"/tmp/tmp.txt\").read(); print(x); raise OSError(x)\n",
    "\n",
    "    \n",
    "    \n",
    "    # In[ ]:\n",
    "    \n",
    "    \n",
    "    fw_path = '../../../firmware/mcu/simpleserial-aes/simpleserial-aes-{}.hex'.format(PLATFORM)\n",
    "    cw.program_target(scope, prog, fw_path)\n",
    "    \n",
    "    \n",
    "    # In[ ]:\n",
    "    \n",
    "    \n",
    "    #Capture Traces\n",
    "    from tqdm.notebook import trange, trange\n",
    "    import numpy as np\n",
    "    import time\n",
    "    \n",
    "    ktp = cw.ktp.Basic()\n",
    "    \n",
    "    traces = []\n",
    "    N = 100  # Number of traces\n",
    "    project = cw.create_project(\"traces/32bit_AES.cwp\", overwrite=True)\n",
    "    \n",
    "    for i in trange(N, desc='Capturing traces'):\n",
    "        key, text = ktp.next()  # manual creation of a key, text pair can be substituted here\n",
    "    \n",
    "        trace = cw.capture_trace(scope, target, text, key)\n",
    "        if trace is None:\n",
    "            continue\n",
    "        project.traces.append(trace)\n",
    "    \n",
    "    try:\n",
    "        print(scope.adc.trig_count) # print if this exists\n",
    "    except:\n",
    "        pass\n",
    "    project.save()\n",
    "    \n",
    "    \n",
    "    # In[ ]:\n",
    "    \n",
    "    \n",
    "    scope.dis()\n",
    "    target.dis()\n",
    "    \n",
    "    \n",
    "\n",
    "elif VERSION == 'SIMULATED':\n",
    "    \n",
    "    #!/usr/bin/env python\n",
    "    # coding: utf-8\n",
    "    \n",
    "    # # Part 2, Topic 1: CPA Attack on 32bit AES (SIMULATED)\n",
    "    \n",
    "    # ---\n",
    "    # NOTE: This lab references some (commercial) training material on [ChipWhisperer.io](https://www.ChipWhisperer.io). You can freely execute and use the lab per the open-source license (including using it in your own courses if you distribute similarly), but you must maintain notice about this source location. Consider joining our training course to enjoy the full experience.\n",
    "    # \n",
    "    # ---\n",
    "    \n",
    "    # In[ ]:\n",
    "    \n",
    "    \n",
    "    import chipwhisperer as cw\n",
    "    project = cw.open_project(\"traces/32bit_AES.cwp\")\n",
    "    \n",
    "    \n"
   ]
  },
  {
   "cell_type": "markdown",
   "metadata": {},
   "source": [
    "If we plot the AES power trace:"
   ]
  },
  {
   "cell_type": "code",
   "execution_count": 4,
   "metadata": {
    "execution": {
     "iopub.execute_input": "2025-03-15T00:22:19.809432Z",
     "iopub.status.busy": "2025-03-15T00:22:19.808995Z",
     "iopub.status.idle": "2025-03-15T00:22:19.917860Z",
     "shell.execute_reply": "2025-03-15T00:22:19.916717Z"
    }
   },
   "outputs": [
    {
     "ename": "NameError",
     "evalue": "name 'project' is not defined",
     "output_type": "error",
     "traceback": [
      "\u001b[0;31m---------------------------------------------------------------------------\u001b[0m",
      "\u001b[0;31mNameError\u001b[0m                                 Traceback (most recent call last)",
      "Cell \u001b[0;32mIn[4], line 1\u001b[0m\n\u001b[0;32m----> 1\u001b[0m cw\u001b[38;5;241m.\u001b[39mplot(\u001b[43mproject\u001b[49m\u001b[38;5;241m.\u001b[39mwaves[\u001b[38;5;241m0\u001b[39m])\n",
      "\u001b[0;31mNameError\u001b[0m: name 'project' is not defined"
     ]
    }
   ],
   "source": [
    "cw.plot(project.waves[0])"
   ]
  },
  {
   "cell_type": "markdown",
   "metadata": {},
   "source": [
    "You probably can't even pick out the different AES rounds anymore (whereas it was pretty obvious on TINYAES128C). MBED is also way faster - we only got part way into round 2 with 5000 samples of TINYAES, but with MBED we can finish the entire encryption in less than 5000 samples! Two questions we need to answer now are:\n",
    "\n",
    "1. Is it possible for us to break this AES implementation?\n",
    "1. If so, what sort of leakage model do we need?\n",
    "\n",
    "As it turns out, the answers are:\n",
    "\n",
    "1. Yes!\n",
    "1. We can continue to use the same leakage model - the SBox output\n",
    "\n",
    "This might come as a surprise, but it's true! Two of the t_table lookups are just the sbox[key^plaintext] that we used before. Try the analysis for yourself now and verify that this is correct:"
   ]
  },
  {
   "cell_type": "code",
   "execution_count": 5,
   "metadata": {
    "execution": {
     "iopub.execute_input": "2025-03-15T00:22:19.921664Z",
     "iopub.status.busy": "2025-03-15T00:22:19.921290Z",
     "iopub.status.idle": "2025-03-15T00:22:19.949392Z",
     "shell.execute_reply": "2025-03-15T00:22:19.948197Z"
    }
   },
   "outputs": [
    {
     "ename": "NameError",
     "evalue": "name 'project' is not defined",
     "output_type": "error",
     "traceback": [
      "\u001b[0;31m---------------------------------------------------------------------------\u001b[0m",
      "\u001b[0;31mNameError\u001b[0m                                 Traceback (most recent call last)",
      "Cell \u001b[0;32mIn[5], line 4\u001b[0m\n\u001b[1;32m      2\u001b[0m \u001b[38;5;66;03m#pick right leakage model for your attack\u001b[39;00m\n\u001b[1;32m      3\u001b[0m leak_model \u001b[38;5;241m=\u001b[39m cwa\u001b[38;5;241m.\u001b[39mleakage_models\u001b[38;5;241m.\u001b[39msbox_output\n\u001b[0;32m----> 4\u001b[0m attack \u001b[38;5;241m=\u001b[39m cwa\u001b[38;5;241m.\u001b[39mcpa(\u001b[43mproject\u001b[49m, leak_model)\n\u001b[1;32m      5\u001b[0m results \u001b[38;5;241m=\u001b[39m attack\u001b[38;5;241m.\u001b[39mrun(cwa\u001b[38;5;241m.\u001b[39mget_jupyter_callback(attack))\n",
      "\u001b[0;31mNameError\u001b[0m: name 'project' is not defined"
     ]
    }
   ],
   "source": [
    "import chipwhisperer.analyzer as cwa\n",
    "#pick right leakage model for your attack\n",
    "leak_model = cwa.leakage_models.sbox_output\n",
    "attack = cwa.cpa(project, leak_model)\n",
    "results = attack.run(cwa.get_jupyter_callback(attack))"
   ]
  },
  {
   "cell_type": "markdown",
   "metadata": {},
   "source": [
    "## Improving the Model\n",
    "\n",
    "While this model works alright for mbedtls, you probably wouldn't be surprised if it wasn't the best model to attack with. Instead, we can attack the full T-Tables. Returning again to the T-Tables:\n",
    "\n",
    "$T _ { 0 } [ a ] = \\left[ \\begin{array} { l l } { 02 \\times \\operatorname { sbox } [ a ] } \\\\ { 01 \\times \\operatorname { sbox } [ a ] } \\\\ { 01 \\times \\operatorname { sbox } [ a ] } \\\\ { 03 \\times \\operatorname { sbox } [ a ] } \\end{array} \\right]$\n",
    "\n",
    "$T _ { 1 } [ a ] = \\left[ \\begin{array} { l } { 03 \\times \\operatorname { sbox } [ a ] } \\\\ { 02 \\times \\operatorname { sbox } [ a ] } \\\\ { 01 \\times \\operatorname { sbox } [ a ] } \\\\ { 01 \\times \\operatorname { sbox } [ a ] } \\end{array} \\right]$\n",
    "\n",
    "$T _ { 2 } [ a ] = \\left[ \\begin{array} { l l } { 01 \\times \\operatorname { sbox } [ a ] } \\\\ { 03 \\times \\operatorname { sbox } [ a ] } \\\\ { 02 \\times \\operatorname { sbox } [ a ] } \\\\ { 01 \\times \\operatorname { sbox } [ a ] } \\end{array} \\right]$\n",
    "\n",
    "$T _ { 3 } [ a ] = \\left[ \\begin{array} { l l } { 01 \\times \\operatorname { sbox } [ a ] } \\\\ { 01 \\times \\operatorname { sbox } [ a ] } \\\\ { 03 \\times \\operatorname { sbox } [ a ] } \\\\ { 02 \\times \\operatorname { sbox } [ a ] } \\end{array} \\right]$\n",
    "\n",
    "we can see that for each T-Table lookup, the following is accessed:\n",
    "\n",
    "$\\operatorname {sbox}[a]$, $\\operatorname {sbox}[a]$, $2 \\times \\operatorname {sbox}[a]$, $3 \\times \\operatorname {sbox}[a]$\n",
    "\n",
    "so instead of just taking the Hamming weight of the SBox, we can instead take the Hamming weight of this whole access:\n",
    "\n",
    "$h = \\operatorname {hw}[\\operatorname {sbox}[a]] + \\operatorname {hw}[\\operatorname {sbox}[a]] + \\operatorname {hw}[2 \\times \\operatorname {sbox}[a]] + \\operatorname {hw}[3 \\times \\operatorname {sbox}[a]]$\n",
    "\n",
    "Again, ChipWhisperer already has this model built in, which you can access with `cwa.leakage_models.t_table`. Retry your CPA attack with this new leakage model:"
   ]
  },
  {
   "cell_type": "code",
   "execution_count": 6,
   "metadata": {
    "execution": {
     "iopub.execute_input": "2025-03-15T00:22:19.953141Z",
     "iopub.status.busy": "2025-03-15T00:22:19.952787Z",
     "iopub.status.idle": "2025-03-15T00:22:19.981159Z",
     "shell.execute_reply": "2025-03-15T00:22:19.980002Z"
    }
   },
   "outputs": [
    {
     "ename": "NameError",
     "evalue": "name 'project' is not defined",
     "output_type": "error",
     "traceback": [
      "\u001b[0;31m---------------------------------------------------------------------------\u001b[0m",
      "\u001b[0;31mNameError\u001b[0m                                 Traceback (most recent call last)",
      "Cell \u001b[0;32mIn[6], line 4\u001b[0m\n\u001b[1;32m      2\u001b[0m \u001b[38;5;66;03m#pick right leakage model for your attack\u001b[39;00m\n\u001b[1;32m      3\u001b[0m leak_model \u001b[38;5;241m=\u001b[39m cwa\u001b[38;5;241m.\u001b[39mleakage_models\u001b[38;5;241m.\u001b[39mt_table\n\u001b[0;32m----> 4\u001b[0m attack \u001b[38;5;241m=\u001b[39m cwa\u001b[38;5;241m.\u001b[39mcpa(\u001b[43mproject\u001b[49m, leak_model)\n\u001b[1;32m      5\u001b[0m results \u001b[38;5;241m=\u001b[39m attack\u001b[38;5;241m.\u001b[39mrun(cwa\u001b[38;5;241m.\u001b[39mget_jupyter_callback(attack))\n",
      "\u001b[0;31mNameError\u001b[0m: name 'project' is not defined"
     ]
    }
   ],
   "source": [
    "import chipwhisperer.analyzer as cwa\n",
    "#pick right leakage model for your attack\n",
    "leak_model = cwa.leakage_models.t_table\n",
    "attack = cwa.cpa(project, leak_model)\n",
    "results = attack.run(cwa.get_jupyter_callback(attack))"
   ]
  },
  {
   "cell_type": "markdown",
   "metadata": {},
   "source": [
    "Did this attack work better than the previous one?\n",
    "\n",
    "## T-Tables for Decryption:\n",
    "\n",
    "Recall that the last round of AES is different than the rest of the rounds. Instead of it applying `subbytes`, `shiftrows`, `mixcolumns`, and `addroundkey`, it leaves out `mixcolumns`. You might expect that this means that decryption doesn't use a reverse T-Table in the first decryption round, but this isn't necessarily the case! Since `mixcolumns` is a linear operation, $\\operatorname{mixcolumns}( \\operatorname{key} + \\operatorname{state})$ is equal to  $\\operatorname{mixcolumns}(\\operatorname{key}) + \\operatorname{mixcolumns}(\\operatorname{state})$. Again, this is the approach that MBEDTLS takes, so we would be able to use the reverse T-Table to attack decryption."
   ]
  }
 ],
 "metadata": {
  "kernelspec": {
   "display_name": "Python 3 (ipykernel)",
   "language": "python",
   "name": "python3"
  },
  "language_info": {
   "codemirror_mode": {
    "name": "ipython",
    "version": 3
   },
   "file_extension": ".py",
   "mimetype": "text/x-python",
   "name": "python",
   "nbconvert_exporter": "python",
   "pygments_lexer": "ipython3",
   "version": "3.10.2"
  }
 },
 "nbformat": 4,
 "nbformat_minor": 2
}
