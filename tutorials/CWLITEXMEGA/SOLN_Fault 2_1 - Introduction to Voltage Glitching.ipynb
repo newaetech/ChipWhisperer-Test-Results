{
 "cells": [
  {
   "cell_type": "markdown",
   "metadata": {},
   "source": [
    "# Part 2, Topic 1: Introduction to Voltage Glitching (MAIN)"
   ]
  },
  {
   "cell_type": "markdown",
   "metadata": {},
   "source": [
    "---\n",
    "NOTE: This lab references some (commercial) training material on [ChipWhisperer.io](https://www.ChipWhisperer.io). You can freely execute and use the lab per the open-source license (including using it in your own courses if you distribute similarly), but you must maintain notice about this source location. Consider joining our training course to enjoy the full experience.\n",
    "\n",
    "---"
   ]
  },
  {
   "cell_type": "markdown",
   "metadata": {},
   "source": [
    "**SUMMARY:** *Similarly to clock glitching, inserting brief glitches into the power line of an embedded device can result in skipped instructions and corrupted results. Besides providing a more reliable glitch on some targets when compared to clock glitching, voltage glitching also has the advanatage that the Vcc pins on chips are always accessable. This won't be covered in this course, but it can also be used to glitch a device asynchronous to its clock.*\n",
    "\n",
    "**LEARNING OUTCOMES:**\n",
    "\n",
    "* Understanding voltage glitch settings\n",
    "* Building a voltage glitch and crash map.\n",
    "* Modifying glitch circuit to increase glitch success"
   ]
  },
  {
   "cell_type": "markdown",
   "metadata": {},
   "source": [
    "## Voltage Glitch Hardware\n",
    "\n",
    "The ChipWhisperer uses the same hardware block for both voltage and clock glitching, with the only difference being where the glitch output is routed to. Instead of routing to HS2, voltage glitching is performed by routing the glitch to either the `glitch_hp` transistor or the `glitch_lp` transistor. This can be done via the following API calls:\n",
    "\n",
    "```python\n",
    "scope.io.glitch_hp = True #enable HP glitch\n",
    "scope.io.glitch_hp = False #disable LP glitch\n",
    "scope.io.glitch_lp = True #enable LP glitch\n",
    "scope.io.glitch_lp = False #disable LP glitch\n",
    "```\n",
    "\n",
    "While the hardware block are the same, you'll need to change how it's configued. You wouldn't want to try routing `\"clock_xor\"` to the glitch transistor and oscillate Vcc like the device's clock! Instead, the following two output settings are best suited to voltage glitching:\n",
    "\n",
    "1. `\"glitch_only\"` - insert a glitch for a portion of a clock cycle based on `scope.glitch.width` and `scope.glitch.offset`\n",
    "1. `\"enable_only\"` - insert a glitch for an entire clock cycle\n",
    "\n",
    "Typically, the `\"enable_only\"` setting will be too powerful for most devices. One situation where it outshines `\"glitch_only\"` is in glitching asychronous to the target's clock. An example of this is glitching a target with an internal clock. In this case, the ChipWhisperer's clock can be boosted far above the target's to insert a precise glitch, with `repeat` functioning as `width` and `ext_offset` functioning as `offset`.\n",
    "\n",
    "### Voltage Glitching vs. Clock Glitching\n",
    "\n",
    "Voltage glitching has some obvious benefits over clock glitching, such as working for a wider varitey of targets, but its downsides are less obvious. One of the biggest is how much it depends on the actual glitch circuit itself. With clock glitching, it's relatively easy to insert a glitch - there's nothing external trying to keep the clock at a certain voltage level. This is very different for a target's power pins. When we try to drop the power pin to ground, there's a lot of stuff fighting us to keep the power pin at the correct voltage, such as decoupling capacitors, bulk supply capacitors, and the voltage regulator supplying the voltage. This means when we make small changes to the glitch circuit, the glitch settings and even our ability to insert a glitch at all completely change! Consider glitching a target on the CW308 UFO board. If you switch your coaxial cable length from 20cm to 40 cm, you'll need to find entirely new glitch settings to repeat the attack (if it's still even possible). This is quite easy to see on an oscilloscope or  using the ChipWhisperer's ADC: longer cables and lower valued shunt resistors will make the glitch less sharp and increase ringing.\n",
    "\n",
    "While your first thought might be to go for as sharp a glitch as possible, this often won't result in a high glitch success rate. If you're unable to find any working glitches with your current setup, it might be worth changing you hardware setup a bit. For example, on the ChipWhisperer Lite 1 part, you can desolder SJ5 and solder header pins to JP6. Even just connecting these pins with a jumper will have different glitch behaviour than with a soldered SJ5.\n",
    "\n",
    "You can refer to the training slides for more information about finding good glitch settings, as well as more on the theory side of voltage glitching.\n",
    "\n",
    "### The Lab\n",
    "\n",
    "To introduce you to volatge glitching and find some settings, we're going to walk back through the clock glitching loop lab. You may want to capture some power traces while you're first experimenting with glitches to see what effects different glitch widths have on the power trace. Another thing to keep in mind is that targets often won't tolerate the Vcc pin dropping for an extended period of time without crashing - once you see the target start to crash, you won't see much else with larger widths.\n",
    "\n",
    "One thing you might have to change is the glitch repeat value. Depending on how wide your glitch is, the voltage at the power pin may not recover by the time the next glitch is inserted. This can have to effect of increasing subsequent glitches' strength, which may or may not be desirable. Since glitches inserted with repeat > 1 have different strength, it's a good idea to scan through ext_offset as well.\n",
    "\n",
    "###  Higher Frequency Glitching\n",
    "\n",
    "The XMEGA target, and to a lesser extent the STM32F3, is very difficult to glitch with the default ChipWhisperer settings. Try bumping the clock frequency to 24MHz for the STM32 or 32MHz for the XMEGA and use a repeat 5-10 with both the high power and low power glitches active. You'll need to adjust the baud rate by the same proportion as the clock. This will increase the glitch precision, as the glitch width/offset step is based on the target clock, and may decrease the stability of the target.\n",
    "\n",
    "Another setup that seems to work with the XMEGA is SJ5 unsoldered, JP6 jumpered, high+low power glitch, 32MHz, and repeat=5.\n",
    "\n",
    "The ChipWhisperer Husky, with its PLL based glitching system, can typically glitch targets without needing to change the target's frequency.\n",
    "\n",
    "### Disabling Logging\n",
    "\n",
    "When glitching (or just running normally in earlier labs), you may have seen various warnings from loggers ChipWhisperer uses. This often has useful information, especially if things don't work right, but for voltage \n",
    "glitching especially, it mostly clutters up any print output you have. As such, we'll disable logging for the voltage glitching labs:\n",
    "\n",
    "```python\n",
    "cw.set_all_log_levels(cw.logging.CRITICAL)\n",
    "```\n",
    "\n",
    "You can reenable logging via\n",
    "\n",
    "```python\n",
    "cw.set_all_log_levels(cw.logging.WARNING)\n",
    "```"
   ]
  },
  {
   "cell_type": "code",
   "execution_count": 1,
   "metadata": {
    "execution": {
     "iopub.execute_input": "2025-03-15T01:00:24.389496Z",
     "iopub.status.busy": "2025-03-15T01:00:24.388373Z",
     "iopub.status.idle": "2025-03-15T01:00:24.409606Z",
     "shell.execute_reply": "2025-03-15T01:00:24.407557Z"
    }
   },
   "outputs": [],
   "source": [
    "SCOPETYPE = 'OPENADC'\n",
    "PLATFORM = 'CWLITEXMEGA'\n",
    "SS_VER = 'SS_VER_2_1'\n",
    "\n",
    "CRYPTO_TARGET = 'TINYAES128C'\n",
    "allowable_exceptions = None\n",
    "VERSION = 'HARDWARE'\n"
   ]
  },
  {
   "cell_type": "code",
   "execution_count": 2,
   "metadata": {
    "execution": {
     "iopub.execute_input": "2025-03-15T01:00:24.416199Z",
     "iopub.status.busy": "2025-03-15T01:00:24.415559Z",
     "iopub.status.idle": "2025-03-15T01:00:26.655287Z",
     "shell.execute_reply": "2025-03-15T01:00:26.653138Z"
    }
   },
   "outputs": [
    {
     "name": "stdout",
     "output_type": "stream",
     "text": [
      "INFO: Found ChipWhisperer😍\n"
     ]
    },
    {
     "name": "stdout",
     "output_type": "stream",
     "text": [
      "scope.gain.mode                          changed from low                       to high                     \n",
      "scope.gain.gain                          changed from 0                         to 30                       \n",
      "scope.gain.db                            changed from 5.5                       to 24.8359375               \n",
      "scope.adc.basic_mode                     changed from low                       to rising_edge              \n",
      "scope.adc.samples                        changed from 24400                     to 5000                     \n",
      "scope.adc.trig_count                     changed from 94859030                  to 106092864                \n",
      "scope.clock.adc_src                      changed from clkgen_x1                 to clkgen_x4                \n",
      "scope.clock.adc_freq                     changed from 14097003                  to 29538459                 \n",
      "scope.clock.adc_rate                     changed from 14097003.0                to 29538459.0               \n",
      "scope.clock.clkgen_div                   changed from 1                         to 26                       \n",
      "scope.clock.clkgen_freq                  changed from 192000000.0               to 7384615.384615385        \n",
      "scope.io.tio1                            changed from serial_tx                 to serial_rx                \n",
      "scope.io.tio2                            changed from serial_rx                 to serial_tx                \n",
      "scope.io.hs2                             changed from None                      to clkgen                   \n",
      "scope.io.tio_states                      changed from (1, 0, 0, 0)              to (1, 1, 0, 0)             \n",
      "scope.glitch.mmcm_locked                 changed from True                      to False                    \n"
     ]
    }
   ],
   "source": [
    "\n",
    "#!/usr/bin/env python\n",
    "# coding: utf-8\n",
    "\n",
    "# In[ ]:\n",
    "\n",
    "\n",
    "import chipwhisperer as cw\n",
    "\n",
    "try:\n",
    "    if not scope.connectStatus:\n",
    "        scope.con()\n",
    "except NameError:\n",
    "    scope = cw.scope(hw_location=(5, 4))\n",
    "\n",
    "try:\n",
    "    if SS_VER == \"SS_VER_2_1\":\n",
    "        target_type = cw.targets.SimpleSerial2\n",
    "    elif SS_VER == \"SS_VER_2_0\":\n",
    "        raise OSError(\"SS_VER_2_0 is deprecated. Use SS_VER_2_1\")\n",
    "    else:\n",
    "        target_type = cw.targets.SimpleSerial\n",
    "except:\n",
    "    SS_VER=\"SS_VER_1_1\"\n",
    "    target_type = cw.targets.SimpleSerial\n",
    "\n",
    "try:\n",
    "    target = cw.target(scope, target_type)\n",
    "except:\n",
    "    print(\"INFO: Caught exception on reconnecting to target - attempting to reconnect to scope first.\")\n",
    "    print(\"INFO: This is a work-around when USB has died without Python knowing. Ignore errors above this line.\")\n",
    "    scope = cw.scope(hw_location=(5, 4))\n",
    "    target = cw.target(scope, target_type)\n",
    "\n",
    "\n",
    "print(\"INFO: Found ChipWhisperer😍\")\n",
    "\n",
    "\n",
    "# In[ ]:\n",
    "\n",
    "\n",
    "if \"STM\" in PLATFORM or PLATFORM == \"CWLITEARM\" or PLATFORM == \"CWNANO\":\n",
    "    prog = cw.programmers.STM32FProgrammer\n",
    "elif PLATFORM == \"CW303\" or PLATFORM == \"CWLITEXMEGA\":\n",
    "    prog = cw.programmers.XMEGAProgrammer\n",
    "elif \"neorv32\" in PLATFORM.lower():\n",
    "    prog = cw.programmers.NEORV32Programmer\n",
    "elif PLATFORM == \"CW308_SAM4S\" or PLATFORM == \"CWHUSKY\":\n",
    "    prog = cw.programmers.SAM4SProgrammer\n",
    "else:\n",
    "    prog = None\n",
    "\n",
    "\n",
    "# In[ ]:\n",
    "\n",
    "\n",
    "import time\n",
    "time.sleep(0.05)\n",
    "scope.default_setup()\n",
    "\n",
    "def reset_target(scope):\n",
    "    if PLATFORM == \"CW303\" or PLATFORM == \"CWLITEXMEGA\":\n",
    "        scope.io.pdic = 'low'\n",
    "        time.sleep(0.1)\n",
    "        scope.io.pdic = 'high_z' #XMEGA doesn't like pdic driven high\n",
    "        time.sleep(0.1) #xmega needs more startup time\n",
    "    elif \"neorv32\" in PLATFORM.lower():\n",
    "        raise IOError(\"Default iCE40 neorv32 build does not have external reset - reprogram device to reset\")\n",
    "    elif PLATFORM == \"CW308_SAM4S\" or PLATFORM == \"CWHUSKY\":\n",
    "        scope.io.nrst = 'low'\n",
    "        time.sleep(0.25)\n",
    "        scope.io.nrst = 'high_z'\n",
    "        time.sleep(0.25)\n",
    "    else:  \n",
    "        scope.io.nrst = 'low'\n",
    "        time.sleep(0.05)\n",
    "        scope.io.nrst = 'high_z'\n",
    "        time.sleep(0.05)\n",
    "\n",
    "\n"
   ]
  },
  {
   "cell_type": "code",
   "execution_count": 3,
   "metadata": {
    "execution": {
     "iopub.execute_input": "2025-03-15T01:00:26.662458Z",
     "iopub.status.busy": "2025-03-15T01:00:26.660938Z",
     "iopub.status.idle": "2025-03-15T01:00:27.062725Z",
     "shell.execute_reply": "2025-03-15T01:00:27.060611Z"
    }
   },
   "outputs": [
    {
     "name": "stdout",
     "output_type": "stream",
     "text": [
      "SS_VER set to SS_VER_2_1\n"
     ]
    },
    {
     "name": "stdout",
     "output_type": "stream",
     "text": [
      "SS_VER set to SS_VER_2_1\n"
     ]
    },
    {
     "name": "stdout",
     "output_type": "stream",
     "text": [
      "avr-gcc (GCC) 5.4.0\n",
      "Copyright (C) 2015 Free Software Foundation, Inc.\n",
      "This is free software; see the"
     ]
    },
    {
     "name": "stdout",
     "output_type": "stream",
     "text": [
      " source for copying conditions.  There is NO\n",
      "warranty; not even for MERCHANTABILITY or FITNESS FOR A"
     ]
    },
    {
     "name": "stdout",
     "output_type": "stream",
     "text": [
      " PARTICULAR PURPOSE.\n",
      "\n"
     ]
    },
    {
     "name": "stdout",
     "output_type": "stream",
     "text": [
      "mkdir -p objdir-CWLITEXMEGA \n"
     ]
    },
    {
     "name": "stdout",
     "output_type": "stream",
     "text": [
      ".\n"
     ]
    },
    {
     "name": "stdout",
     "output_type": "stream",
     "text": [
      "Welcome to another exciting ChipWhisperer target build!!\n"
     ]
    },
    {
     "name": "stdout",
     "output_type": "stream",
     "text": [
      ".\n"
     ]
    },
    {
     "name": "stdout",
     "output_type": "stream",
     "text": [
      ".\n",
      ".\n",
      "Compiling:\n",
      "Compiling:\n",
      "Compiling:\n"
     ]
    },
    {
     "name": "stdout",
     "output_type": "stream",
     "text": [
      "-en     simpleserial-glitch.c ...\n",
      "-en     .././simpleserial/simpleserial.c ...\n",
      "-en     .././hal//xme"
     ]
    },
    {
     "name": "stdout",
     "output_type": "stream",
     "text": [
      "ga/XMEGA_AES_driver.c ...\n"
     ]
    },
    {
     "name": "stdout",
     "output_type": "stream",
     "text": [
      ".\n"
     ]
    },
    {
     "name": "stdout",
     "output_type": "stream",
     "text": [
      ".\n"
     ]
    },
    {
     "name": "stdout",
     "output_type": "stream",
     "text": [
      "Compiling:\n"
     ]
    },
    {
     "name": "stdout",
     "output_type": "stream",
     "text": [
      "Compiling:\n"
     ]
    },
    {
     "name": "stdout",
     "output_type": "stream",
     "text": [
      "-e Done!\n"
     ]
    },
    {
     "name": "stdout",
     "output_type": "stream",
     "text": [
      "-en     .././hal//xmega/uart.c ...\n"
     ]
    },
    {
     "name": "stdout",
     "output_type": "stream",
     "text": [
      "-en     .././hal//xmega/usart_driver.c ...\n"
     ]
    },
    {
     "name": "stdout",
     "output_type": "stream",
     "text": [
      ".\n"
     ]
    },
    {
     "name": "stdout",
     "output_type": "stream",
     "text": [
      "Compiling:\n"
     ]
    },
    {
     "name": "stdout",
     "output_type": "stream",
     "text": [
      "-en     .././hal//xmega/xmega_hal.c ...\n"
     ]
    },
    {
     "name": "stdout",
     "output_type": "stream",
     "text": [
      "-e Done!\n"
     ]
    },
    {
     "name": "stdout",
     "output_type": "stream",
     "text": [
      "-e Done!\n"
     ]
    },
    {
     "name": "stdout",
     "output_type": "stream",
     "text": [
      "-e Done!\n"
     ]
    },
    {
     "name": "stdout",
     "output_type": "stream",
     "text": [
      "-e Done!\n"
     ]
    },
    {
     "name": "stdout",
     "output_type": "stream",
     "text": [
      "-e Done!\n"
     ]
    },
    {
     "name": "stdout",
     "output_type": "stream",
     "text": [
      ".\n"
     ]
    },
    {
     "name": "stdout",
     "output_type": "stream",
     "text": [
      "LINKING:\n"
     ]
    },
    {
     "name": "stdout",
     "output_type": "stream",
     "text": [
      "-en     simpleserial-glitch-CWLITEXMEGA.elf ...\n"
     ]
    },
    {
     "name": "stdout",
     "output_type": "stream",
     "text": [
      "-e Done!\n"
     ]
    },
    {
     "name": "stdout",
     "output_type": "stream",
     "text": [
      ".\n"
     ]
    },
    {
     "name": "stdout",
     "output_type": "stream",
     "text": [
      ".\n",
      ".\n"
     ]
    },
    {
     "name": "stdout",
     "output_type": "stream",
     "text": [
      "Creating load file for Flash: simpleserial-glitch-CWLITEXMEGA.hex\n"
     ]
    },
    {
     "name": "stdout",
     "output_type": "stream",
     "text": [
      "Creating load file for Flash: simpleserial-glitch-CWLITEXMEGA.bin\n"
     ]
    },
    {
     "name": "stdout",
     "output_type": "stream",
     "text": [
      "avr-objcopy -O ihex -R .eeprom -R .fuse -R .lock -R .signature simpleserial-glitch-CWLITEXMEGA.elf s"
     ]
    },
    {
     "name": "stdout",
     "output_type": "stream",
     "text": [
      "impleserial-glitch-CWLITEXMEGA.hex\n",
      "Creating load file for EEPROM: simpleserial-glitch-CWLITEXMEGA.ee"
     ]
    },
    {
     "name": "stdout",
     "output_type": "stream",
     "text": [
      "p\n"
     ]
    },
    {
     "name": "stdout",
     "output_type": "stream",
     "text": [
      "avr-objcopy -O binary -R .eeprom -R .fuse -R .lock -R .signature simpleserial-glitch-CWLITEXMEGA.elf"
     ]
    },
    {
     "name": "stdout",
     "output_type": "stream",
     "text": [
      " simpleserial-glitch-CWLITEXMEGA.bin\n",
      "avr-objcopy -j .eeprom --set-section-flags=.eeprom=\"alloc,load\""
     ]
    },
    {
     "name": "stdout",
     "output_type": "stream",
     "text": [
      " \\\n",
      "--change-section-lma .eeprom=0 --no-change-warnings -O ihex simpleserial-glitch-CWLITEXMEGA.elf s"
     ]
    },
    {
     "name": "stdout",
     "output_type": "stream",
     "text": [
      "impleserial-glitch-CWLITEXMEGA.eep || exit 0\n"
     ]
    },
    {
     "name": "stdout",
     "output_type": "stream",
     "text": [
      ".\n",
      ".\n"
     ]
    },
    {
     "name": "stdout",
     "output_type": "stream",
     "text": [
      "Creating Extended Listing: simpleserial-glitch-CWLITEXMEGA.lss\n"
     ]
    },
    {
     "name": "stdout",
     "output_type": "stream",
     "text": [
      "avr-objdump -h -S -z simpleserial-glitch-CWLITEXMEGA.elf > simpleserial-glitch-CWLITEXMEGA.lss\n",
      "Creat"
     ]
    },
    {
     "name": "stdout",
     "output_type": "stream",
     "text": [
      "ing Symbol Table: simpleserial-glitch-CWLITEXMEGA.sym\n",
      "avr-nm -n simpleserial-glitch-CWLITEXMEGA.elf "
     ]
    },
    {
     "name": "stdout",
     "output_type": "stream",
     "text": [
      "> simpleserial-glitch-CWLITEXMEGA.sym\n"
     ]
    },
    {
     "name": "stdout",
     "output_type": "stream",
     "text": [
      "Size after:\n"
     ]
    },
    {
     "name": "stdout",
     "output_type": "stream",
     "text": [
      "   text\t   data\t    bss\t    dec\t    hex\tfilename\n",
      "   2794\t      6\t     82\t   2882\t    b42\tsimpleseria"
     ]
    },
    {
     "name": "stdout",
     "output_type": "stream",
     "text": [
      "l-glitch-CWLITEXMEGA.elf\n"
     ]
    },
    {
     "name": "stdout",
     "output_type": "stream",
     "text": [
      "+--------------------------------------------------------\n"
     ]
    },
    {
     "name": "stdout",
     "output_type": "stream",
     "text": [
      "+ Default target does full rebuild each time.\n"
     ]
    },
    {
     "name": "stdout",
     "output_type": "stream",
     "text": [
      "+ Specify buildtarget == allquick == to avoid full rebuild\n"
     ]
    },
    {
     "name": "stdout",
     "output_type": "stream",
     "text": [
      "+--------------------------------------------------------\n"
     ]
    },
    {
     "name": "stdout",
     "output_type": "stream",
     "text": [
      "+--------------------------------------------------------\n"
     ]
    },
    {
     "name": "stdout",
     "output_type": "stream",
     "text": [
      "+ Built for platform CW-Lite XMEGA with:\n"
     ]
    },
    {
     "name": "stdout",
     "output_type": "stream",
     "text": [
      "+ CRYPTO_TARGET = NONE\n",
      "+ CRYPTO_OPTIONS = \n",
      "+--------------------------------------------------------"
     ]
    },
    {
     "name": "stdout",
     "output_type": "stream",
     "text": [
      "\n"
     ]
    }
   ],
   "source": [
    "%%bash -s \"$PLATFORM\" \"$SS_VER\"\n",
    "cd ../../../firmware/mcu/simpleserial-glitch\n",
    "make PLATFORM=$1 CRYPTO_TARGET=NONE SS_VER=$2 -j"
   ]
  },
  {
   "cell_type": "code",
   "execution_count": 4,
   "metadata": {
    "execution": {
     "iopub.execute_input": "2025-03-15T01:00:27.069572Z",
     "iopub.status.busy": "2025-03-15T01:00:27.068186Z",
     "iopub.status.idle": "2025-03-15T01:00:27.647913Z",
     "shell.execute_reply": "2025-03-15T01:00:27.645753Z"
    }
   },
   "outputs": [
    {
     "name": "stdout",
     "output_type": "stream",
     "text": [
      "XMEGA Programming flash...\n"
     ]
    },
    {
     "name": "stdout",
     "output_type": "stream",
     "text": [
      "XMEGA Reading flash...\n",
      "Verified flash OK, 2799 bytes\n"
     ]
    }
   ],
   "source": [
    "fw_path = \"../../../firmware/mcu/simpleserial-glitch/simpleserial-glitch-{}.hex\".format(PLATFORM)\n",
    "cw.program_target(scope, prog, fw_path)\n",
    "if SS_VER==\"SS_VER_2_1\":\n",
    "    target.reset_comms()"
   ]
  },
  {
   "cell_type": "code",
   "execution_count": 5,
   "metadata": {
    "execution": {
     "iopub.execute_input": "2025-03-15T01:00:27.655386Z",
     "iopub.status.busy": "2025-03-15T01:00:27.654270Z",
     "iopub.status.idle": "2025-03-15T01:00:27.709677Z",
     "shell.execute_reply": "2025-03-15T01:00:27.707571Z"
    }
   },
   "outputs": [],
   "source": [
    "def reboot_flush():\n",
    "    reset_target(scope)\n",
    "    target.flush()\n",
    "\n",
    "if scope._is_husky is False:\n",
    "    if PLATFORM == \"CWLITEXMEGA\":\n",
    "        scope.clock.clkgen_freq = 32E6\n",
    "        if SS_VER=='SS_VER_2_1':\n",
    "            target.baud = 230400*32/7.37\n",
    "        else:\n",
    "            target.baud = 38400*32/7.37\n",
    "    elif (PLATFORM == \"CWLITEARM\") or (\"F3\" in PLATFORM):\n",
    "        scope.clock.clkgen_freq = 24E6\n",
    "        if SS_VER=='SS_VER_2_1':\n",
    "            target.baud = 230400*24/7.37\n",
    "        else:\n",
    "            target.baud = 38400*24/7.37\n",
    "        time.sleep(0.1)"
   ]
  },
  {
   "cell_type": "code",
   "execution_count": 6,
   "metadata": {
    "execution": {
     "iopub.execute_input": "2025-03-15T01:00:27.716926Z",
     "iopub.status.busy": "2025-03-15T01:00:27.715090Z",
     "iopub.status.idle": "2025-03-15T01:00:27.942963Z",
     "shell.execute_reply": "2025-03-15T01:00:27.940656Z"
    }
   },
   "outputs": [
    {
     "name": "stdout",
     "output_type": "stream",
     "text": [
      "{'valid': True, 'payload': CWbytearray(b'c4 09 00 00'), 'full_response': CWbytearray(b'00 72 04 c4 09 00 00 15 00'), 'rv': bytearray(b'\\x00')}\n"
     ]
    }
   ],
   "source": [
    "reboot_flush()\n",
    "scope.arm()\n",
    "target.simpleserial_write(\"g\", bytearray([]))\n",
    "scope.capture()\n",
    "val = target.simpleserial_read_witherrors('r', 4, glitch_timeout=10)#For loop check\n",
    "valid = val['valid']\n",
    "if valid:\n",
    "    response = val['payload']\n",
    "    raw_serial = val['full_response']\n",
    "    error_code = val['rv']\n",
    "\n",
    "print(val)"
   ]
  },
  {
   "cell_type": "code",
   "execution_count": 7,
   "metadata": {
    "execution": {
     "iopub.execute_input": "2025-03-15T01:00:27.949212Z",
     "iopub.status.busy": "2025-03-15T01:00:27.948116Z",
     "iopub.status.idle": "2025-03-15T01:00:28.035780Z",
     "shell.execute_reply": "2025-03-15T01:00:28.033651Z"
    }
   },
   "outputs": [
    {
     "data": {
      "application/vnd.jupyter.widget-view+json": {
       "model_id": "1ed29ace19a54311907c8b81e84dc500",
       "version_major": 2,
       "version_minor": 0
      },
      "text/plain": [
       "IntText(value=0, description='success count:', disabled=True)"
      ]
     },
     "metadata": {},
     "output_type": "display_data"
    },
    {
     "data": {
      "application/vnd.jupyter.widget-view+json": {
       "model_id": "117ee43e97c94647a345894ab662ad5b",
       "version_major": 2,
       "version_minor": 0
      },
      "text/plain": [
       "IntText(value=0, description='reset count:', disabled=True)"
      ]
     },
     "metadata": {},
     "output_type": "display_data"
    },
    {
     "data": {
      "application/vnd.jupyter.widget-view+json": {
       "model_id": "8e499d2c73454f9d915666dadd980122",
       "version_major": 2,
       "version_minor": 0
      },
      "text/plain": [
       "IntText(value=0, description='normal count:', disabled=True)"
      ]
     },
     "metadata": {},
     "output_type": "display_data"
    },
    {
     "data": {
      "application/vnd.jupyter.widget-view+json": {
       "model_id": "237d69e5ecc6492cb46953716bd78ebd",
       "version_major": 2,
       "version_minor": 0
      },
      "text/plain": [
       "FloatSlider(value=0.0, continuous_update=False, description='width setting:', disabled=True, max=10.0, readout…"
      ]
     },
     "metadata": {},
     "output_type": "display_data"
    },
    {
     "data": {
      "application/vnd.jupyter.widget-view+json": {
       "model_id": "f882fcdee4884ff8b2f9e1c15b31d860",
       "version_major": 2,
       "version_minor": 0
      },
      "text/plain": [
       "FloatSlider(value=0.0, continuous_update=False, description='offset setting:', disabled=True, max=10.0, readou…"
      ]
     },
     "metadata": {},
     "output_type": "display_data"
    },
    {
     "data": {
      "application/vnd.jupyter.widget-view+json": {
       "model_id": "6d2622704aba4f718e35454f9800c54c",
       "version_major": 2,
       "version_minor": 0
      },
      "text/plain": [
       "FloatSlider(value=0.0, continuous_update=False, description='ext_offset setting:', disabled=True, max=10.0, re…"
      ]
     },
     "metadata": {},
     "output_type": "display_data"
    },
    {
     "data": {
      "application/vnd.jupyter.widget-view+json": {
       "model_id": "bc2646d5f4ee48a0aff367ce91fd56fd",
       "version_major": 2,
       "version_minor": 0
      },
      "text/plain": [
       "FloatSlider(value=0.0, continuous_update=False, description='tries setting:', disabled=True, max=10.0, readout…"
      ]
     },
     "metadata": {},
     "output_type": "display_data"
    }
   ],
   "source": [
    "gc = cw.GlitchController(groups=[\"success\", \"reset\", \"normal\"], parameters=[\"width\", \"offset\", \"ext_offset\", \"tries\"])\n",
    "gc.display_stats()"
   ]
  },
  {
   "cell_type": "code",
   "execution_count": 8,
   "metadata": {
    "execution": {
     "iopub.execute_input": "2025-03-15T01:00:28.042427Z",
     "iopub.status.busy": "2025-03-15T01:00:28.041040Z",
     "iopub.status.idle": "2025-03-15T01:00:31.574014Z",
     "shell.execute_reply": "2025-03-15T01:00:31.572797Z"
    }
   },
   "outputs": [
    {
     "data": {
      "text/html": [
       "<script type=\"esms-options\">{\"shimMode\": true}</script><style>*[data-root-id],\n",
       "*[data-root-id] > * {\n",
       "  box-sizing: border-box;\n",
       "  font-family: var(--jp-ui-font-family);\n",
       "  font-size: var(--jp-ui-font-size1);\n",
       "  color: var(--vscode-editor-foreground, var(--jp-ui-font-color1));\n",
       "}\n",
       "\n",
       "/* Override VSCode background color */\n",
       ".cell-output-ipywidget-background:has(\n",
       "    > .cell-output-ipywidget-background > .lm-Widget > *[data-root-id]\n",
       "  ),\n",
       ".cell-output-ipywidget-background:has(> .lm-Widget > *[data-root-id]) {\n",
       "  background-color: transparent !important;\n",
       "}\n",
       "</style>"
      ]
     },
     "metadata": {},
     "output_type": "display_data"
    },
    {
     "data": {
      "application/javascript": [
       "(function(root) {\n",
       "  function now() {\n",
       "    return new Date();\n",
       "  }\n",
       "\n",
       "  const force = true;\n",
       "  const py_version = '3.6.3'.replace('rc', '-rc.').replace('.dev', '-dev.');\n",
       "  const reloading = false;\n",
       "  const Bokeh = root.Bokeh;\n",
       "\n",
       "  // Set a timeout for this load but only if we are not already initializing\n",
       "  if (typeof (root._bokeh_timeout) === \"undefined\" || (force || !root._bokeh_is_initializing)) {\n",
       "    root._bokeh_timeout = Date.now() + 5000;\n",
       "    root._bokeh_failed_load = false;\n",
       "  }\n",
       "\n",
       "  function run_callbacks() {\n",
       "    try {\n",
       "      root._bokeh_onload_callbacks.forEach(function(callback) {\n",
       "        if (callback != null)\n",
       "          callback();\n",
       "      });\n",
       "    } finally {\n",
       "      delete root._bokeh_onload_callbacks;\n",
       "    }\n",
       "    console.debug(\"Bokeh: all callbacks have finished\");\n",
       "  }\n",
       "\n",
       "  function load_libs(css_urls, js_urls, js_modules, js_exports, callback) {\n",
       "    if (css_urls == null) css_urls = [];\n",
       "    if (js_urls == null) js_urls = [];\n",
       "    if (js_modules == null) js_modules = [];\n",
       "    if (js_exports == null) js_exports = {};\n",
       "\n",
       "    root._bokeh_onload_callbacks.push(callback);\n",
       "\n",
       "    if (root._bokeh_is_loading > 0) {\n",
       "      // Don't load bokeh if it is still initializing\n",
       "      console.debug(\"Bokeh: BokehJS is being loaded, scheduling callback at\", now());\n",
       "      return null;\n",
       "    } else if (js_urls.length === 0 && js_modules.length === 0 && Object.keys(js_exports).length === 0) {\n",
       "      // There is nothing to load\n",
       "      run_callbacks();\n",
       "      return null;\n",
       "    }\n",
       "\n",
       "    function on_load() {\n",
       "      root._bokeh_is_loading--;\n",
       "      if (root._bokeh_is_loading === 0) {\n",
       "        console.debug(\"Bokeh: all BokehJS libraries/stylesheets loaded\");\n",
       "        run_callbacks()\n",
       "      }\n",
       "    }\n",
       "    window._bokeh_on_load = on_load\n",
       "\n",
       "    function on_error(e) {\n",
       "      const src_el = e.srcElement\n",
       "      console.error(\"failed to load \" + (src_el.href || src_el.src));\n",
       "    }\n",
       "\n",
       "    const skip = [];\n",
       "    if (window.requirejs) {\n",
       "      window.requirejs.config({'packages': {}, 'paths': {}, 'shim': {}});\n",
       "      root._bokeh_is_loading = css_urls.length + 0;\n",
       "    } else {\n",
       "      root._bokeh_is_loading = css_urls.length + js_urls.length + js_modules.length + Object.keys(js_exports).length;\n",
       "    }\n",
       "\n",
       "    const existing_stylesheets = []\n",
       "    const links = document.getElementsByTagName('link')\n",
       "    for (let i = 0; i < links.length; i++) {\n",
       "      const link = links[i]\n",
       "      if (link.href != null) {\n",
       "        existing_stylesheets.push(link.href)\n",
       "      }\n",
       "    }\n",
       "    for (let i = 0; i < css_urls.length; i++) {\n",
       "      const url = css_urls[i];\n",
       "      const escaped = encodeURI(url)\n",
       "      if (existing_stylesheets.indexOf(escaped) !== -1) {\n",
       "        on_load()\n",
       "        continue;\n",
       "      }\n",
       "      const element = document.createElement(\"link\");\n",
       "      element.onload = on_load;\n",
       "      element.onerror = on_error;\n",
       "      element.rel = \"stylesheet\";\n",
       "      element.type = \"text/css\";\n",
       "      element.href = url;\n",
       "      console.debug(\"Bokeh: injecting link tag for BokehJS stylesheet: \", url);\n",
       "      document.body.appendChild(element);\n",
       "    }    var existing_scripts = []\n",
       "    const scripts = document.getElementsByTagName('script')\n",
       "    for (let i = 0; i < scripts.length; i++) {\n",
       "      var script = scripts[i]\n",
       "      if (script.src != null) {\n",
       "        existing_scripts.push(script.src)\n",
       "      }\n",
       "    }\n",
       "    for (let i = 0; i < js_urls.length; i++) {\n",
       "      const url = js_urls[i];\n",
       "      const escaped = encodeURI(url)\n",
       "      if (skip.indexOf(escaped) !== -1 || existing_scripts.indexOf(escaped) !== -1) {\n",
       "        if (!window.requirejs) {\n",
       "          on_load();\n",
       "        }\n",
       "        continue;\n",
       "      }\n",
       "      const element = document.createElement('script');\n",
       "      element.onload = on_load;\n",
       "      element.onerror = on_error;\n",
       "      element.async = false;\n",
       "      element.src = url;\n",
       "      console.debug(\"Bokeh: injecting script tag for BokehJS library: \", url);\n",
       "      document.head.appendChild(element);\n",
       "    }\n",
       "    for (let i = 0; i < js_modules.length; i++) {\n",
       "      const url = js_modules[i];\n",
       "      const escaped = encodeURI(url)\n",
       "      if (skip.indexOf(escaped) !== -1 || existing_scripts.indexOf(escaped) !== -1) {\n",
       "        if (!window.requirejs) {\n",
       "          on_load();\n",
       "        }\n",
       "        continue;\n",
       "      }\n",
       "      var element = document.createElement('script');\n",
       "      element.onload = on_load;\n",
       "      element.onerror = on_error;\n",
       "      element.async = false;\n",
       "      element.src = url;\n",
       "      element.type = \"module\";\n",
       "      console.debug(\"Bokeh: injecting script tag for BokehJS library: \", url);\n",
       "      document.head.appendChild(element);\n",
       "    }\n",
       "    for (const name in js_exports) {\n",
       "      const url = js_exports[name];\n",
       "      const escaped = encodeURI(url)\n",
       "      if (skip.indexOf(escaped) >= 0 || root[name] != null) {\n",
       "        if (!window.requirejs) {\n",
       "          on_load();\n",
       "        }\n",
       "        continue;\n",
       "      }\n",
       "      var element = document.createElement('script');\n",
       "      element.onerror = on_error;\n",
       "      element.async = false;\n",
       "      element.type = \"module\";\n",
       "      console.debug(\"Bokeh: injecting script tag for BokehJS library: \", url);\n",
       "      element.textContent = `\n",
       "      import ${name} from \"${url}\"\n",
       "      window.${name} = ${name}\n",
       "      window._bokeh_on_load()\n",
       "      `\n",
       "      document.head.appendChild(element);\n",
       "    }\n",
       "    if (!js_urls.length && !js_modules.length) {\n",
       "      on_load()\n",
       "    }\n",
       "  };\n",
       "\n",
       "  function inject_raw_css(css) {\n",
       "    const element = document.createElement(\"style\");\n",
       "    element.appendChild(document.createTextNode(css));\n",
       "    document.body.appendChild(element);\n",
       "  }\n",
       "\n",
       "  const js_urls = [\"https://cdn.holoviz.org/panel/1.6.1/dist/bundled/reactiveesm/es-module-shims@^1.10.0/dist/es-module-shims.min.js\", \"https://cdn.bokeh.org/bokeh/release/bokeh-3.6.3.min.js\", \"https://cdn.bokeh.org/bokeh/release/bokeh-gl-3.6.3.min.js\", \"https://cdn.bokeh.org/bokeh/release/bokeh-widgets-3.6.3.min.js\", \"https://cdn.bokeh.org/bokeh/release/bokeh-tables-3.6.3.min.js\", \"https://cdn.holoviz.org/panel/1.6.1/dist/panel.min.js\"];\n",
       "  const js_modules = [];\n",
       "  const js_exports = {};\n",
       "  const css_urls = [];\n",
       "  const inline_js = [    function(Bokeh) {\n",
       "      Bokeh.set_log_level(\"info\");\n",
       "    },\n",
       "function(Bokeh) {} // ensure no trailing comma for IE\n",
       "  ];\n",
       "\n",
       "  function run_inline_js() {\n",
       "    if ((root.Bokeh !== undefined) || (force === true)) {\n",
       "      for (let i = 0; i < inline_js.length; i++) {\n",
       "        try {\n",
       "          inline_js[i].call(root, root.Bokeh);\n",
       "        } catch(e) {\n",
       "          if (!reloading) {\n",
       "            throw e;\n",
       "          }\n",
       "        }\n",
       "      }\n",
       "      // Cache old bokeh versions\n",
       "      if (Bokeh != undefined && !reloading) {\n",
       "        var NewBokeh = root.Bokeh;\n",
       "        if (Bokeh.versions === undefined) {\n",
       "          Bokeh.versions = new Map();\n",
       "        }\n",
       "        if (NewBokeh.version !== Bokeh.version) {\n",
       "          Bokeh.versions.set(NewBokeh.version, NewBokeh)\n",
       "        }\n",
       "        root.Bokeh = Bokeh;\n",
       "      }\n",
       "    } else if (Date.now() < root._bokeh_timeout) {\n",
       "      setTimeout(run_inline_js, 100);\n",
       "    } else if (!root._bokeh_failed_load) {\n",
       "      console.log(\"Bokeh: BokehJS failed to load within specified timeout.\");\n",
       "      root._bokeh_failed_load = true;\n",
       "    }\n",
       "    root._bokeh_is_initializing = false\n",
       "  }\n",
       "\n",
       "  function load_or_wait() {\n",
       "    // Implement a backoff loop that tries to ensure we do not load multiple\n",
       "    // versions of Bokeh and its dependencies at the same time.\n",
       "    // In recent versions we use the root._bokeh_is_initializing flag\n",
       "    // to determine whether there is an ongoing attempt to initialize\n",
       "    // bokeh, however for backward compatibility we also try to ensure\n",
       "    // that we do not start loading a newer (Panel>=1.0 and Bokeh>3) version\n",
       "    // before older versions are fully initialized.\n",
       "    if (root._bokeh_is_initializing && Date.now() > root._bokeh_timeout) {\n",
       "      // If the timeout and bokeh was not successfully loaded we reset\n",
       "      // everything and try loading again\n",
       "      root._bokeh_timeout = Date.now() + 5000;\n",
       "      root._bokeh_is_initializing = false;\n",
       "      root._bokeh_onload_callbacks = undefined;\n",
       "      root._bokeh_is_loading = 0\n",
       "      console.log(\"Bokeh: BokehJS was loaded multiple times but one version failed to initialize.\");\n",
       "      load_or_wait();\n",
       "    } else if (root._bokeh_is_initializing || (typeof root._bokeh_is_initializing === \"undefined\" && root._bokeh_onload_callbacks !== undefined)) {\n",
       "      setTimeout(load_or_wait, 100);\n",
       "    } else {\n",
       "      root._bokeh_is_initializing = true\n",
       "      root._bokeh_onload_callbacks = []\n",
       "      const bokeh_loaded = root.Bokeh != null && (root.Bokeh.version === py_version || (root.Bokeh.versions !== undefined && root.Bokeh.versions.has(py_version)));\n",
       "      if (!reloading && !bokeh_loaded) {\n",
       "        if (root.Bokeh) {\n",
       "          root.Bokeh = undefined;\n",
       "        }\n",
       "        console.debug(\"Bokeh: BokehJS not loaded, scheduling load and callback at\", now());\n",
       "      }\n",
       "      load_libs(css_urls, js_urls, js_modules, js_exports, function() {\n",
       "        console.debug(\"Bokeh: BokehJS plotting callback run at\", now());\n",
       "        run_inline_js();\n",
       "      });\n",
       "    }\n",
       "  }\n",
       "  // Give older versions of the autoload script a head-start to ensure\n",
       "  // they initialize before we start loading newer version.\n",
       "  setTimeout(load_or_wait, 100)\n",
       "}(window));"
      ],
      "application/vnd.holoviews_load.v0+json": "(function(root) {\n  function now() {\n    return new Date();\n  }\n\n  const force = true;\n  const py_version = '3.6.3'.replace('rc', '-rc.').replace('.dev', '-dev.');\n  const reloading = false;\n  const Bokeh = root.Bokeh;\n\n  // Set a timeout for this load but only if we are not already initializing\n  if (typeof (root._bokeh_timeout) === \"undefined\" || (force || !root._bokeh_is_initializing)) {\n    root._bokeh_timeout = Date.now() + 5000;\n    root._bokeh_failed_load = false;\n  }\n\n  function run_callbacks() {\n    try {\n      root._bokeh_onload_callbacks.forEach(function(callback) {\n        if (callback != null)\n          callback();\n      });\n    } finally {\n      delete root._bokeh_onload_callbacks;\n    }\n    console.debug(\"Bokeh: all callbacks have finished\");\n  }\n\n  function load_libs(css_urls, js_urls, js_modules, js_exports, callback) {\n    if (css_urls == null) css_urls = [];\n    if (js_urls == null) js_urls = [];\n    if (js_modules == null) js_modules = [];\n    if (js_exports == null) js_exports = {};\n\n    root._bokeh_onload_callbacks.push(callback);\n\n    if (root._bokeh_is_loading > 0) {\n      // Don't load bokeh if it is still initializing\n      console.debug(\"Bokeh: BokehJS is being loaded, scheduling callback at\", now());\n      return null;\n    } else if (js_urls.length === 0 && js_modules.length === 0 && Object.keys(js_exports).length === 0) {\n      // There is nothing to load\n      run_callbacks();\n      return null;\n    }\n\n    function on_load() {\n      root._bokeh_is_loading--;\n      if (root._bokeh_is_loading === 0) {\n        console.debug(\"Bokeh: all BokehJS libraries/stylesheets loaded\");\n        run_callbacks()\n      }\n    }\n    window._bokeh_on_load = on_load\n\n    function on_error(e) {\n      const src_el = e.srcElement\n      console.error(\"failed to load \" + (src_el.href || src_el.src));\n    }\n\n    const skip = [];\n    if (window.requirejs) {\n      window.requirejs.config({'packages': {}, 'paths': {}, 'shim': {}});\n      root._bokeh_is_loading = css_urls.length + 0;\n    } else {\n      root._bokeh_is_loading = css_urls.length + js_urls.length + js_modules.length + Object.keys(js_exports).length;\n    }\n\n    const existing_stylesheets = []\n    const links = document.getElementsByTagName('link')\n    for (let i = 0; i < links.length; i++) {\n      const link = links[i]\n      if (link.href != null) {\n        existing_stylesheets.push(link.href)\n      }\n    }\n    for (let i = 0; i < css_urls.length; i++) {\n      const url = css_urls[i];\n      const escaped = encodeURI(url)\n      if (existing_stylesheets.indexOf(escaped) !== -1) {\n        on_load()\n        continue;\n      }\n      const element = document.createElement(\"link\");\n      element.onload = on_load;\n      element.onerror = on_error;\n      element.rel = \"stylesheet\";\n      element.type = \"text/css\";\n      element.href = url;\n      console.debug(\"Bokeh: injecting link tag for BokehJS stylesheet: \", url);\n      document.body.appendChild(element);\n    }    var existing_scripts = []\n    const scripts = document.getElementsByTagName('script')\n    for (let i = 0; i < scripts.length; i++) {\n      var script = scripts[i]\n      if (script.src != null) {\n        existing_scripts.push(script.src)\n      }\n    }\n    for (let i = 0; i < js_urls.length; i++) {\n      const url = js_urls[i];\n      const escaped = encodeURI(url)\n      if (skip.indexOf(escaped) !== -1 || existing_scripts.indexOf(escaped) !== -1) {\n        if (!window.requirejs) {\n          on_load();\n        }\n        continue;\n      }\n      const element = document.createElement('script');\n      element.onload = on_load;\n      element.onerror = on_error;\n      element.async = false;\n      element.src = url;\n      console.debug(\"Bokeh: injecting script tag for BokehJS library: \", url);\n      document.head.appendChild(element);\n    }\n    for (let i = 0; i < js_modules.length; i++) {\n      const url = js_modules[i];\n      const escaped = encodeURI(url)\n      if (skip.indexOf(escaped) !== -1 || existing_scripts.indexOf(escaped) !== -1) {\n        if (!window.requirejs) {\n          on_load();\n        }\n        continue;\n      }\n      var element = document.createElement('script');\n      element.onload = on_load;\n      element.onerror = on_error;\n      element.async = false;\n      element.src = url;\n      element.type = \"module\";\n      console.debug(\"Bokeh: injecting script tag for BokehJS library: \", url);\n      document.head.appendChild(element);\n    }\n    for (const name in js_exports) {\n      const url = js_exports[name];\n      const escaped = encodeURI(url)\n      if (skip.indexOf(escaped) >= 0 || root[name] != null) {\n        if (!window.requirejs) {\n          on_load();\n        }\n        continue;\n      }\n      var element = document.createElement('script');\n      element.onerror = on_error;\n      element.async = false;\n      element.type = \"module\";\n      console.debug(\"Bokeh: injecting script tag for BokehJS library: \", url);\n      element.textContent = `\n      import ${name} from \"${url}\"\n      window.${name} = ${name}\n      window._bokeh_on_load()\n      `\n      document.head.appendChild(element);\n    }\n    if (!js_urls.length && !js_modules.length) {\n      on_load()\n    }\n  };\n\n  function inject_raw_css(css) {\n    const element = document.createElement(\"style\");\n    element.appendChild(document.createTextNode(css));\n    document.body.appendChild(element);\n  }\n\n  const js_urls = [\"https://cdn.holoviz.org/panel/1.6.1/dist/bundled/reactiveesm/es-module-shims@^1.10.0/dist/es-module-shims.min.js\", \"https://cdn.bokeh.org/bokeh/release/bokeh-3.6.3.min.js\", \"https://cdn.bokeh.org/bokeh/release/bokeh-gl-3.6.3.min.js\", \"https://cdn.bokeh.org/bokeh/release/bokeh-widgets-3.6.3.min.js\", \"https://cdn.bokeh.org/bokeh/release/bokeh-tables-3.6.3.min.js\", \"https://cdn.holoviz.org/panel/1.6.1/dist/panel.min.js\"];\n  const js_modules = [];\n  const js_exports = {};\n  const css_urls = [];\n  const inline_js = [    function(Bokeh) {\n      Bokeh.set_log_level(\"info\");\n    },\nfunction(Bokeh) {} // ensure no trailing comma for IE\n  ];\n\n  function run_inline_js() {\n    if ((root.Bokeh !== undefined) || (force === true)) {\n      for (let i = 0; i < inline_js.length; i++) {\n        try {\n          inline_js[i].call(root, root.Bokeh);\n        } catch(e) {\n          if (!reloading) {\n            throw e;\n          }\n        }\n      }\n      // Cache old bokeh versions\n      if (Bokeh != undefined && !reloading) {\n        var NewBokeh = root.Bokeh;\n        if (Bokeh.versions === undefined) {\n          Bokeh.versions = new Map();\n        }\n        if (NewBokeh.version !== Bokeh.version) {\n          Bokeh.versions.set(NewBokeh.version, NewBokeh)\n        }\n        root.Bokeh = Bokeh;\n      }\n    } else if (Date.now() < root._bokeh_timeout) {\n      setTimeout(run_inline_js, 100);\n    } else if (!root._bokeh_failed_load) {\n      console.log(\"Bokeh: BokehJS failed to load within specified timeout.\");\n      root._bokeh_failed_load = true;\n    }\n    root._bokeh_is_initializing = false\n  }\n\n  function load_or_wait() {\n    // Implement a backoff loop that tries to ensure we do not load multiple\n    // versions of Bokeh and its dependencies at the same time.\n    // In recent versions we use the root._bokeh_is_initializing flag\n    // to determine whether there is an ongoing attempt to initialize\n    // bokeh, however for backward compatibility we also try to ensure\n    // that we do not start loading a newer (Panel>=1.0 and Bokeh>3) version\n    // before older versions are fully initialized.\n    if (root._bokeh_is_initializing && Date.now() > root._bokeh_timeout) {\n      // If the timeout and bokeh was not successfully loaded we reset\n      // everything and try loading again\n      root._bokeh_timeout = Date.now() + 5000;\n      root._bokeh_is_initializing = false;\n      root._bokeh_onload_callbacks = undefined;\n      root._bokeh_is_loading = 0\n      console.log(\"Bokeh: BokehJS was loaded multiple times but one version failed to initialize.\");\n      load_or_wait();\n    } else if (root._bokeh_is_initializing || (typeof root._bokeh_is_initializing === \"undefined\" && root._bokeh_onload_callbacks !== undefined)) {\n      setTimeout(load_or_wait, 100);\n    } else {\n      root._bokeh_is_initializing = true\n      root._bokeh_onload_callbacks = []\n      const bokeh_loaded = root.Bokeh != null && (root.Bokeh.version === py_version || (root.Bokeh.versions !== undefined && root.Bokeh.versions.has(py_version)));\n      if (!reloading && !bokeh_loaded) {\n        if (root.Bokeh) {\n          root.Bokeh = undefined;\n        }\n        console.debug(\"Bokeh: BokehJS not loaded, scheduling load and callback at\", now());\n      }\n      load_libs(css_urls, js_urls, js_modules, js_exports, function() {\n        console.debug(\"Bokeh: BokehJS plotting callback run at\", now());\n        run_inline_js();\n      });\n    }\n  }\n  // Give older versions of the autoload script a head-start to ensure\n  // they initialize before we start loading newer version.\n  setTimeout(load_or_wait, 100)\n}(window));"
     },
     "metadata": {},
     "output_type": "display_data"
    },
    {
     "data": {
      "application/javascript": [
       "\n",
       "if ((window.PyViz === undefined) || (window.PyViz instanceof HTMLElement)) {\n",
       "  window.PyViz = {comms: {}, comm_status:{}, kernels:{}, receivers: {}, plot_index: []}\n",
       "}\n",
       "\n",
       "\n",
       "    function JupyterCommManager() {\n",
       "    }\n",
       "\n",
       "    JupyterCommManager.prototype.register_target = function(plot_id, comm_id, msg_handler) {\n",
       "      if (window.comm_manager || ((window.Jupyter !== undefined) && (Jupyter.notebook.kernel != null))) {\n",
       "        var comm_manager = window.comm_manager || Jupyter.notebook.kernel.comm_manager;\n",
       "        comm_manager.register_target(comm_id, function(comm) {\n",
       "          comm.on_msg(msg_handler);\n",
       "        });\n",
       "      } else if ((plot_id in window.PyViz.kernels) && (window.PyViz.kernels[plot_id])) {\n",
       "        window.PyViz.kernels[plot_id].registerCommTarget(comm_id, function(comm) {\n",
       "          comm.onMsg = msg_handler;\n",
       "        });\n",
       "      } else if (typeof google != 'undefined' && google.colab.kernel != null) {\n",
       "        google.colab.kernel.comms.registerTarget(comm_id, (comm) => {\n",
       "          var messages = comm.messages[Symbol.asyncIterator]();\n",
       "          function processIteratorResult(result) {\n",
       "            var message = result.value;\n",
       "            console.log(message)\n",
       "            var content = {data: message.data, comm_id};\n",
       "            var buffers = []\n",
       "            for (var buffer of message.buffers || []) {\n",
       "              buffers.push(new DataView(buffer))\n",
       "            }\n",
       "            var metadata = message.metadata || {};\n",
       "            var msg = {content, buffers, metadata}\n",
       "            msg_handler(msg);\n",
       "            return messages.next().then(processIteratorResult);\n",
       "          }\n",
       "          return messages.next().then(processIteratorResult);\n",
       "        })\n",
       "      }\n",
       "    }\n",
       "\n",
       "    JupyterCommManager.prototype.get_client_comm = function(plot_id, comm_id, msg_handler) {\n",
       "      if (comm_id in window.PyViz.comms) {\n",
       "        return window.PyViz.comms[comm_id];\n",
       "      } else if (window.comm_manager || ((window.Jupyter !== undefined) && (Jupyter.notebook.kernel != null))) {\n",
       "        var comm_manager = window.comm_manager || Jupyter.notebook.kernel.comm_manager;\n",
       "        var comm = comm_manager.new_comm(comm_id, {}, {}, {}, comm_id);\n",
       "        if (msg_handler) {\n",
       "          comm.on_msg(msg_handler);\n",
       "        }\n",
       "      } else if ((plot_id in window.PyViz.kernels) && (window.PyViz.kernels[plot_id])) {\n",
       "        var comm = window.PyViz.kernels[plot_id].connectToComm(comm_id);\n",
       "        comm.open();\n",
       "        if (msg_handler) {\n",
       "          comm.onMsg = msg_handler;\n",
       "        }\n",
       "      } else if (typeof google != 'undefined' && google.colab.kernel != null) {\n",
       "        var comm_promise = google.colab.kernel.comms.open(comm_id)\n",
       "        comm_promise.then((comm) => {\n",
       "          window.PyViz.comms[comm_id] = comm;\n",
       "          if (msg_handler) {\n",
       "            var messages = comm.messages[Symbol.asyncIterator]();\n",
       "            function processIteratorResult(result) {\n",
       "              var message = result.value;\n",
       "              var content = {data: message.data};\n",
       "              var metadata = message.metadata || {comm_id};\n",
       "              var msg = {content, metadata}\n",
       "              msg_handler(msg);\n",
       "              return messages.next().then(processIteratorResult);\n",
       "            }\n",
       "            return messages.next().then(processIteratorResult);\n",
       "          }\n",
       "        })\n",
       "        var sendClosure = (data, metadata, buffers, disposeOnDone) => {\n",
       "          return comm_promise.then((comm) => {\n",
       "            comm.send(data, metadata, buffers, disposeOnDone);\n",
       "          });\n",
       "        };\n",
       "        var comm = {\n",
       "          send: sendClosure\n",
       "        };\n",
       "      }\n",
       "      window.PyViz.comms[comm_id] = comm;\n",
       "      return comm;\n",
       "    }\n",
       "    window.PyViz.comm_manager = new JupyterCommManager();\n",
       "    \n",
       "\n",
       "\n",
       "var JS_MIME_TYPE = 'application/javascript';\n",
       "var HTML_MIME_TYPE = 'text/html';\n",
       "var EXEC_MIME_TYPE = 'application/vnd.holoviews_exec.v0+json';\n",
       "var CLASS_NAME = 'output';\n",
       "\n",
       "/**\n",
       " * Render data to the DOM node\n",
       " */\n",
       "function render(props, node) {\n",
       "  var div = document.createElement(\"div\");\n",
       "  var script = document.createElement(\"script\");\n",
       "  node.appendChild(div);\n",
       "  node.appendChild(script);\n",
       "}\n",
       "\n",
       "/**\n",
       " * Handle when a new output is added\n",
       " */\n",
       "function handle_add_output(event, handle) {\n",
       "  var output_area = handle.output_area;\n",
       "  var output = handle.output;\n",
       "  if ((output.data == undefined) || (!output.data.hasOwnProperty(EXEC_MIME_TYPE))) {\n",
       "    return\n",
       "  }\n",
       "  var id = output.metadata[EXEC_MIME_TYPE][\"id\"];\n",
       "  var toinsert = output_area.element.find(\".\" + CLASS_NAME.split(' ')[0]);\n",
       "  if (id !== undefined) {\n",
       "    var nchildren = toinsert.length;\n",
       "    var html_node = toinsert[nchildren-1].children[0];\n",
       "    html_node.innerHTML = output.data[HTML_MIME_TYPE];\n",
       "    var scripts = [];\n",
       "    var nodelist = html_node.querySelectorAll(\"script\");\n",
       "    for (var i in nodelist) {\n",
       "      if (nodelist.hasOwnProperty(i)) {\n",
       "        scripts.push(nodelist[i])\n",
       "      }\n",
       "    }\n",
       "\n",
       "    scripts.forEach( function (oldScript) {\n",
       "      var newScript = document.createElement(\"script\");\n",
       "      var attrs = [];\n",
       "      var nodemap = oldScript.attributes;\n",
       "      for (var j in nodemap) {\n",
       "        if (nodemap.hasOwnProperty(j)) {\n",
       "          attrs.push(nodemap[j])\n",
       "        }\n",
       "      }\n",
       "      attrs.forEach(function(attr) { newScript.setAttribute(attr.name, attr.value) });\n",
       "      newScript.appendChild(document.createTextNode(oldScript.innerHTML));\n",
       "      oldScript.parentNode.replaceChild(newScript, oldScript);\n",
       "    });\n",
       "    if (JS_MIME_TYPE in output.data) {\n",
       "      toinsert[nchildren-1].children[1].textContent = output.data[JS_MIME_TYPE];\n",
       "    }\n",
       "    output_area._hv_plot_id = id;\n",
       "    if ((window.Bokeh !== undefined) && (id in Bokeh.index)) {\n",
       "      window.PyViz.plot_index[id] = Bokeh.index[id];\n",
       "    } else {\n",
       "      window.PyViz.plot_index[id] = null;\n",
       "    }\n",
       "  } else if (output.metadata[EXEC_MIME_TYPE][\"server_id\"] !== undefined) {\n",
       "    var bk_div = document.createElement(\"div\");\n",
       "    bk_div.innerHTML = output.data[HTML_MIME_TYPE];\n",
       "    var script_attrs = bk_div.children[0].attributes;\n",
       "    for (var i = 0; i < script_attrs.length; i++) {\n",
       "      toinsert[toinsert.length - 1].childNodes[1].setAttribute(script_attrs[i].name, script_attrs[i].value);\n",
       "    }\n",
       "    // store reference to server id on output_area\n",
       "    output_area._bokeh_server_id = output.metadata[EXEC_MIME_TYPE][\"server_id\"];\n",
       "  }\n",
       "}\n",
       "\n",
       "/**\n",
       " * Handle when an output is cleared or removed\n",
       " */\n",
       "function handle_clear_output(event, handle) {\n",
       "  var id = handle.cell.output_area._hv_plot_id;\n",
       "  var server_id = handle.cell.output_area._bokeh_server_id;\n",
       "  if (((id === undefined) || !(id in PyViz.plot_index)) && (server_id !== undefined)) { return; }\n",
       "  var comm = window.PyViz.comm_manager.get_client_comm(\"hv-extension-comm\", \"hv-extension-comm\", function () {});\n",
       "  if (server_id !== null) {\n",
       "    comm.send({event_type: 'server_delete', 'id': server_id});\n",
       "    return;\n",
       "  } else if (comm !== null) {\n",
       "    comm.send({event_type: 'delete', 'id': id});\n",
       "  }\n",
       "  delete PyViz.plot_index[id];\n",
       "  if ((window.Bokeh !== undefined) & (id in window.Bokeh.index)) {\n",
       "    var doc = window.Bokeh.index[id].model.document\n",
       "    doc.clear();\n",
       "    const i = window.Bokeh.documents.indexOf(doc);\n",
       "    if (i > -1) {\n",
       "      window.Bokeh.documents.splice(i, 1);\n",
       "    }\n",
       "  }\n",
       "}\n",
       "\n",
       "/**\n",
       " * Handle kernel restart event\n",
       " */\n",
       "function handle_kernel_cleanup(event, handle) {\n",
       "  delete PyViz.comms[\"hv-extension-comm\"];\n",
       "  window.PyViz.plot_index = {}\n",
       "}\n",
       "\n",
       "/**\n",
       " * Handle update_display_data messages\n",
       " */\n",
       "function handle_update_output(event, handle) {\n",
       "  handle_clear_output(event, {cell: {output_area: handle.output_area}})\n",
       "  handle_add_output(event, handle)\n",
       "}\n",
       "\n",
       "function register_renderer(events, OutputArea) {\n",
       "  function append_mime(data, metadata, element) {\n",
       "    // create a DOM node to render to\n",
       "    var toinsert = this.create_output_subarea(\n",
       "    metadata,\n",
       "    CLASS_NAME,\n",
       "    EXEC_MIME_TYPE\n",
       "    );\n",
       "    this.keyboard_manager.register_events(toinsert);\n",
       "    // Render to node\n",
       "    var props = {data: data, metadata: metadata[EXEC_MIME_TYPE]};\n",
       "    render(props, toinsert[0]);\n",
       "    element.append(toinsert);\n",
       "    return toinsert\n",
       "  }\n",
       "\n",
       "  events.on('output_added.OutputArea', handle_add_output);\n",
       "  events.on('output_updated.OutputArea', handle_update_output);\n",
       "  events.on('clear_output.CodeCell', handle_clear_output);\n",
       "  events.on('delete.Cell', handle_clear_output);\n",
       "  events.on('kernel_ready.Kernel', handle_kernel_cleanup);\n",
       "\n",
       "  OutputArea.prototype.register_mime_type(EXEC_MIME_TYPE, append_mime, {\n",
       "    safe: true,\n",
       "    index: 0\n",
       "  });\n",
       "}\n",
       "\n",
       "if (window.Jupyter !== undefined) {\n",
       "  try {\n",
       "    var events = require('base/js/events');\n",
       "    var OutputArea = require('notebook/js/outputarea').OutputArea;\n",
       "    if (OutputArea.prototype.mime_types().indexOf(EXEC_MIME_TYPE) == -1) {\n",
       "      register_renderer(events, OutputArea);\n",
       "    }\n",
       "  } catch(err) {\n",
       "  }\n",
       "}\n"
      ],
      "application/vnd.holoviews_load.v0+json": "\nif ((window.PyViz === undefined) || (window.PyViz instanceof HTMLElement)) {\n  window.PyViz = {comms: {}, comm_status:{}, kernels:{}, receivers: {}, plot_index: []}\n}\n\n\n    function JupyterCommManager() {\n    }\n\n    JupyterCommManager.prototype.register_target = function(plot_id, comm_id, msg_handler) {\n      if (window.comm_manager || ((window.Jupyter !== undefined) && (Jupyter.notebook.kernel != null))) {\n        var comm_manager = window.comm_manager || Jupyter.notebook.kernel.comm_manager;\n        comm_manager.register_target(comm_id, function(comm) {\n          comm.on_msg(msg_handler);\n        });\n      } else if ((plot_id in window.PyViz.kernels) && (window.PyViz.kernels[plot_id])) {\n        window.PyViz.kernels[plot_id].registerCommTarget(comm_id, function(comm) {\n          comm.onMsg = msg_handler;\n        });\n      } else if (typeof google != 'undefined' && google.colab.kernel != null) {\n        google.colab.kernel.comms.registerTarget(comm_id, (comm) => {\n          var messages = comm.messages[Symbol.asyncIterator]();\n          function processIteratorResult(result) {\n            var message = result.value;\n            console.log(message)\n            var content = {data: message.data, comm_id};\n            var buffers = []\n            for (var buffer of message.buffers || []) {\n              buffers.push(new DataView(buffer))\n            }\n            var metadata = message.metadata || {};\n            var msg = {content, buffers, metadata}\n            msg_handler(msg);\n            return messages.next().then(processIteratorResult);\n          }\n          return messages.next().then(processIteratorResult);\n        })\n      }\n    }\n\n    JupyterCommManager.prototype.get_client_comm = function(plot_id, comm_id, msg_handler) {\n      if (comm_id in window.PyViz.comms) {\n        return window.PyViz.comms[comm_id];\n      } else if (window.comm_manager || ((window.Jupyter !== undefined) && (Jupyter.notebook.kernel != null))) {\n        var comm_manager = window.comm_manager || Jupyter.notebook.kernel.comm_manager;\n        var comm = comm_manager.new_comm(comm_id, {}, {}, {}, comm_id);\n        if (msg_handler) {\n          comm.on_msg(msg_handler);\n        }\n      } else if ((plot_id in window.PyViz.kernels) && (window.PyViz.kernels[plot_id])) {\n        var comm = window.PyViz.kernels[plot_id].connectToComm(comm_id);\n        comm.open();\n        if (msg_handler) {\n          comm.onMsg = msg_handler;\n        }\n      } else if (typeof google != 'undefined' && google.colab.kernel != null) {\n        var comm_promise = google.colab.kernel.comms.open(comm_id)\n        comm_promise.then((comm) => {\n          window.PyViz.comms[comm_id] = comm;\n          if (msg_handler) {\n            var messages = comm.messages[Symbol.asyncIterator]();\n            function processIteratorResult(result) {\n              var message = result.value;\n              var content = {data: message.data};\n              var metadata = message.metadata || {comm_id};\n              var msg = {content, metadata}\n              msg_handler(msg);\n              return messages.next().then(processIteratorResult);\n            }\n            return messages.next().then(processIteratorResult);\n          }\n        })\n        var sendClosure = (data, metadata, buffers, disposeOnDone) => {\n          return comm_promise.then((comm) => {\n            comm.send(data, metadata, buffers, disposeOnDone);\n          });\n        };\n        var comm = {\n          send: sendClosure\n        };\n      }\n      window.PyViz.comms[comm_id] = comm;\n      return comm;\n    }\n    window.PyViz.comm_manager = new JupyterCommManager();\n    \n\n\nvar JS_MIME_TYPE = 'application/javascript';\nvar HTML_MIME_TYPE = 'text/html';\nvar EXEC_MIME_TYPE = 'application/vnd.holoviews_exec.v0+json';\nvar CLASS_NAME = 'output';\n\n/**\n * Render data to the DOM node\n */\nfunction render(props, node) {\n  var div = document.createElement(\"div\");\n  var script = document.createElement(\"script\");\n  node.appendChild(div);\n  node.appendChild(script);\n}\n\n/**\n * Handle when a new output is added\n */\nfunction handle_add_output(event, handle) {\n  var output_area = handle.output_area;\n  var output = handle.output;\n  if ((output.data == undefined) || (!output.data.hasOwnProperty(EXEC_MIME_TYPE))) {\n    return\n  }\n  var id = output.metadata[EXEC_MIME_TYPE][\"id\"];\n  var toinsert = output_area.element.find(\".\" + CLASS_NAME.split(' ')[0]);\n  if (id !== undefined) {\n    var nchildren = toinsert.length;\n    var html_node = toinsert[nchildren-1].children[0];\n    html_node.innerHTML = output.data[HTML_MIME_TYPE];\n    var scripts = [];\n    var nodelist = html_node.querySelectorAll(\"script\");\n    for (var i in nodelist) {\n      if (nodelist.hasOwnProperty(i)) {\n        scripts.push(nodelist[i])\n      }\n    }\n\n    scripts.forEach( function (oldScript) {\n      var newScript = document.createElement(\"script\");\n      var attrs = [];\n      var nodemap = oldScript.attributes;\n      for (var j in nodemap) {\n        if (nodemap.hasOwnProperty(j)) {\n          attrs.push(nodemap[j])\n        }\n      }\n      attrs.forEach(function(attr) { newScript.setAttribute(attr.name, attr.value) });\n      newScript.appendChild(document.createTextNode(oldScript.innerHTML));\n      oldScript.parentNode.replaceChild(newScript, oldScript);\n    });\n    if (JS_MIME_TYPE in output.data) {\n      toinsert[nchildren-1].children[1].textContent = output.data[JS_MIME_TYPE];\n    }\n    output_area._hv_plot_id = id;\n    if ((window.Bokeh !== undefined) && (id in Bokeh.index)) {\n      window.PyViz.plot_index[id] = Bokeh.index[id];\n    } else {\n      window.PyViz.plot_index[id] = null;\n    }\n  } else if (output.metadata[EXEC_MIME_TYPE][\"server_id\"] !== undefined) {\n    var bk_div = document.createElement(\"div\");\n    bk_div.innerHTML = output.data[HTML_MIME_TYPE];\n    var script_attrs = bk_div.children[0].attributes;\n    for (var i = 0; i < script_attrs.length; i++) {\n      toinsert[toinsert.length - 1].childNodes[1].setAttribute(script_attrs[i].name, script_attrs[i].value);\n    }\n    // store reference to server id on output_area\n    output_area._bokeh_server_id = output.metadata[EXEC_MIME_TYPE][\"server_id\"];\n  }\n}\n\n/**\n * Handle when an output is cleared or removed\n */\nfunction handle_clear_output(event, handle) {\n  var id = handle.cell.output_area._hv_plot_id;\n  var server_id = handle.cell.output_area._bokeh_server_id;\n  if (((id === undefined) || !(id in PyViz.plot_index)) && (server_id !== undefined)) { return; }\n  var comm = window.PyViz.comm_manager.get_client_comm(\"hv-extension-comm\", \"hv-extension-comm\", function () {});\n  if (server_id !== null) {\n    comm.send({event_type: 'server_delete', 'id': server_id});\n    return;\n  } else if (comm !== null) {\n    comm.send({event_type: 'delete', 'id': id});\n  }\n  delete PyViz.plot_index[id];\n  if ((window.Bokeh !== undefined) & (id in window.Bokeh.index)) {\n    var doc = window.Bokeh.index[id].model.document\n    doc.clear();\n    const i = window.Bokeh.documents.indexOf(doc);\n    if (i > -1) {\n      window.Bokeh.documents.splice(i, 1);\n    }\n  }\n}\n\n/**\n * Handle kernel restart event\n */\nfunction handle_kernel_cleanup(event, handle) {\n  delete PyViz.comms[\"hv-extension-comm\"];\n  window.PyViz.plot_index = {}\n}\n\n/**\n * Handle update_display_data messages\n */\nfunction handle_update_output(event, handle) {\n  handle_clear_output(event, {cell: {output_area: handle.output_area}})\n  handle_add_output(event, handle)\n}\n\nfunction register_renderer(events, OutputArea) {\n  function append_mime(data, metadata, element) {\n    // create a DOM node to render to\n    var toinsert = this.create_output_subarea(\n    metadata,\n    CLASS_NAME,\n    EXEC_MIME_TYPE\n    );\n    this.keyboard_manager.register_events(toinsert);\n    // Render to node\n    var props = {data: data, metadata: metadata[EXEC_MIME_TYPE]};\n    render(props, toinsert[0]);\n    element.append(toinsert);\n    return toinsert\n  }\n\n  events.on('output_added.OutputArea', handle_add_output);\n  events.on('output_updated.OutputArea', handle_update_output);\n  events.on('clear_output.CodeCell', handle_clear_output);\n  events.on('delete.Cell', handle_clear_output);\n  events.on('kernel_ready.Kernel', handle_kernel_cleanup);\n\n  OutputArea.prototype.register_mime_type(EXEC_MIME_TYPE, append_mime, {\n    safe: true,\n    index: 0\n  });\n}\n\nif (window.Jupyter !== undefined) {\n  try {\n    var events = require('base/js/events');\n    var OutputArea = require('notebook/js/outputarea').OutputArea;\n    if (OutputArea.prototype.mime_types().indexOf(EXEC_MIME_TYPE) == -1) {\n      register_renderer(events, OutputArea);\n    }\n  } catch(err) {\n  }\n}\n"
     },
     "metadata": {},
     "output_type": "display_data"
    },
    {
     "data": {
      "application/vnd.holoviews_exec.v0+json": "",
      "text/html": [
       "<div id='df7ac20e-0bcd-4b05-9f28-043387a4340b'>\n",
       "  <div id=\"d86a6b55-74b1-46bb-b8ba-809a0e27c2ac\" data-root-id=\"df7ac20e-0bcd-4b05-9f28-043387a4340b\" style=\"display: contents;\"></div>\n",
       "</div>\n",
       "<script type=\"application/javascript\">(function(root) {\n",
       "  var docs_json = {\"aea03c19-1edb-4f71-bbc6-27b5bde6dc2e\":{\"version\":\"3.6.3\",\"title\":\"Bokeh Application\",\"roots\":[{\"type\":\"object\",\"name\":\"panel.models.browser.BrowserInfo\",\"id\":\"df7ac20e-0bcd-4b05-9f28-043387a4340b\"},{\"type\":\"object\",\"name\":\"panel.models.comm_manager.CommManager\",\"id\":\"11af7fcd-fb66-469f-a203-6e1f865d6b55\",\"attributes\":{\"plot_id\":\"df7ac20e-0bcd-4b05-9f28-043387a4340b\",\"comm_id\":\"c87a0e34615d4650a9405d9b97671fa4\",\"client_comm_id\":\"2d8cecb2437c4460b6e6a466105496dd\"}}],\"defs\":[{\"type\":\"model\",\"name\":\"ReactiveHTML1\"},{\"type\":\"model\",\"name\":\"FlexBox1\",\"properties\":[{\"name\":\"align_content\",\"kind\":\"Any\",\"default\":\"flex-start\"},{\"name\":\"align_items\",\"kind\":\"Any\",\"default\":\"flex-start\"},{\"name\":\"flex_direction\",\"kind\":\"Any\",\"default\":\"row\"},{\"name\":\"flex_wrap\",\"kind\":\"Any\",\"default\":\"wrap\"},{\"name\":\"gap\",\"kind\":\"Any\",\"default\":\"\"},{\"name\":\"justify_content\",\"kind\":\"Any\",\"default\":\"flex-start\"}]},{\"type\":\"model\",\"name\":\"FloatPanel1\",\"properties\":[{\"name\":\"config\",\"kind\":\"Any\",\"default\":{\"type\":\"map\"}},{\"name\":\"contained\",\"kind\":\"Any\",\"default\":true},{\"name\":\"position\",\"kind\":\"Any\",\"default\":\"right-top\"},{\"name\":\"offsetx\",\"kind\":\"Any\",\"default\":null},{\"name\":\"offsety\",\"kind\":\"Any\",\"default\":null},{\"name\":\"theme\",\"kind\":\"Any\",\"default\":\"primary\"},{\"name\":\"status\",\"kind\":\"Any\",\"default\":\"normalized\"}]},{\"type\":\"model\",\"name\":\"GridStack1\",\"properties\":[{\"name\":\"mode\",\"kind\":\"Any\",\"default\":\"warn\"},{\"name\":\"ncols\",\"kind\":\"Any\",\"default\":null},{\"name\":\"nrows\",\"kind\":\"Any\",\"default\":null},{\"name\":\"allow_resize\",\"kind\":\"Any\",\"default\":true},{\"name\":\"allow_drag\",\"kind\":\"Any\",\"default\":true},{\"name\":\"state\",\"kind\":\"Any\",\"default\":[]}]},{\"type\":\"model\",\"name\":\"drag1\",\"properties\":[{\"name\":\"slider_width\",\"kind\":\"Any\",\"default\":5},{\"name\":\"slider_color\",\"kind\":\"Any\",\"default\":\"black\"},{\"name\":\"value\",\"kind\":\"Any\",\"default\":50}]},{\"type\":\"model\",\"name\":\"click1\",\"properties\":[{\"name\":\"terminal_output\",\"kind\":\"Any\",\"default\":\"\"},{\"name\":\"debug_name\",\"kind\":\"Any\",\"default\":\"\"},{\"name\":\"clears\",\"kind\":\"Any\",\"default\":0}]},{\"type\":\"model\",\"name\":\"FastWrapper1\",\"properties\":[{\"name\":\"object\",\"kind\":\"Any\",\"default\":null},{\"name\":\"style\",\"kind\":\"Any\",\"default\":null}]},{\"type\":\"model\",\"name\":\"NotificationAreaBase1\",\"properties\":[{\"name\":\"js_events\",\"kind\":\"Any\",\"default\":{\"type\":\"map\"}},{\"name\":\"position\",\"kind\":\"Any\",\"default\":\"bottom-right\"},{\"name\":\"_clear\",\"kind\":\"Any\",\"default\":0}]},{\"type\":\"model\",\"name\":\"NotificationArea1\",\"properties\":[{\"name\":\"js_events\",\"kind\":\"Any\",\"default\":{\"type\":\"map\"}},{\"name\":\"notifications\",\"kind\":\"Any\",\"default\":[]},{\"name\":\"position\",\"kind\":\"Any\",\"default\":\"bottom-right\"},{\"name\":\"_clear\",\"kind\":\"Any\",\"default\":0},{\"name\":\"types\",\"kind\":\"Any\",\"default\":[{\"type\":\"map\",\"entries\":[[\"type\",\"warning\"],[\"background\",\"#ffc107\"],[\"icon\",{\"type\":\"map\",\"entries\":[[\"className\",\"fas fa-exclamation-triangle\"],[\"tagName\",\"i\"],[\"color\",\"white\"]]}]]},{\"type\":\"map\",\"entries\":[[\"type\",\"info\"],[\"background\",\"#007bff\"],[\"icon\",{\"type\":\"map\",\"entries\":[[\"className\",\"fas fa-info-circle\"],[\"tagName\",\"i\"],[\"color\",\"white\"]]}]]}]}]},{\"type\":\"model\",\"name\":\"Notification\",\"properties\":[{\"name\":\"background\",\"kind\":\"Any\",\"default\":null},{\"name\":\"duration\",\"kind\":\"Any\",\"default\":3000},{\"name\":\"icon\",\"kind\":\"Any\",\"default\":null},{\"name\":\"message\",\"kind\":\"Any\",\"default\":\"\"},{\"name\":\"notification_type\",\"kind\":\"Any\",\"default\":null},{\"name\":\"_rendered\",\"kind\":\"Any\",\"default\":false},{\"name\":\"_destroyed\",\"kind\":\"Any\",\"default\":false}]},{\"type\":\"model\",\"name\":\"TemplateActions1\",\"properties\":[{\"name\":\"open_modal\",\"kind\":\"Any\",\"default\":0},{\"name\":\"close_modal\",\"kind\":\"Any\",\"default\":0}]},{\"type\":\"model\",\"name\":\"BootstrapTemplateActions1\",\"properties\":[{\"name\":\"open_modal\",\"kind\":\"Any\",\"default\":0},{\"name\":\"close_modal\",\"kind\":\"Any\",\"default\":0}]},{\"type\":\"model\",\"name\":\"TemplateEditor1\",\"properties\":[{\"name\":\"layout\",\"kind\":\"Any\",\"default\":[]}]},{\"type\":\"model\",\"name\":\"MaterialTemplateActions1\",\"properties\":[{\"name\":\"open_modal\",\"kind\":\"Any\",\"default\":0},{\"name\":\"close_modal\",\"kind\":\"Any\",\"default\":0}]},{\"type\":\"model\",\"name\":\"ReactiveESM1\",\"properties\":[{\"name\":\"esm_constants\",\"kind\":\"Any\",\"default\":{\"type\":\"map\"}}]},{\"type\":\"model\",\"name\":\"JSComponent1\",\"properties\":[{\"name\":\"esm_constants\",\"kind\":\"Any\",\"default\":{\"type\":\"map\"}}]},{\"type\":\"model\",\"name\":\"ReactComponent1\",\"properties\":[{\"name\":\"esm_constants\",\"kind\":\"Any\",\"default\":{\"type\":\"map\"}}]},{\"type\":\"model\",\"name\":\"AnyWidgetComponent1\",\"properties\":[{\"name\":\"esm_constants\",\"kind\":\"Any\",\"default\":{\"type\":\"map\"}}]},{\"type\":\"model\",\"name\":\"request_value1\",\"properties\":[{\"name\":\"fill\",\"kind\":\"Any\",\"default\":\"none\"},{\"name\":\"_synced\",\"kind\":\"Any\",\"default\":null},{\"name\":\"_request_sync\",\"kind\":\"Any\",\"default\":0}]}]}};\n",
       "  var render_items = [{\"docid\":\"aea03c19-1edb-4f71-bbc6-27b5bde6dc2e\",\"roots\":{\"df7ac20e-0bcd-4b05-9f28-043387a4340b\":\"d86a6b55-74b1-46bb-b8ba-809a0e27c2ac\"},\"root_ids\":[\"df7ac20e-0bcd-4b05-9f28-043387a4340b\"]}];\n",
       "  var docs = Object.values(docs_json)\n",
       "  if (!docs) {\n",
       "    return\n",
       "  }\n",
       "  const py_version = docs[0].version.replace('rc', '-rc.').replace('.dev', '-dev.')\n",
       "  async function embed_document(root) {\n",
       "    var Bokeh = get_bokeh(root)\n",
       "    await Bokeh.embed.embed_items_notebook(docs_json, render_items);\n",
       "    for (const render_item of render_items) {\n",
       "      for (const root_id of render_item.root_ids) {\n",
       "\tconst id_el = document.getElementById(root_id)\n",
       "\tif (id_el.children.length && id_el.children[0].hasAttribute('data-root-id')) {\n",
       "\t  const root_el = id_el.children[0]\n",
       "\t  root_el.id = root_el.id + '-rendered'\n",
       "\t  for (const child of root_el.children) {\n",
       "            // Ensure JupyterLab does not capture keyboard shortcuts\n",
       "            // see: https://jupyterlab.readthedocs.io/en/4.1.x/extension/notebook.html#keyboard-interaction-model\n",
       "\t    child.setAttribute('data-lm-suppress-shortcuts', 'true')\n",
       "\t  }\n",
       "\t}\n",
       "      }\n",
       "    }\n",
       "  }\n",
       "  function get_bokeh(root) {\n",
       "    if (root.Bokeh === undefined) {\n",
       "      return null\n",
       "    } else if (root.Bokeh.version !== py_version) {\n",
       "      if (root.Bokeh.versions === undefined || !root.Bokeh.versions.has(py_version)) {\n",
       "\treturn null\n",
       "      }\n",
       "      return root.Bokeh.versions.get(py_version);\n",
       "    } else if (root.Bokeh.version === py_version) {\n",
       "      return root.Bokeh\n",
       "    }\n",
       "    return null\n",
       "  }\n",
       "  function is_loaded(root) {\n",
       "    var Bokeh = get_bokeh(root)\n",
       "    return (Bokeh != null && Bokeh.Panel !== undefined)\n",
       "  }\n",
       "  if (is_loaded(root)) {\n",
       "    embed_document(root);\n",
       "  } else {\n",
       "    var attempts = 0;\n",
       "    var timer = setInterval(function(root) {\n",
       "      if (is_loaded(root)) {\n",
       "        clearInterval(timer);\n",
       "        embed_document(root);\n",
       "      } else if (document.readyState == \"complete\") {\n",
       "        attempts++;\n",
       "        if (attempts > 200) {\n",
       "          clearInterval(timer);\n",
       "\t  var Bokeh = get_bokeh(root)\n",
       "\t  if (Bokeh == null || Bokeh.Panel == null) {\n",
       "            console.warn(\"Panel: ERROR: Unable to run Panel code because Bokeh or Panel library is missing\");\n",
       "\t  } else {\n",
       "\t    console.warn(\"Panel: WARNING: Attempting to render but not all required libraries could be resolved.\")\n",
       "\t    embed_document(root)\n",
       "\t  }\n",
       "        }\n",
       "      }\n",
       "    }, 25, root)\n",
       "  }\n",
       "})(window);</script>"
      ]
     },
     "metadata": {
      "application/vnd.holoviews_exec.v0+json": {
       "id": "df7ac20e-0bcd-4b05-9f28-043387a4340b"
      }
     },
     "output_type": "display_data"
    },
    {
     "data": {},
     "metadata": {},
     "output_type": "display_data"
    },
    {
     "data": {
      "application/vnd.holoviews_exec.v0+json": "",
      "text/html": [
       "<div id='d634fd90-8a95-454a-b3b4-529f4461e57d'>\n",
       "  <div id=\"d63ccb43-0a0f-4c73-893e-53bd36223662\" data-root-id=\"d634fd90-8a95-454a-b3b4-529f4461e57d\" style=\"display: contents;\"></div>\n",
       "</div>\n",
       "<script type=\"application/javascript\">(function(root) {\n",
       "  var docs_json = {\"df9af363-3e7b-4546-b84f-b7a3578a8f9e\":{\"version\":\"3.6.3\",\"title\":\"Bokeh Application\",\"roots\":[{\"type\":\"object\",\"name\":\"Row\",\"id\":\"d634fd90-8a95-454a-b3b4-529f4461e57d\",\"attributes\":{\"name\":\"Row00289\",\"stylesheets\":[\"\\n:host(.pn-loading):before, .pn-loading:before {\\n  background-color: #c3c3c3;\\n  mask-size: auto calc(min(50%, 400px));\\n  -webkit-mask-size: auto calc(min(50%, 400px));\\n}\",{\"type\":\"object\",\"name\":\"ImportedStyleSheet\",\"id\":\"18d1eb3b-c600-4b3f-b4ca-bb0348e1d0c6\",\"attributes\":{\"url\":\"https://cdn.holoviz.org/panel/1.6.1/dist/css/loading.css\"}},{\"type\":\"object\",\"name\":\"ImportedStyleSheet\",\"id\":\"106d8815-d77d-4255-a250-77a9b146fe68\",\"attributes\":{\"url\":\"https://cdn.holoviz.org/panel/1.6.1/dist/css/listpanel.css\"}},{\"type\":\"object\",\"name\":\"ImportedStyleSheet\",\"id\":\"77d65d3d-3ba0-4f3d-b52f-f2fe98d3ec3c\",\"attributes\":{\"url\":\"https://cdn.holoviz.org/panel/1.6.1/dist/bundled/theme/default.css\"}},{\"type\":\"object\",\"name\":\"ImportedStyleSheet\",\"id\":\"650b3d4d-e321-4ddd-b5dd-91bcaaa67665\",\"attributes\":{\"url\":\"https://cdn.holoviz.org/panel/1.6.1/dist/bundled/theme/native.css\"}}],\"min_width\":800,\"margin\":0,\"sizing_mode\":\"stretch_width\",\"align\":\"start\",\"children\":[{\"type\":\"object\",\"name\":\"Spacer\",\"id\":\"0e07a658-c605-494f-821e-517a2b794fa3\",\"attributes\":{\"name\":\"HSpacer00293\",\"stylesheets\":[\"\\n:host(.pn-loading):before, .pn-loading:before {\\n  background-color: #c3c3c3;\\n  mask-size: auto calc(min(50%, 400px));\\n  -webkit-mask-size: auto calc(min(50%, 400px));\\n}\",{\"id\":\"18d1eb3b-c600-4b3f-b4ca-bb0348e1d0c6\"},{\"id\":\"77d65d3d-3ba0-4f3d-b52f-f2fe98d3ec3c\"},{\"id\":\"650b3d4d-e321-4ddd-b5dd-91bcaaa67665\"}],\"margin\":0,\"sizing_mode\":\"stretch_width\",\"align\":\"start\"}},{\"type\":\"object\",\"name\":\"Figure\",\"id\":\"811c5952-52aa-414f-aef2-a9deaec85980\",\"attributes\":{\"js_event_callbacks\":{\"type\":\"map\",\"entries\":[[\"reset\",[{\"type\":\"object\",\"name\":\"CustomJS\",\"id\":\"3763bb92-722a-4777-9ff7-bf2151126436\",\"attributes\":{\"code\":\"export default (_, cb_obj) => { cb_obj.origin.hold_render = false }\"}}]]]},\"subscribed_events\":{\"type\":\"set\",\"entries\":[\"reset\",\"rangesupdate\"]},\"width\":800,\"margin\":[5,10],\"sizing_mode\":\"fixed\",\"align\":\"start\",\"x_range\":{\"type\":\"object\",\"name\":\"Range1d\",\"id\":\"8a7b7106-5869-4ef5-bd41-4a00527af5fc\",\"attributes\":{\"name\":\"width\",\"tags\":[[[\"width\",null]],[]]}},\"y_range\":{\"type\":\"object\",\"name\":\"Range1d\",\"id\":\"f47b166d-c984-44cb-b355-554e4a976650\",\"attributes\":{\"name\":\"offset\",\"tags\":[[[\"offset\",null]],{\"type\":\"map\",\"entries\":[[\"invert_yaxis\",false],[\"autorange\",false]]}]}},\"x_scale\":{\"type\":\"object\",\"name\":\"LinearScale\",\"id\":\"4b5d9052-a133-4a6a-9f13-e9c51dfdf974\"},\"y_scale\":{\"type\":\"object\",\"name\":\"LinearScale\",\"id\":\"30dcdfb5-dd43-4413-ad77-801ff42593d1\"},\"title\":{\"type\":\"object\",\"name\":\"Title\",\"id\":\"e9bc52e7-65bb-46be-9790-5f0767c60fae\",\"attributes\":{\"text_color\":\"black\",\"text_font_size\":\"12pt\"}},\"renderers\":[{\"type\":\"object\",\"name\":\"GlyphRenderer\",\"id\":\"d79caa53-b782-431f-b3a3-695a64ef44aa\",\"attributes\":{\"data_source\":{\"type\":\"object\",\"name\":\"ColumnDataSource\",\"id\":\"82a7b58f-a682-4d5a-8d91-5b899909121f\",\"attributes\":{\"selected\":{\"type\":\"object\",\"name\":\"Selection\",\"id\":\"1357b355-c9d1-4d3c-97aa-f0e6725928af\",\"attributes\":{\"indices\":[],\"line_indices\":[]}},\"selection_policy\":{\"type\":\"object\",\"name\":\"UnionRenderers\",\"id\":\"2a398b53-a682-4d66-81ed-6fa5e89a580d\"},\"data\":{\"type\":\"map\",\"entries\":[[\"width\",{\"type\":\"ndarray\",\"array\":{\"type\":\"bytes\",\"data\":\"\"},\"shape\":[0],\"dtype\":\"float64\",\"order\":\"little\"}],[\"offset\",{\"type\":\"ndarray\",\"array\":{\"type\":\"bytes\",\"data\":\"\"},\"shape\":[0],\"dtype\":\"float64\",\"order\":\"little\"}]]}}},\"view\":{\"type\":\"object\",\"name\":\"CDSView\",\"id\":\"22bab634-0275-416a-91f5-fbd94657c515\",\"attributes\":{\"filter\":{\"type\":\"object\",\"name\":\"AllIndices\",\"id\":\"1fb8e1d6-fb33-4a81-8c03-ff09d9eb5646\"}}},\"glyph\":{\"type\":\"object\",\"name\":\"Scatter\",\"id\":\"a8e303b1-f659-4efa-8c32-fb8b504616c6\",\"attributes\":{\"tags\":[\"apply_ranges\"],\"x\":{\"type\":\"field\",\"field\":\"width\"},\"y\":{\"type\":\"field\",\"field\":\"offset\"},\"size\":{\"type\":\"value\",\"value\":10},\"line_color\":{\"type\":\"value\",\"value\":\"#007f00\"},\"fill_color\":{\"type\":\"value\",\"value\":\"#007f00\"},\"hatch_color\":{\"type\":\"value\",\"value\":\"#007f00\"},\"marker\":{\"type\":\"value\",\"value\":\"cross\"}}},\"selection_glyph\":{\"type\":\"object\",\"name\":\"Scatter\",\"id\":\"6b7948d7-085e-478b-b969-6d2272876597\",\"attributes\":{\"tags\":[\"apply_ranges\"],\"x\":{\"type\":\"field\",\"field\":\"width\"},\"y\":{\"type\":\"field\",\"field\":\"offset\"},\"size\":{\"type\":\"value\",\"value\":10},\"angle\":{\"type\":\"value\",\"value\":0.0},\"line_color\":{\"type\":\"value\",\"value\":\"#007f00\"},\"line_alpha\":{\"type\":\"value\",\"value\":1.0},\"line_width\":{\"type\":\"value\",\"value\":1},\"line_join\":{\"type\":\"value\",\"value\":\"bevel\"},\"line_cap\":{\"type\":\"value\",\"value\":\"butt\"},\"line_dash\":{\"type\":\"value\",\"value\":[]},\"line_dash_offset\":{\"type\":\"value\",\"value\":0},\"fill_color\":{\"type\":\"value\",\"value\":\"#007f00\"},\"fill_alpha\":{\"type\":\"value\",\"value\":1.0},\"hatch_color\":{\"type\":\"value\",\"value\":\"#007f00\"},\"hatch_alpha\":{\"type\":\"value\",\"value\":1.0},\"hatch_scale\":{\"type\":\"value\",\"value\":12.0},\"hatch_pattern\":{\"type\":\"value\",\"value\":null},\"hatch_weight\":{\"type\":\"value\",\"value\":1.0},\"marker\":{\"type\":\"value\",\"value\":\"cross\"}}},\"nonselection_glyph\":{\"type\":\"object\",\"name\":\"Scatter\",\"id\":\"db518f83-8720-4e51-8570-1f243ed7eb1c\",\"attributes\":{\"tags\":[\"apply_ranges\"],\"x\":{\"type\":\"field\",\"field\":\"width\"},\"y\":{\"type\":\"field\",\"field\":\"offset\"},\"size\":{\"type\":\"value\",\"value\":10},\"line_color\":{\"type\":\"value\",\"value\":\"#007f00\"},\"line_alpha\":{\"type\":\"value\",\"value\":0.1},\"fill_color\":{\"type\":\"value\",\"value\":\"#007f00\"},\"fill_alpha\":{\"type\":\"value\",\"value\":0.1},\"hatch_color\":{\"type\":\"value\",\"value\":\"#007f00\"},\"hatch_alpha\":{\"type\":\"value\",\"value\":0.1},\"marker\":{\"type\":\"value\",\"value\":\"cross\"}}},\"muted_glyph\":{\"type\":\"object\",\"name\":\"Scatter\",\"id\":\"98ea72d3-d8ef-447a-9274-988879d72024\",\"attributes\":{\"tags\":[\"apply_ranges\"],\"x\":{\"type\":\"field\",\"field\":\"width\"},\"y\":{\"type\":\"field\",\"field\":\"offset\"},\"size\":{\"type\":\"value\",\"value\":10},\"line_color\":{\"type\":\"value\",\"value\":\"#007f00\"},\"line_alpha\":{\"type\":\"value\",\"value\":0.2},\"fill_color\":{\"type\":\"value\",\"value\":\"#007f00\"},\"fill_alpha\":{\"type\":\"value\",\"value\":0.2},\"hatch_color\":{\"type\":\"value\",\"value\":\"#007f00\"},\"hatch_alpha\":{\"type\":\"value\",\"value\":0.2},\"marker\":{\"type\":\"value\",\"value\":\"cross\"}}}}},{\"type\":\"object\",\"name\":\"GlyphRenderer\",\"id\":\"c1015668-8fda-4308-b5cd-08385e13c391\",\"attributes\":{\"data_source\":{\"type\":\"object\",\"name\":\"ColumnDataSource\",\"id\":\"10c8bf16-691b-4a20-841b-927a657c4c16\",\"attributes\":{\"selected\":{\"type\":\"object\",\"name\":\"Selection\",\"id\":\"885c7d0c-879c-47ad-9ba1-a7d65fdc969f\",\"attributes\":{\"indices\":[],\"line_indices\":[]}},\"selection_policy\":{\"type\":\"object\",\"name\":\"UnionRenderers\",\"id\":\"541f43b7-00ba-4438-9832-d8ca841d36e0\"},\"data\":{\"type\":\"map\",\"entries\":[[\"width\",{\"type\":\"ndarray\",\"array\":{\"type\":\"bytes\",\"data\":\"\"},\"shape\":[0],\"dtype\":\"float64\",\"order\":\"little\"}],[\"offset\",{\"type\":\"ndarray\",\"array\":{\"type\":\"bytes\",\"data\":\"\"},\"shape\":[0],\"dtype\":\"float64\",\"order\":\"little\"}]]}}},\"view\":{\"type\":\"object\",\"name\":\"CDSView\",\"id\":\"984eb2c5-aa04-49ba-9ac6-2f0061e80252\",\"attributes\":{\"filter\":{\"type\":\"object\",\"name\":\"AllIndices\",\"id\":\"5ba67f9f-1112-4f75-ac27-3b1ff28e339f\"}}},\"glyph\":{\"type\":\"object\",\"name\":\"Scatter\",\"id\":\"4cb09377-7594-40e2-8852-7c6aaab09ff4\",\"attributes\":{\"tags\":[\"apply_ranges\"],\"x\":{\"type\":\"field\",\"field\":\"width\"},\"y\":{\"type\":\"field\",\"field\":\"offset\"},\"size\":{\"type\":\"value\",\"value\":10},\"angle\":{\"type\":\"value\",\"value\":0.7853981633974483},\"line_color\":{\"type\":\"value\",\"value\":\"#ff0000\"},\"fill_color\":{\"type\":\"value\",\"value\":\"#ff0000\"},\"hatch_color\":{\"type\":\"value\",\"value\":\"#ff0000\"},\"marker\":{\"type\":\"value\",\"value\":\"cross\"}}},\"selection_glyph\":{\"type\":\"object\",\"name\":\"Scatter\",\"id\":\"143ca8c7-3d4b-435d-baab-22ef811212bd\",\"attributes\":{\"tags\":[\"apply_ranges\"],\"x\":{\"type\":\"field\",\"field\":\"width\"},\"y\":{\"type\":\"field\",\"field\":\"offset\"},\"size\":{\"type\":\"value\",\"value\":10},\"angle\":{\"type\":\"value\",\"value\":0.7853981633974483},\"line_color\":{\"type\":\"value\",\"value\":\"#ff0000\"},\"line_alpha\":{\"type\":\"value\",\"value\":1.0},\"line_width\":{\"type\":\"value\",\"value\":1},\"line_join\":{\"type\":\"value\",\"value\":\"bevel\"},\"line_cap\":{\"type\":\"value\",\"value\":\"butt\"},\"line_dash\":{\"type\":\"value\",\"value\":[]},\"line_dash_offset\":{\"type\":\"value\",\"value\":0},\"fill_color\":{\"type\":\"value\",\"value\":\"#ff0000\"},\"fill_alpha\":{\"type\":\"value\",\"value\":1.0},\"hatch_color\":{\"type\":\"value\",\"value\":\"#ff0000\"},\"hatch_alpha\":{\"type\":\"value\",\"value\":1.0},\"hatch_scale\":{\"type\":\"value\",\"value\":12.0},\"hatch_pattern\":{\"type\":\"value\",\"value\":null},\"hatch_weight\":{\"type\":\"value\",\"value\":1.0},\"marker\":{\"type\":\"value\",\"value\":\"cross\"}}},\"nonselection_glyph\":{\"type\":\"object\",\"name\":\"Scatter\",\"id\":\"66e84d40-9539-414b-8d5a-9cc03d15c7db\",\"attributes\":{\"tags\":[\"apply_ranges\"],\"x\":{\"type\":\"field\",\"field\":\"width\"},\"y\":{\"type\":\"field\",\"field\":\"offset\"},\"size\":{\"type\":\"value\",\"value\":10},\"angle\":{\"type\":\"value\",\"value\":0.7853981633974483},\"line_color\":{\"type\":\"value\",\"value\":\"#ff0000\"},\"line_alpha\":{\"type\":\"value\",\"value\":0.1},\"fill_color\":{\"type\":\"value\",\"value\":\"#ff0000\"},\"fill_alpha\":{\"type\":\"value\",\"value\":0.1},\"hatch_color\":{\"type\":\"value\",\"value\":\"#ff0000\"},\"hatch_alpha\":{\"type\":\"value\",\"value\":0.1},\"marker\":{\"type\":\"value\",\"value\":\"cross\"}}},\"muted_glyph\":{\"type\":\"object\",\"name\":\"Scatter\",\"id\":\"c48b4a6e-ca05-4406-81e5-e04478cc5022\",\"attributes\":{\"tags\":[\"apply_ranges\"],\"x\":{\"type\":\"field\",\"field\":\"width\"},\"y\":{\"type\":\"field\",\"field\":\"offset\"},\"size\":{\"type\":\"value\",\"value\":10},\"angle\":{\"type\":\"value\",\"value\":0.7853981633974483},\"line_color\":{\"type\":\"value\",\"value\":\"#ff0000\"},\"line_alpha\":{\"type\":\"value\",\"value\":0.2},\"fill_color\":{\"type\":\"value\",\"value\":\"#ff0000\"},\"fill_alpha\":{\"type\":\"value\",\"value\":0.2},\"hatch_color\":{\"type\":\"value\",\"value\":\"#ff0000\"},\"hatch_alpha\":{\"type\":\"value\",\"value\":0.2},\"marker\":{\"type\":\"value\",\"value\":\"cross\"}}}}}],\"toolbar\":{\"type\":\"object\",\"name\":\"Toolbar\",\"id\":\"6a76f709-f35c-423d-8e48-7d1d36d72d5f\",\"attributes\":{\"tools\":[{\"type\":\"object\",\"name\":\"WheelZoomTool\",\"id\":\"a7585257-13e1-4dbe-bb10-08a5bf8c44ae\",\"attributes\":{\"tags\":[\"hv_created\"],\"renderers\":\"auto\",\"zoom_together\":\"none\"}},{\"type\":\"object\",\"name\":\"HoverTool\",\"id\":\"569c4aaa-2459-4869-bada-756ac8c14aeb\",\"attributes\":{\"tags\":[\"hv_created\"],\"renderers\":[{\"id\":\"d79caa53-b782-431f-b3a3-695a64ef44aa\"},{\"id\":\"c1015668-8fda-4308-b5cd-08385e13c391\"}],\"tooltips\":[[\"width\",\"@{width}\"],[\"offset\",\"@{offset}\"]]}},{\"type\":\"object\",\"name\":\"SaveTool\",\"id\":\"ca006986-6ff1-445d-b06c-26765d0b835b\"},{\"type\":\"object\",\"name\":\"PanTool\",\"id\":\"b606c7e2-2e2e-47d5-a2cb-7efd9b0f6c31\"},{\"type\":\"object\",\"name\":\"BoxZoomTool\",\"id\":\"e23cbdce-4084-40c3-8879-919e659c68f9\",\"attributes\":{\"overlay\":{\"type\":\"object\",\"name\":\"BoxAnnotation\",\"id\":\"8c35b2e3-20e8-4924-91d9-04f9b40d4391\",\"attributes\":{\"syncable\":false,\"line_color\":\"black\",\"line_alpha\":1.0,\"line_width\":2,\"line_dash\":[4,4],\"fill_color\":\"lightgrey\",\"fill_alpha\":0.5,\"level\":\"overlay\",\"visible\":false,\"left\":{\"type\":\"number\",\"value\":\"nan\"},\"right\":{\"type\":\"number\",\"value\":\"nan\"},\"top\":{\"type\":\"number\",\"value\":\"nan\"},\"bottom\":{\"type\":\"number\",\"value\":\"nan\"},\"left_units\":\"canvas\",\"right_units\":\"canvas\",\"top_units\":\"canvas\",\"bottom_units\":\"canvas\",\"handles\":{\"type\":\"object\",\"name\":\"BoxInteractionHandles\",\"id\":\"d87de60d-d3b7-434d-9524-fa575258e7b8\",\"attributes\":{\"all\":{\"type\":\"object\",\"name\":\"AreaVisuals\",\"id\":\"61cea435-39ee-4533-bfb9-a1a86177bb81\",\"attributes\":{\"fill_color\":\"white\",\"hover_fill_color\":\"lightgray\"}}}}}}}},{\"type\":\"object\",\"name\":\"ResetTool\",\"id\":\"0992b56a-b715-44d4-83f0-81771c511a9f\"}],\"active_drag\":{\"id\":\"b606c7e2-2e2e-47d5-a2cb-7efd9b0f6c31\"},\"active_scroll\":{\"id\":\"a7585257-13e1-4dbe-bb10-08a5bf8c44ae\"}}},\"left\":[{\"type\":\"object\",\"name\":\"LinearAxis\",\"id\":\"e05450b2-526d-4f3e-a2a3-4cbe5493b045\",\"attributes\":{\"ticker\":{\"type\":\"object\",\"name\":\"BasicTicker\",\"id\":\"bc27cbd0-db1a-43c7-83a8-6e3e68db4f6a\",\"attributes\":{\"mantissas\":[1,2,5]}},\"formatter\":{\"type\":\"object\",\"name\":\"BasicTickFormatter\",\"id\":\"f37b8a2c-a2ec-497d-ac08-e21d75c3de28\"},\"axis_label\":\"offset\",\"major_label_policy\":{\"type\":\"object\",\"name\":\"AllLabels\",\"id\":\"cfe4f05c-ddbb-411a-8eba-6476c3901481\"}}}],\"below\":[{\"type\":\"object\",\"name\":\"LinearAxis\",\"id\":\"20bee8e8-142a-459e-905d-1e34df78de14\",\"attributes\":{\"ticker\":{\"type\":\"object\",\"name\":\"BasicTicker\",\"id\":\"2533ebd8-8d29-4382-9021-24cf401df365\",\"attributes\":{\"mantissas\":[1,2,5]}},\"formatter\":{\"type\":\"object\",\"name\":\"BasicTickFormatter\",\"id\":\"5078f888-3079-4d0e-93d6-36195eb23b34\"},\"axis_label\":\"width\",\"major_label_policy\":{\"type\":\"object\",\"name\":\"AllLabels\",\"id\":\"73177273-eac4-4940-bc31-abb7fe6f9258\"}}}],\"center\":[{\"type\":\"object\",\"name\":\"Grid\",\"id\":\"3e88643c-64da-4361-a089-56c95dab022c\",\"attributes\":{\"axis\":{\"id\":\"20bee8e8-142a-459e-905d-1e34df78de14\"},\"grid_line_color\":null}},{\"type\":\"object\",\"name\":\"Grid\",\"id\":\"00430062-c13e-4676-a746-e95eb54d4b94\",\"attributes\":{\"dimension\":1,\"axis\":{\"id\":\"e05450b2-526d-4f3e-a2a3-4cbe5493b045\"},\"grid_line_color\":null}}],\"min_border_top\":10,\"min_border_bottom\":10,\"min_border_left\":10,\"min_border_right\":10,\"output_backend\":\"webgl\"}},{\"type\":\"object\",\"name\":\"Spacer\",\"id\":\"5e773085-d9be-4f0b-aaf2-49a7c346e390\",\"attributes\":{\"name\":\"HSpacer00294\",\"stylesheets\":[\"\\n:host(.pn-loading):before, .pn-loading:before {\\n  background-color: #c3c3c3;\\n  mask-size: auto calc(min(50%, 400px));\\n  -webkit-mask-size: auto calc(min(50%, 400px));\\n}\",{\"id\":\"18d1eb3b-c600-4b3f-b4ca-bb0348e1d0c6\"},{\"id\":\"77d65d3d-3ba0-4f3d-b52f-f2fe98d3ec3c\"},{\"id\":\"650b3d4d-e321-4ddd-b5dd-91bcaaa67665\"}],\"margin\":0,\"sizing_mode\":\"stretch_width\",\"align\":\"start\"}}]}},{\"type\":\"object\",\"name\":\"panel.models.comm_manager.CommManager\",\"id\":\"62c54de3-7397-445a-9bef-1fe4660d0bb7\",\"attributes\":{\"plot_id\":\"d634fd90-8a95-454a-b3b4-529f4461e57d\",\"comm_id\":\"34f9cae155fd4800b56384b6e95de5bc\",\"client_comm_id\":\"af122cb1a429467a9806910f5a40a6a4\"}}],\"defs\":[{\"type\":\"model\",\"name\":\"ReactiveHTML1\"},{\"type\":\"model\",\"name\":\"FlexBox1\",\"properties\":[{\"name\":\"align_content\",\"kind\":\"Any\",\"default\":\"flex-start\"},{\"name\":\"align_items\",\"kind\":\"Any\",\"default\":\"flex-start\"},{\"name\":\"flex_direction\",\"kind\":\"Any\",\"default\":\"row\"},{\"name\":\"flex_wrap\",\"kind\":\"Any\",\"default\":\"wrap\"},{\"name\":\"gap\",\"kind\":\"Any\",\"default\":\"\"},{\"name\":\"justify_content\",\"kind\":\"Any\",\"default\":\"flex-start\"}]},{\"type\":\"model\",\"name\":\"FloatPanel1\",\"properties\":[{\"name\":\"config\",\"kind\":\"Any\",\"default\":{\"type\":\"map\"}},{\"name\":\"contained\",\"kind\":\"Any\",\"default\":true},{\"name\":\"position\",\"kind\":\"Any\",\"default\":\"right-top\"},{\"name\":\"offsetx\",\"kind\":\"Any\",\"default\":null},{\"name\":\"offsety\",\"kind\":\"Any\",\"default\":null},{\"name\":\"theme\",\"kind\":\"Any\",\"default\":\"primary\"},{\"name\":\"status\",\"kind\":\"Any\",\"default\":\"normalized\"}]},{\"type\":\"model\",\"name\":\"GridStack1\",\"properties\":[{\"name\":\"mode\",\"kind\":\"Any\",\"default\":\"warn\"},{\"name\":\"ncols\",\"kind\":\"Any\",\"default\":null},{\"name\":\"nrows\",\"kind\":\"Any\",\"default\":null},{\"name\":\"allow_resize\",\"kind\":\"Any\",\"default\":true},{\"name\":\"allow_drag\",\"kind\":\"Any\",\"default\":true},{\"name\":\"state\",\"kind\":\"Any\",\"default\":[]}]},{\"type\":\"model\",\"name\":\"drag1\",\"properties\":[{\"name\":\"slider_width\",\"kind\":\"Any\",\"default\":5},{\"name\":\"slider_color\",\"kind\":\"Any\",\"default\":\"black\"},{\"name\":\"value\",\"kind\":\"Any\",\"default\":50}]},{\"type\":\"model\",\"name\":\"click1\",\"properties\":[{\"name\":\"terminal_output\",\"kind\":\"Any\",\"default\":\"\"},{\"name\":\"debug_name\",\"kind\":\"Any\",\"default\":\"\"},{\"name\":\"clears\",\"kind\":\"Any\",\"default\":0}]},{\"type\":\"model\",\"name\":\"FastWrapper1\",\"properties\":[{\"name\":\"object\",\"kind\":\"Any\",\"default\":null},{\"name\":\"style\",\"kind\":\"Any\",\"default\":null}]},{\"type\":\"model\",\"name\":\"NotificationAreaBase1\",\"properties\":[{\"name\":\"js_events\",\"kind\":\"Any\",\"default\":{\"type\":\"map\"}},{\"name\":\"position\",\"kind\":\"Any\",\"default\":\"bottom-right\"},{\"name\":\"_clear\",\"kind\":\"Any\",\"default\":0}]},{\"type\":\"model\",\"name\":\"NotificationArea1\",\"properties\":[{\"name\":\"js_events\",\"kind\":\"Any\",\"default\":{\"type\":\"map\"}},{\"name\":\"notifications\",\"kind\":\"Any\",\"default\":[]},{\"name\":\"position\",\"kind\":\"Any\",\"default\":\"bottom-right\"},{\"name\":\"_clear\",\"kind\":\"Any\",\"default\":0},{\"name\":\"types\",\"kind\":\"Any\",\"default\":[{\"type\":\"map\",\"entries\":[[\"type\",\"warning\"],[\"background\",\"#ffc107\"],[\"icon\",{\"type\":\"map\",\"entries\":[[\"className\",\"fas fa-exclamation-triangle\"],[\"tagName\",\"i\"],[\"color\",\"white\"]]}]]},{\"type\":\"map\",\"entries\":[[\"type\",\"info\"],[\"background\",\"#007bff\"],[\"icon\",{\"type\":\"map\",\"entries\":[[\"className\",\"fas fa-info-circle\"],[\"tagName\",\"i\"],[\"color\",\"white\"]]}]]}]}]},{\"type\":\"model\",\"name\":\"Notification\",\"properties\":[{\"name\":\"background\",\"kind\":\"Any\",\"default\":null},{\"name\":\"duration\",\"kind\":\"Any\",\"default\":3000},{\"name\":\"icon\",\"kind\":\"Any\",\"default\":null},{\"name\":\"message\",\"kind\":\"Any\",\"default\":\"\"},{\"name\":\"notification_type\",\"kind\":\"Any\",\"default\":null},{\"name\":\"_rendered\",\"kind\":\"Any\",\"default\":false},{\"name\":\"_destroyed\",\"kind\":\"Any\",\"default\":false}]},{\"type\":\"model\",\"name\":\"TemplateActions1\",\"properties\":[{\"name\":\"open_modal\",\"kind\":\"Any\",\"default\":0},{\"name\":\"close_modal\",\"kind\":\"Any\",\"default\":0}]},{\"type\":\"model\",\"name\":\"BootstrapTemplateActions1\",\"properties\":[{\"name\":\"open_modal\",\"kind\":\"Any\",\"default\":0},{\"name\":\"close_modal\",\"kind\":\"Any\",\"default\":0}]},{\"type\":\"model\",\"name\":\"TemplateEditor1\",\"properties\":[{\"name\":\"layout\",\"kind\":\"Any\",\"default\":[]}]},{\"type\":\"model\",\"name\":\"MaterialTemplateActions1\",\"properties\":[{\"name\":\"open_modal\",\"kind\":\"Any\",\"default\":0},{\"name\":\"close_modal\",\"kind\":\"Any\",\"default\":0}]},{\"type\":\"model\",\"name\":\"ReactiveESM1\",\"properties\":[{\"name\":\"esm_constants\",\"kind\":\"Any\",\"default\":{\"type\":\"map\"}}]},{\"type\":\"model\",\"name\":\"JSComponent1\",\"properties\":[{\"name\":\"esm_constants\",\"kind\":\"Any\",\"default\":{\"type\":\"map\"}}]},{\"type\":\"model\",\"name\":\"ReactComponent1\",\"properties\":[{\"name\":\"esm_constants\",\"kind\":\"Any\",\"default\":{\"type\":\"map\"}}]},{\"type\":\"model\",\"name\":\"AnyWidgetComponent1\",\"properties\":[{\"name\":\"esm_constants\",\"kind\":\"Any\",\"default\":{\"type\":\"map\"}}]},{\"type\":\"model\",\"name\":\"request_value1\",\"properties\":[{\"name\":\"fill\",\"kind\":\"Any\",\"default\":\"none\"},{\"name\":\"_synced\",\"kind\":\"Any\",\"default\":null},{\"name\":\"_request_sync\",\"kind\":\"Any\",\"default\":0}]}]}};\n",
       "  var render_items = [{\"docid\":\"df9af363-3e7b-4546-b84f-b7a3578a8f9e\",\"roots\":{\"d634fd90-8a95-454a-b3b4-529f4461e57d\":\"d63ccb43-0a0f-4c73-893e-53bd36223662\"},\"root_ids\":[\"d634fd90-8a95-454a-b3b4-529f4461e57d\"]}];\n",
       "  var docs = Object.values(docs_json)\n",
       "  if (!docs) {\n",
       "    return\n",
       "  }\n",
       "  const py_version = docs[0].version.replace('rc', '-rc.').replace('.dev', '-dev.')\n",
       "  async function embed_document(root) {\n",
       "    var Bokeh = get_bokeh(root)\n",
       "    await Bokeh.embed.embed_items_notebook(docs_json, render_items);\n",
       "    for (const render_item of render_items) {\n",
       "      for (const root_id of render_item.root_ids) {\n",
       "\tconst id_el = document.getElementById(root_id)\n",
       "\tif (id_el.children.length && id_el.children[0].hasAttribute('data-root-id')) {\n",
       "\t  const root_el = id_el.children[0]\n",
       "\t  root_el.id = root_el.id + '-rendered'\n",
       "\t  for (const child of root_el.children) {\n",
       "            // Ensure JupyterLab does not capture keyboard shortcuts\n",
       "            // see: https://jupyterlab.readthedocs.io/en/4.1.x/extension/notebook.html#keyboard-interaction-model\n",
       "\t    child.setAttribute('data-lm-suppress-shortcuts', 'true')\n",
       "\t  }\n",
       "\t}\n",
       "      }\n",
       "    }\n",
       "  }\n",
       "  function get_bokeh(root) {\n",
       "    if (root.Bokeh === undefined) {\n",
       "      return null\n",
       "    } else if (root.Bokeh.version !== py_version) {\n",
       "      if (root.Bokeh.versions === undefined || !root.Bokeh.versions.has(py_version)) {\n",
       "\treturn null\n",
       "      }\n",
       "      return root.Bokeh.versions.get(py_version);\n",
       "    } else if (root.Bokeh.version === py_version) {\n",
       "      return root.Bokeh\n",
       "    }\n",
       "    return null\n",
       "  }\n",
       "  function is_loaded(root) {\n",
       "    var Bokeh = get_bokeh(root)\n",
       "    return (Bokeh != null && Bokeh.Panel !== undefined)\n",
       "  }\n",
       "  if (is_loaded(root)) {\n",
       "    embed_document(root);\n",
       "  } else {\n",
       "    var attempts = 0;\n",
       "    var timer = setInterval(function(root) {\n",
       "      if (is_loaded(root)) {\n",
       "        clearInterval(timer);\n",
       "        embed_document(root);\n",
       "      } else if (document.readyState == \"complete\") {\n",
       "        attempts++;\n",
       "        if (attempts > 200) {\n",
       "          clearInterval(timer);\n",
       "\t  var Bokeh = get_bokeh(root)\n",
       "\t  if (Bokeh == null || Bokeh.Panel == null) {\n",
       "            console.warn(\"Panel: ERROR: Unable to run Panel code because Bokeh or Panel library is missing\");\n",
       "\t  } else {\n",
       "\t    console.warn(\"Panel: WARNING: Attempting to render but not all required libraries could be resolved.\")\n",
       "\t    embed_document(root)\n",
       "\t  }\n",
       "        }\n",
       "      }\n",
       "    }, 25, root)\n",
       "  }\n",
       "})(window);</script>"
      ],
      "text/plain": [
       ":DynamicMap   []\n",
       "   :Overlay\n",
       "      .Points.I  :Points   [width,offset]\n",
       "      .Points.II :Points   [width,offset]"
      ]
     },
     "execution_count": 8,
     "metadata": {
      "application/vnd.holoviews_exec.v0+json": {
       "id": "d634fd90-8a95-454a-b3b4-529f4461e57d"
      }
     },
     "output_type": "execute_result"
    }
   ],
   "source": [
    "gc.glitch_plot(plotdots={\"success\":\"+g\", \"reset\":\"xr\", \"normal\":None}, bufferlen=int(10E6))"
   ]
  },
  {
   "cell_type": "markdown",
   "metadata": {},
   "source": [
    "Next, we'll setup the glitch. The main differences here compared to clock glitching is the use of `scope.io.glitch_lp/hp`, which activates the transistors used for voltage, and `scope.glitch.output = 'glitch_only'`, which sends the glitch output to the transistors instead of xoring it with the clock like with clock glitching."
   ]
  },
  {
   "cell_type": "code",
   "execution_count": 9,
   "metadata": {
    "execution": {
     "iopub.execute_input": "2025-03-15T01:00:31.577890Z",
     "iopub.status.busy": "2025-03-15T01:00:31.577380Z",
     "iopub.status.idle": "2025-03-15T01:00:31.589704Z",
     "shell.execute_reply": "2025-03-15T01:00:31.588566Z"
    }
   },
   "outputs": [],
   "source": [
    "if scope._is_husky:\n",
    "    scope.glitch.enabled = True\n",
    "    scope.glitch.clk_src = \"pll\"\n",
    "    scope.io.glitch_hp = True\n",
    "    scope.io.glitch_lp = False\n",
    "else:\n",
    "    scope.glitch.clk_src = \"clkgen\" # set glitch input clock\n",
    "scope.glitch.output = \"glitch_only\" # glitch_out = clk ^ glitch\n",
    "scope.glitch.trigger_src = \"ext_single\" # glitch only after scope.arm() called\n",
    "if PLATFORM == \"CWLITEXMEGA\":\n",
    "    scope.io.glitch_lp = True\n",
    "    scope.io.glitch_hp = True\n",
    "elif PLATFORM == \"CWLITEARM\":\n",
    "    scope.io.glitch_lp = True\n",
    "    scope.io.glitch_hp = True\n",
    "elif PLATFORM == \"CW308_STM32F3\":\n",
    "    scope.io.glitch_hp = True\n",
    "    scope.io.glitch_lp = True"
   ]
  },
  {
   "cell_type": "markdown",
   "metadata": {},
   "source": [
    "Some tips for finding good glitches:\n",
    "\n",
    "1. There's a lot of stuff fighting our glitch this time - unlike the clock line, the Vcc rail isn't supposed to oscillate! As such shorter glitches will have no effect. Often, good widths will be just below when the target starts consistantly crashing, so a good strategy is to find the minimum width where crashes always happen, then backing the width off a bit.\n",
    "1. The repeat parameter behaves very differently than with voltage glitching - at the boosted clock rate, the Vcc often won't recover before the next glitch. Try different repeat values as well.\n",
    "1. We've built in a success/reset measurement into the glitch loop. Once you've found some glitch spots, this will help you evaluate which ones are best for your target.\n",
    "\n",
    "It can take a very long time to do go through the full search space, so you may want to stop after you get a certain number of succeses. By default here, it will be 1, but you may want to change it to 10, 20, or go even higher."
   ]
  },
  {
   "cell_type": "code",
   "execution_count": 10,
   "metadata": {
    "execution": {
     "iopub.execute_input": "2025-03-15T01:00:31.593177Z",
     "iopub.status.busy": "2025-03-15T01:00:31.592595Z",
     "iopub.status.idle": "2025-03-15T01:00:31.597296Z",
     "shell.execute_reply": "2025-03-15T01:00:31.596163Z"
    }
   },
   "outputs": [],
   "source": [
    "MAX_SUCCESSES = 100000"
   ]
  },
  {
   "cell_type": "code",
   "execution_count": 11,
   "metadata": {
    "execution": {
     "iopub.execute_input": "2025-03-15T01:00:31.600646Z",
     "iopub.status.busy": "2025-03-15T01:00:31.600064Z",
     "iopub.status.idle": "2025-03-15T01:00:31.619561Z",
     "shell.execute_reply": "2025-03-15T01:00:31.618411Z"
    }
   },
   "outputs": [],
   "source": [
    "num_tries = 1 # increase to get better glitch stats\n",
    "gc.set_range(\"tries\", 1, num_tries)\n",
    "if scope._is_husky:\n",
    "    gc.set_range(\"width\", 1850, 3000)\n",
    "    gc.set_range(\"offset\", 1800, 3000)\n",
    "    gc.set_global_step([50]) # reduce to fine tune glitching\n",
    "    \n",
    "    gc.set_step(\"ext_offset\", 1)\n",
    "    gc.set_range(\"ext_offset\", 10, 50)\n",
    "    scope.glitch.repeat = 1\n",
    "    scope.adc.lo_gain_errors_disabled = True\n",
    "    scope.adc.clip_errors_disabled = True\n",
    "elif PLATFORM==\"CWLITEXMEGA\":\n",
    "    gc.set_range(\"width\", 43.5, 47.8)\n",
    "    gc.set_range(\"offset\", -48, -10)\n",
    "    gc.set_range(\"ext_offset\", 7, 10)\n",
    "    gc.set_global_step(0.4)\n",
    "    gc.set_step(\"ext_offset\", 1)\n",
    "    scope.glitch.repeat = 11\n",
    "elif PLATFORM == \"CWLITEARM\":\n",
    "    #should also work for the bootloader memory dump\n",
    "    gc.set_range(\"width\", 34, 36)\n",
    "    gc.set_range(\"offset\", -40, 10)\n",
    "    gc.set_range(\"ext_offset\", 4, 30)\n",
    "    gc.set_global_step(0.4)\n",
    "    gc.set_step(\"ext_offset\", 1)\n",
    "    scope.glitch.repeat = 7\n",
    "elif PLATFORM == \"CW308_STM32F3\":\n",
    "    #these specific settings seem to work well for some reason\n",
    "    #also works for the bootloader memory dump\n",
    "    gc.set_range(\"ext_offset\", 4, 30)\n",
    "    gc.set_range(\"width\", 47.6, 49.6)\n",
    "    gc.set_range(\"offset\", -19, -21.5)\n",
    "    gc.set_global_step(0.4)\n",
    "    gc.set_step(\"ext_offset\", 1)\n",
    "    scope.glitch.repeat = 5\n",
    "\n",
    "gc.set_step(\"tries\", 1)"
   ]
  },
  {
   "cell_type": "code",
   "execution_count": 12,
   "metadata": {
    "execution": {
     "iopub.execute_input": "2025-03-15T01:00:31.623801Z",
     "iopub.status.busy": "2025-03-15T01:00:31.623404Z",
     "iopub.status.idle": "2025-03-15T01:09:28.978679Z",
     "shell.execute_reply": "2025-03-15T01:09:28.976438Z"
    }
   },
   "outputs": [
    {
     "name": "stdout",
     "output_type": "stream",
     "text": [
      "successes = 1, resets = 0, offset = -24.609375, width = 46.09375, ext_offset = 8\n"
     ]
    },
    {
     "name": "stdout",
     "output_type": "stream",
     "text": [
      "successes = 1, resets = 0, offset = -24.21875, width = 46.09375, ext_offset = 7\n"
     ]
    },
    {
     "name": "stdout",
     "output_type": "stream",
     "text": [
      "successes = 1, resets = 0, offset = -24.21875, width = 46.09375, ext_offset = 10\n"
     ]
    },
    {
     "name": "stdout",
     "output_type": "stream",
     "text": [
      "successes = 1, resets = 0, offset = -23.828125, width = 46.09375, ext_offset = 9\n"
     ]
    },
    {
     "name": "stdout",
     "output_type": "stream",
     "text": [
      "successes = 1, resets = 0, offset = -23.4375, width = 46.09375, ext_offset = 10\n"
     ]
    },
    {
     "name": "stdout",
     "output_type": "stream",
     "text": [
      "successes = 1, resets = 0, offset = -22.65625, width = 46.09375, ext_offset = 10\n"
     ]
    },
    {
     "name": "stdout",
     "output_type": "stream",
     "text": [
      "successes = 1, resets = 0, offset = -22.265625, width = 46.09375, ext_offset = 9\n"
     ]
    },
    {
     "name": "stdout",
     "output_type": "stream",
     "text": [
      "successes = 1, resets = 0, offset = -21.875, width = 46.09375, ext_offset = 9\n"
     ]
    },
    {
     "name": "stdout",
     "output_type": "stream",
     "text": [
      "successes = 1, resets = 0, offset = -21.484375, width = 46.09375, ext_offset = 10\n"
     ]
    },
    {
     "name": "stdout",
     "output_type": "stream",
     "text": [
      "successes = 1, resets = 0, offset = -21.09375, width = 46.09375, ext_offset = 9\n"
     ]
    },
    {
     "name": "stdout",
     "output_type": "stream",
     "text": [
      "successes = 1, resets = 0, offset = -20.3125, width = 46.09375, ext_offset = 9\n"
     ]
    },
    {
     "name": "stdout",
     "output_type": "stream",
     "text": [
      "successes = 1, resets = 0, offset = -19.921875, width = 46.09375, ext_offset = 8\n"
     ]
    },
    {
     "name": "stdout",
     "output_type": "stream",
     "text": [
      "successes = 1, resets = 0, offset = -19.53125, width = 46.09375, ext_offset = 8\n"
     ]
    },
    {
     "name": "stdout",
     "output_type": "stream",
     "text": [
      "successes = 1, resets = 0, offset = -19.140625, width = 46.09375, ext_offset = 8\n"
     ]
    },
    {
     "name": "stdout",
     "output_type": "stream",
     "text": [
      "successes = 1, resets = 0, offset = -19.140625, width = 46.09375, ext_offset = 9\n"
     ]
    },
    {
     "name": "stdout",
     "output_type": "stream",
     "text": [
      "successes = 1, resets = 0, offset = -18.75, width = 46.09375, ext_offset = 9\n"
     ]
    },
    {
     "name": "stdout",
     "output_type": "stream",
     "text": [
      "successes = 1, resets = 0, offset = -18.75, width = 46.09375, ext_offset = 10\n"
     ]
    },
    {
     "name": "stdout",
     "output_type": "stream",
     "text": [
      "successes = 1, resets = 0, offset = -18.359375, width = 46.09375, ext_offset = 8\n"
     ]
    },
    {
     "name": "stdout",
     "output_type": "stream",
     "text": [
      "successes = 1, resets = 0, offset = -18.359375, width = 46.09375, ext_offset = 9\n"
     ]
    },
    {
     "name": "stdout",
     "output_type": "stream",
     "text": [
      "successes = 1, resets = 0, offset = -17.96875, width = 46.09375, ext_offset = 8\n"
     ]
    },
    {
     "name": "stdout",
     "output_type": "stream",
     "text": [
      "successes = 1, resets = 0, offset = -17.96875, width = 46.09375, ext_offset = 10\n"
     ]
    },
    {
     "name": "stdout",
     "output_type": "stream",
     "text": [
      "successes = 1, resets = 0, offset = -17.578125, width = 46.09375, ext_offset = 10\n"
     ]
    },
    {
     "name": "stdout",
     "output_type": "stream",
     "text": [
      "successes = 1, resets = 0, offset = -16.796875, width = 46.09375, ext_offset = 8\n"
     ]
    },
    {
     "name": "stdout",
     "output_type": "stream",
     "text": [
      "successes = 1, resets = 0, offset = -16.796875, width = 46.09375, ext_offset = 9\n"
     ]
    },
    {
     "name": "stdout",
     "output_type": "stream",
     "text": [
      "successes = 1, resets = 0, offset = -16.40625, width = 46.09375, ext_offset = 8\n"
     ]
    },
    {
     "name": "stdout",
     "output_type": "stream",
     "text": [
      "successes = 1, resets = 0, offset = -16.015625, width = 46.09375, ext_offset = 9\n"
     ]
    },
    {
     "name": "stdout",
     "output_type": "stream",
     "text": [
      "successes = 1, resets = 0, offset = -15.625, width = 46.09375, ext_offset = 9\n"
     ]
    },
    {
     "name": "stdout",
     "output_type": "stream",
     "text": [
      "successes = 1, resets = 0, offset = -15.625, width = 46.09375, ext_offset = 10\n"
     ]
    },
    {
     "name": "stdout",
     "output_type": "stream",
     "text": [
      "successes = 1, resets = 0, offset = -15.234375, width = 46.09375, ext_offset = 9\n"
     ]
    },
    {
     "name": "stdout",
     "output_type": "stream",
     "text": [
      "successes = 1, resets = 0, offset = -14.84375, width = 46.09375, ext_offset = 9\n"
     ]
    },
    {
     "name": "stdout",
     "output_type": "stream",
     "text": [
      "successes = 1, resets = 0, offset = -14.453125, width = 46.09375, ext_offset = 8\n"
     ]
    },
    {
     "name": "stdout",
     "output_type": "stream",
     "text": [
      "successes = 1, resets = 0, offset = -14.0625, width = 46.09375, ext_offset = 9\n"
     ]
    },
    {
     "name": "stdout",
     "output_type": "stream",
     "text": [
      "successes = 1, resets = 0, offset = -13.671875, width = 46.09375, ext_offset = 8\n"
     ]
    },
    {
     "name": "stdout",
     "output_type": "stream",
     "text": [
      "successes = 1, resets = 0, offset = -13.28125, width = 46.09375, ext_offset = 9\n"
     ]
    },
    {
     "name": "stdout",
     "output_type": "stream",
     "text": [
      "successes = 1, resets = 0, offset = -12.890625, width = 46.09375, ext_offset = 9\n"
     ]
    },
    {
     "name": "stdout",
     "output_type": "stream",
     "text": [
      "successes = 1, resets = 0, offset = -12.109375, width = 46.09375, ext_offset = 10\n"
     ]
    },
    {
     "name": "stdout",
     "output_type": "stream",
     "text": [
      "successes = 1, resets = 0, offset = -10.546875, width = 46.09375, ext_offset = 9\n"
     ]
    },
    {
     "name": "stdout",
     "output_type": "stream",
     "text": [
      "successes = 1, resets = 0, offset = -10.15625, width = 46.09375, ext_offset = 8\n"
     ]
    },
    {
     "name": "stdout",
     "output_type": "stream",
     "text": [
      "successes = 1, resets = 0, offset = -48.046875, width = 46.484375, ext_offset = 8\n"
     ]
    },
    {
     "name": "stdout",
     "output_type": "stream",
     "text": [
      "successes = 1, resets = 0, offset = -46.484375, width = 46.484375, ext_offset = 8\n"
     ]
    },
    {
     "name": "stdout",
     "output_type": "stream",
     "text": [
      "successes = 1, resets = 0, offset = -46.09375, width = 46.484375, ext_offset = 8\n"
     ]
    },
    {
     "name": "stdout",
     "output_type": "stream",
     "text": [
      "successes = 1, resets = 0, offset = -45.703125, width = 46.484375, ext_offset = 8\n"
     ]
    },
    {
     "name": "stdout",
     "output_type": "stream",
     "text": [
      "successes = 1, resets = 0, offset = -44.921875, width = 46.484375, ext_offset = 8\n"
     ]
    },
    {
     "name": "stdout",
     "output_type": "stream",
     "text": [
      "successes = 1, resets = 0, offset = -43.359375, width = 46.484375, ext_offset = 8\n"
     ]
    },
    {
     "name": "stdout",
     "output_type": "stream",
     "text": [
      "successes = 1, resets = 0, offset = -42.96875, width = 46.484375, ext_offset = 8\n"
     ]
    },
    {
     "name": "stdout",
     "output_type": "stream",
     "text": [
      "successes = 1, resets = 0, offset = -42.578125, width = 46.484375, ext_offset = 8\n"
     ]
    },
    {
     "name": "stdout",
     "output_type": "stream",
     "text": [
      "successes = 1, resets = 0, offset = -42.1875, width = 46.484375, ext_offset = 8\n"
     ]
    },
    {
     "name": "stdout",
     "output_type": "stream",
     "text": [
      "successes = 1, resets = 0, offset = -39.84375, width = 46.484375, ext_offset = 8\n"
     ]
    },
    {
     "name": "stdout",
     "output_type": "stream",
     "text": [
      "successes = 1, resets = 0, offset = -35.9375, width = 46.484375, ext_offset = 8\n"
     ]
    },
    {
     "name": "stdout",
     "output_type": "stream",
     "text": [
      "successes = 1, resets = 0, offset = -34.375, width = 46.484375, ext_offset = 9\n"
     ]
    },
    {
     "name": "stdout",
     "output_type": "stream",
     "text": [
      "successes = 1, resets = 0, offset = -33.984375, width = 46.484375, ext_offset = 8\n"
     ]
    },
    {
     "name": "stdout",
     "output_type": "stream",
     "text": [
      "successes = 1, resets = 0, offset = -33.59375, width = 46.484375, ext_offset = 7\n"
     ]
    },
    {
     "name": "stdout",
     "output_type": "stream",
     "text": [
      "successes = 1, resets = 0, offset = -33.203125, width = 46.484375, ext_offset = 9\n"
     ]
    },
    {
     "name": "stdout",
     "output_type": "stream",
     "text": [
      "successes = 1, resets = 0, offset = -31.640625, width = 46.484375, ext_offset = 10\n"
     ]
    },
    {
     "name": "stdout",
     "output_type": "stream",
     "text": [
      "successes = 1, resets = 0, offset = -31.25, width = 46.484375, ext_offset = 9\n"
     ]
    },
    {
     "name": "stdout",
     "output_type": "stream",
     "text": [
      "successes = 1, resets = 0, offset = -30.859375, width = 46.484375, ext_offset = 8\n"
     ]
    },
    {
     "name": "stdout",
     "output_type": "stream",
     "text": [
      "successes = 1, resets = 0, offset = -30.46875, width = 46.484375, ext_offset = 9\n"
     ]
    },
    {
     "name": "stdout",
     "output_type": "stream",
     "text": [
      "successes = 1, resets = 0, offset = -30.46875, width = 46.484375, ext_offset = 10\n"
     ]
    },
    {
     "name": "stdout",
     "output_type": "stream",
     "text": [
      "successes = 1, resets = 0, offset = -30.078125, width = 46.484375, ext_offset = 8\n"
     ]
    },
    {
     "name": "stdout",
     "output_type": "stream",
     "text": [
      "successes = 1, resets = 0, offset = -30.078125, width = 46.484375, ext_offset = 9\n"
     ]
    },
    {
     "name": "stdout",
     "output_type": "stream",
     "text": [
      "successes = 1, resets = 0, offset = -30.078125, width = 46.484375, ext_offset = 10\n"
     ]
    },
    {
     "name": "stdout",
     "output_type": "stream",
     "text": [
      "successes = 1, resets = 0, offset = -29.6875, width = 46.484375, ext_offset = 9\n"
     ]
    },
    {
     "name": "stdout",
     "output_type": "stream",
     "text": [
      "successes = 1, resets = 0, offset = -29.296875, width = 46.484375, ext_offset = 7\n"
     ]
    },
    {
     "name": "stdout",
     "output_type": "stream",
     "text": [
      "successes = 1, resets = 0, offset = -29.296875, width = 46.484375, ext_offset = 10\n"
     ]
    },
    {
     "name": "stdout",
     "output_type": "stream",
     "text": [
      "successes = 1, resets = 0, offset = -28.90625, width = 46.484375, ext_offset = 8\n"
     ]
    },
    {
     "name": "stdout",
     "output_type": "stream",
     "text": [
      "successes = 1, resets = 0, offset = -28.90625, width = 46.484375, ext_offset = 9\n"
     ]
    },
    {
     "name": "stdout",
     "output_type": "stream",
     "text": [
      "successes = 1, resets = 0, offset = -28.515625, width = 46.484375, ext_offset = 8\n"
     ]
    },
    {
     "name": "stdout",
     "output_type": "stream",
     "text": [
      "successes = 1, resets = 0, offset = -28.515625, width = 46.484375, ext_offset = 9\n"
     ]
    },
    {
     "name": "stdout",
     "output_type": "stream",
     "text": [
      "successes = 1, resets = 0, offset = -28.515625, width = 46.484375, ext_offset = 10\n"
     ]
    },
    {
     "name": "stdout",
     "output_type": "stream",
     "text": [
      "successes = 1, resets = 0, offset = -28.125, width = 46.484375, ext_offset = 8\n"
     ]
    },
    {
     "name": "stdout",
     "output_type": "stream",
     "text": [
      "successes = 1, resets = 0, offset = -28.125, width = 46.484375, ext_offset = 9\n"
     ]
    },
    {
     "name": "stdout",
     "output_type": "stream",
     "text": [
      "successes = 1, resets = 0, offset = -28.125, width = 46.484375, ext_offset = 10\n"
     ]
    },
    {
     "name": "stdout",
     "output_type": "stream",
     "text": [
      "successes = 1, resets = 0, offset = -27.734375, width = 46.484375, ext_offset = 8\n"
     ]
    },
    {
     "name": "stdout",
     "output_type": "stream",
     "text": [
      "successes = 1, resets = 0, offset = -27.734375, width = 46.484375, ext_offset = 9\n"
     ]
    },
    {
     "name": "stdout",
     "output_type": "stream",
     "text": [
      "successes = 1, resets = 0, offset = -27.734375, width = 46.484375, ext_offset = 10\n"
     ]
    },
    {
     "name": "stdout",
     "output_type": "stream",
     "text": [
      "successes = 1, resets = 0, offset = -27.34375, width = 46.484375, ext_offset = 8\n"
     ]
    },
    {
     "name": "stdout",
     "output_type": "stream",
     "text": [
      "successes = 1, resets = 0, offset = -27.34375, width = 46.484375, ext_offset = 9\n"
     ]
    },
    {
     "name": "stdout",
     "output_type": "stream",
     "text": [
      "successes = 1, resets = 0, offset = -26.953125, width = 46.484375, ext_offset = 7\n"
     ]
    },
    {
     "name": "stdout",
     "output_type": "stream",
     "text": [
      "successes = 1, resets = 0, offset = -26.953125, width = 46.484375, ext_offset = 8\n"
     ]
    },
    {
     "name": "stdout",
     "output_type": "stream",
     "text": [
      "successes = 1, resets = 0, offset = -26.953125, width = 46.484375, ext_offset = 9\n"
     ]
    },
    {
     "name": "stdout",
     "output_type": "stream",
     "text": [
      "successes = 1, resets = 0, offset = -26.953125, width = 46.484375, ext_offset = 10\n"
     ]
    },
    {
     "name": "stdout",
     "output_type": "stream",
     "text": [
      "successes = 1, resets = 0, offset = -26.5625, width = 46.484375, ext_offset = 7\n"
     ]
    },
    {
     "name": "stdout",
     "output_type": "stream",
     "text": [
      "successes = 1, resets = 0, offset = -26.5625, width = 46.484375, ext_offset = 8\n"
     ]
    },
    {
     "name": "stdout",
     "output_type": "stream",
     "text": [
      "successes = 1, resets = 0, offset = -26.5625, width = 46.484375, ext_offset = 9\n"
     ]
    },
    {
     "name": "stdout",
     "output_type": "stream",
     "text": [
      "successes = 1, resets = 0, offset = -26.5625, width = 46.484375, ext_offset = 10\n"
     ]
    },
    {
     "name": "stdout",
     "output_type": "stream",
     "text": [
      "successes = 1, resets = 0, offset = -26.171875, width = 46.484375, ext_offset = 7\n"
     ]
    },
    {
     "name": "stdout",
     "output_type": "stream",
     "text": [
      "successes = 1, resets = 0, offset = -26.171875, width = 46.484375, ext_offset = 8\n"
     ]
    },
    {
     "name": "stdout",
     "output_type": "stream",
     "text": [
      "successes = 1, resets = 0, offset = -26.171875, width = 46.484375, ext_offset = 10\n"
     ]
    },
    {
     "name": "stdout",
     "output_type": "stream",
     "text": [
      "successes = 1, resets = 0, offset = -25.78125, width = 46.484375, ext_offset = 9\n"
     ]
    },
    {
     "name": "stdout",
     "output_type": "stream",
     "text": [
      "successes = 1, resets = 0, offset = -25.78125, width = 46.484375, ext_offset = 10\n"
     ]
    },
    {
     "name": "stdout",
     "output_type": "stream",
     "text": [
      "successes = 1, resets = 0, offset = -25.390625, width = 46.484375, ext_offset = 8\n"
     ]
    },
    {
     "name": "stdout",
     "output_type": "stream",
     "text": [
      "successes = 1, resets = 0, offset = -25.390625, width = 46.484375, ext_offset = 9\n"
     ]
    },
    {
     "name": "stdout",
     "output_type": "stream",
     "text": [
      "successes = 1, resets = 0, offset = -25.390625, width = 46.484375, ext_offset = 10\n"
     ]
    },
    {
     "name": "stdout",
     "output_type": "stream",
     "text": [
      "successes = 1, resets = 0, offset = -24.609375, width = 46.484375, ext_offset = 8\n"
     ]
    },
    {
     "name": "stdout",
     "output_type": "stream",
     "text": [
      "successes = 1, resets = 0, offset = -24.609375, width = 46.484375, ext_offset = 9\n"
     ]
    },
    {
     "name": "stdout",
     "output_type": "stream",
     "text": [
      "successes = 1, resets = 0, offset = -24.609375, width = 46.484375, ext_offset = 10\n"
     ]
    },
    {
     "name": "stdout",
     "output_type": "stream",
     "text": [
      "successes = 1, resets = 0, offset = -24.21875, width = 46.484375, ext_offset = 7\n"
     ]
    },
    {
     "name": "stdout",
     "output_type": "stream",
     "text": [
      "successes = 1, resets = 0, offset = -24.21875, width = 46.484375, ext_offset = 9\n"
     ]
    },
    {
     "name": "stdout",
     "output_type": "stream",
     "text": [
      "successes = 1, resets = 0, offset = -24.21875, width = 46.484375, ext_offset = 10\n"
     ]
    },
    {
     "name": "stdout",
     "output_type": "stream",
     "text": [
      "successes = 1, resets = 0, offset = -23.828125, width = 46.484375, ext_offset = 7\n"
     ]
    },
    {
     "name": "stdout",
     "output_type": "stream",
     "text": [
      "successes = 1, resets = 0, offset = -23.828125, width = 46.484375, ext_offset = 8\n"
     ]
    },
    {
     "name": "stdout",
     "output_type": "stream",
     "text": [
      "successes = 1, resets = 0, offset = -23.828125, width = 46.484375, ext_offset = 9\n"
     ]
    },
    {
     "name": "stdout",
     "output_type": "stream",
     "text": [
      "successes = 1, resets = 0, offset = -23.828125, width = 46.484375, ext_offset = 10\n"
     ]
    },
    {
     "name": "stdout",
     "output_type": "stream",
     "text": [
      "successes = 1, resets = 0, offset = -23.4375, width = 46.484375, ext_offset = 7\n"
     ]
    },
    {
     "name": "stdout",
     "output_type": "stream",
     "text": [
      "successes = 1, resets = 0, offset = -23.4375, width = 46.484375, ext_offset = 8\n"
     ]
    },
    {
     "name": "stdout",
     "output_type": "stream",
     "text": [
      "successes = 1, resets = 0, offset = -23.4375, width = 46.484375, ext_offset = 9\n"
     ]
    },
    {
     "name": "stdout",
     "output_type": "stream",
     "text": [
      "successes = 1, resets = 0, offset = -23.4375, width = 46.484375, ext_offset = 10\n"
     ]
    },
    {
     "name": "stdout",
     "output_type": "stream",
     "text": [
      "successes = 1, resets = 0, offset = -23.046875, width = 46.484375, ext_offset = 7\n"
     ]
    },
    {
     "name": "stdout",
     "output_type": "stream",
     "text": [
      "successes = 1, resets = 0, offset = -23.046875, width = 46.484375, ext_offset = 8\n"
     ]
    },
    {
     "name": "stdout",
     "output_type": "stream",
     "text": [
      "successes = 1, resets = 0, offset = -23.046875, width = 46.484375, ext_offset = 9\n"
     ]
    },
    {
     "name": "stdout",
     "output_type": "stream",
     "text": [
      "successes = 1, resets = 0, offset = -23.046875, width = 46.484375, ext_offset = 10\n"
     ]
    },
    {
     "name": "stdout",
     "output_type": "stream",
     "text": [
      "successes = 1, resets = 0, offset = -22.65625, width = 46.484375, ext_offset = 7\n"
     ]
    },
    {
     "name": "stdout",
     "output_type": "stream",
     "text": [
      "successes = 1, resets = 0, offset = -22.65625, width = 46.484375, ext_offset = 8\n"
     ]
    },
    {
     "name": "stdout",
     "output_type": "stream",
     "text": [
      "successes = 1, resets = 0, offset = -22.65625, width = 46.484375, ext_offset = 9\n"
     ]
    },
    {
     "name": "stdout",
     "output_type": "stream",
     "text": [
      "successes = 1, resets = 0, offset = -22.65625, width = 46.484375, ext_offset = 10\n"
     ]
    },
    {
     "name": "stdout",
     "output_type": "stream",
     "text": [
      "successes = 1, resets = 0, offset = -22.265625, width = 46.484375, ext_offset = 7\n"
     ]
    },
    {
     "name": "stdout",
     "output_type": "stream",
     "text": [
      "successes = 1, resets = 0, offset = -22.265625, width = 46.484375, ext_offset = 8\n"
     ]
    },
    {
     "name": "stdout",
     "output_type": "stream",
     "text": [
      "successes = 1, resets = 0, offset = -22.265625, width = 46.484375, ext_offset = 9\n"
     ]
    },
    {
     "name": "stdout",
     "output_type": "stream",
     "text": [
      "successes = 1, resets = 0, offset = -22.265625, width = 46.484375, ext_offset = 10\n"
     ]
    },
    {
     "name": "stdout",
     "output_type": "stream",
     "text": [
      "successes = 1, resets = 0, offset = -21.875, width = 46.484375, ext_offset = 7\n"
     ]
    },
    {
     "name": "stdout",
     "output_type": "stream",
     "text": [
      "successes = 1, resets = 0, offset = -21.875, width = 46.484375, ext_offset = 8\n"
     ]
    },
    {
     "name": "stdout",
     "output_type": "stream",
     "text": [
      "successes = 1, resets = 0, offset = -21.875, width = 46.484375, ext_offset = 9\n"
     ]
    },
    {
     "name": "stdout",
     "output_type": "stream",
     "text": [
      "successes = 1, resets = 0, offset = -21.875, width = 46.484375, ext_offset = 10\n"
     ]
    },
    {
     "name": "stdout",
     "output_type": "stream",
     "text": [
      "successes = 1, resets = 0, offset = -21.484375, width = 46.484375, ext_offset = 8\n"
     ]
    },
    {
     "name": "stdout",
     "output_type": "stream",
     "text": [
      "successes = 1, resets = 0, offset = -21.484375, width = 46.484375, ext_offset = 9\n"
     ]
    },
    {
     "name": "stdout",
     "output_type": "stream",
     "text": [
      "successes = 1, resets = 0, offset = -21.484375, width = 46.484375, ext_offset = 10\n"
     ]
    },
    {
     "name": "stdout",
     "output_type": "stream",
     "text": [
      "successes = 1, resets = 0, offset = -21.09375, width = 46.484375, ext_offset = 7\n"
     ]
    },
    {
     "name": "stdout",
     "output_type": "stream",
     "text": [
      "successes = 1, resets = 0, offset = -21.09375, width = 46.484375, ext_offset = 8\n"
     ]
    },
    {
     "name": "stdout",
     "output_type": "stream",
     "text": [
      "successes = 1, resets = 0, offset = -21.09375, width = 46.484375, ext_offset = 9\n"
     ]
    },
    {
     "name": "stdout",
     "output_type": "stream",
     "text": [
      "successes = 1, resets = 0, offset = -21.09375, width = 46.484375, ext_offset = 10\n"
     ]
    },
    {
     "name": "stdout",
     "output_type": "stream",
     "text": [
      "successes = 1, resets = 0, offset = -20.703125, width = 46.484375, ext_offset = 7\n"
     ]
    },
    {
     "name": "stdout",
     "output_type": "stream",
     "text": [
      "successes = 1, resets = 0, offset = -20.703125, width = 46.484375, ext_offset = 8\n"
     ]
    },
    {
     "name": "stdout",
     "output_type": "stream",
     "text": [
      "successes = 1, resets = 0, offset = -20.703125, width = 46.484375, ext_offset = 9\n"
     ]
    },
    {
     "name": "stdout",
     "output_type": "stream",
     "text": [
      "successes = 1, resets = 0, offset = -20.703125, width = 46.484375, ext_offset = 10\n"
     ]
    },
    {
     "name": "stdout",
     "output_type": "stream",
     "text": [
      "successes = 1, resets = 0, offset = -20.3125, width = 46.484375, ext_offset = 7\n"
     ]
    },
    {
     "name": "stdout",
     "output_type": "stream",
     "text": [
      "successes = 1, resets = 0, offset = -20.3125, width = 46.484375, ext_offset = 8\n"
     ]
    },
    {
     "name": "stdout",
     "output_type": "stream",
     "text": [
      "successes = 1, resets = 0, offset = -20.3125, width = 46.484375, ext_offset = 9\n"
     ]
    },
    {
     "name": "stdout",
     "output_type": "stream",
     "text": [
      "successes = 1, resets = 0, offset = -20.3125, width = 46.484375, ext_offset = 10\n"
     ]
    },
    {
     "name": "stdout",
     "output_type": "stream",
     "text": [
      "successes = 1, resets = 0, offset = -19.921875, width = 46.484375, ext_offset = 9\n"
     ]
    },
    {
     "name": "stdout",
     "output_type": "stream",
     "text": [
      "successes = 1, resets = 0, offset = -19.921875, width = 46.484375, ext_offset = 10\n"
     ]
    },
    {
     "name": "stdout",
     "output_type": "stream",
     "text": [
      "successes = 1, resets = 0, offset = -19.53125, width = 46.484375, ext_offset = 7\n"
     ]
    },
    {
     "name": "stdout",
     "output_type": "stream",
     "text": [
      "successes = 1, resets = 0, offset = -19.53125, width = 46.484375, ext_offset = 9\n"
     ]
    },
    {
     "name": "stdout",
     "output_type": "stream",
     "text": [
      "successes = 1, resets = 0, offset = -19.53125, width = 46.484375, ext_offset = 10\n"
     ]
    },
    {
     "name": "stdout",
     "output_type": "stream",
     "text": [
      "successes = 1, resets = 0, offset = -19.140625, width = 46.484375, ext_offset = 7\n"
     ]
    },
    {
     "name": "stdout",
     "output_type": "stream",
     "text": [
      "successes = 1, resets = 0, offset = -19.140625, width = 46.484375, ext_offset = 8\n"
     ]
    },
    {
     "name": "stdout",
     "output_type": "stream",
     "text": [
      "successes = 1, resets = 0, offset = -19.140625, width = 46.484375, ext_offset = 9\n"
     ]
    },
    {
     "name": "stdout",
     "output_type": "stream",
     "text": [
      "successes = 1, resets = 0, offset = -19.140625, width = 46.484375, ext_offset = 10\n"
     ]
    },
    {
     "name": "stdout",
     "output_type": "stream",
     "text": [
      "successes = 1, resets = 0, offset = -18.75, width = 46.484375, ext_offset = 7\n"
     ]
    },
    {
     "name": "stdout",
     "output_type": "stream",
     "text": [
      "successes = 1, resets = 0, offset = -18.75, width = 46.484375, ext_offset = 8\n"
     ]
    },
    {
     "name": "stdout",
     "output_type": "stream",
     "text": [
      "successes = 1, resets = 0, offset = -18.75, width = 46.484375, ext_offset = 9\n"
     ]
    },
    {
     "name": "stdout",
     "output_type": "stream",
     "text": [
      "successes = 1, resets = 0, offset = -18.75, width = 46.484375, ext_offset = 10\n"
     ]
    },
    {
     "name": "stdout",
     "output_type": "stream",
     "text": [
      "successes = 1, resets = 0, offset = -18.359375, width = 46.484375, ext_offset = 7\n"
     ]
    },
    {
     "name": "stdout",
     "output_type": "stream",
     "text": [
      "successes = 1, resets = 0, offset = -18.359375, width = 46.484375, ext_offset = 8\n"
     ]
    },
    {
     "name": "stdout",
     "output_type": "stream",
     "text": [
      "successes = 1, resets = 0, offset = -18.359375, width = 46.484375, ext_offset = 9\n"
     ]
    },
    {
     "name": "stdout",
     "output_type": "stream",
     "text": [
      "successes = 1, resets = 0, offset = -18.359375, width = 46.484375, ext_offset = 10\n"
     ]
    },
    {
     "name": "stdout",
     "output_type": "stream",
     "text": [
      "successes = 1, resets = 0, offset = -17.96875, width = 46.484375, ext_offset = 7\n"
     ]
    },
    {
     "name": "stdout",
     "output_type": "stream",
     "text": [
      "successes = 1, resets = 0, offset = -17.96875, width = 46.484375, ext_offset = 8\n"
     ]
    },
    {
     "name": "stdout",
     "output_type": "stream",
     "text": [
      "successes = 1, resets = 0, offset = -17.96875, width = 46.484375, ext_offset = 9\n"
     ]
    },
    {
     "name": "stdout",
     "output_type": "stream",
     "text": [
      "successes = 1, resets = 0, offset = -17.96875, width = 46.484375, ext_offset = 10\n"
     ]
    },
    {
     "name": "stdout",
     "output_type": "stream",
     "text": [
      "successes = 1, resets = 0, offset = -17.578125, width = 46.484375, ext_offset = 7\n"
     ]
    },
    {
     "name": "stdout",
     "output_type": "stream",
     "text": [
      "successes = 1, resets = 0, offset = -17.578125, width = 46.484375, ext_offset = 8\n"
     ]
    },
    {
     "name": "stdout",
     "output_type": "stream",
     "text": [
      "successes = 1, resets = 0, offset = -17.578125, width = 46.484375, ext_offset = 9\n"
     ]
    },
    {
     "name": "stdout",
     "output_type": "stream",
     "text": [
      "successes = 1, resets = 0, offset = -17.578125, width = 46.484375, ext_offset = 10\n"
     ]
    },
    {
     "name": "stdout",
     "output_type": "stream",
     "text": [
      "successes = 1, resets = 0, offset = -17.1875, width = 46.484375, ext_offset = 7\n"
     ]
    },
    {
     "name": "stdout",
     "output_type": "stream",
     "text": [
      "successes = 1, resets = 0, offset = -17.1875, width = 46.484375, ext_offset = 8\n"
     ]
    },
    {
     "name": "stdout",
     "output_type": "stream",
     "text": [
      "successes = 1, resets = 0, offset = -17.1875, width = 46.484375, ext_offset = 9\n"
     ]
    },
    {
     "name": "stdout",
     "output_type": "stream",
     "text": [
      "successes = 1, resets = 0, offset = -17.1875, width = 46.484375, ext_offset = 10\n"
     ]
    },
    {
     "name": "stdout",
     "output_type": "stream",
     "text": [
      "successes = 1, resets = 0, offset = -16.796875, width = 46.484375, ext_offset = 8\n"
     ]
    },
    {
     "name": "stdout",
     "output_type": "stream",
     "text": [
      "successes = 1, resets = 0, offset = -16.796875, width = 46.484375, ext_offset = 9\n"
     ]
    },
    {
     "name": "stdout",
     "output_type": "stream",
     "text": [
      "successes = 1, resets = 0, offset = -16.796875, width = 46.484375, ext_offset = 10\n"
     ]
    },
    {
     "name": "stdout",
     "output_type": "stream",
     "text": [
      "successes = 1, resets = 0, offset = -16.40625, width = 46.484375, ext_offset = 8\n"
     ]
    },
    {
     "name": "stdout",
     "output_type": "stream",
     "text": [
      "successes = 1, resets = 0, offset = -16.40625, width = 46.484375, ext_offset = 9\n"
     ]
    },
    {
     "name": "stdout",
     "output_type": "stream",
     "text": [
      "successes = 1, resets = 0, offset = -16.015625, width = 46.484375, ext_offset = 7\n"
     ]
    },
    {
     "name": "stdout",
     "output_type": "stream",
     "text": [
      "successes = 1, resets = 0, offset = -16.015625, width = 46.484375, ext_offset = 8\n"
     ]
    },
    {
     "name": "stdout",
     "output_type": "stream",
     "text": [
      "successes = 1, resets = 0, offset = -16.015625, width = 46.484375, ext_offset = 9\n"
     ]
    },
    {
     "name": "stdout",
     "output_type": "stream",
     "text": [
      "successes = 1, resets = 0, offset = -16.015625, width = 46.484375, ext_offset = 10\n"
     ]
    },
    {
     "name": "stdout",
     "output_type": "stream",
     "text": [
      "successes = 1, resets = 0, offset = -15.625, width = 46.484375, ext_offset = 7\n"
     ]
    },
    {
     "name": "stdout",
     "output_type": "stream",
     "text": [
      "successes = 1, resets = 0, offset = -15.625, width = 46.484375, ext_offset = 8\n"
     ]
    },
    {
     "name": "stdout",
     "output_type": "stream",
     "text": [
      "successes = 1, resets = 0, offset = -15.625, width = 46.484375, ext_offset = 9\n"
     ]
    },
    {
     "name": "stdout",
     "output_type": "stream",
     "text": [
      "successes = 1, resets = 0, offset = -15.625, width = 46.484375, ext_offset = 10\n"
     ]
    },
    {
     "name": "stdout",
     "output_type": "stream",
     "text": [
      "successes = 1, resets = 0, offset = -15.234375, width = 46.484375, ext_offset = 7\n"
     ]
    },
    {
     "name": "stdout",
     "output_type": "stream",
     "text": [
      "successes = 1, resets = 0, offset = -15.234375, width = 46.484375, ext_offset = 8\n"
     ]
    },
    {
     "name": "stdout",
     "output_type": "stream",
     "text": [
      "successes = 1, resets = 0, offset = -15.234375, width = 46.484375, ext_offset = 10\n"
     ]
    },
    {
     "name": "stdout",
     "output_type": "stream",
     "text": [
      "successes = 1, resets = 0, offset = -14.84375, width = 46.484375, ext_offset = 8\n"
     ]
    },
    {
     "name": "stdout",
     "output_type": "stream",
     "text": [
      "successes = 1, resets = 0, offset = -14.84375, width = 46.484375, ext_offset = 9\n"
     ]
    },
    {
     "name": "stdout",
     "output_type": "stream",
     "text": [
      "successes = 1, resets = 0, offset = -14.84375, width = 46.484375, ext_offset = 10\n"
     ]
    },
    {
     "name": "stdout",
     "output_type": "stream",
     "text": [
      "successes = 1, resets = 0, offset = -14.453125, width = 46.484375, ext_offset = 7\n"
     ]
    },
    {
     "name": "stdout",
     "output_type": "stream",
     "text": [
      "successes = 1, resets = 0, offset = -14.453125, width = 46.484375, ext_offset = 8\n"
     ]
    },
    {
     "name": "stdout",
     "output_type": "stream",
     "text": [
      "successes = 1, resets = 0, offset = -14.453125, width = 46.484375, ext_offset = 9\n"
     ]
    },
    {
     "name": "stdout",
     "output_type": "stream",
     "text": [
      "successes = 1, resets = 0, offset = -14.453125, width = 46.484375, ext_offset = 10\n"
     ]
    },
    {
     "name": "stdout",
     "output_type": "stream",
     "text": [
      "successes = 1, resets = 0, offset = -14.0625, width = 46.484375, ext_offset = 8\n"
     ]
    },
    {
     "name": "stdout",
     "output_type": "stream",
     "text": [
      "successes = 1, resets = 0, offset = -14.0625, width = 46.484375, ext_offset = 9\n"
     ]
    },
    {
     "name": "stdout",
     "output_type": "stream",
     "text": [
      "successes = 1, resets = 0, offset = -14.0625, width = 46.484375, ext_offset = 10\n"
     ]
    },
    {
     "name": "stdout",
     "output_type": "stream",
     "text": [
      "successes = 1, resets = 0, offset = -13.671875, width = 46.484375, ext_offset = 7\n"
     ]
    },
    {
     "name": "stdout",
     "output_type": "stream",
     "text": [
      "successes = 1, resets = 0, offset = -13.671875, width = 46.484375, ext_offset = 9\n"
     ]
    },
    {
     "name": "stdout",
     "output_type": "stream",
     "text": [
      "successes = 1, resets = 0, offset = -13.671875, width = 46.484375, ext_offset = 10\n"
     ]
    },
    {
     "name": "stdout",
     "output_type": "stream",
     "text": [
      "successes = 1, resets = 0, offset = -13.28125, width = 46.484375, ext_offset = 8\n"
     ]
    },
    {
     "name": "stdout",
     "output_type": "stream",
     "text": [
      "successes = 1, resets = 0, offset = -13.28125, width = 46.484375, ext_offset = 9\n"
     ]
    },
    {
     "name": "stdout",
     "output_type": "stream",
     "text": [
      "successes = 1, resets = 0, offset = -13.28125, width = 46.484375, ext_offset = 10\n"
     ]
    },
    {
     "name": "stdout",
     "output_type": "stream",
     "text": [
      "successes = 1, resets = 0, offset = -12.890625, width = 46.484375, ext_offset = 7\n"
     ]
    },
    {
     "name": "stdout",
     "output_type": "stream",
     "text": [
      "successes = 1, resets = 0, offset = -12.890625, width = 46.484375, ext_offset = 8\n"
     ]
    },
    {
     "name": "stdout",
     "output_type": "stream",
     "text": [
      "successes = 1, resets = 0, offset = -12.890625, width = 46.484375, ext_offset = 9\n"
     ]
    },
    {
     "name": "stdout",
     "output_type": "stream",
     "text": [
      "successes = 1, resets = 0, offset = -12.890625, width = 46.484375, ext_offset = 10\n"
     ]
    },
    {
     "name": "stdout",
     "output_type": "stream",
     "text": [
      "successes = 1, resets = 0, offset = -12.5, width = 46.484375, ext_offset = 8\n"
     ]
    },
    {
     "name": "stdout",
     "output_type": "stream",
     "text": [
      "successes = 1, resets = 0, offset = -12.5, width = 46.484375, ext_offset = 9\n"
     ]
    },
    {
     "name": "stdout",
     "output_type": "stream",
     "text": [
      "successes = 1, resets = 0, offset = -12.5, width = 46.484375, ext_offset = 10\n"
     ]
    },
    {
     "name": "stdout",
     "output_type": "stream",
     "text": [
      "successes = 1, resets = 0, offset = -12.109375, width = 46.484375, ext_offset = 7\n"
     ]
    },
    {
     "name": "stdout",
     "output_type": "stream",
     "text": [
      "successes = 1, resets = 0, offset = -12.109375, width = 46.484375, ext_offset = 8\n"
     ]
    },
    {
     "name": "stdout",
     "output_type": "stream",
     "text": [
      "successes = 1, resets = 0, offset = -12.109375, width = 46.484375, ext_offset = 9\n"
     ]
    },
    {
     "name": "stdout",
     "output_type": "stream",
     "text": [
      "successes = 1, resets = 0, offset = -12.109375, width = 46.484375, ext_offset = 10\n"
     ]
    },
    {
     "name": "stdout",
     "output_type": "stream",
     "text": [
      "successes = 1, resets = 0, offset = -11.71875, width = 46.484375, ext_offset = 8\n"
     ]
    },
    {
     "name": "stdout",
     "output_type": "stream",
     "text": [
      "successes = 1, resets = 0, offset = -11.71875, width = 46.484375, ext_offset = 9\n"
     ]
    },
    {
     "name": "stdout",
     "output_type": "stream",
     "text": [
      "successes = 1, resets = 0, offset = -11.71875, width = 46.484375, ext_offset = 10\n"
     ]
    },
    {
     "name": "stdout",
     "output_type": "stream",
     "text": [
      "successes = 1, resets = 0, offset = -11.328125, width = 46.484375, ext_offset = 8\n"
     ]
    },
    {
     "name": "stdout",
     "output_type": "stream",
     "text": [
      "successes = 1, resets = 0, offset = -11.328125, width = 46.484375, ext_offset = 9\n"
     ]
    },
    {
     "name": "stdout",
     "output_type": "stream",
     "text": [
      "successes = 1, resets = 0, offset = -11.328125, width = 46.484375, ext_offset = 10\n"
     ]
    },
    {
     "name": "stdout",
     "output_type": "stream",
     "text": [
      "successes = 1, resets = 0, offset = -10.9375, width = 46.484375, ext_offset = 8\n"
     ]
    },
    {
     "name": "stdout",
     "output_type": "stream",
     "text": [
      "successes = 1, resets = 0, offset = -10.9375, width = 46.484375, ext_offset = 9\n"
     ]
    },
    {
     "name": "stdout",
     "output_type": "stream",
     "text": [
      "successes = 1, resets = 0, offset = -10.9375, width = 46.484375, ext_offset = 10\n"
     ]
    },
    {
     "name": "stdout",
     "output_type": "stream",
     "text": [
      "successes = 1, resets = 0, offset = -10.546875, width = 46.484375, ext_offset = 8\n"
     ]
    },
    {
     "name": "stdout",
     "output_type": "stream",
     "text": [
      "successes = 1, resets = 0, offset = -10.546875, width = 46.484375, ext_offset = 9\n"
     ]
    },
    {
     "name": "stdout",
     "output_type": "stream",
     "text": [
      "successes = 1, resets = 0, offset = -10.546875, width = 46.484375, ext_offset = 10\n"
     ]
    },
    {
     "name": "stdout",
     "output_type": "stream",
     "text": [
      "successes = 1, resets = 0, offset = -10.15625, width = 46.484375, ext_offset = 8\n"
     ]
    },
    {
     "name": "stdout",
     "output_type": "stream",
     "text": [
      "successes = 1, resets = 0, offset = -10.15625, width = 46.484375, ext_offset = 9\n"
     ]
    },
    {
     "name": "stdout",
     "output_type": "stream",
     "text": [
      "successes = 1, resets = 0, offset = -10.15625, width = 46.484375, ext_offset = 10\n"
     ]
    },
    {
     "name": "stdout",
     "output_type": "stream",
     "text": [
      "successes = 1, resets = 0, offset = -48.046875, width = 46.875, ext_offset = 7\n"
     ]
    },
    {
     "name": "stdout",
     "output_type": "stream",
     "text": [
      "successes = 1, resets = 0, offset = -48.046875, width = 46.875, ext_offset = 8\n"
     ]
    },
    {
     "name": "stdout",
     "output_type": "stream",
     "text": [
      "successes = 1, resets = 0, offset = -47.265625, width = 46.875, ext_offset = 8\n"
     ]
    },
    {
     "name": "stdout",
     "output_type": "stream",
     "text": [
      "successes = 1, resets = 0, offset = -46.875, width = 46.875, ext_offset = 8\n"
     ]
    },
    {
     "name": "stdout",
     "output_type": "stream",
     "text": [
      "successes = 1, resets = 0, offset = -46.484375, width = 46.875, ext_offset = 8\n"
     ]
    },
    {
     "name": "stdout",
     "output_type": "stream",
     "text": [
      "successes = 1, resets = 0, offset = -46.09375, width = 46.875, ext_offset = 8\n"
     ]
    },
    {
     "name": "stdout",
     "output_type": "stream",
     "text": [
      "successes = 1, resets = 0, offset = -45.703125, width = 46.875, ext_offset = 8\n"
     ]
    },
    {
     "name": "stdout",
     "output_type": "stream",
     "text": [
      "successes = 1, resets = 0, offset = -45.3125, width = 46.875, ext_offset = 8\n"
     ]
    },
    {
     "name": "stdout",
     "output_type": "stream",
     "text": [
      "successes = 1, resets = 0, offset = -44.921875, width = 46.875, ext_offset = 8\n"
     ]
    },
    {
     "name": "stdout",
     "output_type": "stream",
     "text": [
      "successes = 1, resets = 0, offset = -44.53125, width = 46.875, ext_offset = 8\n"
     ]
    },
    {
     "name": "stdout",
     "output_type": "stream",
     "text": [
      "successes = 1, resets = 0, offset = -44.140625, width = 46.875, ext_offset = 8\n"
     ]
    },
    {
     "name": "stdout",
     "output_type": "stream",
     "text": [
      "successes = 1, resets = 0, offset = -43.75, width = 46.875, ext_offset = 8\n"
     ]
    },
    {
     "name": "stdout",
     "output_type": "stream",
     "text": [
      "successes = 1, resets = 0, offset = -43.359375, width = 46.875, ext_offset = 8\n"
     ]
    },
    {
     "name": "stdout",
     "output_type": "stream",
     "text": [
      "successes = 1, resets = 0, offset = -42.96875, width = 46.875, ext_offset = 8\n"
     ]
    },
    {
     "name": "stdout",
     "output_type": "stream",
     "text": [
      "successes = 1, resets = 0, offset = -42.578125, width = 46.875, ext_offset = 8\n"
     ]
    },
    {
     "name": "stdout",
     "output_type": "stream",
     "text": [
      "successes = 1, resets = 0, offset = -42.1875, width = 46.875, ext_offset = 8\n"
     ]
    },
    {
     "name": "stdout",
     "output_type": "stream",
     "text": [
      "successes = 1, resets = 0, offset = -41.40625, width = 46.875, ext_offset = 8\n"
     ]
    },
    {
     "name": "stdout",
     "output_type": "stream",
     "text": [
      "successes = 1, resets = 0, offset = -41.015625, width = 46.875, ext_offset = 8\n"
     ]
    },
    {
     "name": "stdout",
     "output_type": "stream",
     "text": [
      "successes = 1, resets = 0, offset = -40.234375, width = 46.875, ext_offset = 8\n"
     ]
    },
    {
     "name": "stdout",
     "output_type": "stream",
     "text": [
      "successes = 1, resets = 0, offset = -39.84375, width = 46.875, ext_offset = 8\n"
     ]
    },
    {
     "name": "stdout",
     "output_type": "stream",
     "text": [
      "successes = 1, resets = 0, offset = -39.453125, width = 46.875, ext_offset = 8\n"
     ]
    },
    {
     "name": "stdout",
     "output_type": "stream",
     "text": [
      "successes = 1, resets = 0, offset = -39.0625, width = 46.875, ext_offset = 8\n"
     ]
    },
    {
     "name": "stdout",
     "output_type": "stream",
     "text": [
      "successes = 1, resets = 0, offset = -38.671875, width = 46.875, ext_offset = 8\n"
     ]
    },
    {
     "name": "stdout",
     "output_type": "stream",
     "text": [
      "successes = 1, resets = 0, offset = -38.28125, width = 46.875, ext_offset = 8\n"
     ]
    },
    {
     "name": "stdout",
     "output_type": "stream",
     "text": [
      "successes = 1, resets = 0, offset = -37.890625, width = 46.875, ext_offset = 8\n"
     ]
    },
    {
     "name": "stdout",
     "output_type": "stream",
     "text": [
      "successes = 1, resets = 0, offset = -37.5, width = 46.875, ext_offset = 8\n"
     ]
    },
    {
     "name": "stdout",
     "output_type": "stream",
     "text": [
      "successes = 1, resets = 0, offset = -36.71875, width = 46.875, ext_offset = 8\n"
     ]
    },
    {
     "name": "stdout",
     "output_type": "stream",
     "text": [
      "successes = 1, resets = 0, offset = -36.328125, width = 46.875, ext_offset = 7\n"
     ]
    },
    {
     "name": "stdout",
     "output_type": "stream",
     "text": [
      "successes = 1, resets = 0, offset = -36.328125, width = 46.875, ext_offset = 8\n"
     ]
    },
    {
     "name": "stdout",
     "output_type": "stream",
     "text": [
      "successes = 1, resets = 0, offset = -36.328125, width = 46.875, ext_offset = 10\n"
     ]
    },
    {
     "name": "stdout",
     "output_type": "stream",
     "text": [
      "successes = 1, resets = 0, offset = -35.546875, width = 46.875, ext_offset = 8\n"
     ]
    },
    {
     "name": "stdout",
     "output_type": "stream",
     "text": [
      "successes = 1, resets = 0, offset = -35.546875, width = 46.875, ext_offset = 9\n"
     ]
    },
    {
     "name": "stdout",
     "output_type": "stream",
     "text": [
      "successes = 1, resets = 0, offset = -35.546875, width = 46.875, ext_offset = 10\n"
     ]
    },
    {
     "name": "stdout",
     "output_type": "stream",
     "text": [
      "successes = 1, resets = 0, offset = -35.15625, width = 46.875, ext_offset = 8\n"
     ]
    },
    {
     "name": "stdout",
     "output_type": "stream",
     "text": [
      "successes = 1, resets = 0, offset = -35.15625, width = 46.875, ext_offset = 9\n"
     ]
    },
    {
     "name": "stdout",
     "output_type": "stream",
     "text": [
      "successes = 1, resets = 0, offset = -34.765625, width = 46.875, ext_offset = 7\n"
     ]
    },
    {
     "name": "stdout",
     "output_type": "stream",
     "text": [
      "successes = 1, resets = 0, offset = -34.765625, width = 46.875, ext_offset = 8\n"
     ]
    },
    {
     "name": "stdout",
     "output_type": "stream",
     "text": [
      "successes = 1, resets = 0, offset = -34.765625, width = 46.875, ext_offset = 10\n"
     ]
    },
    {
     "name": "stdout",
     "output_type": "stream",
     "text": [
      "successes = 1, resets = 0, offset = -34.375, width = 46.875, ext_offset = 8\n"
     ]
    },
    {
     "name": "stdout",
     "output_type": "stream",
     "text": [
      "successes = 1, resets = 0, offset = -34.375, width = 46.875, ext_offset = 9\n"
     ]
    },
    {
     "name": "stdout",
     "output_type": "stream",
     "text": [
      "successes = 1, resets = 0, offset = -33.984375, width = 46.875, ext_offset = 7\n"
     ]
    },
    {
     "name": "stdout",
     "output_type": "stream",
     "text": [
      "successes = 1, resets = 0, offset = -33.984375, width = 46.875, ext_offset = 8\n"
     ]
    },
    {
     "name": "stdout",
     "output_type": "stream",
     "text": [
      "successes = 1, resets = 0, offset = -33.984375, width = 46.875, ext_offset = 10\n"
     ]
    },
    {
     "name": "stdout",
     "output_type": "stream",
     "text": [
      "successes = 1, resets = 0, offset = -33.59375, width = 46.875, ext_offset = 7\n"
     ]
    },
    {
     "name": "stdout",
     "output_type": "stream",
     "text": [
      "successes = 1, resets = 0, offset = -33.59375, width = 46.875, ext_offset = 8\n"
     ]
    },
    {
     "name": "stdout",
     "output_type": "stream",
     "text": [
      "successes = 1, resets = 0, offset = -33.59375, width = 46.875, ext_offset = 9\n"
     ]
    },
    {
     "name": "stdout",
     "output_type": "stream",
     "text": [
      "successes = 1, resets = 0, offset = -33.59375, width = 46.875, ext_offset = 10\n"
     ]
    },
    {
     "name": "stdout",
     "output_type": "stream",
     "text": [
      "successes = 1, resets = 0, offset = -33.203125, width = 46.875, ext_offset = 8\n"
     ]
    },
    {
     "name": "stdout",
     "output_type": "stream",
     "text": [
      "successes = 1, resets = 0, offset = -33.203125, width = 46.875, ext_offset = 10\n"
     ]
    },
    {
     "name": "stdout",
     "output_type": "stream",
     "text": [
      "successes = 1, resets = 0, offset = -32.8125, width = 46.875, ext_offset = 7\n"
     ]
    },
    {
     "name": "stdout",
     "output_type": "stream",
     "text": [
      "successes = 1, resets = 0, offset = -32.8125, width = 46.875, ext_offset = 8\n"
     ]
    },
    {
     "name": "stdout",
     "output_type": "stream",
     "text": [
      "successes = 1, resets = 0, offset = -32.8125, width = 46.875, ext_offset = 10\n"
     ]
    },
    {
     "name": "stdout",
     "output_type": "stream",
     "text": [
      "successes = 1, resets = 0, offset = -32.421875, width = 46.875, ext_offset = 7\n"
     ]
    },
    {
     "name": "stdout",
     "output_type": "stream",
     "text": [
      "successes = 1, resets = 0, offset = -32.421875, width = 46.875, ext_offset = 8\n"
     ]
    },
    {
     "name": "stdout",
     "output_type": "stream",
     "text": [
      "successes = 1, resets = 0, offset = -32.421875, width = 46.875, ext_offset = 9\n"
     ]
    },
    {
     "name": "stdout",
     "output_type": "stream",
     "text": [
      "successes = 1, resets = 0, offset = -32.421875, width = 46.875, ext_offset = 10\n"
     ]
    },
    {
     "name": "stdout",
     "output_type": "stream",
     "text": [
      "successes = 1, resets = 0, offset = -32.03125, width = 46.875, ext_offset = 8\n"
     ]
    },
    {
     "name": "stdout",
     "output_type": "stream",
     "text": [
      "successes = 1, resets = 0, offset = -32.03125, width = 46.875, ext_offset = 9\n"
     ]
    },
    {
     "name": "stdout",
     "output_type": "stream",
     "text": [
      "successes = 1, resets = 0, offset = -32.03125, width = 46.875, ext_offset = 10\n"
     ]
    },
    {
     "name": "stdout",
     "output_type": "stream",
     "text": [
      "successes = 1, resets = 0, offset = -31.640625, width = 46.875, ext_offset = 7\n"
     ]
    },
    {
     "name": "stdout",
     "output_type": "stream",
     "text": [
      "successes = 1, resets = 0, offset = -31.640625, width = 46.875, ext_offset = 8\n"
     ]
    },
    {
     "name": "stdout",
     "output_type": "stream",
     "text": [
      "successes = 1, resets = 0, offset = -31.640625, width = 46.875, ext_offset = 9\n"
     ]
    },
    {
     "name": "stdout",
     "output_type": "stream",
     "text": [
      "successes = 1, resets = 0, offset = -31.640625, width = 46.875, ext_offset = 10\n"
     ]
    },
    {
     "name": "stdout",
     "output_type": "stream",
     "text": [
      "successes = 1, resets = 0, offset = -31.25, width = 46.875, ext_offset = 7\n"
     ]
    },
    {
     "name": "stdout",
     "output_type": "stream",
     "text": [
      "successes = 1, resets = 0, offset = -31.25, width = 46.875, ext_offset = 8\n"
     ]
    },
    {
     "name": "stdout",
     "output_type": "stream",
     "text": [
      "successes = 1, resets = 0, offset = -31.25, width = 46.875, ext_offset = 9\n"
     ]
    },
    {
     "name": "stdout",
     "output_type": "stream",
     "text": [
      "successes = 1, resets = 0, offset = -31.25, width = 46.875, ext_offset = 10\n"
     ]
    },
    {
     "name": "stdout",
     "output_type": "stream",
     "text": [
      "successes = 1, resets = 0, offset = -30.859375, width = 46.875, ext_offset = 7\n"
     ]
    },
    {
     "name": "stdout",
     "output_type": "stream",
     "text": [
      "successes = 1, resets = 0, offset = -30.859375, width = 46.875, ext_offset = 8\n"
     ]
    },
    {
     "name": "stdout",
     "output_type": "stream",
     "text": [
      "successes = 1, resets = 0, offset = -30.859375, width = 46.875, ext_offset = 9\n"
     ]
    },
    {
     "name": "stdout",
     "output_type": "stream",
     "text": [
      "successes = 1, resets = 0, offset = -30.859375, width = 46.875, ext_offset = 10\n"
     ]
    },
    {
     "name": "stdout",
     "output_type": "stream",
     "text": [
      "successes = 1, resets = 0, offset = -30.46875, width = 46.875, ext_offset = 7\n"
     ]
    },
    {
     "name": "stdout",
     "output_type": "stream",
     "text": [
      "successes = 1, resets = 0, offset = -30.46875, width = 46.875, ext_offset = 8\n"
     ]
    },
    {
     "name": "stdout",
     "output_type": "stream",
     "text": [
      "successes = 1, resets = 0, offset = -30.46875, width = 46.875, ext_offset = 10\n"
     ]
    },
    {
     "name": "stdout",
     "output_type": "stream",
     "text": [
      "successes = 1, resets = 0, offset = -30.078125, width = 46.875, ext_offset = 7\n"
     ]
    },
    {
     "name": "stdout",
     "output_type": "stream",
     "text": [
      "successes = 1, resets = 0, offset = -30.078125, width = 46.875, ext_offset = 8\n"
     ]
    },
    {
     "name": "stdout",
     "output_type": "stream",
     "text": [
      "successes = 1, resets = 0, offset = -30.078125, width = 46.875, ext_offset = 9\n"
     ]
    },
    {
     "name": "stdout",
     "output_type": "stream",
     "text": [
      "successes = 1, resets = 0, offset = -30.078125, width = 46.875, ext_offset = 10\n"
     ]
    },
    {
     "name": "stdout",
     "output_type": "stream",
     "text": [
      "successes = 1, resets = 0, offset = -29.6875, width = 46.875, ext_offset = 8\n"
     ]
    },
    {
     "name": "stdout",
     "output_type": "stream",
     "text": [
      "successes = 1, resets = 0, offset = -29.6875, width = 46.875, ext_offset = 9\n"
     ]
    },
    {
     "name": "stdout",
     "output_type": "stream",
     "text": [
      "successes = 1, resets = 0, offset = -29.6875, width = 46.875, ext_offset = 10\n"
     ]
    },
    {
     "name": "stdout",
     "output_type": "stream",
     "text": [
      "successes = 1, resets = 0, offset = -29.296875, width = 46.875, ext_offset = 7\n"
     ]
    },
    {
     "name": "stdout",
     "output_type": "stream",
     "text": [
      "successes = 1, resets = 0, offset = -29.296875, width = 46.875, ext_offset = 8\n"
     ]
    },
    {
     "name": "stdout",
     "output_type": "stream",
     "text": [
      "successes = 1, resets = 0, offset = -29.296875, width = 46.875, ext_offset = 9\n"
     ]
    },
    {
     "name": "stdout",
     "output_type": "stream",
     "text": [
      "successes = 1, resets = 0, offset = -29.296875, width = 46.875, ext_offset = 10\n"
     ]
    },
    {
     "name": "stdout",
     "output_type": "stream",
     "text": [
      "successes = 1, resets = 0, offset = -28.90625, width = 46.875, ext_offset = 7\n"
     ]
    },
    {
     "name": "stdout",
     "output_type": "stream",
     "text": [
      "successes = 1, resets = 0, offset = -28.90625, width = 46.875, ext_offset = 8\n"
     ]
    },
    {
     "name": "stdout",
     "output_type": "stream",
     "text": [
      "successes = 1, resets = 0, offset = -28.90625, width = 46.875, ext_offset = 9\n"
     ]
    },
    {
     "name": "stdout",
     "output_type": "stream",
     "text": [
      "successes = 1, resets = 0, offset = -28.90625, width = 46.875, ext_offset = 10\n"
     ]
    },
    {
     "name": "stdout",
     "output_type": "stream",
     "text": [
      "successes = 1, resets = 0, offset = -28.515625, width = 46.875, ext_offset = 7\n"
     ]
    },
    {
     "name": "stdout",
     "output_type": "stream",
     "text": [
      "successes = 1, resets = 0, offset = -28.515625, width = 46.875, ext_offset = 8\n"
     ]
    },
    {
     "name": "stdout",
     "output_type": "stream",
     "text": [
      "successes = 1, resets = 0, offset = -28.515625, width = 46.875, ext_offset = 9\n"
     ]
    },
    {
     "name": "stdout",
     "output_type": "stream",
     "text": [
      "successes = 1, resets = 0, offset = -28.515625, width = 46.875, ext_offset = 10\n"
     ]
    },
    {
     "name": "stdout",
     "output_type": "stream",
     "text": [
      "successes = 1, resets = 0, offset = -28.125, width = 46.875, ext_offset = 7\n"
     ]
    },
    {
     "name": "stdout",
     "output_type": "stream",
     "text": [
      "successes = 1, resets = 0, offset = -28.125, width = 46.875, ext_offset = 9\n"
     ]
    },
    {
     "name": "stdout",
     "output_type": "stream",
     "text": [
      "successes = 1, resets = 0, offset = -28.125, width = 46.875, ext_offset = 10\n"
     ]
    },
    {
     "name": "stdout",
     "output_type": "stream",
     "text": [
      "successes = 1, resets = 0, offset = -27.734375, width = 46.875, ext_offset = 7\n"
     ]
    },
    {
     "name": "stdout",
     "output_type": "stream",
     "text": [
      "successes = 1, resets = 0, offset = -27.734375, width = 46.875, ext_offset = 8\n"
     ]
    },
    {
     "name": "stdout",
     "output_type": "stream",
     "text": [
      "successes = 1, resets = 0, offset = -27.734375, width = 46.875, ext_offset = 10\n"
     ]
    },
    {
     "name": "stdout",
     "output_type": "stream",
     "text": [
      "successes = 1, resets = 0, offset = -27.34375, width = 46.875, ext_offset = 7\n"
     ]
    },
    {
     "name": "stdout",
     "output_type": "stream",
     "text": [
      "successes = 1, resets = 0, offset = -27.34375, width = 46.875, ext_offset = 8\n"
     ]
    },
    {
     "name": "stdout",
     "output_type": "stream",
     "text": [
      "successes = 1, resets = 0, offset = -27.34375, width = 46.875, ext_offset = 9\n"
     ]
    },
    {
     "name": "stdout",
     "output_type": "stream",
     "text": [
      "successes = 1, resets = 0, offset = -27.34375, width = 46.875, ext_offset = 10\n"
     ]
    },
    {
     "name": "stdout",
     "output_type": "stream",
     "text": [
      "successes = 1, resets = 0, offset = -26.953125, width = 46.875, ext_offset = 7\n"
     ]
    },
    {
     "name": "stdout",
     "output_type": "stream",
     "text": [
      "successes = 1, resets = 0, offset = -26.953125, width = 46.875, ext_offset = 8\n"
     ]
    },
    {
     "name": "stdout",
     "output_type": "stream",
     "text": [
      "successes = 1, resets = 0, offset = -26.953125, width = 46.875, ext_offset = 9\n"
     ]
    },
    {
     "name": "stdout",
     "output_type": "stream",
     "text": [
      "successes = 1, resets = 0, offset = -26.953125, width = 46.875, ext_offset = 10\n"
     ]
    },
    {
     "name": "stdout",
     "output_type": "stream",
     "text": [
      "successes = 1, resets = 0, offset = -26.5625, width = 46.875, ext_offset = 7\n"
     ]
    },
    {
     "name": "stdout",
     "output_type": "stream",
     "text": [
      "successes = 1, resets = 0, offset = -26.5625, width = 46.875, ext_offset = 8\n"
     ]
    },
    {
     "name": "stdout",
     "output_type": "stream",
     "text": [
      "successes = 1, resets = 0, offset = -26.5625, width = 46.875, ext_offset = 9\n"
     ]
    },
    {
     "name": "stdout",
     "output_type": "stream",
     "text": [
      "successes = 1, resets = 0, offset = -26.5625, width = 46.875, ext_offset = 10\n"
     ]
    },
    {
     "name": "stdout",
     "output_type": "stream",
     "text": [
      "successes = 1, resets = 0, offset = -26.171875, width = 46.875, ext_offset = 7\n"
     ]
    },
    {
     "name": "stdout",
     "output_type": "stream",
     "text": [
      "successes = 1, resets = 0, offset = -26.171875, width = 46.875, ext_offset = 8\n"
     ]
    },
    {
     "name": "stdout",
     "output_type": "stream",
     "text": [
      "successes = 1, resets = 0, offset = -26.171875, width = 46.875, ext_offset = 9\n"
     ]
    },
    {
     "name": "stdout",
     "output_type": "stream",
     "text": [
      "successes = 1, resets = 0, offset = -25.78125, width = 46.875, ext_offset = 7\n"
     ]
    },
    {
     "name": "stdout",
     "output_type": "stream",
     "text": [
      "successes = 1, resets = 0, offset = -25.78125, width = 46.875, ext_offset = 8\n"
     ]
    },
    {
     "name": "stdout",
     "output_type": "stream",
     "text": [
      "successes = 1, resets = 0, offset = -25.390625, width = 46.875, ext_offset = 7\n"
     ]
    },
    {
     "name": "stdout",
     "output_type": "stream",
     "text": [
      "successes = 1, resets = 0, offset = -25.390625, width = 46.875, ext_offset = 9\n"
     ]
    },
    {
     "name": "stdout",
     "output_type": "stream",
     "text": [
      "successes = 1, resets = 0, offset = -24.609375, width = 46.875, ext_offset = 7\n"
     ]
    },
    {
     "name": "stdout",
     "output_type": "stream",
     "text": [
      "successes = 1, resets = 0, offset = -24.609375, width = 46.875, ext_offset = 8\n"
     ]
    },
    {
     "name": "stdout",
     "output_type": "stream",
     "text": [
      "successes = 1, resets = 0, offset = -24.609375, width = 46.875, ext_offset = 9\n"
     ]
    },
    {
     "name": "stdout",
     "output_type": "stream",
     "text": [
      "successes = 1, resets = 0, offset = -24.609375, width = 46.875, ext_offset = 10\n"
     ]
    },
    {
     "name": "stdout",
     "output_type": "stream",
     "text": [
      "successes = 1, resets = 0, offset = -24.21875, width = 46.875, ext_offset = 7\n"
     ]
    },
    {
     "name": "stdout",
     "output_type": "stream",
     "text": [
      "successes = 1, resets = 0, offset = -24.21875, width = 46.875, ext_offset = 8\n"
     ]
    },
    {
     "name": "stdout",
     "output_type": "stream",
     "text": [
      "successes = 1, resets = 0, offset = -24.21875, width = 46.875, ext_offset = 9\n"
     ]
    },
    {
     "name": "stdout",
     "output_type": "stream",
     "text": [
      "successes = 1, resets = 0, offset = -24.21875, width = 46.875, ext_offset = 10\n"
     ]
    },
    {
     "name": "stdout",
     "output_type": "stream",
     "text": [
      "successes = 1, resets = 0, offset = -23.828125, width = 46.875, ext_offset = 7\n"
     ]
    },
    {
     "name": "stdout",
     "output_type": "stream",
     "text": [
      "successes = 1, resets = 0, offset = -23.828125, width = 46.875, ext_offset = 8\n"
     ]
    },
    {
     "name": "stdout",
     "output_type": "stream",
     "text": [
      "successes = 1, resets = 0, offset = -23.828125, width = 46.875, ext_offset = 9\n"
     ]
    },
    {
     "name": "stdout",
     "output_type": "stream",
     "text": [
      "successes = 1, resets = 0, offset = -23.828125, width = 46.875, ext_offset = 10\n"
     ]
    },
    {
     "name": "stdout",
     "output_type": "stream",
     "text": [
      "successes = 1, resets = 0, offset = -23.4375, width = 46.875, ext_offset = 7\n"
     ]
    },
    {
     "name": "stdout",
     "output_type": "stream",
     "text": [
      "successes = 1, resets = 0, offset = -23.4375, width = 46.875, ext_offset = 8\n"
     ]
    },
    {
     "name": "stdout",
     "output_type": "stream",
     "text": [
      "successes = 1, resets = 0, offset = -23.4375, width = 46.875, ext_offset = 9\n"
     ]
    },
    {
     "name": "stdout",
     "output_type": "stream",
     "text": [
      "successes = 1, resets = 0, offset = -23.4375, width = 46.875, ext_offset = 10\n"
     ]
    },
    {
     "name": "stdout",
     "output_type": "stream",
     "text": [
      "successes = 1, resets = 0, offset = -23.046875, width = 46.875, ext_offset = 7\n"
     ]
    },
    {
     "name": "stdout",
     "output_type": "stream",
     "text": [
      "successes = 1, resets = 0, offset = -23.046875, width = 46.875, ext_offset = 8\n"
     ]
    },
    {
     "name": "stdout",
     "output_type": "stream",
     "text": [
      "successes = 1, resets = 0, offset = -23.046875, width = 46.875, ext_offset = 10\n"
     ]
    },
    {
     "name": "stdout",
     "output_type": "stream",
     "text": [
      "successes = 1, resets = 0, offset = -22.65625, width = 46.875, ext_offset = 7\n"
     ]
    },
    {
     "name": "stdout",
     "output_type": "stream",
     "text": [
      "successes = 1, resets = 0, offset = -22.65625, width = 46.875, ext_offset = 8\n"
     ]
    },
    {
     "name": "stdout",
     "output_type": "stream",
     "text": [
      "successes = 1, resets = 0, offset = -22.65625, width = 46.875, ext_offset = 9\n"
     ]
    },
    {
     "name": "stdout",
     "output_type": "stream",
     "text": [
      "successes = 1, resets = 0, offset = -22.65625, width = 46.875, ext_offset = 10\n"
     ]
    },
    {
     "name": "stdout",
     "output_type": "stream",
     "text": [
      "successes = 1, resets = 0, offset = -22.265625, width = 46.875, ext_offset = 7\n"
     ]
    },
    {
     "name": "stdout",
     "output_type": "stream",
     "text": [
      "successes = 1, resets = 0, offset = -22.265625, width = 46.875, ext_offset = 8\n"
     ]
    },
    {
     "name": "stdout",
     "output_type": "stream",
     "text": [
      "successes = 1, resets = 0, offset = -22.265625, width = 46.875, ext_offset = 10\n"
     ]
    },
    {
     "name": "stdout",
     "output_type": "stream",
     "text": [
      "successes = 1, resets = 0, offset = -21.875, width = 46.875, ext_offset = 7\n"
     ]
    },
    {
     "name": "stdout",
     "output_type": "stream",
     "text": [
      "successes = 1, resets = 0, offset = -21.875, width = 46.875, ext_offset = 8\n"
     ]
    },
    {
     "name": "stdout",
     "output_type": "stream",
     "text": [
      "successes = 1, resets = 0, offset = -21.875, width = 46.875, ext_offset = 9\n"
     ]
    },
    {
     "name": "stdout",
     "output_type": "stream",
     "text": [
      "successes = 1, resets = 0, offset = -21.875, width = 46.875, ext_offset = 10\n"
     ]
    },
    {
     "name": "stdout",
     "output_type": "stream",
     "text": [
      "successes = 1, resets = 0, offset = -21.484375, width = 46.875, ext_offset = 8\n"
     ]
    },
    {
     "name": "stdout",
     "output_type": "stream",
     "text": [
      "successes = 1, resets = 0, offset = -21.484375, width = 46.875, ext_offset = 10\n"
     ]
    },
    {
     "name": "stdout",
     "output_type": "stream",
     "text": [
      "successes = 1, resets = 0, offset = -21.09375, width = 46.875, ext_offset = 7\n"
     ]
    },
    {
     "name": "stdout",
     "output_type": "stream",
     "text": [
      "successes = 1, resets = 0, offset = -21.09375, width = 46.875, ext_offset = 9\n"
     ]
    },
    {
     "name": "stdout",
     "output_type": "stream",
     "text": [
      "successes = 1, resets = 0, offset = -21.09375, width = 46.875, ext_offset = 10\n"
     ]
    },
    {
     "name": "stdout",
     "output_type": "stream",
     "text": [
      "successes = 1, resets = 0, offset = -20.703125, width = 46.875, ext_offset = 7\n"
     ]
    },
    {
     "name": "stdout",
     "output_type": "stream",
     "text": [
      "successes = 1, resets = 0, offset = -20.703125, width = 46.875, ext_offset = 8\n"
     ]
    },
    {
     "name": "stdout",
     "output_type": "stream",
     "text": [
      "successes = 1, resets = 0, offset = -20.703125, width = 46.875, ext_offset = 9\n"
     ]
    },
    {
     "name": "stdout",
     "output_type": "stream",
     "text": [
      "successes = 1, resets = 0, offset = -20.703125, width = 46.875, ext_offset = 10\n"
     ]
    },
    {
     "name": "stdout",
     "output_type": "stream",
     "text": [
      "successes = 1, resets = 0, offset = -20.3125, width = 46.875, ext_offset = 7\n"
     ]
    },
    {
     "name": "stdout",
     "output_type": "stream",
     "text": [
      "successes = 1, resets = 0, offset = -20.3125, width = 46.875, ext_offset = 8\n"
     ]
    },
    {
     "name": "stdout",
     "output_type": "stream",
     "text": [
      "successes = 1, resets = 0, offset = -20.3125, width = 46.875, ext_offset = 9\n"
     ]
    },
    {
     "name": "stdout",
     "output_type": "stream",
     "text": [
      "successes = 1, resets = 0, offset = -19.921875, width = 46.875, ext_offset = 7\n"
     ]
    },
    {
     "name": "stdout",
     "output_type": "stream",
     "text": [
      "successes = 1, resets = 0, offset = -19.921875, width = 46.875, ext_offset = 8\n"
     ]
    },
    {
     "name": "stdout",
     "output_type": "stream",
     "text": [
      "successes = 1, resets = 0, offset = -19.921875, width = 46.875, ext_offset = 9\n"
     ]
    },
    {
     "name": "stdout",
     "output_type": "stream",
     "text": [
      "successes = 1, resets = 0, offset = -19.921875, width = 46.875, ext_offset = 10\n"
     ]
    },
    {
     "name": "stdout",
     "output_type": "stream",
     "text": [
      "successes = 1, resets = 0, offset = -19.53125, width = 46.875, ext_offset = 7\n"
     ]
    },
    {
     "name": "stdout",
     "output_type": "stream",
     "text": [
      "successes = 1, resets = 0, offset = -19.53125, width = 46.875, ext_offset = 9\n"
     ]
    },
    {
     "name": "stdout",
     "output_type": "stream",
     "text": [
      "successes = 1, resets = 0, offset = -19.140625, width = 46.875, ext_offset = 7\n"
     ]
    },
    {
     "name": "stdout",
     "output_type": "stream",
     "text": [
      "successes = 1, resets = 0, offset = -19.140625, width = 46.875, ext_offset = 8\n"
     ]
    },
    {
     "name": "stdout",
     "output_type": "stream",
     "text": [
      "successes = 1, resets = 0, offset = -19.140625, width = 46.875, ext_offset = 9\n"
     ]
    },
    {
     "name": "stdout",
     "output_type": "stream",
     "text": [
      "successes = 1, resets = 0, offset = -19.140625, width = 46.875, ext_offset = 10\n"
     ]
    },
    {
     "name": "stdout",
     "output_type": "stream",
     "text": [
      "successes = 1, resets = 0, offset = -18.75, width = 46.875, ext_offset = 7\n"
     ]
    },
    {
     "name": "stdout",
     "output_type": "stream",
     "text": [
      "successes = 1, resets = 0, offset = -18.75, width = 46.875, ext_offset = 9\n"
     ]
    },
    {
     "name": "stdout",
     "output_type": "stream",
     "text": [
      "successes = 1, resets = 0, offset = -18.75, width = 46.875, ext_offset = 10\n"
     ]
    },
    {
     "name": "stdout",
     "output_type": "stream",
     "text": [
      "successes = 1, resets = 0, offset = -18.359375, width = 46.875, ext_offset = 7\n"
     ]
    },
    {
     "name": "stdout",
     "output_type": "stream",
     "text": [
      "successes = 1, resets = 0, offset = -18.359375, width = 46.875, ext_offset = 8\n"
     ]
    },
    {
     "name": "stdout",
     "output_type": "stream",
     "text": [
      "successes = 1, resets = 0, offset = -18.359375, width = 46.875, ext_offset = 10\n"
     ]
    },
    {
     "name": "stdout",
     "output_type": "stream",
     "text": [
      "successes = 1, resets = 0, offset = -17.96875, width = 46.875, ext_offset = 7\n"
     ]
    },
    {
     "name": "stdout",
     "output_type": "stream",
     "text": [
      "successes = 1, resets = 0, offset = -17.96875, width = 46.875, ext_offset = 8\n"
     ]
    },
    {
     "name": "stdout",
     "output_type": "stream",
     "text": [
      "successes = 1, resets = 0, offset = -17.96875, width = 46.875, ext_offset = 9\n"
     ]
    },
    {
     "name": "stdout",
     "output_type": "stream",
     "text": [
      "successes = 1, resets = 0, offset = -17.96875, width = 46.875, ext_offset = 10\n"
     ]
    },
    {
     "name": "stdout",
     "output_type": "stream",
     "text": [
      "successes = 1, resets = 0, offset = -17.578125, width = 46.875, ext_offset = 7\n"
     ]
    },
    {
     "name": "stdout",
     "output_type": "stream",
     "text": [
      "successes = 1, resets = 0, offset = -17.578125, width = 46.875, ext_offset = 8\n"
     ]
    },
    {
     "name": "stdout",
     "output_type": "stream",
     "text": [
      "successes = 1, resets = 0, offset = -17.578125, width = 46.875, ext_offset = 9\n"
     ]
    },
    {
     "name": "stdout",
     "output_type": "stream",
     "text": [
      "successes = 1, resets = 0, offset = -17.1875, width = 46.875, ext_offset = 7\n"
     ]
    },
    {
     "name": "stdout",
     "output_type": "stream",
     "text": [
      "successes = 1, resets = 0, offset = -17.1875, width = 46.875, ext_offset = 8\n"
     ]
    },
    {
     "name": "stdout",
     "output_type": "stream",
     "text": [
      "successes = 1, resets = 0, offset = -17.1875, width = 46.875, ext_offset = 9\n"
     ]
    },
    {
     "name": "stdout",
     "output_type": "stream",
     "text": [
      "successes = 1, resets = 0, offset = -17.1875, width = 46.875, ext_offset = 10\n"
     ]
    },
    {
     "name": "stdout",
     "output_type": "stream",
     "text": [
      "successes = 1, resets = 0, offset = -16.796875, width = 46.875, ext_offset = 7\n"
     ]
    },
    {
     "name": "stdout",
     "output_type": "stream",
     "text": [
      "successes = 1, resets = 0, offset = -16.796875, width = 46.875, ext_offset = 8\n"
     ]
    },
    {
     "name": "stdout",
     "output_type": "stream",
     "text": [
      "successes = 1, resets = 0, offset = -16.796875, width = 46.875, ext_offset = 9\n"
     ]
    },
    {
     "name": "stdout",
     "output_type": "stream",
     "text": [
      "successes = 1, resets = 0, offset = -16.796875, width = 46.875, ext_offset = 10\n"
     ]
    },
    {
     "name": "stdout",
     "output_type": "stream",
     "text": [
      "successes = 1, resets = 0, offset = -16.40625, width = 46.875, ext_offset = 7\n"
     ]
    },
    {
     "name": "stdout",
     "output_type": "stream",
     "text": [
      "successes = 1, resets = 0, offset = -16.40625, width = 46.875, ext_offset = 8\n"
     ]
    },
    {
     "name": "stdout",
     "output_type": "stream",
     "text": [
      "successes = 1, resets = 0, offset = -16.40625, width = 46.875, ext_offset = 9\n"
     ]
    },
    {
     "name": "stdout",
     "output_type": "stream",
     "text": [
      "successes = 1, resets = 0, offset = -16.40625, width = 46.875, ext_offset = 10\n"
     ]
    },
    {
     "name": "stdout",
     "output_type": "stream",
     "text": [
      "successes = 1, resets = 0, offset = -16.015625, width = 46.875, ext_offset = 7\n"
     ]
    },
    {
     "name": "stdout",
     "output_type": "stream",
     "text": [
      "successes = 1, resets = 0, offset = -16.015625, width = 46.875, ext_offset = 8\n"
     ]
    },
    {
     "name": "stdout",
     "output_type": "stream",
     "text": [
      "successes = 1, resets = 0, offset = -16.015625, width = 46.875, ext_offset = 9\n"
     ]
    },
    {
     "name": "stdout",
     "output_type": "stream",
     "text": [
      "successes = 1, resets = 0, offset = -16.015625, width = 46.875, ext_offset = 10\n"
     ]
    },
    {
     "name": "stdout",
     "output_type": "stream",
     "text": [
      "successes = 1, resets = 0, offset = -15.625, width = 46.875, ext_offset = 7\n"
     ]
    },
    {
     "name": "stdout",
     "output_type": "stream",
     "text": [
      "successes = 1, resets = 0, offset = -15.625, width = 46.875, ext_offset = 8\n"
     ]
    },
    {
     "name": "stdout",
     "output_type": "stream",
     "text": [
      "successes = 1, resets = 0, offset = -15.625, width = 46.875, ext_offset = 9\n"
     ]
    },
    {
     "name": "stdout",
     "output_type": "stream",
     "text": [
      "successes = 1, resets = 0, offset = -15.625, width = 46.875, ext_offset = 10\n"
     ]
    },
    {
     "name": "stdout",
     "output_type": "stream",
     "text": [
      "successes = 1, resets = 0, offset = -15.234375, width = 46.875, ext_offset = 7\n"
     ]
    },
    {
     "name": "stdout",
     "output_type": "stream",
     "text": [
      "successes = 1, resets = 0, offset = -15.234375, width = 46.875, ext_offset = 9\n"
     ]
    },
    {
     "name": "stdout",
     "output_type": "stream",
     "text": [
      "successes = 1, resets = 0, offset = -14.84375, width = 46.875, ext_offset = 7\n"
     ]
    },
    {
     "name": "stdout",
     "output_type": "stream",
     "text": [
      "successes = 1, resets = 0, offset = -14.84375, width = 46.875, ext_offset = 8\n"
     ]
    },
    {
     "name": "stdout",
     "output_type": "stream",
     "text": [
      "successes = 1, resets = 0, offset = -14.84375, width = 46.875, ext_offset = 9\n"
     ]
    },
    {
     "name": "stdout",
     "output_type": "stream",
     "text": [
      "successes = 1, resets = 0, offset = -14.84375, width = 46.875, ext_offset = 10\n"
     ]
    },
    {
     "name": "stdout",
     "output_type": "stream",
     "text": [
      "successes = 1, resets = 0, offset = -14.453125, width = 46.875, ext_offset = 10\n"
     ]
    },
    {
     "name": "stdout",
     "output_type": "stream",
     "text": [
      "successes = 1, resets = 0, offset = -14.0625, width = 46.875, ext_offset = 7\n"
     ]
    },
    {
     "name": "stdout",
     "output_type": "stream",
     "text": [
      "successes = 1, resets = 0, offset = -14.0625, width = 46.875, ext_offset = 8\n"
     ]
    },
    {
     "name": "stdout",
     "output_type": "stream",
     "text": [
      "successes = 1, resets = 0, offset = -14.0625, width = 46.875, ext_offset = 9\n"
     ]
    },
    {
     "name": "stdout",
     "output_type": "stream",
     "text": [
      "successes = 1, resets = 0, offset = -13.671875, width = 46.875, ext_offset = 7\n"
     ]
    },
    {
     "name": "stdout",
     "output_type": "stream",
     "text": [
      "successes = 1, resets = 0, offset = -13.671875, width = 46.875, ext_offset = 8\n"
     ]
    },
    {
     "name": "stdout",
     "output_type": "stream",
     "text": [
      "successes = 1, resets = 0, offset = -13.671875, width = 46.875, ext_offset = 9\n"
     ]
    },
    {
     "name": "stdout",
     "output_type": "stream",
     "text": [
      "successes = 1, resets = 0, offset = -13.671875, width = 46.875, ext_offset = 10\n"
     ]
    },
    {
     "name": "stdout",
     "output_type": "stream",
     "text": [
      "successes = 1, resets = 0, offset = -13.28125, width = 46.875, ext_offset = 9\n"
     ]
    },
    {
     "name": "stdout",
     "output_type": "stream",
     "text": [
      "successes = 1, resets = 0, offset = -13.28125, width = 46.875, ext_offset = 10\n"
     ]
    },
    {
     "name": "stdout",
     "output_type": "stream",
     "text": [
      "successes = 1, resets = 0, offset = -12.890625, width = 46.875, ext_offset = 8\n"
     ]
    },
    {
     "name": "stdout",
     "output_type": "stream",
     "text": [
      "successes = 1, resets = 0, offset = -12.890625, width = 46.875, ext_offset = 9\n"
     ]
    },
    {
     "name": "stdout",
     "output_type": "stream",
     "text": [
      "successes = 1, resets = 0, offset = -12.890625, width = 46.875, ext_offset = 10\n"
     ]
    },
    {
     "name": "stdout",
     "output_type": "stream",
     "text": [
      "successes = 1, resets = 0, offset = -12.5, width = 46.875, ext_offset = 8\n"
     ]
    },
    {
     "name": "stdout",
     "output_type": "stream",
     "text": [
      "successes = 1, resets = 0, offset = -12.5, width = 46.875, ext_offset = 9\n"
     ]
    },
    {
     "name": "stdout",
     "output_type": "stream",
     "text": [
      "successes = 1, resets = 0, offset = -12.5, width = 46.875, ext_offset = 10\n"
     ]
    },
    {
     "name": "stdout",
     "output_type": "stream",
     "text": [
      "successes = 1, resets = 0, offset = -12.109375, width = 46.875, ext_offset = 7\n"
     ]
    },
    {
     "name": "stdout",
     "output_type": "stream",
     "text": [
      "successes = 1, resets = 0, offset = -12.109375, width = 46.875, ext_offset = 8\n"
     ]
    },
    {
     "name": "stdout",
     "output_type": "stream",
     "text": [
      "successes = 1, resets = 0, offset = -12.109375, width = 46.875, ext_offset = 9\n"
     ]
    },
    {
     "name": "stdout",
     "output_type": "stream",
     "text": [
      "successes = 1, resets = 0, offset = -12.109375, width = 46.875, ext_offset = 10\n"
     ]
    },
    {
     "name": "stdout",
     "output_type": "stream",
     "text": [
      "successes = 1, resets = 0, offset = -11.71875, width = 46.875, ext_offset = 7\n"
     ]
    },
    {
     "name": "stdout",
     "output_type": "stream",
     "text": [
      "successes = 1, resets = 0, offset = -11.71875, width = 46.875, ext_offset = 8\n"
     ]
    },
    {
     "name": "stdout",
     "output_type": "stream",
     "text": [
      "successes = 1, resets = 0, offset = -11.71875, width = 46.875, ext_offset = 9\n"
     ]
    },
    {
     "name": "stdout",
     "output_type": "stream",
     "text": [
      "successes = 1, resets = 0, offset = -11.71875, width = 46.875, ext_offset = 10\n"
     ]
    },
    {
     "name": "stdout",
     "output_type": "stream",
     "text": [
      "successes = 1, resets = 0, offset = -11.328125, width = 46.875, ext_offset = 7\n"
     ]
    },
    {
     "name": "stdout",
     "output_type": "stream",
     "text": [
      "successes = 1, resets = 0, offset = -11.328125, width = 46.875, ext_offset = 8\n"
     ]
    },
    {
     "name": "stdout",
     "output_type": "stream",
     "text": [
      "successes = 1, resets = 0, offset = -11.328125, width = 46.875, ext_offset = 9\n"
     ]
    },
    {
     "name": "stdout",
     "output_type": "stream",
     "text": [
      "successes = 1, resets = 0, offset = -11.328125, width = 46.875, ext_offset = 10\n"
     ]
    },
    {
     "name": "stdout",
     "output_type": "stream",
     "text": [
      "successes = 1, resets = 0, offset = -10.9375, width = 46.875, ext_offset = 7\n"
     ]
    },
    {
     "name": "stdout",
     "output_type": "stream",
     "text": [
      "successes = 1, resets = 0, offset = -10.9375, width = 46.875, ext_offset = 8\n"
     ]
    },
    {
     "name": "stdout",
     "output_type": "stream",
     "text": [
      "successes = 1, resets = 0, offset = -10.9375, width = 46.875, ext_offset = 9\n"
     ]
    },
    {
     "name": "stdout",
     "output_type": "stream",
     "text": [
      "successes = 1, resets = 0, offset = -10.9375, width = 46.875, ext_offset = 10\n"
     ]
    },
    {
     "name": "stdout",
     "output_type": "stream",
     "text": [
      "successes = 1, resets = 0, offset = -10.546875, width = 46.875, ext_offset = 7\n"
     ]
    },
    {
     "name": "stdout",
     "output_type": "stream",
     "text": [
      "successes = 1, resets = 0, offset = -10.546875, width = 46.875, ext_offset = 8\n"
     ]
    },
    {
     "name": "stdout",
     "output_type": "stream",
     "text": [
      "successes = 1, resets = 0, offset = -10.546875, width = 46.875, ext_offset = 9\n"
     ]
    },
    {
     "name": "stdout",
     "output_type": "stream",
     "text": [
      "successes = 1, resets = 0, offset = -10.546875, width = 46.875, ext_offset = 10\n"
     ]
    },
    {
     "name": "stdout",
     "output_type": "stream",
     "text": [
      "successes = 1, resets = 0, offset = -10.15625, width = 46.875, ext_offset = 7\n"
     ]
    },
    {
     "name": "stdout",
     "output_type": "stream",
     "text": [
      "successes = 1, resets = 0, offset = -10.15625, width = 46.875, ext_offset = 8\n"
     ]
    },
    {
     "name": "stdout",
     "output_type": "stream",
     "text": [
      "successes = 1, resets = 0, offset = -10.15625, width = 46.875, ext_offset = 9\n"
     ]
    },
    {
     "name": "stdout",
     "output_type": "stream",
     "text": [
      "successes = 1, resets = 0, offset = -10.15625, width = 46.875, ext_offset = 10\n"
     ]
    },
    {
     "name": "stdout",
     "output_type": "stream",
     "text": [
      "successes = 1, resets = 0, offset = -48.046875, width = 47.265625, ext_offset = 7\n"
     ]
    },
    {
     "name": "stdout",
     "output_type": "stream",
     "text": [
      "successes = 1, resets = 0, offset = -46.875, width = 47.265625, ext_offset = 8\n"
     ]
    },
    {
     "name": "stdout",
     "output_type": "stream",
     "text": [
      "successes = 1, resets = 0, offset = -44.53125, width = 47.265625, ext_offset = 8\n"
     ]
    },
    {
     "name": "stdout",
     "output_type": "stream",
     "text": [
      "successes = 1, resets = 0, offset = -43.359375, width = 47.265625, ext_offset = 8\n"
     ]
    },
    {
     "name": "stdout",
     "output_type": "stream",
     "text": [
      "successes = 1, resets = 0, offset = -42.96875, width = 47.265625, ext_offset = 8\n"
     ]
    },
    {
     "name": "stdout",
     "output_type": "stream",
     "text": [
      "successes = 1, resets = 0, offset = -42.96875, width = 47.265625, ext_offset = 9\n"
     ]
    },
    {
     "name": "stdout",
     "output_type": "stream",
     "text": [
      "successes = 1, resets = 0, offset = -42.1875, width = 47.265625, ext_offset = 8\n"
     ]
    },
    {
     "name": "stdout",
     "output_type": "stream",
     "text": [
      "successes = 1, resets = 0, offset = -41.40625, width = 47.265625, ext_offset = 9\n"
     ]
    },
    {
     "name": "stdout",
     "output_type": "stream",
     "text": [
      "successes = 1, resets = 0, offset = -41.015625, width = 47.265625, ext_offset = 8\n"
     ]
    },
    {
     "name": "stdout",
     "output_type": "stream",
     "text": [
      "successes = 1, resets = 0, offset = -41.015625, width = 47.265625, ext_offset = 9\n"
     ]
    },
    {
     "name": "stdout",
     "output_type": "stream",
     "text": [
      "successes = 1, resets = 0, offset = -40.234375, width = 47.265625, ext_offset = 8\n"
     ]
    },
    {
     "name": "stdout",
     "output_type": "stream",
     "text": [
      "successes = 1, resets = 0, offset = -40.234375, width = 47.265625, ext_offset = 9\n"
     ]
    },
    {
     "name": "stdout",
     "output_type": "stream",
     "text": [
      "successes = 1, resets = 0, offset = -39.84375, width = 47.265625, ext_offset = 8\n"
     ]
    },
    {
     "name": "stdout",
     "output_type": "stream",
     "text": [
      "successes = 1, resets = 0, offset = -39.84375, width = 47.265625, ext_offset = 10\n"
     ]
    },
    {
     "name": "stdout",
     "output_type": "stream",
     "text": [
      "successes = 1, resets = 0, offset = -39.453125, width = 47.265625, ext_offset = 8\n"
     ]
    },
    {
     "name": "stdout",
     "output_type": "stream",
     "text": [
      "successes = 1, resets = 0, offset = -39.453125, width = 47.265625, ext_offset = 9\n"
     ]
    },
    {
     "name": "stdout",
     "output_type": "stream",
     "text": [
      "successes = 1, resets = 0, offset = -39.0625, width = 47.265625, ext_offset = 8\n"
     ]
    },
    {
     "name": "stdout",
     "output_type": "stream",
     "text": [
      "successes = 1, resets = 0, offset = -39.0625, width = 47.265625, ext_offset = 10\n"
     ]
    },
    {
     "name": "stdout",
     "output_type": "stream",
     "text": [
      "successes = 1, resets = 0, offset = -38.671875, width = 47.265625, ext_offset = 7\n"
     ]
    },
    {
     "name": "stdout",
     "output_type": "stream",
     "text": [
      "successes = 1, resets = 0, offset = -38.671875, width = 47.265625, ext_offset = 8\n"
     ]
    },
    {
     "name": "stdout",
     "output_type": "stream",
     "text": [
      "successes = 1, resets = 0, offset = -37.890625, width = 47.265625, ext_offset = 8\n"
     ]
    },
    {
     "name": "stdout",
     "output_type": "stream",
     "text": [
      "successes = 1, resets = 0, offset = -37.890625, width = 47.265625, ext_offset = 9\n"
     ]
    },
    {
     "name": "stdout",
     "output_type": "stream",
     "text": [
      "successes = 1, resets = 0, offset = -37.890625, width = 47.265625, ext_offset = 10\n"
     ]
    },
    {
     "name": "stdout",
     "output_type": "stream",
     "text": [
      "successes = 1, resets = 0, offset = -37.5, width = 47.265625, ext_offset = 9\n"
     ]
    },
    {
     "name": "stdout",
     "output_type": "stream",
     "text": [
      "successes = 1, resets = 0, offset = -37.5, width = 47.265625, ext_offset = 10\n"
     ]
    },
    {
     "name": "stdout",
     "output_type": "stream",
     "text": [
      "successes = 1, resets = 0, offset = -37.109375, width = 47.265625, ext_offset = 7\n"
     ]
    },
    {
     "name": "stdout",
     "output_type": "stream",
     "text": [
      "successes = 1, resets = 0, offset = -37.109375, width = 47.265625, ext_offset = 8\n"
     ]
    },
    {
     "name": "stdout",
     "output_type": "stream",
     "text": [
      "successes = 1, resets = 0, offset = -37.109375, width = 47.265625, ext_offset = 9\n"
     ]
    },
    {
     "name": "stdout",
     "output_type": "stream",
     "text": [
      "successes = 1, resets = 0, offset = -36.71875, width = 47.265625, ext_offset = 8\n"
     ]
    },
    {
     "name": "stdout",
     "output_type": "stream",
     "text": [
      "successes = 1, resets = 0, offset = -36.71875, width = 47.265625, ext_offset = 9\n"
     ]
    },
    {
     "name": "stdout",
     "output_type": "stream",
     "text": [
      "successes = 1, resets = 0, offset = -36.328125, width = 47.265625, ext_offset = 8\n"
     ]
    },
    {
     "name": "stdout",
     "output_type": "stream",
     "text": [
      "successes = 1, resets = 0, offset = -36.328125, width = 47.265625, ext_offset = 9\n"
     ]
    },
    {
     "name": "stdout",
     "output_type": "stream",
     "text": [
      "successes = 1, resets = 0, offset = -36.328125, width = 47.265625, ext_offset = 10\n"
     ]
    },
    {
     "name": "stdout",
     "output_type": "stream",
     "text": [
      "successes = 1, resets = 0, offset = -35.9375, width = 47.265625, ext_offset = 8\n"
     ]
    },
    {
     "name": "stdout",
     "output_type": "stream",
     "text": [
      "successes = 1, resets = 0, offset = -35.9375, width = 47.265625, ext_offset = 9\n"
     ]
    },
    {
     "name": "stdout",
     "output_type": "stream",
     "text": [
      "successes = 1, resets = 0, offset = -35.9375, width = 47.265625, ext_offset = 10\n"
     ]
    },
    {
     "name": "stdout",
     "output_type": "stream",
     "text": [
      "successes = 1, resets = 0, offset = -35.546875, width = 47.265625, ext_offset = 8\n"
     ]
    },
    {
     "name": "stdout",
     "output_type": "stream",
     "text": [
      "successes = 1, resets = 0, offset = -35.546875, width = 47.265625, ext_offset = 9\n"
     ]
    },
    {
     "name": "stdout",
     "output_type": "stream",
     "text": [
      "successes = 1, resets = 0, offset = -35.546875, width = 47.265625, ext_offset = 10\n"
     ]
    },
    {
     "name": "stdout",
     "output_type": "stream",
     "text": [
      "successes = 1, resets = 0, offset = -35.15625, width = 47.265625, ext_offset = 7\n"
     ]
    },
    {
     "name": "stdout",
     "output_type": "stream",
     "text": [
      "successes = 1, resets = 0, offset = -35.15625, width = 47.265625, ext_offset = 8\n"
     ]
    },
    {
     "name": "stdout",
     "output_type": "stream",
     "text": [
      "successes = 1, resets = 0, offset = -35.15625, width = 47.265625, ext_offset = 9\n"
     ]
    },
    {
     "name": "stdout",
     "output_type": "stream",
     "text": [
      "successes = 1, resets = 0, offset = -35.15625, width = 47.265625, ext_offset = 10\n"
     ]
    },
    {
     "name": "stdout",
     "output_type": "stream",
     "text": [
      "successes = 1, resets = 0, offset = -34.765625, width = 47.265625, ext_offset = 9\n"
     ]
    },
    {
     "name": "stdout",
     "output_type": "stream",
     "text": [
      "successes = 1, resets = 0, offset = -34.375, width = 47.265625, ext_offset = 7\n"
     ]
    },
    {
     "name": "stdout",
     "output_type": "stream",
     "text": [
      "successes = 1, resets = 0, offset = -34.375, width = 47.265625, ext_offset = 9\n"
     ]
    },
    {
     "name": "stdout",
     "output_type": "stream",
     "text": [
      "successes = 1, resets = 0, offset = -34.375, width = 47.265625, ext_offset = 10\n"
     ]
    },
    {
     "name": "stdout",
     "output_type": "stream",
     "text": [
      "successes = 1, resets = 0, offset = -33.984375, width = 47.265625, ext_offset = 8\n"
     ]
    },
    {
     "name": "stdout",
     "output_type": "stream",
     "text": [
      "successes = 1, resets = 0, offset = -33.984375, width = 47.265625, ext_offset = 9\n"
     ]
    },
    {
     "name": "stdout",
     "output_type": "stream",
     "text": [
      "successes = 1, resets = 0, offset = -33.59375, width = 47.265625, ext_offset = 7\n"
     ]
    },
    {
     "name": "stdout",
     "output_type": "stream",
     "text": [
      "successes = 1, resets = 0, offset = -33.59375, width = 47.265625, ext_offset = 8\n"
     ]
    },
    {
     "name": "stdout",
     "output_type": "stream",
     "text": [
      "successes = 1, resets = 0, offset = -33.59375, width = 47.265625, ext_offset = 9\n"
     ]
    },
    {
     "name": "stdout",
     "output_type": "stream",
     "text": [
      "successes = 1, resets = 0, offset = -32.8125, width = 47.265625, ext_offset = 8\n"
     ]
    },
    {
     "name": "stdout",
     "output_type": "stream",
     "text": [
      "successes = 1, resets = 0, offset = -32.8125, width = 47.265625, ext_offset = 10\n"
     ]
    },
    {
     "name": "stdout",
     "output_type": "stream",
     "text": [
      "successes = 1, resets = 0, offset = -32.421875, width = 47.265625, ext_offset = 8\n"
     ]
    },
    {
     "name": "stdout",
     "output_type": "stream",
     "text": [
      "successes = 1, resets = 0, offset = -32.421875, width = 47.265625, ext_offset = 9\n"
     ]
    },
    {
     "name": "stdout",
     "output_type": "stream",
     "text": [
      "successes = 1, resets = 0, offset = -32.421875, width = 47.265625, ext_offset = 10\n"
     ]
    },
    {
     "name": "stdout",
     "output_type": "stream",
     "text": [
      "successes = 1, resets = 0, offset = -32.03125, width = 47.265625, ext_offset = 7\n"
     ]
    },
    {
     "name": "stdout",
     "output_type": "stream",
     "text": [
      "successes = 1, resets = 0, offset = -32.03125, width = 47.265625, ext_offset = 8\n"
     ]
    },
    {
     "name": "stdout",
     "output_type": "stream",
     "text": [
      "successes = 1, resets = 0, offset = -32.03125, width = 47.265625, ext_offset = 9\n"
     ]
    },
    {
     "name": "stdout",
     "output_type": "stream",
     "text": [
      "successes = 1, resets = 0, offset = -32.03125, width = 47.265625, ext_offset = 10\n"
     ]
    },
    {
     "name": "stdout",
     "output_type": "stream",
     "text": [
      "successes = 1, resets = 0, offset = -31.640625, width = 47.265625, ext_offset = 9\n"
     ]
    },
    {
     "name": "stdout",
     "output_type": "stream",
     "text": [
      "successes = 1, resets = 0, offset = -31.640625, width = 47.265625, ext_offset = 10\n"
     ]
    },
    {
     "name": "stdout",
     "output_type": "stream",
     "text": [
      "successes = 1, resets = 0, offset = -31.25, width = 47.265625, ext_offset = 7\n"
     ]
    },
    {
     "name": "stdout",
     "output_type": "stream",
     "text": [
      "successes = 1, resets = 0, offset = -31.25, width = 47.265625, ext_offset = 8\n"
     ]
    },
    {
     "name": "stdout",
     "output_type": "stream",
     "text": [
      "successes = 1, resets = 0, offset = -31.25, width = 47.265625, ext_offset = 9\n"
     ]
    },
    {
     "name": "stdout",
     "output_type": "stream",
     "text": [
      "successes = 1, resets = 0, offset = -30.859375, width = 47.265625, ext_offset = 7\n"
     ]
    },
    {
     "name": "stdout",
     "output_type": "stream",
     "text": [
      "successes = 1, resets = 0, offset = -30.859375, width = 47.265625, ext_offset = 8\n"
     ]
    },
    {
     "name": "stdout",
     "output_type": "stream",
     "text": [
      "successes = 1, resets = 0, offset = -30.859375, width = 47.265625, ext_offset = 10\n"
     ]
    },
    {
     "name": "stdout",
     "output_type": "stream",
     "text": [
      "successes = 1, resets = 0, offset = -30.078125, width = 47.265625, ext_offset = 9\n"
     ]
    },
    {
     "name": "stdout",
     "output_type": "stream",
     "text": [
      "successes = 1, resets = 0, offset = -29.6875, width = 47.265625, ext_offset = 8\n"
     ]
    },
    {
     "name": "stdout",
     "output_type": "stream",
     "text": [
      "successes = 1, resets = 0, offset = -29.6875, width = 47.265625, ext_offset = 10\n"
     ]
    },
    {
     "name": "stdout",
     "output_type": "stream",
     "text": [
      "successes = 1, resets = 0, offset = -29.296875, width = 47.265625, ext_offset = 7\n"
     ]
    },
    {
     "name": "stdout",
     "output_type": "stream",
     "text": [
      "successes = 1, resets = 0, offset = -29.296875, width = 47.265625, ext_offset = 10\n"
     ]
    },
    {
     "name": "stdout",
     "output_type": "stream",
     "text": [
      "successes = 1, resets = 0, offset = -28.90625, width = 47.265625, ext_offset = 7\n"
     ]
    },
    {
     "name": "stdout",
     "output_type": "stream",
     "text": [
      "successes = 1, resets = 0, offset = -28.90625, width = 47.265625, ext_offset = 10\n"
     ]
    },
    {
     "name": "stdout",
     "output_type": "stream",
     "text": [
      "successes = 1, resets = 0, offset = -28.515625, width = 47.265625, ext_offset = 7\n"
     ]
    },
    {
     "name": "stdout",
     "output_type": "stream",
     "text": [
      "successes = 1, resets = 0, offset = -28.125, width = 47.265625, ext_offset = 9\n"
     ]
    },
    {
     "name": "stdout",
     "output_type": "stream",
     "text": [
      "successes = 1, resets = 0, offset = -27.734375, width = 47.265625, ext_offset = 8\n"
     ]
    },
    {
     "name": "stdout",
     "output_type": "stream",
     "text": [
      "successes = 1, resets = 0, offset = -27.34375, width = 47.265625, ext_offset = 9\n"
     ]
    },
    {
     "name": "stdout",
     "output_type": "stream",
     "text": [
      "successes = 1, resets = 0, offset = -26.953125, width = 47.265625, ext_offset = 8\n"
     ]
    },
    {
     "name": "stdout",
     "output_type": "stream",
     "text": [
      "successes = 1, resets = 0, offset = -26.5625, width = 47.265625, ext_offset = 7\n"
     ]
    },
    {
     "name": "stdout",
     "output_type": "stream",
     "text": [
      "successes = 1, resets = 0, offset = -25.78125, width = 47.265625, ext_offset = 8\n"
     ]
    },
    {
     "name": "stdout",
     "output_type": "stream",
     "text": [
      "successes = 1, resets = 0, offset = -25.390625, width = 47.265625, ext_offset = 7\n"
     ]
    },
    {
     "name": "stdout",
     "output_type": "stream",
     "text": [
      "successes = 1, resets = 0, offset = -25.390625, width = 47.265625, ext_offset = 10\n"
     ]
    },
    {
     "name": "stdout",
     "output_type": "stream",
     "text": [
      "successes = 1, resets = 0, offset = -24.21875, width = 47.265625, ext_offset = 9\n"
     ]
    },
    {
     "name": "stdout",
     "output_type": "stream",
     "text": [
      "successes = 1, resets = 0, offset = -24.21875, width = 47.265625, ext_offset = 10\n"
     ]
    },
    {
     "name": "stdout",
     "output_type": "stream",
     "text": [
      "successes = 1, resets = 0, offset = -23.828125, width = 47.265625, ext_offset = 7\n"
     ]
    },
    {
     "name": "stdout",
     "output_type": "stream",
     "text": [
      "successes = 1, resets = 0, offset = -23.4375, width = 47.265625, ext_offset = 10\n"
     ]
    },
    {
     "name": "stdout",
     "output_type": "stream",
     "text": [
      "successes = 1, resets = 0, offset = -23.046875, width = 47.265625, ext_offset = 7\n"
     ]
    },
    {
     "name": "stdout",
     "output_type": "stream",
     "text": [
      "successes = 1, resets = 0, offset = -23.046875, width = 47.265625, ext_offset = 8\n"
     ]
    },
    {
     "name": "stdout",
     "output_type": "stream",
     "text": [
      "successes = 1, resets = 0, offset = -23.046875, width = 47.265625, ext_offset = 9\n"
     ]
    },
    {
     "name": "stdout",
     "output_type": "stream",
     "text": [
      "successes = 1, resets = 0, offset = -21.875, width = 47.265625, ext_offset = 8\n"
     ]
    },
    {
     "name": "stdout",
     "output_type": "stream",
     "text": [
      "successes = 1, resets = 0, offset = -21.875, width = 47.265625, ext_offset = 9\n"
     ]
    },
    {
     "name": "stdout",
     "output_type": "stream",
     "text": [
      "successes = 1, resets = 0, offset = -21.875, width = 47.265625, ext_offset = 10\n"
     ]
    },
    {
     "name": "stdout",
     "output_type": "stream",
     "text": [
      "successes = 1, resets = 0, offset = -21.484375, width = 47.265625, ext_offset = 9\n"
     ]
    },
    {
     "name": "stdout",
     "output_type": "stream",
     "text": [
      "successes = 1, resets = 0, offset = -21.484375, width = 47.265625, ext_offset = 10\n"
     ]
    },
    {
     "name": "stdout",
     "output_type": "stream",
     "text": [
      "successes = 1, resets = 0, offset = -21.09375, width = 47.265625, ext_offset = 10\n"
     ]
    },
    {
     "name": "stdout",
     "output_type": "stream",
     "text": [
      "successes = 1, resets = 0, offset = -20.703125, width = 47.265625, ext_offset = 9\n"
     ]
    },
    {
     "name": "stdout",
     "output_type": "stream",
     "text": [
      "successes = 1, resets = 0, offset = -19.921875, width = 47.265625, ext_offset = 10\n"
     ]
    },
    {
     "name": "stdout",
     "output_type": "stream",
     "text": [
      "successes = 1, resets = 0, offset = -19.53125, width = 47.265625, ext_offset = 7\n"
     ]
    },
    {
     "name": "stdout",
     "output_type": "stream",
     "text": [
      "successes = 1, resets = 0, offset = -19.140625, width = 47.265625, ext_offset = 7\n"
     ]
    },
    {
     "name": "stdout",
     "output_type": "stream",
     "text": [
      "successes = 1, resets = 0, offset = -19.140625, width = 47.265625, ext_offset = 8\n"
     ]
    },
    {
     "name": "stdout",
     "output_type": "stream",
     "text": [
      "successes = 1, resets = 0, offset = -19.140625, width = 47.265625, ext_offset = 9\n"
     ]
    },
    {
     "name": "stdout",
     "output_type": "stream",
     "text": [
      "successes = 1, resets = 0, offset = -19.140625, width = 47.265625, ext_offset = 10\n"
     ]
    },
    {
     "name": "stdout",
     "output_type": "stream",
     "text": [
      "successes = 1, resets = 0, offset = -18.75, width = 47.265625, ext_offset = 9\n"
     ]
    },
    {
     "name": "stdout",
     "output_type": "stream",
     "text": [
      "successes = 1, resets = 0, offset = -18.359375, width = 47.265625, ext_offset = 7\n"
     ]
    },
    {
     "name": "stdout",
     "output_type": "stream",
     "text": [
      "successes = 1, resets = 0, offset = -18.359375, width = 47.265625, ext_offset = 9\n"
     ]
    },
    {
     "name": "stdout",
     "output_type": "stream",
     "text": [
      "successes = 1, resets = 0, offset = -17.96875, width = 47.265625, ext_offset = 7\n"
     ]
    },
    {
     "name": "stdout",
     "output_type": "stream",
     "text": [
      "successes = 1, resets = 0, offset = -17.96875, width = 47.265625, ext_offset = 8\n"
     ]
    },
    {
     "name": "stdout",
     "output_type": "stream",
     "text": [
      "successes = 1, resets = 0, offset = -17.96875, width = 47.265625, ext_offset = 9\n"
     ]
    },
    {
     "name": "stdout",
     "output_type": "stream",
     "text": [
      "successes = 1, resets = 0, offset = -17.96875, width = 47.265625, ext_offset = 10\n"
     ]
    },
    {
     "name": "stdout",
     "output_type": "stream",
     "text": [
      "successes = 1, resets = 0, offset = -17.1875, width = 47.265625, ext_offset = 8\n"
     ]
    },
    {
     "name": "stdout",
     "output_type": "stream",
     "text": [
      "successes = 1, resets = 0, offset = -16.796875, width = 47.265625, ext_offset = 7\n"
     ]
    },
    {
     "name": "stdout",
     "output_type": "stream",
     "text": [
      "successes = 1, resets = 0, offset = -16.796875, width = 47.265625, ext_offset = 9\n"
     ]
    },
    {
     "name": "stdout",
     "output_type": "stream",
     "text": [
      "successes = 1, resets = 0, offset = -16.796875, width = 47.265625, ext_offset = 10\n"
     ]
    },
    {
     "name": "stdout",
     "output_type": "stream",
     "text": [
      "successes = 1, resets = 0, offset = -15.234375, width = 47.265625, ext_offset = 10\n"
     ]
    },
    {
     "name": "stdout",
     "output_type": "stream",
     "text": [
      "successes = 1, resets = 0, offset = -14.0625, width = 47.265625, ext_offset = 7\n"
     ]
    },
    {
     "name": "stdout",
     "output_type": "stream",
     "text": [
      "successes = 1, resets = 0, offset = -14.0625, width = 47.265625, ext_offset = 10\n"
     ]
    },
    {
     "name": "stdout",
     "output_type": "stream",
     "text": [
      "successes = 1, resets = 0, offset = -13.671875, width = 47.265625, ext_offset = 8\n"
     ]
    },
    {
     "name": "stdout",
     "output_type": "stream",
     "text": [
      "successes = 1, resets = 0, offset = -12.890625, width = 47.265625, ext_offset = 8\n"
     ]
    },
    {
     "name": "stdout",
     "output_type": "stream",
     "text": [
      "successes = 1, resets = 0, offset = -12.890625, width = 47.265625, ext_offset = 9\n"
     ]
    },
    {
     "name": "stdout",
     "output_type": "stream",
     "text": [
      "successes = 1, resets = 0, offset = -12.5, width = 47.265625, ext_offset = 8\n"
     ]
    },
    {
     "name": "stdout",
     "output_type": "stream",
     "text": [
      "successes = 1, resets = 0, offset = -12.5, width = 47.265625, ext_offset = 9\n"
     ]
    },
    {
     "name": "stdout",
     "output_type": "stream",
     "text": [
      "successes = 1, resets = 0, offset = -12.109375, width = 47.265625, ext_offset = 7\n"
     ]
    },
    {
     "name": "stdout",
     "output_type": "stream",
     "text": [
      "successes = 1, resets = 0, offset = -11.71875, width = 47.265625, ext_offset = 7\n"
     ]
    },
    {
     "name": "stdout",
     "output_type": "stream",
     "text": [
      "successes = 1, resets = 0, offset = -11.71875, width = 47.265625, ext_offset = 9\n"
     ]
    },
    {
     "name": "stdout",
     "output_type": "stream",
     "text": [
      "successes = 1, resets = 0, offset = -11.328125, width = 47.265625, ext_offset = 10\n"
     ]
    },
    {
     "name": "stdout",
     "output_type": "stream",
     "text": [
      "successes = 1, resets = 0, offset = -10.9375, width = 47.265625, ext_offset = 7\n"
     ]
    },
    {
     "name": "stdout",
     "output_type": "stream",
     "text": [
      "successes = 1, resets = 0, offset = -10.9375, width = 47.265625, ext_offset = 8\n"
     ]
    },
    {
     "name": "stdout",
     "output_type": "stream",
     "text": [
      "successes = 1, resets = 0, offset = -10.9375, width = 47.265625, ext_offset = 9\n"
     ]
    },
    {
     "name": "stdout",
     "output_type": "stream",
     "text": [
      "successes = 1, resets = 0, offset = -10.546875, width = 47.265625, ext_offset = 10\n"
     ]
    },
    {
     "name": "stdout",
     "output_type": "stream",
     "text": [
      "successes = 1, resets = 0, offset = -10.15625, width = 47.265625, ext_offset = 7\n"
     ]
    },
    {
     "name": "stdout",
     "output_type": "stream",
     "text": [
      "successes = 1, resets = 0, offset = -45.703125, width = 47.65625, ext_offset = 8\n"
     ]
    },
    {
     "name": "stdout",
     "output_type": "stream",
     "text": [
      "successes = 1, resets = 0, offset = -44.921875, width = 47.65625, ext_offset = 7\n"
     ]
    },
    {
     "name": "stdout",
     "output_type": "stream",
     "text": [
      "successes = 1, resets = 0, offset = -42.578125, width = 47.65625, ext_offset = 8\n"
     ]
    },
    {
     "name": "stdout",
     "output_type": "stream",
     "text": [
      "successes = 1, resets = 0, offset = -42.578125, width = 47.65625, ext_offset = 9\n"
     ]
    },
    {
     "name": "stdout",
     "output_type": "stream",
     "text": [
      "successes = 1, resets = 0, offset = -40.234375, width = 47.65625, ext_offset = 8\n"
     ]
    },
    {
     "name": "stdout",
     "output_type": "stream",
     "text": [
      "successes = 1, resets = 0, offset = -39.84375, width = 47.65625, ext_offset = 8\n"
     ]
    },
    {
     "name": "stdout",
     "output_type": "stream",
     "text": [
      "successes = 1, resets = 0, offset = -39.453125, width = 47.65625, ext_offset = 10\n"
     ]
    },
    {
     "name": "stdout",
     "output_type": "stream",
     "text": [
      "successes = 1, resets = 0, offset = -39.0625, width = 47.65625, ext_offset = 7\n"
     ]
    },
    {
     "name": "stdout",
     "output_type": "stream",
     "text": [
      "successes = 1, resets = 0, offset = -39.0625, width = 47.65625, ext_offset = 8\n"
     ]
    },
    {
     "name": "stdout",
     "output_type": "stream",
     "text": [
      "successes = 1, resets = 0, offset = -38.671875, width = 47.65625, ext_offset = 8\n"
     ]
    },
    {
     "name": "stdout",
     "output_type": "stream",
     "text": [
      "successes = 1, resets = 0, offset = -38.671875, width = 47.65625, ext_offset = 9\n"
     ]
    },
    {
     "name": "stdout",
     "output_type": "stream",
     "text": [
      "successes = 1, resets = 0, offset = -38.671875, width = 47.65625, ext_offset = 10\n"
     ]
    },
    {
     "name": "stdout",
     "output_type": "stream",
     "text": [
      "successes = 1, resets = 0, offset = -38.28125, width = 47.65625, ext_offset = 8\n"
     ]
    },
    {
     "name": "stdout",
     "output_type": "stream",
     "text": [
      "successes = 1, resets = 0, offset = -37.109375, width = 47.65625, ext_offset = 8\n"
     ]
    },
    {
     "name": "stdout",
     "output_type": "stream",
     "text": [
      "successes = 1, resets = 0, offset = -37.109375, width = 47.65625, ext_offset = 10\n"
     ]
    },
    {
     "name": "stdout",
     "output_type": "stream",
     "text": [
      "successes = 1, resets = 0, offset = -36.328125, width = 47.65625, ext_offset = 8\n"
     ]
    },
    {
     "name": "stdout",
     "output_type": "stream",
     "text": [
      "successes = 1, resets = 0, offset = -35.9375, width = 47.65625, ext_offset = 7\n"
     ]
    },
    {
     "name": "stdout",
     "output_type": "stream",
     "text": [
      "successes = 1, resets = 0, offset = -35.9375, width = 47.65625, ext_offset = 9\n"
     ]
    },
    {
     "name": "stdout",
     "output_type": "stream",
     "text": [
      "successes = 1, resets = 0, offset = -35.546875, width = 47.65625, ext_offset = 7\n"
     ]
    },
    {
     "name": "stdout",
     "output_type": "stream",
     "text": [
      "successes = 1, resets = 0, offset = -35.546875, width = 47.65625, ext_offset = 9\n"
     ]
    },
    {
     "name": "stdout",
     "output_type": "stream",
     "text": [
      "successes = 1, resets = 0, offset = -35.15625, width = 47.65625, ext_offset = 10\n"
     ]
    },
    {
     "name": "stdout",
     "output_type": "stream",
     "text": [
      "successes = 1, resets = 0, offset = -34.375, width = 47.65625, ext_offset = 8\n"
     ]
    },
    {
     "name": "stdout",
     "output_type": "stream",
     "text": [
      "successes = 1, resets = 0, offset = -33.984375, width = 47.65625, ext_offset = 8\n"
     ]
    },
    {
     "name": "stdout",
     "output_type": "stream",
     "text": [
      "successes = 1, resets = 0, offset = -33.203125, width = 47.65625, ext_offset = 8\n"
     ]
    },
    {
     "name": "stdout",
     "output_type": "stream",
     "text": [
      "successes = 1, resets = 0, offset = -32.8125, width = 47.65625, ext_offset = 7\n"
     ]
    },
    {
     "name": "stdout",
     "output_type": "stream",
     "text": [
      "successes = 1, resets = 0, offset = -32.03125, width = 47.65625, ext_offset = 7\n"
     ]
    },
    {
     "name": "stdout",
     "output_type": "stream",
     "text": [
      "successes = 1, resets = 0, offset = -21.875, width = 47.65625, ext_offset = 8\n"
     ]
    },
    {
     "name": "stdout",
     "output_type": "stream",
     "text": [
      "successes = 1, resets = 0, offset = -21.484375, width = 47.65625, ext_offset = 8\n"
     ]
    },
    {
     "name": "stdout",
     "output_type": "stream",
     "text": [
      "successes = 1, resets = 0, offset = -19.921875, width = 47.65625, ext_offset = 7\n"
     ]
    },
    {
     "name": "stdout",
     "output_type": "stream",
     "text": [
      "successes = 1, resets = 0, offset = -11.71875, width = 47.65625, ext_offset = 8\n"
     ]
    },
    {
     "name": "stdout",
     "output_type": "stream",
     "text": [
      "successes = 1, resets = 0, offset = -10.546875, width = 47.65625, ext_offset = 10\n"
     ]
    },
    {
     "name": "stdout",
     "output_type": "stream",
     "text": [
      "Done glitching\n"
     ]
    }
   ],
   "source": [
    "import struct\n",
    "\n",
    "#disable logging\n",
    "cw.set_all_log_levels(cw.logging.CRITICAL)\n",
    "\n",
    "scope.adc.timeout = 0.5\n",
    "\n",
    "reboot_flush()\n",
    "loff = scope.glitch.offset\n",
    "lwid = scope.glitch.width\n",
    "total_successes = 0\n",
    "successes = 0\n",
    "resets = 0\n",
    "for glitch_setting in gc.glitch_values():\n",
    "    scope.glitch.offset = glitch_setting[1]\n",
    "    scope.glitch.width = glitch_setting[0]\n",
    "    scope.glitch.ext_offset = glitch_setting[2]\n",
    "    #print(scope.glitch.ext_offset)\n",
    "    if glitch_setting[3] == 1:\n",
    "        total_successes += successes\n",
    "        if (successes > 0):\n",
    "            print(\"successes = {}, resets = {}, offset = {}, width = {}, ext_offset = {}\".format(successes, resets, scope.glitch.offset, scope.glitch.width, scope.glitch.ext_offset))\n",
    "            total_successes += successes\n",
    "        successes = 0\n",
    "        resets = 0\n",
    "        #if total_successes > MAX_SUCCESSES:\n",
    "        #    break\n",
    "    target.flush()\n",
    "    if scope.adc.state:\n",
    "        # can detect crash here (fast) before timing out (slow)\n",
    "        #print(\"Trigger still high!\")\n",
    "        gc.add(\"reset\")\n",
    "\n",
    "        #Device is slow to boot?\n",
    "        reboot_flush()\n",
    "        resets += 1\n",
    "\n",
    "    scope.arm()\n",
    "\n",
    "    #Do glitch loop\n",
    "    target.simpleserial_write(\"g\", bytearray([]))\n",
    "\n",
    "    ret = scope.capture()\n",
    "\n",
    "    scope.io.vglitch_reset()\n",
    "    if ret:\n",
    "        #print('Timeout - no trigger')\n",
    "        gc.add(\"reset\")\n",
    "        resets += 1\n",
    "\n",
    "        #Device is slow to boot?\n",
    "        reboot_flush()\n",
    "\n",
    "    else:\n",
    "        val = target.simpleserial_read_witherrors('r', 4, glitch_timeout=10, timeout=50)#For loop check\n",
    "        if val['valid'] is False:\n",
    "            gc.add(\"reset\")\n",
    "            reboot_flush()\n",
    "            resets += 1\n",
    "            #print(val)\n",
    "        else:\n",
    "            gcnt = struct.unpack(\"<I\", val['payload'])[0]\n",
    "\n",
    "            if gcnt != 2500: #for loop check\n",
    "                gc.add(\"success\")\n",
    "                #print((scope.glitch.width, scope.glitch.offset, scope.glitch.ext_offset))\n",
    "                successes += 1\n",
    "            else:\n",
    "                gc.add(\"normal\")\n",
    "\n",
    "print(\"Done glitching\")\n",
    "#enable logging\n",
    "cw.set_all_log_levels(cw.logging.WARNING)"
   ]
  },
  {
   "cell_type": "markdown",
   "metadata": {},
   "source": [
    "With that done, let's print our results. You'll likely want to ignore the \"tries\" and \"ext_offset\" parameters:"
   ]
  },
  {
   "cell_type": "code",
   "execution_count": 13,
   "metadata": {
    "execution": {
     "iopub.execute_input": "2025-03-15T01:09:29.051213Z",
     "iopub.status.busy": "2025-03-15T01:09:29.050453Z",
     "iopub.status.idle": "2025-03-15T01:09:29.855564Z",
     "shell.execute_reply": "2025-03-15T01:09:29.854353Z"
    }
   },
   "outputs": [
    {
     "data": {
      "text/plain": [
       "[((47.09999999999999, -32.400000000000055),\n",
       "  {'total': 4,\n",
       "   'success': 4,\n",
       "   'success_rate': 1.0,\n",
       "   'reset': 0,\n",
       "   'reset_rate': 0.0,\n",
       "   'normal': 0,\n",
       "   'normal_rate': 0.0}),\n",
       " ((47.09999999999999, -35.600000000000044),\n",
       "  {'total': 4,\n",
       "   'success': 4,\n",
       "   'success_rate': 1.0,\n",
       "   'reset': 0,\n",
       "   'reset_rate': 0.0,\n",
       "   'normal': 0,\n",
       "   'normal_rate': 0.0}),\n",
       " ((46.69999999999999, -10.000000000000108),\n",
       "  {'total': 4,\n",
       "   'success': 4,\n",
       "   'success_rate': 1.0,\n",
       "   'reset': 0,\n",
       "   'reset_rate': 0.0,\n",
       "   'normal': 0,\n",
       "   'normal_rate': 0.0}),\n",
       " ((46.69999999999999, -10.400000000000109),\n",
       "  {'total': 4,\n",
       "   'success': 4,\n",
       "   'success_rate': 1.0,\n",
       "   'reset': 0,\n",
       "   'reset_rate': 0.0,\n",
       "   'normal': 0,\n",
       "   'normal_rate': 0.0}),\n",
       " ((46.69999999999999, -10.800000000000109),\n",
       "  {'total': 4,\n",
       "   'success': 4,\n",
       "   'success_rate': 1.0,\n",
       "   'reset': 0,\n",
       "   'reset_rate': 0.0,\n",
       "   'normal': 0,\n",
       "   'normal_rate': 0.0}),\n",
       " ((46.69999999999999, -11.20000000000011),\n",
       "  {'total': 4,\n",
       "   'success': 4,\n",
       "   'success_rate': 1.0,\n",
       "   'reset': 0,\n",
       "   'reset_rate': 0.0,\n",
       "   'normal': 0,\n",
       "   'normal_rate': 0.0}),\n",
       " ((46.69999999999999, -11.60000000000011),\n",
       "  {'total': 4,\n",
       "   'success': 4,\n",
       "   'success_rate': 1.0,\n",
       "   'reset': 0,\n",
       "   'reset_rate': 0.0,\n",
       "   'normal': 0,\n",
       "   'normal_rate': 0.0}),\n",
       " ((46.69999999999999, -12.00000000000011),\n",
       "  {'total': 4,\n",
       "   'success': 4,\n",
       "   'success_rate': 1.0,\n",
       "   'reset': 0,\n",
       "   'reset_rate': 0.0,\n",
       "   'normal': 0,\n",
       "   'normal_rate': 0.0}),\n",
       " ((46.69999999999999, -12.40000000000011),\n",
       "  {'total': 4,\n",
       "   'success': 4,\n",
       "   'success_rate': 1.0,\n",
       "   'reset': 0,\n",
       "   'reset_rate': 0.0,\n",
       "   'normal': 0,\n",
       "   'normal_rate': 0.0}),\n",
       " ((46.69999999999999, -15.600000000000113),\n",
       "  {'total': 4,\n",
       "   'success': 4,\n",
       "   'success_rate': 1.0,\n",
       "   'reset': 0,\n",
       "   'reset_rate': 0.0,\n",
       "   'normal': 0,\n",
       "   'normal_rate': 0.0}),\n",
       " ((46.69999999999999, -16.000000000000114),\n",
       "  {'total': 4,\n",
       "   'success': 4,\n",
       "   'success_rate': 1.0,\n",
       "   'reset': 0,\n",
       "   'reset_rate': 0.0,\n",
       "   'normal': 0,\n",
       "   'normal_rate': 0.0}),\n",
       " ((46.69999999999999, -16.400000000000112),\n",
       "  {'total': 4,\n",
       "   'success': 4,\n",
       "   'success_rate': 1.0,\n",
       "   'reset': 0,\n",
       "   'reset_rate': 0.0,\n",
       "   'normal': 0,\n",
       "   'normal_rate': 0.0}),\n",
       " ((46.69999999999999, -16.80000000000011),\n",
       "  {'total': 4,\n",
       "   'success': 4,\n",
       "   'success_rate': 1.0,\n",
       "   'reset': 0,\n",
       "   'reset_rate': 0.0,\n",
       "   'normal': 0,\n",
       "   'normal_rate': 0.0}),\n",
       " ((46.69999999999999, -17.20000000000011),\n",
       "  {'total': 4,\n",
       "   'success': 4,\n",
       "   'success_rate': 1.0,\n",
       "   'reset': 0,\n",
       "   'reset_rate': 0.0,\n",
       "   'normal': 0,\n",
       "   'normal_rate': 0.0}),\n",
       " ((46.69999999999999, -18.000000000000107),\n",
       "  {'total': 4,\n",
       "   'success': 4,\n",
       "   'success_rate': 1.0,\n",
       "   'reset': 0,\n",
       "   'reset_rate': 0.0,\n",
       "   'normal': 0,\n",
       "   'normal_rate': 0.0}),\n",
       " ((46.69999999999999, -19.200000000000102),\n",
       "  {'total': 4,\n",
       "   'success': 4,\n",
       "   'success_rate': 1.0,\n",
       "   'reset': 0,\n",
       "   'reset_rate': 0.0,\n",
       "   'normal': 0,\n",
       "   'normal_rate': 0.0}),\n",
       " ((46.69999999999999, -20.0000000000001),\n",
       "  {'total': 4,\n",
       "   'success': 4,\n",
       "   'success_rate': 1.0,\n",
       "   'reset': 0,\n",
       "   'reset_rate': 0.0,\n",
       "   'normal': 0,\n",
       "   'normal_rate': 0.0}),\n",
       " ((46.69999999999999, -20.800000000000097),\n",
       "  {'total': 4,\n",
       "   'success': 4,\n",
       "   'success_rate': 1.0,\n",
       "   'reset': 0,\n",
       "   'reset_rate': 0.0,\n",
       "   'normal': 0,\n",
       "   'normal_rate': 0.0}),\n",
       " ((46.69999999999999, -22.80000000000009),\n",
       "  {'total': 4,\n",
       "   'success': 4,\n",
       "   'success_rate': 1.0,\n",
       "   'reset': 0,\n",
       "   'reset_rate': 0.0,\n",
       "   'normal': 0,\n",
       "   'normal_rate': 0.0}),\n",
       " ((46.69999999999999, -23.600000000000087),\n",
       "  {'total': 4,\n",
       "   'success': 4,\n",
       "   'success_rate': 1.0,\n",
       "   'reset': 0,\n",
       "   'reset_rate': 0.0,\n",
       "   'normal': 0,\n",
       "   'normal_rate': 0.0}),\n",
       " ((46.69999999999999, -24.000000000000085),\n",
       "  {'total': 4,\n",
       "   'success': 4,\n",
       "   'success_rate': 1.0,\n",
       "   'reset': 0,\n",
       "   'reset_rate': 0.0,\n",
       "   'normal': 0,\n",
       "   'normal_rate': 0.0}),\n",
       " ((46.69999999999999, -24.400000000000084),\n",
       "  {'total': 4,\n",
       "   'success': 4,\n",
       "   'success_rate': 1.0,\n",
       "   'reset': 0,\n",
       "   'reset_rate': 0.0,\n",
       "   'normal': 0,\n",
       "   'normal_rate': 0.0}),\n",
       " ((46.69999999999999, -24.800000000000082),\n",
       "  {'total': 4,\n",
       "   'success': 4,\n",
       "   'success_rate': 1.0,\n",
       "   'reset': 0,\n",
       "   'reset_rate': 0.0,\n",
       "   'normal': 0,\n",
       "   'normal_rate': 0.0}),\n",
       " ((46.69999999999999, -26.400000000000077),\n",
       "  {'total': 4,\n",
       "   'success': 4,\n",
       "   'success_rate': 1.0,\n",
       "   'reset': 0,\n",
       "   'reset_rate': 0.0,\n",
       "   'normal': 0,\n",
       "   'normal_rate': 0.0}),\n",
       " ((46.69999999999999, -26.800000000000075),\n",
       "  {'total': 4,\n",
       "   'success': 4,\n",
       "   'success_rate': 1.0,\n",
       "   'reset': 0,\n",
       "   'reset_rate': 0.0,\n",
       "   'normal': 0,\n",
       "   'normal_rate': 0.0}),\n",
       " ((46.69999999999999, -27.200000000000074),\n",
       "  {'total': 4,\n",
       "   'success': 4,\n",
       "   'success_rate': 1.0,\n",
       "   'reset': 0,\n",
       "   'reset_rate': 0.0,\n",
       "   'normal': 0,\n",
       "   'normal_rate': 0.0}),\n",
       " ((46.69999999999999, -28.40000000000007),\n",
       "  {'total': 4,\n",
       "   'success': 4,\n",
       "   'success_rate': 1.0,\n",
       "   'reset': 0,\n",
       "   'reset_rate': 0.0,\n",
       "   'normal': 0,\n",
       "   'normal_rate': 0.0}),\n",
       " ((46.69999999999999, -28.800000000000068),\n",
       "  {'total': 4,\n",
       "   'success': 4,\n",
       "   'success_rate': 1.0,\n",
       "   'reset': 0,\n",
       "   'reset_rate': 0.0,\n",
       "   'normal': 0,\n",
       "   'normal_rate': 0.0}),\n",
       " ((46.69999999999999, -29.200000000000067),\n",
       "  {'total': 4,\n",
       "   'success': 4,\n",
       "   'success_rate': 1.0,\n",
       "   'reset': 0,\n",
       "   'reset_rate': 0.0,\n",
       "   'normal': 0,\n",
       "   'normal_rate': 0.0}),\n",
       " ((46.69999999999999, -29.600000000000065),\n",
       "  {'total': 4,\n",
       "   'success': 4,\n",
       "   'success_rate': 1.0,\n",
       "   'reset': 0,\n",
       "   'reset_rate': 0.0,\n",
       "   'normal': 0,\n",
       "   'normal_rate': 0.0}),\n",
       " ((46.69999999999999, -30.80000000000006),\n",
       "  {'total': 4,\n",
       "   'success': 4,\n",
       "   'success_rate': 1.0,\n",
       "   'reset': 0,\n",
       "   'reset_rate': 0.0,\n",
       "   'normal': 0,\n",
       "   'normal_rate': 0.0}),\n",
       " ((46.69999999999999, -31.20000000000006),\n",
       "  {'total': 4,\n",
       "   'success': 4,\n",
       "   'success_rate': 1.0,\n",
       "   'reset': 0,\n",
       "   'reset_rate': 0.0,\n",
       "   'normal': 0,\n",
       "   'normal_rate': 0.0}),\n",
       " ((46.69999999999999, -31.60000000000006),\n",
       "  {'total': 4,\n",
       "   'success': 4,\n",
       "   'success_rate': 1.0,\n",
       "   'reset': 0,\n",
       "   'reset_rate': 0.0,\n",
       "   'normal': 0,\n",
       "   'normal_rate': 0.0}),\n",
       " ((46.69999999999999, -32.00000000000006),\n",
       "  {'total': 4,\n",
       "   'success': 4,\n",
       "   'success_rate': 1.0,\n",
       "   'reset': 0,\n",
       "   'reset_rate': 0.0,\n",
       "   'normal': 0,\n",
       "   'normal_rate': 0.0}),\n",
       " ((46.29999999999999, -10.000000000000108),\n",
       "  {'total': 4,\n",
       "   'success': 4,\n",
       "   'success_rate': 1.0,\n",
       "   'reset': 0,\n",
       "   'reset_rate': 0.0,\n",
       "   'normal': 0,\n",
       "   'normal_rate': 0.0}),\n",
       " ((46.29999999999999, -12.40000000000011),\n",
       "  {'total': 4,\n",
       "   'success': 4,\n",
       "   'success_rate': 1.0,\n",
       "   'reset': 0,\n",
       "   'reset_rate': 0.0,\n",
       "   'normal': 0,\n",
       "   'normal_rate': 0.0}),\n",
       " ((46.29999999999999, -13.200000000000111),\n",
       "  {'total': 4,\n",
       "   'success': 4,\n",
       "   'success_rate': 1.0,\n",
       "   'reset': 0,\n",
       "   'reset_rate': 0.0,\n",
       "   'normal': 0,\n",
       "   'normal_rate': 0.0}),\n",
       " ((46.29999999999999, -14.000000000000112),\n",
       "  {'total': 4,\n",
       "   'success': 4,\n",
       "   'success_rate': 1.0,\n",
       "   'reset': 0,\n",
       "   'reset_rate': 0.0,\n",
       "   'normal': 0,\n",
       "   'normal_rate': 0.0}),\n",
       " ((46.29999999999999, -14.800000000000113),\n",
       "  {'total': 4,\n",
       "   'success': 4,\n",
       "   'success_rate': 1.0,\n",
       "   'reset': 0,\n",
       "   'reset_rate': 0.0,\n",
       "   'normal': 0,\n",
       "   'normal_rate': 0.0}),\n",
       " ((46.29999999999999, -15.600000000000113),\n",
       "  {'total': 4,\n",
       "   'success': 4,\n",
       "   'success_rate': 1.0,\n",
       "   'reset': 0,\n",
       "   'reset_rate': 0.0,\n",
       "   'normal': 0,\n",
       "   'normal_rate': 0.0}),\n",
       " ((46.29999999999999, -16.000000000000114),\n",
       "  {'total': 4,\n",
       "   'success': 4,\n",
       "   'success_rate': 1.0,\n",
       "   'reset': 0,\n",
       "   'reset_rate': 0.0,\n",
       "   'normal': 0,\n",
       "   'normal_rate': 0.0}),\n",
       " ((46.29999999999999, -17.600000000000108),\n",
       "  {'total': 4,\n",
       "   'success': 4,\n",
       "   'success_rate': 1.0,\n",
       "   'reset': 0,\n",
       "   'reset_rate': 0.0,\n",
       "   'normal': 0,\n",
       "   'normal_rate': 0.0}),\n",
       " ((46.29999999999999, -18.000000000000107),\n",
       "  {'total': 4,\n",
       "   'success': 4,\n",
       "   'success_rate': 1.0,\n",
       "   'reset': 0,\n",
       "   'reset_rate': 0.0,\n",
       "   'normal': 0,\n",
       "   'normal_rate': 0.0}),\n",
       " ((46.29999999999999, -18.400000000000105),\n",
       "  {'total': 4,\n",
       "   'success': 4,\n",
       "   'success_rate': 1.0,\n",
       "   'reset': 0,\n",
       "   'reset_rate': 0.0,\n",
       "   'normal': 0,\n",
       "   'normal_rate': 0.0}),\n",
       " ((46.29999999999999, -18.800000000000104),\n",
       "  {'total': 4,\n",
       "   'success': 4,\n",
       "   'success_rate': 1.0,\n",
       "   'reset': 0,\n",
       "   'reset_rate': 0.0,\n",
       "   'normal': 0,\n",
       "   'normal_rate': 0.0}),\n",
       " ((46.29999999999999, -19.200000000000102),\n",
       "  {'total': 4,\n",
       "   'success': 4,\n",
       "   'success_rate': 1.0,\n",
       "   'reset': 0,\n",
       "   'reset_rate': 0.0,\n",
       "   'normal': 0,\n",
       "   'normal_rate': 0.0}),\n",
       " ((46.29999999999999, -20.800000000000097),\n",
       "  {'total': 4,\n",
       "   'success': 4,\n",
       "   'success_rate': 1.0,\n",
       "   'reset': 0,\n",
       "   'reset_rate': 0.0,\n",
       "   'normal': 0,\n",
       "   'normal_rate': 0.0}),\n",
       " ((46.29999999999999, -21.200000000000095),\n",
       "  {'total': 4,\n",
       "   'success': 4,\n",
       "   'success_rate': 1.0,\n",
       "   'reset': 0,\n",
       "   'reset_rate': 0.0,\n",
       "   'normal': 0,\n",
       "   'normal_rate': 0.0}),\n",
       " ((46.29999999999999, -21.600000000000094),\n",
       "  {'total': 4,\n",
       "   'success': 4,\n",
       "   'success_rate': 1.0,\n",
       "   'reset': 0,\n",
       "   'reset_rate': 0.0,\n",
       "   'normal': 0,\n",
       "   'normal_rate': 0.0}),\n",
       " ((46.29999999999999, -22.40000000000009),\n",
       "  {'total': 4,\n",
       "   'success': 4,\n",
       "   'success_rate': 1.0,\n",
       "   'reset': 0,\n",
       "   'reset_rate': 0.0,\n",
       "   'normal': 0,\n",
       "   'normal_rate': 0.0}),\n",
       " ((46.29999999999999, -22.80000000000009),\n",
       "  {'total': 4,\n",
       "   'success': 4,\n",
       "   'success_rate': 1.0,\n",
       "   'reset': 0,\n",
       "   'reset_rate': 0.0,\n",
       "   'normal': 0,\n",
       "   'normal_rate': 0.0}),\n",
       " ((46.29999999999999, -23.200000000000088),\n",
       "  {'total': 4,\n",
       "   'success': 4,\n",
       "   'success_rate': 1.0,\n",
       "   'reset': 0,\n",
       "   'reset_rate': 0.0,\n",
       "   'normal': 0,\n",
       "   'normal_rate': 0.0}),\n",
       " ((46.29999999999999, -23.600000000000087),\n",
       "  {'total': 4,\n",
       "   'success': 4,\n",
       "   'success_rate': 1.0,\n",
       "   'reset': 0,\n",
       "   'reset_rate': 0.0,\n",
       "   'normal': 0,\n",
       "   'normal_rate': 0.0}),\n",
       " ((46.29999999999999, -24.000000000000085),\n",
       "  {'total': 4,\n",
       "   'success': 4,\n",
       "   'success_rate': 1.0,\n",
       "   'reset': 0,\n",
       "   'reset_rate': 0.0,\n",
       "   'normal': 0,\n",
       "   'normal_rate': 0.0}),\n",
       " ((46.29999999999999, -24.800000000000082),\n",
       "  {'total': 4,\n",
       "   'success': 4,\n",
       "   'success_rate': 1.0,\n",
       "   'reset': 0,\n",
       "   'reset_rate': 0.0,\n",
       "   'normal': 0,\n",
       "   'normal_rate': 0.0}),\n",
       " ((46.29999999999999, -26.400000000000077),\n",
       "  {'total': 4,\n",
       "   'success': 4,\n",
       "   'success_rate': 1.0,\n",
       "   'reset': 0,\n",
       "   'reset_rate': 0.0,\n",
       "   'normal': 0,\n",
       "   'normal_rate': 0.0}),\n",
       " ((46.29999999999999, -26.800000000000075),\n",
       "  {'total': 4,\n",
       "   'success': 4,\n",
       "   'success_rate': 1.0,\n",
       "   'reset': 0,\n",
       "   'reset_rate': 0.0,\n",
       "   'normal': 0,\n",
       "   'normal_rate': 0.0}),\n",
       " ((47.499999999999986, -38.80000000000003),\n",
       "  {'total': 4,\n",
       "   'success': 3,\n",
       "   'success_rate': 0.75,\n",
       "   'reset': 1,\n",
       "   'reset_rate': 0.25,\n",
       "   'normal': 0,\n",
       "   'normal_rate': 0.0}),\n",
       " ((47.09999999999999, -12.40000000000011),\n",
       "  {'total': 4,\n",
       "   'success': 3,\n",
       "   'success_rate': 0.75,\n",
       "   'reset': 1,\n",
       "   'reset_rate': 0.25,\n",
       "   'normal': 0,\n",
       "   'normal_rate': 0.0}),\n",
       " ((47.09999999999999, -18.000000000000107),\n",
       "  {'total': 4,\n",
       "   'success': 3,\n",
       "   'success_rate': 0.75,\n",
       "   'reset': 1,\n",
       "   'reset_rate': 0.25,\n",
       "   'normal': 0,\n",
       "   'normal_rate': 0.0}),\n",
       " ((47.09999999999999, -19.200000000000102),\n",
       "  {'total': 4,\n",
       "   'success': 3,\n",
       "   'success_rate': 0.75,\n",
       "   'reset': 1,\n",
       "   'reset_rate': 0.25,\n",
       "   'normal': 0,\n",
       "   'normal_rate': 0.0}),\n",
       " ((47.09999999999999, -22.000000000000092),\n",
       "  {'total': 4,\n",
       "   'success': 3,\n",
       "   'success_rate': 0.75,\n",
       "   'reset': 1,\n",
       "   'reset_rate': 0.25,\n",
       "   'normal': 0,\n",
       "   'normal_rate': 0.0}),\n",
       " ((47.09999999999999, -24.400000000000084),\n",
       "  {'total': 4,\n",
       "   'success': 3,\n",
       "   'success_rate': 0.75,\n",
       "   'reset': 1,\n",
       "   'reset_rate': 0.25,\n",
       "   'normal': 0,\n",
       "   'normal_rate': 0.0}),\n",
       " ((47.09999999999999, -29.600000000000065),\n",
       "  {'total': 4,\n",
       "   'success': 3,\n",
       "   'success_rate': 0.75,\n",
       "   'reset': 1,\n",
       "   'reset_rate': 0.25,\n",
       "   'normal': 0,\n",
       "   'normal_rate': 0.0}),\n",
       " ((47.09999999999999, -31.20000000000006),\n",
       "  {'total': 4,\n",
       "   'success': 3,\n",
       "   'success_rate': 0.75,\n",
       "   'reset': 1,\n",
       "   'reset_rate': 0.25,\n",
       "   'normal': 0,\n",
       "   'normal_rate': 0.0}),\n",
       " ((47.09999999999999, -31.60000000000006),\n",
       "  {'total': 4,\n",
       "   'success': 3,\n",
       "   'success_rate': 0.75,\n",
       "   'reset': 1,\n",
       "   'reset_rate': 0.25,\n",
       "   'normal': 0,\n",
       "   'normal_rate': 0.0}),\n",
       " ((47.09999999999999, -32.00000000000006),\n",
       "  {'total': 4,\n",
       "   'success': 3,\n",
       "   'success_rate': 0.75,\n",
       "   'reset': 1,\n",
       "   'reset_rate': 0.25,\n",
       "   'normal': 0,\n",
       "   'normal_rate': 0.0}),\n",
       " ((47.09999999999999, -34.00000000000005),\n",
       "  {'total': 4,\n",
       "   'success': 3,\n",
       "   'success_rate': 0.75,\n",
       "   'reset': 1,\n",
       "   'reset_rate': 0.25,\n",
       "   'normal': 0,\n",
       "   'normal_rate': 0.0}),\n",
       " ((47.09999999999999, -35.200000000000045),\n",
       "  {'total': 4,\n",
       "   'success': 3,\n",
       "   'success_rate': 0.75,\n",
       "   'reset': 1,\n",
       "   'reset_rate': 0.25,\n",
       "   'normal': 0,\n",
       "   'normal_rate': 0.0}),\n",
       " ((47.09999999999999, -36.00000000000004),\n",
       "  {'total': 4,\n",
       "   'success': 3,\n",
       "   'success_rate': 0.75,\n",
       "   'reset': 1,\n",
       "   'reset_rate': 0.25,\n",
       "   'normal': 0,\n",
       "   'normal_rate': 0.0}),\n",
       " ((47.09999999999999, -36.40000000000004),\n",
       "  {'total': 4,\n",
       "   'success': 3,\n",
       "   'success_rate': 0.75,\n",
       "   'reset': 0,\n",
       "   'reset_rate': 0.0,\n",
       "   'normal': 1,\n",
       "   'normal_rate': 0.25}),\n",
       " ((47.09999999999999, -37.60000000000004),\n",
       "  {'total': 4,\n",
       "   'success': 3,\n",
       "   'success_rate': 0.75,\n",
       "   'reset': 1,\n",
       "   'reset_rate': 0.25,\n",
       "   'normal': 0,\n",
       "   'normal_rate': 0.0}),\n",
       " ((47.09999999999999, -38.000000000000036),\n",
       "  {'total': 4,\n",
       "   'success': 3,\n",
       "   'success_rate': 0.75,\n",
       "   'reset': 0,\n",
       "   'reset_rate': 0.0,\n",
       "   'normal': 1,\n",
       "   'normal_rate': 0.25}),\n",
       " ((47.09999999999999, -39.20000000000003),\n",
       "  {'total': 4,\n",
       "   'success': 3,\n",
       "   'success_rate': 0.75,\n",
       "   'reset': 0,\n",
       "   'reset_rate': 0.0,\n",
       "   'normal': 1,\n",
       "   'normal_rate': 0.25}),\n",
       " ((46.69999999999999, -12.80000000000011),\n",
       "  {'total': 4,\n",
       "   'success': 3,\n",
       "   'success_rate': 0.75,\n",
       "   'reset': 1,\n",
       "   'reset_rate': 0.25,\n",
       "   'normal': 0,\n",
       "   'normal_rate': 0.0}),\n",
       " ((46.69999999999999, -13.600000000000112),\n",
       "  {'total': 4,\n",
       "   'success': 3,\n",
       "   'success_rate': 0.75,\n",
       "   'reset': 1,\n",
       "   'reset_rate': 0.25,\n",
       "   'normal': 0,\n",
       "   'normal_rate': 0.0}),\n",
       " ((46.69999999999999, -14.000000000000112),\n",
       "  {'total': 4,\n",
       "   'success': 3,\n",
       "   'success_rate': 0.75,\n",
       "   'reset': 1,\n",
       "   'reset_rate': 0.25,\n",
       "   'normal': 0,\n",
       "   'normal_rate': 0.0}),\n",
       " ((46.69999999999999, -14.800000000000113),\n",
       "  {'total': 4,\n",
       "   'success': 3,\n",
       "   'success_rate': 0.75,\n",
       "   'reset': 1,\n",
       "   'reset_rate': 0.25,\n",
       "   'normal': 0,\n",
       "   'normal_rate': 0.0}),\n",
       " ((46.69999999999999, -17.600000000000108),\n",
       "  {'total': 4,\n",
       "   'success': 3,\n",
       "   'success_rate': 0.75,\n",
       "   'reset': 1,\n",
       "   'reset_rate': 0.25,\n",
       "   'normal': 0,\n",
       "   'normal_rate': 0.0}),\n",
       " ((46.69999999999999, -18.400000000000105),\n",
       "  {'total': 4,\n",
       "   'success': 3,\n",
       "   'success_rate': 0.75,\n",
       "   'reset': 1,\n",
       "   'reset_rate': 0.25,\n",
       "   'normal': 0,\n",
       "   'normal_rate': 0.0}),\n",
       " ((46.69999999999999, -18.800000000000104),\n",
       "  {'total': 4,\n",
       "   'success': 3,\n",
       "   'success_rate': 0.75,\n",
       "   'reset': 1,\n",
       "   'reset_rate': 0.25,\n",
       "   'normal': 0,\n",
       "   'normal_rate': 0.0}),\n",
       " ((46.69999999999999, -20.400000000000098),\n",
       "  {'total': 4,\n",
       "   'success': 3,\n",
       "   'success_rate': 0.75,\n",
       "   'reset': 1,\n",
       "   'reset_rate': 0.25,\n",
       "   'normal': 0,\n",
       "   'normal_rate': 0.0}),\n",
       " ((46.69999999999999, -21.200000000000095),\n",
       "  {'total': 4,\n",
       "   'success': 3,\n",
       "   'success_rate': 0.75,\n",
       "   'reset': 1,\n",
       "   'reset_rate': 0.25,\n",
       "   'normal': 0,\n",
       "   'normal_rate': 0.0}),\n",
       " ((46.69999999999999, -21.600000000000094),\n",
       "  {'total': 4,\n",
       "   'success': 3,\n",
       "   'success_rate': 0.75,\n",
       "   'reset': 1,\n",
       "   'reset_rate': 0.25,\n",
       "   'normal': 0,\n",
       "   'normal_rate': 0.0}),\n",
       " ((46.69999999999999, -22.000000000000092),\n",
       "  {'total': 4,\n",
       "   'success': 3,\n",
       "   'success_rate': 0.75,\n",
       "   'reset': 1,\n",
       "   'reset_rate': 0.25,\n",
       "   'normal': 0,\n",
       "   'normal_rate': 0.0}),\n",
       " ((46.69999999999999, -22.40000000000009),\n",
       "  {'total': 4,\n",
       "   'success': 3,\n",
       "   'success_rate': 0.75,\n",
       "   'reset': 1,\n",
       "   'reset_rate': 0.25,\n",
       "   'normal': 0,\n",
       "   'normal_rate': 0.0}),\n",
       " ((46.69999999999999, -23.200000000000088),\n",
       "  {'total': 4,\n",
       "   'success': 3,\n",
       "   'success_rate': 0.75,\n",
       "   'reset': 1,\n",
       "   'reset_rate': 0.25,\n",
       "   'normal': 0,\n",
       "   'normal_rate': 0.0}),\n",
       " ((46.69999999999999, -26.000000000000078),\n",
       "  {'total': 4,\n",
       "   'success': 3,\n",
       "   'success_rate': 0.75,\n",
       "   'reset': 1,\n",
       "   'reset_rate': 0.25,\n",
       "   'normal': 0,\n",
       "   'normal_rate': 0.0}),\n",
       " ((46.69999999999999, -27.600000000000072),\n",
       "  {'total': 4,\n",
       "   'success': 3,\n",
       "   'success_rate': 0.75,\n",
       "   'reset': 1,\n",
       "   'reset_rate': 0.25,\n",
       "   'normal': 0,\n",
       "   'normal_rate': 0.0}),\n",
       " ((46.69999999999999, -28.00000000000007),\n",
       "  {'total': 4,\n",
       "   'success': 3,\n",
       "   'success_rate': 0.75,\n",
       "   'reset': 0,\n",
       "   'reset_rate': 0.0,\n",
       "   'normal': 1,\n",
       "   'normal_rate': 0.25}),\n",
       " ((46.69999999999999, -30.000000000000064),\n",
       "  {'total': 4,\n",
       "   'success': 3,\n",
       "   'success_rate': 0.75,\n",
       "   'reset': 1,\n",
       "   'reset_rate': 0.25,\n",
       "   'normal': 0,\n",
       "   'normal_rate': 0.0}),\n",
       " ((46.69999999999999, -30.400000000000063),\n",
       "  {'total': 4,\n",
       "   'success': 3,\n",
       "   'success_rate': 0.75,\n",
       "   'reset': 0,\n",
       "   'reset_rate': 0.0,\n",
       "   'normal': 1,\n",
       "   'normal_rate': 0.25}),\n",
       " ((46.69999999999999, -32.400000000000055),\n",
       "  {'total': 4,\n",
       "   'success': 3,\n",
       "   'success_rate': 0.75,\n",
       "   'reset': 0,\n",
       "   'reset_rate': 0.0,\n",
       "   'normal': 1,\n",
       "   'normal_rate': 0.25}),\n",
       " ((46.69999999999999, -32.800000000000054),\n",
       "  {'total': 4,\n",
       "   'success': 3,\n",
       "   'success_rate': 0.75,\n",
       "   'reset': 0,\n",
       "   'reset_rate': 0.0,\n",
       "   'normal': 1,\n",
       "   'normal_rate': 0.25}),\n",
       " ((46.69999999999999, -33.20000000000005),\n",
       "  {'total': 4,\n",
       "   'success': 3,\n",
       "   'success_rate': 0.75,\n",
       "   'reset': 0,\n",
       "   'reset_rate': 0.0,\n",
       "   'normal': 1,\n",
       "   'normal_rate': 0.25}),\n",
       " ((46.69999999999999, -33.60000000000005),\n",
       "  {'total': 4,\n",
       "   'success': 3,\n",
       "   'success_rate': 0.75,\n",
       "   'reset': 0,\n",
       "   'reset_rate': 0.0,\n",
       "   'normal': 1,\n",
       "   'normal_rate': 0.25}),\n",
       " ((46.69999999999999, -34.00000000000005),\n",
       "  {'total': 4,\n",
       "   'success': 3,\n",
       "   'success_rate': 0.75,\n",
       "   'reset': 0,\n",
       "   'reset_rate': 0.0,\n",
       "   'normal': 1,\n",
       "   'normal_rate': 0.25}),\n",
       " ((46.69999999999999, -34.40000000000005),\n",
       "  {'total': 4,\n",
       "   'success': 3,\n",
       "   'success_rate': 0.75,\n",
       "   'reset': 0,\n",
       "   'reset_rate': 0.0,\n",
       "   'normal': 1,\n",
       "   'normal_rate': 0.25}),\n",
       " ((46.69999999999999, -35.200000000000045),\n",
       "  {'total': 4,\n",
       "   'success': 3,\n",
       "   'success_rate': 0.75,\n",
       "   'reset': 0,\n",
       "   'reset_rate': 0.0,\n",
       "   'normal': 1,\n",
       "   'normal_rate': 0.25}),\n",
       " ((46.69999999999999, -35.600000000000044),\n",
       "  {'total': 4,\n",
       "   'success': 3,\n",
       "   'success_rate': 0.75,\n",
       "   'reset': 0,\n",
       "   'reset_rate': 0.0,\n",
       "   'normal': 1,\n",
       "   'normal_rate': 0.25}),\n",
       " ((46.29999999999999, -10.400000000000109),\n",
       "  {'total': 4,\n",
       "   'success': 3,\n",
       "   'success_rate': 0.75,\n",
       "   'reset': 0,\n",
       "   'reset_rate': 0.0,\n",
       "   'normal': 1,\n",
       "   'normal_rate': 0.25}),\n",
       " ((46.29999999999999, -10.800000000000109),\n",
       "  {'total': 4,\n",
       "   'success': 3,\n",
       "   'success_rate': 0.75,\n",
       "   'reset': 0,\n",
       "   'reset_rate': 0.0,\n",
       "   'normal': 1,\n",
       "   'normal_rate': 0.25}),\n",
       " ((46.29999999999999, -11.20000000000011),\n",
       "  {'total': 4,\n",
       "   'success': 3,\n",
       "   'success_rate': 0.75,\n",
       "   'reset': 0,\n",
       "   'reset_rate': 0.0,\n",
       "   'normal': 1,\n",
       "   'normal_rate': 0.25}),\n",
       " ((46.29999999999999, -11.60000000000011),\n",
       "  {'total': 4,\n",
       "   'success': 3,\n",
       "   'success_rate': 0.75,\n",
       "   'reset': 0,\n",
       "   'reset_rate': 0.0,\n",
       "   'normal': 1,\n",
       "   'normal_rate': 0.25}),\n",
       " ((46.29999999999999, -12.00000000000011),\n",
       "  {'total': 4,\n",
       "   'success': 3,\n",
       "   'success_rate': 0.75,\n",
       "   'reset': 0,\n",
       "   'reset_rate': 0.0,\n",
       "   'normal': 1,\n",
       "   'normal_rate': 0.25}),\n",
       " ((46.29999999999999, -12.80000000000011),\n",
       "  {'total': 4,\n",
       "   'success': 3,\n",
       "   'success_rate': 0.75,\n",
       "   'reset': 0,\n",
       "   'reset_rate': 0.0,\n",
       "   'normal': 1,\n",
       "   'normal_rate': 0.25}),\n",
       " ((46.29999999999999, -14.400000000000112),\n",
       "  {'total': 4,\n",
       "   'success': 3,\n",
       "   'success_rate': 0.75,\n",
       "   'reset': 0,\n",
       "   'reset_rate': 0.0,\n",
       "   'normal': 1,\n",
       "   'normal_rate': 0.25}),\n",
       " ((46.29999999999999, -16.400000000000112),\n",
       "  {'total': 4,\n",
       "   'success': 3,\n",
       "   'success_rate': 0.75,\n",
       "   'reset': 0,\n",
       "   'reset_rate': 0.0,\n",
       "   'normal': 1,\n",
       "   'normal_rate': 0.25}),\n",
       " ((46.29999999999999, -16.80000000000011),\n",
       "  {'total': 4,\n",
       "   'success': 3,\n",
       "   'success_rate': 0.75,\n",
       "   'reset': 0,\n",
       "   'reset_rate': 0.0,\n",
       "   'normal': 1,\n",
       "   'normal_rate': 0.25}),\n",
       " ((46.29999999999999, -17.20000000000011),\n",
       "  {'total': 4,\n",
       "   'success': 3,\n",
       "   'success_rate': 0.75,\n",
       "   'reset': 0,\n",
       "   'reset_rate': 0.0,\n",
       "   'normal': 1,\n",
       "   'normal_rate': 0.25}),\n",
       " ((46.29999999999999, -19.6000000000001),\n",
       "  {'total': 4,\n",
       "   'success': 3,\n",
       "   'success_rate': 0.75,\n",
       "   'reset': 0,\n",
       "   'reset_rate': 0.0,\n",
       "   'normal': 1,\n",
       "   'normal_rate': 0.25}),\n",
       " ((46.29999999999999, -20.0000000000001),\n",
       "  {'total': 4,\n",
       "   'success': 3,\n",
       "   'success_rate': 0.75,\n",
       "   'reset': 0,\n",
       "   'reset_rate': 0.0,\n",
       "   'normal': 1,\n",
       "   'normal_rate': 0.25}),\n",
       " ((46.29999999999999, -20.400000000000098),\n",
       "  {'total': 4,\n",
       "   'success': 3,\n",
       "   'success_rate': 0.75,\n",
       "   'reset': 0,\n",
       "   'reset_rate': 0.0,\n",
       "   'normal': 1,\n",
       "   'normal_rate': 0.25}),\n",
       " ((46.29999999999999, -22.000000000000092),\n",
       "  {'total': 4,\n",
       "   'success': 3,\n",
       "   'success_rate': 0.75,\n",
       "   'reset': 0,\n",
       "   'reset_rate': 0.0,\n",
       "   'normal': 1,\n",
       "   'normal_rate': 0.25}),\n",
       " ((46.29999999999999, -24.400000000000084),\n",
       "  {'total': 4,\n",
       "   'success': 3,\n",
       "   'success_rate': 0.75,\n",
       "   'reset': 0,\n",
       "   'reset_rate': 0.0,\n",
       "   'normal': 1,\n",
       "   'normal_rate': 0.25}),\n",
       " ((46.29999999999999, -25.20000000000008),\n",
       "  {'total': 4,\n",
       "   'success': 3,\n",
       "   'success_rate': 0.75,\n",
       "   'reset': 0,\n",
       "   'reset_rate': 0.0,\n",
       "   'normal': 1,\n",
       "   'normal_rate': 0.25}),\n",
       " ((46.29999999999999, -27.200000000000074),\n",
       "  {'total': 4,\n",
       "   'success': 3,\n",
       "   'success_rate': 0.75,\n",
       "   'reset': 0,\n",
       "   'reset_rate': 0.0,\n",
       "   'normal': 1,\n",
       "   'normal_rate': 0.25}),\n",
       " ((46.29999999999999, -27.600000000000072),\n",
       "  {'total': 4,\n",
       "   'success': 3,\n",
       "   'success_rate': 0.75,\n",
       "   'reset': 0,\n",
       "   'reset_rate': 0.0,\n",
       "   'normal': 1,\n",
       "   'normal_rate': 0.25}),\n",
       " ((46.29999999999999, -28.00000000000007),\n",
       "  {'total': 4,\n",
       "   'success': 3,\n",
       "   'success_rate': 0.75,\n",
       "   'reset': 0,\n",
       "   'reset_rate': 0.0,\n",
       "   'normal': 1,\n",
       "   'normal_rate': 0.25}),\n",
       " ((46.29999999999999, -28.40000000000007),\n",
       "  {'total': 4,\n",
       "   'success': 3,\n",
       "   'success_rate': 0.75,\n",
       "   'reset': 0,\n",
       "   'reset_rate': 0.0,\n",
       "   'normal': 1,\n",
       "   'normal_rate': 0.25}),\n",
       " ((46.29999999999999, -30.000000000000064),\n",
       "  {'total': 4,\n",
       "   'success': 3,\n",
       "   'success_rate': 0.75,\n",
       "   'reset': 0,\n",
       "   'reset_rate': 0.0,\n",
       "   'normal': 1,\n",
       "   'normal_rate': 0.25}),\n",
       " ((47.499999999999986, -33.20000000000005),\n",
       "  {'total': 4,\n",
       "   'success': 2,\n",
       "   'success_rate': 0.5,\n",
       "   'reset': 2,\n",
       "   'reset_rate': 0.5,\n",
       "   'normal': 0,\n",
       "   'normal_rate': 0.0}),\n",
       " ((47.499999999999986, -36.00000000000004),\n",
       "  {'total': 4,\n",
       "   'success': 2,\n",
       "   'success_rate': 0.5,\n",
       "   'reset': 2,\n",
       "   'reset_rate': 0.5,\n",
       "   'normal': 0,\n",
       "   'normal_rate': 0.0}),\n",
       " ((47.499999999999986, -36.40000000000004),\n",
       "  {'total': 4,\n",
       "   'success': 2,\n",
       "   'success_rate': 0.5,\n",
       "   'reset': 2,\n",
       "   'reset_rate': 0.5,\n",
       "   'normal': 0,\n",
       "   'normal_rate': 0.0}),\n",
       " ((47.499999999999986, -37.20000000000004),\n",
       "  {'total': 4,\n",
       "   'success': 2,\n",
       "   'success_rate': 0.5,\n",
       "   'reset': 2,\n",
       "   'reset_rate': 0.5,\n",
       "   'normal': 0,\n",
       "   'normal_rate': 0.0}),\n",
       " ((47.499999999999986, -39.60000000000003),\n",
       "  {'total': 4,\n",
       "   'success': 2,\n",
       "   'success_rate': 0.5,\n",
       "   'reset': 2,\n",
       "   'reset_rate': 0.5,\n",
       "   'normal': 0,\n",
       "   'normal_rate': 0.0}),\n",
       " ((47.499999999999986, -42.40000000000002),\n",
       "  {'total': 4,\n",
       "   'success': 2,\n",
       "   'success_rate': 0.5,\n",
       "   'reset': 2,\n",
       "   'reset_rate': 0.5,\n",
       "   'normal': 0,\n",
       "   'normal_rate': 0.0}),\n",
       " ((47.09999999999999, -10.400000000000109),\n",
       "  {'total': 4,\n",
       "   'success': 2,\n",
       "   'success_rate': 0.5,\n",
       "   'reset': 2,\n",
       "   'reset_rate': 0.5,\n",
       "   'normal': 0,\n",
       "   'normal_rate': 0.0}),\n",
       " ((47.09999999999999, -10.800000000000109),\n",
       "  {'total': 4,\n",
       "   'success': 2,\n",
       "   'success_rate': 0.5,\n",
       "   'reset': 2,\n",
       "   'reset_rate': 0.5,\n",
       "   'normal': 0,\n",
       "   'normal_rate': 0.0}),\n",
       " ((47.09999999999999, -11.20000000000011),\n",
       "  {'total': 4,\n",
       "   'success': 2,\n",
       "   'success_rate': 0.5,\n",
       "   'reset': 2,\n",
       "   'reset_rate': 0.5,\n",
       "   'normal': 0,\n",
       "   'normal_rate': 0.0}),\n",
       " ((47.09999999999999, -12.80000000000011),\n",
       "  {'total': 4,\n",
       "   'success': 2,\n",
       "   'success_rate': 0.5,\n",
       "   'reset': 2,\n",
       "   'reset_rate': 0.5,\n",
       "   'normal': 0,\n",
       "   'normal_rate': 0.0}),\n",
       " ((47.09999999999999, -16.80000000000011),\n",
       "  {'total': 4,\n",
       "   'success': 2,\n",
       "   'success_rate': 0.5,\n",
       "   'reset': 2,\n",
       "   'reset_rate': 0.5,\n",
       "   'normal': 0,\n",
       "   'normal_rate': 0.0}),\n",
       " ((47.09999999999999, -17.20000000000011),\n",
       "  {'total': 4,\n",
       "   'success': 2,\n",
       "   'success_rate': 0.5,\n",
       "   'reset': 2,\n",
       "   'reset_rate': 0.5,\n",
       "   'normal': 0,\n",
       "   'normal_rate': 0.0}),\n",
       " ((47.09999999999999, -18.400000000000105),\n",
       "  {'total': 4,\n",
       "   'success': 2,\n",
       "   'success_rate': 0.5,\n",
       "   'reset': 2,\n",
       "   'reset_rate': 0.5,\n",
       "   'normal': 0,\n",
       "   'normal_rate': 0.0}),\n",
       " ((47.09999999999999, -18.800000000000104),\n",
       "  {'total': 4,\n",
       "   'success': 2,\n",
       "   'success_rate': 0.5,\n",
       "   'reset': 2,\n",
       "   'reset_rate': 0.5,\n",
       "   'normal': 0,\n",
       "   'normal_rate': 0.0}),\n",
       " ((47.09999999999999, -20.0000000000001),\n",
       "  {'total': 4,\n",
       "   'success': 2,\n",
       "   'success_rate': 0.5,\n",
       "   'reset': 2,\n",
       "   'reset_rate': 0.5,\n",
       "   'normal': 0,\n",
       "   'normal_rate': 0.0}),\n",
       " ((47.09999999999999, -21.600000000000094),\n",
       "  {'total': 4,\n",
       "   'success': 2,\n",
       "   'success_rate': 0.5,\n",
       "   'reset': 2,\n",
       "   'reset_rate': 0.5,\n",
       "   'normal': 0,\n",
       "   'normal_rate': 0.0}),\n",
       " ((47.09999999999999, -23.200000000000088),\n",
       "  {'total': 4,\n",
       "   'success': 2,\n",
       "   'success_rate': 0.5,\n",
       "   'reset': 2,\n",
       "   'reset_rate': 0.5,\n",
       "   'normal': 0,\n",
       "   'normal_rate': 0.0}),\n",
       " ((47.09999999999999, -23.600000000000087),\n",
       "  {'total': 4,\n",
       "   'success': 2,\n",
       "   'success_rate': 0.5,\n",
       "   'reset': 2,\n",
       "   'reset_rate': 0.5,\n",
       "   'normal': 0,\n",
       "   'normal_rate': 0.0}),\n",
       " ((47.09999999999999, -25.60000000000008),\n",
       "  {'total': 4,\n",
       "   'success': 2,\n",
       "   'success_rate': 0.5,\n",
       "   'reset': 2,\n",
       "   'reset_rate': 0.5,\n",
       "   'normal': 0,\n",
       "   'normal_rate': 0.0}),\n",
       " ((47.09999999999999, -26.800000000000075),\n",
       "  {'total': 4,\n",
       "   'success': 2,\n",
       "   'success_rate': 0.5,\n",
       "   'reset': 2,\n",
       "   'reset_rate': 0.5,\n",
       "   'normal': 0,\n",
       "   'normal_rate': 0.0}),\n",
       " ((47.09999999999999, -28.800000000000068),\n",
       "  {'total': 4,\n",
       "   'success': 2,\n",
       "   'success_rate': 0.5,\n",
       "   'reset': 2,\n",
       "   'reset_rate': 0.5,\n",
       "   'normal': 0,\n",
       "   'normal_rate': 0.0}),\n",
       " ((47.09999999999999, -29.200000000000067),\n",
       "  {'total': 4,\n",
       "   'success': 2,\n",
       "   'success_rate': 0.5,\n",
       "   'reset': 2,\n",
       "   'reset_rate': 0.5,\n",
       "   'normal': 0,\n",
       "   'normal_rate': 0.0}),\n",
       " ((47.09999999999999, -30.80000000000006),\n",
       "  {'total': 4,\n",
       "   'success': 2,\n",
       "   'success_rate': 0.5,\n",
       "   'reset': 2,\n",
       "   'reset_rate': 0.5,\n",
       "   'normal': 0,\n",
       "   'normal_rate': 0.0}),\n",
       " ((47.09999999999999, -32.800000000000054),\n",
       "  {'total': 4,\n",
       "   'success': 2,\n",
       "   'success_rate': 0.5,\n",
       "   'reset': 2,\n",
       "   'reset_rate': 0.5,\n",
       "   'normal': 0,\n",
       "   'normal_rate': 0.0}),\n",
       " ((47.09999999999999, -33.60000000000005),\n",
       "  {'total': 4,\n",
       "   'success': 2,\n",
       "   'success_rate': 0.5,\n",
       "   'reset': 2,\n",
       "   'reset_rate': 0.5,\n",
       "   'normal': 0,\n",
       "   'normal_rate': 0.0}),\n",
       " ((47.09999999999999, -34.40000000000005),\n",
       "  {'total': 4,\n",
       "   'success': 2,\n",
       "   'success_rate': 0.5,\n",
       "   'reset': 2,\n",
       "   'reset_rate': 0.5,\n",
       "   'normal': 0,\n",
       "   'normal_rate': 0.0}),\n",
       " ((47.09999999999999, -34.80000000000005),\n",
       "  {'total': 4,\n",
       "   'success': 2,\n",
       "   'success_rate': 0.5,\n",
       "   'reset': 2,\n",
       "   'reset_rate': 0.5,\n",
       "   'normal': 0,\n",
       "   'normal_rate': 0.0}),\n",
       " ((47.09999999999999, -36.80000000000004),\n",
       "  {'total': 4,\n",
       "   'success': 2,\n",
       "   'success_rate': 0.5,\n",
       "   'reset': 2,\n",
       "   'reset_rate': 0.5,\n",
       "   'normal': 0,\n",
       "   'normal_rate': 0.0}),\n",
       " ((47.09999999999999, -37.20000000000004),\n",
       "  {'total': 4,\n",
       "   'success': 2,\n",
       "   'success_rate': 0.5,\n",
       "   'reset': 0,\n",
       "   'reset_rate': 0.0,\n",
       "   'normal': 2,\n",
       "   'normal_rate': 0.5}),\n",
       " ((47.09999999999999, -39.60000000000003),\n",
       "  {'total': 4,\n",
       "   'success': 2,\n",
       "   'success_rate': 0.5,\n",
       "   'reset': 0,\n",
       "   'reset_rate': 0.0,\n",
       "   'normal': 2,\n",
       "   'normal_rate': 0.5}),\n",
       " ((47.09999999999999, -40.00000000000003),\n",
       "  {'total': 4,\n",
       "   'success': 2,\n",
       "   'success_rate': 0.5,\n",
       "   'reset': 0,\n",
       "   'reset_rate': 0.0,\n",
       "   'normal': 2,\n",
       "   'normal_rate': 0.5}),\n",
       " ((47.09999999999999, -40.40000000000003),\n",
       "  {'total': 4,\n",
       "   'success': 2,\n",
       "   'success_rate': 0.5,\n",
       "   'reset': 1,\n",
       "   'reset_rate': 0.25,\n",
       "   'normal': 1,\n",
       "   'normal_rate': 0.25}),\n",
       " ((47.09999999999999, -41.200000000000024),\n",
       "  {'total': 4,\n",
       "   'success': 2,\n",
       "   'success_rate': 0.5,\n",
       "   'reset': 1,\n",
       "   'reset_rate': 0.25,\n",
       "   'normal': 1,\n",
       "   'normal_rate': 0.25}),\n",
       " ((47.09999999999999, -42.80000000000002),\n",
       "  {'total': 4,\n",
       "   'success': 2,\n",
       "   'success_rate': 0.5,\n",
       "   'reset': 0,\n",
       "   'reset_rate': 0.0,\n",
       "   'normal': 2,\n",
       "   'normal_rate': 0.5}),\n",
       " ((46.69999999999999, -13.200000000000111),\n",
       "  {'total': 4,\n",
       "   'success': 2,\n",
       "   'success_rate': 0.5,\n",
       "   'reset': 2,\n",
       "   'reset_rate': 0.5,\n",
       "   'normal': 0,\n",
       "   'normal_rate': 0.0}),\n",
       " ((46.69999999999999, -14.400000000000112),\n",
       "  {'total': 4,\n",
       "   'success': 2,\n",
       "   'success_rate': 0.5,\n",
       "   'reset': 2,\n",
       "   'reset_rate': 0.5,\n",
       "   'normal': 0,\n",
       "   'normal_rate': 0.0}),\n",
       " ((46.69999999999999, -15.200000000000113),\n",
       "  {'total': 4,\n",
       "   'success': 2,\n",
       "   'success_rate': 0.5,\n",
       "   'reset': 2,\n",
       "   'reset_rate': 0.5,\n",
       "   'normal': 0,\n",
       "   'normal_rate': 0.0}),\n",
       " ((46.69999999999999, -19.6000000000001),\n",
       "  {'total': 4,\n",
       "   'success': 2,\n",
       "   'success_rate': 0.5,\n",
       "   'reset': 2,\n",
       "   'reset_rate': 0.5,\n",
       "   'normal': 0,\n",
       "   'normal_rate': 0.0}),\n",
       " ((46.69999999999999, -25.20000000000008),\n",
       "  {'total': 4,\n",
       "   'success': 2,\n",
       "   'success_rate': 0.5,\n",
       "   'reset': 2,\n",
       "   'reset_rate': 0.5,\n",
       "   'normal': 0,\n",
       "   'normal_rate': 0.0}),\n",
       " ((46.69999999999999, -25.60000000000008),\n",
       "  {'total': 4,\n",
       "   'success': 2,\n",
       "   'success_rate': 0.5,\n",
       "   'reset': 2,\n",
       "   'reset_rate': 0.5,\n",
       "   'normal': 0,\n",
       "   'normal_rate': 0.0}),\n",
       " ((46.69999999999999, -34.80000000000005),\n",
       "  {'total': 4,\n",
       "   'success': 2,\n",
       "   'success_rate': 0.5,\n",
       "   'reset': 0,\n",
       "   'reset_rate': 0.0,\n",
       "   'normal': 2,\n",
       "   'normal_rate': 0.5}),\n",
       " ((46.69999999999999, -36.40000000000004),\n",
       "  {'total': 4,\n",
       "   'success': 2,\n",
       "   'success_rate': 0.5,\n",
       "   'reset': 0,\n",
       "   'reset_rate': 0.0,\n",
       "   'normal': 2,\n",
       "   'normal_rate': 0.5}),\n",
       " ((46.69999999999999, -36.80000000000004),\n",
       "  {'total': 4,\n",
       "   'success': 2,\n",
       "   'success_rate': 0.5,\n",
       "   'reset': 0,\n",
       "   'reset_rate': 0.0,\n",
       "   'normal': 2,\n",
       "   'normal_rate': 0.5}),\n",
       " ((46.29999999999999, -13.600000000000112),\n",
       "  {'total': 4,\n",
       "   'success': 2,\n",
       "   'success_rate': 0.5,\n",
       "   'reset': 0,\n",
       "   'reset_rate': 0.0,\n",
       "   'normal': 2,\n",
       "   'normal_rate': 0.5}),\n",
       " ((46.29999999999999, -15.200000000000113),\n",
       "  {'total': 4,\n",
       "   'success': 2,\n",
       "   'success_rate': 0.5,\n",
       "   'reset': 0,\n",
       "   'reset_rate': 0.0,\n",
       "   'normal': 2,\n",
       "   'normal_rate': 0.5}),\n",
       " ((46.29999999999999, -25.60000000000008),\n",
       "  {'total': 4,\n",
       "   'success': 2,\n",
       "   'success_rate': 0.5,\n",
       "   'reset': 0,\n",
       "   'reset_rate': 0.0,\n",
       "   'normal': 2,\n",
       "   'normal_rate': 0.5}),\n",
       " ((46.29999999999999, -26.000000000000078),\n",
       "  {'total': 4,\n",
       "   'success': 2,\n",
       "   'success_rate': 0.5,\n",
       "   'reset': 0,\n",
       "   'reset_rate': 0.0,\n",
       "   'normal': 2,\n",
       "   'normal_rate': 0.5}),\n",
       " ((46.29999999999999, -28.800000000000068),\n",
       "  {'total': 4,\n",
       "   'success': 2,\n",
       "   'success_rate': 0.5,\n",
       "   'reset': 0,\n",
       "   'reset_rate': 0.0,\n",
       "   'normal': 2,\n",
       "   'normal_rate': 0.5}),\n",
       " ((46.29999999999999, -29.600000000000065),\n",
       "  {'total': 4,\n",
       "   'success': 2,\n",
       "   'success_rate': 0.5,\n",
       "   'reset': 0,\n",
       "   'reset_rate': 0.0,\n",
       "   'normal': 2,\n",
       "   'normal_rate': 0.5}),\n",
       " ((46.29999999999999, -30.400000000000063),\n",
       "  {'total': 4,\n",
       "   'success': 2,\n",
       "   'success_rate': 0.5,\n",
       "   'reset': 0,\n",
       "   'reset_rate': 0.0,\n",
       "   'normal': 2,\n",
       "   'normal_rate': 0.5}),\n",
       " ((46.29999999999999, -34.00000000000005),\n",
       "  {'total': 4,\n",
       "   'success': 2,\n",
       "   'success_rate': 0.5,\n",
       "   'reset': 0,\n",
       "   'reset_rate': 0.0,\n",
       "   'normal': 2,\n",
       "   'normal_rate': 0.5}),\n",
       " ((45.89999999999999, -15.600000000000113),\n",
       "  {'total': 4,\n",
       "   'success': 2,\n",
       "   'success_rate': 0.5,\n",
       "   'reset': 0,\n",
       "   'reset_rate': 0.0,\n",
       "   'normal': 2,\n",
       "   'normal_rate': 0.5}),\n",
       " ((45.89999999999999, -16.80000000000011),\n",
       "  {'total': 4,\n",
       "   'success': 2,\n",
       "   'success_rate': 0.5,\n",
       "   'reset': 0,\n",
       "   'reset_rate': 0.0,\n",
       "   'normal': 2,\n",
       "   'normal_rate': 0.5}),\n",
       " ((45.89999999999999, -18.000000000000107),\n",
       "  {'total': 4,\n",
       "   'success': 2,\n",
       "   'success_rate': 0.5,\n",
       "   'reset': 0,\n",
       "   'reset_rate': 0.0,\n",
       "   'normal': 2,\n",
       "   'normal_rate': 0.5}),\n",
       " ((45.89999999999999, -18.400000000000105),\n",
       "  {'total': 4,\n",
       "   'success': 2,\n",
       "   'success_rate': 0.5,\n",
       "   'reset': 0,\n",
       "   'reset_rate': 0.0,\n",
       "   'normal': 2,\n",
       "   'normal_rate': 0.5}),\n",
       " ((45.89999999999999, -18.800000000000104),\n",
       "  {'total': 4,\n",
       "   'success': 2,\n",
       "   'success_rate': 0.5,\n",
       "   'reset': 0,\n",
       "   'reset_rate': 0.0,\n",
       "   'normal': 2,\n",
       "   'normal_rate': 0.5}),\n",
       " ((45.89999999999999, -19.200000000000102),\n",
       "  {'total': 4,\n",
       "   'success': 2,\n",
       "   'success_rate': 0.5,\n",
       "   'reset': 0,\n",
       "   'reset_rate': 0.0,\n",
       "   'normal': 2,\n",
       "   'normal_rate': 0.5}),\n",
       " ((45.89999999999999, -24.800000000000082),\n",
       "  {'total': 4,\n",
       "   'success': 2,\n",
       "   'success_rate': 0.5,\n",
       "   'reset': 0,\n",
       "   'reset_rate': 0.0,\n",
       "   'normal': 2,\n",
       "   'normal_rate': 0.5}),\n",
       " ((47.499999999999986, -10.400000000000109),\n",
       "  {'total': 4,\n",
       "   'success': 1,\n",
       "   'success_rate': 0.25,\n",
       "   'reset': 3,\n",
       "   'reset_rate': 0.75,\n",
       "   'normal': 0,\n",
       "   'normal_rate': 0.0}),\n",
       " ((47.499999999999986, -11.60000000000011),\n",
       "  {'total': 4,\n",
       "   'success': 1,\n",
       "   'success_rate': 0.25,\n",
       "   'reset': 3,\n",
       "   'reset_rate': 0.75,\n",
       "   'normal': 0,\n",
       "   'normal_rate': 0.0}),\n",
       " ((47.499999999999986, -20.400000000000098),\n",
       "  {'total': 4,\n",
       "   'success': 1,\n",
       "   'success_rate': 0.25,\n",
       "   'reset': 3,\n",
       "   'reset_rate': 0.75,\n",
       "   'normal': 0,\n",
       "   'normal_rate': 0.0}),\n",
       " ((47.499999999999986, -21.600000000000094),\n",
       "  {'total': 4,\n",
       "   'success': 1,\n",
       "   'success_rate': 0.25,\n",
       "   'reset': 3,\n",
       "   'reset_rate': 0.75,\n",
       "   'normal': 0,\n",
       "   'normal_rate': 0.0}),\n",
       " ((47.499999999999986, -22.000000000000092),\n",
       "  {'total': 4,\n",
       "   'success': 1,\n",
       "   'success_rate': 0.25,\n",
       "   'reset': 3,\n",
       "   'reset_rate': 0.75,\n",
       "   'normal': 0,\n",
       "   'normal_rate': 0.0}),\n",
       " ((47.499999999999986, -32.400000000000055),\n",
       "  {'total': 4,\n",
       "   'success': 1,\n",
       "   'success_rate': 0.25,\n",
       "   'reset': 3,\n",
       "   'reset_rate': 0.75,\n",
       "   'normal': 0,\n",
       "   'normal_rate': 0.0}),\n",
       " ((47.499999999999986, -34.00000000000005),\n",
       "  {'total': 4,\n",
       "   'success': 1,\n",
       "   'success_rate': 0.25,\n",
       "   'reset': 3,\n",
       "   'reset_rate': 0.75,\n",
       "   'normal': 0,\n",
       "   'normal_rate': 0.0}),\n",
       " ((47.499999999999986, -34.40000000000005),\n",
       "  {'total': 4,\n",
       "   'success': 1,\n",
       "   'success_rate': 0.25,\n",
       "   'reset': 3,\n",
       "   'reset_rate': 0.75,\n",
       "   'normal': 0,\n",
       "   'normal_rate': 0.0}),\n",
       " ((47.499999999999986, -35.200000000000045),\n",
       "  {'total': 4,\n",
       "   'success': 1,\n",
       "   'success_rate': 0.25,\n",
       "   'reset': 3,\n",
       "   'reset_rate': 0.75,\n",
       "   'normal': 0,\n",
       "   'normal_rate': 0.0}),\n",
       " ((47.499999999999986, -35.600000000000044),\n",
       "  {'total': 4,\n",
       "   'success': 1,\n",
       "   'success_rate': 0.25,\n",
       "   'reset': 3,\n",
       "   'reset_rate': 0.75,\n",
       "   'normal': 0,\n",
       "   'normal_rate': 0.0}),\n",
       " ((47.499999999999986, -38.400000000000034),\n",
       "  {'total': 4,\n",
       "   'success': 1,\n",
       "   'success_rate': 0.25,\n",
       "   'reset': 3,\n",
       "   'reset_rate': 0.75,\n",
       "   'normal': 0,\n",
       "   'normal_rate': 0.0}),\n",
       " ((47.499999999999986, -39.20000000000003),\n",
       "  {'total': 4,\n",
       "   'success': 1,\n",
       "   'success_rate': 0.25,\n",
       "   'reset': 3,\n",
       "   'reset_rate': 0.75,\n",
       "   'normal': 0,\n",
       "   'normal_rate': 0.0}),\n",
       " ((47.499999999999986, -40.00000000000003),\n",
       "  {'total': 4,\n",
       "   'success': 1,\n",
       "   'success_rate': 0.25,\n",
       "   'reset': 3,\n",
       "   'reset_rate': 0.75,\n",
       "   'normal': 0,\n",
       "   'normal_rate': 0.0}),\n",
       " ((47.499999999999986, -40.40000000000003),\n",
       "  {'total': 4,\n",
       "   'success': 1,\n",
       "   'success_rate': 0.25,\n",
       "   'reset': 3,\n",
       "   'reset_rate': 0.75,\n",
       "   'normal': 0,\n",
       "   'normal_rate': 0.0}),\n",
       " ((47.499999999999986, -45.20000000000001),\n",
       "  {'total': 4,\n",
       "   'success': 1,\n",
       "   'success_rate': 0.25,\n",
       "   'reset': 3,\n",
       "   'reset_rate': 0.75,\n",
       "   'normal': 0,\n",
       "   'normal_rate': 0.0}),\n",
       " ((47.499999999999986, -45.60000000000001),\n",
       "  {'total': 4,\n",
       "   'success': 1,\n",
       "   'success_rate': 0.25,\n",
       "   'reset': 2,\n",
       "   'reset_rate': 0.5,\n",
       "   'normal': 1,\n",
       "   'normal_rate': 0.25}),\n",
       " ((47.09999999999999, -11.60000000000011),\n",
       "  {'total': 4,\n",
       "   'success': 1,\n",
       "   'success_rate': 0.25,\n",
       "   'reset': 3,\n",
       "   'reset_rate': 0.75,\n",
       "   'normal': 0,\n",
       "   'normal_rate': 0.0}),\n",
       " ((47.09999999999999, -12.00000000000011),\n",
       "  {'total': 4,\n",
       "   'success': 1,\n",
       "   'success_rate': 0.25,\n",
       "   'reset': 3,\n",
       "   'reset_rate': 0.75,\n",
       "   'normal': 0,\n",
       "   'normal_rate': 0.0}),\n",
       " ((47.09999999999999, -13.600000000000112),\n",
       "  {'total': 4,\n",
       "   'success': 1,\n",
       "   'success_rate': 0.25,\n",
       "   'reset': 3,\n",
       "   'reset_rate': 0.75,\n",
       "   'normal': 0,\n",
       "   'normal_rate': 0.0}),\n",
       " ((47.09999999999999, -14.000000000000112),\n",
       "  {'total': 4,\n",
       "   'success': 1,\n",
       "   'success_rate': 0.25,\n",
       "   'reset': 3,\n",
       "   'reset_rate': 0.75,\n",
       "   'normal': 0,\n",
       "   'normal_rate': 0.0}),\n",
       " ((47.09999999999999, -14.400000000000112),\n",
       "  {'total': 4,\n",
       "   'success': 1,\n",
       "   'success_rate': 0.25,\n",
       "   'reset': 3,\n",
       "   'reset_rate': 0.75,\n",
       "   'normal': 0,\n",
       "   'normal_rate': 0.0}),\n",
       " ((47.09999999999999, -15.200000000000113),\n",
       "  {'total': 4,\n",
       "   'success': 1,\n",
       "   'success_rate': 0.25,\n",
       "   'reset': 3,\n",
       "   'reset_rate': 0.75,\n",
       "   'normal': 0,\n",
       "   'normal_rate': 0.0}),\n",
       " ((47.09999999999999, -19.6000000000001),\n",
       "  {'total': 4,\n",
       "   'success': 1,\n",
       "   'success_rate': 0.25,\n",
       "   'reset': 3,\n",
       "   'reset_rate': 0.75,\n",
       "   'normal': 0,\n",
       "   'normal_rate': 0.0}),\n",
       " ((47.09999999999999, -20.800000000000097),\n",
       "  {'total': 4,\n",
       "   'success': 1,\n",
       "   'success_rate': 0.25,\n",
       "   'reset': 3,\n",
       "   'reset_rate': 0.75,\n",
       "   'normal': 0,\n",
       "   'normal_rate': 0.0}),\n",
       " ((47.09999999999999, -21.200000000000095),\n",
       "  {'total': 4,\n",
       "   'success': 1,\n",
       "   'success_rate': 0.25,\n",
       "   'reset': 3,\n",
       "   'reset_rate': 0.75,\n",
       "   'normal': 0,\n",
       "   'normal_rate': 0.0}),\n",
       " ((47.09999999999999, -25.20000000000008),\n",
       "  {'total': 4,\n",
       "   'success': 1,\n",
       "   'success_rate': 0.25,\n",
       "   'reset': 3,\n",
       "   'reset_rate': 0.75,\n",
       "   'normal': 0,\n",
       "   'normal_rate': 0.0}),\n",
       " ((47.09999999999999, -27.200000000000074),\n",
       "  {'total': 4,\n",
       "   'success': 1,\n",
       "   'success_rate': 0.25,\n",
       "   'reset': 3,\n",
       "   'reset_rate': 0.75,\n",
       "   'normal': 0,\n",
       "   'normal_rate': 0.0}),\n",
       " ((47.09999999999999, -27.600000000000072),\n",
       "  {'total': 4,\n",
       "   'success': 1,\n",
       "   'success_rate': 0.25,\n",
       "   'reset': 3,\n",
       "   'reset_rate': 0.75,\n",
       "   'normal': 0,\n",
       "   'normal_rate': 0.0}),\n",
       " ((47.09999999999999, -28.00000000000007),\n",
       "  {'total': 4,\n",
       "   'success': 1,\n",
       "   'success_rate': 0.25,\n",
       "   'reset': 3,\n",
       "   'reset_rate': 0.75,\n",
       "   'normal': 0,\n",
       "   'normal_rate': 0.0}),\n",
       " ((47.09999999999999, -30.000000000000064),\n",
       "  {'total': 4,\n",
       "   'success': 1,\n",
       "   'success_rate': 0.25,\n",
       "   'reset': 3,\n",
       "   'reset_rate': 0.75,\n",
       "   'normal': 0,\n",
       "   'normal_rate': 0.0}),\n",
       " ((47.09999999999999, -38.80000000000003),\n",
       "  {'total': 4,\n",
       "   'success': 1,\n",
       "   'success_rate': 0.25,\n",
       "   'reset': 1,\n",
       "   'reset_rate': 0.25,\n",
       "   'normal': 2,\n",
       "   'normal_rate': 0.5}),\n",
       " ((47.09999999999999, -41.60000000000002),\n",
       "  {'total': 4,\n",
       "   'success': 1,\n",
       "   'success_rate': 0.25,\n",
       "   'reset': 1,\n",
       "   'reset_rate': 0.25,\n",
       "   'normal': 2,\n",
       "   'normal_rate': 0.5}),\n",
       " ((47.09999999999999, -42.00000000000002),\n",
       "  {'total': 4,\n",
       "   'success': 1,\n",
       "   'success_rate': 0.25,\n",
       "   'reset': 1,\n",
       "   'reset_rate': 0.25,\n",
       "   'normal': 2,\n",
       "   'normal_rate': 0.5}),\n",
       " ((47.09999999999999, -43.20000000000002),\n",
       "  {'total': 4,\n",
       "   'success': 1,\n",
       "   'success_rate': 0.25,\n",
       "   'reset': 1,\n",
       "   'reset_rate': 0.25,\n",
       "   'normal': 2,\n",
       "   'normal_rate': 0.5}),\n",
       " ((47.09999999999999, -44.40000000000001),\n",
       "  {'total': 4,\n",
       "   'success': 1,\n",
       "   'success_rate': 0.25,\n",
       "   'reset': 1,\n",
       "   'reset_rate': 0.25,\n",
       "   'normal': 2,\n",
       "   'normal_rate': 0.5}),\n",
       " ((47.09999999999999, -46.800000000000004),\n",
       "  {'total': 4,\n",
       "   'success': 1,\n",
       "   'success_rate': 0.25,\n",
       "   'reset': 3,\n",
       "   'reset_rate': 0.75,\n",
       "   'normal': 0,\n",
       "   'normal_rate': 0.0}),\n",
       " ((46.69999999999999, -37.60000000000004),\n",
       "  {'total': 4,\n",
       "   'success': 1,\n",
       "   'success_rate': 0.25,\n",
       "   'reset': 0,\n",
       "   'reset_rate': 0.0,\n",
       "   'normal': 3,\n",
       "   'normal_rate': 0.75}),\n",
       " ((46.69999999999999, -38.000000000000036),\n",
       "  {'total': 4,\n",
       "   'success': 1,\n",
       "   'success_rate': 0.25,\n",
       "   'reset': 0,\n",
       "   'reset_rate': 0.0,\n",
       "   'normal': 3,\n",
       "   'normal_rate': 0.75}),\n",
       " ((46.69999999999999, -38.400000000000034),\n",
       "  {'total': 4,\n",
       "   'success': 1,\n",
       "   'success_rate': 0.25,\n",
       "   'reset': 0,\n",
       "   'reset_rate': 0.0,\n",
       "   'normal': 3,\n",
       "   'normal_rate': 0.75}),\n",
       " ((46.69999999999999, -38.80000000000003),\n",
       "  {'total': 4,\n",
       "   'success': 1,\n",
       "   'success_rate': 0.25,\n",
       "   'reset': 0,\n",
       "   'reset_rate': 0.0,\n",
       "   'normal': 3,\n",
       "   'normal_rate': 0.75}),\n",
       " ((46.69999999999999, -39.20000000000003),\n",
       "  {'total': 4,\n",
       "   'success': 1,\n",
       "   'success_rate': 0.25,\n",
       "   'reset': 0,\n",
       "   'reset_rate': 0.0,\n",
       "   'normal': 3,\n",
       "   'normal_rate': 0.75}),\n",
       " ((46.69999999999999, -39.60000000000003),\n",
       "  {'total': 4,\n",
       "   'success': 1,\n",
       "   'success_rate': 0.25,\n",
       "   'reset': 0,\n",
       "   'reset_rate': 0.0,\n",
       "   'normal': 3,\n",
       "   'normal_rate': 0.75}),\n",
       " ((46.69999999999999, -40.00000000000003),\n",
       "  {'total': 4,\n",
       "   'success': 1,\n",
       "   'success_rate': 0.25,\n",
       "   'reset': 0,\n",
       "   'reset_rate': 0.0,\n",
       "   'normal': 3,\n",
       "   'normal_rate': 0.75}),\n",
       " ((46.69999999999999, -40.40000000000003),\n",
       "  {'total': 4,\n",
       "   'success': 1,\n",
       "   'success_rate': 0.25,\n",
       "   'reset': 0,\n",
       "   'reset_rate': 0.0,\n",
       "   'normal': 3,\n",
       "   'normal_rate': 0.75}),\n",
       " ((46.69999999999999, -41.200000000000024),\n",
       "  {'total': 4,\n",
       "   'success': 1,\n",
       "   'success_rate': 0.25,\n",
       "   'reset': 0,\n",
       "   'reset_rate': 0.0,\n",
       "   'normal': 3,\n",
       "   'normal_rate': 0.75}),\n",
       " ((46.69999999999999, -41.60000000000002),\n",
       "  {'total': 4,\n",
       "   'success': 1,\n",
       "   'success_rate': 0.25,\n",
       "   'reset': 0,\n",
       "   'reset_rate': 0.0,\n",
       "   'normal': 3,\n",
       "   'normal_rate': 0.75}),\n",
       " ((46.69999999999999, -42.00000000000002),\n",
       "  {'total': 4,\n",
       "   'success': 1,\n",
       "   'success_rate': 0.25,\n",
       "   'reset': 0,\n",
       "   'reset_rate': 0.0,\n",
       "   'normal': 3,\n",
       "   'normal_rate': 0.75}),\n",
       " ((46.69999999999999, -42.40000000000002),\n",
       "  {'total': 4,\n",
       "   'success': 1,\n",
       "   'success_rate': 0.25,\n",
       "   'reset': 0,\n",
       "   'reset_rate': 0.0,\n",
       "   'normal': 3,\n",
       "   'normal_rate': 0.75}),\n",
       " ((46.69999999999999, -42.80000000000002),\n",
       "  {'total': 4,\n",
       "   'success': 1,\n",
       "   'success_rate': 0.25,\n",
       "   'reset': 0,\n",
       "   'reset_rate': 0.0,\n",
       "   'normal': 3,\n",
       "   'normal_rate': 0.75}),\n",
       " ((46.69999999999999, -43.20000000000002),\n",
       "  {'total': 4,\n",
       "   'success': 1,\n",
       "   'success_rate': 0.25,\n",
       "   'reset': 0,\n",
       "   'reset_rate': 0.0,\n",
       "   'normal': 3,\n",
       "   'normal_rate': 0.75}),\n",
       " ((46.69999999999999, -43.600000000000016),\n",
       "  {'total': 4,\n",
       "   'success': 1,\n",
       "   'success_rate': 0.25,\n",
       "   'reset': 0,\n",
       "   'reset_rate': 0.0,\n",
       "   'normal': 3,\n",
       "   'normal_rate': 0.75}),\n",
       " ((46.69999999999999, -44.000000000000014),\n",
       "  {'total': 4,\n",
       "   'success': 1,\n",
       "   'success_rate': 0.25,\n",
       "   'reset': 0,\n",
       "   'reset_rate': 0.0,\n",
       "   'normal': 3,\n",
       "   'normal_rate': 0.75}),\n",
       " ((46.69999999999999, -44.40000000000001),\n",
       "  {'total': 4,\n",
       "   'success': 1,\n",
       "   'success_rate': 0.25,\n",
       "   'reset': 0,\n",
       "   'reset_rate': 0.0,\n",
       "   'normal': 3,\n",
       "   'normal_rate': 0.75}),\n",
       " ((46.69999999999999, -44.80000000000001),\n",
       "  {'total': 4,\n",
       "   'success': 1,\n",
       "   'success_rate': 0.25,\n",
       "   'reset': 1,\n",
       "   'reset_rate': 0.25,\n",
       "   'normal': 2,\n",
       "   'normal_rate': 0.5}),\n",
       " ((46.69999999999999, -45.20000000000001),\n",
       "  {'total': 4,\n",
       "   'success': 1,\n",
       "   'success_rate': 0.25,\n",
       "   'reset': 0,\n",
       "   'reset_rate': 0.0,\n",
       "   'normal': 3,\n",
       "   'normal_rate': 0.75}),\n",
       " ((46.69999999999999, -45.60000000000001),\n",
       "  {'total': 4,\n",
       "   'success': 1,\n",
       "   'success_rate': 0.25,\n",
       "   'reset': 0,\n",
       "   'reset_rate': 0.0,\n",
       "   'normal': 3,\n",
       "   'normal_rate': 0.75}),\n",
       " ((46.69999999999999, -46.00000000000001),\n",
       "  {'total': 4,\n",
       "   'success': 1,\n",
       "   'success_rate': 0.25,\n",
       "   'reset': 2,\n",
       "   'reset_rate': 0.5,\n",
       "   'normal': 1,\n",
       "   'normal_rate': 0.25}),\n",
       " ((46.69999999999999, -46.400000000000006),\n",
       "  {'total': 4,\n",
       "   'success': 1,\n",
       "   'success_rate': 0.25,\n",
       "   'reset': 1,\n",
       "   'reset_rate': 0.25,\n",
       "   'normal': 2,\n",
       "   'normal_rate': 0.5}),\n",
       " ((46.69999999999999, -46.800000000000004),\n",
       "  {'total': 4,\n",
       "   'success': 1,\n",
       "   'success_rate': 0.25,\n",
       "   'reset': 2,\n",
       "   'reset_rate': 0.5,\n",
       "   'normal': 1,\n",
       "   'normal_rate': 0.25}),\n",
       " ((46.69999999999999, -47.2),\n",
       "  {'total': 4,\n",
       "   'success': 1,\n",
       "   'success_rate': 0.25,\n",
       "   'reset': 0,\n",
       "   'reset_rate': 0.0,\n",
       "   'normal': 3,\n",
       "   'normal_rate': 0.75}),\n",
       " ((46.69999999999999, -48),\n",
       "  {'total': 4,\n",
       "   'success': 1,\n",
       "   'success_rate': 0.25,\n",
       "   'reset': 0,\n",
       "   'reset_rate': 0.0,\n",
       "   'normal': 3,\n",
       "   'normal_rate': 0.75}),\n",
       " ((46.29999999999999, -29.200000000000067),\n",
       "  {'total': 4,\n",
       "   'success': 1,\n",
       "   'success_rate': 0.25,\n",
       "   'reset': 0,\n",
       "   'reset_rate': 0.0,\n",
       "   'normal': 3,\n",
       "   'normal_rate': 0.75}),\n",
       " ((46.29999999999999, -30.80000000000006),\n",
       "  {'total': 4,\n",
       "   'success': 1,\n",
       "   'success_rate': 0.25,\n",
       "   'reset': 0,\n",
       "   'reset_rate': 0.0,\n",
       "   'normal': 3,\n",
       "   'normal_rate': 0.75}),\n",
       " ((46.29999999999999, -31.20000000000006),\n",
       "  {'total': 4,\n",
       "   'success': 1,\n",
       "   'success_rate': 0.25,\n",
       "   'reset': 0,\n",
       "   'reset_rate': 0.0,\n",
       "   'normal': 3,\n",
       "   'normal_rate': 0.75}),\n",
       " ((46.29999999999999, -31.60000000000006),\n",
       "  {'total': 4,\n",
       "   'success': 1,\n",
       "   'success_rate': 0.25,\n",
       "   'reset': 0,\n",
       "   'reset_rate': 0.0,\n",
       "   'normal': 3,\n",
       "   'normal_rate': 0.75}),\n",
       " ((46.29999999999999, -33.20000000000005),\n",
       "  {'total': 4,\n",
       "   'success': 1,\n",
       "   'success_rate': 0.25,\n",
       "   'reset': 0,\n",
       "   'reset_rate': 0.0,\n",
       "   'normal': 3,\n",
       "   'normal_rate': 0.75}),\n",
       " ((46.29999999999999, -34.40000000000005),\n",
       "  {'total': 4,\n",
       "   'success': 1,\n",
       "   'success_rate': 0.25,\n",
       "   'reset': 0,\n",
       "   'reset_rate': 0.0,\n",
       "   'normal': 3,\n",
       "   'normal_rate': 0.75}),\n",
       " ((46.29999999999999, -36.00000000000004),\n",
       "  {'total': 4,\n",
       "   'success': 1,\n",
       "   'success_rate': 0.25,\n",
       "   'reset': 0,\n",
       "   'reset_rate': 0.0,\n",
       "   'normal': 3,\n",
       "   'normal_rate': 0.75}),\n",
       " ((46.29999999999999, -40.00000000000003),\n",
       "  {'total': 4,\n",
       "   'success': 1,\n",
       "   'success_rate': 0.25,\n",
       "   'reset': 0,\n",
       "   'reset_rate': 0.0,\n",
       "   'normal': 3,\n",
       "   'normal_rate': 0.75}),\n",
       " ((46.29999999999999, -42.00000000000002),\n",
       "  {'total': 4,\n",
       "   'success': 1,\n",
       "   'success_rate': 0.25,\n",
       "   'reset': 0,\n",
       "   'reset_rate': 0.0,\n",
       "   'normal': 3,\n",
       "   'normal_rate': 0.75}),\n",
       " ((46.29999999999999, -42.40000000000002),\n",
       "  {'total': 4,\n",
       "   'success': 1,\n",
       "   'success_rate': 0.25,\n",
       "   'reset': 0,\n",
       "   'reset_rate': 0.0,\n",
       "   'normal': 3,\n",
       "   'normal_rate': 0.75}),\n",
       " ((46.29999999999999, -42.80000000000002),\n",
       "  {'total': 4,\n",
       "   'success': 1,\n",
       "   'success_rate': 0.25,\n",
       "   'reset': 0,\n",
       "   'reset_rate': 0.0,\n",
       "   'normal': 3,\n",
       "   'normal_rate': 0.75}),\n",
       " ((46.29999999999999, -43.20000000000002),\n",
       "  {'total': 4,\n",
       "   'success': 1,\n",
       "   'success_rate': 0.25,\n",
       "   'reset': 0,\n",
       "   'reset_rate': 0.0,\n",
       "   'normal': 3,\n",
       "   'normal_rate': 0.75}),\n",
       " ((46.29999999999999, -44.80000000000001),\n",
       "  {'total': 4,\n",
       "   'success': 1,\n",
       "   'success_rate': 0.25,\n",
       "   'reset': 0,\n",
       "   'reset_rate': 0.0,\n",
       "   'normal': 3,\n",
       "   'normal_rate': 0.75}),\n",
       " ((46.29999999999999, -45.60000000000001),\n",
       "  {'total': 4,\n",
       "   'success': 1,\n",
       "   'success_rate': 0.25,\n",
       "   'reset': 0,\n",
       "   'reset_rate': 0.0,\n",
       "   'normal': 3,\n",
       "   'normal_rate': 0.75}),\n",
       " ((46.29999999999999, -46.00000000000001),\n",
       "  {'total': 4,\n",
       "   'success': 1,\n",
       "   'success_rate': 0.25,\n",
       "   'reset': 0,\n",
       "   'reset_rate': 0.0,\n",
       "   'normal': 3,\n",
       "   'normal_rate': 0.75}),\n",
       " ((46.29999999999999, -46.400000000000006),\n",
       "  {'total': 4,\n",
       "   'success': 1,\n",
       "   'success_rate': 0.25,\n",
       "   'reset': 0,\n",
       "   'reset_rate': 0.0,\n",
       "   'normal': 3,\n",
       "   'normal_rate': 0.75}),\n",
       " ((46.29999999999999, -48),\n",
       "  {'total': 4,\n",
       "   'success': 1,\n",
       "   'success_rate': 0.25,\n",
       "   'reset': 0,\n",
       "   'reset_rate': 0.0,\n",
       "   'normal': 3,\n",
       "   'normal_rate': 0.75}),\n",
       " ((45.89999999999999, -10.000000000000108),\n",
       "  {'total': 4,\n",
       "   'success': 1,\n",
       "   'success_rate': 0.25,\n",
       "   'reset': 0,\n",
       "   'reset_rate': 0.0,\n",
       "   'normal': 3,\n",
       "   'normal_rate': 0.75}),\n",
       " ((45.89999999999999, -10.400000000000109),\n",
       "  {'total': 4,\n",
       "   'success': 1,\n",
       "   'success_rate': 0.25,\n",
       "   'reset': 0,\n",
       "   'reset_rate': 0.0,\n",
       "   'normal': 3,\n",
       "   'normal_rate': 0.75}),\n",
       " ((45.89999999999999, -12.00000000000011),\n",
       "  {'total': 4,\n",
       "   'success': 1,\n",
       "   'success_rate': 0.25,\n",
       "   'reset': 0,\n",
       "   'reset_rate': 0.0,\n",
       "   'normal': 3,\n",
       "   'normal_rate': 0.75}),\n",
       " ((45.89999999999999, -12.80000000000011),\n",
       "  {'total': 4,\n",
       "   'success': 1,\n",
       "   'success_rate': 0.25,\n",
       "   'reset': 0,\n",
       "   'reset_rate': 0.0,\n",
       "   'normal': 3,\n",
       "   'normal_rate': 0.75}),\n",
       " ((45.89999999999999, -13.200000000000111),\n",
       "  {'total': 4,\n",
       "   'success': 1,\n",
       "   'success_rate': 0.25,\n",
       "   'reset': 0,\n",
       "   'reset_rate': 0.0,\n",
       "   'normal': 3,\n",
       "   'normal_rate': 0.75}),\n",
       " ((45.89999999999999, -13.600000000000112),\n",
       "  {'total': 4,\n",
       "   'success': 1,\n",
       "   'success_rate': 0.25,\n",
       "   'reset': 0,\n",
       "   'reset_rate': 0.0,\n",
       "   'normal': 3,\n",
       "   'normal_rate': 0.75}),\n",
       " ((45.89999999999999, -14.000000000000112),\n",
       "  {'total': 4,\n",
       "   'success': 1,\n",
       "   'success_rate': 0.25,\n",
       "   'reset': 0,\n",
       "   'reset_rate': 0.0,\n",
       "   'normal': 3,\n",
       "   'normal_rate': 0.75}),\n",
       " ((45.89999999999999, -14.400000000000112),\n",
       "  {'total': 4,\n",
       "   'success': 1,\n",
       "   'success_rate': 0.25,\n",
       "   'reset': 0,\n",
       "   'reset_rate': 0.0,\n",
       "   'normal': 3,\n",
       "   'normal_rate': 0.75}),\n",
       " ((45.89999999999999, -14.800000000000113),\n",
       "  {'total': 4,\n",
       "   'success': 1,\n",
       "   'success_rate': 0.25,\n",
       "   'reset': 0,\n",
       "   'reset_rate': 0.0,\n",
       "   'normal': 3,\n",
       "   'normal_rate': 0.75}),\n",
       " ((45.89999999999999, -15.200000000000113),\n",
       "  {'total': 4,\n",
       "   'success': 1,\n",
       "   'success_rate': 0.25,\n",
       "   'reset': 0,\n",
       "   'reset_rate': 0.0,\n",
       "   'normal': 3,\n",
       "   'normal_rate': 0.75}),\n",
       " ((45.89999999999999, -16.000000000000114),\n",
       "  {'total': 4,\n",
       "   'success': 1,\n",
       "   'success_rate': 0.25,\n",
       "   'reset': 0,\n",
       "   'reset_rate': 0.0,\n",
       "   'normal': 3,\n",
       "   'normal_rate': 0.75}),\n",
       " ((45.89999999999999, -16.400000000000112),\n",
       "  {'total': 4,\n",
       "   'success': 1,\n",
       "   'success_rate': 0.25,\n",
       "   'reset': 0,\n",
       "   'reset_rate': 0.0,\n",
       "   'normal': 3,\n",
       "   'normal_rate': 0.75}),\n",
       " ((45.89999999999999, -17.600000000000108),\n",
       "  {'total': 4,\n",
       "   'success': 1,\n",
       "   'success_rate': 0.25,\n",
       "   'reset': 0,\n",
       "   'reset_rate': 0.0,\n",
       "   'normal': 3,\n",
       "   'normal_rate': 0.75}),\n",
       " ((45.89999999999999, -19.6000000000001),\n",
       "  {'total': 4,\n",
       "   'success': 1,\n",
       "   'success_rate': 0.25,\n",
       "   'reset': 0,\n",
       "   'reset_rate': 0.0,\n",
       "   'normal': 3,\n",
       "   'normal_rate': 0.75}),\n",
       " ((45.89999999999999, -20.0000000000001),\n",
       "  {'total': 4,\n",
       "   'success': 1,\n",
       "   'success_rate': 0.25,\n",
       "   'reset': 0,\n",
       "   'reset_rate': 0.0,\n",
       "   'normal': 3,\n",
       "   'normal_rate': 0.75}),\n",
       " ((45.89999999999999, -20.400000000000098),\n",
       "  {'total': 4,\n",
       "   'success': 1,\n",
       "   'success_rate': 0.25,\n",
       "   'reset': 0,\n",
       "   'reset_rate': 0.0,\n",
       "   'normal': 3,\n",
       "   'normal_rate': 0.75}),\n",
       " ((45.89999999999999, -21.200000000000095),\n",
       "  {'total': 4,\n",
       "   'success': 1,\n",
       "   'success_rate': 0.25,\n",
       "   'reset': 0,\n",
       "   'reset_rate': 0.0,\n",
       "   'normal': 3,\n",
       "   'normal_rate': 0.75}),\n",
       " ((45.89999999999999, -21.600000000000094),\n",
       "  {'total': 4,\n",
       "   'success': 1,\n",
       "   'success_rate': 0.25,\n",
       "   'reset': 0,\n",
       "   'reset_rate': 0.0,\n",
       "   'normal': 3,\n",
       "   'normal_rate': 0.75}),\n",
       " ((45.89999999999999, -22.000000000000092),\n",
       "  {'total': 4,\n",
       "   'success': 1,\n",
       "   'success_rate': 0.25,\n",
       "   'reset': 0,\n",
       "   'reset_rate': 0.0,\n",
       "   'normal': 3,\n",
       "   'normal_rate': 0.75}),\n",
       " ((45.89999999999999, -22.40000000000009),\n",
       "  {'total': 4,\n",
       "   'success': 1,\n",
       "   'success_rate': 0.25,\n",
       "   'reset': 0,\n",
       "   'reset_rate': 0.0,\n",
       "   'normal': 3,\n",
       "   'normal_rate': 0.75}),\n",
       " ((45.89999999999999, -22.80000000000009),\n",
       "  {'total': 4,\n",
       "   'success': 1,\n",
       "   'success_rate': 0.25,\n",
       "   'reset': 0,\n",
       "   'reset_rate': 0.0,\n",
       "   'normal': 3,\n",
       "   'normal_rate': 0.75}),\n",
       " ((45.89999999999999, -23.600000000000087),\n",
       "  {'total': 4,\n",
       "   'success': 1,\n",
       "   'success_rate': 0.25,\n",
       "   'reset': 0,\n",
       "   'reset_rate': 0.0,\n",
       "   'normal': 3,\n",
       "   'normal_rate': 0.75}),\n",
       " ((45.89999999999999, -24.000000000000085),\n",
       "  {'total': 4,\n",
       "   'success': 1,\n",
       "   'success_rate': 0.25,\n",
       "   'reset': 0,\n",
       "   'reset_rate': 0.0,\n",
       "   'normal': 3,\n",
       "   'normal_rate': 0.75}),\n",
       " ((45.89999999999999, -24.400000000000084),\n",
       "  {'total': 4,\n",
       "   'success': 1,\n",
       "   'success_rate': 0.25,\n",
       "   'reset': 0,\n",
       "   'reset_rate': 0.0,\n",
       "   'normal': 3,\n",
       "   'normal_rate': 0.75}),\n",
       " ((47.499999999999986, -10.000000000000108),\n",
       "  {'total': 4,\n",
       "   'success': 0,\n",
       "   'success_rate': 0.0,\n",
       "   'reset': 4,\n",
       "   'reset_rate': 1.0,\n",
       "   'normal': 0,\n",
       "   'normal_rate': 0.0}),\n",
       " ((47.499999999999986, -10.800000000000109),\n",
       "  {'total': 4,\n",
       "   'success': 0,\n",
       "   'success_rate': 0.0,\n",
       "   'reset': 4,\n",
       "   'reset_rate': 1.0,\n",
       "   'normal': 0,\n",
       "   'normal_rate': 0.0}),\n",
       " ((47.499999999999986, -11.20000000000011),\n",
       "  {'total': 4,\n",
       "   'success': 0,\n",
       "   'success_rate': 0.0,\n",
       "   'reset': 4,\n",
       "   'reset_rate': 1.0,\n",
       "   'normal': 0,\n",
       "   'normal_rate': 0.0}),\n",
       " ((47.499999999999986, -12.00000000000011),\n",
       "  {'total': 4,\n",
       "   'success': 0,\n",
       "   'success_rate': 0.0,\n",
       "   'reset': 4,\n",
       "   'reset_rate': 1.0,\n",
       "   'normal': 0,\n",
       "   'normal_rate': 0.0}),\n",
       " ((47.499999999999986, -12.40000000000011),\n",
       "  {'total': 4,\n",
       "   'success': 0,\n",
       "   'success_rate': 0.0,\n",
       "   'reset': 4,\n",
       "   'reset_rate': 1.0,\n",
       "   'normal': 0,\n",
       "   'normal_rate': 0.0}),\n",
       " ((47.499999999999986, -12.80000000000011),\n",
       "  {'total': 4,\n",
       "   'success': 0,\n",
       "   'success_rate': 0.0,\n",
       "   'reset': 4,\n",
       "   'reset_rate': 1.0,\n",
       "   'normal': 0,\n",
       "   'normal_rate': 0.0}),\n",
       " ((47.499999999999986, -13.200000000000111),\n",
       "  {'total': 4,\n",
       "   'success': 0,\n",
       "   'success_rate': 0.0,\n",
       "   'reset': 4,\n",
       "   'reset_rate': 1.0,\n",
       "   'normal': 0,\n",
       "   'normal_rate': 0.0}),\n",
       " ((47.499999999999986, -13.600000000000112),\n",
       "  {'total': 4,\n",
       "   'success': 0,\n",
       "   'success_rate': 0.0,\n",
       "   'reset': 4,\n",
       "   'reset_rate': 1.0,\n",
       "   'normal': 0,\n",
       "   'normal_rate': 0.0}),\n",
       " ((47.499999999999986, -14.000000000000112),\n",
       "  {'total': 4,\n",
       "   'success': 0,\n",
       "   'success_rate': 0.0,\n",
       "   'reset': 4,\n",
       "   'reset_rate': 1.0,\n",
       "   'normal': 0,\n",
       "   'normal_rate': 0.0}),\n",
       " ((47.499999999999986, -14.400000000000112),\n",
       "  {'total': 4,\n",
       "   'success': 0,\n",
       "   'success_rate': 0.0,\n",
       "   'reset': 4,\n",
       "   'reset_rate': 1.0,\n",
       "   'normal': 0,\n",
       "   'normal_rate': 0.0}),\n",
       " ((47.499999999999986, -14.800000000000113),\n",
       "  {'total': 4,\n",
       "   'success': 0,\n",
       "   'success_rate': 0.0,\n",
       "   'reset': 4,\n",
       "   'reset_rate': 1.0,\n",
       "   'normal': 0,\n",
       "   'normal_rate': 0.0}),\n",
       " ((47.499999999999986, -15.200000000000113),\n",
       "  {'total': 4,\n",
       "   'success': 0,\n",
       "   'success_rate': 0.0,\n",
       "   'reset': 4,\n",
       "   'reset_rate': 1.0,\n",
       "   'normal': 0,\n",
       "   'normal_rate': 0.0}),\n",
       " ((47.499999999999986, -15.600000000000113),\n",
       "  {'total': 4,\n",
       "   'success': 0,\n",
       "   'success_rate': 0.0,\n",
       "   'reset': 4,\n",
       "   'reset_rate': 1.0,\n",
       "   'normal': 0,\n",
       "   'normal_rate': 0.0}),\n",
       " ((47.499999999999986, -16.000000000000114),\n",
       "  {'total': 4,\n",
       "   'success': 0,\n",
       "   'success_rate': 0.0,\n",
       "   'reset': 4,\n",
       "   'reset_rate': 1.0,\n",
       "   'normal': 0,\n",
       "   'normal_rate': 0.0}),\n",
       " ((47.499999999999986, -16.400000000000112),\n",
       "  {'total': 4,\n",
       "   'success': 0,\n",
       "   'success_rate': 0.0,\n",
       "   'reset': 4,\n",
       "   'reset_rate': 1.0,\n",
       "   'normal': 0,\n",
       "   'normal_rate': 0.0}),\n",
       " ((47.499999999999986, -16.80000000000011),\n",
       "  {'total': 4,\n",
       "   'success': 0,\n",
       "   'success_rate': 0.0,\n",
       "   'reset': 4,\n",
       "   'reset_rate': 1.0,\n",
       "   'normal': 0,\n",
       "   'normal_rate': 0.0}),\n",
       " ((47.499999999999986, -17.20000000000011),\n",
       "  {'total': 4,\n",
       "   'success': 0,\n",
       "   'success_rate': 0.0,\n",
       "   'reset': 4,\n",
       "   'reset_rate': 1.0,\n",
       "   'normal': 0,\n",
       "   'normal_rate': 0.0}),\n",
       " ((47.499999999999986, -17.600000000000108),\n",
       "  {'total': 4,\n",
       "   'success': 0,\n",
       "   'success_rate': 0.0,\n",
       "   'reset': 4,\n",
       "   'reset_rate': 1.0,\n",
       "   'normal': 0,\n",
       "   'normal_rate': 0.0}),\n",
       " ((47.499999999999986, -18.000000000000107),\n",
       "  {'total': 4,\n",
       "   'success': 0,\n",
       "   'success_rate': 0.0,\n",
       "   'reset': 4,\n",
       "   'reset_rate': 1.0,\n",
       "   'normal': 0,\n",
       "   'normal_rate': 0.0}),\n",
       " ((47.499999999999986, -18.400000000000105),\n",
       "  {'total': 4,\n",
       "   'success': 0,\n",
       "   'success_rate': 0.0,\n",
       "   'reset': 4,\n",
       "   'reset_rate': 1.0,\n",
       "   'normal': 0,\n",
       "   'normal_rate': 0.0}),\n",
       " ((47.499999999999986, -18.800000000000104),\n",
       "  {'total': 4,\n",
       "   'success': 0,\n",
       "   'success_rate': 0.0,\n",
       "   'reset': 4,\n",
       "   'reset_rate': 1.0,\n",
       "   'normal': 0,\n",
       "   'normal_rate': 0.0}),\n",
       " ((47.499999999999986, -19.200000000000102),\n",
       "  {'total': 4,\n",
       "   'success': 0,\n",
       "   'success_rate': 0.0,\n",
       "   'reset': 4,\n",
       "   'reset_rate': 1.0,\n",
       "   'normal': 0,\n",
       "   'normal_rate': 0.0}),\n",
       " ((47.499999999999986, -19.6000000000001),\n",
       "  {'total': 4,\n",
       "   'success': 0,\n",
       "   'success_rate': 0.0,\n",
       "   'reset': 4,\n",
       "   'reset_rate': 1.0,\n",
       "   'normal': 0,\n",
       "   'normal_rate': 0.0}),\n",
       " ((47.499999999999986, -20.0000000000001),\n",
       "  {'total': 4,\n",
       "   'success': 0,\n",
       "   'success_rate': 0.0,\n",
       "   'reset': 4,\n",
       "   'reset_rate': 1.0,\n",
       "   'normal': 0,\n",
       "   'normal_rate': 0.0}),\n",
       " ((47.499999999999986, -20.800000000000097),\n",
       "  {'total': 4,\n",
       "   'success': 0,\n",
       "   'success_rate': 0.0,\n",
       "   'reset': 4,\n",
       "   'reset_rate': 1.0,\n",
       "   'normal': 0,\n",
       "   'normal_rate': 0.0}),\n",
       " ((47.499999999999986, -21.200000000000095),\n",
       "  {'total': 4,\n",
       "   'success': 0,\n",
       "   'success_rate': 0.0,\n",
       "   'reset': 4,\n",
       "   'reset_rate': 1.0,\n",
       "   'normal': 0,\n",
       "   'normal_rate': 0.0}),\n",
       " ((47.499999999999986, -22.40000000000009),\n",
       "  {'total': 4,\n",
       "   'success': 0,\n",
       "   'success_rate': 0.0,\n",
       "   'reset': 4,\n",
       "   'reset_rate': 1.0,\n",
       "   'normal': 0,\n",
       "   'normal_rate': 0.0}),\n",
       " ((47.499999999999986, -22.80000000000009),\n",
       "  {'total': 4,\n",
       "   'success': 0,\n",
       "   'success_rate': 0.0,\n",
       "   'reset': 4,\n",
       "   'reset_rate': 1.0,\n",
       "   'normal': 0,\n",
       "   'normal_rate': 0.0}),\n",
       " ((47.499999999999986, -23.200000000000088),\n",
       "  {'total': 4,\n",
       "   'success': 0,\n",
       "   'success_rate': 0.0,\n",
       "   'reset': 4,\n",
       "   'reset_rate': 1.0,\n",
       "   'normal': 0,\n",
       "   'normal_rate': 0.0}),\n",
       " ((47.499999999999986, -23.600000000000087),\n",
       "  {'total': 4,\n",
       "   'success': 0,\n",
       "   'success_rate': 0.0,\n",
       "   'reset': 4,\n",
       "   'reset_rate': 1.0,\n",
       "   'normal': 0,\n",
       "   'normal_rate': 0.0}),\n",
       " ((47.499999999999986, -24.000000000000085),\n",
       "  {'total': 4,\n",
       "   'success': 0,\n",
       "   'success_rate': 0.0,\n",
       "   'reset': 4,\n",
       "   'reset_rate': 1.0,\n",
       "   'normal': 0,\n",
       "   'normal_rate': 0.0}),\n",
       " ((47.499999999999986, -24.400000000000084),\n",
       "  {'total': 4,\n",
       "   'success': 0,\n",
       "   'success_rate': 0.0,\n",
       "   'reset': 4,\n",
       "   'reset_rate': 1.0,\n",
       "   'normal': 0,\n",
       "   'normal_rate': 0.0}),\n",
       " ((47.499999999999986, -24.800000000000082),\n",
       "  {'total': 4,\n",
       "   'success': 0,\n",
       "   'success_rate': 0.0,\n",
       "   'reset': 4,\n",
       "   'reset_rate': 1.0,\n",
       "   'normal': 0,\n",
       "   'normal_rate': 0.0}),\n",
       " ((47.499999999999986, -25.20000000000008),\n",
       "  {'total': 4,\n",
       "   'success': 0,\n",
       "   'success_rate': 0.0,\n",
       "   'reset': 4,\n",
       "   'reset_rate': 1.0,\n",
       "   'normal': 0,\n",
       "   'normal_rate': 0.0}),\n",
       " ((47.499999999999986, -25.60000000000008),\n",
       "  {'total': 4,\n",
       "   'success': 0,\n",
       "   'success_rate': 0.0,\n",
       "   'reset': 4,\n",
       "   'reset_rate': 1.0,\n",
       "   'normal': 0,\n",
       "   'normal_rate': 0.0}),\n",
       " ((47.499999999999986, -26.000000000000078),\n",
       "  {'total': 4,\n",
       "   'success': 0,\n",
       "   'success_rate': 0.0,\n",
       "   'reset': 4,\n",
       "   'reset_rate': 1.0,\n",
       "   'normal': 0,\n",
       "   'normal_rate': 0.0}),\n",
       " ((47.499999999999986, -26.400000000000077),\n",
       "  {'total': 4,\n",
       "   'success': 0,\n",
       "   'success_rate': 0.0,\n",
       "   'reset': 4,\n",
       "   'reset_rate': 1.0,\n",
       "   'normal': 0,\n",
       "   'normal_rate': 0.0}),\n",
       " ((47.499999999999986, -26.800000000000075),\n",
       "  {'total': 4,\n",
       "   'success': 0,\n",
       "   'success_rate': 0.0,\n",
       "   'reset': 4,\n",
       "   'reset_rate': 1.0,\n",
       "   'normal': 0,\n",
       "   'normal_rate': 0.0}),\n",
       " ((47.499999999999986, -27.200000000000074),\n",
       "  {'total': 4,\n",
       "   'success': 0,\n",
       "   'success_rate': 0.0,\n",
       "   'reset': 4,\n",
       "   'reset_rate': 1.0,\n",
       "   'normal': 0,\n",
       "   'normal_rate': 0.0}),\n",
       " ((47.499999999999986, -27.600000000000072),\n",
       "  {'total': 4,\n",
       "   'success': 0,\n",
       "   'success_rate': 0.0,\n",
       "   'reset': 4,\n",
       "   'reset_rate': 1.0,\n",
       "   'normal': 0,\n",
       "   'normal_rate': 0.0}),\n",
       " ((47.499999999999986, -28.00000000000007),\n",
       "  {'total': 4,\n",
       "   'success': 0,\n",
       "   'success_rate': 0.0,\n",
       "   'reset': 4,\n",
       "   'reset_rate': 1.0,\n",
       "   'normal': 0,\n",
       "   'normal_rate': 0.0}),\n",
       " ((47.499999999999986, -28.40000000000007),\n",
       "  {'total': 4,\n",
       "   'success': 0,\n",
       "   'success_rate': 0.0,\n",
       "   'reset': 4,\n",
       "   'reset_rate': 1.0,\n",
       "   'normal': 0,\n",
       "   'normal_rate': 0.0}),\n",
       " ((47.499999999999986, -28.800000000000068),\n",
       "  {'total': 4,\n",
       "   'success': 0,\n",
       "   'success_rate': 0.0,\n",
       "   'reset': 4,\n",
       "   'reset_rate': 1.0,\n",
       "   'normal': 0,\n",
       "   'normal_rate': 0.0}),\n",
       " ((47.499999999999986, -29.200000000000067),\n",
       "  {'total': 4,\n",
       "   'success': 0,\n",
       "   'success_rate': 0.0,\n",
       "   'reset': 4,\n",
       "   'reset_rate': 1.0,\n",
       "   'normal': 0,\n",
       "   'normal_rate': 0.0}),\n",
       " ((47.499999999999986, -29.600000000000065),\n",
       "  {'total': 4,\n",
       "   'success': 0,\n",
       "   'success_rate': 0.0,\n",
       "   'reset': 4,\n",
       "   'reset_rate': 1.0,\n",
       "   'normal': 0,\n",
       "   'normal_rate': 0.0}),\n",
       " ((47.499999999999986, -30.000000000000064),\n",
       "  {'total': 4,\n",
       "   'success': 0,\n",
       "   'success_rate': 0.0,\n",
       "   'reset': 4,\n",
       "   'reset_rate': 1.0,\n",
       "   'normal': 0,\n",
       "   'normal_rate': 0.0}),\n",
       " ((47.499999999999986, -30.400000000000063),\n",
       "  {'total': 4,\n",
       "   'success': 0,\n",
       "   'success_rate': 0.0,\n",
       "   'reset': 4,\n",
       "   'reset_rate': 1.0,\n",
       "   'normal': 0,\n",
       "   'normal_rate': 0.0}),\n",
       " ((47.499999999999986, -30.80000000000006),\n",
       "  {'total': 4,\n",
       "   'success': 0,\n",
       "   'success_rate': 0.0,\n",
       "   'reset': 4,\n",
       "   'reset_rate': 1.0,\n",
       "   'normal': 0,\n",
       "   'normal_rate': 0.0}),\n",
       " ((47.499999999999986, -31.20000000000006),\n",
       "  {'total': 4,\n",
       "   'success': 0,\n",
       "   'success_rate': 0.0,\n",
       "   'reset': 4,\n",
       "   'reset_rate': 1.0,\n",
       "   'normal': 0,\n",
       "   'normal_rate': 0.0}),\n",
       " ((47.499999999999986, -31.60000000000006),\n",
       "  {'total': 4,\n",
       "   'success': 0,\n",
       "   'success_rate': 0.0,\n",
       "   'reset': 4,\n",
       "   'reset_rate': 1.0,\n",
       "   'normal': 0,\n",
       "   'normal_rate': 0.0}),\n",
       " ((47.499999999999986, -32.00000000000006),\n",
       "  {'total': 4,\n",
       "   'success': 0,\n",
       "   'success_rate': 0.0,\n",
       "   'reset': 4,\n",
       "   'reset_rate': 1.0,\n",
       "   'normal': 0,\n",
       "   'normal_rate': 0.0}),\n",
       " ((47.499999999999986, -32.800000000000054),\n",
       "  {'total': 4,\n",
       "   'success': 0,\n",
       "   'success_rate': 0.0,\n",
       "   'reset': 4,\n",
       "   'reset_rate': 1.0,\n",
       "   'normal': 0,\n",
       "   'normal_rate': 0.0}),\n",
       " ((47.499999999999986, -33.60000000000005),\n",
       "  {'total': 4,\n",
       "   'success': 0,\n",
       "   'success_rate': 0.0,\n",
       "   'reset': 4,\n",
       "   'reset_rate': 1.0,\n",
       "   'normal': 0,\n",
       "   'normal_rate': 0.0}),\n",
       " ((47.499999999999986, -34.80000000000005),\n",
       "  {'total': 4,\n",
       "   'success': 0,\n",
       "   'success_rate': 0.0,\n",
       "   'reset': 4,\n",
       "   'reset_rate': 1.0,\n",
       "   'normal': 0,\n",
       "   'normal_rate': 0.0}),\n",
       " ((47.499999999999986, -36.80000000000004),\n",
       "  {'total': 4,\n",
       "   'success': 0,\n",
       "   'success_rate': 0.0,\n",
       "   'reset': 4,\n",
       "   'reset_rate': 1.0,\n",
       "   'normal': 0,\n",
       "   'normal_rate': 0.0}),\n",
       " ((47.499999999999986, -37.60000000000004),\n",
       "  {'total': 4,\n",
       "   'success': 0,\n",
       "   'success_rate': 0.0,\n",
       "   'reset': 4,\n",
       "   'reset_rate': 1.0,\n",
       "   'normal': 0,\n",
       "   'normal_rate': 0.0}),\n",
       " ((47.499999999999986, -38.000000000000036),\n",
       "  {'total': 4,\n",
       "   'success': 0,\n",
       "   'success_rate': 0.0,\n",
       "   'reset': 4,\n",
       "   'reset_rate': 1.0,\n",
       "   'normal': 0,\n",
       "   'normal_rate': 0.0}),\n",
       " ((47.499999999999986, -40.800000000000026),\n",
       "  {'total': 4,\n",
       "   'success': 0,\n",
       "   'success_rate': 0.0,\n",
       "   'reset': 4,\n",
       "   'reset_rate': 1.0,\n",
       "   'normal': 0,\n",
       "   'normal_rate': 0.0}),\n",
       " ((47.499999999999986, -41.200000000000024),\n",
       "  {'total': 4,\n",
       "   'success': 0,\n",
       "   'success_rate': 0.0,\n",
       "   'reset': 3,\n",
       "   'reset_rate': 0.75,\n",
       "   'normal': 1,\n",
       "   'normal_rate': 0.25}),\n",
       " ((47.499999999999986, -41.60000000000002),\n",
       "  {'total': 4,\n",
       "   'success': 0,\n",
       "   'success_rate': 0.0,\n",
       "   'reset': 4,\n",
       "   'reset_rate': 1.0,\n",
       "   'normal': 0,\n",
       "   'normal_rate': 0.0}),\n",
       " ((47.499999999999986, -42.00000000000002),\n",
       "  {'total': 4,\n",
       "   'success': 0,\n",
       "   'success_rate': 0.0,\n",
       "   'reset': 4,\n",
       "   'reset_rate': 1.0,\n",
       "   'normal': 0,\n",
       "   'normal_rate': 0.0}),\n",
       " ((47.499999999999986, -42.80000000000002),\n",
       "  {'total': 4,\n",
       "   'success': 0,\n",
       "   'success_rate': 0.0,\n",
       "   'reset': 3,\n",
       "   'reset_rate': 0.75,\n",
       "   'normal': 1,\n",
       "   'normal_rate': 0.25}),\n",
       " ((47.499999999999986, -43.20000000000002),\n",
       "  {'total': 4,\n",
       "   'success': 0,\n",
       "   'success_rate': 0.0,\n",
       "   'reset': 4,\n",
       "   'reset_rate': 1.0,\n",
       "   'normal': 0,\n",
       "   'normal_rate': 0.0}),\n",
       " ((47.499999999999986, -43.600000000000016),\n",
       "  {'total': 4,\n",
       "   'success': 0,\n",
       "   'success_rate': 0.0,\n",
       "   'reset': 4,\n",
       "   'reset_rate': 1.0,\n",
       "   'normal': 0,\n",
       "   'normal_rate': 0.0}),\n",
       " ((47.499999999999986, -44.000000000000014),\n",
       "  {'total': 4,\n",
       "   'success': 0,\n",
       "   'success_rate': 0.0,\n",
       "   'reset': 4,\n",
       "   'reset_rate': 1.0,\n",
       "   'normal': 0,\n",
       "   'normal_rate': 0.0}),\n",
       " ((47.499999999999986, -44.40000000000001),\n",
       "  {'total': 4,\n",
       "   'success': 0,\n",
       "   'success_rate': 0.0,\n",
       "   'reset': 4,\n",
       "   'reset_rate': 1.0,\n",
       "   'normal': 0,\n",
       "   'normal_rate': 0.0}),\n",
       " ((47.499999999999986, -44.80000000000001),\n",
       "  {'total': 4,\n",
       "   'success': 0,\n",
       "   'success_rate': 0.0,\n",
       "   'reset': 4,\n",
       "   'reset_rate': 1.0,\n",
       "   'normal': 0,\n",
       "   'normal_rate': 0.0}),\n",
       " ((47.499999999999986, -46.00000000000001),\n",
       "  {'total': 4,\n",
       "   'success': 0,\n",
       "   'success_rate': 0.0,\n",
       "   'reset': 4,\n",
       "   'reset_rate': 1.0,\n",
       "   'normal': 0,\n",
       "   'normal_rate': 0.0}),\n",
       " ((47.499999999999986, -46.400000000000006),\n",
       "  {'total': 4,\n",
       "   'success': 0,\n",
       "   'success_rate': 0.0,\n",
       "   'reset': 4,\n",
       "   'reset_rate': 1.0,\n",
       "   'normal': 0,\n",
       "   'normal_rate': 0.0}),\n",
       " ((47.499999999999986, -46.800000000000004),\n",
       "  {'total': 4,\n",
       "   'success': 0,\n",
       "   'success_rate': 0.0,\n",
       "   'reset': 4,\n",
       "   'reset_rate': 1.0,\n",
       "   'normal': 0,\n",
       "   'normal_rate': 0.0}),\n",
       " ((47.499999999999986, -47.2),\n",
       "  {'total': 4,\n",
       "   'success': 0,\n",
       "   'success_rate': 0.0,\n",
       "   'reset': 4,\n",
       "   'reset_rate': 1.0,\n",
       "   'normal': 0,\n",
       "   'normal_rate': 0.0}),\n",
       " ((47.499999999999986, -47.6),\n",
       "  {'total': 4,\n",
       "   'success': 0,\n",
       "   'success_rate': 0.0,\n",
       "   'reset': 4,\n",
       "   'reset_rate': 1.0,\n",
       "   'normal': 0,\n",
       "   'normal_rate': 0.0}),\n",
       " ((47.499999999999986, -48),\n",
       "  {'total': 4,\n",
       "   'success': 0,\n",
       "   'success_rate': 0.0,\n",
       "   'reset': 4,\n",
       "   'reset_rate': 1.0,\n",
       "   'normal': 0,\n",
       "   'normal_rate': 0.0}),\n",
       " ((47.09999999999999, -10.000000000000108),\n",
       "  {'total': 4,\n",
       "   'success': 0,\n",
       "   'success_rate': 0.0,\n",
       "   'reset': 4,\n",
       "   'reset_rate': 1.0,\n",
       "   'normal': 0,\n",
       "   'normal_rate': 0.0}),\n",
       " ((47.09999999999999, -13.200000000000111),\n",
       "  {'total': 4,\n",
       "   'success': 0,\n",
       "   'success_rate': 0.0,\n",
       "   'reset': 4,\n",
       "   'reset_rate': 1.0,\n",
       "   'normal': 0,\n",
       "   'normal_rate': 0.0}),\n",
       " ((47.09999999999999, -14.800000000000113),\n",
       "  {'total': 4,\n",
       "   'success': 0,\n",
       "   'success_rate': 0.0,\n",
       "   'reset': 4,\n",
       "   'reset_rate': 1.0,\n",
       "   'normal': 0,\n",
       "   'normal_rate': 0.0}),\n",
       " ((47.09999999999999, -15.600000000000113),\n",
       "  {'total': 4,\n",
       "   'success': 0,\n",
       "   'success_rate': 0.0,\n",
       "   'reset': 4,\n",
       "   'reset_rate': 1.0,\n",
       "   'normal': 0,\n",
       "   'normal_rate': 0.0}),\n",
       " ((47.09999999999999, -16.000000000000114),\n",
       "  {'total': 4,\n",
       "   'success': 0,\n",
       "   'success_rate': 0.0,\n",
       "   'reset': 4,\n",
       "   'reset_rate': 1.0,\n",
       "   'normal': 0,\n",
       "   'normal_rate': 0.0}),\n",
       " ((47.09999999999999, -16.400000000000112),\n",
       "  {'total': 4,\n",
       "   'success': 0,\n",
       "   'success_rate': 0.0,\n",
       "   'reset': 4,\n",
       "   'reset_rate': 1.0,\n",
       "   'normal': 0,\n",
       "   'normal_rate': 0.0}),\n",
       " ((47.09999999999999, -17.600000000000108),\n",
       "  {'total': 4,\n",
       "   'success': 0,\n",
       "   'success_rate': 0.0,\n",
       "   'reset': 4,\n",
       "   'reset_rate': 1.0,\n",
       "   'normal': 0,\n",
       "   'normal_rate': 0.0}),\n",
       " ((47.09999999999999, -20.400000000000098),\n",
       "  {'total': 4,\n",
       "   'success': 0,\n",
       "   'success_rate': 0.0,\n",
       "   'reset': 4,\n",
       "   'reset_rate': 1.0,\n",
       "   'normal': 0,\n",
       "   'normal_rate': 0.0}),\n",
       " ((47.09999999999999, -22.40000000000009),\n",
       "  {'total': 4,\n",
       "   'success': 0,\n",
       "   'success_rate': 0.0,\n",
       "   'reset': 4,\n",
       "   'reset_rate': 1.0,\n",
       "   'normal': 0,\n",
       "   'normal_rate': 0.0}),\n",
       " ((47.09999999999999, -22.80000000000009),\n",
       "  {'total': 4,\n",
       "   'success': 0,\n",
       "   'success_rate': 0.0,\n",
       "   'reset': 4,\n",
       "   'reset_rate': 1.0,\n",
       "   'normal': 0,\n",
       "   'normal_rate': 0.0}),\n",
       " ((47.09999999999999, -24.000000000000085),\n",
       "  {'total': 4,\n",
       "   'success': 0,\n",
       "   'success_rate': 0.0,\n",
       "   'reset': 4,\n",
       "   'reset_rate': 1.0,\n",
       "   'normal': 0,\n",
       "   'normal_rate': 0.0}),\n",
       " ((47.09999999999999, -24.800000000000082),\n",
       "  {'total': 4,\n",
       "   'success': 0,\n",
       "   'success_rate': 0.0,\n",
       "   'reset': 4,\n",
       "   'reset_rate': 1.0,\n",
       "   'normal': 0,\n",
       "   'normal_rate': 0.0}),\n",
       " ((47.09999999999999, -26.000000000000078),\n",
       "  {'total': 4,\n",
       "   'success': 0,\n",
       "   'success_rate': 0.0,\n",
       "   'reset': 4,\n",
       "   'reset_rate': 1.0,\n",
       "   'normal': 0,\n",
       "   'normal_rate': 0.0}),\n",
       " ((47.09999999999999, -26.400000000000077),\n",
       "  {'total': 4,\n",
       "   'success': 0,\n",
       "   'success_rate': 0.0,\n",
       "   'reset': 4,\n",
       "   'reset_rate': 1.0,\n",
       "   'normal': 0,\n",
       "   'normal_rate': 0.0}),\n",
       " ((47.09999999999999, -28.40000000000007),\n",
       "  {'total': 4,\n",
       "   'success': 0,\n",
       "   'success_rate': 0.0,\n",
       "   'reset': 4,\n",
       "   'reset_rate': 1.0,\n",
       "   'normal': 0,\n",
       "   'normal_rate': 0.0}),\n",
       " ((47.09999999999999, -30.400000000000063),\n",
       "  {'total': 4,\n",
       "   'success': 0,\n",
       "   'success_rate': 0.0,\n",
       "   'reset': 4,\n",
       "   'reset_rate': 1.0,\n",
       "   'normal': 0,\n",
       "   'normal_rate': 0.0}),\n",
       " ((47.09999999999999, -33.20000000000005),\n",
       "  {'total': 4,\n",
       "   'success': 0,\n",
       "   'success_rate': 0.0,\n",
       "   'reset': 4,\n",
       "   'reset_rate': 1.0,\n",
       "   'normal': 0,\n",
       "   'normal_rate': 0.0}),\n",
       " ((47.09999999999999, -38.400000000000034),\n",
       "  {'total': 4,\n",
       "   'success': 0,\n",
       "   'success_rate': 0.0,\n",
       "   'reset': 3,\n",
       "   'reset_rate': 0.75,\n",
       "   'normal': 1,\n",
       "   'normal_rate': 0.25}),\n",
       " ((47.09999999999999, -40.800000000000026),\n",
       "  {'total': 4,\n",
       "   'success': 0,\n",
       "   'success_rate': 0.0,\n",
       "   'reset': 1,\n",
       "   'reset_rate': 0.25,\n",
       "   'normal': 3,\n",
       "   'normal_rate': 0.75}),\n",
       " ((47.09999999999999, -42.40000000000002),\n",
       "  {'total': 4,\n",
       "   'success': 0,\n",
       "   'success_rate': 0.0,\n",
       "   'reset': 3,\n",
       "   'reset_rate': 0.75,\n",
       "   'normal': 1,\n",
       "   'normal_rate': 0.25}),\n",
       " ((47.09999999999999, -43.600000000000016),\n",
       "  {'total': 4,\n",
       "   'success': 0,\n",
       "   'success_rate': 0.0,\n",
       "   'reset': 2,\n",
       "   'reset_rate': 0.5,\n",
       "   'normal': 2,\n",
       "   'normal_rate': 0.5}),\n",
       " ((47.09999999999999, -44.000000000000014),\n",
       "  {'total': 4,\n",
       "   'success': 0,\n",
       "   'success_rate': 0.0,\n",
       "   'reset': 3,\n",
       "   'reset_rate': 0.75,\n",
       "   'normal': 1,\n",
       "   'normal_rate': 0.25}),\n",
       " ((47.09999999999999, -44.80000000000001),\n",
       "  {'total': 4,\n",
       "   'success': 0,\n",
       "   'success_rate': 0.0,\n",
       "   'reset': 2,\n",
       "   'reset_rate': 0.5,\n",
       "   'normal': 2,\n",
       "   'normal_rate': 0.5}),\n",
       " ((47.09999999999999, -45.20000000000001),\n",
       "  {'total': 4,\n",
       "   'success': 0,\n",
       "   'success_rate': 0.0,\n",
       "   'reset': 3,\n",
       "   'reset_rate': 0.75,\n",
       "   'normal': 1,\n",
       "   'normal_rate': 0.25}),\n",
       " ((47.09999999999999, -45.60000000000001),\n",
       "  {'total': 4,\n",
       "   'success': 0,\n",
       "   'success_rate': 0.0,\n",
       "   'reset': 4,\n",
       "   'reset_rate': 1.0,\n",
       "   'normal': 0,\n",
       "   'normal_rate': 0.0}),\n",
       " ((47.09999999999999, -46.00000000000001),\n",
       "  {'total': 4,\n",
       "   'success': 0,\n",
       "   'success_rate': 0.0,\n",
       "   'reset': 3,\n",
       "   'reset_rate': 0.75,\n",
       "   'normal': 1,\n",
       "   'normal_rate': 0.25}),\n",
       " ((47.09999999999999, -46.400000000000006),\n",
       "  {'total': 4,\n",
       "   'success': 0,\n",
       "   'success_rate': 0.0,\n",
       "   'reset': 3,\n",
       "   'reset_rate': 0.75,\n",
       "   'normal': 1,\n",
       "   'normal_rate': 0.25}),\n",
       " ((47.09999999999999, -47.2),\n",
       "  {'total': 4,\n",
       "   'success': 0,\n",
       "   'success_rate': 0.0,\n",
       "   'reset': 3,\n",
       "   'reset_rate': 0.75,\n",
       "   'normal': 1,\n",
       "   'normal_rate': 0.25}),\n",
       " ((47.09999999999999, -47.6),\n",
       "  {'total': 4,\n",
       "   'success': 0,\n",
       "   'success_rate': 0.0,\n",
       "   'reset': 4,\n",
       "   'reset_rate': 1.0,\n",
       "   'normal': 0,\n",
       "   'normal_rate': 0.0}),\n",
       " ((47.09999999999999, -48),\n",
       "  {'total': 4,\n",
       "   'success': 0,\n",
       "   'success_rate': 0.0,\n",
       "   'reset': 2,\n",
       "   'reset_rate': 0.5,\n",
       "   'normal': 2,\n",
       "   'normal_rate': 0.5}),\n",
       " ((46.69999999999999, -36.00000000000004),\n",
       "  {'total': 4,\n",
       "   'success': 0,\n",
       "   'success_rate': 0.0,\n",
       "   'reset': 0,\n",
       "   'reset_rate': 0.0,\n",
       "   'normal': 4,\n",
       "   'normal_rate': 1.0}),\n",
       " ((46.69999999999999, -37.20000000000004),\n",
       "  {'total': 4,\n",
       "   'success': 0,\n",
       "   'success_rate': 0.0,\n",
       "   'reset': 0,\n",
       "   'reset_rate': 0.0,\n",
       "   'normal': 4,\n",
       "   'normal_rate': 1.0}),\n",
       " ((46.69999999999999, -40.800000000000026),\n",
       "  {'total': 4,\n",
       "   'success': 0,\n",
       "   'success_rate': 0.0,\n",
       "   'reset': 1,\n",
       "   'reset_rate': 0.25,\n",
       "   'normal': 3,\n",
       "   'normal_rate': 0.75}),\n",
       " ((46.69999999999999, -47.6),\n",
       "  {'total': 4,\n",
       "   'success': 0,\n",
       "   'success_rate': 0.0,\n",
       "   'reset': 2,\n",
       "   'reset_rate': 0.5,\n",
       "   'normal': 2,\n",
       "   'normal_rate': 0.5}),\n",
       " ((46.29999999999999, -32.00000000000006),\n",
       "  {'total': 4,\n",
       "   'success': 0,\n",
       "   'success_rate': 0.0,\n",
       "   'reset': 0,\n",
       "   'reset_rate': 0.0,\n",
       "   'normal': 4,\n",
       "   'normal_rate': 1.0}),\n",
       " ((46.29999999999999, -32.400000000000055),\n",
       "  {'total': 4,\n",
       "   'success': 0,\n",
       "   'success_rate': 0.0,\n",
       "   'reset': 0,\n",
       "   'reset_rate': 0.0,\n",
       "   'normal': 4,\n",
       "   'normal_rate': 1.0}),\n",
       " ((46.29999999999999, -32.800000000000054),\n",
       "  {'total': 4,\n",
       "   'success': 0,\n",
       "   'success_rate': 0.0,\n",
       "   'reset': 0,\n",
       "   'reset_rate': 0.0,\n",
       "   'normal': 4,\n",
       "   'normal_rate': 1.0}),\n",
       " ((46.29999999999999, -33.60000000000005),\n",
       "  {'total': 4,\n",
       "   'success': 0,\n",
       "   'success_rate': 0.0,\n",
       "   'reset': 0,\n",
       "   'reset_rate': 0.0,\n",
       "   'normal': 4,\n",
       "   'normal_rate': 1.0}),\n",
       " ((46.29999999999999, -34.80000000000005),\n",
       "  {'total': 4,\n",
       "   'success': 0,\n",
       "   'success_rate': 0.0,\n",
       "   'reset': 0,\n",
       "   'reset_rate': 0.0,\n",
       "   'normal': 4,\n",
       "   'normal_rate': 1.0}),\n",
       " ((46.29999999999999, -35.200000000000045),\n",
       "  {'total': 4,\n",
       "   'success': 0,\n",
       "   'success_rate': 0.0,\n",
       "   'reset': 0,\n",
       "   'reset_rate': 0.0,\n",
       "   'normal': 4,\n",
       "   'normal_rate': 1.0}),\n",
       " ((46.29999999999999, -35.600000000000044),\n",
       "  {'total': 4,\n",
       "   'success': 0,\n",
       "   'success_rate': 0.0,\n",
       "   'reset': 0,\n",
       "   'reset_rate': 0.0,\n",
       "   'normal': 4,\n",
       "   'normal_rate': 1.0}),\n",
       " ((46.29999999999999, -36.40000000000004),\n",
       "  {'total': 4,\n",
       "   'success': 0,\n",
       "   'success_rate': 0.0,\n",
       "   'reset': 0,\n",
       "   'reset_rate': 0.0,\n",
       "   'normal': 4,\n",
       "   'normal_rate': 1.0}),\n",
       " ((46.29999999999999, -36.80000000000004),\n",
       "  {'total': 4,\n",
       "   'success': 0,\n",
       "   'success_rate': 0.0,\n",
       "   'reset': 0,\n",
       "   'reset_rate': 0.0,\n",
       "   'normal': 4,\n",
       "   'normal_rate': 1.0}),\n",
       " ((46.29999999999999, -37.20000000000004),\n",
       "  {'total': 4,\n",
       "   'success': 0,\n",
       "   'success_rate': 0.0,\n",
       "   'reset': 0,\n",
       "   'reset_rate': 0.0,\n",
       "   'normal': 4,\n",
       "   'normal_rate': 1.0}),\n",
       " ((46.29999999999999, -37.60000000000004),\n",
       "  {'total': 4,\n",
       "   'success': 0,\n",
       "   'success_rate': 0.0,\n",
       "   'reset': 0,\n",
       "   'reset_rate': 0.0,\n",
       "   'normal': 4,\n",
       "   'normal_rate': 1.0}),\n",
       " ((46.29999999999999, -38.000000000000036),\n",
       "  {'total': 4,\n",
       "   'success': 0,\n",
       "   'success_rate': 0.0,\n",
       "   'reset': 0,\n",
       "   'reset_rate': 0.0,\n",
       "   'normal': 4,\n",
       "   'normal_rate': 1.0}),\n",
       " ((46.29999999999999, -38.400000000000034),\n",
       "  {'total': 4,\n",
       "   'success': 0,\n",
       "   'success_rate': 0.0,\n",
       "   'reset': 0,\n",
       "   'reset_rate': 0.0,\n",
       "   'normal': 4,\n",
       "   'normal_rate': 1.0}),\n",
       " ((46.29999999999999, -38.80000000000003),\n",
       "  {'total': 4,\n",
       "   'success': 0,\n",
       "   'success_rate': 0.0,\n",
       "   'reset': 0,\n",
       "   'reset_rate': 0.0,\n",
       "   'normal': 4,\n",
       "   'normal_rate': 1.0}),\n",
       " ((46.29999999999999, -39.20000000000003),\n",
       "  {'total': 4,\n",
       "   'success': 0,\n",
       "   'success_rate': 0.0,\n",
       "   'reset': 0,\n",
       "   'reset_rate': 0.0,\n",
       "   'normal': 4,\n",
       "   'normal_rate': 1.0}),\n",
       " ((46.29999999999999, -39.60000000000003),\n",
       "  {'total': 4,\n",
       "   'success': 0,\n",
       "   'success_rate': 0.0,\n",
       "   'reset': 0,\n",
       "   'reset_rate': 0.0,\n",
       "   'normal': 4,\n",
       "   'normal_rate': 1.0}),\n",
       " ((46.29999999999999, -40.40000000000003),\n",
       "  {'total': 4,\n",
       "   'success': 0,\n",
       "   'success_rate': 0.0,\n",
       "   'reset': 0,\n",
       "   'reset_rate': 0.0,\n",
       "   'normal': 4,\n",
       "   'normal_rate': 1.0}),\n",
       " ((46.29999999999999, -40.800000000000026),\n",
       "  {'total': 4,\n",
       "   'success': 0,\n",
       "   'success_rate': 0.0,\n",
       "   'reset': 0,\n",
       "   'reset_rate': 0.0,\n",
       "   'normal': 4,\n",
       "   'normal_rate': 1.0}),\n",
       " ((46.29999999999999, -41.200000000000024),\n",
       "  {'total': 4,\n",
       "   'success': 0,\n",
       "   'success_rate': 0.0,\n",
       "   'reset': 0,\n",
       "   'reset_rate': 0.0,\n",
       "   'normal': 4,\n",
       "   'normal_rate': 1.0}),\n",
       " ((46.29999999999999, -41.60000000000002),\n",
       "  {'total': 4,\n",
       "   'success': 0,\n",
       "   'success_rate': 0.0,\n",
       "   'reset': 0,\n",
       "   'reset_rate': 0.0,\n",
       "   'normal': 4,\n",
       "   'normal_rate': 1.0}),\n",
       " ((46.29999999999999, -43.600000000000016),\n",
       "  {'total': 4,\n",
       "   'success': 0,\n",
       "   'success_rate': 0.0,\n",
       "   'reset': 0,\n",
       "   'reset_rate': 0.0,\n",
       "   'normal': 4,\n",
       "   'normal_rate': 1.0}),\n",
       " ((46.29999999999999, -44.000000000000014),\n",
       "  {'total': 4,\n",
       "   'success': 0,\n",
       "   'success_rate': 0.0,\n",
       "   'reset': 0,\n",
       "   'reset_rate': 0.0,\n",
       "   'normal': 4,\n",
       "   'normal_rate': 1.0}),\n",
       " ((46.29999999999999, -44.40000000000001),\n",
       "  {'total': 4,\n",
       "   'success': 0,\n",
       "   'success_rate': 0.0,\n",
       "   'reset': 0,\n",
       "   'reset_rate': 0.0,\n",
       "   'normal': 4,\n",
       "   'normal_rate': 1.0}),\n",
       " ((46.29999999999999, -45.20000000000001),\n",
       "  {'total': 4,\n",
       "   'success': 0,\n",
       "   'success_rate': 0.0,\n",
       "   'reset': 0,\n",
       "   'reset_rate': 0.0,\n",
       "   'normal': 4,\n",
       "   'normal_rate': 1.0}),\n",
       " ((46.29999999999999, -46.800000000000004),\n",
       "  {'total': 4,\n",
       "   'success': 0,\n",
       "   'success_rate': 0.0,\n",
       "   'reset': 0,\n",
       "   'reset_rate': 0.0,\n",
       "   'normal': 4,\n",
       "   'normal_rate': 1.0}),\n",
       " ((46.29999999999999, -47.2),\n",
       "  {'total': 4,\n",
       "   'success': 0,\n",
       "   'success_rate': 0.0,\n",
       "   'reset': 0,\n",
       "   'reset_rate': 0.0,\n",
       "   'normal': 4,\n",
       "   'normal_rate': 1.0}),\n",
       " ((46.29999999999999, -47.6),\n",
       "  {'total': 4,\n",
       "   'success': 0,\n",
       "   'success_rate': 0.0,\n",
       "   'reset': 0,\n",
       "   'reset_rate': 0.0,\n",
       "   'normal': 4,\n",
       "   'normal_rate': 1.0}),\n",
       " ((45.89999999999999, -10.800000000000109),\n",
       "  {'total': 4,\n",
       "   'success': 0,\n",
       "   'success_rate': 0.0,\n",
       "   'reset': 0,\n",
       "   'reset_rate': 0.0,\n",
       "   'normal': 4,\n",
       "   'normal_rate': 1.0}),\n",
       " ((45.89999999999999, -11.20000000000011),\n",
       "  {'total': 4,\n",
       "   'success': 0,\n",
       "   'success_rate': 0.0,\n",
       "   'reset': 0,\n",
       "   'reset_rate': 0.0,\n",
       "   'normal': 4,\n",
       "   'normal_rate': 1.0}),\n",
       " ((45.89999999999999, -11.60000000000011),\n",
       "  {'total': 4,\n",
       "   'success': 0,\n",
       "   'success_rate': 0.0,\n",
       "   'reset': 0,\n",
       "   'reset_rate': 0.0,\n",
       "   'normal': 4,\n",
       "   'normal_rate': 1.0}),\n",
       " ((45.89999999999999, -12.40000000000011),\n",
       "  {'total': 4,\n",
       "   'success': 0,\n",
       "   'success_rate': 0.0,\n",
       "   'reset': 0,\n",
       "   'reset_rate': 0.0,\n",
       "   'normal': 4,\n",
       "   'normal_rate': 1.0}),\n",
       " ((45.89999999999999, -17.20000000000011),\n",
       "  {'total': 4,\n",
       "   'success': 0,\n",
       "   'success_rate': 0.0,\n",
       "   'reset': 0,\n",
       "   'reset_rate': 0.0,\n",
       "   'normal': 4,\n",
       "   'normal_rate': 1.0}),\n",
       " ((45.89999999999999, -20.800000000000097),\n",
       "  {'total': 4,\n",
       "   'success': 0,\n",
       "   'success_rate': 0.0,\n",
       "   'reset': 0,\n",
       "   'reset_rate': 0.0,\n",
       "   'normal': 4,\n",
       "   'normal_rate': 1.0}),\n",
       " ((45.89999999999999, -23.200000000000088),\n",
       "  {'total': 4,\n",
       "   'success': 0,\n",
       "   'success_rate': 0.0,\n",
       "   'reset': 0,\n",
       "   'reset_rate': 0.0,\n",
       "   'normal': 4,\n",
       "   'normal_rate': 1.0}),\n",
       " ((45.89999999999999, -25.20000000000008),\n",
       "  {'total': 4,\n",
       "   'success': 0,\n",
       "   'success_rate': 0.0,\n",
       "   'reset': 0,\n",
       "   'reset_rate': 0.0,\n",
       "   'normal': 4,\n",
       "   'normal_rate': 1.0}),\n",
       " ((45.89999999999999, -25.60000000000008),\n",
       "  {'total': 4,\n",
       "   'success': 0,\n",
       "   'success_rate': 0.0,\n",
       "   'reset': 0,\n",
       "   'reset_rate': 0.0,\n",
       "   'normal': 4,\n",
       "   'normal_rate': 1.0}),\n",
       " ((45.89999999999999, -26.000000000000078),\n",
       "  {'total': 4,\n",
       "   'success': 0,\n",
       "   'success_rate': 0.0,\n",
       "   'reset': 0,\n",
       "   'reset_rate': 0.0,\n",
       "   'normal': 4,\n",
       "   'normal_rate': 1.0}),\n",
       " ((45.89999999999999, -26.400000000000077),\n",
       "  {'total': 4,\n",
       "   'success': 0,\n",
       "   'success_rate': 0.0,\n",
       "   'reset': 0,\n",
       "   'reset_rate': 0.0,\n",
       "   'normal': 4,\n",
       "   'normal_rate': 1.0}),\n",
       " ((45.89999999999999, -26.800000000000075),\n",
       "  {'total': 4,\n",
       "   'success': 0,\n",
       "   'success_rate': 0.0,\n",
       "   'reset': 0,\n",
       "   'reset_rate': 0.0,\n",
       "   'normal': 4,\n",
       "   'normal_rate': 1.0}),\n",
       " ((45.89999999999999, -27.200000000000074),\n",
       "  {'total': 4,\n",
       "   'success': 0,\n",
       "   'success_rate': 0.0,\n",
       "   'reset': 0,\n",
       "   'reset_rate': 0.0,\n",
       "   'normal': 4,\n",
       "   'normal_rate': 1.0}),\n",
       " ((45.89999999999999, -27.600000000000072),\n",
       "  {'total': 4,\n",
       "   'success': 0,\n",
       "   'success_rate': 0.0,\n",
       "   'reset': 0,\n",
       "   'reset_rate': 0.0,\n",
       "   'normal': 4,\n",
       "   'normal_rate': 1.0}),\n",
       " ((45.89999999999999, -28.00000000000007),\n",
       "  {'total': 4,\n",
       "   'success': 0,\n",
       "   'success_rate': 0.0,\n",
       "   'reset': 0,\n",
       "   'reset_rate': 0.0,\n",
       "   'normal': 4,\n",
       "   'normal_rate': 1.0}),\n",
       " ((45.89999999999999, -28.40000000000007),\n",
       "  {'total': 4,\n",
       "   'success': 0,\n",
       "   'success_rate': 0.0,\n",
       "   'reset': 0,\n",
       "   'reset_rate': 0.0,\n",
       "   'normal': 4,\n",
       "   'normal_rate': 1.0}),\n",
       " ((45.89999999999999, -28.800000000000068),\n",
       "  {'total': 4,\n",
       "   'success': 0,\n",
       "   'success_rate': 0.0,\n",
       "   'reset': 0,\n",
       "   'reset_rate': 0.0,\n",
       "   'normal': 4,\n",
       "   'normal_rate': 1.0}),\n",
       " ((45.89999999999999, -29.200000000000067),\n",
       "  {'total': 4,\n",
       "   'success': 0,\n",
       "   'success_rate': 0.0,\n",
       "   'reset': 0,\n",
       "   'reset_rate': 0.0,\n",
       "   'normal': 4,\n",
       "   'normal_rate': 1.0}),\n",
       " ((45.89999999999999, -29.600000000000065),\n",
       "  {'total': 4,\n",
       "   'success': 0,\n",
       "   'success_rate': 0.0,\n",
       "   'reset': 0,\n",
       "   'reset_rate': 0.0,\n",
       "   'normal': 4,\n",
       "   'normal_rate': 1.0}),\n",
       " ((45.89999999999999, -30.000000000000064),\n",
       "  {'total': 4,\n",
       "   'success': 0,\n",
       "   'success_rate': 0.0,\n",
       "   'reset': 0,\n",
       "   'reset_rate': 0.0,\n",
       "   'normal': 4,\n",
       "   'normal_rate': 1.0}),\n",
       " ((45.89999999999999, -30.400000000000063),\n",
       "  {'total': 4,\n",
       "   'success': 0,\n",
       "   'success_rate': 0.0,\n",
       "   'reset': 0,\n",
       "   'reset_rate': 0.0,\n",
       "   'normal': 4,\n",
       "   'normal_rate': 1.0}),\n",
       " ((45.89999999999999, -30.80000000000006),\n",
       "  {'total': 4,\n",
       "   'success': 0,\n",
       "   'success_rate': 0.0,\n",
       "   'reset': 0,\n",
       "   'reset_rate': 0.0,\n",
       "   'normal': 4,\n",
       "   'normal_rate': 1.0}),\n",
       " ((45.89999999999999, -31.20000000000006),\n",
       "  {'total': 4,\n",
       "   'success': 0,\n",
       "   'success_rate': 0.0,\n",
       "   'reset': 0,\n",
       "   'reset_rate': 0.0,\n",
       "   'normal': 4,\n",
       "   'normal_rate': 1.0}),\n",
       " ((45.89999999999999, -31.60000000000006),\n",
       "  {'total': 4,\n",
       "   'success': 0,\n",
       "   'success_rate': 0.0,\n",
       "   'reset': 0,\n",
       "   'reset_rate': 0.0,\n",
       "   'normal': 4,\n",
       "   'normal_rate': 1.0}),\n",
       " ((45.89999999999999, -32.00000000000006),\n",
       "  {'total': 4,\n",
       "   'success': 0,\n",
       "   'success_rate': 0.0,\n",
       "   'reset': 0,\n",
       "   'reset_rate': 0.0,\n",
       "   'normal': 4,\n",
       "   'normal_rate': 1.0}),\n",
       " ((45.89999999999999, -32.400000000000055),\n",
       "  {'total': 4,\n",
       "   'success': 0,\n",
       "   'success_rate': 0.0,\n",
       "   'reset': 0,\n",
       "   'reset_rate': 0.0,\n",
       "   'normal': 4,\n",
       "   'normal_rate': 1.0}),\n",
       " ((45.89999999999999, -32.800000000000054),\n",
       "  {'total': 4,\n",
       "   'success': 0,\n",
       "   'success_rate': 0.0,\n",
       "   'reset': 0,\n",
       "   'reset_rate': 0.0,\n",
       "   'normal': 4,\n",
       "   'normal_rate': 1.0}),\n",
       " ((45.89999999999999, -33.20000000000005),\n",
       "  {'total': 4,\n",
       "   'success': 0,\n",
       "   'success_rate': 0.0,\n",
       "   'reset': 0,\n",
       "   'reset_rate': 0.0,\n",
       "   'normal': 4,\n",
       "   'normal_rate': 1.0}),\n",
       " ((45.89999999999999, -33.60000000000005),\n",
       "  {'total': 4,\n",
       "   'success': 0,\n",
       "   'success_rate': 0.0,\n",
       "   'reset': 0,\n",
       "   'reset_rate': 0.0,\n",
       "   'normal': 4,\n",
       "   'normal_rate': 1.0}),\n",
       " ((45.89999999999999, -34.00000000000005),\n",
       "  {'total': 4,\n",
       "   'success': 0,\n",
       "   'success_rate': 0.0,\n",
       "   'reset': 0,\n",
       "   'reset_rate': 0.0,\n",
       "   'normal': 4,\n",
       "   'normal_rate': 1.0}),\n",
       " ((45.89999999999999, -34.40000000000005),\n",
       "  {'total': 4,\n",
       "   'success': 0,\n",
       "   'success_rate': 0.0,\n",
       "   'reset': 0,\n",
       "   'reset_rate': 0.0,\n",
       "   'normal': 4,\n",
       "   'normal_rate': 1.0}),\n",
       " ((45.89999999999999, -34.80000000000005),\n",
       "  {'total': 4,\n",
       "   'success': 0,\n",
       "   'success_rate': 0.0,\n",
       "   'reset': 0,\n",
       "   'reset_rate': 0.0,\n",
       "   'normal': 4,\n",
       "   'normal_rate': 1.0}),\n",
       " ((45.89999999999999, -35.200000000000045),\n",
       "  {'total': 4,\n",
       "   'success': 0,\n",
       "   'success_rate': 0.0,\n",
       "   'reset': 0,\n",
       "   'reset_rate': 0.0,\n",
       "   'normal': 4,\n",
       "   'normal_rate': 1.0}),\n",
       " ((45.89999999999999, -35.600000000000044),\n",
       "  {'total': 4,\n",
       "   'success': 0,\n",
       "   'success_rate': 0.0,\n",
       "   'reset': 0,\n",
       "   'reset_rate': 0.0,\n",
       "   'normal': 4,\n",
       "   'normal_rate': 1.0}),\n",
       " ((45.89999999999999, -36.00000000000004),\n",
       "  {'total': 4,\n",
       "   'success': 0,\n",
       "   'success_rate': 0.0,\n",
       "   'reset': 0,\n",
       "   'reset_rate': 0.0,\n",
       "   'normal': 4,\n",
       "   'normal_rate': 1.0}),\n",
       " ((45.89999999999999, -36.40000000000004),\n",
       "  {'total': 4,\n",
       "   'success': 0,\n",
       "   'success_rate': 0.0,\n",
       "   'reset': 0,\n",
       "   'reset_rate': 0.0,\n",
       "   'normal': 4,\n",
       "   'normal_rate': 1.0}),\n",
       " ((45.89999999999999, -36.80000000000004),\n",
       "  {'total': 4,\n",
       "   'success': 0,\n",
       "   'success_rate': 0.0,\n",
       "   'reset': 0,\n",
       "   'reset_rate': 0.0,\n",
       "   'normal': 4,\n",
       "   'normal_rate': 1.0}),\n",
       " ((45.89999999999999, -37.20000000000004),\n",
       "  {'total': 4,\n",
       "   'success': 0,\n",
       "   'success_rate': 0.0,\n",
       "   'reset': 0,\n",
       "   'reset_rate': 0.0,\n",
       "   'normal': 4,\n",
       "   'normal_rate': 1.0}),\n",
       " ((45.89999999999999, -37.60000000000004),\n",
       "  {'total': 4,\n",
       "   'success': 0,\n",
       "   'success_rate': 0.0,\n",
       "   'reset': 0,\n",
       "   'reset_rate': 0.0,\n",
       "   'normal': 4,\n",
       "   'normal_rate': 1.0}),\n",
       " ((45.89999999999999, -38.000000000000036),\n",
       "  {'total': 4,\n",
       "   'success': 0,\n",
       "   'success_rate': 0.0,\n",
       "   'reset': 0,\n",
       "   'reset_rate': 0.0,\n",
       "   'normal': 4,\n",
       "   'normal_rate': 1.0}),\n",
       " ((45.89999999999999, -38.400000000000034),\n",
       "  {'total': 4,\n",
       "   'success': 0,\n",
       "   'success_rate': 0.0,\n",
       "   'reset': 0,\n",
       "   'reset_rate': 0.0,\n",
       "   'normal': 4,\n",
       "   'normal_rate': 1.0}),\n",
       " ((45.89999999999999, -38.80000000000003),\n",
       "  {'total': 4,\n",
       "   'success': 0,\n",
       "   'success_rate': 0.0,\n",
       "   'reset': 0,\n",
       "   'reset_rate': 0.0,\n",
       "   'normal': 4,\n",
       "   'normal_rate': 1.0}),\n",
       " ((45.89999999999999, -39.20000000000003),\n",
       "  {'total': 4,\n",
       "   'success': 0,\n",
       "   'success_rate': 0.0,\n",
       "   'reset': 0,\n",
       "   'reset_rate': 0.0,\n",
       "   'normal': 4,\n",
       "   'normal_rate': 1.0}),\n",
       " ((45.89999999999999, -39.60000000000003),\n",
       "  {'total': 4,\n",
       "   'success': 0,\n",
       "   'success_rate': 0.0,\n",
       "   'reset': 0,\n",
       "   'reset_rate': 0.0,\n",
       "   'normal': 4,\n",
       "   'normal_rate': 1.0}),\n",
       " ((45.89999999999999, -40.00000000000003),\n",
       "  {'total': 4,\n",
       "   'success': 0,\n",
       "   'success_rate': 0.0,\n",
       "   'reset': 0,\n",
       "   'reset_rate': 0.0,\n",
       "   'normal': 4,\n",
       "   'normal_rate': 1.0}),\n",
       " ((45.89999999999999, -40.40000000000003),\n",
       "  {'total': 4,\n",
       "   'success': 0,\n",
       "   'success_rate': 0.0,\n",
       "   'reset': 0,\n",
       "   'reset_rate': 0.0,\n",
       "   'normal': 4,\n",
       "   'normal_rate': 1.0}),\n",
       " ((45.89999999999999, -40.800000000000026),\n",
       "  {'total': 4,\n",
       "   'success': 0,\n",
       "   'success_rate': 0.0,\n",
       "   'reset': 0,\n",
       "   'reset_rate': 0.0,\n",
       "   'normal': 4,\n",
       "   'normal_rate': 1.0}),\n",
       " ((45.89999999999999, -41.200000000000024),\n",
       "  {'total': 4,\n",
       "   'success': 0,\n",
       "   'success_rate': 0.0,\n",
       "   'reset': 0,\n",
       "   'reset_rate': 0.0,\n",
       "   'normal': 4,\n",
       "   'normal_rate': 1.0}),\n",
       " ((45.89999999999999, -41.60000000000002),\n",
       "  {'total': 4,\n",
       "   'success': 0,\n",
       "   'success_rate': 0.0,\n",
       "   'reset': 0,\n",
       "   'reset_rate': 0.0,\n",
       "   'normal': 4,\n",
       "   'normal_rate': 1.0}),\n",
       " ((45.89999999999999, -42.00000000000002),\n",
       "  {'total': 4,\n",
       "   'success': 0,\n",
       "   'success_rate': 0.0,\n",
       "   'reset': 0,\n",
       "   'reset_rate': 0.0,\n",
       "   'normal': 4,\n",
       "   'normal_rate': 1.0}),\n",
       " ((45.89999999999999, -42.40000000000002),\n",
       "  {'total': 4,\n",
       "   'success': 0,\n",
       "   'success_rate': 0.0,\n",
       "   'reset': 0,\n",
       "   'reset_rate': 0.0,\n",
       "   'normal': 4,\n",
       "   'normal_rate': 1.0}),\n",
       " ((45.89999999999999, -42.80000000000002),\n",
       "  {'total': 4,\n",
       "   'success': 0,\n",
       "   'success_rate': 0.0,\n",
       "   'reset': 0,\n",
       "   'reset_rate': 0.0,\n",
       "   'normal': 4,\n",
       "   'normal_rate': 1.0}),\n",
       " ((45.89999999999999, -43.20000000000002),\n",
       "  {'total': 4,\n",
       "   'success': 0,\n",
       "   'success_rate': 0.0,\n",
       "   'reset': 0,\n",
       "   'reset_rate': 0.0,\n",
       "   'normal': 4,\n",
       "   'normal_rate': 1.0}),\n",
       " ((45.89999999999999, -43.600000000000016),\n",
       "  {'total': 4,\n",
       "   'success': 0,\n",
       "   'success_rate': 0.0,\n",
       "   'reset': 0,\n",
       "   'reset_rate': 0.0,\n",
       "   'normal': 4,\n",
       "   'normal_rate': 1.0}),\n",
       " ((45.89999999999999, -44.000000000000014),\n",
       "  {'total': 4,\n",
       "   'success': 0,\n",
       "   'success_rate': 0.0,\n",
       "   'reset': 0,\n",
       "   'reset_rate': 0.0,\n",
       "   'normal': 4,\n",
       "   'normal_rate': 1.0}),\n",
       " ((45.89999999999999, -44.40000000000001),\n",
       "  {'total': 4,\n",
       "   'success': 0,\n",
       "   'success_rate': 0.0,\n",
       "   'reset': 0,\n",
       "   'reset_rate': 0.0,\n",
       "   'normal': 4,\n",
       "   'normal_rate': 1.0}),\n",
       " ((45.89999999999999, -44.80000000000001),\n",
       "  {'total': 4,\n",
       "   'success': 0,\n",
       "   'success_rate': 0.0,\n",
       "   'reset': 0,\n",
       "   'reset_rate': 0.0,\n",
       "   'normal': 4,\n",
       "   'normal_rate': 1.0}),\n",
       " ((45.89999999999999, -45.20000000000001),\n",
       "  {'total': 4,\n",
       "   'success': 0,\n",
       "   'success_rate': 0.0,\n",
       "   'reset': 0,\n",
       "   'reset_rate': 0.0,\n",
       "   'normal': 4,\n",
       "   'normal_rate': 1.0}),\n",
       " ((45.89999999999999, -45.60000000000001),\n",
       "  {'total': 4,\n",
       "   'success': 0,\n",
       "   'success_rate': 0.0,\n",
       "   'reset': 0,\n",
       "   'reset_rate': 0.0,\n",
       "   'normal': 4,\n",
       "   'normal_rate': 1.0}),\n",
       " ((45.89999999999999, -46.00000000000001),\n",
       "  {'total': 4,\n",
       "   'success': 0,\n",
       "   'success_rate': 0.0,\n",
       "   'reset': 0,\n",
       "   'reset_rate': 0.0,\n",
       "   'normal': 4,\n",
       "   'normal_rate': 1.0}),\n",
       " ((45.89999999999999, -46.400000000000006),\n",
       "  {'total': 4,\n",
       "   'success': 0,\n",
       "   'success_rate': 0.0,\n",
       "   'reset': 0,\n",
       "   'reset_rate': 0.0,\n",
       "   'normal': 4,\n",
       "   'normal_rate': 1.0}),\n",
       " ((45.89999999999999, -46.800000000000004),\n",
       "  {'total': 4,\n",
       "   'success': 0,\n",
       "   'success_rate': 0.0,\n",
       "   'reset': 0,\n",
       "   'reset_rate': 0.0,\n",
       "   'normal': 4,\n",
       "   'normal_rate': 1.0}),\n",
       " ((45.89999999999999, -47.2),\n",
       "  {'total': 4,\n",
       "   'success': 0,\n",
       "   'success_rate': 0.0,\n",
       "   'reset': 0,\n",
       "   'reset_rate': 0.0,\n",
       "   'normal': 4,\n",
       "   'normal_rate': 1.0}),\n",
       " ((45.89999999999999, -47.6),\n",
       "  {'total': 4,\n",
       "   'success': 0,\n",
       "   'success_rate': 0.0,\n",
       "   'reset': 0,\n",
       "   'reset_rate': 0.0,\n",
       "   'normal': 4,\n",
       "   'normal_rate': 1.0}),\n",
       " ((45.89999999999999, -48),\n",
       "  {'total': 4,\n",
       "   'success': 0,\n",
       "   'success_rate': 0.0,\n",
       "   'reset': 0,\n",
       "   'reset_rate': 0.0,\n",
       "   'normal': 4,\n",
       "   'normal_rate': 1.0}),\n",
       " ((45.49999999999999, -10.000000000000108),\n",
       "  {'total': 4,\n",
       "   'success': 0,\n",
       "   'success_rate': 0.0,\n",
       "   'reset': 0,\n",
       "   'reset_rate': 0.0,\n",
       "   'normal': 4,\n",
       "   'normal_rate': 1.0}),\n",
       " ((45.49999999999999, -10.400000000000109),\n",
       "  {'total': 4,\n",
       "   'success': 0,\n",
       "   'success_rate': 0.0,\n",
       "   'reset': 0,\n",
       "   'reset_rate': 0.0,\n",
       "   'normal': 4,\n",
       "   'normal_rate': 1.0}),\n",
       " ((45.49999999999999, -10.800000000000109),\n",
       "  {'total': 4,\n",
       "   'success': 0,\n",
       "   'success_rate': 0.0,\n",
       "   'reset': 0,\n",
       "   'reset_rate': 0.0,\n",
       "   'normal': 4,\n",
       "   'normal_rate': 1.0}),\n",
       " ((45.49999999999999, -11.20000000000011),\n",
       "  {'total': 4,\n",
       "   'success': 0,\n",
       "   'success_rate': 0.0,\n",
       "   'reset': 0,\n",
       "   'reset_rate': 0.0,\n",
       "   'normal': 4,\n",
       "   'normal_rate': 1.0}),\n",
       " ((45.49999999999999, -11.60000000000011),\n",
       "  {'total': 4,\n",
       "   'success': 0,\n",
       "   'success_rate': 0.0,\n",
       "   'reset': 0,\n",
       "   'reset_rate': 0.0,\n",
       "   'normal': 4,\n",
       "   'normal_rate': 1.0}),\n",
       " ((45.49999999999999, -12.00000000000011),\n",
       "  {'total': 4,\n",
       "   'success': 0,\n",
       "   'success_rate': 0.0,\n",
       "   'reset': 0,\n",
       "   'reset_rate': 0.0,\n",
       "   'normal': 4,\n",
       "   'normal_rate': 1.0}),\n",
       " ((45.49999999999999, -12.40000000000011),\n",
       "  {'total': 4,\n",
       "   'success': 0,\n",
       "   'success_rate': 0.0,\n",
       "   'reset': 0,\n",
       "   'reset_rate': 0.0,\n",
       "   'normal': 4,\n",
       "   'normal_rate': 1.0}),\n",
       " ((45.49999999999999, -12.80000000000011),\n",
       "  {'total': 4,\n",
       "   'success': 0,\n",
       "   'success_rate': 0.0,\n",
       "   'reset': 0,\n",
       "   'reset_rate': 0.0,\n",
       "   'normal': 4,\n",
       "   'normal_rate': 1.0}),\n",
       " ((45.49999999999999, -13.200000000000111),\n",
       "  {'total': 4,\n",
       "   'success': 0,\n",
       "   'success_rate': 0.0,\n",
       "   'reset': 0,\n",
       "   'reset_rate': 0.0,\n",
       "   'normal': 4,\n",
       "   'normal_rate': 1.0}),\n",
       " ((45.49999999999999, -13.600000000000112),\n",
       "  {'total': 4,\n",
       "   'success': 0,\n",
       "   'success_rate': 0.0,\n",
       "   'reset': 0,\n",
       "   'reset_rate': 0.0,\n",
       "   'normal': 4,\n",
       "   'normal_rate': 1.0}),\n",
       " ((45.49999999999999, -14.000000000000112),\n",
       "  {'total': 4,\n",
       "   'success': 0,\n",
       "   'success_rate': 0.0,\n",
       "   'reset': 0,\n",
       "   'reset_rate': 0.0,\n",
       "   'normal': 4,\n",
       "   'normal_rate': 1.0}),\n",
       " ((45.49999999999999, -14.400000000000112),\n",
       "  {'total': 4,\n",
       "   'success': 0,\n",
       "   'success_rate': 0.0,\n",
       "   'reset': 0,\n",
       "   'reset_rate': 0.0,\n",
       "   'normal': 4,\n",
       "   'normal_rate': 1.0}),\n",
       " ((45.49999999999999, -14.800000000000113),\n",
       "  {'total': 4,\n",
       "   'success': 0,\n",
       "   'success_rate': 0.0,\n",
       "   'reset': 0,\n",
       "   'reset_rate': 0.0,\n",
       "   'normal': 4,\n",
       "   'normal_rate': 1.0}),\n",
       " ((45.49999999999999, -15.200000000000113),\n",
       "  {'total': 4,\n",
       "   'success': 0,\n",
       "   'success_rate': 0.0,\n",
       "   'reset': 0,\n",
       "   'reset_rate': 0.0,\n",
       "   'normal': 4,\n",
       "   'normal_rate': 1.0}),\n",
       " ((45.49999999999999, -15.600000000000113),\n",
       "  {'total': 4,\n",
       "   'success': 0,\n",
       "   'success_rate': 0.0,\n",
       "   'reset': 0,\n",
       "   'reset_rate': 0.0,\n",
       "   'normal': 4,\n",
       "   'normal_rate': 1.0}),\n",
       " ((45.49999999999999, -16.000000000000114),\n",
       "  {'total': 4,\n",
       "   'success': 0,\n",
       "   'success_rate': 0.0,\n",
       "   'reset': 0,\n",
       "   'reset_rate': 0.0,\n",
       "   'normal': 4,\n",
       "   'normal_rate': 1.0}),\n",
       " ((45.49999999999999, -16.400000000000112),\n",
       "  {'total': 4,\n",
       "   'success': 0,\n",
       "   'success_rate': 0.0,\n",
       "   'reset': 0,\n",
       "   'reset_rate': 0.0,\n",
       "   'normal': 4,\n",
       "   'normal_rate': 1.0}),\n",
       " ((45.49999999999999, -16.80000000000011),\n",
       "  {'total': 4,\n",
       "   'success': 0,\n",
       "   'success_rate': 0.0,\n",
       "   'reset': 0,\n",
       "   'reset_rate': 0.0,\n",
       "   'normal': 4,\n",
       "   'normal_rate': 1.0}),\n",
       " ((45.49999999999999, -17.20000000000011),\n",
       "  {'total': 4,\n",
       "   'success': 0,\n",
       "   'success_rate': 0.0,\n",
       "   'reset': 0,\n",
       "   'reset_rate': 0.0,\n",
       "   'normal': 4,\n",
       "   'normal_rate': 1.0}),\n",
       " ((45.49999999999999, -17.600000000000108),\n",
       "  {'total': 4,\n",
       "   'success': 0,\n",
       "   'success_rate': 0.0,\n",
       "   'reset': 0,\n",
       "   'reset_rate': 0.0,\n",
       "   'normal': 4,\n",
       "   'normal_rate': 1.0}),\n",
       " ((45.49999999999999, -18.000000000000107),\n",
       "  {'total': 4,\n",
       "   'success': 0,\n",
       "   'success_rate': 0.0,\n",
       "   'reset': 0,\n",
       "   'reset_rate': 0.0,\n",
       "   'normal': 4,\n",
       "   'normal_rate': 1.0}),\n",
       " ((45.49999999999999, -18.400000000000105),\n",
       "  {'total': 4,\n",
       "   'success': 0,\n",
       "   'success_rate': 0.0,\n",
       "   'reset': 0,\n",
       "   'reset_rate': 0.0,\n",
       "   'normal': 4,\n",
       "   'normal_rate': 1.0}),\n",
       " ((45.49999999999999, -18.800000000000104),\n",
       "  {'total': 4,\n",
       "   'success': 0,\n",
       "   'success_rate': 0.0,\n",
       "   'reset': 0,\n",
       "   'reset_rate': 0.0,\n",
       "   'normal': 4,\n",
       "   'normal_rate': 1.0}),\n",
       " ((45.49999999999999, -19.200000000000102),\n",
       "  {'total': 4,\n",
       "   'success': 0,\n",
       "   'success_rate': 0.0,\n",
       "   'reset': 0,\n",
       "   'reset_rate': 0.0,\n",
       "   'normal': 4,\n",
       "   'normal_rate': 1.0}),\n",
       " ((45.49999999999999, -19.6000000000001),\n",
       "  {'total': 4,\n",
       "   'success': 0,\n",
       "   'success_rate': 0.0,\n",
       "   'reset': 0,\n",
       "   'reset_rate': 0.0,\n",
       "   'normal': 4,\n",
       "   'normal_rate': 1.0}),\n",
       " ((45.49999999999999, -20.0000000000001),\n",
       "  {'total': 4,\n",
       "   'success': 0,\n",
       "   'success_rate': 0.0,\n",
       "   'reset': 0,\n",
       "   'reset_rate': 0.0,\n",
       "   'normal': 4,\n",
       "   'normal_rate': 1.0}),\n",
       " ((45.49999999999999, -20.400000000000098),\n",
       "  {'total': 4,\n",
       "   'success': 0,\n",
       "   'success_rate': 0.0,\n",
       "   'reset': 0,\n",
       "   'reset_rate': 0.0,\n",
       "   'normal': 4,\n",
       "   'normal_rate': 1.0}),\n",
       " ((45.49999999999999, -20.800000000000097),\n",
       "  {'total': 4,\n",
       "   'success': 0,\n",
       "   'success_rate': 0.0,\n",
       "   'reset': 0,\n",
       "   'reset_rate': 0.0,\n",
       "   'normal': 4,\n",
       "   'normal_rate': 1.0}),\n",
       " ((45.49999999999999, -21.200000000000095),\n",
       "  {'total': 4,\n",
       "   'success': 0,\n",
       "   'success_rate': 0.0,\n",
       "   'reset': 0,\n",
       "   'reset_rate': 0.0,\n",
       "   'normal': 4,\n",
       "   'normal_rate': 1.0}),\n",
       " ((45.49999999999999, -21.600000000000094),\n",
       "  {'total': 4,\n",
       "   'success': 0,\n",
       "   'success_rate': 0.0,\n",
       "   'reset': 0,\n",
       "   'reset_rate': 0.0,\n",
       "   'normal': 4,\n",
       "   'normal_rate': 1.0}),\n",
       " ((45.49999999999999, -22.000000000000092),\n",
       "  {'total': 4,\n",
       "   'success': 0,\n",
       "   'success_rate': 0.0,\n",
       "   'reset': 0,\n",
       "   'reset_rate': 0.0,\n",
       "   'normal': 4,\n",
       "   'normal_rate': 1.0}),\n",
       " ((45.49999999999999, -22.40000000000009),\n",
       "  {'total': 4,\n",
       "   'success': 0,\n",
       "   'success_rate': 0.0,\n",
       "   'reset': 0,\n",
       "   'reset_rate': 0.0,\n",
       "   'normal': 4,\n",
       "   'normal_rate': 1.0}),\n",
       " ((45.49999999999999, -22.80000000000009),\n",
       "  {'total': 4,\n",
       "   'success': 0,\n",
       "   'success_rate': 0.0,\n",
       "   'reset': 0,\n",
       "   'reset_rate': 0.0,\n",
       "   'normal': 4,\n",
       "   'normal_rate': 1.0}),\n",
       " ((45.49999999999999, -23.200000000000088),\n",
       "  {'total': 4,\n",
       "   'success': 0,\n",
       "   'success_rate': 0.0,\n",
       "   'reset': 0,\n",
       "   'reset_rate': 0.0,\n",
       "   'normal': 4,\n",
       "   'normal_rate': 1.0}),\n",
       " ((45.49999999999999, -23.600000000000087),\n",
       "  {'total': 4,\n",
       "   'success': 0,\n",
       "   'success_rate': 0.0,\n",
       "   'reset': 0,\n",
       "   'reset_rate': 0.0,\n",
       "   'normal': 4,\n",
       "   'normal_rate': 1.0}),\n",
       " ((45.49999999999999, -24.000000000000085),\n",
       "  {'total': 4,\n",
       "   'success': 0,\n",
       "   'success_rate': 0.0,\n",
       "   'reset': 0,\n",
       "   'reset_rate': 0.0,\n",
       "   'normal': 4,\n",
       "   'normal_rate': 1.0}),\n",
       " ((45.49999999999999, -24.400000000000084),\n",
       "  {'total': 4,\n",
       "   'success': 0,\n",
       "   'success_rate': 0.0,\n",
       "   'reset': 0,\n",
       "   'reset_rate': 0.0,\n",
       "   'normal': 4,\n",
       "   'normal_rate': 1.0}),\n",
       " ((45.49999999999999, -24.800000000000082),\n",
       "  {'total': 4,\n",
       "   'success': 0,\n",
       "   'success_rate': 0.0,\n",
       "   'reset': 0,\n",
       "   'reset_rate': 0.0,\n",
       "   'normal': 4,\n",
       "   'normal_rate': 1.0}),\n",
       " ((45.49999999999999, -25.20000000000008),\n",
       "  {'total': 4,\n",
       "   'success': 0,\n",
       "   'success_rate': 0.0,\n",
       "   'reset': 0,\n",
       "   'reset_rate': 0.0,\n",
       "   'normal': 4,\n",
       "   'normal_rate': 1.0}),\n",
       " ((45.49999999999999, -25.60000000000008),\n",
       "  {'total': 4,\n",
       "   'success': 0,\n",
       "   'success_rate': 0.0,\n",
       "   'reset': 0,\n",
       "   'reset_rate': 0.0,\n",
       "   'normal': 4,\n",
       "   'normal_rate': 1.0}),\n",
       " ((45.49999999999999, -26.000000000000078),\n",
       "  {'total': 4,\n",
       "   'success': 0,\n",
       "   'success_rate': 0.0,\n",
       "   'reset': 0,\n",
       "   'reset_rate': 0.0,\n",
       "   'normal': 4,\n",
       "   'normal_rate': 1.0}),\n",
       " ((45.49999999999999, -26.400000000000077),\n",
       "  {'total': 4,\n",
       "   'success': 0,\n",
       "   'success_rate': 0.0,\n",
       "   'reset': 0,\n",
       "   'reset_rate': 0.0,\n",
       "   'normal': 4,\n",
       "   'normal_rate': 1.0}),\n",
       " ((45.49999999999999, -26.800000000000075),\n",
       "  {'total': 4,\n",
       "   'success': 0,\n",
       "   'success_rate': 0.0,\n",
       "   'reset': 0,\n",
       "   'reset_rate': 0.0,\n",
       "   'normal': 4,\n",
       "   'normal_rate': 1.0}),\n",
       " ((45.49999999999999, -27.200000000000074),\n",
       "  {'total': 4,\n",
       "   'success': 0,\n",
       "   'success_rate': 0.0,\n",
       "   'reset': 0,\n",
       "   'reset_rate': 0.0,\n",
       "   'normal': 4,\n",
       "   'normal_rate': 1.0}),\n",
       " ((45.49999999999999, -27.600000000000072),\n",
       "  {'total': 4,\n",
       "   'success': 0,\n",
       "   'success_rate': 0.0,\n",
       "   'reset': 0,\n",
       "   'reset_rate': 0.0,\n",
       "   'normal': 4,\n",
       "   'normal_rate': 1.0}),\n",
       " ((45.49999999999999, -28.00000000000007),\n",
       "  {'total': 4,\n",
       "   'success': 0,\n",
       "   'success_rate': 0.0,\n",
       "   'reset': 0,\n",
       "   'reset_rate': 0.0,\n",
       "   'normal': 4,\n",
       "   'normal_rate': 1.0}),\n",
       " ((45.49999999999999, -28.40000000000007),\n",
       "  {'total': 4,\n",
       "   'success': 0,\n",
       "   'success_rate': 0.0,\n",
       "   'reset': 0,\n",
       "   'reset_rate': 0.0,\n",
       "   'normal': 4,\n",
       "   'normal_rate': 1.0}),\n",
       " ((45.49999999999999, -28.800000000000068),\n",
       "  {'total': 4,\n",
       "   'success': 0,\n",
       "   'success_rate': 0.0,\n",
       "   'reset': 0,\n",
       "   'reset_rate': 0.0,\n",
       "   'normal': 4,\n",
       "   'normal_rate': 1.0}),\n",
       " ((45.49999999999999, -29.200000000000067),\n",
       "  {'total': 4,\n",
       "   'success': 0,\n",
       "   'success_rate': 0.0,\n",
       "   'reset': 0,\n",
       "   'reset_rate': 0.0,\n",
       "   'normal': 4,\n",
       "   'normal_rate': 1.0}),\n",
       " ((45.49999999999999, -29.600000000000065),\n",
       "  {'total': 4,\n",
       "   'success': 0,\n",
       "   'success_rate': 0.0,\n",
       "   'reset': 0,\n",
       "   'reset_rate': 0.0,\n",
       "   'normal': 4,\n",
       "   'normal_rate': 1.0}),\n",
       " ((45.49999999999999, -30.000000000000064),\n",
       "  {'total': 4,\n",
       "   'success': 0,\n",
       "   'success_rate': 0.0,\n",
       "   'reset': 0,\n",
       "   'reset_rate': 0.0,\n",
       "   'normal': 4,\n",
       "   'normal_rate': 1.0}),\n",
       " ((45.49999999999999, -30.400000000000063),\n",
       "  {'total': 4,\n",
       "   'success': 0,\n",
       "   'success_rate': 0.0,\n",
       "   'reset': 0,\n",
       "   'reset_rate': 0.0,\n",
       "   'normal': 4,\n",
       "   'normal_rate': 1.0}),\n",
       " ((45.49999999999999, -30.80000000000006),\n",
       "  {'total': 4,\n",
       "   'success': 0,\n",
       "   'success_rate': 0.0,\n",
       "   'reset': 0,\n",
       "   'reset_rate': 0.0,\n",
       "   'normal': 4,\n",
       "   'normal_rate': 1.0}),\n",
       " ((45.49999999999999, -31.20000000000006),\n",
       "  {'total': 4,\n",
       "   'success': 0,\n",
       "   'success_rate': 0.0,\n",
       "   'reset': 0,\n",
       "   'reset_rate': 0.0,\n",
       "   'normal': 4,\n",
       "   'normal_rate': 1.0}),\n",
       " ((45.49999999999999, -31.60000000000006),\n",
       "  {'total': 4,\n",
       "   'success': 0,\n",
       "   'success_rate': 0.0,\n",
       "   'reset': 0,\n",
       "   'reset_rate': 0.0,\n",
       "   'normal': 4,\n",
       "   'normal_rate': 1.0}),\n",
       " ((45.49999999999999, -32.00000000000006),\n",
       "  {'total': 4,\n",
       "   'success': 0,\n",
       "   'success_rate': 0.0,\n",
       "   'reset': 0,\n",
       "   'reset_rate': 0.0,\n",
       "   'normal': 4,\n",
       "   'normal_rate': 1.0}),\n",
       " ((45.49999999999999, -32.400000000000055),\n",
       "  {'total': 4,\n",
       "   'success': 0,\n",
       "   'success_rate': 0.0,\n",
       "   'reset': 0,\n",
       "   'reset_rate': 0.0,\n",
       "   'normal': 4,\n",
       "   'normal_rate': 1.0}),\n",
       " ((45.49999999999999, -32.800000000000054),\n",
       "  {'total': 4,\n",
       "   'success': 0,\n",
       "   'success_rate': 0.0,\n",
       "   'reset': 0,\n",
       "   'reset_rate': 0.0,\n",
       "   'normal': 4,\n",
       "   'normal_rate': 1.0}),\n",
       " ((45.49999999999999, -33.20000000000005),\n",
       "  {'total': 4,\n",
       "   'success': 0,\n",
       "   'success_rate': 0.0,\n",
       "   'reset': 0,\n",
       "   'reset_rate': 0.0,\n",
       "   'normal': 4,\n",
       "   'normal_rate': 1.0}),\n",
       " ((45.49999999999999, -33.60000000000005),\n",
       "  {'total': 4,\n",
       "   'success': 0,\n",
       "   'success_rate': 0.0,\n",
       "   'reset': 0,\n",
       "   'reset_rate': 0.0,\n",
       "   'normal': 4,\n",
       "   'normal_rate': 1.0}),\n",
       " ((45.49999999999999, -34.00000000000005),\n",
       "  {'total': 4,\n",
       "   'success': 0,\n",
       "   'success_rate': 0.0,\n",
       "   'reset': 0,\n",
       "   'reset_rate': 0.0,\n",
       "   'normal': 4,\n",
       "   'normal_rate': 1.0}),\n",
       " ((45.49999999999999, -34.40000000000005),\n",
       "  {'total': 4,\n",
       "   'success': 0,\n",
       "   'success_rate': 0.0,\n",
       "   'reset': 0,\n",
       "   'reset_rate': 0.0,\n",
       "   'normal': 4,\n",
       "   'normal_rate': 1.0}),\n",
       " ((45.49999999999999, -34.80000000000005),\n",
       "  {'total': 4,\n",
       "   'success': 0,\n",
       "   'success_rate': 0.0,\n",
       "   'reset': 0,\n",
       "   'reset_rate': 0.0,\n",
       "   'normal': 4,\n",
       "   'normal_rate': 1.0}),\n",
       " ((45.49999999999999, -35.200000000000045),\n",
       "  {'total': 4,\n",
       "   'success': 0,\n",
       "   'success_rate': 0.0,\n",
       "   'reset': 0,\n",
       "   'reset_rate': 0.0,\n",
       "   'normal': 4,\n",
       "   'normal_rate': 1.0}),\n",
       " ((45.49999999999999, -35.600000000000044),\n",
       "  {'total': 4,\n",
       "   'success': 0,\n",
       "   'success_rate': 0.0,\n",
       "   'reset': 0,\n",
       "   'reset_rate': 0.0,\n",
       "   'normal': 4,\n",
       "   'normal_rate': 1.0}),\n",
       " ((45.49999999999999, -36.00000000000004),\n",
       "  {'total': 4,\n",
       "   'success': 0,\n",
       "   'success_rate': 0.0,\n",
       "   'reset': 0,\n",
       "   'reset_rate': 0.0,\n",
       "   'normal': 4,\n",
       "   'normal_rate': 1.0}),\n",
       " ((45.49999999999999, -36.40000000000004),\n",
       "  {'total': 4,\n",
       "   'success': 0,\n",
       "   'success_rate': 0.0,\n",
       "   'reset': 0,\n",
       "   'reset_rate': 0.0,\n",
       "   'normal': 4,\n",
       "   'normal_rate': 1.0}),\n",
       " ((45.49999999999999, -36.80000000000004),\n",
       "  {'total': 4,\n",
       "   'success': 0,\n",
       "   'success_rate': 0.0,\n",
       "   'reset': 0,\n",
       "   'reset_rate': 0.0,\n",
       "   'normal': 4,\n",
       "   'normal_rate': 1.0}),\n",
       " ((45.49999999999999, -37.20000000000004),\n",
       "  {'total': 4,\n",
       "   'success': 0,\n",
       "   'success_rate': 0.0,\n",
       "   'reset': 0,\n",
       "   'reset_rate': 0.0,\n",
       "   'normal': 4,\n",
       "   'normal_rate': 1.0}),\n",
       " ((45.49999999999999, -37.60000000000004),\n",
       "  {'total': 4,\n",
       "   'success': 0,\n",
       "   'success_rate': 0.0,\n",
       "   'reset': 0,\n",
       "   'reset_rate': 0.0,\n",
       "   'normal': 4,\n",
       "   'normal_rate': 1.0}),\n",
       " ((45.49999999999999, -38.000000000000036),\n",
       "  {'total': 4,\n",
       "   'success': 0,\n",
       "   'success_rate': 0.0,\n",
       "   'reset': 0,\n",
       "   'reset_rate': 0.0,\n",
       "   'normal': 4,\n",
       "   'normal_rate': 1.0}),\n",
       " ((45.49999999999999, -38.400000000000034),\n",
       "  {'total': 4,\n",
       "   'success': 0,\n",
       "   'success_rate': 0.0,\n",
       "   'reset': 0,\n",
       "   'reset_rate': 0.0,\n",
       "   'normal': 4,\n",
       "   'normal_rate': 1.0}),\n",
       " ((45.49999999999999, -38.80000000000003),\n",
       "  {'total': 4,\n",
       "   'success': 0,\n",
       "   'success_rate': 0.0,\n",
       "   'reset': 0,\n",
       "   'reset_rate': 0.0,\n",
       "   'normal': 4,\n",
       "   'normal_rate': 1.0}),\n",
       " ((45.49999999999999, -39.20000000000003),\n",
       "  {'total': 4,\n",
       "   'success': 0,\n",
       "   'success_rate': 0.0,\n",
       "   'reset': 0,\n",
       "   'reset_rate': 0.0,\n",
       "   'normal': 4,\n",
       "   'normal_rate': 1.0}),\n",
       " ((45.49999999999999, -39.60000000000003),\n",
       "  {'total': 4,\n",
       "   'success': 0,\n",
       "   'success_rate': 0.0,\n",
       "   'reset': 0,\n",
       "   'reset_rate': 0.0,\n",
       "   'normal': 4,\n",
       "   'normal_rate': 1.0}),\n",
       " ((45.49999999999999, -40.00000000000003),\n",
       "  {'total': 4,\n",
       "   'success': 0,\n",
       "   'success_rate': 0.0,\n",
       "   'reset': 0,\n",
       "   'reset_rate': 0.0,\n",
       "   'normal': 4,\n",
       "   'normal_rate': 1.0}),\n",
       " ((45.49999999999999, -40.40000000000003),\n",
       "  {'total': 4,\n",
       "   'success': 0,\n",
       "   'success_rate': 0.0,\n",
       "   'reset': 0,\n",
       "   'reset_rate': 0.0,\n",
       "   'normal': 4,\n",
       "   'normal_rate': 1.0}),\n",
       " ((45.49999999999999, -40.800000000000026),\n",
       "  {'total': 4,\n",
       "   'success': 0,\n",
       "   'success_rate': 0.0,\n",
       "   'reset': 0,\n",
       "   'reset_rate': 0.0,\n",
       "   'normal': 4,\n",
       "   'normal_rate': 1.0}),\n",
       " ((45.49999999999999, -41.200000000000024),\n",
       "  {'total': 4,\n",
       "   'success': 0,\n",
       "   'success_rate': 0.0,\n",
       "   'reset': 0,\n",
       "   'reset_rate': 0.0,\n",
       "   'normal': 4,\n",
       "   'normal_rate': 1.0}),\n",
       " ((45.49999999999999, -41.60000000000002),\n",
       "  {'total': 4,\n",
       "   'success': 0,\n",
       "   'success_rate': 0.0,\n",
       "   'reset': 0,\n",
       "   'reset_rate': 0.0,\n",
       "   'normal': 4,\n",
       "   'normal_rate': 1.0}),\n",
       " ((45.49999999999999, -42.00000000000002),\n",
       "  {'total': 4,\n",
       "   'success': 0,\n",
       "   'success_rate': 0.0,\n",
       "   'reset': 0,\n",
       "   'reset_rate': 0.0,\n",
       "   'normal': 4,\n",
       "   'normal_rate': 1.0}),\n",
       " ((45.49999999999999, -42.40000000000002),\n",
       "  {'total': 4,\n",
       "   'success': 0,\n",
       "   'success_rate': 0.0,\n",
       "   'reset': 0,\n",
       "   'reset_rate': 0.0,\n",
       "   'normal': 4,\n",
       "   'normal_rate': 1.0}),\n",
       " ((45.49999999999999, -42.80000000000002),\n",
       "  {'total': 4,\n",
       "   'success': 0,\n",
       "   'success_rate': 0.0,\n",
       "   'reset': 0,\n",
       "   'reset_rate': 0.0,\n",
       "   'normal': 4,\n",
       "   'normal_rate': 1.0}),\n",
       " ((45.49999999999999, -43.20000000000002),\n",
       "  {'total': 4,\n",
       "   'success': 0,\n",
       "   'success_rate': 0.0,\n",
       "   'reset': 0,\n",
       "   'reset_rate': 0.0,\n",
       "   'normal': 4,\n",
       "   'normal_rate': 1.0}),\n",
       " ((45.49999999999999, -43.600000000000016),\n",
       "  {'total': 4,\n",
       "   'success': 0,\n",
       "   'success_rate': 0.0,\n",
       "   'reset': 0,\n",
       "   'reset_rate': 0.0,\n",
       "   'normal': 4,\n",
       "   'normal_rate': 1.0}),\n",
       " ((45.49999999999999, -44.000000000000014),\n",
       "  {'total': 4,\n",
       "   'success': 0,\n",
       "   'success_rate': 0.0,\n",
       "   'reset': 0,\n",
       "   'reset_rate': 0.0,\n",
       "   'normal': 4,\n",
       "   'normal_rate': 1.0}),\n",
       " ((45.49999999999999, -44.40000000000001),\n",
       "  {'total': 4,\n",
       "   'success': 0,\n",
       "   'success_rate': 0.0,\n",
       "   'reset': 0,\n",
       "   'reset_rate': 0.0,\n",
       "   'normal': 4,\n",
       "   'normal_rate': 1.0}),\n",
       " ((45.49999999999999, -44.80000000000001),\n",
       "  {'total': 4,\n",
       "   'success': 0,\n",
       "   'success_rate': 0.0,\n",
       "   'reset': 0,\n",
       "   'reset_rate': 0.0,\n",
       "   'normal': 4,\n",
       "   'normal_rate': 1.0}),\n",
       " ((45.49999999999999, -45.20000000000001),\n",
       "  {'total': 4,\n",
       "   'success': 0,\n",
       "   'success_rate': 0.0,\n",
       "   'reset': 0,\n",
       "   'reset_rate': 0.0,\n",
       "   'normal': 4,\n",
       "   'normal_rate': 1.0}),\n",
       " ((45.49999999999999, -45.60000000000001),\n",
       "  {'total': 4,\n",
       "   'success': 0,\n",
       "   'success_rate': 0.0,\n",
       "   'reset': 0,\n",
       "   'reset_rate': 0.0,\n",
       "   'normal': 4,\n",
       "   'normal_rate': 1.0}),\n",
       " ((45.49999999999999, -46.00000000000001),\n",
       "  {'total': 4,\n",
       "   'success': 0,\n",
       "   'success_rate': 0.0,\n",
       "   'reset': 0,\n",
       "   'reset_rate': 0.0,\n",
       "   'normal': 4,\n",
       "   'normal_rate': 1.0}),\n",
       " ((45.49999999999999, -46.400000000000006),\n",
       "  {'total': 4,\n",
       "   'success': 0,\n",
       "   'success_rate': 0.0,\n",
       "   'reset': 0,\n",
       "   'reset_rate': 0.0,\n",
       "   'normal': 4,\n",
       "   'normal_rate': 1.0}),\n",
       " ((45.49999999999999, -46.800000000000004),\n",
       "  {'total': 4,\n",
       "   'success': 0,\n",
       "   'success_rate': 0.0,\n",
       "   'reset': 0,\n",
       "   'reset_rate': 0.0,\n",
       "   'normal': 4,\n",
       "   'normal_rate': 1.0}),\n",
       " ((45.49999999999999, -47.2),\n",
       "  {'total': 4,\n",
       "   'success': 0,\n",
       "   'success_rate': 0.0,\n",
       "   'reset': 0,\n",
       "   'reset_rate': 0.0,\n",
       "   'normal': 4,\n",
       "   'normal_rate': 1.0}),\n",
       " ((45.49999999999999, -47.6),\n",
       "  {'total': 4,\n",
       "   'success': 0,\n",
       "   'success_rate': 0.0,\n",
       "   'reset': 0,\n",
       "   'reset_rate': 0.0,\n",
       "   'normal': 4,\n",
       "   'normal_rate': 1.0}),\n",
       " ((45.49999999999999, -48),\n",
       "  {'total': 4,\n",
       "   'success': 0,\n",
       "   'success_rate': 0.0,\n",
       "   'reset': 0,\n",
       "   'reset_rate': 0.0,\n",
       "   'normal': 4,\n",
       "   'normal_rate': 1.0}),\n",
       " ((45.099999999999994, -10.000000000000108),\n",
       "  {'total': 4,\n",
       "   'success': 0,\n",
       "   'success_rate': 0.0,\n",
       "   'reset': 0,\n",
       "   'reset_rate': 0.0,\n",
       "   'normal': 4,\n",
       "   'normal_rate': 1.0}),\n",
       " ((45.099999999999994, -10.400000000000109),\n",
       "  {'total': 4,\n",
       "   'success': 0,\n",
       "   'success_rate': 0.0,\n",
       "   'reset': 0,\n",
       "   'reset_rate': 0.0,\n",
       "   'normal': 4,\n",
       "   'normal_rate': 1.0}),\n",
       " ((45.099999999999994, -10.800000000000109),\n",
       "  {'total': 4,\n",
       "   'success': 0,\n",
       "   'success_rate': 0.0,\n",
       "   'reset': 0,\n",
       "   'reset_rate': 0.0,\n",
       "   'normal': 4,\n",
       "   'normal_rate': 1.0}),\n",
       " ((45.099999999999994, -11.20000000000011),\n",
       "  {'total': 4,\n",
       "   'success': 0,\n",
       "   'success_rate': 0.0,\n",
       "   'reset': 0,\n",
       "   'reset_rate': 0.0,\n",
       "   'normal': 4,\n",
       "   'normal_rate': 1.0}),\n",
       " ((45.099999999999994, -11.60000000000011),\n",
       "  {'total': 4,\n",
       "   'success': 0,\n",
       "   'success_rate': 0.0,\n",
       "   'reset': 0,\n",
       "   'reset_rate': 0.0,\n",
       "   'normal': 4,\n",
       "   'normal_rate': 1.0}),\n",
       " ((45.099999999999994, -12.00000000000011),\n",
       "  {'total': 4,\n",
       "   'success': 0,\n",
       "   'success_rate': 0.0,\n",
       "   'reset': 0,\n",
       "   'reset_rate': 0.0,\n",
       "   'normal': 4,\n",
       "   'normal_rate': 1.0}),\n",
       " ((45.099999999999994, -12.40000000000011),\n",
       "  {'total': 4,\n",
       "   'success': 0,\n",
       "   'success_rate': 0.0,\n",
       "   'reset': 0,\n",
       "   'reset_rate': 0.0,\n",
       "   'normal': 4,\n",
       "   'normal_rate': 1.0}),\n",
       " ((45.099999999999994, -12.80000000000011),\n",
       "  {'total': 4,\n",
       "   'success': 0,\n",
       "   'success_rate': 0.0,\n",
       "   'reset': 0,\n",
       "   'reset_rate': 0.0,\n",
       "   'normal': 4,\n",
       "   'normal_rate': 1.0}),\n",
       " ((45.099999999999994, -13.200000000000111),\n",
       "  {'total': 4,\n",
       "   'success': 0,\n",
       "   'success_rate': 0.0,\n",
       "   'reset': 0,\n",
       "   'reset_rate': 0.0,\n",
       "   'normal': 4,\n",
       "   'normal_rate': 1.0}),\n",
       " ((45.099999999999994, -13.600000000000112),\n",
       "  {'total': 4,\n",
       "   'success': 0,\n",
       "   'success_rate': 0.0,\n",
       "   'reset': 0,\n",
       "   'reset_rate': 0.0,\n",
       "   'normal': 4,\n",
       "   'normal_rate': 1.0}),\n",
       " ((45.099999999999994, -14.000000000000112),\n",
       "  {'total': 4,\n",
       "   'success': 0,\n",
       "   'success_rate': 0.0,\n",
       "   'reset': 0,\n",
       "   'reset_rate': 0.0,\n",
       "   'normal': 4,\n",
       "   'normal_rate': 1.0}),\n",
       " ((45.099999999999994, -14.400000000000112),\n",
       "  {'total': 4,\n",
       "   'success': 0,\n",
       "   'success_rate': 0.0,\n",
       "   'reset': 0,\n",
       "   'reset_rate': 0.0,\n",
       "   'normal': 4,\n",
       "   'normal_rate': 1.0}),\n",
       " ((45.099999999999994, -14.800000000000113),\n",
       "  {'total': 4,\n",
       "   'success': 0,\n",
       "   'success_rate': 0.0,\n",
       "   'reset': 0,\n",
       "   'reset_rate': 0.0,\n",
       "   'normal': 4,\n",
       "   'normal_rate': 1.0}),\n",
       " ((45.099999999999994, -15.200000000000113),\n",
       "  {'total': 4,\n",
       "   'success': 0,\n",
       "   'success_rate': 0.0,\n",
       "   'reset': 0,\n",
       "   'reset_rate': 0.0,\n",
       "   'normal': 4,\n",
       "   'normal_rate': 1.0}),\n",
       " ((45.099999999999994, -15.600000000000113),\n",
       "  {'total': 4,\n",
       "   'success': 0,\n",
       "   'success_rate': 0.0,\n",
       "   'reset': 0,\n",
       "   'reset_rate': 0.0,\n",
       "   'normal': 4,\n",
       "   'normal_rate': 1.0}),\n",
       " ((45.099999999999994, -16.000000000000114),\n",
       "  {'total': 4,\n",
       "   'success': 0,\n",
       "   'success_rate': 0.0,\n",
       "   'reset': 0,\n",
       "   'reset_rate': 0.0,\n",
       "   'normal': 4,\n",
       "   'normal_rate': 1.0}),\n",
       " ((45.099999999999994, -16.400000000000112),\n",
       "  {'total': 4,\n",
       "   'success': 0,\n",
       "   'success_rate': 0.0,\n",
       "   'reset': 0,\n",
       "   'reset_rate': 0.0,\n",
       "   'normal': 4,\n",
       "   'normal_rate': 1.0}),\n",
       " ((45.099999999999994, -16.80000000000011),\n",
       "  {'total': 4,\n",
       "   'success': 0,\n",
       "   'success_rate': 0.0,\n",
       "   'reset': 0,\n",
       "   'reset_rate': 0.0,\n",
       "   'normal': 4,\n",
       "   'normal_rate': 1.0}),\n",
       " ((45.099999999999994, -17.20000000000011),\n",
       "  {'total': 4,\n",
       "   'success': 0,\n",
       "   'success_rate': 0.0,\n",
       "   'reset': 0,\n",
       "   'reset_rate': 0.0,\n",
       "   'normal': 4,\n",
       "   'normal_rate': 1.0}),\n",
       " ((45.099999999999994, -17.600000000000108),\n",
       "  {'total': 4,\n",
       "   'success': 0,\n",
       "   'success_rate': 0.0,\n",
       "   'reset': 0,\n",
       "   'reset_rate': 0.0,\n",
       "   'normal': 4,\n",
       "   'normal_rate': 1.0}),\n",
       " ((45.099999999999994, -18.000000000000107),\n",
       "  {'total': 4,\n",
       "   'success': 0,\n",
       "   'success_rate': 0.0,\n",
       "   'reset': 0,\n",
       "   'reset_rate': 0.0,\n",
       "   'normal': 4,\n",
       "   'normal_rate': 1.0}),\n",
       " ((45.099999999999994, -18.400000000000105),\n",
       "  {'total': 4,\n",
       "   'success': 0,\n",
       "   'success_rate': 0.0,\n",
       "   'reset': 0,\n",
       "   'reset_rate': 0.0,\n",
       "   'normal': 4,\n",
       "   'normal_rate': 1.0}),\n",
       " ((45.099999999999994, -18.800000000000104),\n",
       "  {'total': 4,\n",
       "   'success': 0,\n",
       "   'success_rate': 0.0,\n",
       "   'reset': 0,\n",
       "   'reset_rate': 0.0,\n",
       "   'normal': 4,\n",
       "   'normal_rate': 1.0}),\n",
       " ((45.099999999999994, -19.200000000000102),\n",
       "  {'total': 4,\n",
       "   'success': 0,\n",
       "   'success_rate': 0.0,\n",
       "   'reset': 0,\n",
       "   'reset_rate': 0.0,\n",
       "   'normal': 4,\n",
       "   'normal_rate': 1.0}),\n",
       " ((45.099999999999994, -19.6000000000001),\n",
       "  {'total': 4,\n",
       "   'success': 0,\n",
       "   'success_rate': 0.0,\n",
       "   'reset': 0,\n",
       "   'reset_rate': 0.0,\n",
       "   'normal': 4,\n",
       "   'normal_rate': 1.0}),\n",
       " ((45.099999999999994, -20.0000000000001),\n",
       "  {'total': 4,\n",
       "   'success': 0,\n",
       "   'success_rate': 0.0,\n",
       "   'reset': 0,\n",
       "   'reset_rate': 0.0,\n",
       "   'normal': 4,\n",
       "   'normal_rate': 1.0}),\n",
       " ((45.099999999999994, -20.400000000000098),\n",
       "  {'total': 4,\n",
       "   'success': 0,\n",
       "   'success_rate': 0.0,\n",
       "   'reset': 0,\n",
       "   'reset_rate': 0.0,\n",
       "   'normal': 4,\n",
       "   'normal_rate': 1.0}),\n",
       " ((45.099999999999994, -20.800000000000097),\n",
       "  {'total': 4,\n",
       "   'success': 0,\n",
       "   'success_rate': 0.0,\n",
       "   'reset': 0,\n",
       "   'reset_rate': 0.0,\n",
       "   'normal': 4,\n",
       "   'normal_rate': 1.0}),\n",
       " ((45.099999999999994, -21.200000000000095),\n",
       "  {'total': 4,\n",
       "   'success': 0,\n",
       "   'success_rate': 0.0,\n",
       "   'reset': 0,\n",
       "   'reset_rate': 0.0,\n",
       "   'normal': 4,\n",
       "   'normal_rate': 1.0}),\n",
       " ((45.099999999999994, -21.600000000000094),\n",
       "  {'total': 4,\n",
       "   'success': 0,\n",
       "   'success_rate': 0.0,\n",
       "   'reset': 0,\n",
       "   'reset_rate': 0.0,\n",
       "   'normal': 4,\n",
       "   'normal_rate': 1.0}),\n",
       " ((45.099999999999994, -22.000000000000092),\n",
       "  {'total': 4,\n",
       "   'success': 0,\n",
       "   'success_rate': 0.0,\n",
       "   'reset': 0,\n",
       "   'reset_rate': 0.0,\n",
       "   'normal': 4,\n",
       "   'normal_rate': 1.0}),\n",
       " ((45.099999999999994, -22.40000000000009),\n",
       "  {'total': 4,\n",
       "   'success': 0,\n",
       "   'success_rate': 0.0,\n",
       "   'reset': 0,\n",
       "   'reset_rate': 0.0,\n",
       "   'normal': 4,\n",
       "   'normal_rate': 1.0}),\n",
       " ((45.099999999999994, -22.80000000000009),\n",
       "  {'total': 4,\n",
       "   'success': 0,\n",
       "   'success_rate': 0.0,\n",
       "   'reset': 0,\n",
       "   'reset_rate': 0.0,\n",
       "   'normal': 4,\n",
       "   'normal_rate': 1.0}),\n",
       " ((45.099999999999994, -23.200000000000088),\n",
       "  {'total': 4,\n",
       "   'success': 0,\n",
       "   'success_rate': 0.0,\n",
       "   'reset': 0,\n",
       "   'reset_rate': 0.0,\n",
       "   'normal': 4,\n",
       "   'normal_rate': 1.0}),\n",
       " ((45.099999999999994, -23.600000000000087),\n",
       "  {'total': 4,\n",
       "   'success': 0,\n",
       "   'success_rate': 0.0,\n",
       "   'reset': 0,\n",
       "   'reset_rate': 0.0,\n",
       "   'normal': 4,\n",
       "   'normal_rate': 1.0}),\n",
       " ((45.099999999999994, -24.000000000000085),\n",
       "  {'total': 4,\n",
       "   'success': 0,\n",
       "   'success_rate': 0.0,\n",
       "   'reset': 0,\n",
       "   'reset_rate': 0.0,\n",
       "   'normal': 4,\n",
       "   'normal_rate': 1.0}),\n",
       " ((45.099999999999994, -24.400000000000084),\n",
       "  {'total': 4,\n",
       "   'success': 0,\n",
       "   'success_rate': 0.0,\n",
       "   'reset': 0,\n",
       "   'reset_rate': 0.0,\n",
       "   'normal': 4,\n",
       "   'normal_rate': 1.0}),\n",
       " ((45.099999999999994, -24.800000000000082),\n",
       "  {'total': 4,\n",
       "   'success': 0,\n",
       "   'success_rate': 0.0,\n",
       "   'reset': 0,\n",
       "   'reset_rate': 0.0,\n",
       "   'normal': 4,\n",
       "   'normal_rate': 1.0}),\n",
       " ((45.099999999999994, -25.20000000000008),\n",
       "  {'total': 4,\n",
       "   'success': 0,\n",
       "   'success_rate': 0.0,\n",
       "   'reset': 0,\n",
       "   'reset_rate': 0.0,\n",
       "   'normal': 4,\n",
       "   'normal_rate': 1.0}),\n",
       " ((45.099999999999994, -25.60000000000008),\n",
       "  {'total': 4,\n",
       "   'success': 0,\n",
       "   'success_rate': 0.0,\n",
       "   'reset': 0,\n",
       "   'reset_rate': 0.0,\n",
       "   'normal': 4,\n",
       "   'normal_rate': 1.0}),\n",
       " ((45.099999999999994, -26.000000000000078),\n",
       "  {'total': 4,\n",
       "   'success': 0,\n",
       "   'success_rate': 0.0,\n",
       "   'reset': 0,\n",
       "   'reset_rate': 0.0,\n",
       "   'normal': 4,\n",
       "   'normal_rate': 1.0}),\n",
       " ((45.099999999999994, -26.400000000000077),\n",
       "  {'total': 4,\n",
       "   'success': 0,\n",
       "   'success_rate': 0.0,\n",
       "   'reset': 0,\n",
       "   'reset_rate': 0.0,\n",
       "   'normal': 4,\n",
       "   'normal_rate': 1.0}),\n",
       " ((45.099999999999994, -26.800000000000075),\n",
       "  {'total': 4,\n",
       "   'success': 0,\n",
       "   'success_rate': 0.0,\n",
       "   'reset': 0,\n",
       "   'reset_rate': 0.0,\n",
       "   'normal': 4,\n",
       "   'normal_rate': 1.0}),\n",
       " ((45.099999999999994, -27.200000000000074),\n",
       "  {'total': 4,\n",
       "   'success': 0,\n",
       "   'success_rate': 0.0,\n",
       "   'reset': 0,\n",
       "   'reset_rate': 0.0,\n",
       "   'normal': 4,\n",
       "   'normal_rate': 1.0}),\n",
       " ((45.099999999999994, -27.600000000000072),\n",
       "  {'total': 4,\n",
       "   'success': 0,\n",
       "   'success_rate': 0.0,\n",
       "   'reset': 0,\n",
       "   'reset_rate': 0.0,\n",
       "   'normal': 4,\n",
       "   'normal_rate': 1.0}),\n",
       " ((45.099999999999994, -28.00000000000007),\n",
       "  {'total': 4,\n",
       "   'success': 0,\n",
       "   'success_rate': 0.0,\n",
       "   'reset': 0,\n",
       "   'reset_rate': 0.0,\n",
       "   'normal': 4,\n",
       "   'normal_rate': 1.0}),\n",
       " ((45.099999999999994, -28.40000000000007),\n",
       "  {'total': 4,\n",
       "   'success': 0,\n",
       "   'success_rate': 0.0,\n",
       "   'reset': 0,\n",
       "   'reset_rate': 0.0,\n",
       "   'normal': 4,\n",
       "   'normal_rate': 1.0}),\n",
       " ((45.099999999999994, -28.800000000000068),\n",
       "  {'total': 4,\n",
       "   'success': 0,\n",
       "   'success_rate': 0.0,\n",
       "   'reset': 0,\n",
       "   'reset_rate': 0.0,\n",
       "   'normal': 4,\n",
       "   'normal_rate': 1.0}),\n",
       " ((45.099999999999994, -29.200000000000067),\n",
       "  {'total': 4,\n",
       "   'success': 0,\n",
       "   'success_rate': 0.0,\n",
       "   'reset': 0,\n",
       "   'reset_rate': 0.0,\n",
       "   'normal': 4,\n",
       "   'normal_rate': 1.0}),\n",
       " ((45.099999999999994, -29.600000000000065),\n",
       "  {'total': 4,\n",
       "   'success': 0,\n",
       "   'success_rate': 0.0,\n",
       "   'reset': 0,\n",
       "   'reset_rate': 0.0,\n",
       "   'normal': 4,\n",
       "   'normal_rate': 1.0}),\n",
       " ((45.099999999999994, -30.000000000000064),\n",
       "  {'total': 4,\n",
       "   'success': 0,\n",
       "   'success_rate': 0.0,\n",
       "   'reset': 0,\n",
       "   'reset_rate': 0.0,\n",
       "   'normal': 4,\n",
       "   'normal_rate': 1.0}),\n",
       " ((45.099999999999994, -30.400000000000063),\n",
       "  {'total': 4,\n",
       "   'success': 0,\n",
       "   'success_rate': 0.0,\n",
       "   'reset': 0,\n",
       "   'reset_rate': 0.0,\n",
       "   'normal': 4,\n",
       "   'normal_rate': 1.0}),\n",
       " ((45.099999999999994, -30.80000000000006),\n",
       "  {'total': 4,\n",
       "   'success': 0,\n",
       "   'success_rate': 0.0,\n",
       "   'reset': 0,\n",
       "   'reset_rate': 0.0,\n",
       "   'normal': 4,\n",
       "   'normal_rate': 1.0}),\n",
       " ((45.099999999999994, -31.20000000000006),\n",
       "  {'total': 4,\n",
       "   'success': 0,\n",
       "   'success_rate': 0.0,\n",
       "   'reset': 0,\n",
       "   'reset_rate': 0.0,\n",
       "   'normal': 4,\n",
       "   'normal_rate': 1.0}),\n",
       " ((45.099999999999994, -31.60000000000006),\n",
       "  {'total': 4,\n",
       "   'success': 0,\n",
       "   'success_rate': 0.0,\n",
       "   'reset': 0,\n",
       "   'reset_rate': 0.0,\n",
       "   'normal': 4,\n",
       "   'normal_rate': 1.0}),\n",
       " ((45.099999999999994, -32.00000000000006),\n",
       "  {'total': 4,\n",
       "   'success': 0,\n",
       "   'success_rate': 0.0,\n",
       "   'reset': 0,\n",
       "   'reset_rate': 0.0,\n",
       "   'normal': 4,\n",
       "   'normal_rate': 1.0}),\n",
       " ((45.099999999999994, -32.400000000000055),\n",
       "  {'total': 4,\n",
       "   'success': 0,\n",
       "   'success_rate': 0.0,\n",
       "   'reset': 0,\n",
       "   'reset_rate': 0.0,\n",
       "   'normal': 4,\n",
       "   'normal_rate': 1.0}),\n",
       " ((45.099999999999994, -32.800000000000054),\n",
       "  {'total': 4,\n",
       "   'success': 0,\n",
       "   'success_rate': 0.0,\n",
       "   'reset': 0,\n",
       "   'reset_rate': 0.0,\n",
       "   'normal': 4,\n",
       "   'normal_rate': 1.0}),\n",
       " ((45.099999999999994, -33.20000000000005),\n",
       "  {'total': 4,\n",
       "   'success': 0,\n",
       "   'success_rate': 0.0,\n",
       "   'reset': 0,\n",
       "   'reset_rate': 0.0,\n",
       "   'normal': 4,\n",
       "   'normal_rate': 1.0}),\n",
       " ((45.099999999999994, -33.60000000000005),\n",
       "  {'total': 4,\n",
       "   'success': 0,\n",
       "   'success_rate': 0.0,\n",
       "   'reset': 0,\n",
       "   'reset_rate': 0.0,\n",
       "   'normal': 4,\n",
       "   'normal_rate': 1.0}),\n",
       " ((45.099999999999994, -34.00000000000005),\n",
       "  {'total': 4,\n",
       "   'success': 0,\n",
       "   'success_rate': 0.0,\n",
       "   'reset': 0,\n",
       "   'reset_rate': 0.0,\n",
       "   'normal': 4,\n",
       "   'normal_rate': 1.0}),\n",
       " ((45.099999999999994, -34.40000000000005),\n",
       "  {'total': 4,\n",
       "   'success': 0,\n",
       "   'success_rate': 0.0,\n",
       "   'reset': 0,\n",
       "   'reset_rate': 0.0,\n",
       "   'normal': 4,\n",
       "   'normal_rate': 1.0}),\n",
       " ((45.099999999999994, -34.80000000000005),\n",
       "  {'total': 4,\n",
       "   'success': 0,\n",
       "   'success_rate': 0.0,\n",
       "   'reset': 0,\n",
       "   'reset_rate': 0.0,\n",
       "   'normal': 4,\n",
       "   'normal_rate': 1.0}),\n",
       " ((45.099999999999994, -35.200000000000045),\n",
       "  {'total': 4,\n",
       "   'success': 0,\n",
       "   'success_rate': 0.0,\n",
       "   'reset': 0,\n",
       "   'reset_rate': 0.0,\n",
       "   'normal': 4,\n",
       "   'normal_rate': 1.0}),\n",
       " ((45.099999999999994, -35.600000000000044),\n",
       "  {'total': 4,\n",
       "   'success': 0,\n",
       "   'success_rate': 0.0,\n",
       "   'reset': 0,\n",
       "   'reset_rate': 0.0,\n",
       "   'normal': 4,\n",
       "   'normal_rate': 1.0}),\n",
       " ((45.099999999999994, -36.00000000000004),\n",
       "  {'total': 4,\n",
       "   'success': 0,\n",
       "   'success_rate': 0.0,\n",
       "   'reset': 0,\n",
       "   'reset_rate': 0.0,\n",
       "   'normal': 4,\n",
       "   'normal_rate': 1.0}),\n",
       " ((45.099999999999994, -36.40000000000004),\n",
       "  {'total': 4,\n",
       "   'success': 0,\n",
       "   'success_rate': 0.0,\n",
       "   'reset': 0,\n",
       "   'reset_rate': 0.0,\n",
       "   'normal': 4,\n",
       "   'normal_rate': 1.0}),\n",
       " ((45.099999999999994, -36.80000000000004),\n",
       "  {'total': 4,\n",
       "   'success': 0,\n",
       "   'success_rate': 0.0,\n",
       "   'reset': 0,\n",
       "   'reset_rate': 0.0,\n",
       "   'normal': 4,\n",
       "   'normal_rate': 1.0}),\n",
       " ((45.099999999999994, -37.20000000000004),\n",
       "  {'total': 4,\n",
       "   'success': 0,\n",
       "   'success_rate': 0.0,\n",
       "   'reset': 0,\n",
       "   'reset_rate': 0.0,\n",
       "   'normal': 4,\n",
       "   'normal_rate': 1.0}),\n",
       " ((45.099999999999994, -37.60000000000004),\n",
       "  {'total': 4,\n",
       "   'success': 0,\n",
       "   'success_rate': 0.0,\n",
       "   'reset': 0,\n",
       "   'reset_rate': 0.0,\n",
       "   'normal': 4,\n",
       "   'normal_rate': 1.0}),\n",
       " ((45.099999999999994, -38.000000000000036),\n",
       "  {'total': 4,\n",
       "   'success': 0,\n",
       "   'success_rate': 0.0,\n",
       "   'reset': 0,\n",
       "   'reset_rate': 0.0,\n",
       "   'normal': 4,\n",
       "   'normal_rate': 1.0}),\n",
       " ((45.099999999999994, -38.400000000000034),\n",
       "  {'total': 4,\n",
       "   'success': 0,\n",
       "   'success_rate': 0.0,\n",
       "   'reset': 0,\n",
       "   'reset_rate': 0.0,\n",
       "   'normal': 4,\n",
       "   'normal_rate': 1.0}),\n",
       " ((45.099999999999994, -38.80000000000003),\n",
       "  {'total': 4,\n",
       "   'success': 0,\n",
       "   'success_rate': 0.0,\n",
       "   'reset': 0,\n",
       "   'reset_rate': 0.0,\n",
       "   'normal': 4,\n",
       "   'normal_rate': 1.0}),\n",
       " ((45.099999999999994, -39.20000000000003),\n",
       "  {'total': 4,\n",
       "   'success': 0,\n",
       "   'success_rate': 0.0,\n",
       "   'reset': 0,\n",
       "   'reset_rate': 0.0,\n",
       "   'normal': 4,\n",
       "   'normal_rate': 1.0}),\n",
       " ((45.099999999999994, -39.60000000000003),\n",
       "  {'total': 4,\n",
       "   'success': 0,\n",
       "   'success_rate': 0.0,\n",
       "   'reset': 0,\n",
       "   'reset_rate': 0.0,\n",
       "   'normal': 4,\n",
       "   'normal_rate': 1.0}),\n",
       " ((45.099999999999994, -40.00000000000003),\n",
       "  {'total': 4,\n",
       "   'success': 0,\n",
       "   'success_rate': 0.0,\n",
       "   'reset': 0,\n",
       "   'reset_rate': 0.0,\n",
       "   'normal': 4,\n",
       "   'normal_rate': 1.0}),\n",
       " ((45.099999999999994, -40.40000000000003),\n",
       "  {'total': 4,\n",
       "   'success': 0,\n",
       "   'success_rate': 0.0,\n",
       "   'reset': 0,\n",
       "   'reset_rate': 0.0,\n",
       "   'normal': 4,\n",
       "   'normal_rate': 1.0}),\n",
       " ((45.099999999999994, -40.800000000000026),\n",
       "  {'total': 4,\n",
       "   'success': 0,\n",
       "   'success_rate': 0.0,\n",
       "   'reset': 0,\n",
       "   'reset_rate': 0.0,\n",
       "   'normal': 4,\n",
       "   'normal_rate': 1.0}),\n",
       " ((45.099999999999994, -41.200000000000024),\n",
       "  {'total': 4,\n",
       "   'success': 0,\n",
       "   'success_rate': 0.0,\n",
       "   'reset': 0,\n",
       "   'reset_rate': 0.0,\n",
       "   'normal': 4,\n",
       "   'normal_rate': 1.0}),\n",
       " ((45.099999999999994, -41.60000000000002),\n",
       "  {'total': 4,\n",
       "   'success': 0,\n",
       "   'success_rate': 0.0,\n",
       "   'reset': 0,\n",
       "   'reset_rate': 0.0,\n",
       "   'normal': 4,\n",
       "   'normal_rate': 1.0}),\n",
       " ((45.099999999999994, -42.00000000000002),\n",
       "  {'total': 4,\n",
       "   'success': 0,\n",
       "   'success_rate': 0.0,\n",
       "   'reset': 0,\n",
       "   'reset_rate': 0.0,\n",
       "   'normal': 4,\n",
       "   'normal_rate': 1.0}),\n",
       " ((45.099999999999994, -42.40000000000002),\n",
       "  {'total': 4,\n",
       "   'success': 0,\n",
       "   'success_rate': 0.0,\n",
       "   'reset': 0,\n",
       "   'reset_rate': 0.0,\n",
       "   'normal': 4,\n",
       "   'normal_rate': 1.0}),\n",
       " ((45.099999999999994, -42.80000000000002),\n",
       "  {'total': 4,\n",
       "   'success': 0,\n",
       "   'success_rate': 0.0,\n",
       "   'reset': 0,\n",
       "   'reset_rate': 0.0,\n",
       "   'normal': 4,\n",
       "   'normal_rate': 1.0}),\n",
       " ((45.099999999999994, -43.20000000000002),\n",
       "  {'total': 4,\n",
       "   'success': 0,\n",
       "   'success_rate': 0.0,\n",
       "   'reset': 0,\n",
       "   'reset_rate': 0.0,\n",
       "   'normal': 4,\n",
       "   'normal_rate': 1.0}),\n",
       " ((45.099999999999994, -43.600000000000016),\n",
       "  {'total': 4,\n",
       "   'success': 0,\n",
       "   'success_rate': 0.0,\n",
       "   'reset': 0,\n",
       "   'reset_rate': 0.0,\n",
       "   'normal': 4,\n",
       "   'normal_rate': 1.0}),\n",
       " ((45.099999999999994, -44.000000000000014),\n",
       "  {'total': 4,\n",
       "   'success': 0,\n",
       "   'success_rate': 0.0,\n",
       "   'reset': 0,\n",
       "   'reset_rate': 0.0,\n",
       "   'normal': 4,\n",
       "   'normal_rate': 1.0}),\n",
       " ((45.099999999999994, -44.40000000000001),\n",
       "  {'total': 4,\n",
       "   'success': 0,\n",
       "   'success_rate': 0.0,\n",
       "   'reset': 0,\n",
       "   'reset_rate': 0.0,\n",
       "   'normal': 4,\n",
       "   'normal_rate': 1.0}),\n",
       " ((45.099999999999994, -44.80000000000001),\n",
       "  {'total': 4,\n",
       "   'success': 0,\n",
       "   'success_rate': 0.0,\n",
       "   'reset': 0,\n",
       "   'reset_rate': 0.0,\n",
       "   'normal': 4,\n",
       "   'normal_rate': 1.0}),\n",
       " ((45.099999999999994, -45.20000000000001),\n",
       "  {'total': 4,\n",
       "   'success': 0,\n",
       "   'success_rate': 0.0,\n",
       "   'reset': 0,\n",
       "   'reset_rate': 0.0,\n",
       "   'normal': 4,\n",
       "   'normal_rate': 1.0}),\n",
       " ((45.099999999999994, -45.60000000000001),\n",
       "  {'total': 4,\n",
       "   'success': 0,\n",
       "   'success_rate': 0.0,\n",
       "   'reset': 0,\n",
       "   'reset_rate': 0.0,\n",
       "   'normal': 4,\n",
       "   'normal_rate': 1.0}),\n",
       " ((45.099999999999994, -46.00000000000001),\n",
       "  {'total': 4,\n",
       "   'success': 0,\n",
       "   'success_rate': 0.0,\n",
       "   'reset': 0,\n",
       "   'reset_rate': 0.0,\n",
       "   'normal': 4,\n",
       "   'normal_rate': 1.0}),\n",
       " ((45.099999999999994, -46.400000000000006),\n",
       "  {'total': 4,\n",
       "   'success': 0,\n",
       "   'success_rate': 0.0,\n",
       "   'reset': 0,\n",
       "   'reset_rate': 0.0,\n",
       "   'normal': 4,\n",
       "   'normal_rate': 1.0}),\n",
       " ((45.099999999999994, -46.800000000000004),\n",
       "  {'total': 4,\n",
       "   'success': 0,\n",
       "   'success_rate': 0.0,\n",
       "   'reset': 0,\n",
       "   'reset_rate': 0.0,\n",
       "   'normal': 4,\n",
       "   'normal_rate': 1.0}),\n",
       " ((45.099999999999994, -47.2),\n",
       "  {'total': 4,\n",
       "   'success': 0,\n",
       "   'success_rate': 0.0,\n",
       "   'reset': 0,\n",
       "   'reset_rate': 0.0,\n",
       "   'normal': 4,\n",
       "   'normal_rate': 1.0}),\n",
       " ((45.099999999999994, -47.6),\n",
       "  {'total': 4,\n",
       "   'success': 0,\n",
       "   'success_rate': 0.0,\n",
       "   'reset': 0,\n",
       "   'reset_rate': 0.0,\n",
       "   'normal': 4,\n",
       "   'normal_rate': 1.0}),\n",
       " ((45.099999999999994, -48),\n",
       "  {'total': 4,\n",
       "   'success': 0,\n",
       "   'success_rate': 0.0,\n",
       "   'reset': 0,\n",
       "   'reset_rate': 0.0,\n",
       "   'normal': 4,\n",
       "   'normal_rate': 1.0}),\n",
       " ((44.699999999999996, -10.000000000000108),\n",
       "  {'total': 4,\n",
       "   'success': 0,\n",
       "   'success_rate': 0.0,\n",
       "   'reset': 0,\n",
       "   'reset_rate': 0.0,\n",
       "   'normal': 4,\n",
       "   'normal_rate': 1.0}),\n",
       " ((44.699999999999996, -10.400000000000109),\n",
       "  {'total': 4,\n",
       "   'success': 0,\n",
       "   'success_rate': 0.0,\n",
       "   'reset': 0,\n",
       "   'reset_rate': 0.0,\n",
       "   'normal': 4,\n",
       "   'normal_rate': 1.0}),\n",
       " ((44.699999999999996, -10.800000000000109),\n",
       "  {'total': 4,\n",
       "   'success': 0,\n",
       "   'success_rate': 0.0,\n",
       "   'reset': 0,\n",
       "   'reset_rate': 0.0,\n",
       "   'normal': 4,\n",
       "   'normal_rate': 1.0}),\n",
       " ((44.699999999999996, -11.20000000000011),\n",
       "  {'total': 4,\n",
       "   'success': 0,\n",
       "   'success_rate': 0.0,\n",
       "   'reset': 0,\n",
       "   'reset_rate': 0.0,\n",
       "   'normal': 4,\n",
       "   'normal_rate': 1.0}),\n",
       " ((44.699999999999996, -11.60000000000011),\n",
       "  {'total': 4,\n",
       "   'success': 0,\n",
       "   'success_rate': 0.0,\n",
       "   'reset': 0,\n",
       "   'reset_rate': 0.0,\n",
       "   'normal': 4,\n",
       "   'normal_rate': 1.0}),\n",
       " ((44.699999999999996, -12.00000000000011),\n",
       "  {'total': 4,\n",
       "   'success': 0,\n",
       "   'success_rate': 0.0,\n",
       "   'reset': 0,\n",
       "   'reset_rate': 0.0,\n",
       "   'normal': 4,\n",
       "   'normal_rate': 1.0}),\n",
       " ((44.699999999999996, -12.40000000000011),\n",
       "  {'total': 4,\n",
       "   'success': 0,\n",
       "   'success_rate': 0.0,\n",
       "   'reset': 0,\n",
       "   'reset_rate': 0.0,\n",
       "   'normal': 4,\n",
       "   'normal_rate': 1.0}),\n",
       " ((44.699999999999996, -12.80000000000011),\n",
       "  {'total': 4,\n",
       "   'success': 0,\n",
       "   'success_rate': 0.0,\n",
       "   'reset': 0,\n",
       "   'reset_rate': 0.0,\n",
       "   'normal': 4,\n",
       "   'normal_rate': 1.0}),\n",
       " ((44.699999999999996, -13.200000000000111),\n",
       "  {'total': 4,\n",
       "   'success': 0,\n",
       "   'success_rate': 0.0,\n",
       "   'reset': 0,\n",
       "   'reset_rate': 0.0,\n",
       "   'normal': 4,\n",
       "   'normal_rate': 1.0}),\n",
       " ((44.699999999999996, -13.600000000000112),\n",
       "  {'total': 4,\n",
       "   'success': 0,\n",
       "   'success_rate': 0.0,\n",
       "   'reset': 0,\n",
       "   'reset_rate': 0.0,\n",
       "   'normal': 4,\n",
       "   'normal_rate': 1.0}),\n",
       " ((44.699999999999996, -14.000000000000112),\n",
       "  {'total': 4,\n",
       "   'success': 0,\n",
       "   'success_rate': 0.0,\n",
       "   'reset': 0,\n",
       "   'reset_rate': 0.0,\n",
       "   'normal': 4,\n",
       "   'normal_rate': 1.0}),\n",
       " ((44.699999999999996, -14.400000000000112),\n",
       "  {'total': 4,\n",
       "   'success': 0,\n",
       "   'success_rate': 0.0,\n",
       "   'reset': 0,\n",
       "   'reset_rate': 0.0,\n",
       "   'normal': 4,\n",
       "   'normal_rate': 1.0}),\n",
       " ((44.699999999999996, -14.800000000000113),\n",
       "  {'total': 4,\n",
       "   'success': 0,\n",
       "   'success_rate': 0.0,\n",
       "   'reset': 0,\n",
       "   'reset_rate': 0.0,\n",
       "   'normal': 4,\n",
       "   'normal_rate': 1.0}),\n",
       " ((44.699999999999996, -15.200000000000113),\n",
       "  {'total': 4,\n",
       "   'success': 0,\n",
       "   'success_rate': 0.0,\n",
       "   'reset': 0,\n",
       "   'reset_rate': 0.0,\n",
       "   'normal': 4,\n",
       "   'normal_rate': 1.0}),\n",
       " ((44.699999999999996, -15.600000000000113),\n",
       "  {'total': 4,\n",
       "   'success': 0,\n",
       "   'success_rate': 0.0,\n",
       "   'reset': 0,\n",
       "   'reset_rate': 0.0,\n",
       "   'normal': 4,\n",
       "   'normal_rate': 1.0}),\n",
       " ((44.699999999999996, -16.000000000000114),\n",
       "  {'total': 4,\n",
       "   'success': 0,\n",
       "   'success_rate': 0.0,\n",
       "   'reset': 0,\n",
       "   'reset_rate': 0.0,\n",
       "   'normal': 4,\n",
       "   'normal_rate': 1.0}),\n",
       " ((44.699999999999996, -16.400000000000112),\n",
       "  {'total': 4,\n",
       "   'success': 0,\n",
       "   'success_rate': 0.0,\n",
       "   'reset': 0,\n",
       "   'reset_rate': 0.0,\n",
       "   'normal': 4,\n",
       "   'normal_rate': 1.0}),\n",
       " ((44.699999999999996, -16.80000000000011),\n",
       "  {'total': 4,\n",
       "   'success': 0,\n",
       "   'success_rate': 0.0,\n",
       "   'reset': 0,\n",
       "   'reset_rate': 0.0,\n",
       "   'normal': 4,\n",
       "   'normal_rate': 1.0}),\n",
       " ((44.699999999999996, -17.20000000000011),\n",
       "  {'total': 4,\n",
       "   'success': 0,\n",
       "   'success_rate': 0.0,\n",
       "   'reset': 0,\n",
       "   'reset_rate': 0.0,\n",
       "   'normal': 4,\n",
       "   'normal_rate': 1.0}),\n",
       " ((44.699999999999996, -17.600000000000108),\n",
       "  {'total': 4,\n",
       "   'success': 0,\n",
       "   'success_rate': 0.0,\n",
       "   'reset': 0,\n",
       "   'reset_rate': 0.0,\n",
       "   'normal': 4,\n",
       "   'normal_rate': 1.0}),\n",
       " ((44.699999999999996, -18.000000000000107),\n",
       "  {'total': 4,\n",
       "   'success': 0,\n",
       "   'success_rate': 0.0,\n",
       "   'reset': 0,\n",
       "   'reset_rate': 0.0,\n",
       "   'normal': 4,\n",
       "   'normal_rate': 1.0}),\n",
       " ((44.699999999999996, -18.400000000000105),\n",
       "  {'total': 4,\n",
       "   'success': 0,\n",
       "   'success_rate': 0.0,\n",
       "   'reset': 0,\n",
       "   'reset_rate': 0.0,\n",
       "   'normal': 4,\n",
       "   'normal_rate': 1.0}),\n",
       " ((44.699999999999996, -18.800000000000104),\n",
       "  {'total': 4,\n",
       "   'success': 0,\n",
       "   'success_rate': 0.0,\n",
       "   'reset': 0,\n",
       "   'reset_rate': 0.0,\n",
       "   'normal': 4,\n",
       "   'normal_rate': 1.0}),\n",
       " ((44.699999999999996, -19.200000000000102),\n",
       "  {'total': 4,\n",
       "   'success': 0,\n",
       "   'success_rate': 0.0,\n",
       "   'reset': 0,\n",
       "   'reset_rate': 0.0,\n",
       "   'normal': 4,\n",
       "   'normal_rate': 1.0}),\n",
       " ((44.699999999999996, -19.6000000000001),\n",
       "  {'total': 4,\n",
       "   'success': 0,\n",
       "   'success_rate': 0.0,\n",
       "   'reset': 0,\n",
       "   'reset_rate': 0.0,\n",
       "   'normal': 4,\n",
       "   'normal_rate': 1.0}),\n",
       " ((44.699999999999996, -20.0000000000001),\n",
       "  {'total': 4,\n",
       "   'success': 0,\n",
       "   'success_rate': 0.0,\n",
       "   'reset': 0,\n",
       "   'reset_rate': 0.0,\n",
       "   'normal': 4,\n",
       "   'normal_rate': 1.0}),\n",
       " ((44.699999999999996, -20.400000000000098),\n",
       "  {'total': 4,\n",
       "   'success': 0,\n",
       "   'success_rate': 0.0,\n",
       "   'reset': 0,\n",
       "   'reset_rate': 0.0,\n",
       "   'normal': 4,\n",
       "   'normal_rate': 1.0}),\n",
       " ((44.699999999999996, -20.800000000000097),\n",
       "  {'total': 4,\n",
       "   'success': 0,\n",
       "   'success_rate': 0.0,\n",
       "   'reset': 0,\n",
       "   'reset_rate': 0.0,\n",
       "   'normal': 4,\n",
       "   'normal_rate': 1.0}),\n",
       " ((44.699999999999996, -21.200000000000095),\n",
       "  {'total': 4,\n",
       "   'success': 0,\n",
       "   'success_rate': 0.0,\n",
       "   'reset': 0,\n",
       "   'reset_rate': 0.0,\n",
       "   'normal': 4,\n",
       "   'normal_rate': 1.0}),\n",
       " ((44.699999999999996, -21.600000000000094),\n",
       "  {'total': 4,\n",
       "   'success': 0,\n",
       "   'success_rate': 0.0,\n",
       "   'reset': 0,\n",
       "   'reset_rate': 0.0,\n",
       "   'normal': 4,\n",
       "   'normal_rate': 1.0}),\n",
       " ((44.699999999999996, -22.000000000000092),\n",
       "  {'total': 4,\n",
       "   'success': 0,\n",
       "   'success_rate': 0.0,\n",
       "   'reset': 0,\n",
       "   'reset_rate': 0.0,\n",
       "   'normal': 4,\n",
       "   'normal_rate': 1.0}),\n",
       " ((44.699999999999996, -22.40000000000009),\n",
       "  {'total': 4,\n",
       "   'success': 0,\n",
       "   'success_rate': 0.0,\n",
       "   'reset': 0,\n",
       "   'reset_rate': 0.0,\n",
       "   'normal': 4,\n",
       "   'normal_rate': 1.0}),\n",
       " ((44.699999999999996, -22.80000000000009),\n",
       "  {'total': 4,\n",
       "   'success': 0,\n",
       "   'success_rate': 0.0,\n",
       "   'reset': 0,\n",
       "   'reset_rate': 0.0,\n",
       "   'normal': 4,\n",
       "   'normal_rate': 1.0}),\n",
       " ((44.699999999999996, -23.200000000000088),\n",
       "  {'total': 4,\n",
       "   'success': 0,\n",
       "   'success_rate': 0.0,\n",
       "   'reset': 0,\n",
       "   'reset_rate': 0.0,\n",
       "   'normal': 4,\n",
       "   'normal_rate': 1.0}),\n",
       " ((44.699999999999996, -23.600000000000087),\n",
       "  {'total': 4,\n",
       "   'success': 0,\n",
       "   'success_rate': 0.0,\n",
       "   'reset': 0,\n",
       "   'reset_rate': 0.0,\n",
       "   'normal': 4,\n",
       "   'normal_rate': 1.0}),\n",
       " ((44.699999999999996, -24.000000000000085),\n",
       "  {'total': 4,\n",
       "   'success': 0,\n",
       "   'success_rate': 0.0,\n",
       "   'reset': 0,\n",
       "   'reset_rate': 0.0,\n",
       "   'normal': 4,\n",
       "   'normal_rate': 1.0}),\n",
       " ((44.699999999999996, -24.400000000000084),\n",
       "  {'total': 4,\n",
       "   'success': 0,\n",
       "   'success_rate': 0.0,\n",
       "   'reset': 0,\n",
       "   'reset_rate': 0.0,\n",
       "   'normal': 4,\n",
       "   'normal_rate': 1.0}),\n",
       " ((44.699999999999996, -24.800000000000082),\n",
       "  {'total': 4,\n",
       "   'success': 0,\n",
       "   'success_rate': 0.0,\n",
       "   'reset': 0,\n",
       "   'reset_rate': 0.0,\n",
       "   'normal': 4,\n",
       "   'normal_rate': 1.0}),\n",
       " ((44.699999999999996, -25.20000000000008),\n",
       "  {'total': 4,\n",
       "   'success': 0,\n",
       "   'success_rate': 0.0,\n",
       "   'reset': 0,\n",
       "   'reset_rate': 0.0,\n",
       "   'normal': 4,\n",
       "   'normal_rate': 1.0}),\n",
       " ((44.699999999999996, -25.60000000000008),\n",
       "  {'total': 4,\n",
       "   'success': 0,\n",
       "   'success_rate': 0.0,\n",
       "   'reset': 0,\n",
       "   'reset_rate': 0.0,\n",
       "   'normal': 4,\n",
       "   'normal_rate': 1.0}),\n",
       " ((44.699999999999996, -26.000000000000078),\n",
       "  {'total': 4,\n",
       "   'success': 0,\n",
       "   'success_rate': 0.0,\n",
       "   'reset': 0,\n",
       "   'reset_rate': 0.0,\n",
       "   'normal': 4,\n",
       "   'normal_rate': 1.0}),\n",
       " ((44.699999999999996, -26.400000000000077),\n",
       "  {'total': 4,\n",
       "   'success': 0,\n",
       "   'success_rate': 0.0,\n",
       "   'reset': 0,\n",
       "   'reset_rate': 0.0,\n",
       "   'normal': 4,\n",
       "   'normal_rate': 1.0}),\n",
       " ((44.699999999999996, -26.800000000000075),\n",
       "  {'total': 4,\n",
       "   'success': 0,\n",
       "   'success_rate': 0.0,\n",
       "   'reset': 0,\n",
       "   'reset_rate': 0.0,\n",
       "   'normal': 4,\n",
       "   'normal_rate': 1.0}),\n",
       " ((44.699999999999996, -27.200000000000074),\n",
       "  {'total': 4,\n",
       "   'success': 0,\n",
       "   'success_rate': 0.0,\n",
       "   'reset': 0,\n",
       "   'reset_rate': 0.0,\n",
       "   'normal': 4,\n",
       "   'normal_rate': 1.0}),\n",
       " ((44.699999999999996, -27.600000000000072),\n",
       "  {'total': 4,\n",
       "   'success': 0,\n",
       "   'success_rate': 0.0,\n",
       "   'reset': 0,\n",
       "   'reset_rate': 0.0,\n",
       "   'normal': 4,\n",
       "   'normal_rate': 1.0}),\n",
       " ((44.699999999999996, -28.00000000000007),\n",
       "  {'total': 4,\n",
       "   'success': 0,\n",
       "   'success_rate': 0.0,\n",
       "   'reset': 0,\n",
       "   'reset_rate': 0.0,\n",
       "   'normal': 4,\n",
       "   'normal_rate': 1.0}),\n",
       " ((44.699999999999996, -28.40000000000007),\n",
       "  {'total': 4,\n",
       "   'success': 0,\n",
       "   'success_rate': 0.0,\n",
       "   'reset': 0,\n",
       "   'reset_rate': 0.0,\n",
       "   'normal': 4,\n",
       "   'normal_rate': 1.0}),\n",
       " ((44.699999999999996, -28.800000000000068),\n",
       "  {'total': 4,\n",
       "   'success': 0,\n",
       "   'success_rate': 0.0,\n",
       "   'reset': 0,\n",
       "   'reset_rate': 0.0,\n",
       "   'normal': 4,\n",
       "   'normal_rate': 1.0}),\n",
       " ((44.699999999999996, -29.200000000000067),\n",
       "  {'total': 4,\n",
       "   'success': 0,\n",
       "   'success_rate': 0.0,\n",
       "   'reset': 0,\n",
       "   'reset_rate': 0.0,\n",
       "   'normal': 4,\n",
       "   'normal_rate': 1.0}),\n",
       " ((44.699999999999996, -29.600000000000065),\n",
       "  {'total': 4,\n",
       "   'success': 0,\n",
       "   'success_rate': 0.0,\n",
       "   'reset': 0,\n",
       "   'reset_rate': 0.0,\n",
       "   'normal': 4,\n",
       "   'normal_rate': 1.0}),\n",
       " ((44.699999999999996, -30.000000000000064),\n",
       "  {'total': 4,\n",
       "   'success': 0,\n",
       "   'success_rate': 0.0,\n",
       "   'reset': 0,\n",
       "   'reset_rate': 0.0,\n",
       "   'normal': 4,\n",
       "   'normal_rate': 1.0}),\n",
       " ((44.699999999999996, -30.400000000000063),\n",
       "  {'total': 4,\n",
       "   'success': 0,\n",
       "   'success_rate': 0.0,\n",
       "   'reset': 0,\n",
       "   'reset_rate': 0.0,\n",
       "   'normal': 4,\n",
       "   'normal_rate': 1.0}),\n",
       " ((44.699999999999996, -30.80000000000006),\n",
       "  {'total': 4,\n",
       "   'success': 0,\n",
       "   'success_rate': 0.0,\n",
       "   'reset': 0,\n",
       "   'reset_rate': 0.0,\n",
       "   'normal': 4,\n",
       "   'normal_rate': 1.0}),\n",
       " ((44.699999999999996, -31.20000000000006),\n",
       "  {'total': 4,\n",
       "   'success': 0,\n",
       "   'success_rate': 0.0,\n",
       "   'reset': 0,\n",
       "   'reset_rate': 0.0,\n",
       "   'normal': 4,\n",
       "   'normal_rate': 1.0}),\n",
       " ((44.699999999999996, -31.60000000000006),\n",
       "  {'total': 4,\n",
       "   'success': 0,\n",
       "   'success_rate': 0.0,\n",
       "   'reset': 0,\n",
       "   'reset_rate': 0.0,\n",
       "   'normal': 4,\n",
       "   'normal_rate': 1.0}),\n",
       " ((44.699999999999996, -32.00000000000006),\n",
       "  {'total': 4,\n",
       "   'success': 0,\n",
       "   'success_rate': 0.0,\n",
       "   'reset': 0,\n",
       "   'reset_rate': 0.0,\n",
       "   'normal': 4,\n",
       "   'normal_rate': 1.0}),\n",
       " ((44.699999999999996, -32.400000000000055),\n",
       "  {'total': 4,\n",
       "   'success': 0,\n",
       "   'success_rate': 0.0,\n",
       "   'reset': 0,\n",
       "   'reset_rate': 0.0,\n",
       "   'normal': 4,\n",
       "   'normal_rate': 1.0}),\n",
       " ((44.699999999999996, -32.800000000000054),\n",
       "  {'total': 4,\n",
       "   'success': 0,\n",
       "   'success_rate': 0.0,\n",
       "   'reset': 0,\n",
       "   'reset_rate': 0.0,\n",
       "   'normal': 4,\n",
       "   'normal_rate': 1.0}),\n",
       " ((44.699999999999996, -33.20000000000005),\n",
       "  {'total': 4,\n",
       "   'success': 0,\n",
       "   'success_rate': 0.0,\n",
       "   'reset': 0,\n",
       "   'reset_rate': 0.0,\n",
       "   'normal': 4,\n",
       "   'normal_rate': 1.0}),\n",
       " ((44.699999999999996, -33.60000000000005),\n",
       "  {'total': 4,\n",
       "   'success': 0,\n",
       "   'success_rate': 0.0,\n",
       "   'reset': 0,\n",
       "   'reset_rate': 0.0,\n",
       "   'normal': 4,\n",
       "   'normal_rate': 1.0}),\n",
       " ((44.699999999999996, -34.00000000000005),\n",
       "  {'total': 4,\n",
       "   'success': 0,\n",
       "   'success_rate': 0.0,\n",
       "   'reset': 0,\n",
       "   'reset_rate': 0.0,\n",
       "   'normal': 4,\n",
       "   'normal_rate': 1.0}),\n",
       " ((44.699999999999996, -34.40000000000005),\n",
       "  {'total': 4,\n",
       "   'success': 0,\n",
       "   'success_rate': 0.0,\n",
       "   'reset': 0,\n",
       "   'reset_rate': 0.0,\n",
       "   'normal': 4,\n",
       "   'normal_rate': 1.0}),\n",
       " ((44.699999999999996, -34.80000000000005),\n",
       "  {'total': 4,\n",
       "   'success': 0,\n",
       "   'success_rate': 0.0,\n",
       "   'reset': 0,\n",
       "   'reset_rate': 0.0,\n",
       "   'normal': 4,\n",
       "   'normal_rate': 1.0}),\n",
       " ((44.699999999999996, -35.200000000000045),\n",
       "  {'total': 4,\n",
       "   'success': 0,\n",
       "   'success_rate': 0.0,\n",
       "   'reset': 0,\n",
       "   'reset_rate': 0.0,\n",
       "   'normal': 4,\n",
       "   'normal_rate': 1.0}),\n",
       " ((44.699999999999996, -35.600000000000044),\n",
       "  {'total': 4,\n",
       "   'success': 0,\n",
       "   'success_rate': 0.0,\n",
       "   'reset': 0,\n",
       "   'reset_rate': 0.0,\n",
       "   'normal': 4,\n",
       "   'normal_rate': 1.0}),\n",
       " ((44.699999999999996, -36.00000000000004),\n",
       "  {'total': 4,\n",
       "   'success': 0,\n",
       "   'success_rate': 0.0,\n",
       "   'reset': 0,\n",
       "   'reset_rate': 0.0,\n",
       "   'normal': 4,\n",
       "   'normal_rate': 1.0}),\n",
       " ((44.699999999999996, -36.40000000000004),\n",
       "  {'total': 4,\n",
       "   'success': 0,\n",
       "   'success_rate': 0.0,\n",
       "   'reset': 0,\n",
       "   'reset_rate': 0.0,\n",
       "   'normal': 4,\n",
       "   'normal_rate': 1.0}),\n",
       " ((44.699999999999996, -36.80000000000004),\n",
       "  {'total': 4,\n",
       "   'success': 0,\n",
       "   'success_rate': 0.0,\n",
       "   'reset': 0,\n",
       "   'reset_rate': 0.0,\n",
       "   'normal': 4,\n",
       "   'normal_rate': 1.0}),\n",
       " ((44.699999999999996, -37.20000000000004),\n",
       "  {'total': 4,\n",
       "   'success': 0,\n",
       "   'success_rate': 0.0,\n",
       "   'reset': 0,\n",
       "   'reset_rate': 0.0,\n",
       "   'normal': 4,\n",
       "   'normal_rate': 1.0}),\n",
       " ((44.699999999999996, -37.60000000000004),\n",
       "  {'total': 4,\n",
       "   'success': 0,\n",
       "   'success_rate': 0.0,\n",
       "   'reset': 0,\n",
       "   'reset_rate': 0.0,\n",
       "   'normal': 4,\n",
       "   'normal_rate': 1.0}),\n",
       " ((44.699999999999996, -38.000000000000036),\n",
       "  {'total': 4,\n",
       "   'success': 0,\n",
       "   'success_rate': 0.0,\n",
       "   'reset': 0,\n",
       "   'reset_rate': 0.0,\n",
       "   'normal': 4,\n",
       "   'normal_rate': 1.0}),\n",
       " ((44.699999999999996, -38.400000000000034),\n",
       "  {'total': 4,\n",
       "   'success': 0,\n",
       "   'success_rate': 0.0,\n",
       "   'reset': 0,\n",
       "   'reset_rate': 0.0,\n",
       "   'normal': 4,\n",
       "   'normal_rate': 1.0}),\n",
       " ((44.699999999999996, -38.80000000000003),\n",
       "  {'total': 4,\n",
       "   'success': 0,\n",
       "   'success_rate': 0.0,\n",
       "   'reset': 0,\n",
       "   'reset_rate': 0.0,\n",
       "   'normal': 4,\n",
       "   'normal_rate': 1.0}),\n",
       " ((44.699999999999996, -39.20000000000003),\n",
       "  {'total': 4,\n",
       "   'success': 0,\n",
       "   'success_rate': 0.0,\n",
       "   'reset': 0,\n",
       "   'reset_rate': 0.0,\n",
       "   'normal': 4,\n",
       "   'normal_rate': 1.0}),\n",
       " ((44.699999999999996, -39.60000000000003),\n",
       "  {'total': 4,\n",
       "   'success': 0,\n",
       "   'success_rate': 0.0,\n",
       "   'reset': 0,\n",
       "   'reset_rate': 0.0,\n",
       "   'normal': 4,\n",
       "   'normal_rate': 1.0}),\n",
       " ((44.699999999999996, -40.00000000000003),\n",
       "  {'total': 4,\n",
       "   'success': 0,\n",
       "   'success_rate': 0.0,\n",
       "   'reset': 0,\n",
       "   'reset_rate': 0.0,\n",
       "   'normal': 4,\n",
       "   'normal_rate': 1.0}),\n",
       " ((44.699999999999996, -40.40000000000003),\n",
       "  {'total': 4,\n",
       "   'success': 0,\n",
       "   'success_rate': 0.0,\n",
       "   'reset': 0,\n",
       "   'reset_rate': 0.0,\n",
       "   'normal': 4,\n",
       "   'normal_rate': 1.0}),\n",
       " ((44.699999999999996, -40.800000000000026),\n",
       "  {'total': 4,\n",
       "   'success': 0,\n",
       "   'success_rate': 0.0,\n",
       "   'reset': 0,\n",
       "   'reset_rate': 0.0,\n",
       "   'normal': 4,\n",
       "   'normal_rate': 1.0}),\n",
       " ((44.699999999999996, -41.200000000000024),\n",
       "  {'total': 4,\n",
       "   'success': 0,\n",
       "   'success_rate': 0.0,\n",
       "   'reset': 0,\n",
       "   'reset_rate': 0.0,\n",
       "   'normal': 4,\n",
       "   'normal_rate': 1.0}),\n",
       " ((44.699999999999996, -41.60000000000002),\n",
       "  {'total': 4,\n",
       "   'success': 0,\n",
       "   'success_rate': 0.0,\n",
       "   'reset': 0,\n",
       "   'reset_rate': 0.0,\n",
       "   'normal': 4,\n",
       "   'normal_rate': 1.0}),\n",
       " ((44.699999999999996, -42.00000000000002),\n",
       "  {'total': 4,\n",
       "   'success': 0,\n",
       "   'success_rate': 0.0,\n",
       "   'reset': 0,\n",
       "   'reset_rate': 0.0,\n",
       "   'normal': 4,\n",
       "   'normal_rate': 1.0}),\n",
       " ((44.699999999999996, -42.40000000000002),\n",
       "  {'total': 4,\n",
       "   'success': 0,\n",
       "   'success_rate': 0.0,\n",
       "   'reset': 0,\n",
       "   'reset_rate': 0.0,\n",
       "   'normal': 4,\n",
       "   'normal_rate': 1.0}),\n",
       " ((44.699999999999996, -42.80000000000002),\n",
       "  {'total': 4,\n",
       "   'success': 0,\n",
       "   'success_rate': 0.0,\n",
       "   'reset': 0,\n",
       "   'reset_rate': 0.0,\n",
       "   'normal': 4,\n",
       "   'normal_rate': 1.0}),\n",
       " ((44.699999999999996, -43.20000000000002),\n",
       "  {'total': 4,\n",
       "   'success': 0,\n",
       "   'success_rate': 0.0,\n",
       "   'reset': 0,\n",
       "   'reset_rate': 0.0,\n",
       "   'normal': 4,\n",
       "   'normal_rate': 1.0}),\n",
       " ((44.699999999999996, -43.600000000000016),\n",
       "  {'total': 4,\n",
       "   'success': 0,\n",
       "   'success_rate': 0.0,\n",
       "   'reset': 0,\n",
       "   'reset_rate': 0.0,\n",
       "   'normal': 4,\n",
       "   'normal_rate': 1.0}),\n",
       " ((44.699999999999996, -44.000000000000014),\n",
       "  {'total': 4,\n",
       "   'success': 0,\n",
       "   'success_rate': 0.0,\n",
       "   'reset': 0,\n",
       "   'reset_rate': 0.0,\n",
       "   'normal': 4,\n",
       "   'normal_rate': 1.0}),\n",
       " ((44.699999999999996, -44.40000000000001),\n",
       "  {'total': 4,\n",
       "   'success': 0,\n",
       "   'success_rate': 0.0,\n",
       "   'reset': 0,\n",
       "   'reset_rate': 0.0,\n",
       "   'normal': 4,\n",
       "   'normal_rate': 1.0}),\n",
       " ((44.699999999999996, -44.80000000000001),\n",
       "  {'total': 4,\n",
       "   'success': 0,\n",
       "   'success_rate': 0.0,\n",
       "   'reset': 0,\n",
       "   'reset_rate': 0.0,\n",
       "   'normal': 4,\n",
       "   'normal_rate': 1.0}),\n",
       " ((44.699999999999996, -45.20000000000001),\n",
       "  {'total': 4,\n",
       "   'success': 0,\n",
       "   'success_rate': 0.0,\n",
       "   'reset': 0,\n",
       "   'reset_rate': 0.0,\n",
       "   'normal': 4,\n",
       "   'normal_rate': 1.0}),\n",
       " ((44.699999999999996, -45.60000000000001),\n",
       "  {'total': 4,\n",
       "   'success': 0,\n",
       "   'success_rate': 0.0,\n",
       "   'reset': 0,\n",
       "   'reset_rate': 0.0,\n",
       "   'normal': 4,\n",
       "   'normal_rate': 1.0}),\n",
       " ((44.699999999999996, -46.00000000000001),\n",
       "  {'total': 4,\n",
       "   'success': 0,\n",
       "   'success_rate': 0.0,\n",
       "   'reset': 0,\n",
       "   'reset_rate': 0.0,\n",
       "   'normal': 4,\n",
       "   'normal_rate': 1.0}),\n",
       " ((44.699999999999996, -46.400000000000006),\n",
       "  {'total': 4,\n",
       "   'success': 0,\n",
       "   'success_rate': 0.0,\n",
       "   'reset': 0,\n",
       "   'reset_rate': 0.0,\n",
       "   'normal': 4,\n",
       "   'normal_rate': 1.0}),\n",
       " ((44.699999999999996, -46.800000000000004),\n",
       "  {'total': 4,\n",
       "   'success': 0,\n",
       "   'success_rate': 0.0,\n",
       "   'reset': 0,\n",
       "   'reset_rate': 0.0,\n",
       "   'normal': 4,\n",
       "   'normal_rate': 1.0}),\n",
       " ((44.699999999999996, -47.2),\n",
       "  {'total': 4,\n",
       "   'success': 0,\n",
       "   'success_rate': 0.0,\n",
       "   'reset': 0,\n",
       "   'reset_rate': 0.0,\n",
       "   'normal': 4,\n",
       "   'normal_rate': 1.0}),\n",
       " ((44.699999999999996, -47.6),\n",
       "  {'total': 4,\n",
       "   'success': 0,\n",
       "   'success_rate': 0.0,\n",
       "   'reset': 0,\n",
       "   'reset_rate': 0.0,\n",
       "   'normal': 4,\n",
       "   'normal_rate': 1.0}),\n",
       " ((44.699999999999996, -48),\n",
       "  {'total': 4,\n",
       "   'success': 0,\n",
       "   'success_rate': 0.0,\n",
       "   'reset': 0,\n",
       "   'reset_rate': 0.0,\n",
       "   'normal': 4,\n",
       "   'normal_rate': 1.0}),\n",
       " ((44.3, -10.000000000000108),\n",
       "  {'total': 4,\n",
       "   'success': 0,\n",
       "   'success_rate': 0.0,\n",
       "   'reset': 0,\n",
       "   'reset_rate': 0.0,\n",
       "   'normal': 4,\n",
       "   'normal_rate': 1.0}),\n",
       " ((44.3, -10.400000000000109),\n",
       "  {'total': 4,\n",
       "   'success': 0,\n",
       "   'success_rate': 0.0,\n",
       "   'reset': 0,\n",
       "   'reset_rate': 0.0,\n",
       "   'normal': 4,\n",
       "   'normal_rate': 1.0}),\n",
       " ((44.3, -10.800000000000109),\n",
       "  {'total': 4,\n",
       "   'success': 0,\n",
       "   'success_rate': 0.0,\n",
       "   'reset': 0,\n",
       "   'reset_rate': 0.0,\n",
       "   'normal': 4,\n",
       "   'normal_rate': 1.0}),\n",
       " ((44.3, -11.20000000000011),\n",
       "  {'total': 4,\n",
       "   'success': 0,\n",
       "   'success_rate': 0.0,\n",
       "   'reset': 0,\n",
       "   'reset_rate': 0.0,\n",
       "   'normal': 4,\n",
       "   'normal_rate': 1.0}),\n",
       " ((44.3, -11.60000000000011),\n",
       "  {'total': 4,\n",
       "   'success': 0,\n",
       "   'success_rate': 0.0,\n",
       "   'reset': 0,\n",
       "   'reset_rate': 0.0,\n",
       "   'normal': 4,\n",
       "   'normal_rate': 1.0}),\n",
       " ((44.3, -12.00000000000011),\n",
       "  {'total': 4,\n",
       "   'success': 0,\n",
       "   'success_rate': 0.0,\n",
       "   'reset': 0,\n",
       "   'reset_rate': 0.0,\n",
       "   'normal': 4,\n",
       "   'normal_rate': 1.0}),\n",
       " ((44.3, -12.40000000000011),\n",
       "  {'total': 4,\n",
       "   'success': 0,\n",
       "   'success_rate': 0.0,\n",
       "   'reset': 0,\n",
       "   'reset_rate': 0.0,\n",
       "   'normal': 4,\n",
       "   'normal_rate': 1.0}),\n",
       " ((44.3, -12.80000000000011),\n",
       "  {'total': 4,\n",
       "   'success': 0,\n",
       "   'success_rate': 0.0,\n",
       "   'reset': 0,\n",
       "   'reset_rate': 0.0,\n",
       "   'normal': 4,\n",
       "   'normal_rate': 1.0}),\n",
       " ((44.3, -13.200000000000111),\n",
       "  {'total': 4,\n",
       "   'success': 0,\n",
       "   'success_rate': 0.0,\n",
       "   'reset': 0,\n",
       "   'reset_rate': 0.0,\n",
       "   'normal': 4,\n",
       "   'normal_rate': 1.0}),\n",
       " ((44.3, -13.600000000000112),\n",
       "  {'total': 4,\n",
       "   'success': 0,\n",
       "   'success_rate': 0.0,\n",
       "   'reset': 0,\n",
       "   'reset_rate': 0.0,\n",
       "   'normal': 4,\n",
       "   'normal_rate': 1.0}),\n",
       " ((44.3, -14.000000000000112),\n",
       "  {'total': 4,\n",
       "   'success': 0,\n",
       "   'success_rate': 0.0,\n",
       "   'reset': 0,\n",
       "   'reset_rate': 0.0,\n",
       "   'normal': 4,\n",
       "   'normal_rate': 1.0}),\n",
       " ((44.3, -14.400000000000112),\n",
       "  {'total': 4,\n",
       "   'success': 0,\n",
       "   'success_rate': 0.0,\n",
       "   'reset': 0,\n",
       "   'reset_rate': 0.0,\n",
       "   'normal': 4,\n",
       "   'normal_rate': 1.0}),\n",
       " ((44.3, -14.800000000000113),\n",
       "  {'total': 4,\n",
       "   'success': 0,\n",
       "   'success_rate': 0.0,\n",
       "   'reset': 0,\n",
       "   'reset_rate': 0.0,\n",
       "   'normal': 4,\n",
       "   'normal_rate': 1.0}),\n",
       " ((44.3, -15.200000000000113),\n",
       "  {'total': 4,\n",
       "   'success': 0,\n",
       "   'success_rate': 0.0,\n",
       "   'reset': 0,\n",
       "   'reset_rate': 0.0,\n",
       "   'normal': 4,\n",
       "   'normal_rate': 1.0}),\n",
       " ((44.3, -15.600000000000113),\n",
       "  {'total': 4,\n",
       "   'success': 0,\n",
       "   'success_rate': 0.0,\n",
       "   'reset': 0,\n",
       "   'reset_rate': 0.0,\n",
       "   'normal': 4,\n",
       "   'normal_rate': 1.0}),\n",
       " ((44.3, -16.000000000000114),\n",
       "  {'total': 4,\n",
       "   'success': 0,\n",
       "   'success_rate': 0.0,\n",
       "   'reset': 0,\n",
       "   'reset_rate': 0.0,\n",
       "   'normal': 4,\n",
       "   'normal_rate': 1.0}),\n",
       " ((44.3, -16.400000000000112),\n",
       "  {'total': 4,\n",
       "   'success': 0,\n",
       "   'success_rate': 0.0,\n",
       "   'reset': 0,\n",
       "   'reset_rate': 0.0,\n",
       "   'normal': 4,\n",
       "   'normal_rate': 1.0}),\n",
       " ((44.3, -16.80000000000011),\n",
       "  {'total': 4,\n",
       "   'success': 0,\n",
       "   'success_rate': 0.0,\n",
       "   'reset': 0,\n",
       "   'reset_rate': 0.0,\n",
       "   'normal': 4,\n",
       "   'normal_rate': 1.0}),\n",
       " ((44.3, -17.20000000000011),\n",
       "  {'total': 4,\n",
       "   'success': 0,\n",
       "   'success_rate': 0.0,\n",
       "   'reset': 0,\n",
       "   'reset_rate': 0.0,\n",
       "   'normal': 4,\n",
       "   'normal_rate': 1.0}),\n",
       " ((44.3, -17.600000000000108),\n",
       "  {'total': 4,\n",
       "   'success': 0,\n",
       "   'success_rate': 0.0,\n",
       "   'reset': 0,\n",
       "   'reset_rate': 0.0,\n",
       "   'normal': 4,\n",
       "   'normal_rate': 1.0}),\n",
       " ((44.3, -18.000000000000107),\n",
       "  {'total': 4,\n",
       "   'success': 0,\n",
       "   'success_rate': 0.0,\n",
       "   'reset': 0,\n",
       "   'reset_rate': 0.0,\n",
       "   'normal': 4,\n",
       "   'normal_rate': 1.0}),\n",
       " ((44.3, -18.400000000000105),\n",
       "  {'total': 4,\n",
       "   'success': 0,\n",
       "   'success_rate': 0.0,\n",
       "   'reset': 0,\n",
       "   'reset_rate': 0.0,\n",
       "   'normal': 4,\n",
       "   'normal_rate': 1.0}),\n",
       " ((44.3, -18.800000000000104),\n",
       "  {'total': 4,\n",
       "   'success': 0,\n",
       "   'success_rate': 0.0,\n",
       "   'reset': 0,\n",
       "   'reset_rate': 0.0,\n",
       "   'normal': 4,\n",
       "   'normal_rate': 1.0}),\n",
       " ((44.3, -19.200000000000102),\n",
       "  {'total': 4,\n",
       "   'success': 0,\n",
       "   'success_rate': 0.0,\n",
       "   'reset': 0,\n",
       "   'reset_rate': 0.0,\n",
       "   'normal': 4,\n",
       "   'normal_rate': 1.0}),\n",
       " ((44.3, -19.6000000000001),\n",
       "  {'total': 4,\n",
       "   'success': 0,\n",
       "   'success_rate': 0.0,\n",
       "   'reset': 0,\n",
       "   'reset_rate': 0.0,\n",
       "   'normal': 4,\n",
       "   'normal_rate': 1.0}),\n",
       " ((44.3, -20.0000000000001),\n",
       "  {'total': 4,\n",
       "   'success': 0,\n",
       "   'success_rate': 0.0,\n",
       "   'reset': 0,\n",
       "   'reset_rate': 0.0,\n",
       "   'normal': 4,\n",
       "   'normal_rate': 1.0}),\n",
       " ((44.3, -20.400000000000098),\n",
       "  {'total': 4,\n",
       "   'success': 0,\n",
       "   'success_rate': 0.0,\n",
       "   'reset': 0,\n",
       "   'reset_rate': 0.0,\n",
       "   'normal': 4,\n",
       "   'normal_rate': 1.0}),\n",
       " ((44.3, -20.800000000000097),\n",
       "  {'total': 4,\n",
       "   'success': 0,\n",
       "   'success_rate': 0.0,\n",
       "   'reset': 0,\n",
       "   'reset_rate': 0.0,\n",
       "   'normal': 4,\n",
       "   'normal_rate': 1.0}),\n",
       " ((44.3, -21.200000000000095),\n",
       "  {'total': 4,\n",
       "   'success': 0,\n",
       "   'success_rate': 0.0,\n",
       "   'reset': 0,\n",
       "   'reset_rate': 0.0,\n",
       "   'normal': 4,\n",
       "   'normal_rate': 1.0}),\n",
       " ((44.3, -21.600000000000094),\n",
       "  {'total': 4,\n",
       "   'success': 0,\n",
       "   'success_rate': 0.0,\n",
       "   'reset': 0,\n",
       "   'reset_rate': 0.0,\n",
       "   'normal': 4,\n",
       "   'normal_rate': 1.0}),\n",
       " ((44.3, -22.000000000000092),\n",
       "  {'total': 4,\n",
       "   'success': 0,\n",
       "   'success_rate': 0.0,\n",
       "   'reset': 0,\n",
       "   'reset_rate': 0.0,\n",
       "   'normal': 4,\n",
       "   'normal_rate': 1.0}),\n",
       " ((44.3, -22.40000000000009),\n",
       "  {'total': 4,\n",
       "   'success': 0,\n",
       "   'success_rate': 0.0,\n",
       "   'reset': 0,\n",
       "   'reset_rate': 0.0,\n",
       "   'normal': 4,\n",
       "   'normal_rate': 1.0}),\n",
       " ((44.3, -22.80000000000009),\n",
       "  {'total': 4,\n",
       "   'success': 0,\n",
       "   'success_rate': 0.0,\n",
       "   'reset': 0,\n",
       "   'reset_rate': 0.0,\n",
       "   'normal': 4,\n",
       "   'normal_rate': 1.0}),\n",
       " ((44.3, -23.200000000000088),\n",
       "  {'total': 4,\n",
       "   'success': 0,\n",
       "   'success_rate': 0.0,\n",
       "   'reset': 0,\n",
       "   'reset_rate': 0.0,\n",
       "   'normal': 4,\n",
       "   'normal_rate': 1.0}),\n",
       " ((44.3, -23.600000000000087),\n",
       "  {'total': 4,\n",
       "   'success': 0,\n",
       "   'success_rate': 0.0,\n",
       "   'reset': 0,\n",
       "   'reset_rate': 0.0,\n",
       "   'normal': 4,\n",
       "   'normal_rate': 1.0}),\n",
       " ((44.3, -24.000000000000085),\n",
       "  {'total': 4,\n",
       "   'success': 0,\n",
       "   'success_rate': 0.0,\n",
       "   'reset': 0,\n",
       "   'reset_rate': 0.0,\n",
       "   'normal': 4,\n",
       "   'normal_rate': 1.0}),\n",
       " ((44.3, -24.400000000000084),\n",
       "  {'total': 4,\n",
       "   'success': 0,\n",
       "   'success_rate': 0.0,\n",
       "   'reset': 0,\n",
       "   'reset_rate': 0.0,\n",
       "   'normal': 4,\n",
       "   'normal_rate': 1.0}),\n",
       " ((44.3, -24.800000000000082),\n",
       "  {'total': 4,\n",
       "   'success': 0,\n",
       "   'success_rate': 0.0,\n",
       "   'reset': 0,\n",
       "   'reset_rate': 0.0,\n",
       "   'normal': 4,\n",
       "   'normal_rate': 1.0}),\n",
       " ((44.3, -25.20000000000008),\n",
       "  {'total': 4,\n",
       "   'success': 0,\n",
       "   'success_rate': 0.0,\n",
       "   'reset': 0,\n",
       "   'reset_rate': 0.0,\n",
       "   'normal': 4,\n",
       "   'normal_rate': 1.0}),\n",
       " ((44.3, -25.60000000000008),\n",
       "  {'total': 4,\n",
       "   'success': 0,\n",
       "   'success_rate': 0.0,\n",
       "   'reset': 0,\n",
       "   'reset_rate': 0.0,\n",
       "   'normal': 4,\n",
       "   'normal_rate': 1.0}),\n",
       " ((44.3, -26.000000000000078),\n",
       "  {'total': 4,\n",
       "   'success': 0,\n",
       "   'success_rate': 0.0,\n",
       "   'reset': 0,\n",
       "   'reset_rate': 0.0,\n",
       "   'normal': 4,\n",
       "   'normal_rate': 1.0}),\n",
       " ((44.3, -26.400000000000077),\n",
       "  {'total': 4,\n",
       "   'success': 0,\n",
       "   'success_rate': 0.0,\n",
       "   'reset': 0,\n",
       "   'reset_rate': 0.0,\n",
       "   'normal': 4,\n",
       "   'normal_rate': 1.0}),\n",
       " ((44.3, -26.800000000000075),\n",
       "  {'total': 4,\n",
       "   'success': 0,\n",
       "   'success_rate': 0.0,\n",
       "   'reset': 0,\n",
       "   'reset_rate': 0.0,\n",
       "   'normal': 4,\n",
       "   'normal_rate': 1.0}),\n",
       " ((44.3, -27.200000000000074),\n",
       "  {'total': 4,\n",
       "   'success': 0,\n",
       "   'success_rate': 0.0,\n",
       "   'reset': 0,\n",
       "   'reset_rate': 0.0,\n",
       "   'normal': 4,\n",
       "   'normal_rate': 1.0}),\n",
       " ((44.3, -27.600000000000072),\n",
       "  {'total': 4,\n",
       "   'success': 0,\n",
       "   'success_rate': 0.0,\n",
       "   'reset': 0,\n",
       "   'reset_rate': 0.0,\n",
       "   'normal': 4,\n",
       "   'normal_rate': 1.0}),\n",
       " ((44.3, -28.00000000000007),\n",
       "  {'total': 4,\n",
       "   'success': 0,\n",
       "   'success_rate': 0.0,\n",
       "   'reset': 0,\n",
       "   'reset_rate': 0.0,\n",
       "   'normal': 4,\n",
       "   'normal_rate': 1.0}),\n",
       " ((44.3, -28.40000000000007),\n",
       "  {'total': 4,\n",
       "   'success': 0,\n",
       "   'success_rate': 0.0,\n",
       "   'reset': 0,\n",
       "   'reset_rate': 0.0,\n",
       "   'normal': 4,\n",
       "   'normal_rate': 1.0}),\n",
       " ((44.3, -28.800000000000068),\n",
       "  {'total': 4,\n",
       "   'success': 0,\n",
       "   'success_rate': 0.0,\n",
       "   'reset': 0,\n",
       "   'reset_rate': 0.0,\n",
       "   'normal': 4,\n",
       "   'normal_rate': 1.0}),\n",
       " ((44.3, -29.200000000000067),\n",
       "  {'total': 4,\n",
       "   'success': 0,\n",
       "   'success_rate': 0.0,\n",
       "   'reset': 0,\n",
       "   'reset_rate': 0.0,\n",
       "   'normal': 4,\n",
       "   'normal_rate': 1.0}),\n",
       " ((44.3, -29.600000000000065),\n",
       "  {'total': 4,\n",
       "   'success': 0,\n",
       "   'success_rate': 0.0,\n",
       "   'reset': 0,\n",
       "   'reset_rate': 0.0,\n",
       "   'normal': 4,\n",
       "   'normal_rate': 1.0}),\n",
       " ((44.3, -30.000000000000064),\n",
       "  {'total': 4,\n",
       "   'success': 0,\n",
       "   'success_rate': 0.0,\n",
       "   'reset': 0,\n",
       "   'reset_rate': 0.0,\n",
       "   'normal': 4,\n",
       "   'normal_rate': 1.0}),\n",
       " ((44.3, -30.400000000000063),\n",
       "  {'total': 4,\n",
       "   'success': 0,\n",
       "   'success_rate': 0.0,\n",
       "   'reset': 0,\n",
       "   'reset_rate': 0.0,\n",
       "   'normal': 4,\n",
       "   'normal_rate': 1.0}),\n",
       " ((44.3, -30.80000000000006),\n",
       "  {'total': 4,\n",
       "   'success': 0,\n",
       "   'success_rate': 0.0,\n",
       "   'reset': 0,\n",
       "   'reset_rate': 0.0,\n",
       "   'normal': 4,\n",
       "   'normal_rate': 1.0}),\n",
       " ((44.3, -31.20000000000006),\n",
       "  {'total': 4,\n",
       "   'success': 0,\n",
       "   'success_rate': 0.0,\n",
       "   'reset': 0,\n",
       "   'reset_rate': 0.0,\n",
       "   'normal': 4,\n",
       "   'normal_rate': 1.0}),\n",
       " ((44.3, -31.60000000000006),\n",
       "  {'total': 4,\n",
       "   'success': 0,\n",
       "   'success_rate': 0.0,\n",
       "   'reset': 0,\n",
       "   'reset_rate': 0.0,\n",
       "   'normal': 4,\n",
       "   'normal_rate': 1.0}),\n",
       " ((44.3, -32.00000000000006),\n",
       "  {'total': 4,\n",
       "   'success': 0,\n",
       "   'success_rate': 0.0,\n",
       "   'reset': 0,\n",
       "   'reset_rate': 0.0,\n",
       "   'normal': 4,\n",
       "   'normal_rate': 1.0}),\n",
       " ((44.3, -32.400000000000055),\n",
       "  {'total': 4,\n",
       "   'success': 0,\n",
       "   'success_rate': 0.0,\n",
       "   'reset': 0,\n",
       "   'reset_rate': 0.0,\n",
       "   'normal': 4,\n",
       "   'normal_rate': 1.0}),\n",
       " ((44.3, -32.800000000000054),\n",
       "  {'total': 4,\n",
       "   'success': 0,\n",
       "   'success_rate': 0.0,\n",
       "   'reset': 0,\n",
       "   'reset_rate': 0.0,\n",
       "   'normal': 4,\n",
       "   'normal_rate': 1.0}),\n",
       " ((44.3, -33.20000000000005),\n",
       "  {'total': 4,\n",
       "   'success': 0,\n",
       "   'success_rate': 0.0,\n",
       "   'reset': 0,\n",
       "   'reset_rate': 0.0,\n",
       "   'normal': 4,\n",
       "   'normal_rate': 1.0}),\n",
       " ((44.3, -33.60000000000005),\n",
       "  {'total': 4,\n",
       "   'success': 0,\n",
       "   'success_rate': 0.0,\n",
       "   'reset': 0,\n",
       "   'reset_rate': 0.0,\n",
       "   'normal': 4,\n",
       "   'normal_rate': 1.0}),\n",
       " ((44.3, -34.00000000000005),\n",
       "  {'total': 4,\n",
       "   'success': 0,\n",
       "   'success_rate': 0.0,\n",
       "   'reset': 0,\n",
       "   'reset_rate': 0.0,\n",
       "   'normal': 4,\n",
       "   'normal_rate': 1.0}),\n",
       " ((44.3, -34.40000000000005),\n",
       "  {'total': 4,\n",
       "   'success': 0,\n",
       "   'success_rate': 0.0,\n",
       "   'reset': 0,\n",
       "   'reset_rate': 0.0,\n",
       "   'normal': 4,\n",
       "   'normal_rate': 1.0}),\n",
       " ((44.3, -34.80000000000005),\n",
       "  {'total': 4,\n",
       "   'success': 0,\n",
       "   'success_rate': 0.0,\n",
       "   'reset': 0,\n",
       "   'reset_rate': 0.0,\n",
       "   'normal': 4,\n",
       "   'normal_rate': 1.0}),\n",
       " ((44.3, -35.200000000000045),\n",
       "  {'total': 4,\n",
       "   'success': 0,\n",
       "   'success_rate': 0.0,\n",
       "   'reset': 0,\n",
       "   'reset_rate': 0.0,\n",
       "   'normal': 4,\n",
       "   'normal_rate': 1.0}),\n",
       " ((44.3, -35.600000000000044),\n",
       "  {'total': 4,\n",
       "   'success': 0,\n",
       "   'success_rate': 0.0,\n",
       "   'reset': 0,\n",
       "   'reset_rate': 0.0,\n",
       "   'normal': 4,\n",
       "   'normal_rate': 1.0}),\n",
       " ((44.3, -36.00000000000004),\n",
       "  {'total': 4,\n",
       "   'success': 0,\n",
       "   'success_rate': 0.0,\n",
       "   'reset': 0,\n",
       "   'reset_rate': 0.0,\n",
       "   'normal': 4,\n",
       "   'normal_rate': 1.0}),\n",
       " ((44.3, -36.40000000000004),\n",
       "  {'total': 4,\n",
       "   'success': 0,\n",
       "   'success_rate': 0.0,\n",
       "   'reset': 0,\n",
       "   'reset_rate': 0.0,\n",
       "   'normal': 4,\n",
       "   'normal_rate': 1.0}),\n",
       " ((44.3, -36.80000000000004),\n",
       "  {'total': 4,\n",
       "   'success': 0,\n",
       "   'success_rate': 0.0,\n",
       "   'reset': 0,\n",
       "   'reset_rate': 0.0,\n",
       "   'normal': 4,\n",
       "   'normal_rate': 1.0}),\n",
       " ((44.3, -37.20000000000004),\n",
       "  {'total': 4,\n",
       "   'success': 0,\n",
       "   'success_rate': 0.0,\n",
       "   'reset': 0,\n",
       "   'reset_rate': 0.0,\n",
       "   'normal': 4,\n",
       "   'normal_rate': 1.0}),\n",
       " ((44.3, -37.60000000000004),\n",
       "  {'total': 4,\n",
       "   'success': 0,\n",
       "   'success_rate': 0.0,\n",
       "   'reset': 0,\n",
       "   'reset_rate': 0.0,\n",
       "   'normal': 4,\n",
       "   'normal_rate': 1.0}),\n",
       " ((44.3, -38.000000000000036),\n",
       "  {'total': 4,\n",
       "   'success': 0,\n",
       "   'success_rate': 0.0,\n",
       "   'reset': 0,\n",
       "   'reset_rate': 0.0,\n",
       "   'normal': 4,\n",
       "   'normal_rate': 1.0}),\n",
       " ((44.3, -38.400000000000034),\n",
       "  {'total': 4,\n",
       "   'success': 0,\n",
       "   'success_rate': 0.0,\n",
       "   'reset': 0,\n",
       "   'reset_rate': 0.0,\n",
       "   'normal': 4,\n",
       "   'normal_rate': 1.0}),\n",
       " ((44.3, -38.80000000000003),\n",
       "  {'total': 4,\n",
       "   'success': 0,\n",
       "   'success_rate': 0.0,\n",
       "   'reset': 0,\n",
       "   'reset_rate': 0.0,\n",
       "   'normal': 4,\n",
       "   'normal_rate': 1.0}),\n",
       " ((44.3, -39.20000000000003),\n",
       "  {'total': 4,\n",
       "   'success': 0,\n",
       "   'success_rate': 0.0,\n",
       "   'reset': 0,\n",
       "   'reset_rate': 0.0,\n",
       "   'normal': 4,\n",
       "   'normal_rate': 1.0}),\n",
       " ((44.3, -39.60000000000003),\n",
       "  {'total': 4,\n",
       "   'success': 0,\n",
       "   'success_rate': 0.0,\n",
       "   'reset': 0,\n",
       "   'reset_rate': 0.0,\n",
       "   'normal': 4,\n",
       "   'normal_rate': 1.0}),\n",
       " ((44.3, -40.00000000000003),\n",
       "  {'total': 4,\n",
       "   'success': 0,\n",
       "   'success_rate': 0.0,\n",
       "   'reset': 0,\n",
       "   'reset_rate': 0.0,\n",
       "   'normal': 4,\n",
       "   'normal_rate': 1.0}),\n",
       " ((44.3, -40.40000000000003),\n",
       "  {'total': 4,\n",
       "   'success': 0,\n",
       "   'success_rate': 0.0,\n",
       "   'reset': 0,\n",
       "   'reset_rate': 0.0,\n",
       "   'normal': 4,\n",
       "   'normal_rate': 1.0}),\n",
       " ((44.3, -40.800000000000026),\n",
       "  {'total': 4,\n",
       "   'success': 0,\n",
       "   'success_rate': 0.0,\n",
       "   'reset': 0,\n",
       "   'reset_rate': 0.0,\n",
       "   'normal': 4,\n",
       "   'normal_rate': 1.0}),\n",
       " ((44.3, -41.200000000000024),\n",
       "  {'total': 4,\n",
       "   'success': 0,\n",
       "   'success_rate': 0.0,\n",
       "   'reset': 0,\n",
       "   'reset_rate': 0.0,\n",
       "   'normal': 4,\n",
       "   'normal_rate': 1.0}),\n",
       " ((44.3, -41.60000000000002),\n",
       "  {'total': 4,\n",
       "   'success': 0,\n",
       "   'success_rate': 0.0,\n",
       "   'reset': 0,\n",
       "   'reset_rate': 0.0,\n",
       "   'normal': 4,\n",
       "   'normal_rate': 1.0}),\n",
       " ((44.3, -42.00000000000002),\n",
       "  {'total': 4,\n",
       "   'success': 0,\n",
       "   'success_rate': 0.0,\n",
       "   'reset': 0,\n",
       "   'reset_rate': 0.0,\n",
       "   'normal': 4,\n",
       "   'normal_rate': 1.0}),\n",
       " ((44.3, -42.40000000000002),\n",
       "  {'total': 4,\n",
       "   'success': 0,\n",
       "   'success_rate': 0.0,\n",
       "   'reset': 0,\n",
       "   'reset_rate': 0.0,\n",
       "   'normal': 4,\n",
       "   'normal_rate': 1.0}),\n",
       " ((44.3, -42.80000000000002),\n",
       "  {'total': 4,\n",
       "   'success': 0,\n",
       "   'success_rate': 0.0,\n",
       "   'reset': 0,\n",
       "   'reset_rate': 0.0,\n",
       "   'normal': 4,\n",
       "   'normal_rate': 1.0}),\n",
       " ((44.3, -43.20000000000002),\n",
       "  {'total': 4,\n",
       "   'success': 0,\n",
       "   'success_rate': 0.0,\n",
       "   'reset': 0,\n",
       "   'reset_rate': 0.0,\n",
       "   'normal': 4,\n",
       "   'normal_rate': 1.0}),\n",
       " ((44.3, -43.600000000000016),\n",
       "  {'total': 4,\n",
       "   'success': 0,\n",
       "   'success_rate': 0.0,\n",
       "   'reset': 0,\n",
       "   'reset_rate': 0.0,\n",
       "   'normal': 4,\n",
       "   'normal_rate': 1.0}),\n",
       " ((44.3, -44.000000000000014),\n",
       "  {'total': 4,\n",
       "   'success': 0,\n",
       "   'success_rate': 0.0,\n",
       "   'reset': 0,\n",
       "   'reset_rate': 0.0,\n",
       "   'normal': 4,\n",
       "   'normal_rate': 1.0}),\n",
       " ((44.3, -44.40000000000001),\n",
       "  {'total': 4,\n",
       "   'success': 0,\n",
       "   'success_rate': 0.0,\n",
       "   'reset': 0,\n",
       "   'reset_rate': 0.0,\n",
       "   'normal': 4,\n",
       "   'normal_rate': 1.0}),\n",
       " ((44.3, -44.80000000000001),\n",
       "  {'total': 4,\n",
       "   'success': 0,\n",
       "   'success_rate': 0.0,\n",
       "   'reset': 0,\n",
       "   'reset_rate': 0.0,\n",
       "   'normal': 4,\n",
       "   'normal_rate': 1.0}),\n",
       " ((44.3, -45.20000000000001),\n",
       "  {'total': 4,\n",
       "   'success': 0,\n",
       "   'success_rate': 0.0,\n",
       "   'reset': 0,\n",
       "   'reset_rate': 0.0,\n",
       "   'normal': 4,\n",
       "   'normal_rate': 1.0}),\n",
       " ((44.3, -45.60000000000001),\n",
       "  {'total': 4,\n",
       "   'success': 0,\n",
       "   'success_rate': 0.0,\n",
       "   'reset': 0,\n",
       "   'reset_rate': 0.0,\n",
       "   'normal': 4,\n",
       "   'normal_rate': 1.0}),\n",
       " ((44.3, -46.00000000000001),\n",
       "  {'total': 4,\n",
       "   'success': 0,\n",
       "   'success_rate': 0.0,\n",
       "   'reset': 0,\n",
       "   'reset_rate': 0.0,\n",
       "   'normal': 4,\n",
       "   'normal_rate': 1.0}),\n",
       " ((44.3, -46.400000000000006),\n",
       "  {'total': 4,\n",
       "   'success': 0,\n",
       "   'success_rate': 0.0,\n",
       "   'reset': 0,\n",
       "   'reset_rate': 0.0,\n",
       "   'normal': 4,\n",
       "   'normal_rate': 1.0}),\n",
       " ((44.3, -46.800000000000004),\n",
       "  {'total': 4,\n",
       "   'success': 0,\n",
       "   'success_rate': 0.0,\n",
       "   'reset': 0,\n",
       "   'reset_rate': 0.0,\n",
       "   'normal': 4,\n",
       "   'normal_rate': 1.0}),\n",
       " ((44.3, -47.2),\n",
       "  {'total': 4,\n",
       "   'success': 0,\n",
       "   'success_rate': 0.0,\n",
       "   'reset': 0,\n",
       "   'reset_rate': 0.0,\n",
       "   'normal': 4,\n",
       "   'normal_rate': 1.0}),\n",
       " ((44.3, -47.6),\n",
       "  {'total': 4,\n",
       "   'success': 0,\n",
       "   'success_rate': 0.0,\n",
       "   'reset': 0,\n",
       "   'reset_rate': 0.0,\n",
       "   'normal': 4,\n",
       "   'normal_rate': 1.0}),\n",
       " ((44.3, -48),\n",
       "  {'total': 4,\n",
       "   'success': 0,\n",
       "   'success_rate': 0.0,\n",
       "   'reset': 0,\n",
       "   'reset_rate': 0.0,\n",
       "   'normal': 4,\n",
       "   'normal_rate': 1.0}),\n",
       " ((43.9, -10.000000000000108),\n",
       "  {'total': 4,\n",
       "   'success': 0,\n",
       "   'success_rate': 0.0,\n",
       "   'reset': 0,\n",
       "   'reset_rate': 0.0,\n",
       "   'normal': 4,\n",
       "   'normal_rate': 1.0}),\n",
       " ((43.9, -10.400000000000109),\n",
       "  {'total': 4,\n",
       "   'success': 0,\n",
       "   'success_rate': 0.0,\n",
       "   'reset': 0,\n",
       "   'reset_rate': 0.0,\n",
       "   'normal': 4,\n",
       "   'normal_rate': 1.0}),\n",
       " ((43.9, -10.800000000000109),\n",
       "  {'total': 4,\n",
       "   'success': 0,\n",
       "   'success_rate': 0.0,\n",
       "   'reset': 0,\n",
       "   'reset_rate': 0.0,\n",
       "   'normal': 4,\n",
       "   'normal_rate': 1.0}),\n",
       " ((43.9, -11.20000000000011),\n",
       "  {'total': 4,\n",
       "   'success': 0,\n",
       "   'success_rate': 0.0,\n",
       "   'reset': 0,\n",
       "   'reset_rate': 0.0,\n",
       "   'normal': 4,\n",
       "   'normal_rate': 1.0}),\n",
       " ((43.9, -11.60000000000011),\n",
       "  {'total': 4,\n",
       "   'success': 0,\n",
       "   'success_rate': 0.0,\n",
       "   'reset': 0,\n",
       "   'reset_rate': 0.0,\n",
       "   'normal': 4,\n",
       "   'normal_rate': 1.0}),\n",
       " ((43.9, -12.00000000000011),\n",
       "  {'total': 4,\n",
       "   'success': 0,\n",
       "   'success_rate': 0.0,\n",
       "   'reset': 0,\n",
       "   'reset_rate': 0.0,\n",
       "   'normal': 4,\n",
       "   'normal_rate': 1.0}),\n",
       " ((43.9, -12.40000000000011),\n",
       "  {'total': 4,\n",
       "   'success': 0,\n",
       "   'success_rate': 0.0,\n",
       "   'reset': 0,\n",
       "   'reset_rate': 0.0,\n",
       "   'normal': 4,\n",
       "   'normal_rate': 1.0}),\n",
       " ((43.9, -12.80000000000011),\n",
       "  {'total': 4,\n",
       "   'success': 0,\n",
       "   'success_rate': 0.0,\n",
       "   'reset': 0,\n",
       "   'reset_rate': 0.0,\n",
       "   'normal': 4,\n",
       "   'normal_rate': 1.0}),\n",
       " ((43.9, -13.200000000000111),\n",
       "  {'total': 4,\n",
       "   'success': 0,\n",
       "   'success_rate': 0.0,\n",
       "   'reset': 0,\n",
       "   'reset_rate': 0.0,\n",
       "   'normal': 4,\n",
       "   'normal_rate': 1.0}),\n",
       " ((43.9, -13.600000000000112),\n",
       "  {'total': 4,\n",
       "   'success': 0,\n",
       "   'success_rate': 0.0,\n",
       "   'reset': 0,\n",
       "   'reset_rate': 0.0,\n",
       "   'normal': 4,\n",
       "   'normal_rate': 1.0}),\n",
       " ((43.9, -14.000000000000112),\n",
       "  {'total': 4,\n",
       "   'success': 0,\n",
       "   'success_rate': 0.0,\n",
       "   'reset': 0,\n",
       "   'reset_rate': 0.0,\n",
       "   'normal': 4,\n",
       "   'normal_rate': 1.0}),\n",
       " ((43.9, -14.400000000000112),\n",
       "  {'total': 4,\n",
       "   'success': 0,\n",
       "   'success_rate': 0.0,\n",
       "   'reset': 0,\n",
       "   'reset_rate': 0.0,\n",
       "   'normal': 4,\n",
       "   'normal_rate': 1.0}),\n",
       " ((43.9, -14.800000000000113),\n",
       "  {'total': 4,\n",
       "   'success': 0,\n",
       "   'success_rate': 0.0,\n",
       "   'reset': 0,\n",
       "   'reset_rate': 0.0,\n",
       "   'normal': 4,\n",
       "   'normal_rate': 1.0}),\n",
       " ((43.9, -15.200000000000113),\n",
       "  {'total': 4,\n",
       "   'success': 0,\n",
       "   'success_rate': 0.0,\n",
       "   'reset': 0,\n",
       "   'reset_rate': 0.0,\n",
       "   'normal': 4,\n",
       "   'normal_rate': 1.0}),\n",
       " ((43.9, -15.600000000000113),\n",
       "  {'total': 4,\n",
       "   'success': 0,\n",
       "   'success_rate': 0.0,\n",
       "   'reset': 0,\n",
       "   'reset_rate': 0.0,\n",
       "   'normal': 4,\n",
       "   'normal_rate': 1.0}),\n",
       " ((43.9, -16.000000000000114),\n",
       "  {'total': 4,\n",
       "   'success': 0,\n",
       "   'success_rate': 0.0,\n",
       "   'reset': 0,\n",
       "   'reset_rate': 0.0,\n",
       "   'normal': 4,\n",
       "   'normal_rate': 1.0}),\n",
       " ((43.9, -16.400000000000112),\n",
       "  {'total': 4,\n",
       "   'success': 0,\n",
       "   'success_rate': 0.0,\n",
       "   'reset': 0,\n",
       "   'reset_rate': 0.0,\n",
       "   'normal': 4,\n",
       "   'normal_rate': 1.0}),\n",
       " ((43.9, -16.80000000000011),\n",
       "  {'total': 4,\n",
       "   'success': 0,\n",
       "   'success_rate': 0.0,\n",
       "   'reset': 0,\n",
       "   'reset_rate': 0.0,\n",
       "   'normal': 4,\n",
       "   'normal_rate': 1.0}),\n",
       " ((43.9, -17.20000000000011),\n",
       "  {'total': 4,\n",
       "   'success': 0,\n",
       "   'success_rate': 0.0,\n",
       "   'reset': 0,\n",
       "   'reset_rate': 0.0,\n",
       "   'normal': 4,\n",
       "   'normal_rate': 1.0}),\n",
       " ((43.9, -17.600000000000108),\n",
       "  {'total': 4,\n",
       "   'success': 0,\n",
       "   'success_rate': 0.0,\n",
       "   'reset': 0,\n",
       "   'reset_rate': 0.0,\n",
       "   'normal': 4,\n",
       "   'normal_rate': 1.0}),\n",
       " ((43.9, -18.000000000000107),\n",
       "  {'total': 4,\n",
       "   'success': 0,\n",
       "   'success_rate': 0.0,\n",
       "   'reset': 0,\n",
       "   'reset_rate': 0.0,\n",
       "   'normal': 4,\n",
       "   'normal_rate': 1.0}),\n",
       " ((43.9, -18.400000000000105),\n",
       "  {'total': 4,\n",
       "   'success': 0,\n",
       "   'success_rate': 0.0,\n",
       "   'reset': 0,\n",
       "   'reset_rate': 0.0,\n",
       "   'normal': 4,\n",
       "   'normal_rate': 1.0}),\n",
       " ((43.9, -18.800000000000104),\n",
       "  {'total': 4,\n",
       "   'success': 0,\n",
       "   'success_rate': 0.0,\n",
       "   'reset': 0,\n",
       "   'reset_rate': 0.0,\n",
       "   'normal': 4,\n",
       "   'normal_rate': 1.0}),\n",
       " ((43.9, -19.200000000000102),\n",
       "  {'total': 4,\n",
       "   'success': 0,\n",
       "   'success_rate': 0.0,\n",
       "   'reset': 0,\n",
       "   'reset_rate': 0.0,\n",
       "   'normal': 4,\n",
       "   'normal_rate': 1.0}),\n",
       " ((43.9, -19.6000000000001),\n",
       "  {'total': 4,\n",
       "   'success': 0,\n",
       "   'success_rate': 0.0,\n",
       "   'reset': 0,\n",
       "   'reset_rate': 0.0,\n",
       "   'normal': 4,\n",
       "   'normal_rate': 1.0}),\n",
       " ((43.9, -20.0000000000001),\n",
       "  {'total': 4,\n",
       "   'success': 0,\n",
       "   'success_rate': 0.0,\n",
       "   'reset': 0,\n",
       "   'reset_rate': 0.0,\n",
       "   'normal': 4,\n",
       "   'normal_rate': 1.0}),\n",
       " ((43.9, -20.400000000000098),\n",
       "  {'total': 4,\n",
       "   'success': 0,\n",
       "   'success_rate': 0.0,\n",
       "   'reset': 0,\n",
       "   'reset_rate': 0.0,\n",
       "   'normal': 4,\n",
       "   'normal_rate': 1.0}),\n",
       " ((43.9, -20.800000000000097),\n",
       "  {'total': 4,\n",
       "   'success': 0,\n",
       "   'success_rate': 0.0,\n",
       "   'reset': 0,\n",
       "   'reset_rate': 0.0,\n",
       "   'normal': 4,\n",
       "   'normal_rate': 1.0}),\n",
       " ((43.9, -21.200000000000095),\n",
       "  {'total': 4,\n",
       "   'success': 0,\n",
       "   'success_rate': 0.0,\n",
       "   'reset': 0,\n",
       "   'reset_rate': 0.0,\n",
       "   'normal': 4,\n",
       "   'normal_rate': 1.0}),\n",
       " ((43.9, -21.600000000000094),\n",
       "  {'total': 4,\n",
       "   'success': 0,\n",
       "   'success_rate': 0.0,\n",
       "   'reset': 0,\n",
       "   'reset_rate': 0.0,\n",
       "   'normal': 4,\n",
       "   'normal_rate': 1.0}),\n",
       " ((43.9, -22.000000000000092),\n",
       "  {'total': 4,\n",
       "   'success': 0,\n",
       "   'success_rate': 0.0,\n",
       "   'reset': 0,\n",
       "   'reset_rate': 0.0,\n",
       "   'normal': 4,\n",
       "   'normal_rate': 1.0}),\n",
       " ((43.9, -22.40000000000009),\n",
       "  {'total': 4,\n",
       "   'success': 0,\n",
       "   'success_rate': 0.0,\n",
       "   'reset': 0,\n",
       "   'reset_rate': 0.0,\n",
       "   'normal': 4,\n",
       "   'normal_rate': 1.0}),\n",
       " ((43.9, -22.80000000000009),\n",
       "  {'total': 4,\n",
       "   'success': 0,\n",
       "   'success_rate': 0.0,\n",
       "   'reset': 0,\n",
       "   'reset_rate': 0.0,\n",
       "   'normal': 4,\n",
       "   'normal_rate': 1.0}),\n",
       " ((43.9, -23.200000000000088),\n",
       "  {'total': 4,\n",
       "   'success': 0,\n",
       "   'success_rate': 0.0,\n",
       "   'reset': 0,\n",
       "   'reset_rate': 0.0,\n",
       "   'normal': 4,\n",
       "   'normal_rate': 1.0}),\n",
       " ((43.9, -23.600000000000087),\n",
       "  {'total': 4,\n",
       "   'success': 0,\n",
       "   'success_rate': 0.0,\n",
       "   'reset': 0,\n",
       "   'reset_rate': 0.0,\n",
       "   'normal': 4,\n",
       "   'normal_rate': 1.0}),\n",
       " ((43.9, -24.000000000000085),\n",
       "  {'total': 4,\n",
       "   'success': 0,\n",
       "   'success_rate': 0.0,\n",
       "   'reset': 0,\n",
       "   'reset_rate': 0.0,\n",
       "   'normal': 4,\n",
       "   'normal_rate': 1.0}),\n",
       " ((43.9, -24.400000000000084),\n",
       "  {'total': 4,\n",
       "   'success': 0,\n",
       "   'success_rate': 0.0,\n",
       "   'reset': 0,\n",
       "   'reset_rate': 0.0,\n",
       "   'normal': 4,\n",
       "   'normal_rate': 1.0}),\n",
       " ((43.9, -24.800000000000082),\n",
       "  {'total': 4,\n",
       "   'success': 0,\n",
       "   'success_rate': 0.0,\n",
       "   'reset': 0,\n",
       "   'reset_rate': 0.0,\n",
       "   'normal': 4,\n",
       "   'normal_rate': 1.0}),\n",
       " ((43.9, -25.20000000000008),\n",
       "  {'total': 4,\n",
       "   'success': 0,\n",
       "   'success_rate': 0.0,\n",
       "   'reset': 0,\n",
       "   'reset_rate': 0.0,\n",
       "   'normal': 4,\n",
       "   'normal_rate': 1.0}),\n",
       " ((43.9, -25.60000000000008),\n",
       "  {'total': 4,\n",
       "   'success': 0,\n",
       "   'success_rate': 0.0,\n",
       "   'reset': 0,\n",
       "   'reset_rate': 0.0,\n",
       "   'normal': 4,\n",
       "   'normal_rate': 1.0}),\n",
       " ((43.9, -26.000000000000078),\n",
       "  {'total': 4,\n",
       "   'success': 0,\n",
       "   'success_rate': 0.0,\n",
       "   'reset': 0,\n",
       "   'reset_rate': 0.0,\n",
       "   'normal': 4,\n",
       "   'normal_rate': 1.0}),\n",
       " ((43.9, -26.400000000000077),\n",
       "  {'total': 4,\n",
       "   'success': 0,\n",
       "   'success_rate': 0.0,\n",
       "   'reset': 0,\n",
       "   'reset_rate': 0.0,\n",
       "   'normal': 4,\n",
       "   'normal_rate': 1.0}),\n",
       " ((43.9, -26.800000000000075),\n",
       "  {'total': 4,\n",
       "   'success': 0,\n",
       "   'success_rate': 0.0,\n",
       "   'reset': 0,\n",
       "   'reset_rate': 0.0,\n",
       "   'normal': 4,\n",
       "   'normal_rate': 1.0}),\n",
       " ((43.9, -27.200000000000074),\n",
       "  {'total': 4,\n",
       "   'success': 0,\n",
       "   'success_rate': 0.0,\n",
       "   'reset': 0,\n",
       "   'reset_rate': 0.0,\n",
       "   'normal': 4,\n",
       "   'normal_rate': 1.0}),\n",
       " ((43.9, -27.600000000000072),\n",
       "  {'total': 4,\n",
       "   'success': 0,\n",
       "   'success_rate': 0.0,\n",
       "   'reset': 0,\n",
       "   'reset_rate': 0.0,\n",
       "   'normal': 4,\n",
       "   'normal_rate': 1.0}),\n",
       " ((43.9, -28.00000000000007),\n",
       "  {'total': 4,\n",
       "   'success': 0,\n",
       "   'success_rate': 0.0,\n",
       "   'reset': 0,\n",
       "   'reset_rate': 0.0,\n",
       "   'normal': 4,\n",
       "   'normal_rate': 1.0}),\n",
       " ((43.9, -28.40000000000007),\n",
       "  {'total': 4,\n",
       "   'success': 0,\n",
       "   'success_rate': 0.0,\n",
       "   'reset': 0,\n",
       "   'reset_rate': 0.0,\n",
       "   'normal': 4,\n",
       "   'normal_rate': 1.0}),\n",
       " ((43.9, -28.800000000000068),\n",
       "  {'total': 4,\n",
       "   'success': 0,\n",
       "   'success_rate': 0.0,\n",
       "   'reset': 0,\n",
       "   'reset_rate': 0.0,\n",
       "   'normal': 4,\n",
       "   'normal_rate': 1.0}),\n",
       " ((43.9, -29.200000000000067),\n",
       "  {'total': 4,\n",
       "   'success': 0,\n",
       "   'success_rate': 0.0,\n",
       "   'reset': 0,\n",
       "   'reset_rate': 0.0,\n",
       "   'normal': 4,\n",
       "   'normal_rate': 1.0}),\n",
       " ((43.9, -29.600000000000065),\n",
       "  {'total': 4,\n",
       "   'success': 0,\n",
       "   'success_rate': 0.0,\n",
       "   'reset': 0,\n",
       "   'reset_rate': 0.0,\n",
       "   'normal': 4,\n",
       "   'normal_rate': 1.0}),\n",
       " ((43.9, -30.000000000000064),\n",
       "  {'total': 4,\n",
       "   'success': 0,\n",
       "   'success_rate': 0.0,\n",
       "   'reset': 0,\n",
       "   'reset_rate': 0.0,\n",
       "   'normal': 4,\n",
       "   'normal_rate': 1.0}),\n",
       " ((43.9, -30.400000000000063),\n",
       "  {'total': 4,\n",
       "   'success': 0,\n",
       "   'success_rate': 0.0,\n",
       "   'reset': 0,\n",
       "   'reset_rate': 0.0,\n",
       "   'normal': 4,\n",
       "   'normal_rate': 1.0}),\n",
       " ((43.9, -30.80000000000006),\n",
       "  {'total': 4,\n",
       "   'success': 0,\n",
       "   'success_rate': 0.0,\n",
       "   'reset': 0,\n",
       "   'reset_rate': 0.0,\n",
       "   'normal': 4,\n",
       "   'normal_rate': 1.0}),\n",
       " ((43.9, -31.20000000000006),\n",
       "  {'total': 4,\n",
       "   'success': 0,\n",
       "   'success_rate': 0.0,\n",
       "   'reset': 0,\n",
       "   'reset_rate': 0.0,\n",
       "   'normal': 4,\n",
       "   'normal_rate': 1.0}),\n",
       " ((43.9, -31.60000000000006),\n",
       "  {'total': 4,\n",
       "   'success': 0,\n",
       "   'success_rate': 0.0,\n",
       "   'reset': 0,\n",
       "   'reset_rate': 0.0,\n",
       "   'normal': 4,\n",
       "   'normal_rate': 1.0}),\n",
       " ((43.9, -32.00000000000006),\n",
       "  {'total': 4,\n",
       "   'success': 0,\n",
       "   'success_rate': 0.0,\n",
       "   'reset': 0,\n",
       "   'reset_rate': 0.0,\n",
       "   'normal': 4,\n",
       "   'normal_rate': 1.0}),\n",
       " ((43.9, -32.400000000000055),\n",
       "  {'total': 4,\n",
       "   'success': 0,\n",
       "   'success_rate': 0.0,\n",
       "   'reset': 0,\n",
       "   'reset_rate': 0.0,\n",
       "   'normal': 4,\n",
       "   'normal_rate': 1.0}),\n",
       " ((43.9, -32.800000000000054),\n",
       "  {'total': 4,\n",
       "   'success': 0,\n",
       "   'success_rate': 0.0,\n",
       "   'reset': 0,\n",
       "   'reset_rate': 0.0,\n",
       "   'normal': 4,\n",
       "   'normal_rate': 1.0}),\n",
       " ((43.9, -33.20000000000005),\n",
       "  {'total': 4,\n",
       "   'success': 0,\n",
       "   'success_rate': 0.0,\n",
       "   'reset': 0,\n",
       "   'reset_rate': 0.0,\n",
       "   'normal': 4,\n",
       "   'normal_rate': 1.0}),\n",
       " ((43.9, -33.60000000000005),\n",
       "  {'total': 4,\n",
       "   'success': 0,\n",
       "   'success_rate': 0.0,\n",
       "   'reset': 0,\n",
       "   'reset_rate': 0.0,\n",
       "   'normal': 4,\n",
       "   'normal_rate': 1.0}),\n",
       " ((43.9, -34.00000000000005),\n",
       "  {'total': 4,\n",
       "   'success': 0,\n",
       "   'success_rate': 0.0,\n",
       "   'reset': 0,\n",
       "   'reset_rate': 0.0,\n",
       "   'normal': 4,\n",
       "   'normal_rate': 1.0}),\n",
       " ((43.9, -34.40000000000005),\n",
       "  {'total': 4,\n",
       "   'success': 0,\n",
       "   'success_rate': 0.0,\n",
       "   'reset': 0,\n",
       "   'reset_rate': 0.0,\n",
       "   'normal': 4,\n",
       "   'normal_rate': 1.0}),\n",
       " ((43.9, -34.80000000000005),\n",
       "  {'total': 4,\n",
       "   'success': 0,\n",
       "   'success_rate': 0.0,\n",
       "   'reset': 0,\n",
       "   'reset_rate': 0.0,\n",
       "   'normal': 4,\n",
       "   'normal_rate': 1.0}),\n",
       " ((43.9, -35.200000000000045),\n",
       "  {'total': 4,\n",
       "   'success': 0,\n",
       "   'success_rate': 0.0,\n",
       "   'reset': 0,\n",
       "   'reset_rate': 0.0,\n",
       "   'normal': 4,\n",
       "   'normal_rate': 1.0}),\n",
       " ((43.9, -35.600000000000044),\n",
       "  {'total': 4,\n",
       "   'success': 0,\n",
       "   'success_rate': 0.0,\n",
       "   'reset': 0,\n",
       "   'reset_rate': 0.0,\n",
       "   'normal': 4,\n",
       "   'normal_rate': 1.0}),\n",
       " ((43.9, -36.00000000000004),\n",
       "  {'total': 4,\n",
       "   'success': 0,\n",
       "   'success_rate': 0.0,\n",
       "   'reset': 0,\n",
       "   'reset_rate': 0.0,\n",
       "   'normal': 4,\n",
       "   'normal_rate': 1.0}),\n",
       " ((43.9, -36.40000000000004),\n",
       "  {'total': 4,\n",
       "   'success': 0,\n",
       "   'success_rate': 0.0,\n",
       "   'reset': 0,\n",
       "   'reset_rate': 0.0,\n",
       "   'normal': 4,\n",
       "   'normal_rate': 1.0}),\n",
       " ((43.9, -36.80000000000004),\n",
       "  {'total': 4,\n",
       "   'success': 0,\n",
       "   'success_rate': 0.0,\n",
       "   'reset': 0,\n",
       "   'reset_rate': 0.0,\n",
       "   'normal': 4,\n",
       "   'normal_rate': 1.0}),\n",
       " ((43.9, -37.20000000000004),\n",
       "  {'total': 4,\n",
       "   'success': 0,\n",
       "   'success_rate': 0.0,\n",
       "   'reset': 0,\n",
       "   'reset_rate': 0.0,\n",
       "   'normal': 4,\n",
       "   'normal_rate': 1.0}),\n",
       " ((43.9, -37.60000000000004),\n",
       "  {'total': 4,\n",
       "   'success': 0,\n",
       "   'success_rate': 0.0,\n",
       "   'reset': 0,\n",
       "   'reset_rate': 0.0,\n",
       "   'normal': 4,\n",
       "   'normal_rate': 1.0}),\n",
       " ((43.9, -38.000000000000036),\n",
       "  {'total': 4,\n",
       "   'success': 0,\n",
       "   'success_rate': 0.0,\n",
       "   'reset': 0,\n",
       "   'reset_rate': 0.0,\n",
       "   'normal': 4,\n",
       "   'normal_rate': 1.0}),\n",
       " ((43.9, -38.400000000000034),\n",
       "  {'total': 4,\n",
       "   'success': 0,\n",
       "   'success_rate': 0.0,\n",
       "   'reset': 0,\n",
       "   'reset_rate': 0.0,\n",
       "   'normal': 4,\n",
       "   'normal_rate': 1.0}),\n",
       " ((43.9, -38.80000000000003),\n",
       "  {'total': 4,\n",
       "   'success': 0,\n",
       "   'success_rate': 0.0,\n",
       "   'reset': 0,\n",
       "   'reset_rate': 0.0,\n",
       "   'normal': 4,\n",
       "   'normal_rate': 1.0}),\n",
       " ((43.9, -39.20000000000003),\n",
       "  {'total': 4,\n",
       "   'success': 0,\n",
       "   'success_rate': 0.0,\n",
       "   'reset': 0,\n",
       "   'reset_rate': 0.0,\n",
       "   'normal': 4,\n",
       "   'normal_rate': 1.0}),\n",
       " ((43.9, -39.60000000000003),\n",
       "  {'total': 4,\n",
       "   'success': 0,\n",
       "   'success_rate': 0.0,\n",
       "   'reset': 0,\n",
       "   'reset_rate': 0.0,\n",
       "   'normal': 4,\n",
       "   'normal_rate': 1.0}),\n",
       " ((43.9, -40.00000000000003),\n",
       "  {'total': 4,\n",
       "   'success': 0,\n",
       "   'success_rate': 0.0,\n",
       "   'reset': 0,\n",
       "   'reset_rate': 0.0,\n",
       "   'normal': 4,\n",
       "   'normal_rate': 1.0}),\n",
       " ((43.9, -40.40000000000003),\n",
       "  {'total': 4,\n",
       "   'success': 0,\n",
       "   'success_rate': 0.0,\n",
       "   'reset': 0,\n",
       "   'reset_rate': 0.0,\n",
       "   'normal': 4,\n",
       "   'normal_rate': 1.0}),\n",
       " ((43.9, -40.800000000000026),\n",
       "  {'total': 4,\n",
       "   'success': 0,\n",
       "   'success_rate': 0.0,\n",
       "   'reset': 0,\n",
       "   'reset_rate': 0.0,\n",
       "   'normal': 4,\n",
       "   'normal_rate': 1.0}),\n",
       " ((43.9, -41.200000000000024),\n",
       "  {'total': 4,\n",
       "   'success': 0,\n",
       "   'success_rate': 0.0,\n",
       "   'reset': 0,\n",
       "   'reset_rate': 0.0,\n",
       "   'normal': 4,\n",
       "   'normal_rate': 1.0}),\n",
       " ((43.9, -41.60000000000002),\n",
       "  {'total': 4,\n",
       "   'success': 0,\n",
       "   'success_rate': 0.0,\n",
       "   'reset': 0,\n",
       "   'reset_rate': 0.0,\n",
       "   'normal': 4,\n",
       "   'normal_rate': 1.0}),\n",
       " ((43.9, -42.00000000000002),\n",
       "  {'total': 4,\n",
       "   'success': 0,\n",
       "   'success_rate': 0.0,\n",
       "   'reset': 0,\n",
       "   'reset_rate': 0.0,\n",
       "   'normal': 4,\n",
       "   'normal_rate': 1.0}),\n",
       " ((43.9, -42.40000000000002),\n",
       "  {'total': 4,\n",
       "   'success': 0,\n",
       "   'success_rate': 0.0,\n",
       "   'reset': 0,\n",
       "   'reset_rate': 0.0,\n",
       "   'normal': 4,\n",
       "   'normal_rate': 1.0}),\n",
       " ((43.9, -42.80000000000002),\n",
       "  {'total': 4,\n",
       "   'success': 0,\n",
       "   'success_rate': 0.0,\n",
       "   'reset': 0,\n",
       "   'reset_rate': 0.0,\n",
       "   'normal': 4,\n",
       "   'normal_rate': 1.0}),\n",
       " ((43.9, -43.20000000000002),\n",
       "  {'total': 4,\n",
       "   'success': 0,\n",
       "   'success_rate': 0.0,\n",
       "   'reset': 0,\n",
       "   'reset_rate': 0.0,\n",
       "   'normal': 4,\n",
       "   'normal_rate': 1.0}),\n",
       " ((43.9, -43.600000000000016),\n",
       "  {'total': 4,\n",
       "   'success': 0,\n",
       "   'success_rate': 0.0,\n",
       "   'reset': 0,\n",
       "   'reset_rate': 0.0,\n",
       "   'normal': 4,\n",
       "   'normal_rate': 1.0}),\n",
       " ((43.9, -44.000000000000014),\n",
       "  {'total': 4,\n",
       "   'success': 0,\n",
       "   'success_rate': 0.0,\n",
       "   'reset': 0,\n",
       "   'reset_rate': 0.0,\n",
       "   'normal': 4,\n",
       "   'normal_rate': 1.0}),\n",
       " ((43.9, -44.40000000000001),\n",
       "  {'total': 4,\n",
       "   'success': 0,\n",
       "   'success_rate': 0.0,\n",
       "   'reset': 0,\n",
       "   'reset_rate': 0.0,\n",
       "   'normal': 4,\n",
       "   'normal_rate': 1.0}),\n",
       " ((43.9, -44.80000000000001),\n",
       "  {'total': 4,\n",
       "   'success': 0,\n",
       "   'success_rate': 0.0,\n",
       "   'reset': 0,\n",
       "   'reset_rate': 0.0,\n",
       "   'normal': 4,\n",
       "   'normal_rate': 1.0}),\n",
       " ((43.9, -45.20000000000001),\n",
       "  {'total': 4,\n",
       "   'success': 0,\n",
       "   'success_rate': 0.0,\n",
       "   'reset': 0,\n",
       "   'reset_rate': 0.0,\n",
       "   'normal': 4,\n",
       "   'normal_rate': 1.0}),\n",
       " ((43.9, -45.60000000000001),\n",
       "  {'total': 4,\n",
       "   'success': 0,\n",
       "   'success_rate': 0.0,\n",
       "   'reset': 0,\n",
       "   'reset_rate': 0.0,\n",
       "   'normal': 4,\n",
       "   'normal_rate': 1.0}),\n",
       " ((43.9, -46.00000000000001),\n",
       "  {'total': 4,\n",
       "   'success': 0,\n",
       "   'success_rate': 0.0,\n",
       "   'reset': 0,\n",
       "   'reset_rate': 0.0,\n",
       "   'normal': 4,\n",
       "   'normal_rate': 1.0}),\n",
       " ((43.9, -46.400000000000006),\n",
       "  {'total': 4,\n",
       "   'success': 0,\n",
       "   'success_rate': 0.0,\n",
       "   'reset': 0,\n",
       "   'reset_rate': 0.0,\n",
       "   'normal': 4,\n",
       "   'normal_rate': 1.0}),\n",
       " ((43.9, -46.800000000000004),\n",
       "  {'total': 4,\n",
       "   'success': 0,\n",
       "   'success_rate': 0.0,\n",
       "   'reset': 0,\n",
       "   'reset_rate': 0.0,\n",
       "   'normal': 4,\n",
       "   'normal_rate': 1.0}),\n",
       " ((43.9, -47.2),\n",
       "  {'total': 4,\n",
       "   'success': 0,\n",
       "   'success_rate': 0.0,\n",
       "   'reset': 0,\n",
       "   'reset_rate': 0.0,\n",
       "   'normal': 4,\n",
       "   'normal_rate': 1.0}),\n",
       " ((43.9, -47.6),\n",
       "  {'total': 4,\n",
       "   'success': 0,\n",
       "   'success_rate': 0.0,\n",
       "   'reset': 0,\n",
       "   'reset_rate': 0.0,\n",
       "   'normal': 4,\n",
       "   'normal_rate': 1.0}),\n",
       " ((43.9, -48),\n",
       "  {'total': 4,\n",
       "   'success': 0,\n",
       "   'success_rate': 0.0,\n",
       "   'reset': 0,\n",
       "   'reset_rate': 0.0,\n",
       "   'normal': 4,\n",
       "   'normal_rate': 1.0}),\n",
       " ((43.5, -10.000000000000108),\n",
       "  {'total': 4,\n",
       "   'success': 0,\n",
       "   'success_rate': 0.0,\n",
       "   'reset': 0,\n",
       "   'reset_rate': 0.0,\n",
       "   'normal': 4,\n",
       "   'normal_rate': 1.0}),\n",
       " ((43.5, -10.400000000000109),\n",
       "  {'total': 4,\n",
       "   'success': 0,\n",
       "   'success_rate': 0.0,\n",
       "   'reset': 0,\n",
       "   'reset_rate': 0.0,\n",
       "   'normal': 4,\n",
       "   'normal_rate': 1.0}),\n",
       " ((43.5, -10.800000000000109),\n",
       "  {'total': 4,\n",
       "   'success': 0,\n",
       "   'success_rate': 0.0,\n",
       "   'reset': 0,\n",
       "   'reset_rate': 0.0,\n",
       "   'normal': 4,\n",
       "   'normal_rate': 1.0}),\n",
       " ((43.5, -11.20000000000011),\n",
       "  {'total': 4,\n",
       "   'success': 0,\n",
       "   'success_rate': 0.0,\n",
       "   'reset': 0,\n",
       "   'reset_rate': 0.0,\n",
       "   'normal': 4,\n",
       "   'normal_rate': 1.0}),\n",
       " ((43.5, -11.60000000000011),\n",
       "  {'total': 4,\n",
       "   'success': 0,\n",
       "   'success_rate': 0.0,\n",
       "   'reset': 0,\n",
       "   'reset_rate': 0.0,\n",
       "   'normal': 4,\n",
       "   'normal_rate': 1.0}),\n",
       " ((43.5, -12.00000000000011),\n",
       "  {'total': 4,\n",
       "   'success': 0,\n",
       "   'success_rate': 0.0,\n",
       "   'reset': 0,\n",
       "   'reset_rate': 0.0,\n",
       "   'normal': 4,\n",
       "   'normal_rate': 1.0}),\n",
       " ((43.5, -12.40000000000011),\n",
       "  {'total': 4,\n",
       "   'success': 0,\n",
       "   'success_rate': 0.0,\n",
       "   'reset': 0,\n",
       "   'reset_rate': 0.0,\n",
       "   'normal': 4,\n",
       "   'normal_rate': 1.0}),\n",
       " ((43.5, -12.80000000000011),\n",
       "  {'total': 4,\n",
       "   'success': 0,\n",
       "   'success_rate': 0.0,\n",
       "   'reset': 0,\n",
       "   'reset_rate': 0.0,\n",
       "   'normal': 4,\n",
       "   'normal_rate': 1.0}),\n",
       " ((43.5, -13.200000000000111),\n",
       "  {'total': 4,\n",
       "   'success': 0,\n",
       "   'success_rate': 0.0,\n",
       "   'reset': 0,\n",
       "   'reset_rate': 0.0,\n",
       "   'normal': 4,\n",
       "   'normal_rate': 1.0}),\n",
       " ((43.5, -13.600000000000112),\n",
       "  {'total': 4,\n",
       "   'success': 0,\n",
       "   'success_rate': 0.0,\n",
       "   'reset': 0,\n",
       "   'reset_rate': 0.0,\n",
       "   'normal': 4,\n",
       "   'normal_rate': 1.0}),\n",
       " ((43.5, -14.000000000000112),\n",
       "  {'total': 4,\n",
       "   'success': 0,\n",
       "   'success_rate': 0.0,\n",
       "   'reset': 0,\n",
       "   'reset_rate': 0.0,\n",
       "   'normal': 4,\n",
       "   'normal_rate': 1.0}),\n",
       " ((43.5, -14.400000000000112),\n",
       "  {'total': 4,\n",
       "   'success': 0,\n",
       "   'success_rate': 0.0,\n",
       "   'reset': 0,\n",
       "   'reset_rate': 0.0,\n",
       "   'normal': 4,\n",
       "   'normal_rate': 1.0}),\n",
       " ((43.5, -14.800000000000113),\n",
       "  {'total': 4,\n",
       "   'success': 0,\n",
       "   'success_rate': 0.0,\n",
       "   'reset': 0,\n",
       "   'reset_rate': 0.0,\n",
       "   'normal': 4,\n",
       "   'normal_rate': 1.0}),\n",
       " ((43.5, -15.200000000000113),\n",
       "  {'total': 4,\n",
       "   'success': 0,\n",
       "   'success_rate': 0.0,\n",
       "   'reset': 0,\n",
       "   'reset_rate': 0.0,\n",
       "   'normal': 4,\n",
       "   'normal_rate': 1.0}),\n",
       " ((43.5, -15.600000000000113),\n",
       "  {'total': 4,\n",
       "   'success': 0,\n",
       "   'success_rate': 0.0,\n",
       "   'reset': 0,\n",
       "   'reset_rate': 0.0,\n",
       "   'normal': 4,\n",
       "   'normal_rate': 1.0}),\n",
       " ((43.5, -16.000000000000114),\n",
       "  {'total': 4,\n",
       "   'success': 0,\n",
       "   'success_rate': 0.0,\n",
       "   'reset': 0,\n",
       "   'reset_rate': 0.0,\n",
       "   'normal': 4,\n",
       "   'normal_rate': 1.0}),\n",
       " ((43.5, -16.400000000000112),\n",
       "  {'total': 4,\n",
       "   'success': 0,\n",
       "   'success_rate': 0.0,\n",
       "   'reset': 0,\n",
       "   'reset_rate': 0.0,\n",
       "   'normal': 4,\n",
       "   'normal_rate': 1.0}),\n",
       " ((43.5, -16.80000000000011),\n",
       "  {'total': 4,\n",
       "   'success': 0,\n",
       "   'success_rate': 0.0,\n",
       "   'reset': 0,\n",
       "   'reset_rate': 0.0,\n",
       "   'normal': 4,\n",
       "   'normal_rate': 1.0}),\n",
       " ((43.5, -17.20000000000011),\n",
       "  {'total': 4,\n",
       "   'success': 0,\n",
       "   'success_rate': 0.0,\n",
       "   'reset': 0,\n",
       "   'reset_rate': 0.0,\n",
       "   'normal': 4,\n",
       "   'normal_rate': 1.0}),\n",
       " ((43.5, -17.600000000000108),\n",
       "  {'total': 4,\n",
       "   'success': 0,\n",
       "   'success_rate': 0.0,\n",
       "   'reset': 0,\n",
       "   'reset_rate': 0.0,\n",
       "   'normal': 4,\n",
       "   'normal_rate': 1.0}),\n",
       " ((43.5, -18.000000000000107),\n",
       "  {'total': 4,\n",
       "   'success': 0,\n",
       "   'success_rate': 0.0,\n",
       "   'reset': 0,\n",
       "   'reset_rate': 0.0,\n",
       "   'normal': 4,\n",
       "   'normal_rate': 1.0}),\n",
       " ((43.5, -18.400000000000105),\n",
       "  {'total': 4,\n",
       "   'success': 0,\n",
       "   'success_rate': 0.0,\n",
       "   'reset': 0,\n",
       "   'reset_rate': 0.0,\n",
       "   'normal': 4,\n",
       "   'normal_rate': 1.0}),\n",
       " ((43.5, -18.800000000000104),\n",
       "  {'total': 4,\n",
       "   'success': 0,\n",
       "   'success_rate': 0.0,\n",
       "   'reset': 0,\n",
       "   'reset_rate': 0.0,\n",
       "   'normal': 4,\n",
       "   'normal_rate': 1.0}),\n",
       " ((43.5, -19.200000000000102),\n",
       "  {'total': 4,\n",
       "   'success': 0,\n",
       "   'success_rate': 0.0,\n",
       "   'reset': 0,\n",
       "   'reset_rate': 0.0,\n",
       "   'normal': 4,\n",
       "   'normal_rate': 1.0}),\n",
       " ((43.5, -19.6000000000001),\n",
       "  {'total': 4,\n",
       "   'success': 0,\n",
       "   'success_rate': 0.0,\n",
       "   'reset': 0,\n",
       "   'reset_rate': 0.0,\n",
       "   'normal': 4,\n",
       "   'normal_rate': 1.0}),\n",
       " ((43.5, -20.0000000000001),\n",
       "  {'total': 4,\n",
       "   'success': 0,\n",
       "   'success_rate': 0.0,\n",
       "   'reset': 0,\n",
       "   'reset_rate': 0.0,\n",
       "   'normal': 4,\n",
       "   'normal_rate': 1.0}),\n",
       " ((43.5, -20.400000000000098),\n",
       "  {'total': 4,\n",
       "   'success': 0,\n",
       "   'success_rate': 0.0,\n",
       "   'reset': 0,\n",
       "   'reset_rate': 0.0,\n",
       "   'normal': 4,\n",
       "   'normal_rate': 1.0}),\n",
       " ((43.5, -20.800000000000097),\n",
       "  {'total': 4,\n",
       "   'success': 0,\n",
       "   'success_rate': 0.0,\n",
       "   'reset': 0,\n",
       "   'reset_rate': 0.0,\n",
       "   'normal': 4,\n",
       "   'normal_rate': 1.0}),\n",
       " ((43.5, -21.200000000000095),\n",
       "  {'total': 4,\n",
       "   'success': 0,\n",
       "   'success_rate': 0.0,\n",
       "   'reset': 0,\n",
       "   'reset_rate': 0.0,\n",
       "   'normal': 4,\n",
       "   'normal_rate': 1.0}),\n",
       " ((43.5, -21.600000000000094),\n",
       "  {'total': 4,\n",
       "   'success': 0,\n",
       "   'success_rate': 0.0,\n",
       "   'reset': 0,\n",
       "   'reset_rate': 0.0,\n",
       "   'normal': 4,\n",
       "   'normal_rate': 1.0}),\n",
       " ((43.5, -22.000000000000092),\n",
       "  {'total': 4,\n",
       "   'success': 0,\n",
       "   'success_rate': 0.0,\n",
       "   'reset': 0,\n",
       "   'reset_rate': 0.0,\n",
       "   'normal': 4,\n",
       "   'normal_rate': 1.0}),\n",
       " ((43.5, -22.40000000000009),\n",
       "  {'total': 4,\n",
       "   'success': 0,\n",
       "   'success_rate': 0.0,\n",
       "   'reset': 0,\n",
       "   'reset_rate': 0.0,\n",
       "   'normal': 4,\n",
       "   'normal_rate': 1.0}),\n",
       " ((43.5, -22.80000000000009),\n",
       "  {'total': 4,\n",
       "   'success': 0,\n",
       "   'success_rate': 0.0,\n",
       "   'reset': 0,\n",
       "   'reset_rate': 0.0,\n",
       "   'normal': 4,\n",
       "   'normal_rate': 1.0}),\n",
       " ((43.5, -23.200000000000088),\n",
       "  {'total': 4,\n",
       "   'success': 0,\n",
       "   'success_rate': 0.0,\n",
       "   'reset': 0,\n",
       "   'reset_rate': 0.0,\n",
       "   'normal': 4,\n",
       "   'normal_rate': 1.0}),\n",
       " ((43.5, -23.600000000000087),\n",
       "  {'total': 4,\n",
       "   'success': 0,\n",
       "   'success_rate': 0.0,\n",
       "   'reset': 0,\n",
       "   'reset_rate': 0.0,\n",
       "   'normal': 4,\n",
       "   'normal_rate': 1.0}),\n",
       " ((43.5, -24.000000000000085),\n",
       "  {'total': 4,\n",
       "   'success': 0,\n",
       "   'success_rate': 0.0,\n",
       "   'reset': 0,\n",
       "   'reset_rate': 0.0,\n",
       "   'normal': 4,\n",
       "   'normal_rate': 1.0}),\n",
       " ((43.5, -24.400000000000084),\n",
       "  {'total': 4,\n",
       "   'success': 0,\n",
       "   'success_rate': 0.0,\n",
       "   'reset': 0,\n",
       "   'reset_rate': 0.0,\n",
       "   'normal': 4,\n",
       "   'normal_rate': 1.0}),\n",
       " ((43.5, -24.800000000000082),\n",
       "  {'total': 4,\n",
       "   'success': 0,\n",
       "   'success_rate': 0.0,\n",
       "   'reset': 0,\n",
       "   'reset_rate': 0.0,\n",
       "   'normal': 4,\n",
       "   'normal_rate': 1.0}),\n",
       " ((43.5, -25.20000000000008),\n",
       "  {'total': 4,\n",
       "   'success': 0,\n",
       "   'success_rate': 0.0,\n",
       "   'reset': 0,\n",
       "   'reset_rate': 0.0,\n",
       "   'normal': 4,\n",
       "   'normal_rate': 1.0}),\n",
       " ((43.5, -25.60000000000008),\n",
       "  {'total': 4,\n",
       "   'success': 0,\n",
       "   'success_rate': 0.0,\n",
       "   'reset': 0,\n",
       "   'reset_rate': 0.0,\n",
       "   'normal': 4,\n",
       "   'normal_rate': 1.0}),\n",
       " ...]"
      ]
     },
     "execution_count": 13,
     "metadata": {},
     "output_type": "execute_result"
    }
   ],
   "source": [
    "results = gc.calc(ignore_params=[\"tries\", \"ext_offset\"], sort=\"success_rate\")\n",
    "results"
   ]
  },
  {
   "cell_type": "code",
   "execution_count": 14,
   "metadata": {
    "execution": {
     "iopub.execute_input": "2025-03-15T01:09:29.892738Z",
     "iopub.status.busy": "2025-03-15T01:09:29.891953Z",
     "iopub.status.idle": "2025-03-15T01:09:30.758572Z",
     "shell.execute_reply": "2025-03-15T01:09:30.756191Z"
    }
   },
   "outputs": [
    {
     "data": {
      "text/html": [
       "<script type=\"esms-options\">{\"shimMode\": true}</script><style>*[data-root-id],\n",
       "*[data-root-id] > * {\n",
       "  box-sizing: border-box;\n",
       "  font-family: var(--jp-ui-font-family);\n",
       "  font-size: var(--jp-ui-font-size1);\n",
       "  color: var(--vscode-editor-foreground, var(--jp-ui-font-color1));\n",
       "}\n",
       "\n",
       "/* Override VSCode background color */\n",
       ".cell-output-ipywidget-background:has(\n",
       "    > .cell-output-ipywidget-background > .lm-Widget > *[data-root-id]\n",
       "  ),\n",
       ".cell-output-ipywidget-background:has(> .lm-Widget > *[data-root-id]) {\n",
       "  background-color: transparent !important;\n",
       "}\n",
       "</style>"
      ]
     },
     "metadata": {},
     "output_type": "display_data"
    },
    {
     "data": {
      "application/javascript": [
       "(function(root) {\n",
       "  function now() {\n",
       "    return new Date();\n",
       "  }\n",
       "\n",
       "  const force = true;\n",
       "  const py_version = '3.6.3'.replace('rc', '-rc.').replace('.dev', '-dev.');\n",
       "  const reloading = false;\n",
       "  const Bokeh = root.Bokeh;\n",
       "\n",
       "  // Set a timeout for this load but only if we are not already initializing\n",
       "  if (typeof (root._bokeh_timeout) === \"undefined\" || (force || !root._bokeh_is_initializing)) {\n",
       "    root._bokeh_timeout = Date.now() + 5000;\n",
       "    root._bokeh_failed_load = false;\n",
       "  }\n",
       "\n",
       "  function run_callbacks() {\n",
       "    try {\n",
       "      root._bokeh_onload_callbacks.forEach(function(callback) {\n",
       "        if (callback != null)\n",
       "          callback();\n",
       "      });\n",
       "    } finally {\n",
       "      delete root._bokeh_onload_callbacks;\n",
       "    }\n",
       "    console.debug(\"Bokeh: all callbacks have finished\");\n",
       "  }\n",
       "\n",
       "  function load_libs(css_urls, js_urls, js_modules, js_exports, callback) {\n",
       "    if (css_urls == null) css_urls = [];\n",
       "    if (js_urls == null) js_urls = [];\n",
       "    if (js_modules == null) js_modules = [];\n",
       "    if (js_exports == null) js_exports = {};\n",
       "\n",
       "    root._bokeh_onload_callbacks.push(callback);\n",
       "\n",
       "    if (root._bokeh_is_loading > 0) {\n",
       "      // Don't load bokeh if it is still initializing\n",
       "      console.debug(\"Bokeh: BokehJS is being loaded, scheduling callback at\", now());\n",
       "      return null;\n",
       "    } else if (js_urls.length === 0 && js_modules.length === 0 && Object.keys(js_exports).length === 0) {\n",
       "      // There is nothing to load\n",
       "      run_callbacks();\n",
       "      return null;\n",
       "    }\n",
       "\n",
       "    function on_load() {\n",
       "      root._bokeh_is_loading--;\n",
       "      if (root._bokeh_is_loading === 0) {\n",
       "        console.debug(\"Bokeh: all BokehJS libraries/stylesheets loaded\");\n",
       "        run_callbacks()\n",
       "      }\n",
       "    }\n",
       "    window._bokeh_on_load = on_load\n",
       "\n",
       "    function on_error(e) {\n",
       "      const src_el = e.srcElement\n",
       "      console.error(\"failed to load \" + (src_el.href || src_el.src));\n",
       "    }\n",
       "\n",
       "    const skip = [];\n",
       "    if (window.requirejs) {\n",
       "      window.requirejs.config({'packages': {}, 'paths': {}, 'shim': {}});\n",
       "      root._bokeh_is_loading = css_urls.length + 0;\n",
       "    } else {\n",
       "      root._bokeh_is_loading = css_urls.length + js_urls.length + js_modules.length + Object.keys(js_exports).length;\n",
       "    }\n",
       "\n",
       "    const existing_stylesheets = []\n",
       "    const links = document.getElementsByTagName('link')\n",
       "    for (let i = 0; i < links.length; i++) {\n",
       "      const link = links[i]\n",
       "      if (link.href != null) {\n",
       "        existing_stylesheets.push(link.href)\n",
       "      }\n",
       "    }\n",
       "    for (let i = 0; i < css_urls.length; i++) {\n",
       "      const url = css_urls[i];\n",
       "      const escaped = encodeURI(url)\n",
       "      if (existing_stylesheets.indexOf(escaped) !== -1) {\n",
       "        on_load()\n",
       "        continue;\n",
       "      }\n",
       "      const element = document.createElement(\"link\");\n",
       "      element.onload = on_load;\n",
       "      element.onerror = on_error;\n",
       "      element.rel = \"stylesheet\";\n",
       "      element.type = \"text/css\";\n",
       "      element.href = url;\n",
       "      console.debug(\"Bokeh: injecting link tag for BokehJS stylesheet: \", url);\n",
       "      document.body.appendChild(element);\n",
       "    }    var existing_scripts = []\n",
       "    const scripts = document.getElementsByTagName('script')\n",
       "    for (let i = 0; i < scripts.length; i++) {\n",
       "      var script = scripts[i]\n",
       "      if (script.src != null) {\n",
       "        existing_scripts.push(script.src)\n",
       "      }\n",
       "    }\n",
       "    for (let i = 0; i < js_urls.length; i++) {\n",
       "      const url = js_urls[i];\n",
       "      const escaped = encodeURI(url)\n",
       "      if (skip.indexOf(escaped) !== -1 || existing_scripts.indexOf(escaped) !== -1) {\n",
       "        if (!window.requirejs) {\n",
       "          on_load();\n",
       "        }\n",
       "        continue;\n",
       "      }\n",
       "      const element = document.createElement('script');\n",
       "      element.onload = on_load;\n",
       "      element.onerror = on_error;\n",
       "      element.async = false;\n",
       "      element.src = url;\n",
       "      console.debug(\"Bokeh: injecting script tag for BokehJS library: \", url);\n",
       "      document.head.appendChild(element);\n",
       "    }\n",
       "    for (let i = 0; i < js_modules.length; i++) {\n",
       "      const url = js_modules[i];\n",
       "      const escaped = encodeURI(url)\n",
       "      if (skip.indexOf(escaped) !== -1 || existing_scripts.indexOf(escaped) !== -1) {\n",
       "        if (!window.requirejs) {\n",
       "          on_load();\n",
       "        }\n",
       "        continue;\n",
       "      }\n",
       "      var element = document.createElement('script');\n",
       "      element.onload = on_load;\n",
       "      element.onerror = on_error;\n",
       "      element.async = false;\n",
       "      element.src = url;\n",
       "      element.type = \"module\";\n",
       "      console.debug(\"Bokeh: injecting script tag for BokehJS library: \", url);\n",
       "      document.head.appendChild(element);\n",
       "    }\n",
       "    for (const name in js_exports) {\n",
       "      const url = js_exports[name];\n",
       "      const escaped = encodeURI(url)\n",
       "      if (skip.indexOf(escaped) >= 0 || root[name] != null) {\n",
       "        if (!window.requirejs) {\n",
       "          on_load();\n",
       "        }\n",
       "        continue;\n",
       "      }\n",
       "      var element = document.createElement('script');\n",
       "      element.onerror = on_error;\n",
       "      element.async = false;\n",
       "      element.type = \"module\";\n",
       "      console.debug(\"Bokeh: injecting script tag for BokehJS library: \", url);\n",
       "      element.textContent = `\n",
       "      import ${name} from \"${url}\"\n",
       "      window.${name} = ${name}\n",
       "      window._bokeh_on_load()\n",
       "      `\n",
       "      document.head.appendChild(element);\n",
       "    }\n",
       "    if (!js_urls.length && !js_modules.length) {\n",
       "      on_load()\n",
       "    }\n",
       "  };\n",
       "\n",
       "  function inject_raw_css(css) {\n",
       "    const element = document.createElement(\"style\");\n",
       "    element.appendChild(document.createTextNode(css));\n",
       "    document.body.appendChild(element);\n",
       "  }\n",
       "\n",
       "  const js_urls = [\"https://cdn.holoviz.org/panel/1.6.1/dist/bundled/reactiveesm/es-module-shims@^1.10.0/dist/es-module-shims.min.js\", \"https://cdn.bokeh.org/bokeh/release/bokeh-3.6.3.min.js\", \"https://cdn.bokeh.org/bokeh/release/bokeh-gl-3.6.3.min.js\", \"https://cdn.bokeh.org/bokeh/release/bokeh-widgets-3.6.3.min.js\", \"https://cdn.bokeh.org/bokeh/release/bokeh-tables-3.6.3.min.js\", \"https://cdn.holoviz.org/panel/1.6.1/dist/panel.min.js\"];\n",
       "  const js_modules = [];\n",
       "  const js_exports = {};\n",
       "  const css_urls = [];\n",
       "  const inline_js = [    function(Bokeh) {\n",
       "      Bokeh.set_log_level(\"info\");\n",
       "    },\n",
       "function(Bokeh) {} // ensure no trailing comma for IE\n",
       "  ];\n",
       "\n",
       "  function run_inline_js() {\n",
       "    if ((root.Bokeh !== undefined) || (force === true)) {\n",
       "      for (let i = 0; i < inline_js.length; i++) {\n",
       "        try {\n",
       "          inline_js[i].call(root, root.Bokeh);\n",
       "        } catch(e) {\n",
       "          if (!reloading) {\n",
       "            throw e;\n",
       "          }\n",
       "        }\n",
       "      }\n",
       "      // Cache old bokeh versions\n",
       "      if (Bokeh != undefined && !reloading) {\n",
       "        var NewBokeh = root.Bokeh;\n",
       "        if (Bokeh.versions === undefined) {\n",
       "          Bokeh.versions = new Map();\n",
       "        }\n",
       "        if (NewBokeh.version !== Bokeh.version) {\n",
       "          Bokeh.versions.set(NewBokeh.version, NewBokeh)\n",
       "        }\n",
       "        root.Bokeh = Bokeh;\n",
       "      }\n",
       "    } else if (Date.now() < root._bokeh_timeout) {\n",
       "      setTimeout(run_inline_js, 100);\n",
       "    } else if (!root._bokeh_failed_load) {\n",
       "      console.log(\"Bokeh: BokehJS failed to load within specified timeout.\");\n",
       "      root._bokeh_failed_load = true;\n",
       "    }\n",
       "    root._bokeh_is_initializing = false\n",
       "  }\n",
       "\n",
       "  function load_or_wait() {\n",
       "    // Implement a backoff loop that tries to ensure we do not load multiple\n",
       "    // versions of Bokeh and its dependencies at the same time.\n",
       "    // In recent versions we use the root._bokeh_is_initializing flag\n",
       "    // to determine whether there is an ongoing attempt to initialize\n",
       "    // bokeh, however for backward compatibility we also try to ensure\n",
       "    // that we do not start loading a newer (Panel>=1.0 and Bokeh>3) version\n",
       "    // before older versions are fully initialized.\n",
       "    if (root._bokeh_is_initializing && Date.now() > root._bokeh_timeout) {\n",
       "      // If the timeout and bokeh was not successfully loaded we reset\n",
       "      // everything and try loading again\n",
       "      root._bokeh_timeout = Date.now() + 5000;\n",
       "      root._bokeh_is_initializing = false;\n",
       "      root._bokeh_onload_callbacks = undefined;\n",
       "      root._bokeh_is_loading = 0\n",
       "      console.log(\"Bokeh: BokehJS was loaded multiple times but one version failed to initialize.\");\n",
       "      load_or_wait();\n",
       "    } else if (root._bokeh_is_initializing || (typeof root._bokeh_is_initializing === \"undefined\" && root._bokeh_onload_callbacks !== undefined)) {\n",
       "      setTimeout(load_or_wait, 100);\n",
       "    } else {\n",
       "      root._bokeh_is_initializing = true\n",
       "      root._bokeh_onload_callbacks = []\n",
       "      const bokeh_loaded = root.Bokeh != null && (root.Bokeh.version === py_version || (root.Bokeh.versions !== undefined && root.Bokeh.versions.has(py_version)));\n",
       "      if (!reloading && !bokeh_loaded) {\n",
       "        if (root.Bokeh) {\n",
       "          root.Bokeh = undefined;\n",
       "        }\n",
       "        console.debug(\"Bokeh: BokehJS not loaded, scheduling load and callback at\", now());\n",
       "      }\n",
       "      load_libs(css_urls, js_urls, js_modules, js_exports, function() {\n",
       "        console.debug(\"Bokeh: BokehJS plotting callback run at\", now());\n",
       "        run_inline_js();\n",
       "      });\n",
       "    }\n",
       "  }\n",
       "  // Give older versions of the autoload script a head-start to ensure\n",
       "  // they initialize before we start loading newer version.\n",
       "  setTimeout(load_or_wait, 100)\n",
       "}(window));"
      ],
      "application/vnd.holoviews_load.v0+json": "(function(root) {\n  function now() {\n    return new Date();\n  }\n\n  const force = true;\n  const py_version = '3.6.3'.replace('rc', '-rc.').replace('.dev', '-dev.');\n  const reloading = false;\n  const Bokeh = root.Bokeh;\n\n  // Set a timeout for this load but only if we are not already initializing\n  if (typeof (root._bokeh_timeout) === \"undefined\" || (force || !root._bokeh_is_initializing)) {\n    root._bokeh_timeout = Date.now() + 5000;\n    root._bokeh_failed_load = false;\n  }\n\n  function run_callbacks() {\n    try {\n      root._bokeh_onload_callbacks.forEach(function(callback) {\n        if (callback != null)\n          callback();\n      });\n    } finally {\n      delete root._bokeh_onload_callbacks;\n    }\n    console.debug(\"Bokeh: all callbacks have finished\");\n  }\n\n  function load_libs(css_urls, js_urls, js_modules, js_exports, callback) {\n    if (css_urls == null) css_urls = [];\n    if (js_urls == null) js_urls = [];\n    if (js_modules == null) js_modules = [];\n    if (js_exports == null) js_exports = {};\n\n    root._bokeh_onload_callbacks.push(callback);\n\n    if (root._bokeh_is_loading > 0) {\n      // Don't load bokeh if it is still initializing\n      console.debug(\"Bokeh: BokehJS is being loaded, scheduling callback at\", now());\n      return null;\n    } else if (js_urls.length === 0 && js_modules.length === 0 && Object.keys(js_exports).length === 0) {\n      // There is nothing to load\n      run_callbacks();\n      return null;\n    }\n\n    function on_load() {\n      root._bokeh_is_loading--;\n      if (root._bokeh_is_loading === 0) {\n        console.debug(\"Bokeh: all BokehJS libraries/stylesheets loaded\");\n        run_callbacks()\n      }\n    }\n    window._bokeh_on_load = on_load\n\n    function on_error(e) {\n      const src_el = e.srcElement\n      console.error(\"failed to load \" + (src_el.href || src_el.src));\n    }\n\n    const skip = [];\n    if (window.requirejs) {\n      window.requirejs.config({'packages': {}, 'paths': {}, 'shim': {}});\n      root._bokeh_is_loading = css_urls.length + 0;\n    } else {\n      root._bokeh_is_loading = css_urls.length + js_urls.length + js_modules.length + Object.keys(js_exports).length;\n    }\n\n    const existing_stylesheets = []\n    const links = document.getElementsByTagName('link')\n    for (let i = 0; i < links.length; i++) {\n      const link = links[i]\n      if (link.href != null) {\n        existing_stylesheets.push(link.href)\n      }\n    }\n    for (let i = 0; i < css_urls.length; i++) {\n      const url = css_urls[i];\n      const escaped = encodeURI(url)\n      if (existing_stylesheets.indexOf(escaped) !== -1) {\n        on_load()\n        continue;\n      }\n      const element = document.createElement(\"link\");\n      element.onload = on_load;\n      element.onerror = on_error;\n      element.rel = \"stylesheet\";\n      element.type = \"text/css\";\n      element.href = url;\n      console.debug(\"Bokeh: injecting link tag for BokehJS stylesheet: \", url);\n      document.body.appendChild(element);\n    }    var existing_scripts = []\n    const scripts = document.getElementsByTagName('script')\n    for (let i = 0; i < scripts.length; i++) {\n      var script = scripts[i]\n      if (script.src != null) {\n        existing_scripts.push(script.src)\n      }\n    }\n    for (let i = 0; i < js_urls.length; i++) {\n      const url = js_urls[i];\n      const escaped = encodeURI(url)\n      if (skip.indexOf(escaped) !== -1 || existing_scripts.indexOf(escaped) !== -1) {\n        if (!window.requirejs) {\n          on_load();\n        }\n        continue;\n      }\n      const element = document.createElement('script');\n      element.onload = on_load;\n      element.onerror = on_error;\n      element.async = false;\n      element.src = url;\n      console.debug(\"Bokeh: injecting script tag for BokehJS library: \", url);\n      document.head.appendChild(element);\n    }\n    for (let i = 0; i < js_modules.length; i++) {\n      const url = js_modules[i];\n      const escaped = encodeURI(url)\n      if (skip.indexOf(escaped) !== -1 || existing_scripts.indexOf(escaped) !== -1) {\n        if (!window.requirejs) {\n          on_load();\n        }\n        continue;\n      }\n      var element = document.createElement('script');\n      element.onload = on_load;\n      element.onerror = on_error;\n      element.async = false;\n      element.src = url;\n      element.type = \"module\";\n      console.debug(\"Bokeh: injecting script tag for BokehJS library: \", url);\n      document.head.appendChild(element);\n    }\n    for (const name in js_exports) {\n      const url = js_exports[name];\n      const escaped = encodeURI(url)\n      if (skip.indexOf(escaped) >= 0 || root[name] != null) {\n        if (!window.requirejs) {\n          on_load();\n        }\n        continue;\n      }\n      var element = document.createElement('script');\n      element.onerror = on_error;\n      element.async = false;\n      element.type = \"module\";\n      console.debug(\"Bokeh: injecting script tag for BokehJS library: \", url);\n      element.textContent = `\n      import ${name} from \"${url}\"\n      window.${name} = ${name}\n      window._bokeh_on_load()\n      `\n      document.head.appendChild(element);\n    }\n    if (!js_urls.length && !js_modules.length) {\n      on_load()\n    }\n  };\n\n  function inject_raw_css(css) {\n    const element = document.createElement(\"style\");\n    element.appendChild(document.createTextNode(css));\n    document.body.appendChild(element);\n  }\n\n  const js_urls = [\"https://cdn.holoviz.org/panel/1.6.1/dist/bundled/reactiveesm/es-module-shims@^1.10.0/dist/es-module-shims.min.js\", \"https://cdn.bokeh.org/bokeh/release/bokeh-3.6.3.min.js\", \"https://cdn.bokeh.org/bokeh/release/bokeh-gl-3.6.3.min.js\", \"https://cdn.bokeh.org/bokeh/release/bokeh-widgets-3.6.3.min.js\", \"https://cdn.bokeh.org/bokeh/release/bokeh-tables-3.6.3.min.js\", \"https://cdn.holoviz.org/panel/1.6.1/dist/panel.min.js\"];\n  const js_modules = [];\n  const js_exports = {};\n  const css_urls = [];\n  const inline_js = [    function(Bokeh) {\n      Bokeh.set_log_level(\"info\");\n    },\nfunction(Bokeh) {} // ensure no trailing comma for IE\n  ];\n\n  function run_inline_js() {\n    if ((root.Bokeh !== undefined) || (force === true)) {\n      for (let i = 0; i < inline_js.length; i++) {\n        try {\n          inline_js[i].call(root, root.Bokeh);\n        } catch(e) {\n          if (!reloading) {\n            throw e;\n          }\n        }\n      }\n      // Cache old bokeh versions\n      if (Bokeh != undefined && !reloading) {\n        var NewBokeh = root.Bokeh;\n        if (Bokeh.versions === undefined) {\n          Bokeh.versions = new Map();\n        }\n        if (NewBokeh.version !== Bokeh.version) {\n          Bokeh.versions.set(NewBokeh.version, NewBokeh)\n        }\n        root.Bokeh = Bokeh;\n      }\n    } else if (Date.now() < root._bokeh_timeout) {\n      setTimeout(run_inline_js, 100);\n    } else if (!root._bokeh_failed_load) {\n      console.log(\"Bokeh: BokehJS failed to load within specified timeout.\");\n      root._bokeh_failed_load = true;\n    }\n    root._bokeh_is_initializing = false\n  }\n\n  function load_or_wait() {\n    // Implement a backoff loop that tries to ensure we do not load multiple\n    // versions of Bokeh and its dependencies at the same time.\n    // In recent versions we use the root._bokeh_is_initializing flag\n    // to determine whether there is an ongoing attempt to initialize\n    // bokeh, however for backward compatibility we also try to ensure\n    // that we do not start loading a newer (Panel>=1.0 and Bokeh>3) version\n    // before older versions are fully initialized.\n    if (root._bokeh_is_initializing && Date.now() > root._bokeh_timeout) {\n      // If the timeout and bokeh was not successfully loaded we reset\n      // everything and try loading again\n      root._bokeh_timeout = Date.now() + 5000;\n      root._bokeh_is_initializing = false;\n      root._bokeh_onload_callbacks = undefined;\n      root._bokeh_is_loading = 0\n      console.log(\"Bokeh: BokehJS was loaded multiple times but one version failed to initialize.\");\n      load_or_wait();\n    } else if (root._bokeh_is_initializing || (typeof root._bokeh_is_initializing === \"undefined\" && root._bokeh_onload_callbacks !== undefined)) {\n      setTimeout(load_or_wait, 100);\n    } else {\n      root._bokeh_is_initializing = true\n      root._bokeh_onload_callbacks = []\n      const bokeh_loaded = root.Bokeh != null && (root.Bokeh.version === py_version || (root.Bokeh.versions !== undefined && root.Bokeh.versions.has(py_version)));\n      if (!reloading && !bokeh_loaded) {\n        if (root.Bokeh) {\n          root.Bokeh = undefined;\n        }\n        console.debug(\"Bokeh: BokehJS not loaded, scheduling load and callback at\", now());\n      }\n      load_libs(css_urls, js_urls, js_modules, js_exports, function() {\n        console.debug(\"Bokeh: BokehJS plotting callback run at\", now());\n        run_inline_js();\n      });\n    }\n  }\n  // Give older versions of the autoload script a head-start to ensure\n  // they initialize before we start loading newer version.\n  setTimeout(load_or_wait, 100)\n}(window));"
     },
     "metadata": {},
     "output_type": "display_data"
    },
    {
     "data": {
      "application/javascript": [
       "\n",
       "if ((window.PyViz === undefined) || (window.PyViz instanceof HTMLElement)) {\n",
       "  window.PyViz = {comms: {}, comm_status:{}, kernels:{}, receivers: {}, plot_index: []}\n",
       "}\n",
       "\n",
       "\n",
       "    function JupyterCommManager() {\n",
       "    }\n",
       "\n",
       "    JupyterCommManager.prototype.register_target = function(plot_id, comm_id, msg_handler) {\n",
       "      if (window.comm_manager || ((window.Jupyter !== undefined) && (Jupyter.notebook.kernel != null))) {\n",
       "        var comm_manager = window.comm_manager || Jupyter.notebook.kernel.comm_manager;\n",
       "        comm_manager.register_target(comm_id, function(comm) {\n",
       "          comm.on_msg(msg_handler);\n",
       "        });\n",
       "      } else if ((plot_id in window.PyViz.kernels) && (window.PyViz.kernels[plot_id])) {\n",
       "        window.PyViz.kernels[plot_id].registerCommTarget(comm_id, function(comm) {\n",
       "          comm.onMsg = msg_handler;\n",
       "        });\n",
       "      } else if (typeof google != 'undefined' && google.colab.kernel != null) {\n",
       "        google.colab.kernel.comms.registerTarget(comm_id, (comm) => {\n",
       "          var messages = comm.messages[Symbol.asyncIterator]();\n",
       "          function processIteratorResult(result) {\n",
       "            var message = result.value;\n",
       "            console.log(message)\n",
       "            var content = {data: message.data, comm_id};\n",
       "            var buffers = []\n",
       "            for (var buffer of message.buffers || []) {\n",
       "              buffers.push(new DataView(buffer))\n",
       "            }\n",
       "            var metadata = message.metadata || {};\n",
       "            var msg = {content, buffers, metadata}\n",
       "            msg_handler(msg);\n",
       "            return messages.next().then(processIteratorResult);\n",
       "          }\n",
       "          return messages.next().then(processIteratorResult);\n",
       "        })\n",
       "      }\n",
       "    }\n",
       "\n",
       "    JupyterCommManager.prototype.get_client_comm = function(plot_id, comm_id, msg_handler) {\n",
       "      if (comm_id in window.PyViz.comms) {\n",
       "        return window.PyViz.comms[comm_id];\n",
       "      } else if (window.comm_manager || ((window.Jupyter !== undefined) && (Jupyter.notebook.kernel != null))) {\n",
       "        var comm_manager = window.comm_manager || Jupyter.notebook.kernel.comm_manager;\n",
       "        var comm = comm_manager.new_comm(comm_id, {}, {}, {}, comm_id);\n",
       "        if (msg_handler) {\n",
       "          comm.on_msg(msg_handler);\n",
       "        }\n",
       "      } else if ((plot_id in window.PyViz.kernels) && (window.PyViz.kernels[plot_id])) {\n",
       "        var comm = window.PyViz.kernels[plot_id].connectToComm(comm_id);\n",
       "        comm.open();\n",
       "        if (msg_handler) {\n",
       "          comm.onMsg = msg_handler;\n",
       "        }\n",
       "      } else if (typeof google != 'undefined' && google.colab.kernel != null) {\n",
       "        var comm_promise = google.colab.kernel.comms.open(comm_id)\n",
       "        comm_promise.then((comm) => {\n",
       "          window.PyViz.comms[comm_id] = comm;\n",
       "          if (msg_handler) {\n",
       "            var messages = comm.messages[Symbol.asyncIterator]();\n",
       "            function processIteratorResult(result) {\n",
       "              var message = result.value;\n",
       "              var content = {data: message.data};\n",
       "              var metadata = message.metadata || {comm_id};\n",
       "              var msg = {content, metadata}\n",
       "              msg_handler(msg);\n",
       "              return messages.next().then(processIteratorResult);\n",
       "            }\n",
       "            return messages.next().then(processIteratorResult);\n",
       "          }\n",
       "        })\n",
       "        var sendClosure = (data, metadata, buffers, disposeOnDone) => {\n",
       "          return comm_promise.then((comm) => {\n",
       "            comm.send(data, metadata, buffers, disposeOnDone);\n",
       "          });\n",
       "        };\n",
       "        var comm = {\n",
       "          send: sendClosure\n",
       "        };\n",
       "      }\n",
       "      window.PyViz.comms[comm_id] = comm;\n",
       "      return comm;\n",
       "    }\n",
       "    window.PyViz.comm_manager = new JupyterCommManager();\n",
       "    \n",
       "\n",
       "\n",
       "var JS_MIME_TYPE = 'application/javascript';\n",
       "var HTML_MIME_TYPE = 'text/html';\n",
       "var EXEC_MIME_TYPE = 'application/vnd.holoviews_exec.v0+json';\n",
       "var CLASS_NAME = 'output';\n",
       "\n",
       "/**\n",
       " * Render data to the DOM node\n",
       " */\n",
       "function render(props, node) {\n",
       "  var div = document.createElement(\"div\");\n",
       "  var script = document.createElement(\"script\");\n",
       "  node.appendChild(div);\n",
       "  node.appendChild(script);\n",
       "}\n",
       "\n",
       "/**\n",
       " * Handle when a new output is added\n",
       " */\n",
       "function handle_add_output(event, handle) {\n",
       "  var output_area = handle.output_area;\n",
       "  var output = handle.output;\n",
       "  if ((output.data == undefined) || (!output.data.hasOwnProperty(EXEC_MIME_TYPE))) {\n",
       "    return\n",
       "  }\n",
       "  var id = output.metadata[EXEC_MIME_TYPE][\"id\"];\n",
       "  var toinsert = output_area.element.find(\".\" + CLASS_NAME.split(' ')[0]);\n",
       "  if (id !== undefined) {\n",
       "    var nchildren = toinsert.length;\n",
       "    var html_node = toinsert[nchildren-1].children[0];\n",
       "    html_node.innerHTML = output.data[HTML_MIME_TYPE];\n",
       "    var scripts = [];\n",
       "    var nodelist = html_node.querySelectorAll(\"script\");\n",
       "    for (var i in nodelist) {\n",
       "      if (nodelist.hasOwnProperty(i)) {\n",
       "        scripts.push(nodelist[i])\n",
       "      }\n",
       "    }\n",
       "\n",
       "    scripts.forEach( function (oldScript) {\n",
       "      var newScript = document.createElement(\"script\");\n",
       "      var attrs = [];\n",
       "      var nodemap = oldScript.attributes;\n",
       "      for (var j in nodemap) {\n",
       "        if (nodemap.hasOwnProperty(j)) {\n",
       "          attrs.push(nodemap[j])\n",
       "        }\n",
       "      }\n",
       "      attrs.forEach(function(attr) { newScript.setAttribute(attr.name, attr.value) });\n",
       "      newScript.appendChild(document.createTextNode(oldScript.innerHTML));\n",
       "      oldScript.parentNode.replaceChild(newScript, oldScript);\n",
       "    });\n",
       "    if (JS_MIME_TYPE in output.data) {\n",
       "      toinsert[nchildren-1].children[1].textContent = output.data[JS_MIME_TYPE];\n",
       "    }\n",
       "    output_area._hv_plot_id = id;\n",
       "    if ((window.Bokeh !== undefined) && (id in Bokeh.index)) {\n",
       "      window.PyViz.plot_index[id] = Bokeh.index[id];\n",
       "    } else {\n",
       "      window.PyViz.plot_index[id] = null;\n",
       "    }\n",
       "  } else if (output.metadata[EXEC_MIME_TYPE][\"server_id\"] !== undefined) {\n",
       "    var bk_div = document.createElement(\"div\");\n",
       "    bk_div.innerHTML = output.data[HTML_MIME_TYPE];\n",
       "    var script_attrs = bk_div.children[0].attributes;\n",
       "    for (var i = 0; i < script_attrs.length; i++) {\n",
       "      toinsert[toinsert.length - 1].childNodes[1].setAttribute(script_attrs[i].name, script_attrs[i].value);\n",
       "    }\n",
       "    // store reference to server id on output_area\n",
       "    output_area._bokeh_server_id = output.metadata[EXEC_MIME_TYPE][\"server_id\"];\n",
       "  }\n",
       "}\n",
       "\n",
       "/**\n",
       " * Handle when an output is cleared or removed\n",
       " */\n",
       "function handle_clear_output(event, handle) {\n",
       "  var id = handle.cell.output_area._hv_plot_id;\n",
       "  var server_id = handle.cell.output_area._bokeh_server_id;\n",
       "  if (((id === undefined) || !(id in PyViz.plot_index)) && (server_id !== undefined)) { return; }\n",
       "  var comm = window.PyViz.comm_manager.get_client_comm(\"hv-extension-comm\", \"hv-extension-comm\", function () {});\n",
       "  if (server_id !== null) {\n",
       "    comm.send({event_type: 'server_delete', 'id': server_id});\n",
       "    return;\n",
       "  } else if (comm !== null) {\n",
       "    comm.send({event_type: 'delete', 'id': id});\n",
       "  }\n",
       "  delete PyViz.plot_index[id];\n",
       "  if ((window.Bokeh !== undefined) & (id in window.Bokeh.index)) {\n",
       "    var doc = window.Bokeh.index[id].model.document\n",
       "    doc.clear();\n",
       "    const i = window.Bokeh.documents.indexOf(doc);\n",
       "    if (i > -1) {\n",
       "      window.Bokeh.documents.splice(i, 1);\n",
       "    }\n",
       "  }\n",
       "}\n",
       "\n",
       "/**\n",
       " * Handle kernel restart event\n",
       " */\n",
       "function handle_kernel_cleanup(event, handle) {\n",
       "  delete PyViz.comms[\"hv-extension-comm\"];\n",
       "  window.PyViz.plot_index = {}\n",
       "}\n",
       "\n",
       "/**\n",
       " * Handle update_display_data messages\n",
       " */\n",
       "function handle_update_output(event, handle) {\n",
       "  handle_clear_output(event, {cell: {output_area: handle.output_area}})\n",
       "  handle_add_output(event, handle)\n",
       "}\n",
       "\n",
       "function register_renderer(events, OutputArea) {\n",
       "  function append_mime(data, metadata, element) {\n",
       "    // create a DOM node to render to\n",
       "    var toinsert = this.create_output_subarea(\n",
       "    metadata,\n",
       "    CLASS_NAME,\n",
       "    EXEC_MIME_TYPE\n",
       "    );\n",
       "    this.keyboard_manager.register_events(toinsert);\n",
       "    // Render to node\n",
       "    var props = {data: data, metadata: metadata[EXEC_MIME_TYPE]};\n",
       "    render(props, toinsert[0]);\n",
       "    element.append(toinsert);\n",
       "    return toinsert\n",
       "  }\n",
       "\n",
       "  events.on('output_added.OutputArea', handle_add_output);\n",
       "  events.on('output_updated.OutputArea', handle_update_output);\n",
       "  events.on('clear_output.CodeCell', handle_clear_output);\n",
       "  events.on('delete.Cell', handle_clear_output);\n",
       "  events.on('kernel_ready.Kernel', handle_kernel_cleanup);\n",
       "\n",
       "  OutputArea.prototype.register_mime_type(EXEC_MIME_TYPE, append_mime, {\n",
       "    safe: true,\n",
       "    index: 0\n",
       "  });\n",
       "}\n",
       "\n",
       "if (window.Jupyter !== undefined) {\n",
       "  try {\n",
       "    var events = require('base/js/events');\n",
       "    var OutputArea = require('notebook/js/outputarea').OutputArea;\n",
       "    if (OutputArea.prototype.mime_types().indexOf(EXEC_MIME_TYPE) == -1) {\n",
       "      register_renderer(events, OutputArea);\n",
       "    }\n",
       "  } catch(err) {\n",
       "  }\n",
       "}\n"
      ],
      "application/vnd.holoviews_load.v0+json": "\nif ((window.PyViz === undefined) || (window.PyViz instanceof HTMLElement)) {\n  window.PyViz = {comms: {}, comm_status:{}, kernels:{}, receivers: {}, plot_index: []}\n}\n\n\n    function JupyterCommManager() {\n    }\n\n    JupyterCommManager.prototype.register_target = function(plot_id, comm_id, msg_handler) {\n      if (window.comm_manager || ((window.Jupyter !== undefined) && (Jupyter.notebook.kernel != null))) {\n        var comm_manager = window.comm_manager || Jupyter.notebook.kernel.comm_manager;\n        comm_manager.register_target(comm_id, function(comm) {\n          comm.on_msg(msg_handler);\n        });\n      } else if ((plot_id in window.PyViz.kernels) && (window.PyViz.kernels[plot_id])) {\n        window.PyViz.kernels[plot_id].registerCommTarget(comm_id, function(comm) {\n          comm.onMsg = msg_handler;\n        });\n      } else if (typeof google != 'undefined' && google.colab.kernel != null) {\n        google.colab.kernel.comms.registerTarget(comm_id, (comm) => {\n          var messages = comm.messages[Symbol.asyncIterator]();\n          function processIteratorResult(result) {\n            var message = result.value;\n            console.log(message)\n            var content = {data: message.data, comm_id};\n            var buffers = []\n            for (var buffer of message.buffers || []) {\n              buffers.push(new DataView(buffer))\n            }\n            var metadata = message.metadata || {};\n            var msg = {content, buffers, metadata}\n            msg_handler(msg);\n            return messages.next().then(processIteratorResult);\n          }\n          return messages.next().then(processIteratorResult);\n        })\n      }\n    }\n\n    JupyterCommManager.prototype.get_client_comm = function(plot_id, comm_id, msg_handler) {\n      if (comm_id in window.PyViz.comms) {\n        return window.PyViz.comms[comm_id];\n      } else if (window.comm_manager || ((window.Jupyter !== undefined) && (Jupyter.notebook.kernel != null))) {\n        var comm_manager = window.comm_manager || Jupyter.notebook.kernel.comm_manager;\n        var comm = comm_manager.new_comm(comm_id, {}, {}, {}, comm_id);\n        if (msg_handler) {\n          comm.on_msg(msg_handler);\n        }\n      } else if ((plot_id in window.PyViz.kernels) && (window.PyViz.kernels[plot_id])) {\n        var comm = window.PyViz.kernels[plot_id].connectToComm(comm_id);\n        comm.open();\n        if (msg_handler) {\n          comm.onMsg = msg_handler;\n        }\n      } else if (typeof google != 'undefined' && google.colab.kernel != null) {\n        var comm_promise = google.colab.kernel.comms.open(comm_id)\n        comm_promise.then((comm) => {\n          window.PyViz.comms[comm_id] = comm;\n          if (msg_handler) {\n            var messages = comm.messages[Symbol.asyncIterator]();\n            function processIteratorResult(result) {\n              var message = result.value;\n              var content = {data: message.data};\n              var metadata = message.metadata || {comm_id};\n              var msg = {content, metadata}\n              msg_handler(msg);\n              return messages.next().then(processIteratorResult);\n            }\n            return messages.next().then(processIteratorResult);\n          }\n        })\n        var sendClosure = (data, metadata, buffers, disposeOnDone) => {\n          return comm_promise.then((comm) => {\n            comm.send(data, metadata, buffers, disposeOnDone);\n          });\n        };\n        var comm = {\n          send: sendClosure\n        };\n      }\n      window.PyViz.comms[comm_id] = comm;\n      return comm;\n    }\n    window.PyViz.comm_manager = new JupyterCommManager();\n    \n\n\nvar JS_MIME_TYPE = 'application/javascript';\nvar HTML_MIME_TYPE = 'text/html';\nvar EXEC_MIME_TYPE = 'application/vnd.holoviews_exec.v0+json';\nvar CLASS_NAME = 'output';\n\n/**\n * Render data to the DOM node\n */\nfunction render(props, node) {\n  var div = document.createElement(\"div\");\n  var script = document.createElement(\"script\");\n  node.appendChild(div);\n  node.appendChild(script);\n}\n\n/**\n * Handle when a new output is added\n */\nfunction handle_add_output(event, handle) {\n  var output_area = handle.output_area;\n  var output = handle.output;\n  if ((output.data == undefined) || (!output.data.hasOwnProperty(EXEC_MIME_TYPE))) {\n    return\n  }\n  var id = output.metadata[EXEC_MIME_TYPE][\"id\"];\n  var toinsert = output_area.element.find(\".\" + CLASS_NAME.split(' ')[0]);\n  if (id !== undefined) {\n    var nchildren = toinsert.length;\n    var html_node = toinsert[nchildren-1].children[0];\n    html_node.innerHTML = output.data[HTML_MIME_TYPE];\n    var scripts = [];\n    var nodelist = html_node.querySelectorAll(\"script\");\n    for (var i in nodelist) {\n      if (nodelist.hasOwnProperty(i)) {\n        scripts.push(nodelist[i])\n      }\n    }\n\n    scripts.forEach( function (oldScript) {\n      var newScript = document.createElement(\"script\");\n      var attrs = [];\n      var nodemap = oldScript.attributes;\n      for (var j in nodemap) {\n        if (nodemap.hasOwnProperty(j)) {\n          attrs.push(nodemap[j])\n        }\n      }\n      attrs.forEach(function(attr) { newScript.setAttribute(attr.name, attr.value) });\n      newScript.appendChild(document.createTextNode(oldScript.innerHTML));\n      oldScript.parentNode.replaceChild(newScript, oldScript);\n    });\n    if (JS_MIME_TYPE in output.data) {\n      toinsert[nchildren-1].children[1].textContent = output.data[JS_MIME_TYPE];\n    }\n    output_area._hv_plot_id = id;\n    if ((window.Bokeh !== undefined) && (id in Bokeh.index)) {\n      window.PyViz.plot_index[id] = Bokeh.index[id];\n    } else {\n      window.PyViz.plot_index[id] = null;\n    }\n  } else if (output.metadata[EXEC_MIME_TYPE][\"server_id\"] !== undefined) {\n    var bk_div = document.createElement(\"div\");\n    bk_div.innerHTML = output.data[HTML_MIME_TYPE];\n    var script_attrs = bk_div.children[0].attributes;\n    for (var i = 0; i < script_attrs.length; i++) {\n      toinsert[toinsert.length - 1].childNodes[1].setAttribute(script_attrs[i].name, script_attrs[i].value);\n    }\n    // store reference to server id on output_area\n    output_area._bokeh_server_id = output.metadata[EXEC_MIME_TYPE][\"server_id\"];\n  }\n}\n\n/**\n * Handle when an output is cleared or removed\n */\nfunction handle_clear_output(event, handle) {\n  var id = handle.cell.output_area._hv_plot_id;\n  var server_id = handle.cell.output_area._bokeh_server_id;\n  if (((id === undefined) || !(id in PyViz.plot_index)) && (server_id !== undefined)) { return; }\n  var comm = window.PyViz.comm_manager.get_client_comm(\"hv-extension-comm\", \"hv-extension-comm\", function () {});\n  if (server_id !== null) {\n    comm.send({event_type: 'server_delete', 'id': server_id});\n    return;\n  } else if (comm !== null) {\n    comm.send({event_type: 'delete', 'id': id});\n  }\n  delete PyViz.plot_index[id];\n  if ((window.Bokeh !== undefined) & (id in window.Bokeh.index)) {\n    var doc = window.Bokeh.index[id].model.document\n    doc.clear();\n    const i = window.Bokeh.documents.indexOf(doc);\n    if (i > -1) {\n      window.Bokeh.documents.splice(i, 1);\n    }\n  }\n}\n\n/**\n * Handle kernel restart event\n */\nfunction handle_kernel_cleanup(event, handle) {\n  delete PyViz.comms[\"hv-extension-comm\"];\n  window.PyViz.plot_index = {}\n}\n\n/**\n * Handle update_display_data messages\n */\nfunction handle_update_output(event, handle) {\n  handle_clear_output(event, {cell: {output_area: handle.output_area}})\n  handle_add_output(event, handle)\n}\n\nfunction register_renderer(events, OutputArea) {\n  function append_mime(data, metadata, element) {\n    // create a DOM node to render to\n    var toinsert = this.create_output_subarea(\n    metadata,\n    CLASS_NAME,\n    EXEC_MIME_TYPE\n    );\n    this.keyboard_manager.register_events(toinsert);\n    // Render to node\n    var props = {data: data, metadata: metadata[EXEC_MIME_TYPE]};\n    render(props, toinsert[0]);\n    element.append(toinsert);\n    return toinsert\n  }\n\n  events.on('output_added.OutputArea', handle_add_output);\n  events.on('output_updated.OutputArea', handle_update_output);\n  events.on('clear_output.CodeCell', handle_clear_output);\n  events.on('delete.Cell', handle_clear_output);\n  events.on('kernel_ready.Kernel', handle_kernel_cleanup);\n\n  OutputArea.prototype.register_mime_type(EXEC_MIME_TYPE, append_mime, {\n    safe: true,\n    index: 0\n  });\n}\n\nif (window.Jupyter !== undefined) {\n  try {\n    var events = require('base/js/events');\n    var OutputArea = require('notebook/js/outputarea').OutputArea;\n    if (OutputArea.prototype.mime_types().indexOf(EXEC_MIME_TYPE) == -1) {\n      register_renderer(events, OutputArea);\n    }\n  } catch(err) {\n  }\n}\n"
     },
     "metadata": {},
     "output_type": "display_data"
    },
    {
     "data": {
      "application/vnd.holoviews_exec.v0+json": "",
      "text/html": [
       "<div id='40ca8b66-6282-4f40-9d7a-24245e0b3bf8'>\n",
       "  <div id=\"e1514ed9-daa7-439a-b787-ccc31a98e400\" data-root-id=\"40ca8b66-6282-4f40-9d7a-24245e0b3bf8\" style=\"display: contents;\"></div>\n",
       "</div>\n",
       "<script type=\"application/javascript\">(function(root) {\n",
       "  var docs_json = {\"fe07c642-3457-4c5a-86d7-89b38e80423a\":{\"version\":\"3.6.3\",\"title\":\"Bokeh Application\",\"roots\":[{\"type\":\"object\",\"name\":\"panel.models.browser.BrowserInfo\",\"id\":\"40ca8b66-6282-4f40-9d7a-24245e0b3bf8\"},{\"type\":\"object\",\"name\":\"panel.models.comm_manager.CommManager\",\"id\":\"94d1d686-7f88-4921-bbe3-cce71565bc88\",\"attributes\":{\"plot_id\":\"40ca8b66-6282-4f40-9d7a-24245e0b3bf8\",\"comm_id\":\"af99bed7d3304cdab3117f2854701ae6\",\"client_comm_id\":\"0bc552a32ada43da901fcacbb4026d7c\"}}],\"defs\":[{\"type\":\"model\",\"name\":\"ReactiveHTML1\"},{\"type\":\"model\",\"name\":\"FlexBox1\",\"properties\":[{\"name\":\"align_content\",\"kind\":\"Any\",\"default\":\"flex-start\"},{\"name\":\"align_items\",\"kind\":\"Any\",\"default\":\"flex-start\"},{\"name\":\"flex_direction\",\"kind\":\"Any\",\"default\":\"row\"},{\"name\":\"flex_wrap\",\"kind\":\"Any\",\"default\":\"wrap\"},{\"name\":\"gap\",\"kind\":\"Any\",\"default\":\"\"},{\"name\":\"justify_content\",\"kind\":\"Any\",\"default\":\"flex-start\"}]},{\"type\":\"model\",\"name\":\"FloatPanel1\",\"properties\":[{\"name\":\"config\",\"kind\":\"Any\",\"default\":{\"type\":\"map\"}},{\"name\":\"contained\",\"kind\":\"Any\",\"default\":true},{\"name\":\"position\",\"kind\":\"Any\",\"default\":\"right-top\"},{\"name\":\"offsetx\",\"kind\":\"Any\",\"default\":null},{\"name\":\"offsety\",\"kind\":\"Any\",\"default\":null},{\"name\":\"theme\",\"kind\":\"Any\",\"default\":\"primary\"},{\"name\":\"status\",\"kind\":\"Any\",\"default\":\"normalized\"}]},{\"type\":\"model\",\"name\":\"GridStack1\",\"properties\":[{\"name\":\"mode\",\"kind\":\"Any\",\"default\":\"warn\"},{\"name\":\"ncols\",\"kind\":\"Any\",\"default\":null},{\"name\":\"nrows\",\"kind\":\"Any\",\"default\":null},{\"name\":\"allow_resize\",\"kind\":\"Any\",\"default\":true},{\"name\":\"allow_drag\",\"kind\":\"Any\",\"default\":true},{\"name\":\"state\",\"kind\":\"Any\",\"default\":[]}]},{\"type\":\"model\",\"name\":\"drag1\",\"properties\":[{\"name\":\"slider_width\",\"kind\":\"Any\",\"default\":5},{\"name\":\"slider_color\",\"kind\":\"Any\",\"default\":\"black\"},{\"name\":\"value\",\"kind\":\"Any\",\"default\":50}]},{\"type\":\"model\",\"name\":\"click1\",\"properties\":[{\"name\":\"terminal_output\",\"kind\":\"Any\",\"default\":\"\"},{\"name\":\"debug_name\",\"kind\":\"Any\",\"default\":\"\"},{\"name\":\"clears\",\"kind\":\"Any\",\"default\":0}]},{\"type\":\"model\",\"name\":\"FastWrapper1\",\"properties\":[{\"name\":\"object\",\"kind\":\"Any\",\"default\":null},{\"name\":\"style\",\"kind\":\"Any\",\"default\":null}]},{\"type\":\"model\",\"name\":\"NotificationAreaBase1\",\"properties\":[{\"name\":\"js_events\",\"kind\":\"Any\",\"default\":{\"type\":\"map\"}},{\"name\":\"position\",\"kind\":\"Any\",\"default\":\"bottom-right\"},{\"name\":\"_clear\",\"kind\":\"Any\",\"default\":0}]},{\"type\":\"model\",\"name\":\"NotificationArea1\",\"properties\":[{\"name\":\"js_events\",\"kind\":\"Any\",\"default\":{\"type\":\"map\"}},{\"name\":\"notifications\",\"kind\":\"Any\",\"default\":[]},{\"name\":\"position\",\"kind\":\"Any\",\"default\":\"bottom-right\"},{\"name\":\"_clear\",\"kind\":\"Any\",\"default\":0},{\"name\":\"types\",\"kind\":\"Any\",\"default\":[{\"type\":\"map\",\"entries\":[[\"type\",\"warning\"],[\"background\",\"#ffc107\"],[\"icon\",{\"type\":\"map\",\"entries\":[[\"className\",\"fas fa-exclamation-triangle\"],[\"tagName\",\"i\"],[\"color\",\"white\"]]}]]},{\"type\":\"map\",\"entries\":[[\"type\",\"info\"],[\"background\",\"#007bff\"],[\"icon\",{\"type\":\"map\",\"entries\":[[\"className\",\"fas fa-info-circle\"],[\"tagName\",\"i\"],[\"color\",\"white\"]]}]]}]}]},{\"type\":\"model\",\"name\":\"Notification\",\"properties\":[{\"name\":\"background\",\"kind\":\"Any\",\"default\":null},{\"name\":\"duration\",\"kind\":\"Any\",\"default\":3000},{\"name\":\"icon\",\"kind\":\"Any\",\"default\":null},{\"name\":\"message\",\"kind\":\"Any\",\"default\":\"\"},{\"name\":\"notification_type\",\"kind\":\"Any\",\"default\":null},{\"name\":\"_rendered\",\"kind\":\"Any\",\"default\":false},{\"name\":\"_destroyed\",\"kind\":\"Any\",\"default\":false}]},{\"type\":\"model\",\"name\":\"TemplateActions1\",\"properties\":[{\"name\":\"open_modal\",\"kind\":\"Any\",\"default\":0},{\"name\":\"close_modal\",\"kind\":\"Any\",\"default\":0}]},{\"type\":\"model\",\"name\":\"BootstrapTemplateActions1\",\"properties\":[{\"name\":\"open_modal\",\"kind\":\"Any\",\"default\":0},{\"name\":\"close_modal\",\"kind\":\"Any\",\"default\":0}]},{\"type\":\"model\",\"name\":\"TemplateEditor1\",\"properties\":[{\"name\":\"layout\",\"kind\":\"Any\",\"default\":[]}]},{\"type\":\"model\",\"name\":\"MaterialTemplateActions1\",\"properties\":[{\"name\":\"open_modal\",\"kind\":\"Any\",\"default\":0},{\"name\":\"close_modal\",\"kind\":\"Any\",\"default\":0}]},{\"type\":\"model\",\"name\":\"ReactiveESM1\",\"properties\":[{\"name\":\"esm_constants\",\"kind\":\"Any\",\"default\":{\"type\":\"map\"}}]},{\"type\":\"model\",\"name\":\"JSComponent1\",\"properties\":[{\"name\":\"esm_constants\",\"kind\":\"Any\",\"default\":{\"type\":\"map\"}}]},{\"type\":\"model\",\"name\":\"ReactComponent1\",\"properties\":[{\"name\":\"esm_constants\",\"kind\":\"Any\",\"default\":{\"type\":\"map\"}}]},{\"type\":\"model\",\"name\":\"AnyWidgetComponent1\",\"properties\":[{\"name\":\"esm_constants\",\"kind\":\"Any\",\"default\":{\"type\":\"map\"}}]},{\"type\":\"model\",\"name\":\"request_value1\",\"properties\":[{\"name\":\"fill\",\"kind\":\"Any\",\"default\":\"none\"},{\"name\":\"_synced\",\"kind\":\"Any\",\"default\":null},{\"name\":\"_request_sync\",\"kind\":\"Any\",\"default\":0}]}]}};\n",
       "  var render_items = [{\"docid\":\"fe07c642-3457-4c5a-86d7-89b38e80423a\",\"roots\":{\"40ca8b66-6282-4f40-9d7a-24245e0b3bf8\":\"e1514ed9-daa7-439a-b787-ccc31a98e400\"},\"root_ids\":[\"40ca8b66-6282-4f40-9d7a-24245e0b3bf8\"]}];\n",
       "  var docs = Object.values(docs_json)\n",
       "  if (!docs) {\n",
       "    return\n",
       "  }\n",
       "  const py_version = docs[0].version.replace('rc', '-rc.').replace('.dev', '-dev.')\n",
       "  async function embed_document(root) {\n",
       "    var Bokeh = get_bokeh(root)\n",
       "    await Bokeh.embed.embed_items_notebook(docs_json, render_items);\n",
       "    for (const render_item of render_items) {\n",
       "      for (const root_id of render_item.root_ids) {\n",
       "\tconst id_el = document.getElementById(root_id)\n",
       "\tif (id_el.children.length && id_el.children[0].hasAttribute('data-root-id')) {\n",
       "\t  const root_el = id_el.children[0]\n",
       "\t  root_el.id = root_el.id + '-rendered'\n",
       "\t  for (const child of root_el.children) {\n",
       "            // Ensure JupyterLab does not capture keyboard shortcuts\n",
       "            // see: https://jupyterlab.readthedocs.io/en/4.1.x/extension/notebook.html#keyboard-interaction-model\n",
       "\t    child.setAttribute('data-lm-suppress-shortcuts', 'true')\n",
       "\t  }\n",
       "\t}\n",
       "      }\n",
       "    }\n",
       "  }\n",
       "  function get_bokeh(root) {\n",
       "    if (root.Bokeh === undefined) {\n",
       "      return null\n",
       "    } else if (root.Bokeh.version !== py_version) {\n",
       "      if (root.Bokeh.versions === undefined || !root.Bokeh.versions.has(py_version)) {\n",
       "\treturn null\n",
       "      }\n",
       "      return root.Bokeh.versions.get(py_version);\n",
       "    } else if (root.Bokeh.version === py_version) {\n",
       "      return root.Bokeh\n",
       "    }\n",
       "    return null\n",
       "  }\n",
       "  function is_loaded(root) {\n",
       "    var Bokeh = get_bokeh(root)\n",
       "    return (Bokeh != null && Bokeh.Panel !== undefined)\n",
       "  }\n",
       "  if (is_loaded(root)) {\n",
       "    embed_document(root);\n",
       "  } else {\n",
       "    var attempts = 0;\n",
       "    var timer = setInterval(function(root) {\n",
       "      if (is_loaded(root)) {\n",
       "        clearInterval(timer);\n",
       "        embed_document(root);\n",
       "      } else if (document.readyState == \"complete\") {\n",
       "        attempts++;\n",
       "        if (attempts > 200) {\n",
       "          clearInterval(timer);\n",
       "\t  var Bokeh = get_bokeh(root)\n",
       "\t  if (Bokeh == null || Bokeh.Panel == null) {\n",
       "            console.warn(\"Panel: ERROR: Unable to run Panel code because Bokeh or Panel library is missing\");\n",
       "\t  } else {\n",
       "\t    console.warn(\"Panel: WARNING: Attempting to render but not all required libraries could be resolved.\")\n",
       "\t    embed_document(root)\n",
       "\t  }\n",
       "        }\n",
       "      }\n",
       "    }, 25, root)\n",
       "  }\n",
       "})(window);</script>"
      ]
     },
     "metadata": {
      "application/vnd.holoviews_exec.v0+json": {
       "id": "40ca8b66-6282-4f40-9d7a-24245e0b3bf8"
      }
     },
     "output_type": "display_data"
    },
    {
     "name": "stdout",
     "output_type": "stream",
     "text": [
      "[0, 1, 2, 3]\n",
      "['width', 'offset']\n",
      "(43.5, -48)\n"
     ]
    },
    {
     "data": {},
     "metadata": {},
     "output_type": "display_data"
    },
    {
     "data": {
      "application/vnd.holoviews_exec.v0+json": "",
      "text/html": [
       "<div id='9115bddb-a802-4d46-9f7e-b61945a308c3'>\n",
       "  <div id=\"f754bd70-4b6c-45b5-8310-4f86d56cbd5c\" data-root-id=\"9115bddb-a802-4d46-9f7e-b61945a308c3\" style=\"display: contents;\"></div>\n",
       "</div>\n",
       "<script type=\"application/javascript\">(function(root) {\n",
       "  var docs_json = {\"d07ae64d-fdd1-4c1a-8fa0-7d14561952b6\":{\"version\":\"3.6.3\",\"title\":\"Bokeh Application\",\"roots\":[{\"type\":\"object\",\"name\":\"Row\",\"id\":\"9115bddb-a802-4d46-9f7e-b61945a308c3\",\"attributes\":{\"name\":\"Row48732\",\"tags\":[\"embedded\"],\"stylesheets\":[\"\\n:host(.pn-loading):before, .pn-loading:before {\\n  background-color: #c3c3c3;\\n  mask-size: auto calc(min(50%, 400px));\\n  -webkit-mask-size: auto calc(min(50%, 400px));\\n}\",{\"type\":\"object\",\"name\":\"ImportedStyleSheet\",\"id\":\"6b183775-ead7-4cb0-8f3d-029bd7aece4f\",\"attributes\":{\"url\":\"https://cdn.holoviz.org/panel/1.6.1/dist/css/loading.css\"}},{\"type\":\"object\",\"name\":\"ImportedStyleSheet\",\"id\":\"96cca3dd-5b0c-4b8e-88f7-90f7e8e8cb8d\",\"attributes\":{\"url\":\"https://cdn.holoviz.org/panel/1.6.1/dist/css/listpanel.css\"}},{\"type\":\"object\",\"name\":\"ImportedStyleSheet\",\"id\":\"b213256a-25dd-41af-b909-aae66bebdc5b\",\"attributes\":{\"url\":\"https://cdn.holoviz.org/panel/1.6.1/dist/bundled/theme/default.css\"}},{\"type\":\"object\",\"name\":\"ImportedStyleSheet\",\"id\":\"6c416232-d562-4277-9afc-4664fe710452\",\"attributes\":{\"url\":\"https://cdn.holoviz.org/panel/1.6.1/dist/bundled/theme/native.css\"}}],\"min_width\":800,\"margin\":0,\"sizing_mode\":\"stretch_width\",\"align\":\"start\",\"children\":[{\"type\":\"object\",\"name\":\"Spacer\",\"id\":\"be66c096-af5b-42ed-b482-c79ddcbfb87c\",\"attributes\":{\"name\":\"HSpacer48736\",\"stylesheets\":[\"\\n:host(.pn-loading):before, .pn-loading:before {\\n  background-color: #c3c3c3;\\n  mask-size: auto calc(min(50%, 400px));\\n  -webkit-mask-size: auto calc(min(50%, 400px));\\n}\",{\"id\":\"6b183775-ead7-4cb0-8f3d-029bd7aece4f\"},{\"id\":\"b213256a-25dd-41af-b909-aae66bebdc5b\"},{\"id\":\"6c416232-d562-4277-9afc-4664fe710452\"}],\"margin\":0,\"sizing_mode\":\"stretch_width\",\"align\":\"start\"}},{\"type\":\"object\",\"name\":\"Figure\",\"id\":\"4ff1656b-b741-424d-9f41-421dd3efaf56\",\"attributes\":{\"width\":800,\"margin\":[5,10],\"sizing_mode\":\"fixed\",\"align\":\"start\",\"x_range\":{\"type\":\"object\",\"name\":\"Range1d\",\"id\":\"c0907a7d-25eb-467c-9b6e-9004d39f5983\",\"attributes\":{\"name\":\"Width\",\"tags\":[[[\"Width\",null]],[]],\"start\":45.779999999999994,\"end\":47.61999999999998,\"reset_start\":45.779999999999994,\"reset_end\":47.61999999999998}},\"y_range\":{\"type\":\"object\",\"name\":\"Range1d\",\"id\":\"31c8b084-e871-4ad7-b998-d58fd2b21c14\",\"attributes\":{\"name\":\"Offset\",\"tags\":[[[\"Offset\",null]],{\"type\":\"map\",\"entries\":[[\"invert_yaxis\",false],[\"autorange\",false]]}],\"start\":-51.79999999999999,\"end\":-6.200000000000118,\"reset_start\":-51.79999999999999,\"reset_end\":-6.200000000000118}},\"x_scale\":{\"type\":\"object\",\"name\":\"LinearScale\",\"id\":\"33955442-26c8-4a6e-b337-8a261e01048d\"},\"y_scale\":{\"type\":\"object\",\"name\":\"LinearScale\",\"id\":\"1aa8d3c2-a707-422d-899c-c6d405ab0ce2\"},\"title\":{\"type\":\"object\",\"name\":\"Title\",\"id\":\"7df0f7ae-3ab7-4baa-9a45-f012b70a613a\",\"attributes\":{\"text_color\":\"black\",\"text_font_size\":\"12pt\"}},\"renderers\":[{\"type\":\"object\",\"name\":\"GlyphRenderer\",\"id\":\"829fd803-7d78-484a-9775-cfac82ad9c79\",\"attributes\":{\"data_source\":{\"type\":\"object\",\"name\":\"ColumnDataSource\",\"id\":\"0f757e14-6852-42bc-83b8-bfbae5ee839f\",\"attributes\":{\"selected\":{\"type\":\"object\",\"name\":\"Selection\",\"id\":\"d3610796-b17f-42e4-b497-685fda7efbb0\",\"attributes\":{\"indices\":[],\"line_indices\":[]}},\"selection_policy\":{\"type\":\"object\",\"name\":\"UnionRenderers\",\"id\":\"bd3b1713-4dd8-4b42-ad87-29280a4fc6f3\"},\"data\":{\"type\":\"map\",\"entries\":[[\"Width\",{\"type\":\"ndarray\",\"array\":{\"type\":\"bytes\",\"data\":\"\"},\"shape\":[0],\"dtype\":\"float64\",\"order\":\"little\"}],[\"Offset\",{\"type\":\"ndarray\",\"array\":{\"type\":\"bytes\",\"data\":\"\"},\"shape\":[0],\"dtype\":\"float64\",\"order\":\"little\"}]]}}},\"view\":{\"type\":\"object\",\"name\":\"CDSView\",\"id\":\"3b7dee9c-e2e4-4e76-9dfc-3cf2998b592c\",\"attributes\":{\"filter\":{\"type\":\"object\",\"name\":\"AllIndices\",\"id\":\"2469726a-5c6e-43b6-8378-b2b0198cfe6f\"}}},\"glyph\":{\"type\":\"object\",\"name\":\"Scatter\",\"id\":\"7c3dc45b-0b67-4578-bfe1-2ccd1f750d90\",\"attributes\":{\"tags\":[\"apply_ranges\"],\"x\":{\"type\":\"field\",\"field\":\"Width\"},\"y\":{\"type\":\"field\",\"field\":\"Offset\"},\"size\":{\"type\":\"value\",\"value\":2.449489742783178},\"line_color\":{\"type\":\"value\",\"value\":\"#30a2da\"},\"fill_color\":{\"type\":\"value\",\"value\":\"#30a2da\"},\"hatch_color\":{\"type\":\"value\",\"value\":\"#30a2da\"}}},\"selection_glyph\":{\"type\":\"object\",\"name\":\"Scatter\",\"id\":\"94b4a4b0-0232-42e2-a26f-3590383f45d7\",\"attributes\":{\"tags\":[\"apply_ranges\"],\"x\":{\"type\":\"field\",\"field\":\"Width\"},\"y\":{\"type\":\"field\",\"field\":\"Offset\"},\"size\":{\"type\":\"value\",\"value\":2.449489742783178},\"angle\":{\"type\":\"value\",\"value\":0.0},\"line_color\":{\"type\":\"value\",\"value\":\"#30a2da\"},\"line_alpha\":{\"type\":\"value\",\"value\":1.0},\"line_width\":{\"type\":\"value\",\"value\":1},\"line_join\":{\"type\":\"value\",\"value\":\"bevel\"},\"line_cap\":{\"type\":\"value\",\"value\":\"butt\"},\"line_dash\":{\"type\":\"value\",\"value\":[]},\"line_dash_offset\":{\"type\":\"value\",\"value\":0},\"fill_color\":{\"type\":\"value\",\"value\":\"#30a2da\"},\"fill_alpha\":{\"type\":\"value\",\"value\":1.0},\"hatch_color\":{\"type\":\"value\",\"value\":\"#30a2da\"},\"hatch_alpha\":{\"type\":\"value\",\"value\":1.0},\"hatch_scale\":{\"type\":\"value\",\"value\":12.0},\"hatch_pattern\":{\"type\":\"value\",\"value\":null},\"hatch_weight\":{\"type\":\"value\",\"value\":1.0},\"marker\":{\"type\":\"value\",\"value\":\"circle\"}}},\"nonselection_glyph\":{\"type\":\"object\",\"name\":\"Scatter\",\"id\":\"086a24c4-b40d-42b6-b2ed-be9778db6200\",\"attributes\":{\"tags\":[\"apply_ranges\"],\"x\":{\"type\":\"field\",\"field\":\"Width\"},\"y\":{\"type\":\"field\",\"field\":\"Offset\"},\"size\":{\"type\":\"value\",\"value\":2.449489742783178},\"line_color\":{\"type\":\"value\",\"value\":\"#30a2da\"},\"line_alpha\":{\"type\":\"value\",\"value\":0.1},\"fill_color\":{\"type\":\"value\",\"value\":\"#30a2da\"},\"fill_alpha\":{\"type\":\"value\",\"value\":0.1},\"hatch_color\":{\"type\":\"value\",\"value\":\"#30a2da\"},\"hatch_alpha\":{\"type\":\"value\",\"value\":0.1}}},\"muted_glyph\":{\"type\":\"object\",\"name\":\"Scatter\",\"id\":\"d69b75cd-aee2-487f-be45-79253c515d92\",\"attributes\":{\"tags\":[\"apply_ranges\"],\"x\":{\"type\":\"field\",\"field\":\"Width\"},\"y\":{\"type\":\"field\",\"field\":\"Offset\"},\"size\":{\"type\":\"value\",\"value\":2.449489742783178},\"line_color\":{\"type\":\"value\",\"value\":\"#30a2da\"},\"line_alpha\":{\"type\":\"value\",\"value\":0.2},\"fill_color\":{\"type\":\"value\",\"value\":\"#30a2da\"},\"fill_alpha\":{\"type\":\"value\",\"value\":0.2},\"hatch_color\":{\"type\":\"value\",\"value\":\"#30a2da\"},\"hatch_alpha\":{\"type\":\"value\",\"value\":0.2}}}}},{\"type\":\"object\",\"name\":\"GlyphRenderer\",\"id\":\"43a5bc68-fe8d-45ec-a373-612588180d8f\",\"attributes\":{\"name\":\"Success\",\"data_source\":{\"type\":\"object\",\"name\":\"ColumnDataSource\",\"id\":\"e59a2097-bd48-4bf6-bcad-c46c24d360ee\",\"attributes\":{\"selected\":{\"type\":\"object\",\"name\":\"Selection\",\"id\":\"540d0fdb-551a-4054-842d-7595c2a8f22a\",\"attributes\":{\"indices\":[],\"line_indices\":[]}},\"selection_policy\":{\"type\":\"object\",\"name\":\"UnionRenderers\",\"id\":\"db84afa1-fc3a-4607-a0b8-0e5e5d68256a\"},\"data\":{\"type\":\"map\",\"entries\":[[\"width\",{\"type\":\"ndarray\",\"array\":{\"type\":\"bytes\",\"data\":\"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\"},\"shape\":[281],\"dtype\":\"float64\",\"order\":\"little\"}],[\"offset\",{\"type\":\"ndarray\",\"array\":{\"type\":\"bytes\",\"data\":\"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\"},\"shape\":[281],\"dtype\":\"float64\",\"order\":\"little\"}],[\"success_rate\",{\"type\":\"ndarray\",\"array\":{\"type\":\"bytes\",\"data\":\"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\"},\"shape\":[281],\"dtype\":\"float64\",\"order\":\"little\"}]]}}},\"view\":{\"type\":\"object\",\"name\":\"CDSView\",\"id\":\"14b12a8e-9345-416c-a407-6154b2dce9ef\",\"attributes\":{\"filter\":{\"type\":\"object\",\"name\":\"AllIndices\",\"id\":\"46312ce2-2d7b-49db-884f-552c53a22ef5\"}}},\"glyph\":{\"type\":\"object\",\"name\":\"Scatter\",\"id\":\"d89dcd82-1022-4a3b-9299-29caf902dd29\",\"attributes\":{\"tags\":[\"apply_ranges\"],\"x\":{\"type\":\"field\",\"field\":\"width\"},\"y\":{\"type\":\"field\",\"field\":\"offset\"},\"size\":{\"type\":\"value\",\"value\":10},\"line_color\":{\"type\":\"value\",\"value\":\"#007f00\"},\"fill_color\":{\"type\":\"value\",\"value\":\"#007f00\"},\"hatch_color\":{\"type\":\"value\",\"value\":\"#007f00\"},\"marker\":{\"type\":\"value\",\"value\":\"cross\"}}},\"selection_glyph\":{\"type\":\"object\",\"name\":\"Scatter\",\"id\":\"d71cbda7-bbd3-473a-a516-cdebfdab3c17\",\"attributes\":{\"tags\":[\"apply_ranges\"],\"x\":{\"type\":\"field\",\"field\":\"width\"},\"y\":{\"type\":\"field\",\"field\":\"offset\"},\"size\":{\"type\":\"value\",\"value\":10},\"angle\":{\"type\":\"value\",\"value\":0.0},\"line_color\":{\"type\":\"value\",\"value\":\"#007f00\"},\"line_alpha\":{\"type\":\"value\",\"value\":1.0},\"line_width\":{\"type\":\"value\",\"value\":1},\"line_join\":{\"type\":\"value\",\"value\":\"bevel\"},\"line_cap\":{\"type\":\"value\",\"value\":\"butt\"},\"line_dash\":{\"type\":\"value\",\"value\":[]},\"line_dash_offset\":{\"type\":\"value\",\"value\":0},\"fill_color\":{\"type\":\"value\",\"value\":\"#007f00\"},\"fill_alpha\":{\"type\":\"value\",\"value\":1.0},\"hatch_color\":{\"type\":\"value\",\"value\":\"#007f00\"},\"hatch_alpha\":{\"type\":\"value\",\"value\":1.0},\"hatch_scale\":{\"type\":\"value\",\"value\":12.0},\"hatch_pattern\":{\"type\":\"value\",\"value\":null},\"hatch_weight\":{\"type\":\"value\",\"value\":1.0},\"marker\":{\"type\":\"value\",\"value\":\"cross\"}}},\"nonselection_glyph\":{\"type\":\"object\",\"name\":\"Scatter\",\"id\":\"17c02849-75e4-4576-94c2-687528db1ba7\",\"attributes\":{\"tags\":[\"apply_ranges\"],\"x\":{\"type\":\"field\",\"field\":\"width\"},\"y\":{\"type\":\"field\",\"field\":\"offset\"},\"size\":{\"type\":\"value\",\"value\":10},\"line_color\":{\"type\":\"value\",\"value\":\"#007f00\"},\"line_alpha\":{\"type\":\"value\",\"value\":0.1},\"fill_color\":{\"type\":\"value\",\"value\":\"#007f00\"},\"fill_alpha\":{\"type\":\"value\",\"value\":0.1},\"hatch_color\":{\"type\":\"value\",\"value\":\"#007f00\"},\"hatch_alpha\":{\"type\":\"value\",\"value\":0.1},\"marker\":{\"type\":\"value\",\"value\":\"cross\"}}},\"muted_glyph\":{\"type\":\"object\",\"name\":\"Scatter\",\"id\":\"129064e1-0273-4502-ace5-1863687d9275\",\"attributes\":{\"tags\":[\"apply_ranges\"],\"x\":{\"type\":\"field\",\"field\":\"width\"},\"y\":{\"type\":\"field\",\"field\":\"offset\"},\"size\":{\"type\":\"value\",\"value\":10},\"line_color\":{\"type\":\"value\",\"value\":\"#007f00\"},\"line_alpha\":{\"type\":\"value\",\"value\":0.2},\"fill_color\":{\"type\":\"value\",\"value\":\"#007f00\"},\"fill_alpha\":{\"type\":\"value\",\"value\":0.2},\"hatch_color\":{\"type\":\"value\",\"value\":\"#007f00\"},\"hatch_alpha\":{\"type\":\"value\",\"value\":0.2},\"marker\":{\"type\":\"value\",\"value\":\"cross\"}}}}},{\"type\":\"object\",\"name\":\"GlyphRenderer\",\"id\":\"8c03827b-f0b7-47dd-8717-75077d2f4758\",\"attributes\":{\"name\":\"Reset\",\"data_source\":{\"type\":\"object\",\"name\":\"ColumnDataSource\",\"id\":\"a8e044dd-ab97-4502-b8aa-0573f5065145\",\"attributes\":{\"selected\":{\"type\":\"object\",\"name\":\"Selection\",\"id\":\"238547cd-b7a6-4cbc-a0b1-d28b2845db19\",\"attributes\":{\"indices\":[],\"line_indices\":[]}},\"selection_policy\":{\"type\":\"object\",\"name\":\"UnionRenderers\",\"id\":\"f736c4cd-a676-4543-a0b8-d027706dba02\"},\"data\":{\"type\":\"map\",\"entries\":[[\"width\",{\"type\":\"ndarray\",\"array\":{\"type\":\"bytes\",\"data\":\"mJmZmZlZR0CYmZmZmVlHQJiZmZmZWUdAmJmZmZlZR0CYmZmZmVlHQJiZmZmZWUdAmJmZmZlZR0CYmZmZmVlHQJiZmZmZWUdAmJmZmZlZR0CYmZmZmVlHQJiZmZmZWUdAmJmZmZlZR0CYmZmZmVlHQJiZmZmZWUdAmJmZmZlZR0CYmZmZmVlHQJiZmZmZWUdAmJmZmZlZR0CYmZmZmVlHQJiZmZmZWUdAmJmZmZlZR0CYmZmZmVlHQJiZmZmZWUdAmJmZmZlZR0CYmZmZmVlHQJiZmZmZWUdAmJmZmZlZR0DLzMzMzIxHQMvMzMzMjEdAy8zMzMyMR0DLzMzMzIxHQMvMzMzMjEdAy8zMzMyMR0DLzMzMzIxHQMvMzMzMjEdAy8zMzMyMR0DLzMzMzIxHQMvMzMzMjEdAy8zMzMyMR0DLzMzMzIxHQMvMzMzMjEdAy8zMzMyMR0DLzMzMzIxHQMvMzMzMjEdAy8zMzMyMR0DLzMzMzIxHQMvMzMzMjEdAy8zMzMyMR0DLzMzMzIxHQMvMzMzMjEdAy8zMzMyMR0DLzMzMzIxHQMvMzMzMjEdAy8zMzMyMR0DLzMzMzIxHQMvMzMzMjEdAy8zMzMyMR0DLzMzMzIxHQMvMzMzMjEdAy8zMzMyMR0DLzMzMzIxHQMvMzMzMjEdAy8zMzMyMR0DLzMzMzIxHQMvMzMzMjEdAy8zMzMyMR0DLzMzMzIxHQMvMzMzMjEdAy8zMzMyMR0DLzMzMzIxHQMvMzMzMjEdAy8zMzMyMR0DLzMzMzIxHQMvMzMzMjEdAy8zMzMyMR0DLzMzMzIxHQMvMzMzMjEdAy8zMzMyMR0DLzMzMzIxHQMvMzMzMjEdAy8zMzMyMR0DLzMzMzIxHQMvMzMzMjEdAy8zMzMyMR0DLzMzMzIxHQMvMzMzMjEdAy8zMzMyMR0DLzMzMzIxHQMvMzMzMjEdAy8zMzMyMR0DLzMzMzIxHQMvMzMzMjEdAy8zMzMyMR0DLzMzMzIxHQMvMzMzMjEdAy8zMzMyMR0DLzMzMzIxHQMvMzMzMjEdAy8zMzMyMR0DLzMzMzIxHQMvMzMzMjEdAy8zMzMyMR0DLzMzMzIxHQMvMzMzMjEdAy8zMzMyMR0DLzMzMzIxHQMvMzMzMjEdAy8zMzMyMR0DLzMzMzIxHQMvMzMzMjEdAy8zMzMyMR0DLzMzMzIxHQMvMzMzMjEdAy8zMzMyMR0D+/////79HQP7/////v0dA/v////+/R0D+/////79HQP7/////v0dA/v////+/R0D+/////79HQP7/////v0dA/v////+/R0D+/////79HQP7/////v0dA/v////+/R0D+/////79HQP7/////v0dA/v////+/R0D+/////79HQP7/////v0dA/v////+/R0D+/////79HQP7/////v0dA/v////+/R0D+/////79HQP7/////v0dA/v////+/R0D+/////79HQP7/////v0dA/v////+/R0D+/////79HQP7/////v0dA/v////+/R0D+/////79HQP7/////v0dA/v////+/R0D+/////79HQP7/////v0dA/v////+/R0D+/////79HQP7/////v0dA/v////+/R0D+/////79HQP7/////v0dA/v////+/R0D+/////79HQP7/////v0dA/v////+/R0D+/////79HQP7/////v0dA/v////+/R0D+/////79HQP7/////v0dA/v////+/R0D+/////79HQP7/////v0dA/v////+/R0D+/////79HQP7/////v0dA/v////+/R0D+/////79HQP7/////v0dA/v////+/R0D+/////79HQP7/////v0dA/v////+/R0D+/////79HQP7/////v0dA/v////+/R0D+/////79HQP7/////v0dA/v////+/R0D+/////79HQP7/////v0dA/v////+/R0D+/////79HQP7/////v0dA/v////+/R0D+/////79HQP7/////v0dA/v////+/R0D+/////79HQP7/////v0dA/v////+/R0D+/////79HQP7/////v0dA/v////+/R0D+/////79HQP7/////v0dA/v////+/R0D+/////79HQP7/////v0dA/v////+/R0D+/////79HQP7/////v0dA/v////+/R0D+/////79HQP7/////v0dA/v////+/R0A=\"},\"shape\":[211],\"dtype\":\"float64\",\"order\":\"little\"}],[\"offset\",{\"type\":\"ndarray\",\"array\":{\"type\":\"bytes\",\"data\":\"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\"},\"shape\":[211],\"dtype\":\"float64\",\"order\":\"little\"}],[\"reset_rate\",{\"type\":\"ndarray\",\"array\":{\"type\":\"bytes\",\"data\":\"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\"},\"shape\":[211],\"dtype\":\"float64\",\"order\":\"little\"}]]}}},\"view\":{\"type\":\"object\",\"name\":\"CDSView\",\"id\":\"3dfca25a-6149-4c32-a169-1f6dcb554eaa\",\"attributes\":{\"filter\":{\"type\":\"object\",\"name\":\"AllIndices\",\"id\":\"9ab7cb7b-51d3-4059-a710-6bc425e827d6\"}}},\"glyph\":{\"type\":\"object\",\"name\":\"Scatter\",\"id\":\"5ed74f23-a141-4c65-bdb0-46e4107b5d6a\",\"attributes\":{\"tags\":[\"apply_ranges\"],\"x\":{\"type\":\"field\",\"field\":\"width\"},\"y\":{\"type\":\"field\",\"field\":\"offset\"},\"size\":{\"type\":\"value\",\"value\":10},\"angle\":{\"type\":\"value\",\"value\":0.7853981633974483},\"line_color\":{\"type\":\"value\",\"value\":\"#ff0000\"},\"fill_color\":{\"type\":\"value\",\"value\":\"#ff0000\"},\"hatch_color\":{\"type\":\"value\",\"value\":\"#ff0000\"},\"marker\":{\"type\":\"value\",\"value\":\"cross\"}}},\"selection_glyph\":{\"type\":\"object\",\"name\":\"Scatter\",\"id\":\"87e27c3c-0aad-4065-96e6-8b208710487d\",\"attributes\":{\"tags\":[\"apply_ranges\"],\"x\":{\"type\":\"field\",\"field\":\"width\"},\"y\":{\"type\":\"field\",\"field\":\"offset\"},\"size\":{\"type\":\"value\",\"value\":10},\"angle\":{\"type\":\"value\",\"value\":0.7853981633974483},\"line_color\":{\"type\":\"value\",\"value\":\"#ff0000\"},\"line_alpha\":{\"type\":\"value\",\"value\":1.0},\"line_width\":{\"type\":\"value\",\"value\":1},\"line_join\":{\"type\":\"value\",\"value\":\"bevel\"},\"line_cap\":{\"type\":\"value\",\"value\":\"butt\"},\"line_dash\":{\"type\":\"value\",\"value\":[]},\"line_dash_offset\":{\"type\":\"value\",\"value\":0},\"fill_color\":{\"type\":\"value\",\"value\":\"#ff0000\"},\"fill_alpha\":{\"type\":\"value\",\"value\":1.0},\"hatch_color\":{\"type\":\"value\",\"value\":\"#ff0000\"},\"hatch_alpha\":{\"type\":\"value\",\"value\":1.0},\"hatch_scale\":{\"type\":\"value\",\"value\":12.0},\"hatch_pattern\":{\"type\":\"value\",\"value\":null},\"hatch_weight\":{\"type\":\"value\",\"value\":1.0},\"marker\":{\"type\":\"value\",\"value\":\"cross\"}}},\"nonselection_glyph\":{\"type\":\"object\",\"name\":\"Scatter\",\"id\":\"ade0a777-7ba3-4f96-83f4-0bb85430e7b0\",\"attributes\":{\"tags\":[\"apply_ranges\"],\"x\":{\"type\":\"field\",\"field\":\"width\"},\"y\":{\"type\":\"field\",\"field\":\"offset\"},\"size\":{\"type\":\"value\",\"value\":10},\"angle\":{\"type\":\"value\",\"value\":0.7853981633974483},\"line_color\":{\"type\":\"value\",\"value\":\"#ff0000\"},\"line_alpha\":{\"type\":\"value\",\"value\":0.1},\"fill_color\":{\"type\":\"value\",\"value\":\"#ff0000\"},\"fill_alpha\":{\"type\":\"value\",\"value\":0.1},\"hatch_color\":{\"type\":\"value\",\"value\":\"#ff0000\"},\"hatch_alpha\":{\"type\":\"value\",\"value\":0.1},\"marker\":{\"type\":\"value\",\"value\":\"cross\"}}},\"muted_glyph\":{\"type\":\"object\",\"name\":\"Scatter\",\"id\":\"ad5a0d4a-66d6-4f74-af29-e777149acbf1\",\"attributes\":{\"tags\":[\"apply_ranges\"],\"x\":{\"type\":\"field\",\"field\":\"width\"},\"y\":{\"type\":\"field\",\"field\":\"offset\"},\"size\":{\"type\":\"value\",\"value\":10},\"angle\":{\"type\":\"value\",\"value\":0.7853981633974483},\"line_color\":{\"type\":\"value\",\"value\":\"#ff0000\"},\"line_alpha\":{\"type\":\"value\",\"value\":0.2},\"fill_color\":{\"type\":\"value\",\"value\":\"#ff0000\"},\"fill_alpha\":{\"type\":\"value\",\"value\":0.2},\"hatch_color\":{\"type\":\"value\",\"value\":\"#ff0000\"},\"hatch_alpha\":{\"type\":\"value\",\"value\":0.2},\"marker\":{\"type\":\"value\",\"value\":\"cross\"}}}}}],\"toolbar\":{\"type\":\"object\",\"name\":\"Toolbar\",\"id\":\"761be121-42a9-4136-b91f-45a038161c77\",\"attributes\":{\"tools\":[{\"type\":\"object\",\"name\":\"WheelZoomTool\",\"id\":\"218b30a8-a7bf-460f-ba35-7f938837fc81\",\"attributes\":{\"tags\":[\"hv_created\"],\"renderers\":\"auto\",\"zoom_together\":\"none\"}},{\"type\":\"object\",\"name\":\"HoverTool\",\"id\":\"43bbc591-6867-4d5a-9bb9-5b2142f6ac39\",\"attributes\":{\"tags\":[\"hv_created\"],\"renderers\":[{\"id\":\"43a5bc68-fe8d-45ec-a373-612588180d8f\"}],\"tooltips\":[[\"width\",\"@{width}\"],[\"offset\",\"@{offset}\"],[\"success_rate\",\"@{success_rate}\"]]}},{\"type\":\"object\",\"name\":\"HoverTool\",\"id\":\"84021dfd-39eb-4e69-a6e7-c884a86bd18c\",\"attributes\":{\"tags\":[\"hv_created\"],\"renderers\":[{\"id\":\"8c03827b-f0b7-47dd-8717-75077d2f4758\"}],\"tooltips\":[[\"width\",\"@{width}\"],[\"offset\",\"@{offset}\"],[\"reset_rate\",\"@{reset_rate}\"]]}},{\"type\":\"object\",\"name\":\"SaveTool\",\"id\":\"e32bac2e-56a3-45fc-8ab2-858009cec65d\"},{\"type\":\"object\",\"name\":\"PanTool\",\"id\":\"4565416a-9f34-4a7e-973f-f079e03cce87\"},{\"type\":\"object\",\"name\":\"BoxZoomTool\",\"id\":\"eabcea13-476f-4c96-9a7c-c0e66402abbd\",\"attributes\":{\"overlay\":{\"type\":\"object\",\"name\":\"BoxAnnotation\",\"id\":\"579b7446-e2e6-4d48-b039-8788e5fde06e\",\"attributes\":{\"syncable\":false,\"line_color\":\"black\",\"line_alpha\":1.0,\"line_width\":2,\"line_dash\":[4,4],\"fill_color\":\"lightgrey\",\"fill_alpha\":0.5,\"level\":\"overlay\",\"visible\":false,\"left\":{\"type\":\"number\",\"value\":\"nan\"},\"right\":{\"type\":\"number\",\"value\":\"nan\"},\"top\":{\"type\":\"number\",\"value\":\"nan\"},\"bottom\":{\"type\":\"number\",\"value\":\"nan\"},\"left_units\":\"canvas\",\"right_units\":\"canvas\",\"top_units\":\"canvas\",\"bottom_units\":\"canvas\",\"handles\":{\"type\":\"object\",\"name\":\"BoxInteractionHandles\",\"id\":\"e214a797-21b7-4193-8291-e19dfdd4d65a\",\"attributes\":{\"all\":{\"type\":\"object\",\"name\":\"AreaVisuals\",\"id\":\"fd5bfade-aabc-4047-a6da-b7914de9ceb8\",\"attributes\":{\"fill_color\":\"white\",\"hover_fill_color\":\"lightgray\"}}}}}}}},{\"type\":\"object\",\"name\":\"ResetTool\",\"id\":\"1f89f77a-dbc5-4010-8d6f-c7c560409308\"}],\"active_drag\":{\"id\":\"4565416a-9f34-4a7e-973f-f079e03cce87\"},\"active_scroll\":{\"id\":\"218b30a8-a7bf-460f-ba35-7f938837fc81\"}}},\"left\":[{\"type\":\"object\",\"name\":\"LinearAxis\",\"id\":\"bd23222d-39f3-4c51-9b7e-3340a8f9f7d4\",\"attributes\":{\"ticker\":{\"type\":\"object\",\"name\":\"BasicTicker\",\"id\":\"3ea7aaa4-1c6c-4e23-91e8-6ebb20c89dc9\",\"attributes\":{\"mantissas\":[1,2,5]}},\"formatter\":{\"type\":\"object\",\"name\":\"BasicTickFormatter\",\"id\":\"b65a22e6-7bd3-4e51-b941-9a7fb05e8b61\"},\"axis_label\":\"Offset\",\"major_label_policy\":{\"type\":\"object\",\"name\":\"AllLabels\",\"id\":\"b63ce20d-9796-4b7b-b1a1-20dde105d4c8\"}}}],\"below\":[{\"type\":\"object\",\"name\":\"LinearAxis\",\"id\":\"9b6709ee-c1e5-4180-8b51-31a900bd1c58\",\"attributes\":{\"ticker\":{\"type\":\"object\",\"name\":\"BasicTicker\",\"id\":\"8f0aedf6-aa14-4080-8b7d-016c3bc3145e\",\"attributes\":{\"mantissas\":[1,2,5]}},\"formatter\":{\"type\":\"object\",\"name\":\"BasicTickFormatter\",\"id\":\"aefdfafa-48be-41a6-9cff-2d2bbd0fc11f\"},\"axis_label\":\"Width\",\"major_label_policy\":{\"type\":\"object\",\"name\":\"AllLabels\",\"id\":\"309f8223-7d40-4b05-9db1-95184422d15f\"}}}],\"center\":[{\"type\":\"object\",\"name\":\"Grid\",\"id\":\"bf1fb15e-bd12-43e7-8c77-b16cefcbe69d\",\"attributes\":{\"axis\":{\"id\":\"9b6709ee-c1e5-4180-8b51-31a900bd1c58\"},\"grid_line_color\":null}},{\"type\":\"object\",\"name\":\"Grid\",\"id\":\"bbeb0a85-71b9-479d-9e9c-2d3feee8e4c5\",\"attributes\":{\"dimension\":1,\"axis\":{\"id\":\"bd23222d-39f3-4c51-9b7e-3340a8f9f7d4\"},\"grid_line_color\":null}},{\"type\":\"object\",\"name\":\"Legend\",\"id\":\"f542249e-7a62-4784-8698-b7ec24ebfe76\",\"attributes\":{\"click_policy\":\"mute\",\"items\":[{\"type\":\"object\",\"name\":\"LegendItem\",\"id\":\"da10c37c-ac5c-44c1-8e50-6dfda8effb87\",\"attributes\":{\"label\":{\"type\":\"value\",\"value\":\"Success\"},\"renderers\":[{\"id\":\"43a5bc68-fe8d-45ec-a373-612588180d8f\"}]}},{\"type\":\"object\",\"name\":\"LegendItem\",\"id\":\"45544e41-41e8-4168-b9b1-c64d78da37fe\",\"attributes\":{\"label\":{\"type\":\"value\",\"value\":\"Reset\"},\"renderers\":[{\"id\":\"8c03827b-f0b7-47dd-8717-75077d2f4758\"}]}}]}}],\"min_border_top\":10,\"min_border_bottom\":10,\"min_border_left\":10,\"min_border_right\":10,\"output_backend\":\"webgl\"}},{\"type\":\"object\",\"name\":\"Spacer\",\"id\":\"ca98e99d-7ac5-41f9-b952-f8f644f23087\",\"attributes\":{\"name\":\"HSpacer48737\",\"stylesheets\":[\"\\n:host(.pn-loading):before, .pn-loading:before {\\n  background-color: #c3c3c3;\\n  mask-size: auto calc(min(50%, 400px));\\n  -webkit-mask-size: auto calc(min(50%, 400px));\\n}\",{\"id\":\"6b183775-ead7-4cb0-8f3d-029bd7aece4f\"},{\"id\":\"b213256a-25dd-41af-b909-aae66bebdc5b\"},{\"id\":\"6c416232-d562-4277-9afc-4664fe710452\"}],\"margin\":0,\"sizing_mode\":\"stretch_width\",\"align\":\"start\"}}]}}],\"defs\":[{\"type\":\"model\",\"name\":\"ReactiveHTML1\"},{\"type\":\"model\",\"name\":\"FlexBox1\",\"properties\":[{\"name\":\"align_content\",\"kind\":\"Any\",\"default\":\"flex-start\"},{\"name\":\"align_items\",\"kind\":\"Any\",\"default\":\"flex-start\"},{\"name\":\"flex_direction\",\"kind\":\"Any\",\"default\":\"row\"},{\"name\":\"flex_wrap\",\"kind\":\"Any\",\"default\":\"wrap\"},{\"name\":\"gap\",\"kind\":\"Any\",\"default\":\"\"},{\"name\":\"justify_content\",\"kind\":\"Any\",\"default\":\"flex-start\"}]},{\"type\":\"model\",\"name\":\"FloatPanel1\",\"properties\":[{\"name\":\"config\",\"kind\":\"Any\",\"default\":{\"type\":\"map\"}},{\"name\":\"contained\",\"kind\":\"Any\",\"default\":true},{\"name\":\"position\",\"kind\":\"Any\",\"default\":\"right-top\"},{\"name\":\"offsetx\",\"kind\":\"Any\",\"default\":null},{\"name\":\"offsety\",\"kind\":\"Any\",\"default\":null},{\"name\":\"theme\",\"kind\":\"Any\",\"default\":\"primary\"},{\"name\":\"status\",\"kind\":\"Any\",\"default\":\"normalized\"}]},{\"type\":\"model\",\"name\":\"GridStack1\",\"properties\":[{\"name\":\"mode\",\"kind\":\"Any\",\"default\":\"warn\"},{\"name\":\"ncols\",\"kind\":\"Any\",\"default\":null},{\"name\":\"nrows\",\"kind\":\"Any\",\"default\":null},{\"name\":\"allow_resize\",\"kind\":\"Any\",\"default\":true},{\"name\":\"allow_drag\",\"kind\":\"Any\",\"default\":true},{\"name\":\"state\",\"kind\":\"Any\",\"default\":[]}]},{\"type\":\"model\",\"name\":\"drag1\",\"properties\":[{\"name\":\"slider_width\",\"kind\":\"Any\",\"default\":5},{\"name\":\"slider_color\",\"kind\":\"Any\",\"default\":\"black\"},{\"name\":\"value\",\"kind\":\"Any\",\"default\":50}]},{\"type\":\"model\",\"name\":\"click1\",\"properties\":[{\"name\":\"terminal_output\",\"kind\":\"Any\",\"default\":\"\"},{\"name\":\"debug_name\",\"kind\":\"Any\",\"default\":\"\"},{\"name\":\"clears\",\"kind\":\"Any\",\"default\":0}]},{\"type\":\"model\",\"name\":\"FastWrapper1\",\"properties\":[{\"name\":\"object\",\"kind\":\"Any\",\"default\":null},{\"name\":\"style\",\"kind\":\"Any\",\"default\":null}]},{\"type\":\"model\",\"name\":\"NotificationAreaBase1\",\"properties\":[{\"name\":\"js_events\",\"kind\":\"Any\",\"default\":{\"type\":\"map\"}},{\"name\":\"position\",\"kind\":\"Any\",\"default\":\"bottom-right\"},{\"name\":\"_clear\",\"kind\":\"Any\",\"default\":0}]},{\"type\":\"model\",\"name\":\"NotificationArea1\",\"properties\":[{\"name\":\"js_events\",\"kind\":\"Any\",\"default\":{\"type\":\"map\"}},{\"name\":\"notifications\",\"kind\":\"Any\",\"default\":[]},{\"name\":\"position\",\"kind\":\"Any\",\"default\":\"bottom-right\"},{\"name\":\"_clear\",\"kind\":\"Any\",\"default\":0},{\"name\":\"types\",\"kind\":\"Any\",\"default\":[{\"type\":\"map\",\"entries\":[[\"type\",\"warning\"],[\"background\",\"#ffc107\"],[\"icon\",{\"type\":\"map\",\"entries\":[[\"className\",\"fas fa-exclamation-triangle\"],[\"tagName\",\"i\"],[\"color\",\"white\"]]}]]},{\"type\":\"map\",\"entries\":[[\"type\",\"info\"],[\"background\",\"#007bff\"],[\"icon\",{\"type\":\"map\",\"entries\":[[\"className\",\"fas fa-info-circle\"],[\"tagName\",\"i\"],[\"color\",\"white\"]]}]]}]}]},{\"type\":\"model\",\"name\":\"Notification\",\"properties\":[{\"name\":\"background\",\"kind\":\"Any\",\"default\":null},{\"name\":\"duration\",\"kind\":\"Any\",\"default\":3000},{\"name\":\"icon\",\"kind\":\"Any\",\"default\":null},{\"name\":\"message\",\"kind\":\"Any\",\"default\":\"\"},{\"name\":\"notification_type\",\"kind\":\"Any\",\"default\":null},{\"name\":\"_rendered\",\"kind\":\"Any\",\"default\":false},{\"name\":\"_destroyed\",\"kind\":\"Any\",\"default\":false}]},{\"type\":\"model\",\"name\":\"TemplateActions1\",\"properties\":[{\"name\":\"open_modal\",\"kind\":\"Any\",\"default\":0},{\"name\":\"close_modal\",\"kind\":\"Any\",\"default\":0}]},{\"type\":\"model\",\"name\":\"BootstrapTemplateActions1\",\"properties\":[{\"name\":\"open_modal\",\"kind\":\"Any\",\"default\":0},{\"name\":\"close_modal\",\"kind\":\"Any\",\"default\":0}]},{\"type\":\"model\",\"name\":\"TemplateEditor1\",\"properties\":[{\"name\":\"layout\",\"kind\":\"Any\",\"default\":[]}]},{\"type\":\"model\",\"name\":\"MaterialTemplateActions1\",\"properties\":[{\"name\":\"open_modal\",\"kind\":\"Any\",\"default\":0},{\"name\":\"close_modal\",\"kind\":\"Any\",\"default\":0}]},{\"type\":\"model\",\"name\":\"ReactiveESM1\",\"properties\":[{\"name\":\"esm_constants\",\"kind\":\"Any\",\"default\":{\"type\":\"map\"}}]},{\"type\":\"model\",\"name\":\"JSComponent1\",\"properties\":[{\"name\":\"esm_constants\",\"kind\":\"Any\",\"default\":{\"type\":\"map\"}}]},{\"type\":\"model\",\"name\":\"ReactComponent1\",\"properties\":[{\"name\":\"esm_constants\",\"kind\":\"Any\",\"default\":{\"type\":\"map\"}}]},{\"type\":\"model\",\"name\":\"AnyWidgetComponent1\",\"properties\":[{\"name\":\"esm_constants\",\"kind\":\"Any\",\"default\":{\"type\":\"map\"}}]},{\"type\":\"model\",\"name\":\"request_value1\",\"properties\":[{\"name\":\"fill\",\"kind\":\"Any\",\"default\":\"none\"},{\"name\":\"_synced\",\"kind\":\"Any\",\"default\":null},{\"name\":\"_request_sync\",\"kind\":\"Any\",\"default\":0}]}]}};\n",
       "  var render_items = [{\"docid\":\"d07ae64d-fdd1-4c1a-8fa0-7d14561952b6\",\"roots\":{\"9115bddb-a802-4d46-9f7e-b61945a308c3\":\"f754bd70-4b6c-45b5-8310-4f86d56cbd5c\"},\"root_ids\":[\"9115bddb-a802-4d46-9f7e-b61945a308c3\"]}];\n",
       "  var docs = Object.values(docs_json)\n",
       "  if (!docs) {\n",
       "    return\n",
       "  }\n",
       "  const py_version = docs[0].version.replace('rc', '-rc.').replace('.dev', '-dev.')\n",
       "  async function embed_document(root) {\n",
       "    var Bokeh = get_bokeh(root)\n",
       "    await Bokeh.embed.embed_items_notebook(docs_json, render_items);\n",
       "    for (const render_item of render_items) {\n",
       "      for (const root_id of render_item.root_ids) {\n",
       "\tconst id_el = document.getElementById(root_id)\n",
       "\tif (id_el.children.length && id_el.children[0].hasAttribute('data-root-id')) {\n",
       "\t  const root_el = id_el.children[0]\n",
       "\t  root_el.id = root_el.id + '-rendered'\n",
       "\t  for (const child of root_el.children) {\n",
       "            // Ensure JupyterLab does not capture keyboard shortcuts\n",
       "            // see: https://jupyterlab.readthedocs.io/en/4.1.x/extension/notebook.html#keyboard-interaction-model\n",
       "\t    child.setAttribute('data-lm-suppress-shortcuts', 'true')\n",
       "\t  }\n",
       "\t}\n",
       "      }\n",
       "    }\n",
       "  }\n",
       "  function get_bokeh(root) {\n",
       "    if (root.Bokeh === undefined) {\n",
       "      return null\n",
       "    } else if (root.Bokeh.version !== py_version) {\n",
       "      if (root.Bokeh.versions === undefined || !root.Bokeh.versions.has(py_version)) {\n",
       "\treturn null\n",
       "      }\n",
       "      return root.Bokeh.versions.get(py_version);\n",
       "    } else if (root.Bokeh.version === py_version) {\n",
       "      return root.Bokeh\n",
       "    }\n",
       "    return null\n",
       "  }\n",
       "  function is_loaded(root) {\n",
       "    var Bokeh = get_bokeh(root)\n",
       "    return (Bokeh != null && Bokeh.Panel !== undefined)\n",
       "  }\n",
       "  if (is_loaded(root)) {\n",
       "    embed_document(root);\n",
       "  } else {\n",
       "    var attempts = 0;\n",
       "    var timer = setInterval(function(root) {\n",
       "      if (is_loaded(root)) {\n",
       "        clearInterval(timer);\n",
       "        embed_document(root);\n",
       "      } else if (document.readyState == \"complete\") {\n",
       "        attempts++;\n",
       "        if (attempts > 200) {\n",
       "          clearInterval(timer);\n",
       "\t  var Bokeh = get_bokeh(root)\n",
       "\t  if (Bokeh == null || Bokeh.Panel == null) {\n",
       "            console.warn(\"Panel: ERROR: Unable to run Panel code because Bokeh or Panel library is missing\");\n",
       "\t  } else {\n",
       "\t    console.warn(\"Panel: WARNING: Attempting to render but not all required libraries could be resolved.\")\n",
       "\t    embed_document(root)\n",
       "\t  }\n",
       "        }\n",
       "      }\n",
       "    }, 25, root)\n",
       "  }\n",
       "})(window);</script>"
      ],
      "text/plain": [
       ":Overlay\n",
       "   .Points.I       :Points   [Width,Offset]\n",
       "   .Points.Success :Points   [width,offset]   (success_rate)\n",
       "   .Points.Reset   :Points   [width,offset]   (reset_rate)"
      ]
     },
     "execution_count": 14,
     "metadata": {
      "application/vnd.holoviews_exec.v0+json": {
       "id": "9115bddb-a802-4d46-9f7e-b61945a308c3"
      }
     },
     "output_type": "execute_result"
    }
   ],
   "source": [
    "gc.plot_2d(alpha=False)"
   ]
  },
  {
   "cell_type": "code",
   "execution_count": 15,
   "metadata": {
    "execution": {
     "iopub.execute_input": "2025-03-15T01:09:30.833016Z",
     "iopub.status.busy": "2025-03-15T01:09:30.831441Z",
     "iopub.status.idle": "2025-03-15T01:09:30.841008Z",
     "shell.execute_reply": "2025-03-15T01:09:30.838990Z"
    }
   },
   "outputs": [],
   "source": [
    "scope.dis()\n",
    "target.dis()"
   ]
  },
  {
   "cell_type": "code",
   "execution_count": 16,
   "metadata": {
    "execution": {
     "iopub.execute_input": "2025-03-15T01:09:30.847045Z",
     "iopub.status.busy": "2025-03-15T01:09:30.846035Z",
     "iopub.status.idle": "2025-03-15T01:09:30.854081Z",
     "shell.execute_reply": "2025-03-15T01:09:30.852141Z"
    }
   },
   "outputs": [],
   "source": [
    "assert total_successes >= 1"
   ]
  }
 ],
 "metadata": {
  "kernelspec": {
   "display_name": "Python 3 (ipykernel)",
   "language": "python",
   "name": "python3"
  },
  "language_info": {
   "codemirror_mode": {
    "name": "ipython",
    "version": 3
   },
   "file_extension": ".py",
   "mimetype": "text/x-python",
   "name": "python",
   "nbconvert_exporter": "python",
   "pygments_lexer": "ipython3",
   "version": "3.10.2"
  },
  "widgets": {
   "application/vnd.jupyter.widget-state+json": {
    "state": {
     "0e9e51e2dcd04d94bb1b5fee78893401": {
      "model_module": "@jupyter-widgets/base",
      "model_module_version": "2.0.0",
      "model_name": "LayoutModel",
      "state": {
       "_model_module": "@jupyter-widgets/base",
       "_model_module_version": "2.0.0",
       "_model_name": "LayoutModel",
       "_view_count": null,
       "_view_module": "@jupyter-widgets/base",
       "_view_module_version": "2.0.0",
       "_view_name": "LayoutView",
       "align_content": null,
       "align_items": null,
       "align_self": null,
       "border_bottom": null,
       "border_left": null,
       "border_right": null,
       "border_top": null,
       "bottom": null,
       "display": null,
       "flex": null,
       "flex_flow": null,
       "grid_area": null,
       "grid_auto_columns": null,
       "grid_auto_flow": null,
       "grid_auto_rows": null,
       "grid_column": null,
       "grid_gap": null,
       "grid_row": null,
       "grid_template_areas": null,
       "grid_template_columns": null,
       "grid_template_rows": null,
       "height": null,
       "justify_content": null,
       "justify_items": null,
       "left": null,
       "margin": null,
       "max_height": null,
       "max_width": null,
       "min_height": null,
       "min_width": null,
       "object_fit": null,
       "object_position": null,
       "order": null,
       "overflow": null,
       "padding": null,
       "right": null,
       "top": null,
       "visibility": null,
       "width": null
      }
     },
     "117ee43e97c94647a345894ab662ad5b": {
      "model_module": "@jupyter-widgets/controls",
      "model_module_version": "2.0.0",
      "model_name": "IntTextModel",
      "state": {
       "_dom_classes": [],
       "_model_module": "@jupyter-widgets/controls",
       "_model_module_version": "2.0.0",
       "_model_name": "IntTextModel",
       "_view_count": null,
       "_view_module": "@jupyter-widgets/controls",
       "_view_module_version": "2.0.0",
       "_view_name": "IntTextView",
       "continuous_update": false,
       "description": "reset count:",
       "description_allow_html": false,
       "disabled": true,
       "layout": "IPY_MODEL_d73bc44606534628b3bd4f592a1672f0",
       "step": 1,
       "style": "IPY_MODEL_aa77c0a25ac7487c815c6842f1197625",
       "tabbable": null,
       "tooltip": null,
       "value": 600
      }
     },
     "1ed29ace19a54311907c8b81e84dc500": {
      "model_module": "@jupyter-widgets/controls",
      "model_module_version": "2.0.0",
      "model_name": "IntTextModel",
      "state": {
       "_dom_classes": [],
       "_model_module": "@jupyter-widgets/controls",
       "_model_module_version": "2.0.0",
       "_model_name": "IntTextModel",
       "_view_count": null,
       "_view_module": "@jupyter-widgets/controls",
       "_view_module_version": "2.0.0",
       "_view_name": "IntTextView",
       "continuous_update": false,
       "description": "success count:",
       "description_allow_html": false,
       "disabled": true,
       "layout": "IPY_MODEL_330981e2b5b34835a7d4f1cee9dd178a",
       "step": 1,
       "style": "IPY_MODEL_5ec371dc9e4248c39129d64e3ebc6dca",
       "tabbable": null,
       "tooltip": null,
       "value": 638
      }
     },
     "237d69e5ecc6492cb46953716bd78ebd": {
      "model_module": "@jupyter-widgets/controls",
      "model_module_version": "2.0.0",
      "model_name": "FloatSliderModel",
      "state": {
       "_dom_classes": [],
       "_model_module": "@jupyter-widgets/controls",
       "_model_module_version": "2.0.0",
       "_model_name": "FloatSliderModel",
       "_view_count": null,
       "_view_module": "@jupyter-widgets/controls",
       "_view_module_version": "2.0.0",
       "_view_name": "FloatSliderView",
       "behavior": "drag-tap",
       "continuous_update": false,
       "description": "width setting:",
       "description_allow_html": false,
       "disabled": true,
       "layout": "IPY_MODEL_73bfa433b21941dfb61107eee297e614",
       "max": 47.8,
       "min": 43.5,
       "orientation": "horizontal",
       "readout": true,
       "readout_format": ".01f",
       "step": 0.01,
       "style": "IPY_MODEL_5dcbab93ed944ecdb0d20325a4f4128c",
       "tabbable": null,
       "tooltip": null,
       "value": 43.5
      }
     },
     "330981e2b5b34835a7d4f1cee9dd178a": {
      "model_module": "@jupyter-widgets/base",
      "model_module_version": "2.0.0",
      "model_name": "LayoutModel",
      "state": {
       "_model_module": "@jupyter-widgets/base",
       "_model_module_version": "2.0.0",
       "_model_name": "LayoutModel",
       "_view_count": null,
       "_view_module": "@jupyter-widgets/base",
       "_view_module_version": "2.0.0",
       "_view_name": "LayoutView",
       "align_content": null,
       "align_items": null,
       "align_self": null,
       "border_bottom": null,
       "border_left": null,
       "border_right": null,
       "border_top": null,
       "bottom": null,
       "display": null,
       "flex": null,
       "flex_flow": null,
       "grid_area": null,
       "grid_auto_columns": null,
       "grid_auto_flow": null,
       "grid_auto_rows": null,
       "grid_column": null,
       "grid_gap": null,
       "grid_row": null,
       "grid_template_areas": null,
       "grid_template_columns": null,
       "grid_template_rows": null,
       "height": null,
       "justify_content": null,
       "justify_items": null,
       "left": null,
       "margin": null,
       "max_height": null,
       "max_width": null,
       "min_height": null,
       "min_width": null,
       "object_fit": null,
       "object_position": null,
       "order": null,
       "overflow": null,
       "padding": null,
       "right": null,
       "top": null,
       "visibility": null,
       "width": null
      }
     },
     "39a3e241fcdc4909a44249cd19e94623": {
      "model_module": "@jupyter-widgets/controls",
      "model_module_version": "2.0.0",
      "model_name": "SliderStyleModel",
      "state": {
       "_model_module": "@jupyter-widgets/controls",
       "_model_module_version": "2.0.0",
       "_model_name": "SliderStyleModel",
       "_view_count": null,
       "_view_module": "@jupyter-widgets/base",
       "_view_module_version": "2.0.0",
       "_view_name": "StyleView",
       "description_width": "",
       "handle_color": null
      }
     },
     "3c8688cec62d47ccb1e1c8e939a3ff1a": {
      "model_module": "@jupyter-widgets/controls",
      "model_module_version": "2.0.0",
      "model_name": "SliderStyleModel",
      "state": {
       "_model_module": "@jupyter-widgets/controls",
       "_model_module_version": "2.0.0",
       "_model_name": "SliderStyleModel",
       "_view_count": null,
       "_view_module": "@jupyter-widgets/base",
       "_view_module_version": "2.0.0",
       "_view_name": "StyleView",
       "description_width": "",
       "handle_color": null
      }
     },
     "53a419870e474c8196dc735906a62906": {
      "model_module": "@jupyter-widgets/controls",
      "model_module_version": "2.0.0",
      "model_name": "SliderStyleModel",
      "state": {
       "_model_module": "@jupyter-widgets/controls",
       "_model_module_version": "2.0.0",
       "_model_name": "SliderStyleModel",
       "_view_count": null,
       "_view_module": "@jupyter-widgets/base",
       "_view_module_version": "2.0.0",
       "_view_name": "StyleView",
       "description_width": "",
       "handle_color": null
      }
     },
     "59b93bb6dcd0491f8839476662bbcd8b": {
      "model_module": "@jupyter-widgets/controls",
      "model_module_version": "2.0.0",
      "model_name": "DescriptionStyleModel",
      "state": {
       "_model_module": "@jupyter-widgets/controls",
       "_model_module_version": "2.0.0",
       "_model_name": "DescriptionStyleModel",
       "_view_count": null,
       "_view_module": "@jupyter-widgets/base",
       "_view_module_version": "2.0.0",
       "_view_name": "StyleView",
       "description_width": ""
      }
     },
     "5dcbab93ed944ecdb0d20325a4f4128c": {
      "model_module": "@jupyter-widgets/controls",
      "model_module_version": "2.0.0",
      "model_name": "SliderStyleModel",
      "state": {
       "_model_module": "@jupyter-widgets/controls",
       "_model_module_version": "2.0.0",
       "_model_name": "SliderStyleModel",
       "_view_count": null,
       "_view_module": "@jupyter-widgets/base",
       "_view_module_version": "2.0.0",
       "_view_name": "StyleView",
       "description_width": "",
       "handle_color": null
      }
     },
     "5ec371dc9e4248c39129d64e3ebc6dca": {
      "model_module": "@jupyter-widgets/controls",
      "model_module_version": "2.0.0",
      "model_name": "DescriptionStyleModel",
      "state": {
       "_model_module": "@jupyter-widgets/controls",
       "_model_module_version": "2.0.0",
       "_model_name": "DescriptionStyleModel",
       "_view_count": null,
       "_view_module": "@jupyter-widgets/base",
       "_view_module_version": "2.0.0",
       "_view_name": "StyleView",
       "description_width": ""
      }
     },
     "6d2622704aba4f718e35454f9800c54c": {
      "model_module": "@jupyter-widgets/controls",
      "model_module_version": "2.0.0",
      "model_name": "FloatSliderModel",
      "state": {
       "_dom_classes": [],
       "_model_module": "@jupyter-widgets/controls",
       "_model_module_version": "2.0.0",
       "_model_name": "FloatSliderModel",
       "_view_count": null,
       "_view_module": "@jupyter-widgets/controls",
       "_view_module_version": "2.0.0",
       "_view_name": "FloatSliderView",
       "behavior": "drag-tap",
       "continuous_update": false,
       "description": "ext_offset setting:",
       "description_allow_html": false,
       "disabled": true,
       "layout": "IPY_MODEL_6f8cb43f097d43d8bdb872f776991393",
       "max": 10.0,
       "min": 7.0,
       "orientation": "horizontal",
       "readout": true,
       "readout_format": ".01f",
       "step": 0.01,
       "style": "IPY_MODEL_53a419870e474c8196dc735906a62906",
       "tabbable": null,
       "tooltip": null,
       "value": 7.0
      }
     },
     "6f8cb43f097d43d8bdb872f776991393": {
      "model_module": "@jupyter-widgets/base",
      "model_module_version": "2.0.0",
      "model_name": "LayoutModel",
      "state": {
       "_model_module": "@jupyter-widgets/base",
       "_model_module_version": "2.0.0",
       "_model_name": "LayoutModel",
       "_view_count": null,
       "_view_module": "@jupyter-widgets/base",
       "_view_module_version": "2.0.0",
       "_view_name": "LayoutView",
       "align_content": null,
       "align_items": null,
       "align_self": null,
       "border_bottom": null,
       "border_left": null,
       "border_right": null,
       "border_top": null,
       "bottom": null,
       "display": null,
       "flex": null,
       "flex_flow": null,
       "grid_area": null,
       "grid_auto_columns": null,
       "grid_auto_flow": null,
       "grid_auto_rows": null,
       "grid_column": null,
       "grid_gap": null,
       "grid_row": null,
       "grid_template_areas": null,
       "grid_template_columns": null,
       "grid_template_rows": null,
       "height": null,
       "justify_content": null,
       "justify_items": null,
       "left": null,
       "margin": null,
       "max_height": null,
       "max_width": null,
       "min_height": null,
       "min_width": null,
       "object_fit": null,
       "object_position": null,
       "order": null,
       "overflow": null,
       "padding": null,
       "right": null,
       "top": null,
       "visibility": null,
       "width": null
      }
     },
     "73bfa433b21941dfb61107eee297e614": {
      "model_module": "@jupyter-widgets/base",
      "model_module_version": "2.0.0",
      "model_name": "LayoutModel",
      "state": {
       "_model_module": "@jupyter-widgets/base",
       "_model_module_version": "2.0.0",
       "_model_name": "LayoutModel",
       "_view_count": null,
       "_view_module": "@jupyter-widgets/base",
       "_view_module_version": "2.0.0",
       "_view_name": "LayoutView",
       "align_content": null,
       "align_items": null,
       "align_self": null,
       "border_bottom": null,
       "border_left": null,
       "border_right": null,
       "border_top": null,
       "bottom": null,
       "display": null,
       "flex": null,
       "flex_flow": null,
       "grid_area": null,
       "grid_auto_columns": null,
       "grid_auto_flow": null,
       "grid_auto_rows": null,
       "grid_column": null,
       "grid_gap": null,
       "grid_row": null,
       "grid_template_areas": null,
       "grid_template_columns": null,
       "grid_template_rows": null,
       "height": null,
       "justify_content": null,
       "justify_items": null,
       "left": null,
       "margin": null,
       "max_height": null,
       "max_width": null,
       "min_height": null,
       "min_width": null,
       "object_fit": null,
       "object_position": null,
       "order": null,
       "overflow": null,
       "padding": null,
       "right": null,
       "top": null,
       "visibility": null,
       "width": null
      }
     },
     "81831a68be4d4b2485608da99b722608": {
      "model_module": "@jupyter-widgets/base",
      "model_module_version": "2.0.0",
      "model_name": "LayoutModel",
      "state": {
       "_model_module": "@jupyter-widgets/base",
       "_model_module_version": "2.0.0",
       "_model_name": "LayoutModel",
       "_view_count": null,
       "_view_module": "@jupyter-widgets/base",
       "_view_module_version": "2.0.0",
       "_view_name": "LayoutView",
       "align_content": null,
       "align_items": null,
       "align_self": null,
       "border_bottom": null,
       "border_left": null,
       "border_right": null,
       "border_top": null,
       "bottom": null,
       "display": null,
       "flex": null,
       "flex_flow": null,
       "grid_area": null,
       "grid_auto_columns": null,
       "grid_auto_flow": null,
       "grid_auto_rows": null,
       "grid_column": null,
       "grid_gap": null,
       "grid_row": null,
       "grid_template_areas": null,
       "grid_template_columns": null,
       "grid_template_rows": null,
       "height": null,
       "justify_content": null,
       "justify_items": null,
       "left": null,
       "margin": null,
       "max_height": null,
       "max_width": null,
       "min_height": null,
       "min_width": null,
       "object_fit": null,
       "object_position": null,
       "order": null,
       "overflow": null,
       "padding": null,
       "right": null,
       "top": null,
       "visibility": null,
       "width": null
      }
     },
     "8e499d2c73454f9d915666dadd980122": {
      "model_module": "@jupyter-widgets/controls",
      "model_module_version": "2.0.0",
      "model_name": "IntTextModel",
      "state": {
       "_dom_classes": [],
       "_model_module": "@jupyter-widgets/controls",
       "_model_module_version": "2.0.0",
       "_model_name": "IntTextModel",
       "_view_count": null,
       "_view_module": "@jupyter-widgets/controls",
       "_view_module_version": "2.0.0",
       "_view_name": "IntTextView",
       "continuous_update": false,
       "description": "normal count:",
       "description_allow_html": false,
       "disabled": true,
       "layout": "IPY_MODEL_0e9e51e2dcd04d94bb1b5fee78893401",
       "step": 1,
       "style": "IPY_MODEL_59b93bb6dcd0491f8839476662bbcd8b",
       "tabbable": null,
       "tooltip": null,
       "value": 2986
      }
     },
     "aa77c0a25ac7487c815c6842f1197625": {
      "model_module": "@jupyter-widgets/controls",
      "model_module_version": "2.0.0",
      "model_name": "DescriptionStyleModel",
      "state": {
       "_model_module": "@jupyter-widgets/controls",
       "_model_module_version": "2.0.0",
       "_model_name": "DescriptionStyleModel",
       "_view_count": null,
       "_view_module": "@jupyter-widgets/base",
       "_view_module_version": "2.0.0",
       "_view_name": "StyleView",
       "description_width": ""
      }
     },
     "bc2646d5f4ee48a0aff367ce91fd56fd": {
      "model_module": "@jupyter-widgets/controls",
      "model_module_version": "2.0.0",
      "model_name": "FloatSliderModel",
      "state": {
       "_dom_classes": [],
       "_model_module": "@jupyter-widgets/controls",
       "_model_module_version": "2.0.0",
       "_model_name": "FloatSliderModel",
       "_view_count": null,
       "_view_module": "@jupyter-widgets/controls",
       "_view_module_version": "2.0.0",
       "_view_name": "FloatSliderView",
       "behavior": "drag-tap",
       "continuous_update": false,
       "description": "tries setting:",
       "description_allow_html": false,
       "disabled": true,
       "layout": "IPY_MODEL_81831a68be4d4b2485608da99b722608",
       "max": 1.0,
       "min": 1.0,
       "orientation": "horizontal",
       "readout": true,
       "readout_format": ".01f",
       "step": 0.01,
       "style": "IPY_MODEL_39a3e241fcdc4909a44249cd19e94623",
       "tabbable": null,
       "tooltip": null,
       "value": 1.0
      }
     },
     "d303ad3c3c7e49aeabdd07b3491f2112": {
      "model_module": "@jupyter-widgets/base",
      "model_module_version": "2.0.0",
      "model_name": "LayoutModel",
      "state": {
       "_model_module": "@jupyter-widgets/base",
       "_model_module_version": "2.0.0",
       "_model_name": "LayoutModel",
       "_view_count": null,
       "_view_module": "@jupyter-widgets/base",
       "_view_module_version": "2.0.0",
       "_view_name": "LayoutView",
       "align_content": null,
       "align_items": null,
       "align_self": null,
       "border_bottom": null,
       "border_left": null,
       "border_right": null,
       "border_top": null,
       "bottom": null,
       "display": null,
       "flex": null,
       "flex_flow": null,
       "grid_area": null,
       "grid_auto_columns": null,
       "grid_auto_flow": null,
       "grid_auto_rows": null,
       "grid_column": null,
       "grid_gap": null,
       "grid_row": null,
       "grid_template_areas": null,
       "grid_template_columns": null,
       "grid_template_rows": null,
       "height": null,
       "justify_content": null,
       "justify_items": null,
       "left": null,
       "margin": null,
       "max_height": null,
       "max_width": null,
       "min_height": null,
       "min_width": null,
       "object_fit": null,
       "object_position": null,
       "order": null,
       "overflow": null,
       "padding": null,
       "right": null,
       "top": null,
       "visibility": null,
       "width": null
      }
     },
     "d73bc44606534628b3bd4f592a1672f0": {
      "model_module": "@jupyter-widgets/base",
      "model_module_version": "2.0.0",
      "model_name": "LayoutModel",
      "state": {
       "_model_module": "@jupyter-widgets/base",
       "_model_module_version": "2.0.0",
       "_model_name": "LayoutModel",
       "_view_count": null,
       "_view_module": "@jupyter-widgets/base",
       "_view_module_version": "2.0.0",
       "_view_name": "LayoutView",
       "align_content": null,
       "align_items": null,
       "align_self": null,
       "border_bottom": null,
       "border_left": null,
       "border_right": null,
       "border_top": null,
       "bottom": null,
       "display": null,
       "flex": null,
       "flex_flow": null,
       "grid_area": null,
       "grid_auto_columns": null,
       "grid_auto_flow": null,
       "grid_auto_rows": null,
       "grid_column": null,
       "grid_gap": null,
       "grid_row": null,
       "grid_template_areas": null,
       "grid_template_columns": null,
       "grid_template_rows": null,
       "height": null,
       "justify_content": null,
       "justify_items": null,
       "left": null,
       "margin": null,
       "max_height": null,
       "max_width": null,
       "min_height": null,
       "min_width": null,
       "object_fit": null,
       "object_position": null,
       "order": null,
       "overflow": null,
       "padding": null,
       "right": null,
       "top": null,
       "visibility": null,
       "width": null
      }
     },
     "f882fcdee4884ff8b2f9e1c15b31d860": {
      "model_module": "@jupyter-widgets/controls",
      "model_module_version": "2.0.0",
      "model_name": "FloatSliderModel",
      "state": {
       "_dom_classes": [],
       "_model_module": "@jupyter-widgets/controls",
       "_model_module_version": "2.0.0",
       "_model_name": "FloatSliderModel",
       "_view_count": null,
       "_view_module": "@jupyter-widgets/controls",
       "_view_module_version": "2.0.0",
       "_view_name": "FloatSliderView",
       "behavior": "drag-tap",
       "continuous_update": false,
       "description": "offset setting:",
       "description_allow_html": false,
       "disabled": true,
       "layout": "IPY_MODEL_d303ad3c3c7e49aeabdd07b3491f2112",
       "max": -10.0,
       "min": -48.0,
       "orientation": "horizontal",
       "readout": true,
       "readout_format": ".01f",
       "step": 0.01,
       "style": "IPY_MODEL_3c8688cec62d47ccb1e1c8e939a3ff1a",
       "tabbable": null,
       "tooltip": null,
       "value": -48.0
      }
     }
    },
    "version_major": 2,
    "version_minor": 0
   }
  }
 },
 "nbformat": 4,
 "nbformat_minor": 4
}
