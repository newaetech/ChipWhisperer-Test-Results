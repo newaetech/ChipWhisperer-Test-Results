{
 "cells": [
  {
   "cell_type": "code",
   "execution_count": 1,
   "id": "893a37cb",
   "metadata": {
    "execution": {
     "iopub.execute_input": "2025-03-20T01:54:18.555383Z",
     "iopub.status.busy": "2025-03-20T01:54:18.553882Z",
     "iopub.status.idle": "2025-03-20T01:54:18.576200Z",
     "shell.execute_reply": "2025-03-20T01:54:18.574070Z"
    }
   },
   "outputs": [],
   "source": [
    "LONG_TEST='No'\n",
    "\n",
    "CRYPTO_TARGET = 'TINYAES128C'\n",
    "allowable_exceptions = None\n",
    "PLATFORM = 'CW308_SAM4S'\n",
    "SCOPETYPE = 'OPENADC'\n",
    "SS_VER = 'SS_VER_2_1'\n",
    "VERSION = 'HARDWARE'\n"
   ]
  },
  {
   "cell_type": "code",
   "execution_count": 2,
   "id": "0666783d",
   "metadata": {
    "execution": {
     "iopub.execute_input": "2025-03-20T01:54:18.582583Z",
     "iopub.status.busy": "2025-03-20T01:54:18.581587Z",
     "iopub.status.idle": "2025-03-20T01:54:27.696178Z",
     "shell.execute_reply": "2025-03-20T01:54:27.693970Z"
    },
    "scrolled": true
   },
   "outputs": [
    {
     "name": "stdout",
     "output_type": "stream",
     "text": [
      "scope.gain.gain                          changed from 0                         to 22                       \n",
      "scope.gain.db                            changed from 15.0                      to 25.091743119266056       \n",
      "scope.adc.samples                        changed from 131124                    to 5000                     \n",
      "scope.clock.clkgen_freq                  changed from 0                         to 7363636.363636363        \n",
      "scope.clock.adc_freq                     changed from 0                         to 29454545.454545453       \n",
      "scope.io.tio1                            changed from serial_tx                 to serial_rx                \n",
      "scope.io.tio2                            changed from serial_rx                 to serial_tx                \n",
      "scope.io.hs2                             changed from None                      to clkgen                   \n",
      "scope.glitch.phase_shift_steps           changed from 0                         to 4592                     \n",
      "scope.trace.capture.trigger_source       changed from trace trigger, rule #0    to firmware trigger         \n"
     ]
    },
    {
     "data": {
      "text/plain": [
       "True"
      ]
     },
     "execution_count": 2,
     "metadata": {},
     "output_type": "execute_result"
    }
   ],
   "source": [
    "import os\n",
    "import chipwhisperer as cw\n",
    "import time\n",
    "import pytest\n",
    "test_args = [\"pytest\", \"-v\", \"-rs\", \"../../tests/test_husky.py\", \"-k\", \"not trace\"]\n",
    "if LONG_TEST != \"No\":\n",
    "    test_args.append(\"--fulltest\")\n",
    "scope = cw.scope(hw_location=(5, 8))\n",
    "env = dict(os.environ)\n",
    "env[\"HUSKY_HW_LOC\"] = str(scope._getNAEUSB().hw_location())\n",
    "env[\"HUSKY_TARGET_PLATFORM\"] = \"sam4s\"\n",
    "#target = cw.target(scope)\n",
    "scope.default_setup()\n",
    "time.sleep(0.25)\n",
    "#cw.naeusb_logger.setLevel(cw.logging.DEBUG)\n",
    "cw.program_target(scope, cw.programmers.SAM4SProgrammer, \"../../firmware/mcu/simpleserial-trace/simpleserial-trace-CW308_SAM4S.hex\")\n",
    "scope.dis()"
   ]
  },
  {
   "cell_type": "code",
   "execution_count": 3,
   "id": "f937c0de",
   "metadata": {
    "execution": {
     "iopub.execute_input": "2025-03-20T01:54:27.702410Z",
     "iopub.status.busy": "2025-03-20T01:54:27.701622Z",
     "iopub.status.idle": "2025-03-20T01:54:28.765786Z",
     "shell.execute_reply": "2025-03-20T01:54:28.764571Z"
    }
   },
   "outputs": [],
   "source": [
    "import subprocess\n",
    "result = subprocess.run(test_args, capture_output=True, env=env)"
   ]
  },
  {
   "cell_type": "code",
   "execution_count": 4,
   "id": "d43cdbab",
   "metadata": {
    "execution": {
     "iopub.execute_input": "2025-03-20T01:54:28.769374Z",
     "iopub.status.busy": "2025-03-20T01:54:28.768941Z",
     "iopub.status.idle": "2025-03-20T01:54:28.774955Z",
     "shell.execute_reply": "2025-03-20T01:54:28.773825Z"
    }
   },
   "outputs": [
    {
     "name": "stdout",
     "output_type": "stream",
     "text": [
      "\u001b[1m============================= test session starts ==============================\u001b[0m\n",
      "platform linux -- Python 3.10.2, pytest-8.3.5, pluggy-1.5.0 -- /home/testserveradmin/.pyenv/versions/cwtests/bin/python\n",
      "cachedir: .pytest_cache\n",
      "rootdir: /home/testserveradmin/chipwhisperer/tests\n",
      "configfile: pytest.ini\n",
      "plugins: anyio-4.9.0\n",
      "\u001b[1mcollecting ... \u001b[0mcollected 1 item\n",
      "\n",
      "../../tests/test_husky.py::test_deprecated \u001b[31mFAILED\u001b[0m\n",
      "\n",
      "=================================== FAILURES ===================================\n",
      "\u001b[31m\u001b[1m_______________________________ test_deprecated ________________________________\u001b[0m\n",
      "\u001b[1m\u001b[31m../../tests/test_husky.py\u001b[0m:2: in test_deprecated\n",
      "    \u001b[0m\u001b[94massert\u001b[39;49;00m \u001b[94mFalse\u001b[39;49;00m, \u001b[33m\"\u001b[39;49;00m\u001b[33mThis test is deprecated: use test_husky_prod.py for production testing or test_husky_dev.py for development testing.\u001b[39;49;00m\u001b[33m\"\u001b[39;49;00m\u001b[90m\u001b[39;49;00m\n",
      "\u001b[1m\u001b[31mE   AssertionError: This test is deprecated: use test_husky_prod.py for production testing or test_husky_dev.py for development testing.\u001b[0m\n",
      "\u001b[1m\u001b[31mE   assert False\u001b[0m\n",
      "\u001b[31m============================== \u001b[31m\u001b[1m1 failed\u001b[0m\u001b[31m in 0.14s\u001b[0m\u001b[31m ===============================\u001b[0m\n",
      "\n"
     ]
    }
   ],
   "source": [
    "print(result.stdout.decode().replace(r\"\\n\", \"\\n\"))"
   ]
  },
  {
   "cell_type": "code",
   "execution_count": 5,
   "id": "c7c5a01f",
   "metadata": {
    "execution": {
     "iopub.execute_input": "2025-03-20T01:54:28.778255Z",
     "iopub.status.busy": "2025-03-20T01:54:28.777677Z",
     "iopub.status.idle": "2025-03-20T01:54:29.603605Z",
     "shell.execute_reply": "2025-03-20T01:54:29.602411Z"
    }
   },
   "outputs": [
    {
     "ename": "AssertionError",
     "evalue": "",
     "output_type": "error",
     "traceback": [
      "---------------------------------------------------------------------------",
      "AssertionError                            Traceback (most recent call last)",
      "Cell In[5], line 1\n----> 1 assert result.returncode == 0\n",
      "AssertionError: "
     ]
    }
   ],
   "source": [
    "assert result.returncode == 0"
   ]
  },
  {
   "cell_type": "code",
   "execution_count": null,
   "id": "6f10e727",
   "metadata": {},
   "outputs": [],
   "source": []
  }
 ],
 "metadata": {
  "kernelspec": {
   "display_name": "Python 3 (ipykernel)",
   "language": "python",
   "name": "python3"
  },
  "language_info": {
   "codemirror_mode": {
    "name": "ipython",
    "version": 3
   },
   "file_extension": ".py",
   "mimetype": "text/x-python",
   "name": "python",
   "nbconvert_exporter": "python",
   "pygments_lexer": "ipython3",
   "version": "3.10.2"
  }
 },
 "nbformat": 4,
 "nbformat_minor": 5
}
